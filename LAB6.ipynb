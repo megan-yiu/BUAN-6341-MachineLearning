{
 "cells": [
  {
   "cell_type": "code",
   "execution_count": 327,
   "id": "purple-nirvana",
   "metadata": {},
   "outputs": [],
   "source": [
    "import pandas as pd\n",
    "import numpy as np\n",
    "from sklearn.model_selection import GridSearchCV"
   ]
  },
  {
   "cell_type": "code",
   "execution_count": 328,
   "id": "organic-explosion",
   "metadata": {},
   "outputs": [],
   "source": [
    "dfa = pd.read_csv(\"parta.csv\")"
   ]
  },
  {
   "cell_type": "code",
   "execution_count": 329,
   "id": "accepting-convention",
   "metadata": {},
   "outputs": [
    {
     "data": {
      "text/html": [
       "<div>\n",
       "<style scoped>\n",
       "    .dataframe tbody tr th:only-of-type {\n",
       "        vertical-align: middle;\n",
       "    }\n",
       "\n",
       "    .dataframe tbody tr th {\n",
       "        vertical-align: top;\n",
       "    }\n",
       "\n",
       "    .dataframe thead th {\n",
       "        text-align: right;\n",
       "    }\n",
       "</style>\n",
       "<table border=\"1\" class=\"dataframe\">\n",
       "  <thead>\n",
       "    <tr style=\"text-align: right;\">\n",
       "      <th></th>\n",
       "      <th>age</th>\n",
       "      <th>education</th>\n",
       "      <th>housing</th>\n",
       "      <th>loan</th>\n",
       "      <th>contact</th>\n",
       "      <th>duration</th>\n",
       "      <th>campaign</th>\n",
       "      <th>pdays</th>\n",
       "      <th>previous</th>\n",
       "      <th>y</th>\n",
       "      <th>...</th>\n",
       "      <th>job_unknown</th>\n",
       "      <th>marital_divorced</th>\n",
       "      <th>marital_married</th>\n",
       "      <th>marital_single</th>\n",
       "      <th>marital_unknown</th>\n",
       "      <th>default_no</th>\n",
       "      <th>default_unknown</th>\n",
       "      <th>poutcome_failure</th>\n",
       "      <th>poutcome_nonexistent</th>\n",
       "      <th>poutcome_success</th>\n",
       "    </tr>\n",
       "  </thead>\n",
       "  <tbody>\n",
       "    <tr>\n",
       "      <th>0</th>\n",
       "      <td>40.149846</td>\n",
       "      <td>1</td>\n",
       "      <td>0</td>\n",
       "      <td>0</td>\n",
       "      <td>1</td>\n",
       "      <td>105.0</td>\n",
       "      <td>1</td>\n",
       "      <td>1</td>\n",
       "      <td>0</td>\n",
       "      <td>no</td>\n",
       "      <td>...</td>\n",
       "      <td>0</td>\n",
       "      <td>0</td>\n",
       "      <td>1</td>\n",
       "      <td>0</td>\n",
       "      <td>0</td>\n",
       "      <td>0</td>\n",
       "      <td>1</td>\n",
       "      <td>0</td>\n",
       "      <td>1</td>\n",
       "      <td>0</td>\n",
       "    </tr>\n",
       "    <tr>\n",
       "      <th>1</th>\n",
       "      <td>36.000000</td>\n",
       "      <td>2</td>\n",
       "      <td>1</td>\n",
       "      <td>1</td>\n",
       "      <td>1</td>\n",
       "      <td>125.0</td>\n",
       "      <td>5</td>\n",
       "      <td>1</td>\n",
       "      <td>0</td>\n",
       "      <td>no</td>\n",
       "      <td>...</td>\n",
       "      <td>0</td>\n",
       "      <td>0</td>\n",
       "      <td>1</td>\n",
       "      <td>0</td>\n",
       "      <td>0</td>\n",
       "      <td>1</td>\n",
       "      <td>0</td>\n",
       "      <td>0</td>\n",
       "      <td>1</td>\n",
       "      <td>0</td>\n",
       "    </tr>\n",
       "    <tr>\n",
       "      <th>2</th>\n",
       "      <td>40.149846</td>\n",
       "      <td>4</td>\n",
       "      <td>0</td>\n",
       "      <td>0</td>\n",
       "      <td>0</td>\n",
       "      <td>111.0</td>\n",
       "      <td>1</td>\n",
       "      <td>1</td>\n",
       "      <td>0</td>\n",
       "      <td>no</td>\n",
       "      <td>...</td>\n",
       "      <td>0</td>\n",
       "      <td>0</td>\n",
       "      <td>0</td>\n",
       "      <td>1</td>\n",
       "      <td>0</td>\n",
       "      <td>1</td>\n",
       "      <td>0</td>\n",
       "      <td>0</td>\n",
       "      <td>1</td>\n",
       "      <td>0</td>\n",
       "    </tr>\n",
       "    <tr>\n",
       "      <th>3</th>\n",
       "      <td>39.000000</td>\n",
       "      <td>2</td>\n",
       "      <td>0</td>\n",
       "      <td>1</td>\n",
       "      <td>1</td>\n",
       "      <td>173.0</td>\n",
       "      <td>2</td>\n",
       "      <td>1</td>\n",
       "      <td>0</td>\n",
       "      <td>no</td>\n",
       "      <td>...</td>\n",
       "      <td>0</td>\n",
       "      <td>0</td>\n",
       "      <td>1</td>\n",
       "      <td>0</td>\n",
       "      <td>0</td>\n",
       "      <td>0</td>\n",
       "      <td>1</td>\n",
       "      <td>0</td>\n",
       "      <td>1</td>\n",
       "      <td>0</td>\n",
       "    </tr>\n",
       "    <tr>\n",
       "      <th>4</th>\n",
       "      <td>41.000000</td>\n",
       "      <td>1</td>\n",
       "      <td>0</td>\n",
       "      <td>1</td>\n",
       "      <td>1</td>\n",
       "      <td>107.0</td>\n",
       "      <td>1</td>\n",
       "      <td>1</td>\n",
       "      <td>0</td>\n",
       "      <td>no</td>\n",
       "      <td>...</td>\n",
       "      <td>0</td>\n",
       "      <td>0</td>\n",
       "      <td>1</td>\n",
       "      <td>0</td>\n",
       "      <td>0</td>\n",
       "      <td>0</td>\n",
       "      <td>1</td>\n",
       "      <td>0</td>\n",
       "      <td>1</td>\n",
       "      <td>0</td>\n",
       "    </tr>\n",
       "  </tbody>\n",
       "</table>\n",
       "<p>5 rows × 31 columns</p>\n",
       "</div>"
      ],
      "text/plain": [
       "         age  education  housing  loan  contact  duration  campaign  pdays  \\\n",
       "0  40.149846          1        0     0        1     105.0         1      1   \n",
       "1  36.000000          2        1     1        1     125.0         5      1   \n",
       "2  40.149846          4        0     0        0     111.0         1      1   \n",
       "3  39.000000          2        0     1        1     173.0         2      1   \n",
       "4  41.000000          1        0     1        1     107.0         1      1   \n",
       "\n",
       "   previous   y  ...  job_unknown  marital_divorced  marital_married  \\\n",
       "0         0  no  ...            0                 0                1   \n",
       "1         0  no  ...            0                 0                1   \n",
       "2         0  no  ...            0                 0                0   \n",
       "3         0  no  ...            0                 0                1   \n",
       "4         0  no  ...            0                 0                1   \n",
       "\n",
       "   marital_single  marital_unknown  default_no  default_unknown  \\\n",
       "0               0                0           0                1   \n",
       "1               0                0           1                0   \n",
       "2               1                0           1                0   \n",
       "3               0                0           0                1   \n",
       "4               0                0           0                1   \n",
       "\n",
       "   poutcome_failure  poutcome_nonexistent  poutcome_success  \n",
       "0                 0                     1                 0  \n",
       "1                 0                     1                 0  \n",
       "2                 0                     1                 0  \n",
       "3                 0                     1                 0  \n",
       "4                 0                     1                 0  \n",
       "\n",
       "[5 rows x 31 columns]"
      ]
     },
     "execution_count": 329,
     "metadata": {},
     "output_type": "execute_result"
    }
   ],
   "source": [
    "dfa.head()"
   ]
  },
  {
   "cell_type": "code",
   "execution_count": 330,
   "id": "removed-planet",
   "metadata": {},
   "outputs": [],
   "source": [
    "dfb = pd.read_csv(\"partb.csv\")"
   ]
  },
  {
   "cell_type": "markdown",
   "id": "elegant-royal",
   "metadata": {},
   "source": [
    "## PART B"
   ]
  },
  {
   "cell_type": "code",
   "execution_count": 331,
   "id": "ready-individual",
   "metadata": {},
   "outputs": [],
   "source": [
    "# Reg - Part b"
   ]
  },
  {
   "cell_type": "code",
   "execution_count": 352,
   "id": "valued-bullet",
   "metadata": {},
   "outputs": [],
   "source": [
    "from sklearn.model_selection import train_test_split\n",
    "from sklearn.preprocessing import StandardScaler\n",
    "\n",
    "X = dfb.drop(['Salary'], axis=1)\n",
    "y = dfb['Salary']\n",
    "\n",
    "X_train_sal, X_test_sal, y_train, y_test = train_test_split(X, y, random_state = 0)"
   ]
  },
  {
   "cell_type": "code",
   "execution_count": 353,
   "id": "partial-plate",
   "metadata": {},
   "outputs": [],
   "source": [
    "scaler = StandardScaler()"
   ]
  },
  {
   "cell_type": "code",
   "execution_count": 354,
   "id": "gross-upper",
   "metadata": {},
   "outputs": [],
   "source": [
    "X_train = scaler.fit_transform(X_train_sal)\n",
    "X_test = scaler.transform(X_test_sal)"
   ]
  },
  {
   "cell_type": "code",
   "execution_count": 355,
   "id": "about-israel",
   "metadata": {},
   "outputs": [],
   "source": [
    "y_train = y_train.to_numpy()\n",
    "y_test = y_test.to_numpy()"
   ]
  },
  {
   "cell_type": "markdown",
   "id": "promising-provider",
   "metadata": {},
   "source": [
    "### Q15 - Create a bagging ensemble with DecisionTreeRegressor with max_depth = 3 as a base model. Use a GridSearchCV with cv = 5 to train the bagging regressor with the following grid parameters:\n",
    "\n",
    "- 'max_features': [0.1, 0.2, 0.5, 1]\n",
    "- 'n_estimators':[100, 200, 300, 500]\n",
    "- 'max_samples':[0.1, 0.5, 1]. \n",
    "\n",
    "Use this model to answer the next 3 questions. What is the best value of hyperparameter max_features?"
   ]
  },
  {
   "cell_type": "code",
   "execution_count": 334,
   "id": "swiss-favor",
   "metadata": {},
   "outputs": [
    {
     "data": {
      "text/plain": [
       "GridSearchCV(cv=5,\n",
       "             estimator=BaggingRegressor(base_estimator=DecisionTreeRegressor(max_depth=3,\n",
       "                                                                             random_state=0),\n",
       "                                        random_state=0),\n",
       "             n_jobs=-1,\n",
       "             param_grid={'max_features': [0.1, 0.2, 0.5, 1],\n",
       "                         'max_samples': [0.1, 0.5, 1],\n",
       "                         'n_estimators': [100, 200, 300, 500]})"
      ]
     },
     "execution_count": 334,
     "metadata": {},
     "output_type": "execute_result"
    }
   ],
   "source": [
    "from sklearn.model_selection import GridSearchCV\n",
    "from sklearn.tree import DecisionTreeRegressor\n",
    "from sklearn.ensemble import BaggingRegressor\n",
    "\n",
    "param_grid = {'max_features':[0.1, 0.2, 0.5, 1],\n",
    "              'n_estimators':[100, 200, 300, 500],\n",
    "              'max_samples':[0.1, 0.5, 1]}\n",
    "\n",
    "bag_clf = BaggingRegressor(DecisionTreeRegressor(max_depth = 3, random_state = 0), random_state=0)\n",
    "bag_grid = GridSearchCV(bag_clf, param_grid = param_grid, cv = 5, n_jobs = -1)\n",
    "bag_grid.fit(X_train, y_train)"
   ]
  },
  {
   "cell_type": "code",
   "execution_count": 335,
   "id": "expressed-exclusive",
   "metadata": {},
   "outputs": [
    {
     "data": {
      "text/plain": [
       "{'max_features': 0.5, 'max_samples': 0.5, 'n_estimators': 200}"
      ]
     },
     "execution_count": 335,
     "metadata": {},
     "output_type": "execute_result"
    }
   ],
   "source": [
    "bag_grid.best_params_"
   ]
  },
  {
   "cell_type": "code",
   "execution_count": 336,
   "id": "senior-savage",
   "metadata": {},
   "outputs": [],
   "source": [
    "bag_grida = bag_grid.best_score_"
   ]
  },
  {
   "cell_type": "code",
   "execution_count": 337,
   "id": "informative-exercise",
   "metadata": {},
   "outputs": [
    {
     "name": "stdout",
     "output_type": "stream",
     "text": [
      "0.13196276612647867\n"
     ]
    }
   ],
   "source": [
    "print(bag_grida)"
   ]
  },
  {
   "cell_type": "markdown",
   "id": "minor-scanner",
   "metadata": {},
   "source": [
    "### Q16 - As you have learned in class, the RandomForest model is a Bagging ensemble with random subspace and random patching. For this and the next two questions, use a GridSearchCV model to find the best hyperparameters listed in the previous question, and a new hyperparameter 'max_depth': [1, 3, 5, 7]. Which of the following hyperparameters have the best value different from the Bagging Classifier in the previous question? "
   ]
  },
  {
   "cell_type": "code",
   "execution_count": 339,
   "id": "vulnerable-excess",
   "metadata": {},
   "outputs": [],
   "source": [
    "param_grid = {'max_features':[0.1, 0.2, 0.5, 1],\n",
    "              'n_estimators':[100, 200, 300, 500],\n",
    "              'max_samples':[0.1, 0.5, 1],\n",
    "              'max_depth':[1, 3, 5, 7] }"
   ]
  },
  {
   "cell_type": "code",
   "execution_count": 341,
   "id": "banner-tooth",
   "metadata": {},
   "outputs": [
    {
     "data": {
      "text/plain": [
       "GridSearchCV(cv=5, estimator=RandomForestRegressor(random_state=0), n_jobs=-1,\n",
       "             param_grid={'max_depth': [1, 3, 5, 7],\n",
       "                         'max_features': [0.1, 0.2, 0.5, 1],\n",
       "                         'max_samples': [0.1, 0.5, 1],\n",
       "                         'n_estimators': [100, 200, 300, 500]})"
      ]
     },
     "execution_count": 341,
     "metadata": {},
     "output_type": "execute_result"
    }
   ],
   "source": [
    "from sklearn.ensemble import RandomForestRegressor\n",
    "gscv_dtr = GridSearchCV(RandomForestRegressor(random_state=0), cv=5, n_jobs=-1, param_grid = param_grid)\n",
    "gscv_dtr.fit(X_train, y_train)"
   ]
  },
  {
   "cell_type": "code",
   "execution_count": 222,
   "id": "successful-shirt",
   "metadata": {},
   "outputs": [
    {
     "data": {
      "text/plain": [
       "{'max_depth': 7, 'max_features': 0.5, 'max_samples': 0.5, 'n_estimators': 200}"
      ]
     },
     "execution_count": 222,
     "metadata": {},
     "output_type": "execute_result"
    }
   ],
   "source": [
    "gscv_dtr.best_params_"
   ]
  },
  {
   "cell_type": "code",
   "execution_count": 223,
   "id": "settled-wright",
   "metadata": {},
   "outputs": [],
   "source": [
    "baggrid_b = gscv_dtr.best_score_"
   ]
  },
  {
   "cell_type": "code",
   "execution_count": 224,
   "id": "peaceful-committee",
   "metadata": {},
   "outputs": [
    {
     "name": "stdout",
     "output_type": "stream",
     "text": [
      "0.21143716396987347\n"
     ]
    }
   ],
   "source": [
    "print(baggrid_b)"
   ]
  },
  {
   "cell_type": "markdown",
   "id": "cellular-plane",
   "metadata": {},
   "source": [
    "### Q18 - Best average validation score considering the model in the prev two questions"
   ]
  },
  {
   "cell_type": "code",
   "execution_count": 333,
   "id": "administrative-population",
   "metadata": {},
   "outputs": [
    {
     "name": "stdout",
     "output_type": "stream",
     "text": [
      "Best average valid score: 0.1717\n"
     ]
    }
   ],
   "source": [
    "print('Best average valid score: %.4f'%((bag_grida + baggrid_b)/2))"
   ]
  },
  {
   "cell_type": "markdown",
   "id": "bacterial-cosmetic",
   "metadata": {},
   "source": [
    "### Q19 - Build and fit a RandomForestRegressor model with the best hyperparameters found in the previous question and random_state = 0. What is the top three most important feature based on this model?"
   ]
  },
  {
   "cell_type": "code",
   "execution_count": 125,
   "id": "searching-personal",
   "metadata": {},
   "outputs": [],
   "source": [
    "from sklearn.ensemble import RandomForestRegressor"
   ]
  },
  {
   "cell_type": "code",
   "execution_count": 351,
   "id": "charged-airline",
   "metadata": {},
   "outputs": [
    {
     "data": {
      "text/plain": [
       "RandomForestRegressor(max_features=0.5, max_samples=0.5, n_estimators=200,\n",
       "                      random_state=0)"
      ]
     },
     "execution_count": 351,
     "metadata": {},
     "output_type": "execute_result"
    }
   ],
   "source": [
    "rfr = RandomForestRegressor(max_features = 0.5, max_samples=0.5, n_estimators=200, random_state=0)\n",
    "rfr.fit(X_train, y_train)"
   ]
  },
  {
   "cell_type": "code",
   "execution_count": 352,
   "id": "about-modem",
   "metadata": {},
   "outputs": [],
   "source": [
    "df_wcolumns = dfb.drop('Salary', axis=1)"
   ]
  },
  {
   "cell_type": "code",
   "execution_count": 353,
   "id": "ahead-mechanics",
   "metadata": {},
   "outputs": [
    {
     "data": {
      "text/plain": [
       "([<matplotlib.axis.YTick at 0x11f9fb400>,\n",
       "  <matplotlib.axis.YTick at 0x11f9f6c40>,\n",
       "  <matplotlib.axis.YTick at 0x11f9e8100>,\n",
       "  <matplotlib.axis.YTick at 0x11fa48dc0>,\n",
       "  <matplotlib.axis.YTick at 0x11fa52550>,\n",
       "  <matplotlib.axis.YTick at 0x11fa52ca0>,\n",
       "  <matplotlib.axis.YTick at 0x11fa59430>,\n",
       "  <matplotlib.axis.YTick at 0x11fa59b80>,\n",
       "  <matplotlib.axis.YTick at 0x11fa52880>,\n",
       "  <matplotlib.axis.YTick at 0x11fa59b20>,\n",
       "  <matplotlib.axis.YTick at 0x11fa613a0>,\n",
       "  <matplotlib.axis.YTick at 0x11fa61af0>,\n",
       "  <matplotlib.axis.YTick at 0x11fa67280>,\n",
       "  <matplotlib.axis.YTick at 0x11fa679d0>,\n",
       "  <matplotlib.axis.YTick at 0x11fa67d00>,\n",
       "  <matplotlib.axis.YTick at 0x11fa619a0>,\n",
       "  <matplotlib.axis.YTick at 0x11fa52700>,\n",
       "  <matplotlib.axis.YTick at 0x11fa6c700>,\n",
       "  <matplotlib.axis.YTick at 0x11fa6ce50>,\n",
       "  <matplotlib.axis.YTick at 0x11fa755e0>,\n",
       "  <matplotlib.axis.YTick at 0x11fa75d30>,\n",
       "  <matplotlib.axis.YTick at 0x11fa75520>,\n",
       "  <matplotlib.axis.YTick at 0x11fa6c280>],\n",
       " [Text(0, 0, 'Termd'),\n",
       "  Text(0, 1, 'Gender'),\n",
       "  Text(0, 2, 'PerformanceScore'),\n",
       "  Text(0, 3, 'EngagementSurvey'),\n",
       "  Text(0, 4, 'EmpSatisfaction'),\n",
       "  Text(0, 5, 'SpecialProjectsCount'),\n",
       "  Text(0, 6, 'DaysLateLast30'),\n",
       "  Text(0, 7, 'Absences'),\n",
       "  Text(0, 8, 'Years of Tenure'),\n",
       "  Text(0, 9, 'Age'),\n",
       "  Text(0, 10, 'EmpStatusID_1'),\n",
       "  Text(0, 11, 'EmpStatusID_2'),\n",
       "  Text(0, 12, 'EmpStatusID_3'),\n",
       "  Text(0, 13, 'EmpStatusID_4'),\n",
       "  Text(0, 14, 'EmpStatusID_5'),\n",
       "  Text(0, 15, 'Divorced'),\n",
       "  Text(0, 16, 'Married'),\n",
       "  Text(0, 17, 'Separated'),\n",
       "  Text(0, 18, 'Single'),\n",
       "  Text(0, 19, 'Widowed'),\n",
       "  Text(0, 20, 'Eligible NonCitizen'),\n",
       "  Text(0, 21, 'Non-Citizen'),\n",
       "  Text(0, 22, 'US Citizen')])"
      ]
     },
     "execution_count": 353,
     "metadata": {},
     "output_type": "execute_result"
    },
    {
     "data": {
      "image/png": "[encoded data removed]",
      "text/plain": [
       "<Figure size 1440x720 with 1 Axes>"
      ]
     },
     "metadata": {
      "needs_background": "light"
     },
     "output_type": "display_data"
    }
   ],
   "source": [
    "%matplotlib inline\n",
    "\n",
    "plt.subplots(figsize = (20,10))\n",
    "y_list = rfr.feature_importances_\n",
    "y_pos = np.arange(len(y_list))\n",
    "features = df_wcolumns.columns\n",
    "plt.barh(y_pos, y_list, align='center', alpha=0.4)\n",
    "plt.yticks(y_pos, features)"
   ]
  },
  {
   "cell_type": "markdown",
   "id": "hollywood-medicine",
   "metadata": {},
   "source": [
    "### Q20 - Use a GridSearchCV to find the best hyperparameters of an AdaBoostRegressor. The goal is to find the best value of hyperparameters n_estimators and learning_rate. Which of the following is showing the best parameters of the grid search model? (Please check the sklearn website to learn about the default base model)"
   ]
  },
  {
   "cell_type": "code",
   "execution_count": 133,
   "id": "structural-significance",
   "metadata": {},
   "outputs": [],
   "source": [
    "from sklearn.ensemble import AdaBoostRegressor"
   ]
  },
  {
   "cell_type": "code",
   "execution_count": 134,
   "id": "forty-preview",
   "metadata": {},
   "outputs": [],
   "source": [
    "param_grid = {'learning_rate':[0.001, 0.01, 0.1, 1],\n",
    "              'n_estimators':[100, 200, 500, 1000]\n",
    "             }"
   ]
  },
  {
   "cell_type": "code",
   "execution_count": 135,
   "id": "exceptional-rebecca",
   "metadata": {},
   "outputs": [
    {
     "data": {
      "text/plain": [
       "GridSearchCV(cv=5, estimator=AdaBoostRegressor(random_state=0),\n",
       "             param_grid={'learning_rate': [0.001, 0.01, 0.1, 1],\n",
       "                         'n_estimators': [100, 200, 500, 1000]})"
      ]
     },
     "execution_count": 135,
     "metadata": {},
     "output_type": "execute_result"
    }
   ],
   "source": [
    "ada_rgr = AdaBoostRegressor(random_state=0)\n",
    "\n",
    "grid_ada = GridSearchCV(ada_rgr, param_grid, cv = 5)\n",
    "grid_ada.fit(X_train, y_train)"
   ]
  },
  {
   "cell_type": "code",
   "execution_count": 136,
   "id": "headed-mixture",
   "metadata": {},
   "outputs": [
    {
     "data": {
      "text/plain": [
       "{'learning_rate': 0.01, 'n_estimators': 100}"
      ]
     },
     "execution_count": 136,
     "metadata": {},
     "output_type": "execute_result"
    }
   ],
   "source": [
    "grid_ada.best_params_"
   ]
  },
  {
   "cell_type": "code",
   "execution_count": 141,
   "id": "genuine-guarantee",
   "metadata": {},
   "outputs": [
    {
     "name": "stdout",
     "output_type": "stream",
     "text": [
      "Best valid score: 0.3062\n"
     ]
    }
   ],
   "source": [
    "print('Best valid score: %.4f'%grid_ada.best_score_)"
   ]
  },
  {
   "cell_type": "markdown",
   "id": "productive-image",
   "metadata": {},
   "source": [
    "### Q22 - Use a GridSearchCV model to find the best hyperparameters of a GradientBoostingRegressor model. You can use 'max_depth':[1, 2, 5], 'n_estimators':[200, 500, 1000], 'learning_rate':[0.001, 0.01, 0.1] for the param_grid. Which list shows the best hyperparameters of the model?"
   ]
  },
  {
   "cell_type": "code",
   "execution_count": 144,
   "id": "visible-stockholm",
   "metadata": {},
   "outputs": [],
   "source": [
    "from sklearn.ensemble import GradientBoostingRegressor"
   ]
  },
  {
   "cell_type": "code",
   "execution_count": 142,
   "id": "statistical-leather",
   "metadata": {},
   "outputs": [],
   "source": [
    "param_grid = {'max_depth':[1, 2, 5],\n",
    "              'n_estimators':[200, 500, 1000],\n",
    "              'learning_rate':[0.001, 0.01, 0.1]\n",
    "             }"
   ]
  },
  {
   "cell_type": "code",
   "execution_count": 146,
   "id": "white-biodiversity",
   "metadata": {},
   "outputs": [
    {
     "data": {
      "text/plain": [
       "GridSearchCV(cv=5, estimator=GradientBoostingRegressor(random_state=0),\n",
       "             param_grid={'learning_rate': [0.001, 0.01, 0.1],\n",
       "                         'max_depth': [1, 2, 5],\n",
       "                         'n_estimators': [200, 500, 1000]})"
      ]
     },
     "execution_count": 146,
     "metadata": {},
     "output_type": "execute_result"
    }
   ],
   "source": [
    "gbrt = GridSearchCV(GradientBoostingRegressor(random_state=0), param_grid, cv = 5)\n",
    "gbrt.fit(X_train, y_train)"
   ]
  },
  {
   "cell_type": "code",
   "execution_count": 147,
   "id": "medium-russia",
   "metadata": {},
   "outputs": [
    {
     "data": {
      "text/plain": [
       "{'learning_rate': 0.01, 'max_depth': 5, 'n_estimators': 200}"
      ]
     },
     "execution_count": 147,
     "metadata": {},
     "output_type": "execute_result"
    }
   ],
   "source": [
    "gbrt.best_params_"
   ]
  },
  {
   "cell_type": "code",
   "execution_count": 148,
   "id": "large-selling",
   "metadata": {},
   "outputs": [
    {
     "name": "stdout",
     "output_type": "stream",
     "text": [
      "Best valid score: 0.2179\n"
     ]
    }
   ],
   "source": [
    "print('Best valid score: %.4f'%gbrt.best_score_)"
   ]
  },
  {
   "cell_type": "markdown",
   "id": "thermal-marriage",
   "metadata": {},
   "source": [
    "### Q24  - Build and fit a GradientBoostingRegressor model with the best hyperparameters found in the last two questions and random_state = 0. What are the top three most important features based on this model?"
   ]
  },
  {
   "cell_type": "code",
   "execution_count": 149,
   "id": "magnetic-disclaimer",
   "metadata": {},
   "outputs": [
    {
     "data": {
      "text/plain": [
       "GradientBoostingRegressor(learning_rate=0.01, max_depth=5, n_estimators=200,\n",
       "                          random_state=0)"
      ]
     },
     "execution_count": 149,
     "metadata": {},
     "output_type": "execute_result"
    }
   ],
   "source": [
    "grbr = GradientBoostingRegressor(random_state=0, learning_rate=0.01, max_depth=5, n_estimators=200)\n",
    "grbr.fit(X_train, y_train)"
   ]
  },
  {
   "cell_type": "code",
   "execution_count": 150,
   "id": "danish-elder",
   "metadata": {},
   "outputs": [
    {
     "data": {
      "text/plain": [
       "([<matplotlib.axis.YTick at 0x11f3e9ee0>,\n",
       "  <matplotlib.axis.YTick at 0x11f2931c0>,\n",
       "  <matplotlib.axis.YTick at 0x11f3ca730>,\n",
       "  <matplotlib.axis.YTick at 0x11e12b4f0>,\n",
       "  <matplotlib.axis.YTick at 0x11e12b3d0>,\n",
       "  <matplotlib.axis.YTick at 0x11f160760>,\n",
       "  <matplotlib.axis.YTick at 0x11f160730>,\n",
       "  <matplotlib.axis.YTick at 0x11f217c10>,\n",
       "  <matplotlib.axis.YTick at 0x11f217820>,\n",
       "  <matplotlib.axis.YTick at 0x11f2173a0>,\n",
       "  <matplotlib.axis.YTick at 0x11f1609a0>,\n",
       "  <matplotlib.axis.YTick at 0x11f1ed250>,\n",
       "  <matplotlib.axis.YTick at 0x11f1edfd0>,\n",
       "  <matplotlib.axis.YTick at 0x11e1f1190>,\n",
       "  <matplotlib.axis.YTick at 0x11e1f16d0>,\n",
       "  <matplotlib.axis.YTick at 0x11f15bcd0>,\n",
       "  <matplotlib.axis.YTick at 0x11e1f1940>,\n",
       "  <matplotlib.axis.YTick at 0x11f1ed700>,\n",
       "  <matplotlib.axis.YTick at 0x11f15bfa0>,\n",
       "  <matplotlib.axis.YTick at 0x11f15b670>,\n",
       "  <matplotlib.axis.YTick at 0x11f55bfd0>,\n",
       "  <matplotlib.axis.YTick at 0x11f3ec640>,\n",
       "  <matplotlib.axis.YTick at 0x11f3ece80>],\n",
       " [Text(0, 0, 'Termd'),\n",
       "  Text(0, 1, 'Gender'),\n",
       "  Text(0, 2, 'PerformanceScore'),\n",
       "  Text(0, 3, 'EngagementSurvey'),\n",
       "  Text(0, 4, 'EmpSatisfaction'),\n",
       "  Text(0, 5, 'SpecialProjectsCount'),\n",
       "  Text(0, 6, 'DaysLateLast30'),\n",
       "  Text(0, 7, 'Absences'),\n",
       "  Text(0, 8, 'Years of Tenure'),\n",
       "  Text(0, 9, 'Age'),\n",
       "  Text(0, 10, 'EmpStatusID_1'),\n",
       "  Text(0, 11, 'EmpStatusID_2'),\n",
       "  Text(0, 12, 'EmpStatusID_3'),\n",
       "  Text(0, 13, 'EmpStatusID_4'),\n",
       "  Text(0, 14, 'EmpStatusID_5'),\n",
       "  Text(0, 15, 'Divorced'),\n",
       "  Text(0, 16, 'Married'),\n",
       "  Text(0, 17, 'Separated'),\n",
       "  Text(0, 18, 'Single'),\n",
       "  Text(0, 19, 'Widowed'),\n",
       "  Text(0, 20, 'Eligible NonCitizen'),\n",
       "  Text(0, 21, 'Non-Citizen'),\n",
       "  Text(0, 22, 'US Citizen')])"
      ]
     },
     "execution_count": 150,
     "metadata": {},
     "output_type": "execute_result"
    },
    {
     "data": {
      "image/png": "[encoded data removed]",
      "text/plain": [
       "<Figure size 1440x720 with 1 Axes>"
      ]
     },
     "metadata": {
      "needs_background": "light"
     },
     "output_type": "display_data"
    }
   ],
   "source": [
    "%matplotlib inline\n",
    "\n",
    "plt.subplots(figsize = (20,10))\n",
    "y_list = grbr.feature_importances_\n",
    "y_pos = np.arange(len(y_list))\n",
    "features = df_wcolumns.columns\n",
    "plt.barh(y_pos, y_list, align='center', alpha=0.4)\n",
    "plt.yticks(y_pos, features)"
   ]
  },
  {
   "cell_type": "markdown",
   "id": "bronze-marathon",
   "metadata": {},
   "source": [
    "## Lab 7"
   ]
  },
  {
   "cell_type": "code",
   "execution_count": null,
   "id": "tender-appreciation",
   "metadata": {},
   "outputs": [],
   "source": [
    "# Q8 - Use PCA to reduce the feature space's size while retaining 95% of explained variance. \n",
    "# What is the size of the transformed feature space? (Number of features in the reduced dataset) "
   ]
  },
  {
   "cell_type": "code",
   "execution_count": 356,
   "id": "regulation-turner",
   "metadata": {},
   "outputs": [
    {
     "data": {
      "text/plain": [
       "PCA(n_components=0.95, random_state=0)"
      ]
     },
     "execution_count": 356,
     "metadata": {},
     "output_type": "execute_result"
    }
   ],
   "source": [
    "from sklearn.decomposition import PCA\n",
    "\n",
    "pca = PCA(n_components = 0.95, random_state=0)\n",
    "pca.fit(X_train)"
   ]
  },
  {
   "cell_type": "code",
   "execution_count": 337,
   "id": "decimal-quebec",
   "metadata": {},
   "outputs": [
    {
     "data": {
      "text/plain": [
       "0.9616681878810729"
      ]
     },
     "execution_count": 337,
     "metadata": {},
     "output_type": "execute_result"
    }
   ],
   "source": [
    "pca.explained_variance_ratio_.sum()"
   ]
  },
  {
   "cell_type": "code",
   "execution_count": 357,
   "id": "hidden-cancer",
   "metadata": {},
   "outputs": [],
   "source": [
    "X_train_pca = pca.fit_transform(X_train)\n",
    "X_test_pca = pca.transform(X_test)"
   ]
  },
  {
   "cell_type": "code",
   "execution_count": 359,
   "id": "difficult-lancaster",
   "metadata": {},
   "outputs": [
    {
     "data": {
      "text/plain": [
       "(233, 16)"
      ]
     },
     "execution_count": 359,
     "metadata": {},
     "output_type": "execute_result"
    }
   ],
   "source": [
    "X_train_pca.shape"
   ]
  },
  {
   "cell_type": "code",
   "execution_count": 280,
   "id": "selected-choice",
   "metadata": {},
   "outputs": [
    {
     "data": {
      "text/plain": [
       "(16,)"
      ]
     },
     "execution_count": 280,
     "metadata": {},
     "output_type": "execute_result"
    }
   ],
   "source": [
    "X_test_pca[1].shape"
   ]
  },
  {
   "cell_type": "code",
   "execution_count": 255,
   "id": "blessed-voice",
   "metadata": {},
   "outputs": [
    {
     "data": {
      "text/plain": [
       "(23,)"
      ]
     },
     "execution_count": 255,
     "metadata": {},
     "output_type": "execute_result"
    }
   ],
   "source": [
    "X_test[1].shape"
   ]
  },
  {
   "cell_type": "code",
   "execution_count": 253,
   "id": "southeast-counter",
   "metadata": {},
   "outputs": [
    {
     "data": {
      "text/plain": [
       "(23,)"
      ]
     },
     "execution_count": 253,
     "metadata": {},
     "output_type": "execute_result"
    }
   ],
   "source": [
    "X_train[1].shape"
   ]
  },
  {
   "cell_type": "code",
   "execution_count": 209,
   "id": "parallel-monster",
   "metadata": {},
   "outputs": [
    {
     "data": {
      "text/plain": [
       "array([[ 1.9960102 , -1.66800884, -1.18312746,  1.08444404, -1.01853537,\n",
       "        -0.00604185, -0.50993431,  1.01464068, -2.82343088, -0.11561405,\n",
       "        -0.1341953 ,  0.23430767,  0.17013975,  0.59592327,  0.30508856,\n",
       "        -0.53533541]])"
      ]
     },
     "execution_count": 209,
     "metadata": {},
     "output_type": "execute_result"
    }
   ],
   "source": [
    "X_train_pca[:1,]"
   ]
  },
  {
   "cell_type": "code",
   "execution_count": 196,
   "id": "inner-inclusion",
   "metadata": {},
   "outputs": [
    {
     "name": "stdout",
     "output_type": "stream",
     "text": [
      "-0.0000\n"
     ]
    }
   ],
   "source": [
    "print('%.4f'%X_test_pca[:, 0].mean())"
   ]
  },
  {
   "cell_type": "code",
   "execution_count": 197,
   "id": "marked-triangle",
   "metadata": {},
   "outputs": [
    {
     "data": {
      "text/plain": [
       "array([[ 0.02581841,  2.16865475,  0.66941553, ..., -0.42205482,\n",
       "         0.26436162, -0.79953724],\n",
       "       [-0.20418916,  2.34487745, -0.72656179, ..., -1.69860504,\n",
       "        -0.98215388, -0.12520356],\n",
       "       [-0.42801386, -0.98315857,  0.3305903 , ...,  1.25526764,\n",
       "        -0.04386027,  0.4770791 ],\n",
       "       ...,\n",
       "       [-1.32539842, -0.38916661, -0.70207262, ...,  0.63680718,\n",
       "         1.16184685,  0.14919121],\n",
       "       [ 0.36665133,  2.38294944,  0.20786474, ..., -0.21000907,\n",
       "        -0.3700287 , -1.23155266],\n",
       "       [-0.72198622, -0.89873842, -0.96086591, ..., -0.6238211 ,\n",
       "        -0.72363317, -0.20329213]])"
      ]
     },
     "execution_count": 197,
     "metadata": {},
     "output_type": "execute_result"
    }
   ],
   "source": [
    "X_test_pca"
   ]
  },
  {
   "cell_type": "code",
   "execution_count": null,
   "id": "retired-fifteen",
   "metadata": {},
   "outputs": [],
   "source": [
    "# Q9 - GradientBoostingRegressor"
   ]
  },
  {
   "cell_type": "code",
   "execution_count": 339,
   "id": "aggregate-watershed",
   "metadata": {},
   "outputs": [],
   "source": [
    "from sklearn.ensemble import GradientBoostingRegressor"
   ]
  },
  {
   "cell_type": "code",
   "execution_count": 387,
   "id": "incredible-princess",
   "metadata": {},
   "outputs": [],
   "source": [
    "param_grid = {'max_depth':[1, 2, 5],\n",
    "              'n_estimators':[200, 500, 1000],\n",
    "              'learning_rate':[0.001, 0.01, 0.1]\n",
    "             }"
   ]
  },
  {
   "cell_type": "code",
   "execution_count": 389,
   "id": "literary-blocking",
   "metadata": {},
   "outputs": [],
   "source": [
    "grb_pca = GridSearchCV(GradientBoostingRegressor(random_state=0), param_grid)"
   ]
  },
  {
   "cell_type": "code",
   "execution_count": 390,
   "id": "confident-designation",
   "metadata": {},
   "outputs": [
    {
     "data": {
      "text/plain": [
       "GridSearchCV(estimator=GradientBoostingRegressor(random_state=0),\n",
       "             param_grid={'learning_rate': [0.001, 0.01, 0.1],\n",
       "                         'max_depth': [1, 2, 5],\n",
       "                         'n_estimators': [200, 500, 1000]})"
      ]
     },
     "execution_count": 390,
     "metadata": {},
     "output_type": "execute_result"
    }
   ],
   "source": [
    "grb_pca.fit(X_train_pca, y_train)"
   ]
  },
  {
   "cell_type": "code",
   "execution_count": 391,
   "id": "protecting-james",
   "metadata": {},
   "outputs": [
    {
     "data": {
      "text/plain": [
       "{'learning_rate': 0.1, 'max_depth': 1, 'n_estimators': 200}"
      ]
     },
     "execution_count": 391,
     "metadata": {},
     "output_type": "execute_result"
    }
   ],
   "source": [
    "grb_pca.best_params_"
   ]
  },
  {
   "cell_type": "code",
   "execution_count": 392,
   "id": "federal-feeling",
   "metadata": {},
   "outputs": [
    {
     "name": "stdout",
     "output_type": "stream",
     "text": [
      "Best valid score: 0.0952\n"
     ]
    }
   ],
   "source": [
    "print('Best valid score: %.4f'%grb_pca.best_score_)"
   ]
  },
  {
   "cell_type": "code",
   "execution_count": 393,
   "id": "public-inquiry",
   "metadata": {},
   "outputs": [
    {
     "data": {
      "text/plain": [
       "-0.15940824335780124"
      ]
     },
     "execution_count": 393,
     "metadata": {},
     "output_type": "execute_result"
    }
   ],
   "source": [
    "grb_pca.score(X_test_pca, y_test)"
   ]
  },
  {
   "cell_type": "code",
   "execution_count": 368,
   "id": "happy-roots",
   "metadata": {},
   "outputs": [
    {
     "name": "stdout",
     "output_type": "stream",
     "text": [
      "Test accuracy: -0.1594\n"
     ]
    }
   ],
   "source": [
    "print('Test accuracy: %.4f' % grb_pca.score(X_test_pca, y_test))"
   ]
  },
  {
   "cell_type": "code",
   "execution_count": 398,
   "id": "answering-korean",
   "metadata": {},
   "outputs": [],
   "source": [
    "gbr = GradientBoostingRegressor(random_state=0, learning_rate=0.1, max_depth=1, n_estimators=200)"
   ]
  },
  {
   "cell_type": "code",
   "execution_count": 399,
   "id": "hollywood-mattress",
   "metadata": {},
   "outputs": [
    {
     "data": {
      "text/plain": [
       "-0.15940824335780124"
      ]
     },
     "execution_count": 399,
     "metadata": {},
     "output_type": "execute_result"
    }
   ],
   "source": [
    "gbr.fit(X_train_pca,y_train)\n",
    "gbr.score(X_test_pca, y_test)"
   ]
  },
  {
   "cell_type": "code",
   "execution_count": 218,
   "id": "circular-lindsay",
   "metadata": {},
   "outputs": [
    {
     "data": {
      "text/plain": [
       "GradientBoostingRegressor(max_depth=1, n_estimators=200, random_state=0)"
      ]
     },
     "execution_count": 218,
     "metadata": {},
     "output_type": "execute_result"
    }
   ],
   "source": [
    "gbr = GradientBoostingRegressor(random_state=0, learning_rate=0.1, max_depth=1, n_estimators=200)\n",
    "gbr.fit(X_train_pca, y_train)"
   ]
  },
  {
   "cell_type": "code",
   "execution_count": 275,
   "id": "fatal-suffering",
   "metadata": {},
   "outputs": [
    {
     "data": {
      "text/plain": [
       "-0.15940824335780124"
      ]
     },
     "execution_count": 275,
     "metadata": {},
     "output_type": "execute_result"
    }
   ],
   "source": [
    "gbr.score(X_test_pca, y_test)"
   ]
  },
  {
   "cell_type": "code",
   "execution_count": null,
   "id": "exclusive-idaho",
   "metadata": {},
   "outputs": [],
   "source": [
    "# gbrt = GradientBoostingRegressor(learning_rate= 0.1, max_depth= 1, n_estimators= 200, random_state=0)\n",
    "# gbrt.fit(X_train_pca, y_train)\n",
    "# gbrt.score(X_test_pca, y_test)"
   ]
  },
  {
   "cell_type": "code",
   "execution_count": null,
   "id": "tracked-facility",
   "metadata": {},
   "outputs": [],
   "source": [
    "# Q11 - Decision Tree Regressor"
   ]
  },
  {
   "cell_type": "code",
   "execution_count": 400,
   "id": "developmental-contrast",
   "metadata": {},
   "outputs": [],
   "source": [
    "from sklearn.tree import DecisionTreeRegressor"
   ]
  },
  {
   "cell_type": "code",
   "execution_count": 401,
   "id": "tutorial-riverside",
   "metadata": {},
   "outputs": [],
   "source": [
    "param_grid = {'max_depth': [1,2,5,10], 'random_state': [0]}"
   ]
  },
  {
   "cell_type": "code",
   "execution_count": 409,
   "id": "better-defensive",
   "metadata": {},
   "outputs": [],
   "source": [
    "dtr = DecisionTreeRegressor(random_state=0)"
   ]
  },
  {
   "cell_type": "code",
   "execution_count": 410,
   "id": "honey-canal",
   "metadata": {},
   "outputs": [],
   "source": [
    "gs_dtr = GridSearchCV(dtr, param_grid, cv = 5)"
   ]
  },
  {
   "cell_type": "code",
   "execution_count": 411,
   "id": "prepared-alberta",
   "metadata": {},
   "outputs": [
    {
     "data": {
      "text/plain": [
       "GridSearchCV(cv=5, estimator=DecisionTreeRegressor(random_state=0),\n",
       "             param_grid={'max_depth': [1, 2, 5, 10], 'random_state': [0]})"
      ]
     },
     "execution_count": 411,
     "metadata": {},
     "output_type": "execute_result"
    }
   ],
   "source": [
    "gs_dtr.fit(X_train_pca, y_train)"
   ]
  },
  {
   "cell_type": "code",
   "execution_count": 412,
   "id": "indirect-palestinian",
   "metadata": {},
   "outputs": [
    {
     "data": {
      "text/plain": [
       "{'max_depth': 2, 'random_state': 0}"
      ]
     },
     "execution_count": 412,
     "metadata": {},
     "output_type": "execute_result"
    }
   ],
   "source": [
    "gs_dtr.best_params_"
   ]
  },
  {
   "cell_type": "code",
   "execution_count": 413,
   "id": "occupied-envelope",
   "metadata": {},
   "outputs": [
    {
     "name": "stdout",
     "output_type": "stream",
     "text": [
      "Best valid score: -0.1568\n"
     ]
    }
   ],
   "source": [
    "print('Best valid score: %.4f'%gs_dtr.best_score_)"
   ]
  }
 ],
 "metadata": {
  "kernelspec": {
   "display_name": "Python 3",
   "language": "python",
   "name": "python3"
  },
  "language_info": {
   "codemirror_mode": {
    "name": "ipython",
    "version": 3
   },
   "file_extension": ".py",
   "mimetype": "text/x-python",
   "name": "python",
   "nbconvert_exporter": "python",
   "pygments_lexer": "ipython3",
   "version": "3.9.6"
  }
 },
 "nbformat": 4,
 "nbformat_minor": 5
}
