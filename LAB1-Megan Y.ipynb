{
 "cells": [
  {
   "cell_type": "markdown",
   "id": "lined-young",
   "metadata": {},
   "source": [
    "import pandas as pd;\n",
    "import numpy as np;"
   ]
  },
  {
   "cell_type": "code",
   "execution_count": 190,
   "id": "formed-optics",
   "metadata": {},
   "outputs": [],
   "source": [
    "dfa = pd.read_csv(\"classification.csv\")"
   ]
  },
  {
   "cell_type": "code",
   "execution_count": 191,
   "id": "architectural-guatemala",
   "metadata": {},
   "outputs": [
    {
     "data": {
      "text/html": [
       "<div>\n",
       "<style scoped>\n",
       "    .dataframe tbody tr th:only-of-type {\n",
       "        vertical-align: middle;\n",
       "    }\n",
       "\n",
       "    .dataframe tbody tr th {\n",
       "        vertical-align: top;\n",
       "    }\n",
       "\n",
       "    .dataframe thead th {\n",
       "        text-align: right;\n",
       "    }\n",
       "</style>\n",
       "<table border=\"1\" class=\"dataframe\">\n",
       "  <thead>\n",
       "    <tr style=\"text-align: right;\">\n",
       "      <th></th>\n",
       "      <th>age</th>\n",
       "      <th>job</th>\n",
       "      <th>marital</th>\n",
       "      <th>education</th>\n",
       "      <th>default</th>\n",
       "      <th>housing</th>\n",
       "      <th>loan</th>\n",
       "      <th>contact</th>\n",
       "      <th>duration</th>\n",
       "      <th>campaign</th>\n",
       "      <th>pdays</th>\n",
       "      <th>previous</th>\n",
       "      <th>poutcome</th>\n",
       "      <th>y</th>\n",
       "    </tr>\n",
       "  </thead>\n",
       "  <tbody>\n",
       "    <tr>\n",
       "      <th>0</th>\n",
       "      <td>999</td>\n",
       "      <td>blue-collar</td>\n",
       "      <td>married</td>\n",
       "      <td>basic.4y</td>\n",
       "      <td>unknown</td>\n",
       "      <td>no</td>\n",
       "      <td>yes</td>\n",
       "      <td>cellular</td>\n",
       "      <td>105.0</td>\n",
       "      <td>1</td>\n",
       "      <td>999.0</td>\n",
       "      <td>0</td>\n",
       "      <td>nonexistent</td>\n",
       "      <td>no</td>\n",
       "    </tr>\n",
       "    <tr>\n",
       "      <th>1</th>\n",
       "      <td>36</td>\n",
       "      <td>blue-collar</td>\n",
       "      <td>married</td>\n",
       "      <td>basic.6y</td>\n",
       "      <td>no</td>\n",
       "      <td>yes</td>\n",
       "      <td>no</td>\n",
       "      <td>cellular</td>\n",
       "      <td>125.0</td>\n",
       "      <td>5</td>\n",
       "      <td>999.0</td>\n",
       "      <td>0</td>\n",
       "      <td>nonexistent</td>\n",
       "      <td>no</td>\n",
       "    </tr>\n",
       "    <tr>\n",
       "      <th>2</th>\n",
       "      <td>999</td>\n",
       "      <td>admin.</td>\n",
       "      <td>single</td>\n",
       "      <td>high.school</td>\n",
       "      <td>no</td>\n",
       "      <td>no</td>\n",
       "      <td>yes</td>\n",
       "      <td>telephone</td>\n",
       "      <td>111.0</td>\n",
       "      <td>1</td>\n",
       "      <td>999.0</td>\n",
       "      <td>0</td>\n",
       "      <td>nonexistent</td>\n",
       "      <td>no</td>\n",
       "    </tr>\n",
       "    <tr>\n",
       "      <th>3</th>\n",
       "      <td>39</td>\n",
       "      <td>blue-collar</td>\n",
       "      <td>married</td>\n",
       "      <td>basic.6y</td>\n",
       "      <td>unknown</td>\n",
       "      <td>no</td>\n",
       "      <td>no</td>\n",
       "      <td>cellular</td>\n",
       "      <td>173.0</td>\n",
       "      <td>2</td>\n",
       "      <td>999.0</td>\n",
       "      <td>0</td>\n",
       "      <td>nonexistent</td>\n",
       "      <td>no</td>\n",
       "    </tr>\n",
       "    <tr>\n",
       "      <th>4</th>\n",
       "      <td>41</td>\n",
       "      <td>housemaid</td>\n",
       "      <td>married</td>\n",
       "      <td>basic.4y</td>\n",
       "      <td>unknown</td>\n",
       "      <td>no</td>\n",
       "      <td>no</td>\n",
       "      <td>cellular</td>\n",
       "      <td>107.0</td>\n",
       "      <td>1</td>\n",
       "      <td>999.0</td>\n",
       "      <td>0</td>\n",
       "      <td>nonexistent</td>\n",
       "      <td>no</td>\n",
       "    </tr>\n",
       "  </tbody>\n",
       "</table>\n",
       "</div>"
      ],
      "text/plain": [
       "   age          job  marital    education  default housing loan    contact  \\\n",
       "0  999  blue-collar  married     basic.4y  unknown      no  yes   cellular   \n",
       "1   36  blue-collar  married     basic.6y       no     yes   no   cellular   \n",
       "2  999       admin.   single  high.school       no      no  yes  telephone   \n",
       "3   39  blue-collar  married     basic.6y  unknown      no   no   cellular   \n",
       "4   41    housemaid  married     basic.4y  unknown      no   no   cellular   \n",
       "\n",
       "   duration  campaign  pdays  previous     poutcome   y  \n",
       "0     105.0         1  999.0         0  nonexistent  no  \n",
       "1     125.0         5  999.0         0  nonexistent  no  \n",
       "2     111.0         1  999.0         0  nonexistent  no  \n",
       "3     173.0         2  999.0         0  nonexistent  no  \n",
       "4     107.0         1  999.0         0  nonexistent  no  "
      ]
     },
     "execution_count": 191,
     "metadata": {},
     "output_type": "execute_result"
    }
   ],
   "source": [
    "dfa.head()"
   ]
  },
  {
   "cell_type": "code",
   "execution_count": 192,
   "id": "weird-turning",
   "metadata": {},
   "outputs": [
    {
     "data": {
      "text/html": [
       "<div>\n",
       "<style scoped>\n",
       "    .dataframe tbody tr th:only-of-type {\n",
       "        vertical-align: middle;\n",
       "    }\n",
       "\n",
       "    .dataframe tbody tr th {\n",
       "        vertical-align: top;\n",
       "    }\n",
       "\n",
       "    .dataframe thead th {\n",
       "        text-align: right;\n",
       "    }\n",
       "</style>\n",
       "<table border=\"1\" class=\"dataframe\">\n",
       "  <thead>\n",
       "    <tr style=\"text-align: right;\">\n",
       "      <th></th>\n",
       "      <th>age</th>\n",
       "      <th>job</th>\n",
       "      <th>marital</th>\n",
       "      <th>education</th>\n",
       "      <th>default</th>\n",
       "      <th>housing</th>\n",
       "      <th>loan</th>\n",
       "      <th>contact</th>\n",
       "      <th>duration</th>\n",
       "      <th>campaign</th>\n",
       "      <th>pdays</th>\n",
       "      <th>previous</th>\n",
       "      <th>poutcome</th>\n",
       "      <th>y</th>\n",
       "    </tr>\n",
       "  </thead>\n",
       "  <tbody>\n",
       "    <tr>\n",
       "      <th>4114</th>\n",
       "      <td>30</td>\n",
       "      <td>management</td>\n",
       "      <td>divorced</td>\n",
       "      <td>high.school</td>\n",
       "      <td>no</td>\n",
       "      <td>yes</td>\n",
       "      <td>no</td>\n",
       "      <td>telephone</td>\n",
       "      <td>19.0</td>\n",
       "      <td>5</td>\n",
       "      <td>999.0</td>\n",
       "      <td>0</td>\n",
       "      <td>nonexistent</td>\n",
       "      <td>no</td>\n",
       "    </tr>\n",
       "    <tr>\n",
       "      <th>4115</th>\n",
       "      <td>68</td>\n",
       "      <td>retired</td>\n",
       "      <td>married</td>\n",
       "      <td>basic.4y</td>\n",
       "      <td>no</td>\n",
       "      <td>yes</td>\n",
       "      <td>no</td>\n",
       "      <td>cellular</td>\n",
       "      <td>177.0</td>\n",
       "      <td>1</td>\n",
       "      <td>999.0</td>\n",
       "      <td>0</td>\n",
       "      <td>nonexistent</td>\n",
       "      <td>no</td>\n",
       "    </tr>\n",
       "    <tr>\n",
       "      <th>4116</th>\n",
       "      <td>30</td>\n",
       "      <td>blue-collar</td>\n",
       "      <td>married</td>\n",
       "      <td>basic.9y</td>\n",
       "      <td>no</td>\n",
       "      <td>no</td>\n",
       "      <td>no</td>\n",
       "      <td>cellular</td>\n",
       "      <td>623.0</td>\n",
       "      <td>2</td>\n",
       "      <td>999.0</td>\n",
       "      <td>0</td>\n",
       "      <td>nonexistent</td>\n",
       "      <td>yes</td>\n",
       "    </tr>\n",
       "    <tr>\n",
       "      <th>4117</th>\n",
       "      <td>45</td>\n",
       "      <td>entrepreneur</td>\n",
       "      <td>single</td>\n",
       "      <td>university.degree</td>\n",
       "      <td>no</td>\n",
       "      <td>no</td>\n",
       "      <td>no</td>\n",
       "      <td>cellular</td>\n",
       "      <td>123.0</td>\n",
       "      <td>5</td>\n",
       "      <td>999.0</td>\n",
       "      <td>0</td>\n",
       "      <td>nonexistent</td>\n",
       "      <td>no</td>\n",
       "    </tr>\n",
       "    <tr>\n",
       "      <th>4118</th>\n",
       "      <td>57</td>\n",
       "      <td>retired</td>\n",
       "      <td>married</td>\n",
       "      <td>basic.9y</td>\n",
       "      <td>no</td>\n",
       "      <td>no</td>\n",
       "      <td>no</td>\n",
       "      <td>cellular</td>\n",
       "      <td>22.0</td>\n",
       "      <td>27</td>\n",
       "      <td>999.0</td>\n",
       "      <td>0</td>\n",
       "      <td>nonexistent</td>\n",
       "      <td>no</td>\n",
       "    </tr>\n",
       "  </tbody>\n",
       "</table>\n",
       "</div>"
      ],
      "text/plain": [
       "      age           job   marital          education default housing loan  \\\n",
       "4114   30    management  divorced        high.school      no     yes   no   \n",
       "4115   68       retired   married           basic.4y      no     yes   no   \n",
       "4116   30   blue-collar   married           basic.9y      no      no   no   \n",
       "4117   45  entrepreneur    single  university.degree      no      no   no   \n",
       "4118   57       retired   married           basic.9y      no      no   no   \n",
       "\n",
       "        contact  duration  campaign  pdays  previous     poutcome    y  \n",
       "4114  telephone      19.0         5  999.0         0  nonexistent   no  \n",
       "4115   cellular     177.0         1  999.0         0  nonexistent   no  \n",
       "4116   cellular     623.0         2  999.0         0  nonexistent  yes  \n",
       "4117   cellular     123.0         5  999.0         0  nonexistent   no  \n",
       "4118   cellular      22.0        27  999.0         0  nonexistent   no  "
      ]
     },
     "execution_count": 192,
     "metadata": {},
     "output_type": "execute_result"
    }
   ],
   "source": [
    "dfa.tail()"
   ]
  },
  {
   "cell_type": "code",
   "execution_count": 193,
   "id": "latter-italian",
   "metadata": {},
   "outputs": [
    {
     "data": {
      "text/html": [
       "<div>\n",
       "<style scoped>\n",
       "    .dataframe tbody tr th:only-of-type {\n",
       "        vertical-align: middle;\n",
       "    }\n",
       "\n",
       "    .dataframe tbody tr th {\n",
       "        vertical-align: top;\n",
       "    }\n",
       "\n",
       "    .dataframe thead th {\n",
       "        text-align: right;\n",
       "    }\n",
       "</style>\n",
       "<table border=\"1\" class=\"dataframe\">\n",
       "  <thead>\n",
       "    <tr style=\"text-align: right;\">\n",
       "      <th></th>\n",
       "      <th>age</th>\n",
       "      <th>duration</th>\n",
       "      <th>campaign</th>\n",
       "      <th>pdays</th>\n",
       "      <th>previous</th>\n",
       "    </tr>\n",
       "  </thead>\n",
       "  <tbody>\n",
       "    <tr>\n",
       "      <th>count</th>\n",
       "      <td>4119.000000</td>\n",
       "      <td>4007.000000</td>\n",
       "      <td>4119.000000</td>\n",
       "      <td>3958.000000</td>\n",
       "      <td>4119.000000</td>\n",
       "    </tr>\n",
       "    <tr>\n",
       "      <th>mean</th>\n",
       "      <td>90.199077</td>\n",
       "      <td>261.401547</td>\n",
       "      <td>2.590920</td>\n",
       "      <td>959.855230</td>\n",
       "      <td>0.173100</td>\n",
       "    </tr>\n",
       "    <tr>\n",
       "      <th>std</th>\n",
       "      <td>213.543589</td>\n",
       "      <td>271.200771</td>\n",
       "      <td>2.736604</td>\n",
       "      <td>193.274995</td>\n",
       "      <td>0.502925</td>\n",
       "    </tr>\n",
       "    <tr>\n",
       "      <th>min</th>\n",
       "      <td>18.000000</td>\n",
       "      <td>0.000000</td>\n",
       "      <td>1.000000</td>\n",
       "      <td>0.000000</td>\n",
       "      <td>0.000000</td>\n",
       "    </tr>\n",
       "    <tr>\n",
       "      <th>25%</th>\n",
       "      <td>32.000000</td>\n",
       "      <td>102.000000</td>\n",
       "      <td>1.000000</td>\n",
       "      <td>999.000000</td>\n",
       "      <td>0.000000</td>\n",
       "    </tr>\n",
       "    <tr>\n",
       "      <th>50%</th>\n",
       "      <td>39.000000</td>\n",
       "      <td>182.000000</td>\n",
       "      <td>2.000000</td>\n",
       "      <td>999.000000</td>\n",
       "      <td>0.000000</td>\n",
       "    </tr>\n",
       "    <tr>\n",
       "      <th>75%</th>\n",
       "      <td>49.000000</td>\n",
       "      <td>320.000000</td>\n",
       "      <td>3.000000</td>\n",
       "      <td>999.000000</td>\n",
       "      <td>0.000000</td>\n",
       "    </tr>\n",
       "    <tr>\n",
       "      <th>max</th>\n",
       "      <td>999.000000</td>\n",
       "      <td>4918.000000</td>\n",
       "      <td>29.000000</td>\n",
       "      <td>999.000000</td>\n",
       "      <td>5.000000</td>\n",
       "    </tr>\n",
       "  </tbody>\n",
       "</table>\n",
       "</div>"
      ],
      "text/plain": [
       "               age     duration     campaign        pdays     previous\n",
       "count  4119.000000  4007.000000  4119.000000  3958.000000  4119.000000\n",
       "mean     90.199077   261.401547     2.590920   959.855230     0.173100\n",
       "std     213.543589   271.200771     2.736604   193.274995     0.502925\n",
       "min      18.000000     0.000000     1.000000     0.000000     0.000000\n",
       "25%      32.000000   102.000000     1.000000   999.000000     0.000000\n",
       "50%      39.000000   182.000000     2.000000   999.000000     0.000000\n",
       "75%      49.000000   320.000000     3.000000   999.000000     0.000000\n",
       "max     999.000000  4918.000000    29.000000   999.000000     5.000000"
      ]
     },
     "execution_count": 193,
     "metadata": {},
     "output_type": "execute_result"
    }
   ],
   "source": [
    "dfa.describe()"
   ]
  },
  {
   "cell_type": "code",
   "execution_count": 194,
   "id": "incorrect-geometry",
   "metadata": {},
   "outputs": [
    {
     "data": {
      "text/html": [
       "<div>\n",
       "<style scoped>\n",
       "    .dataframe tbody tr th:only-of-type {\n",
       "        vertical-align: middle;\n",
       "    }\n",
       "\n",
       "    .dataframe tbody tr th {\n",
       "        vertical-align: top;\n",
       "    }\n",
       "\n",
       "    .dataframe thead th {\n",
       "        text-align: right;\n",
       "    }\n",
       "</style>\n",
       "<table border=\"1\" class=\"dataframe\">\n",
       "  <thead>\n",
       "    <tr style=\"text-align: right;\">\n",
       "      <th></th>\n",
       "      <th>age</th>\n",
       "      <th>job</th>\n",
       "      <th>marital</th>\n",
       "      <th>education</th>\n",
       "      <th>default</th>\n",
       "      <th>housing</th>\n",
       "      <th>loan</th>\n",
       "      <th>contact</th>\n",
       "      <th>duration</th>\n",
       "      <th>campaign</th>\n",
       "      <th>pdays</th>\n",
       "      <th>previous</th>\n",
       "      <th>poutcome</th>\n",
       "      <th>y</th>\n",
       "    </tr>\n",
       "  </thead>\n",
       "  <tbody>\n",
       "    <tr>\n",
       "      <th>58</th>\n",
       "      <td>27</td>\n",
       "      <td>student</td>\n",
       "      <td>NaN</td>\n",
       "      <td>high.school</td>\n",
       "      <td>unknown</td>\n",
       "      <td>yes</td>\n",
       "      <td>no</td>\n",
       "      <td>telephone</td>\n",
       "      <td>38.0</td>\n",
       "      <td>9</td>\n",
       "      <td>999.0</td>\n",
       "      <td>0</td>\n",
       "      <td>nonexistent</td>\n",
       "      <td>no</td>\n",
       "    </tr>\n",
       "    <tr>\n",
       "      <th>92</th>\n",
       "      <td>27</td>\n",
       "      <td>admin.</td>\n",
       "      <td>single</td>\n",
       "      <td>university.degree</td>\n",
       "      <td>no</td>\n",
       "      <td>no</td>\n",
       "      <td>no</td>\n",
       "      <td>telephone</td>\n",
       "      <td>86.0</td>\n",
       "      <td>9</td>\n",
       "      <td>999.0</td>\n",
       "      <td>0</td>\n",
       "      <td>nonexistent</td>\n",
       "      <td>no</td>\n",
       "    </tr>\n",
       "    <tr>\n",
       "      <th>176</th>\n",
       "      <td>27</td>\n",
       "      <td>blue-collar</td>\n",
       "      <td>single</td>\n",
       "      <td>basic.9y</td>\n",
       "      <td>no</td>\n",
       "      <td>yes</td>\n",
       "      <td>yes</td>\n",
       "      <td>cellular</td>\n",
       "      <td>80.0</td>\n",
       "      <td>3</td>\n",
       "      <td>999.0</td>\n",
       "      <td>0</td>\n",
       "      <td>nonexistent</td>\n",
       "      <td>no</td>\n",
       "    </tr>\n",
       "    <tr>\n",
       "      <th>178</th>\n",
       "      <td>27</td>\n",
       "      <td>technician</td>\n",
       "      <td>single</td>\n",
       "      <td>professional.course</td>\n",
       "      <td>no</td>\n",
       "      <td>no</td>\n",
       "      <td>no</td>\n",
       "      <td>cellular</td>\n",
       "      <td>415.0</td>\n",
       "      <td>1</td>\n",
       "      <td>999.0</td>\n",
       "      <td>1</td>\n",
       "      <td>failure</td>\n",
       "      <td>no</td>\n",
       "    </tr>\n",
       "    <tr>\n",
       "      <th>179</th>\n",
       "      <td>27</td>\n",
       "      <td>admin.</td>\n",
       "      <td>single</td>\n",
       "      <td>high.school</td>\n",
       "      <td>no</td>\n",
       "      <td>no</td>\n",
       "      <td>no</td>\n",
       "      <td>cellular</td>\n",
       "      <td>167.0</td>\n",
       "      <td>1</td>\n",
       "      <td>999.0</td>\n",
       "      <td>0</td>\n",
       "      <td>nonexistent</td>\n",
       "      <td>no</td>\n",
       "    </tr>\n",
       "    <tr>\n",
       "      <th>...</th>\n",
       "      <td>...</td>\n",
       "      <td>...</td>\n",
       "      <td>...</td>\n",
       "      <td>...</td>\n",
       "      <td>...</td>\n",
       "      <td>...</td>\n",
       "      <td>...</td>\n",
       "      <td>...</td>\n",
       "      <td>...</td>\n",
       "      <td>...</td>\n",
       "      <td>...</td>\n",
       "      <td>...</td>\n",
       "      <td>...</td>\n",
       "      <td>...</td>\n",
       "    </tr>\n",
       "    <tr>\n",
       "      <th>4016</th>\n",
       "      <td>27</td>\n",
       "      <td>unemployed</td>\n",
       "      <td>single</td>\n",
       "      <td>university.degree</td>\n",
       "      <td>no</td>\n",
       "      <td>yes</td>\n",
       "      <td>yes</td>\n",
       "      <td>cellular</td>\n",
       "      <td>538.0</td>\n",
       "      <td>2</td>\n",
       "      <td>999.0</td>\n",
       "      <td>0</td>\n",
       "      <td>nonexistent</td>\n",
       "      <td>yes</td>\n",
       "    </tr>\n",
       "    <tr>\n",
       "      <th>4019</th>\n",
       "      <td>27</td>\n",
       "      <td>admin.</td>\n",
       "      <td>married</td>\n",
       "      <td>basic.9y</td>\n",
       "      <td>unknown</td>\n",
       "      <td>yes</td>\n",
       "      <td>yes</td>\n",
       "      <td>cellular</td>\n",
       "      <td>166.0</td>\n",
       "      <td>3</td>\n",
       "      <td>999.0</td>\n",
       "      <td>0</td>\n",
       "      <td>nonexistent</td>\n",
       "      <td>no</td>\n",
       "    </tr>\n",
       "    <tr>\n",
       "      <th>4032</th>\n",
       "      <td>27</td>\n",
       "      <td>admin.</td>\n",
       "      <td>NaN</td>\n",
       "      <td>university.degree</td>\n",
       "      <td>no</td>\n",
       "      <td>no</td>\n",
       "      <td>no</td>\n",
       "      <td>cellular</td>\n",
       "      <td>130.0</td>\n",
       "      <td>1</td>\n",
       "      <td>999.0</td>\n",
       "      <td>0</td>\n",
       "      <td>nonexistent</td>\n",
       "      <td>no</td>\n",
       "    </tr>\n",
       "    <tr>\n",
       "      <th>4093</th>\n",
       "      <td>27</td>\n",
       "      <td>technician</td>\n",
       "      <td>single</td>\n",
       "      <td>university.degree</td>\n",
       "      <td>no</td>\n",
       "      <td>yes</td>\n",
       "      <td>no</td>\n",
       "      <td>cellular</td>\n",
       "      <td>305.0</td>\n",
       "      <td>3</td>\n",
       "      <td>10.0</td>\n",
       "      <td>1</td>\n",
       "      <td>success</td>\n",
       "      <td>yes</td>\n",
       "    </tr>\n",
       "    <tr>\n",
       "      <th>4109</th>\n",
       "      <td>27</td>\n",
       "      <td>admin.</td>\n",
       "      <td>single</td>\n",
       "      <td>high.school</td>\n",
       "      <td>no</td>\n",
       "      <td>no</td>\n",
       "      <td>no</td>\n",
       "      <td>cellular</td>\n",
       "      <td>421.0</td>\n",
       "      <td>2</td>\n",
       "      <td>NaN</td>\n",
       "      <td>0</td>\n",
       "      <td>nonexistent</td>\n",
       "      <td>yes</td>\n",
       "    </tr>\n",
       "  </tbody>\n",
       "</table>\n",
       "<p>87 rows × 14 columns</p>\n",
       "</div>"
      ],
      "text/plain": [
       "      age          job  marital            education  default housing loan  \\\n",
       "58     27      student      NaN          high.school  unknown     yes   no   \n",
       "92     27       admin.   single    university.degree       no      no   no   \n",
       "176    27  blue-collar   single             basic.9y       no     yes  yes   \n",
       "178    27   technician   single  professional.course       no      no   no   \n",
       "179    27       admin.   single          high.school       no      no   no   \n",
       "...   ...          ...      ...                  ...      ...     ...  ...   \n",
       "4016   27   unemployed   single    university.degree       no     yes  yes   \n",
       "4019   27       admin.  married             basic.9y  unknown     yes  yes   \n",
       "4032   27       admin.      NaN    university.degree       no      no   no   \n",
       "4093   27   technician   single    university.degree       no     yes   no   \n",
       "4109   27       admin.   single          high.school       no      no   no   \n",
       "\n",
       "        contact  duration  campaign  pdays  previous     poutcome    y  \n",
       "58    telephone      38.0         9  999.0         0  nonexistent   no  \n",
       "92    telephone      86.0         9  999.0         0  nonexistent   no  \n",
       "176    cellular      80.0         3  999.0         0  nonexistent   no  \n",
       "178    cellular     415.0         1  999.0         1      failure   no  \n",
       "179    cellular     167.0         1  999.0         0  nonexistent   no  \n",
       "...         ...       ...       ...    ...       ...          ...  ...  \n",
       "4016   cellular     538.0         2  999.0         0  nonexistent  yes  \n",
       "4019   cellular     166.0         3  999.0         0  nonexistent   no  \n",
       "4032   cellular     130.0         1  999.0         0  nonexistent   no  \n",
       "4093   cellular     305.0         3   10.0         1      success  yes  \n",
       "4109   cellular     421.0         2    NaN         0  nonexistent  yes  \n",
       "\n",
       "[87 rows x 14 columns]"
      ]
     },
     "execution_count": 194,
     "metadata": {},
     "output_type": "execute_result"
    }
   ],
   "source": [
    "dfa[dfa['age']==27]"
   ]
  },
  {
   "cell_type": "code",
   "execution_count": 195,
   "id": "dried-sheriff",
   "metadata": {},
   "outputs": [
    {
     "name": "stdout",
     "output_type": "stream",
     "text": [
      "<class 'pandas.core.frame.DataFrame'>\n",
      "RangeIndex: 4119 entries, 0 to 4118\n",
      "Data columns (total 14 columns):\n",
      " #   Column     Non-Null Count  Dtype  \n",
      "---  ------     --------------  -----  \n",
      " 0   age        4119 non-null   int64  \n",
      " 1   job        4119 non-null   object \n",
      " 2   marital    3991 non-null   object \n",
      " 3   education  4119 non-null   object \n",
      " 4   default    4119 non-null   object \n",
      " 5   housing    4119 non-null   object \n",
      " 6   loan       4119 non-null   object \n",
      " 7   contact    4119 non-null   object \n",
      " 8   duration   4007 non-null   float64\n",
      " 9   campaign   4119 non-null   int64  \n",
      " 10  pdays      3958 non-null   float64\n",
      " 11  previous   4119 non-null   int64  \n",
      " 12  poutcome   4119 non-null   object \n",
      " 13  y          4119 non-null   object \n",
      "dtypes: float64(2), int64(3), object(9)\n",
      "memory usage: 450.6+ KB\n"
     ]
    }
   ],
   "source": [
    "dfa.info()"
   ]
  },
  {
   "cell_type": "markdown",
   "id": "sized-chinese",
   "metadata": {},
   "source": [
    "##Question 2 - replace missing values with np.nan; HOw many np.nan values are in the dataset"
   ]
  },
  {
   "cell_type": "code",
   "execution_count": 196,
   "id": "aging-superior",
   "metadata": {},
   "outputs": [],
   "source": [
    "dfa['age'].replace(999, np.nan, inplace=True)"
   ]
  },
  {
   "cell_type": "code",
   "execution_count": 197,
   "id": "metropolitan-consultancy",
   "metadata": {},
   "outputs": [
    {
     "data": {
      "text/plain": [
       "0       999.0\n",
       "1       999.0\n",
       "2       999.0\n",
       "3       999.0\n",
       "4       999.0\n",
       "        ...  \n",
       "4114    999.0\n",
       "4115    999.0\n",
       "4116    999.0\n",
       "4117    999.0\n",
       "4118    999.0\n",
       "Name: pdays, Length: 4119, dtype: float64"
      ]
     },
     "execution_count": 197,
     "metadata": {},
     "output_type": "execute_result"
    }
   ],
   "source": [
    "dfa['pdays']"
   ]
  },
  {
   "cell_type": "code",
   "execution_count": 198,
   "id": "undefined-disposition",
   "metadata": {},
   "outputs": [
    {
     "data": {
      "text/plain": [
       "age          215\n",
       "job            0\n",
       "marital      128\n",
       "education      0\n",
       "default        0\n",
       "housing        0\n",
       "loan           0\n",
       "contact        0\n",
       "duration     112\n",
       "campaign       0\n",
       "pdays        161\n",
       "previous       0\n",
       "poutcome       0\n",
       "y              0\n",
       "dtype: int64"
      ]
     },
     "execution_count": 198,
     "metadata": {},
     "output_type": "execute_result"
    }
   ],
   "source": [
    "dfa.isna().sum()"
   ]
  },
  {
   "cell_type": "code",
   "execution_count": 199,
   "id": "dominican-preparation",
   "metadata": {},
   "outputs": [
    {
     "data": {
      "text/plain": [
       "616"
      ]
     },
     "execution_count": 199,
     "metadata": {},
     "output_type": "execute_result"
    }
   ],
   "source": [
    "dfa.isna().sum().sum()"
   ]
  },
  {
   "cell_type": "code",
   "execution_count": 200,
   "id": "annoying-reasoning",
   "metadata": {},
   "outputs": [
    {
     "data": {
      "text/html": [
       "<div>\n",
       "<style scoped>\n",
       "    .dataframe tbody tr th:only-of-type {\n",
       "        vertical-align: middle;\n",
       "    }\n",
       "\n",
       "    .dataframe tbody tr th {\n",
       "        vertical-align: top;\n",
       "    }\n",
       "\n",
       "    .dataframe thead th {\n",
       "        text-align: right;\n",
       "    }\n",
       "</style>\n",
       "<table border=\"1\" class=\"dataframe\">\n",
       "  <thead>\n",
       "    <tr style=\"text-align: right;\">\n",
       "      <th></th>\n",
       "      <th>age</th>\n",
       "      <th>duration</th>\n",
       "      <th>campaign</th>\n",
       "      <th>pdays</th>\n",
       "      <th>previous</th>\n",
       "    </tr>\n",
       "  </thead>\n",
       "  <tbody>\n",
       "    <tr>\n",
       "      <th>count</th>\n",
       "      <td>3904.000000</td>\n",
       "      <td>4007.000000</td>\n",
       "      <td>4119.000000</td>\n",
       "      <td>3958.000000</td>\n",
       "      <td>4119.000000</td>\n",
       "    </tr>\n",
       "    <tr>\n",
       "      <th>mean</th>\n",
       "      <td>40.149846</td>\n",
       "      <td>261.401547</td>\n",
       "      <td>2.590920</td>\n",
       "      <td>959.855230</td>\n",
       "      <td>0.173100</td>\n",
       "    </tr>\n",
       "    <tr>\n",
       "      <th>std</th>\n",
       "      <td>10.526973</td>\n",
       "      <td>271.200771</td>\n",
       "      <td>2.736604</td>\n",
       "      <td>193.274995</td>\n",
       "      <td>0.502925</td>\n",
       "    </tr>\n",
       "    <tr>\n",
       "      <th>min</th>\n",
       "      <td>18.000000</td>\n",
       "      <td>0.000000</td>\n",
       "      <td>1.000000</td>\n",
       "      <td>0.000000</td>\n",
       "      <td>0.000000</td>\n",
       "    </tr>\n",
       "    <tr>\n",
       "      <th>25%</th>\n",
       "      <td>32.000000</td>\n",
       "      <td>102.000000</td>\n",
       "      <td>1.000000</td>\n",
       "      <td>999.000000</td>\n",
       "      <td>0.000000</td>\n",
       "    </tr>\n",
       "    <tr>\n",
       "      <th>50%</th>\n",
       "      <td>38.000000</td>\n",
       "      <td>182.000000</td>\n",
       "      <td>2.000000</td>\n",
       "      <td>999.000000</td>\n",
       "      <td>0.000000</td>\n",
       "    </tr>\n",
       "    <tr>\n",
       "      <th>75%</th>\n",
       "      <td>47.000000</td>\n",
       "      <td>320.000000</td>\n",
       "      <td>3.000000</td>\n",
       "      <td>999.000000</td>\n",
       "      <td>0.000000</td>\n",
       "    </tr>\n",
       "    <tr>\n",
       "      <th>max</th>\n",
       "      <td>95.000000</td>\n",
       "      <td>4918.000000</td>\n",
       "      <td>29.000000</td>\n",
       "      <td>999.000000</td>\n",
       "      <td>5.000000</td>\n",
       "    </tr>\n",
       "  </tbody>\n",
       "</table>\n",
       "</div>"
      ],
      "text/plain": [
       "               age     duration     campaign        pdays     previous\n",
       "count  3904.000000  4007.000000  4119.000000  3958.000000  4119.000000\n",
       "mean     40.149846   261.401547     2.590920   959.855230     0.173100\n",
       "std      10.526973   271.200771     2.736604   193.274995     0.502925\n",
       "min      18.000000     0.000000     1.000000     0.000000     0.000000\n",
       "25%      32.000000   102.000000     1.000000   999.000000     0.000000\n",
       "50%      38.000000   182.000000     2.000000   999.000000     0.000000\n",
       "75%      47.000000   320.000000     3.000000   999.000000     0.000000\n",
       "max      95.000000  4918.000000    29.000000   999.000000     5.000000"
      ]
     },
     "execution_count": 200,
     "metadata": {},
     "output_type": "execute_result"
    }
   ],
   "source": [
    "dfa.describe()"
   ]
  },
  {
   "cell_type": "markdown",
   "id": "searching-support",
   "metadata": {},
   "source": [
    "##Question 3 - Percentage of rows that have at least one missing value"
   ]
  },
  {
   "cell_type": "code",
   "execution_count": 201,
   "id": "pleasant-boost",
   "metadata": {},
   "outputs": [
    {
     "name": "stdout",
     "output_type": "stream",
     "text": [
      "0.14202476329206118\n"
     ]
    }
   ],
   "source": [
    "rowsmissing = sum(dfa.apply(lambda x: sum(x.isnull().values), axis = 1)>0)\n",
    "percentrowmissing = rowsmissing / dfa.shape[0]\n",
    "print(percentrowmissing)"
   ]
  },
  {
   "cell_type": "code",
   "execution_count": 202,
   "id": "strong-investment",
   "metadata": {},
   "outputs": [],
   "source": [
    "#Get new dataframe with rows that have at least one missing value\n",
    "df_missing = dfa[dfa.isna().any(axis=1)]"
   ]
  },
  {
   "cell_type": "code",
   "execution_count": 203,
   "id": "assisted-holder",
   "metadata": {},
   "outputs": [
    {
     "data": {
      "text/plain": [
       "14.202476329206117"
      ]
     },
     "execution_count": 203,
     "metadata": {},
     "output_type": "execute_result"
    }
   ],
   "source": [
    "(len(df_missing) / len(dfa)) * 100"
   ]
  },
  {
   "cell_type": "markdown",
   "id": "liquid-polyester",
   "metadata": {},
   "source": [
    "##Question4 - Number of columns that have missing values of any form"
   ]
  },
  {
   "cell_type": "code",
   "execution_count": 204,
   "id": "million-friendly",
   "metadata": {},
   "outputs": [
    {
     "data": {
      "text/plain": [
       "4"
      ]
     },
     "execution_count": 204,
     "metadata": {},
     "output_type": "execute_result"
    }
   ],
   "source": [
    "sum(dfa.apply(lambda x: sum(x.isnull().values), axis = 0)>0)"
   ]
  },
  {
   "cell_type": "markdown",
   "id": "engaged-semester",
   "metadata": {},
   "source": [
    "##Question 5 - Median of column 'duration'"
   ]
  },
  {
   "cell_type": "code",
   "execution_count": 205,
   "id": "tested-adoption",
   "metadata": {},
   "outputs": [
    {
     "data": {
      "text/plain": [
       "182.0"
      ]
     },
     "execution_count": 205,
     "metadata": {},
     "output_type": "execute_result"
    }
   ],
   "source": [
    "dfa['duration'].median()"
   ]
  },
  {
   "cell_type": "markdown",
   "id": "julian-tutorial",
   "metadata": {},
   "source": [
    "##Question 6 - How missing values are marked in the dataset"
   ]
  },
  {
   "cell_type": "code",
   "execution_count": 206,
   "id": "bored-delicious",
   "metadata": {},
   "outputs": [],
   "source": [
    "dfb = pd.read_csv(\"regression.csv\")"
   ]
  },
  {
   "cell_type": "code",
   "execution_count": 207,
   "id": "waiting-quarter",
   "metadata": {},
   "outputs": [
    {
     "data": {
      "text/html": [
       "<div>\n",
       "<style scoped>\n",
       "    .dataframe tbody tr th:only-of-type {\n",
       "        vertical-align: middle;\n",
       "    }\n",
       "\n",
       "    .dataframe tbody tr th {\n",
       "        vertical-align: top;\n",
       "    }\n",
       "\n",
       "    .dataframe thead th {\n",
       "        text-align: right;\n",
       "    }\n",
       "</style>\n",
       "<table border=\"1\" class=\"dataframe\">\n",
       "  <thead>\n",
       "    <tr style=\"text-align: right;\">\n",
       "      <th></th>\n",
       "      <th>Employee_Name</th>\n",
       "      <th>EmpID</th>\n",
       "      <th>EmpStatusID</th>\n",
       "      <th>Salary</th>\n",
       "      <th>Termd</th>\n",
       "      <th>DOB</th>\n",
       "      <th>Gender</th>\n",
       "      <th>MaritalDesc</th>\n",
       "      <th>CitizenDesc</th>\n",
       "      <th>DateofHire</th>\n",
       "      <th>DateofTermination</th>\n",
       "      <th>PerformanceScore</th>\n",
       "      <th>EngagementSurvey</th>\n",
       "      <th>EmpSatisfaction</th>\n",
       "      <th>SpecialProjectsCount</th>\n",
       "      <th>DaysLateLast30</th>\n",
       "      <th>Absences</th>\n",
       "    </tr>\n",
       "  </thead>\n",
       "  <tbody>\n",
       "    <tr>\n",
       "      <th>0</th>\n",
       "      <td>Adinolfi, Wilson  K</td>\n",
       "      <td>10026</td>\n",
       "      <td>1.0</td>\n",
       "      <td>62506</td>\n",
       "      <td>0</td>\n",
       "      <td>7/10/1983</td>\n",
       "      <td>M</td>\n",
       "      <td>Single</td>\n",
       "      <td>US Citizen</td>\n",
       "      <td>7/5/2011</td>\n",
       "      <td>NaN</td>\n",
       "      <td>Exceeds</td>\n",
       "      <td>4.60</td>\n",
       "      <td>5</td>\n",
       "      <td>0</td>\n",
       "      <td>0</td>\n",
       "      <td>1</td>\n",
       "    </tr>\n",
       "    <tr>\n",
       "      <th>1</th>\n",
       "      <td>Ait Sidi, Karthikeyan</td>\n",
       "      <td>10084</td>\n",
       "      <td>5.0</td>\n",
       "      <td>104437</td>\n",
       "      <td>1</td>\n",
       "      <td>5/5/1975</td>\n",
       "      <td>M</td>\n",
       "      <td>Married</td>\n",
       "      <td>US Citizen</td>\n",
       "      <td>3/30/2015</td>\n",
       "      <td>6/16/2016</td>\n",
       "      <td>Fully Meets</td>\n",
       "      <td>4.96</td>\n",
       "      <td>3</td>\n",
       "      <td>6</td>\n",
       "      <td>0</td>\n",
       "      <td>17</td>\n",
       "    </tr>\n",
       "    <tr>\n",
       "      <th>2</th>\n",
       "      <td>Akinkuolie, Sarah</td>\n",
       "      <td>10196</td>\n",
       "      <td>5.0</td>\n",
       "      <td>64955</td>\n",
       "      <td>1</td>\n",
       "      <td>9/19/1988</td>\n",
       "      <td>F</td>\n",
       "      <td>Married</td>\n",
       "      <td>US Citizen</td>\n",
       "      <td>7/5/2011</td>\n",
       "      <td>9/24/2012</td>\n",
       "      <td>Fully Meets</td>\n",
       "      <td>3.02</td>\n",
       "      <td>3</td>\n",
       "      <td>0</td>\n",
       "      <td>0</td>\n",
       "      <td>3</td>\n",
       "    </tr>\n",
       "    <tr>\n",
       "      <th>3</th>\n",
       "      <td>Alagbe,Trina</td>\n",
       "      <td>10088</td>\n",
       "      <td>1.0</td>\n",
       "      <td>64991</td>\n",
       "      <td>0</td>\n",
       "      <td>9/27/1988</td>\n",
       "      <td>F</td>\n",
       "      <td>Married</td>\n",
       "      <td>US Citizen</td>\n",
       "      <td>1/7/2008</td>\n",
       "      <td>NaN</td>\n",
       "      <td>Fully Meets</td>\n",
       "      <td>4.84</td>\n",
       "      <td>5</td>\n",
       "      <td>0</td>\n",
       "      <td>0</td>\n",
       "      <td>15</td>\n",
       "    </tr>\n",
       "    <tr>\n",
       "      <th>4</th>\n",
       "      <td>Anderson, Carol</td>\n",
       "      <td>10069</td>\n",
       "      <td>5.0</td>\n",
       "      <td>50825</td>\n",
       "      <td>1</td>\n",
       "      <td>9/8/1989</td>\n",
       "      <td>F</td>\n",
       "      <td>Divorced</td>\n",
       "      <td>US Citizen</td>\n",
       "      <td>7/11/2011</td>\n",
       "      <td>9/6/2016</td>\n",
       "      <td>Fully Meets</td>\n",
       "      <td>5.00</td>\n",
       "      <td>4</td>\n",
       "      <td>0</td>\n",
       "      <td>0</td>\n",
       "      <td>2</td>\n",
       "    </tr>\n",
       "  </tbody>\n",
       "</table>\n",
       "</div>"
      ],
      "text/plain": [
       "              Employee_Name  EmpID  EmpStatusID  Salary  Termd        DOB  \\\n",
       "0       Adinolfi, Wilson  K  10026          1.0   62506      0  7/10/1983   \n",
       "1  Ait Sidi, Karthikeyan     10084          5.0  104437      1   5/5/1975   \n",
       "2         Akinkuolie, Sarah  10196          5.0   64955      1  9/19/1988   \n",
       "3              Alagbe,Trina  10088          1.0   64991      0  9/27/1988   \n",
       "4          Anderson, Carol   10069          5.0   50825      1   9/8/1989   \n",
       "\n",
       "  Gender MaritalDesc CitizenDesc DateofHire DateofTermination  \\\n",
       "0      M      Single  US Citizen   7/5/2011               NaN   \n",
       "1      M     Married  US Citizen  3/30/2015         6/16/2016   \n",
       "2      F     Married  US Citizen   7/5/2011         9/24/2012   \n",
       "3      F     Married  US Citizen   1/7/2008               NaN   \n",
       "4      F    Divorced  US Citizen  7/11/2011          9/6/2016   \n",
       "\n",
       "  PerformanceScore  EngagementSurvey  EmpSatisfaction  SpecialProjectsCount  \\\n",
       "0          Exceeds              4.60                5                     0   \n",
       "1      Fully Meets              4.96                3                     6   \n",
       "2      Fully Meets              3.02                3                     0   \n",
       "3      Fully Meets              4.84                5                     0   \n",
       "4      Fully Meets              5.00                4                     0   \n",
       "\n",
       "   DaysLateLast30  Absences  \n",
       "0               0         1  \n",
       "1               0        17  \n",
       "2               0         3  \n",
       "3               0        15  \n",
       "4               0         2  "
      ]
     },
     "execution_count": 207,
     "metadata": {},
     "output_type": "execute_result"
    }
   ],
   "source": [
    "dfb.head()"
   ]
  },
  {
   "cell_type": "code",
   "execution_count": 208,
   "id": "angry-louisville",
   "metadata": {},
   "outputs": [
    {
     "data": {
      "text/html": [
       "<div>\n",
       "<style scoped>\n",
       "    .dataframe tbody tr th:only-of-type {\n",
       "        vertical-align: middle;\n",
       "    }\n",
       "\n",
       "    .dataframe tbody tr th {\n",
       "        vertical-align: top;\n",
       "    }\n",
       "\n",
       "    .dataframe thead th {\n",
       "        text-align: right;\n",
       "    }\n",
       "</style>\n",
       "<table border=\"1\" class=\"dataframe\">\n",
       "  <thead>\n",
       "    <tr style=\"text-align: right;\">\n",
       "      <th></th>\n",
       "      <th>Employee_Name</th>\n",
       "      <th>EmpID</th>\n",
       "      <th>EmpStatusID</th>\n",
       "      <th>Salary</th>\n",
       "      <th>Termd</th>\n",
       "      <th>DOB</th>\n",
       "      <th>Gender</th>\n",
       "      <th>MaritalDesc</th>\n",
       "      <th>CitizenDesc</th>\n",
       "      <th>DateofHire</th>\n",
       "      <th>DateofTermination</th>\n",
       "      <th>PerformanceScore</th>\n",
       "      <th>EngagementSurvey</th>\n",
       "      <th>EmpSatisfaction</th>\n",
       "      <th>SpecialProjectsCount</th>\n",
       "      <th>DaysLateLast30</th>\n",
       "      <th>Absences</th>\n",
       "    </tr>\n",
       "  </thead>\n",
       "  <tbody>\n",
       "    <tr>\n",
       "      <th>306</th>\n",
       "      <td>Woodson, Jason</td>\n",
       "      <td>10135</td>\n",
       "      <td>1.0</td>\n",
       "      <td>65893</td>\n",
       "      <td>0</td>\n",
       "      <td>5/11/1985</td>\n",
       "      <td>M</td>\n",
       "      <td>Single</td>\n",
       "      <td>US Citizen</td>\n",
       "      <td>7/7/2014</td>\n",
       "      <td>NaN</td>\n",
       "      <td>Fully Meets</td>\n",
       "      <td>4.07</td>\n",
       "      <td>4</td>\n",
       "      <td>0</td>\n",
       "      <td>0</td>\n",
       "      <td>13</td>\n",
       "    </tr>\n",
       "    <tr>\n",
       "      <th>307</th>\n",
       "      <td>Ybarra, Catherine</td>\n",
       "      <td>10301</td>\n",
       "      <td>5.0</td>\n",
       "      <td>48513</td>\n",
       "      <td>1</td>\n",
       "      <td>5/4/1982</td>\n",
       "      <td>F</td>\n",
       "      <td>Single</td>\n",
       "      <td>US Citizen</td>\n",
       "      <td>9/2/2008</td>\n",
       "      <td>9/29/2015</td>\n",
       "      <td>PIP</td>\n",
       "      <td>3.20</td>\n",
       "      <td>2</td>\n",
       "      <td>0</td>\n",
       "      <td>5</td>\n",
       "      <td>4</td>\n",
       "    </tr>\n",
       "    <tr>\n",
       "      <th>308</th>\n",
       "      <td>Zamora, Jennifer</td>\n",
       "      <td>10010</td>\n",
       "      <td>1.0</td>\n",
       "      <td>220450</td>\n",
       "      <td>0</td>\n",
       "      <td>8/30/1979</td>\n",
       "      <td>F</td>\n",
       "      <td>Single</td>\n",
       "      <td>US Citizen</td>\n",
       "      <td>4/10/2010</td>\n",
       "      <td>NaN</td>\n",
       "      <td>Exceeds</td>\n",
       "      <td>4.60</td>\n",
       "      <td>5</td>\n",
       "      <td>6</td>\n",
       "      <td>0</td>\n",
       "      <td>16</td>\n",
       "    </tr>\n",
       "    <tr>\n",
       "      <th>309</th>\n",
       "      <td>Zhou, Julia</td>\n",
       "      <td>10043</td>\n",
       "      <td>1.0</td>\n",
       "      <td>89292</td>\n",
       "      <td>0</td>\n",
       "      <td>2/24/1979</td>\n",
       "      <td>F</td>\n",
       "      <td>Single</td>\n",
       "      <td>US Citizen</td>\n",
       "      <td>3/30/2015</td>\n",
       "      <td>NaN</td>\n",
       "      <td>Fully Meets</td>\n",
       "      <td>5.00</td>\n",
       "      <td>3</td>\n",
       "      <td>5</td>\n",
       "      <td>0</td>\n",
       "      <td>11</td>\n",
       "    </tr>\n",
       "    <tr>\n",
       "      <th>310</th>\n",
       "      <td>Zima, Colleen</td>\n",
       "      <td>10271</td>\n",
       "      <td>1.0</td>\n",
       "      <td>45046</td>\n",
       "      <td>0</td>\n",
       "      <td>8/17/1978</td>\n",
       "      <td>F</td>\n",
       "      <td>Widowed</td>\n",
       "      <td>US Citizen</td>\n",
       "      <td>9/29/2014</td>\n",
       "      <td>NaN</td>\n",
       "      <td>Fully Meets</td>\n",
       "      <td>4.50</td>\n",
       "      <td>5</td>\n",
       "      <td>0</td>\n",
       "      <td>0</td>\n",
       "      <td>2</td>\n",
       "    </tr>\n",
       "  </tbody>\n",
       "</table>\n",
       "</div>"
      ],
      "text/plain": [
       "          Employee_Name  EmpID  EmpStatusID  Salary  Termd        DOB Gender  \\\n",
       "306      Woodson, Jason  10135          1.0   65893      0  5/11/1985      M   \n",
       "307  Ybarra, Catherine   10301          5.0   48513      1   5/4/1982      F   \n",
       "308    Zamora, Jennifer  10010          1.0  220450      0  8/30/1979      F   \n",
       "309         Zhou, Julia  10043          1.0   89292      0  2/24/1979      F   \n",
       "310       Zima, Colleen  10271          1.0   45046      0  8/17/1978      F   \n",
       "\n",
       "    MaritalDesc CitizenDesc DateofHire DateofTermination PerformanceScore  \\\n",
       "306      Single  US Citizen   7/7/2014               NaN      Fully Meets   \n",
       "307      Single  US Citizen   9/2/2008         9/29/2015              PIP   \n",
       "308      Single  US Citizen  4/10/2010               NaN          Exceeds   \n",
       "309      Single  US Citizen  3/30/2015               NaN      Fully Meets   \n",
       "310     Widowed  US Citizen  9/29/2014               NaN      Fully Meets   \n",
       "\n",
       "     EngagementSurvey  EmpSatisfaction  SpecialProjectsCount  DaysLateLast30  \\\n",
       "306              4.07                4                     0               0   \n",
       "307              3.20                2                     0               5   \n",
       "308              4.60                5                     6               0   \n",
       "309              5.00                3                     5               0   \n",
       "310              4.50                5                     0               0   \n",
       "\n",
       "     Absences  \n",
       "306        13  \n",
       "307         4  \n",
       "308        16  \n",
       "309        11  \n",
       "310         2  "
      ]
     },
     "execution_count": 208,
     "metadata": {},
     "output_type": "execute_result"
    }
   ],
   "source": [
    "dfb.tail()"
   ]
  },
  {
   "cell_type": "code",
   "execution_count": 209,
   "id": "compound-stephen",
   "metadata": {},
   "outputs": [
    {
     "name": "stdout",
     "output_type": "stream",
     "text": [
      "<class 'pandas.core.frame.DataFrame'>\n",
      "RangeIndex: 311 entries, 0 to 310\n",
      "Data columns (total 17 columns):\n",
      " #   Column                Non-Null Count  Dtype  \n",
      "---  ------                --------------  -----  \n",
      " 0   Employee_Name         311 non-null    object \n",
      " 1   EmpID                 311 non-null    int64  \n",
      " 2   EmpStatusID           302 non-null    float64\n",
      " 3   Salary                311 non-null    int64  \n",
      " 4   Termd                 311 non-null    int64  \n",
      " 5   DOB                   311 non-null    object \n",
      " 6   Gender                311 non-null    object \n",
      " 7   MaritalDesc           307 non-null    object \n",
      " 8   CitizenDesc           307 non-null    object \n",
      " 9   DateofHire            311 non-null    object \n",
      " 10  DateofTermination     104 non-null    object \n",
      " 11  PerformanceScore      311 non-null    object \n",
      " 12  EngagementSurvey      311 non-null    float64\n",
      " 13  EmpSatisfaction       311 non-null    int64  \n",
      " 14  SpecialProjectsCount  311 non-null    int64  \n",
      " 15  DaysLateLast30        311 non-null    int64  \n",
      " 16  Absences              311 non-null    int64  \n",
      "dtypes: float64(2), int64(7), object(8)\n",
      "memory usage: 41.4+ KB\n"
     ]
    }
   ],
   "source": [
    "dfb.info()"
   ]
  },
  {
   "cell_type": "code",
   "execution_count": 210,
   "id": "metric-departure",
   "metadata": {},
   "outputs": [
    {
     "data": {
      "text/html": [
       "<div>\n",
       "<style scoped>\n",
       "    .dataframe tbody tr th:only-of-type {\n",
       "        vertical-align: middle;\n",
       "    }\n",
       "\n",
       "    .dataframe tbody tr th {\n",
       "        vertical-align: top;\n",
       "    }\n",
       "\n",
       "    .dataframe thead th {\n",
       "        text-align: right;\n",
       "    }\n",
       "</style>\n",
       "<table border=\"1\" class=\"dataframe\">\n",
       "  <thead>\n",
       "    <tr style=\"text-align: right;\">\n",
       "      <th></th>\n",
       "      <th>EmpID</th>\n",
       "      <th>EmpStatusID</th>\n",
       "      <th>Salary</th>\n",
       "      <th>Termd</th>\n",
       "      <th>EngagementSurvey</th>\n",
       "      <th>EmpSatisfaction</th>\n",
       "      <th>SpecialProjectsCount</th>\n",
       "      <th>DaysLateLast30</th>\n",
       "      <th>Absences</th>\n",
       "    </tr>\n",
       "  </thead>\n",
       "  <tbody>\n",
       "    <tr>\n",
       "      <th>count</th>\n",
       "      <td>311.000000</td>\n",
       "      <td>302.000000</td>\n",
       "      <td>311.000000</td>\n",
       "      <td>311.000000</td>\n",
       "      <td>311.000000</td>\n",
       "      <td>311.000000</td>\n",
       "      <td>311.000000</td>\n",
       "      <td>311.000000</td>\n",
       "      <td>311.000000</td>\n",
       "    </tr>\n",
       "    <tr>\n",
       "      <th>mean</th>\n",
       "      <td>10156.000000</td>\n",
       "      <td>2.387417</td>\n",
       "      <td>69020.684887</td>\n",
       "      <td>0.334405</td>\n",
       "      <td>4.110000</td>\n",
       "      <td>3.890675</td>\n",
       "      <td>1.218650</td>\n",
       "      <td>0.414791</td>\n",
       "      <td>10.237942</td>\n",
       "    </tr>\n",
       "    <tr>\n",
       "      <th>std</th>\n",
       "      <td>89.922189</td>\n",
       "      <td>1.794854</td>\n",
       "      <td>25156.636930</td>\n",
       "      <td>0.472542</td>\n",
       "      <td>0.789938</td>\n",
       "      <td>0.909241</td>\n",
       "      <td>2.349421</td>\n",
       "      <td>1.294519</td>\n",
       "      <td>5.852596</td>\n",
       "    </tr>\n",
       "    <tr>\n",
       "      <th>min</th>\n",
       "      <td>10001.000000</td>\n",
       "      <td>1.000000</td>\n",
       "      <td>45046.000000</td>\n",
       "      <td>0.000000</td>\n",
       "      <td>1.120000</td>\n",
       "      <td>1.000000</td>\n",
       "      <td>0.000000</td>\n",
       "      <td>0.000000</td>\n",
       "      <td>1.000000</td>\n",
       "    </tr>\n",
       "    <tr>\n",
       "      <th>25%</th>\n",
       "      <td>10078.500000</td>\n",
       "      <td>1.000000</td>\n",
       "      <td>55501.500000</td>\n",
       "      <td>0.000000</td>\n",
       "      <td>3.690000</td>\n",
       "      <td>3.000000</td>\n",
       "      <td>0.000000</td>\n",
       "      <td>0.000000</td>\n",
       "      <td>5.000000</td>\n",
       "    </tr>\n",
       "    <tr>\n",
       "      <th>50%</th>\n",
       "      <td>10156.000000</td>\n",
       "      <td>1.000000</td>\n",
       "      <td>62810.000000</td>\n",
       "      <td>0.000000</td>\n",
       "      <td>4.280000</td>\n",
       "      <td>4.000000</td>\n",
       "      <td>0.000000</td>\n",
       "      <td>0.000000</td>\n",
       "      <td>10.000000</td>\n",
       "    </tr>\n",
       "    <tr>\n",
       "      <th>75%</th>\n",
       "      <td>10233.500000</td>\n",
       "      <td>5.000000</td>\n",
       "      <td>72036.000000</td>\n",
       "      <td>1.000000</td>\n",
       "      <td>4.700000</td>\n",
       "      <td>5.000000</td>\n",
       "      <td>0.000000</td>\n",
       "      <td>0.000000</td>\n",
       "      <td>15.000000</td>\n",
       "    </tr>\n",
       "    <tr>\n",
       "      <th>max</th>\n",
       "      <td>10311.000000</td>\n",
       "      <td>5.000000</td>\n",
       "      <td>250000.000000</td>\n",
       "      <td>1.000000</td>\n",
       "      <td>5.000000</td>\n",
       "      <td>5.000000</td>\n",
       "      <td>8.000000</td>\n",
       "      <td>6.000000</td>\n",
       "      <td>20.000000</td>\n",
       "    </tr>\n",
       "  </tbody>\n",
       "</table>\n",
       "</div>"
      ],
      "text/plain": [
       "              EmpID  EmpStatusID         Salary       Termd  EngagementSurvey  \\\n",
       "count    311.000000   302.000000     311.000000  311.000000        311.000000   \n",
       "mean   10156.000000     2.387417   69020.684887    0.334405          4.110000   \n",
       "std       89.922189     1.794854   25156.636930    0.472542          0.789938   \n",
       "min    10001.000000     1.000000   45046.000000    0.000000          1.120000   \n",
       "25%    10078.500000     1.000000   55501.500000    0.000000          3.690000   \n",
       "50%    10156.000000     1.000000   62810.000000    0.000000          4.280000   \n",
       "75%    10233.500000     5.000000   72036.000000    1.000000          4.700000   \n",
       "max    10311.000000     5.000000  250000.000000    1.000000          5.000000   \n",
       "\n",
       "       EmpSatisfaction  SpecialProjectsCount  DaysLateLast30    Absences  \n",
       "count       311.000000            311.000000      311.000000  311.000000  \n",
       "mean          3.890675              1.218650        0.414791   10.237942  \n",
       "std           0.909241              2.349421        1.294519    5.852596  \n",
       "min           1.000000              0.000000        0.000000    1.000000  \n",
       "25%           3.000000              0.000000        0.000000    5.000000  \n",
       "50%           4.000000              0.000000        0.000000   10.000000  \n",
       "75%           5.000000              0.000000        0.000000   15.000000  \n",
       "max           5.000000              8.000000        6.000000   20.000000  "
      ]
     },
     "execution_count": 210,
     "metadata": {},
     "output_type": "execute_result"
    }
   ],
   "source": [
    "dfb.describe()"
   ]
  },
  {
   "cell_type": "code",
   "execution_count": 211,
   "id": "thorough-produce",
   "metadata": {},
   "outputs": [
    {
     "data": {
      "text/plain": [
       "Employee_Name             0\n",
       "EmpID                     0\n",
       "EmpStatusID               9\n",
       "Salary                    0\n",
       "Termd                     0\n",
       "DOB                       0\n",
       "Gender                    0\n",
       "MaritalDesc               4\n",
       "CitizenDesc               4\n",
       "DateofHire                0\n",
       "DateofTermination       207\n",
       "PerformanceScore          0\n",
       "EngagementSurvey          0\n",
       "EmpSatisfaction           0\n",
       "SpecialProjectsCount      0\n",
       "DaysLateLast30            0\n",
       "Absences                  0\n",
       "dtype: int64"
      ]
     },
     "execution_count": 211,
     "metadata": {},
     "output_type": "execute_result"
    }
   ],
   "source": [
    "#missing values in each column\n",
    "dfb.isna().sum()"
   ]
  },
  {
   "cell_type": "code",
   "execution_count": 212,
   "id": "sitting-identity",
   "metadata": {},
   "outputs": [
    {
     "data": {
      "text/plain": [
       "224"
      ]
     },
     "execution_count": 212,
     "metadata": {},
     "output_type": "execute_result"
    }
   ],
   "source": [
    "#count of missing values in the entire dataset\n",
    "dfb.isna().sum().sum()"
   ]
  },
  {
   "cell_type": "markdown",
   "id": "flexible-numbers",
   "metadata": {},
   "source": [
    "#Question 7 - Change datatype of column DateofHire and DateofTermination;\n",
    "##Replace missing values in the column DateOfTermination with 1/1/2022 \n",
    "Add new column \"Years of Tenure\" - holds the number of years a person worked in the company until the beginning of 2022\n",
    "    (find the difference between the termination or 1/1/2022 and the hiring date)\n",
    "What is the average of this new column? (4 digits after the decimal point) \n",
    "Drop columns DateofHire and DateofTermination"
   ]
  },
  {
   "cell_type": "code",
   "execution_count": 213,
   "id": "spanish-pantyhose",
   "metadata": {},
   "outputs": [],
   "source": [
    "dfb['DateofHire'] = pd.to_datetime(dfb['DateofHire'])\n",
    "dfb['DateofTermination'] = pd.to_datetime(dfb['DateofTermination'])\n",
    "\n",
    "#new way\n",
    "#dfb['DateofHire'] = pd.to_datetime(dfb['DateofHire']).dt.date\n",
    "#dfb['DateofTermination'] = pd.to_datetime(dfb['DateofTermination']).dt.date"
   ]
  },
  {
   "cell_type": "code",
   "execution_count": 214,
   "id": "honey-fifty",
   "metadata": {},
   "outputs": [
    {
     "name": "stdout",
     "output_type": "stream",
     "text": [
      "<class 'pandas.core.frame.DataFrame'>\n",
      "RangeIndex: 311 entries, 0 to 310\n",
      "Data columns (total 17 columns):\n",
      " #   Column                Non-Null Count  Dtype         \n",
      "---  ------                --------------  -----         \n",
      " 0   Employee_Name         311 non-null    object        \n",
      " 1   EmpID                 311 non-null    int64         \n",
      " 2   EmpStatusID           302 non-null    float64       \n",
      " 3   Salary                311 non-null    int64         \n",
      " 4   Termd                 311 non-null    int64         \n",
      " 5   DOB                   311 non-null    object        \n",
      " 6   Gender                311 non-null    object        \n",
      " 7   MaritalDesc           307 non-null    object        \n",
      " 8   CitizenDesc           307 non-null    object        \n",
      " 9   DateofHire            311 non-null    datetime64[ns]\n",
      " 10  DateofTermination     104 non-null    datetime64[ns]\n",
      " 11  PerformanceScore      311 non-null    object        \n",
      " 12  EngagementSurvey      311 non-null    float64       \n",
      " 13  EmpSatisfaction       311 non-null    int64         \n",
      " 14  SpecialProjectsCount  311 non-null    int64         \n",
      " 15  DaysLateLast30        311 non-null    int64         \n",
      " 16  Absences              311 non-null    int64         \n",
      "dtypes: datetime64[ns](2), float64(2), int64(7), object(6)\n",
      "memory usage: 41.4+ KB\n"
     ]
    },
    {
     "data": {
      "text/html": [
       "<div>\n",
       "<style scoped>\n",
       "    .dataframe tbody tr th:only-of-type {\n",
       "        vertical-align: middle;\n",
       "    }\n",
       "\n",
       "    .dataframe tbody tr th {\n",
       "        vertical-align: top;\n",
       "    }\n",
       "\n",
       "    .dataframe thead th {\n",
       "        text-align: right;\n",
       "    }\n",
       "</style>\n",
       "<table border=\"1\" class=\"dataframe\">\n",
       "  <thead>\n",
       "    <tr style=\"text-align: right;\">\n",
       "      <th></th>\n",
       "      <th>Employee_Name</th>\n",
       "      <th>EmpID</th>\n",
       "      <th>EmpStatusID</th>\n",
       "      <th>Salary</th>\n",
       "      <th>Termd</th>\n",
       "      <th>DOB</th>\n",
       "      <th>Gender</th>\n",
       "      <th>MaritalDesc</th>\n",
       "      <th>CitizenDesc</th>\n",
       "      <th>DateofHire</th>\n",
       "      <th>DateofTermination</th>\n",
       "      <th>PerformanceScore</th>\n",
       "      <th>EngagementSurvey</th>\n",
       "      <th>EmpSatisfaction</th>\n",
       "      <th>SpecialProjectsCount</th>\n",
       "      <th>DaysLateLast30</th>\n",
       "      <th>Absences</th>\n",
       "    </tr>\n",
       "  </thead>\n",
       "  <tbody>\n",
       "    <tr>\n",
       "      <th>0</th>\n",
       "      <td>Adinolfi, Wilson  K</td>\n",
       "      <td>10026</td>\n",
       "      <td>1.0</td>\n",
       "      <td>62506</td>\n",
       "      <td>0</td>\n",
       "      <td>7/10/1983</td>\n",
       "      <td>M</td>\n",
       "      <td>Single</td>\n",
       "      <td>US Citizen</td>\n",
       "      <td>2011-07-05</td>\n",
       "      <td>NaT</td>\n",
       "      <td>Exceeds</td>\n",
       "      <td>4.60</td>\n",
       "      <td>5</td>\n",
       "      <td>0</td>\n",
       "      <td>0</td>\n",
       "      <td>1</td>\n",
       "    </tr>\n",
       "    <tr>\n",
       "      <th>1</th>\n",
       "      <td>Ait Sidi, Karthikeyan</td>\n",
       "      <td>10084</td>\n",
       "      <td>5.0</td>\n",
       "      <td>104437</td>\n",
       "      <td>1</td>\n",
       "      <td>5/5/1975</td>\n",
       "      <td>M</td>\n",
       "      <td>Married</td>\n",
       "      <td>US Citizen</td>\n",
       "      <td>2015-03-30</td>\n",
       "      <td>2016-06-16</td>\n",
       "      <td>Fully Meets</td>\n",
       "      <td>4.96</td>\n",
       "      <td>3</td>\n",
       "      <td>6</td>\n",
       "      <td>0</td>\n",
       "      <td>17</td>\n",
       "    </tr>\n",
       "    <tr>\n",
       "      <th>2</th>\n",
       "      <td>Akinkuolie, Sarah</td>\n",
       "      <td>10196</td>\n",
       "      <td>5.0</td>\n",
       "      <td>64955</td>\n",
       "      <td>1</td>\n",
       "      <td>9/19/1988</td>\n",
       "      <td>F</td>\n",
       "      <td>Married</td>\n",
       "      <td>US Citizen</td>\n",
       "      <td>2011-07-05</td>\n",
       "      <td>2012-09-24</td>\n",
       "      <td>Fully Meets</td>\n",
       "      <td>3.02</td>\n",
       "      <td>3</td>\n",
       "      <td>0</td>\n",
       "      <td>0</td>\n",
       "      <td>3</td>\n",
       "    </tr>\n",
       "    <tr>\n",
       "      <th>3</th>\n",
       "      <td>Alagbe,Trina</td>\n",
       "      <td>10088</td>\n",
       "      <td>1.0</td>\n",
       "      <td>64991</td>\n",
       "      <td>0</td>\n",
       "      <td>9/27/1988</td>\n",
       "      <td>F</td>\n",
       "      <td>Married</td>\n",
       "      <td>US Citizen</td>\n",
       "      <td>2008-01-07</td>\n",
       "      <td>NaT</td>\n",
       "      <td>Fully Meets</td>\n",
       "      <td>4.84</td>\n",
       "      <td>5</td>\n",
       "      <td>0</td>\n",
       "      <td>0</td>\n",
       "      <td>15</td>\n",
       "    </tr>\n",
       "    <tr>\n",
       "      <th>4</th>\n",
       "      <td>Anderson, Carol</td>\n",
       "      <td>10069</td>\n",
       "      <td>5.0</td>\n",
       "      <td>50825</td>\n",
       "      <td>1</td>\n",
       "      <td>9/8/1989</td>\n",
       "      <td>F</td>\n",
       "      <td>Divorced</td>\n",
       "      <td>US Citizen</td>\n",
       "      <td>2011-07-11</td>\n",
       "      <td>2016-09-06</td>\n",
       "      <td>Fully Meets</td>\n",
       "      <td>5.00</td>\n",
       "      <td>4</td>\n",
       "      <td>0</td>\n",
       "      <td>0</td>\n",
       "      <td>2</td>\n",
       "    </tr>\n",
       "  </tbody>\n",
       "</table>\n",
       "</div>"
      ],
      "text/plain": [
       "              Employee_Name  EmpID  EmpStatusID  Salary  Termd        DOB  \\\n",
       "0       Adinolfi, Wilson  K  10026          1.0   62506      0  7/10/1983   \n",
       "1  Ait Sidi, Karthikeyan     10084          5.0  104437      1   5/5/1975   \n",
       "2         Akinkuolie, Sarah  10196          5.0   64955      1  9/19/1988   \n",
       "3              Alagbe,Trina  10088          1.0   64991      0  9/27/1988   \n",
       "4          Anderson, Carol   10069          5.0   50825      1   9/8/1989   \n",
       "\n",
       "  Gender MaritalDesc CitizenDesc DateofHire DateofTermination  \\\n",
       "0      M      Single  US Citizen 2011-07-05               NaT   \n",
       "1      M     Married  US Citizen 2015-03-30        2016-06-16   \n",
       "2      F     Married  US Citizen 2011-07-05        2012-09-24   \n",
       "3      F     Married  US Citizen 2008-01-07               NaT   \n",
       "4      F    Divorced  US Citizen 2011-07-11        2016-09-06   \n",
       "\n",
       "  PerformanceScore  EngagementSurvey  EmpSatisfaction  SpecialProjectsCount  \\\n",
       "0          Exceeds              4.60                5                     0   \n",
       "1      Fully Meets              4.96                3                     6   \n",
       "2      Fully Meets              3.02                3                     0   \n",
       "3      Fully Meets              4.84                5                     0   \n",
       "4      Fully Meets              5.00                4                     0   \n",
       "\n",
       "   DaysLateLast30  Absences  \n",
       "0               0         1  \n",
       "1               0        17  \n",
       "2               0         3  \n",
       "3               0        15  \n",
       "4               0         2  "
      ]
     },
     "execution_count": 214,
     "metadata": {},
     "output_type": "execute_result"
    }
   ],
   "source": [
    "dfb.info()\n",
    "dfb.head()"
   ]
  },
  {
   "cell_type": "code",
   "execution_count": 215,
   "id": "federal-darwin",
   "metadata": {},
   "outputs": [],
   "source": [
    "#Replace missing values in column DateofTermination with 1/1/2022"
   ]
  },
  {
   "cell_type": "code",
   "execution_count": 216,
   "id": "third-costs",
   "metadata": {},
   "outputs": [],
   "source": [
    "dfb['DateofTermination'].replace(np.nan, '1/1/2022', inplace=True)"
   ]
  },
  {
   "cell_type": "code",
   "execution_count": 217,
   "id": "junior-judges",
   "metadata": {},
   "outputs": [
    {
     "data": {
      "text/html": [
       "<div>\n",
       "<style scoped>\n",
       "    .dataframe tbody tr th:only-of-type {\n",
       "        vertical-align: middle;\n",
       "    }\n",
       "\n",
       "    .dataframe tbody tr th {\n",
       "        vertical-align: top;\n",
       "    }\n",
       "\n",
       "    .dataframe thead th {\n",
       "        text-align: right;\n",
       "    }\n",
       "</style>\n",
       "<table border=\"1\" class=\"dataframe\">\n",
       "  <thead>\n",
       "    <tr style=\"text-align: right;\">\n",
       "      <th></th>\n",
       "      <th>Employee_Name</th>\n",
       "      <th>EmpID</th>\n",
       "      <th>EmpStatusID</th>\n",
       "      <th>Salary</th>\n",
       "      <th>Termd</th>\n",
       "      <th>DOB</th>\n",
       "      <th>Gender</th>\n",
       "      <th>MaritalDesc</th>\n",
       "      <th>CitizenDesc</th>\n",
       "      <th>DateofHire</th>\n",
       "      <th>DateofTermination</th>\n",
       "      <th>PerformanceScore</th>\n",
       "      <th>EngagementSurvey</th>\n",
       "      <th>EmpSatisfaction</th>\n",
       "      <th>SpecialProjectsCount</th>\n",
       "      <th>DaysLateLast30</th>\n",
       "      <th>Absences</th>\n",
       "    </tr>\n",
       "  </thead>\n",
       "  <tbody>\n",
       "    <tr>\n",
       "      <th>0</th>\n",
       "      <td>Adinolfi, Wilson  K</td>\n",
       "      <td>10026</td>\n",
       "      <td>1.0</td>\n",
       "      <td>62506</td>\n",
       "      <td>0</td>\n",
       "      <td>7/10/1983</td>\n",
       "      <td>M</td>\n",
       "      <td>Single</td>\n",
       "      <td>US Citizen</td>\n",
       "      <td>2011-07-05</td>\n",
       "      <td>2022-01-01</td>\n",
       "      <td>Exceeds</td>\n",
       "      <td>4.60</td>\n",
       "      <td>5</td>\n",
       "      <td>0</td>\n",
       "      <td>0</td>\n",
       "      <td>1</td>\n",
       "    </tr>\n",
       "    <tr>\n",
       "      <th>1</th>\n",
       "      <td>Ait Sidi, Karthikeyan</td>\n",
       "      <td>10084</td>\n",
       "      <td>5.0</td>\n",
       "      <td>104437</td>\n",
       "      <td>1</td>\n",
       "      <td>5/5/1975</td>\n",
       "      <td>M</td>\n",
       "      <td>Married</td>\n",
       "      <td>US Citizen</td>\n",
       "      <td>2015-03-30</td>\n",
       "      <td>2016-06-16</td>\n",
       "      <td>Fully Meets</td>\n",
       "      <td>4.96</td>\n",
       "      <td>3</td>\n",
       "      <td>6</td>\n",
       "      <td>0</td>\n",
       "      <td>17</td>\n",
       "    </tr>\n",
       "    <tr>\n",
       "      <th>2</th>\n",
       "      <td>Akinkuolie, Sarah</td>\n",
       "      <td>10196</td>\n",
       "      <td>5.0</td>\n",
       "      <td>64955</td>\n",
       "      <td>1</td>\n",
       "      <td>9/19/1988</td>\n",
       "      <td>F</td>\n",
       "      <td>Married</td>\n",
       "      <td>US Citizen</td>\n",
       "      <td>2011-07-05</td>\n",
       "      <td>2012-09-24</td>\n",
       "      <td>Fully Meets</td>\n",
       "      <td>3.02</td>\n",
       "      <td>3</td>\n",
       "      <td>0</td>\n",
       "      <td>0</td>\n",
       "      <td>3</td>\n",
       "    </tr>\n",
       "    <tr>\n",
       "      <th>3</th>\n",
       "      <td>Alagbe,Trina</td>\n",
       "      <td>10088</td>\n",
       "      <td>1.0</td>\n",
       "      <td>64991</td>\n",
       "      <td>0</td>\n",
       "      <td>9/27/1988</td>\n",
       "      <td>F</td>\n",
       "      <td>Married</td>\n",
       "      <td>US Citizen</td>\n",
       "      <td>2008-01-07</td>\n",
       "      <td>2022-01-01</td>\n",
       "      <td>Fully Meets</td>\n",
       "      <td>4.84</td>\n",
       "      <td>5</td>\n",
       "      <td>0</td>\n",
       "      <td>0</td>\n",
       "      <td>15</td>\n",
       "    </tr>\n",
       "    <tr>\n",
       "      <th>4</th>\n",
       "      <td>Anderson, Carol</td>\n",
       "      <td>10069</td>\n",
       "      <td>5.0</td>\n",
       "      <td>50825</td>\n",
       "      <td>1</td>\n",
       "      <td>9/8/1989</td>\n",
       "      <td>F</td>\n",
       "      <td>Divorced</td>\n",
       "      <td>US Citizen</td>\n",
       "      <td>2011-07-11</td>\n",
       "      <td>2016-09-06</td>\n",
       "      <td>Fully Meets</td>\n",
       "      <td>5.00</td>\n",
       "      <td>4</td>\n",
       "      <td>0</td>\n",
       "      <td>0</td>\n",
       "      <td>2</td>\n",
       "    </tr>\n",
       "  </tbody>\n",
       "</table>\n",
       "</div>"
      ],
      "text/plain": [
       "              Employee_Name  EmpID  EmpStatusID  Salary  Termd        DOB  \\\n",
       "0       Adinolfi, Wilson  K  10026          1.0   62506      0  7/10/1983   \n",
       "1  Ait Sidi, Karthikeyan     10084          5.0  104437      1   5/5/1975   \n",
       "2         Akinkuolie, Sarah  10196          5.0   64955      1  9/19/1988   \n",
       "3              Alagbe,Trina  10088          1.0   64991      0  9/27/1988   \n",
       "4          Anderson, Carol   10069          5.0   50825      1   9/8/1989   \n",
       "\n",
       "  Gender MaritalDesc CitizenDesc DateofHire DateofTermination  \\\n",
       "0      M      Single  US Citizen 2011-07-05        2022-01-01   \n",
       "1      M     Married  US Citizen 2015-03-30        2016-06-16   \n",
       "2      F     Married  US Citizen 2011-07-05        2012-09-24   \n",
       "3      F     Married  US Citizen 2008-01-07        2022-01-01   \n",
       "4      F    Divorced  US Citizen 2011-07-11        2016-09-06   \n",
       "\n",
       "  PerformanceScore  EngagementSurvey  EmpSatisfaction  SpecialProjectsCount  \\\n",
       "0          Exceeds              4.60                5                     0   \n",
       "1      Fully Meets              4.96                3                     6   \n",
       "2      Fully Meets              3.02                3                     0   \n",
       "3      Fully Meets              4.84                5                     0   \n",
       "4      Fully Meets              5.00                4                     0   \n",
       "\n",
       "   DaysLateLast30  Absences  \n",
       "0               0         1  \n",
       "1               0        17  \n",
       "2               0         3  \n",
       "3               0        15  \n",
       "4               0         2  "
      ]
     },
     "execution_count": 217,
     "metadata": {},
     "output_type": "execute_result"
    }
   ],
   "source": [
    "dfb.head()"
   ]
  },
  {
   "cell_type": "code",
   "execution_count": 218,
   "id": "blind-vegetation",
   "metadata": {},
   "outputs": [],
   "source": [
    "#Add new column \"Years of Tenure\" # of years a person worked in the company until the beginning of 2022"
   ]
  },
  {
   "cell_type": "code",
   "execution_count": 219,
   "id": "spatial-introduction",
   "metadata": {},
   "outputs": [],
   "source": [
    "dfb['DateofHire'] = dfb['DateofHire'].astype(np.datetime64)\n",
    "#dfb['DateofTermination'].fillna('1/1/2022', inplace = True)\n",
    "dfb['DateofTermination'] = dfb['DateofTermination'].astype(np.datetime64)\n",
    "dfb['Years of Tenure'] = dfb['DateofTermination'].dt.year - dfb['DateofHire'].dt.year\n",
    "dfb['Years of Tenure'] = dfb['Years of Tenure'].astype(int)"
   ]
  },
  {
   "cell_type": "code",
   "execution_count": 220,
   "id": "latter-straight",
   "metadata": {},
   "outputs": [
    {
     "data": {
      "text/html": [
       "<div>\n",
       "<style scoped>\n",
       "    .dataframe tbody tr th:only-of-type {\n",
       "        vertical-align: middle;\n",
       "    }\n",
       "\n",
       "    .dataframe tbody tr th {\n",
       "        vertical-align: top;\n",
       "    }\n",
       "\n",
       "    .dataframe thead th {\n",
       "        text-align: right;\n",
       "    }\n",
       "</style>\n",
       "<table border=\"1\" class=\"dataframe\">\n",
       "  <thead>\n",
       "    <tr style=\"text-align: right;\">\n",
       "      <th></th>\n",
       "      <th>DateofHire</th>\n",
       "      <th>DateofTermination</th>\n",
       "      <th>Years of Tenure</th>\n",
       "    </tr>\n",
       "  </thead>\n",
       "  <tbody>\n",
       "    <tr>\n",
       "      <th>0</th>\n",
       "      <td>2011-07-05</td>\n",
       "      <td>2022-01-01</td>\n",
       "      <td>11</td>\n",
       "    </tr>\n",
       "    <tr>\n",
       "      <th>1</th>\n",
       "      <td>2015-03-30</td>\n",
       "      <td>2016-06-16</td>\n",
       "      <td>1</td>\n",
       "    </tr>\n",
       "    <tr>\n",
       "      <th>2</th>\n",
       "      <td>2011-07-05</td>\n",
       "      <td>2012-09-24</td>\n",
       "      <td>1</td>\n",
       "    </tr>\n",
       "    <tr>\n",
       "      <th>3</th>\n",
       "      <td>2008-01-07</td>\n",
       "      <td>2022-01-01</td>\n",
       "      <td>14</td>\n",
       "    </tr>\n",
       "    <tr>\n",
       "      <th>4</th>\n",
       "      <td>2011-07-11</td>\n",
       "      <td>2016-09-06</td>\n",
       "      <td>5</td>\n",
       "    </tr>\n",
       "    <tr>\n",
       "      <th>...</th>\n",
       "      <td>...</td>\n",
       "      <td>...</td>\n",
       "      <td>...</td>\n",
       "    </tr>\n",
       "    <tr>\n",
       "      <th>306</th>\n",
       "      <td>2014-07-07</td>\n",
       "      <td>2022-01-01</td>\n",
       "      <td>8</td>\n",
       "    </tr>\n",
       "    <tr>\n",
       "      <th>307</th>\n",
       "      <td>2008-09-02</td>\n",
       "      <td>2015-09-29</td>\n",
       "      <td>7</td>\n",
       "    </tr>\n",
       "    <tr>\n",
       "      <th>308</th>\n",
       "      <td>2010-04-10</td>\n",
       "      <td>2022-01-01</td>\n",
       "      <td>12</td>\n",
       "    </tr>\n",
       "    <tr>\n",
       "      <th>309</th>\n",
       "      <td>2015-03-30</td>\n",
       "      <td>2022-01-01</td>\n",
       "      <td>7</td>\n",
       "    </tr>\n",
       "    <tr>\n",
       "      <th>310</th>\n",
       "      <td>2014-09-29</td>\n",
       "      <td>2022-01-01</td>\n",
       "      <td>8</td>\n",
       "    </tr>\n",
       "  </tbody>\n",
       "</table>\n",
       "<p>311 rows × 3 columns</p>\n",
       "</div>"
      ],
      "text/plain": [
       "    DateofHire DateofTermination  Years of Tenure\n",
       "0   2011-07-05        2022-01-01               11\n",
       "1   2015-03-30        2016-06-16                1\n",
       "2   2011-07-05        2012-09-24                1\n",
       "3   2008-01-07        2022-01-01               14\n",
       "4   2011-07-11        2016-09-06                5\n",
       "..         ...               ...              ...\n",
       "306 2014-07-07        2022-01-01                8\n",
       "307 2008-09-02        2015-09-29                7\n",
       "308 2010-04-10        2022-01-01               12\n",
       "309 2015-03-30        2022-01-01                7\n",
       "310 2014-09-29        2022-01-01                8\n",
       "\n",
       "[311 rows x 3 columns]"
      ]
     },
     "execution_count": 220,
     "metadata": {},
     "output_type": "execute_result"
    }
   ],
   "source": [
    "dfb[['DateofHire', 'DateofTermination', 'Years of Tenure']]"
   ]
  },
  {
   "cell_type": "code",
   "execution_count": 221,
   "id": "czech-cedar",
   "metadata": {},
   "outputs": [
    {
     "data": {
      "text/plain": [
       "6.961414790996785"
      ]
     },
     "execution_count": 221,
     "metadata": {},
     "output_type": "execute_result"
    }
   ],
   "source": [
    "dfb['Years of Tenure'].mean()"
   ]
  },
  {
   "cell_type": "code",
   "execution_count": 222,
   "id": "ecological-botswana",
   "metadata": {},
   "outputs": [],
   "source": [
    "#drop DateofHire and DateofTermination columns from df\n",
    "dfb2 = dfb.drop(['DateofHire', 'DateofTermination'], axis=1)"
   ]
  },
  {
   "cell_type": "markdown",
   "id": "agricultural-speaking",
   "metadata": {},
   "source": [
    "##Question 8 - Add new column \"Age\". Diference between 2022 and year of birth of each employee. \n",
    "Drop DOB from dataset\n",
    "Median age of employees in the dataset?"
   ]
  },
  {
   "cell_type": "code",
   "execution_count": 223,
   "id": "colonial-canyon",
   "metadata": {},
   "outputs": [],
   "source": [
    "dfb2['Age'] = 2022 - pd.to_datetime(dfb2['DOB']).dt.year"
   ]
  },
  {
   "cell_type": "code",
   "execution_count": 224,
   "id": "coordinated-peripheral",
   "metadata": {},
   "outputs": [
    {
     "data": {
      "text/html": [
       "<div>\n",
       "<style scoped>\n",
       "    .dataframe tbody tr th:only-of-type {\n",
       "        vertical-align: middle;\n",
       "    }\n",
       "\n",
       "    .dataframe tbody tr th {\n",
       "        vertical-align: top;\n",
       "    }\n",
       "\n",
       "    .dataframe thead th {\n",
       "        text-align: right;\n",
       "    }\n",
       "</style>\n",
       "<table border=\"1\" class=\"dataframe\">\n",
       "  <thead>\n",
       "    <tr style=\"text-align: right;\">\n",
       "      <th></th>\n",
       "      <th>Employee_Name</th>\n",
       "      <th>EmpID</th>\n",
       "      <th>EmpStatusID</th>\n",
       "      <th>Salary</th>\n",
       "      <th>Termd</th>\n",
       "      <th>DOB</th>\n",
       "      <th>Gender</th>\n",
       "      <th>MaritalDesc</th>\n",
       "      <th>CitizenDesc</th>\n",
       "      <th>PerformanceScore</th>\n",
       "      <th>EngagementSurvey</th>\n",
       "      <th>EmpSatisfaction</th>\n",
       "      <th>SpecialProjectsCount</th>\n",
       "      <th>DaysLateLast30</th>\n",
       "      <th>Absences</th>\n",
       "      <th>Years of Tenure</th>\n",
       "      <th>Age</th>\n",
       "    </tr>\n",
       "  </thead>\n",
       "  <tbody>\n",
       "    <tr>\n",
       "      <th>0</th>\n",
       "      <td>Adinolfi, Wilson  K</td>\n",
       "      <td>10026</td>\n",
       "      <td>1.0</td>\n",
       "      <td>62506</td>\n",
       "      <td>0</td>\n",
       "      <td>7/10/1983</td>\n",
       "      <td>M</td>\n",
       "      <td>Single</td>\n",
       "      <td>US Citizen</td>\n",
       "      <td>Exceeds</td>\n",
       "      <td>4.60</td>\n",
       "      <td>5</td>\n",
       "      <td>0</td>\n",
       "      <td>0</td>\n",
       "      <td>1</td>\n",
       "      <td>11</td>\n",
       "      <td>39</td>\n",
       "    </tr>\n",
       "    <tr>\n",
       "      <th>1</th>\n",
       "      <td>Ait Sidi, Karthikeyan</td>\n",
       "      <td>10084</td>\n",
       "      <td>5.0</td>\n",
       "      <td>104437</td>\n",
       "      <td>1</td>\n",
       "      <td>5/5/1975</td>\n",
       "      <td>M</td>\n",
       "      <td>Married</td>\n",
       "      <td>US Citizen</td>\n",
       "      <td>Fully Meets</td>\n",
       "      <td>4.96</td>\n",
       "      <td>3</td>\n",
       "      <td>6</td>\n",
       "      <td>0</td>\n",
       "      <td>17</td>\n",
       "      <td>1</td>\n",
       "      <td>47</td>\n",
       "    </tr>\n",
       "    <tr>\n",
       "      <th>2</th>\n",
       "      <td>Akinkuolie, Sarah</td>\n",
       "      <td>10196</td>\n",
       "      <td>5.0</td>\n",
       "      <td>64955</td>\n",
       "      <td>1</td>\n",
       "      <td>9/19/1988</td>\n",
       "      <td>F</td>\n",
       "      <td>Married</td>\n",
       "      <td>US Citizen</td>\n",
       "      <td>Fully Meets</td>\n",
       "      <td>3.02</td>\n",
       "      <td>3</td>\n",
       "      <td>0</td>\n",
       "      <td>0</td>\n",
       "      <td>3</td>\n",
       "      <td>1</td>\n",
       "      <td>34</td>\n",
       "    </tr>\n",
       "    <tr>\n",
       "      <th>3</th>\n",
       "      <td>Alagbe,Trina</td>\n",
       "      <td>10088</td>\n",
       "      <td>1.0</td>\n",
       "      <td>64991</td>\n",
       "      <td>0</td>\n",
       "      <td>9/27/1988</td>\n",
       "      <td>F</td>\n",
       "      <td>Married</td>\n",
       "      <td>US Citizen</td>\n",
       "      <td>Fully Meets</td>\n",
       "      <td>4.84</td>\n",
       "      <td>5</td>\n",
       "      <td>0</td>\n",
       "      <td>0</td>\n",
       "      <td>15</td>\n",
       "      <td>14</td>\n",
       "      <td>34</td>\n",
       "    </tr>\n",
       "    <tr>\n",
       "      <th>4</th>\n",
       "      <td>Anderson, Carol</td>\n",
       "      <td>10069</td>\n",
       "      <td>5.0</td>\n",
       "      <td>50825</td>\n",
       "      <td>1</td>\n",
       "      <td>9/8/1989</td>\n",
       "      <td>F</td>\n",
       "      <td>Divorced</td>\n",
       "      <td>US Citizen</td>\n",
       "      <td>Fully Meets</td>\n",
       "      <td>5.00</td>\n",
       "      <td>4</td>\n",
       "      <td>0</td>\n",
       "      <td>0</td>\n",
       "      <td>2</td>\n",
       "      <td>5</td>\n",
       "      <td>33</td>\n",
       "    </tr>\n",
       "  </tbody>\n",
       "</table>\n",
       "</div>"
      ],
      "text/plain": [
       "              Employee_Name  EmpID  EmpStatusID  Salary  Termd        DOB  \\\n",
       "0       Adinolfi, Wilson  K  10026          1.0   62506      0  7/10/1983   \n",
       "1  Ait Sidi, Karthikeyan     10084          5.0  104437      1   5/5/1975   \n",
       "2         Akinkuolie, Sarah  10196          5.0   64955      1  9/19/1988   \n",
       "3              Alagbe,Trina  10088          1.0   64991      0  9/27/1988   \n",
       "4          Anderson, Carol   10069          5.0   50825      1   9/8/1989   \n",
       "\n",
       "  Gender MaritalDesc CitizenDesc PerformanceScore  EngagementSurvey  \\\n",
       "0      M      Single  US Citizen          Exceeds              4.60   \n",
       "1      M     Married  US Citizen      Fully Meets              4.96   \n",
       "2      F     Married  US Citizen      Fully Meets              3.02   \n",
       "3      F     Married  US Citizen      Fully Meets              4.84   \n",
       "4      F    Divorced  US Citizen      Fully Meets              5.00   \n",
       "\n",
       "   EmpSatisfaction  SpecialProjectsCount  DaysLateLast30  Absences  \\\n",
       "0                5                     0               0         1   \n",
       "1                3                     6               0        17   \n",
       "2                3                     0               0         3   \n",
       "3                5                     0               0        15   \n",
       "4                4                     0               0         2   \n",
       "\n",
       "   Years of Tenure  Age  \n",
       "0               11   39  \n",
       "1                1   47  \n",
       "2                1   34  \n",
       "3               14   34  \n",
       "4                5   33  "
      ]
     },
     "execution_count": 224,
     "metadata": {},
     "output_type": "execute_result"
    }
   ],
   "source": [
    "dfb2.head()"
   ]
  },
  {
   "cell_type": "code",
   "execution_count": 225,
   "id": "painted-xerox",
   "metadata": {},
   "outputs": [],
   "source": [
    "dfb2 = dfb2.drop(['DOB'], axis=1)"
   ]
  },
  {
   "cell_type": "code",
   "execution_count": 226,
   "id": "standing-karaoke",
   "metadata": {},
   "outputs": [
    {
     "data": {
      "text/plain": [
       "42.0"
      ]
     },
     "execution_count": 226,
     "metadata": {},
     "output_type": "execute_result"
    }
   ],
   "source": [
    "dfb2['Age'].median()"
   ]
  },
  {
   "cell_type": "code",
   "execution_count": 227,
   "id": "interracial-timber",
   "metadata": {},
   "outputs": [
    {
     "name": "stdout",
     "output_type": "stream",
     "text": [
      "             Employee_Name  EmpID  EmpStatusID  Salary  Termd         DOB  \\\n",
      "30      Buccheri, Joseph    10184          1.0   65288      0   7/28/1983   \n",
      "40       Carter, Michelle   10040          1.0   71860      0   5/15/1963   \n",
      "58       Crimmings,   Jean  10132          NaN   56149      0   4/10/1987   \n",
      "59             Cross, Noah  10083          NaN   92329      0    9/9/1965   \n",
      "68           Demita, Carla  10100          NaN   58275      1   2/25/1951   \n",
      "88         Fancett, Nicole  10136          NaN   65902      0   9/27/1987   \n",
      "109            Goeth, Amon  10228          1.0   74679      0  11/24/1989   \n",
      "137      Immediato, Walter  10289          NaN   83082      1  11/15/1976   \n",
      "171           Lundy, Susan  10096          5.0   67237      1  12/26/1976   \n",
      "192         Moran, Patrick  10223          3.0   72106      0   12/3/1976   \n",
      "246  Saar-Beckles, Melinda  10295          NaN   47750      0    6/6/1968   \n",
      "249          Salter, Jason  10229          5.0   88527      1  12/17/1987   \n",
      "267     Stansfield, Norman  10307          NaN   58273      0    5/9/1974   \n",
      "277        Tejeda, Lenora   10146          NaN   72202      1   5/24/1953   \n",
      "278       Terry, Sharlene   10161          NaN   58370      0    5/7/1965   \n",
      "298          Wang, Charlie  10172          1.0   84903      0    7/8/1981   \n",
      "300        Whittier, Scott  10072          5.0   58371      1   5/24/1987   \n",
      "\n",
      "    Gender MaritalDesc CitizenDesc DateofHire DateofTermination  \\\n",
      "30       M      Single         NaN 2014-09-29        2022-01-01   \n",
      "40       F         NaN  US Citizen 2014-08-18        2022-01-01   \n",
      "58       F      Single  US Citizen 2016-07-06        2022-01-01   \n",
      "59       M      Single  US Citizen 2014-11-10        2022-01-01   \n",
      "68       F   Separated  US Citizen 2011-04-04        2015-11-04   \n",
      "88       F      Single  US Citizen 2014-02-17        2022-01-01   \n",
      "109      M         NaN  US Citizen 2015-03-30        2022-01-01   \n",
      "137      M     Married  US Citizen 2011-02-21        2012-09-24   \n",
      "171      F         NaN  US Citizen 2013-07-08        2016-09-15   \n",
      "192      M      Single         NaN 2012-01-09        2022-01-01   \n",
      "246      F      Single  US Citizen 2016-07-04        2022-01-01   \n",
      "249      M    Divorced         NaN 2015-01-05        2015-10-31   \n",
      "267      M     Married  US Citizen 2014-05-12        2022-01-01   \n",
      "277      F     Married  US Citizen 2011-05-16        2017-07-08   \n",
      "278      F      Single  US Citizen 2014-09-29        2022-01-01   \n",
      "298      M         NaN  US Citizen 2017-02-15        2022-01-01   \n",
      "300      M      Single         NaN 2011-01-10        2014-05-15   \n",
      "\n",
      "      PerformanceScore  EngagementSurvey  EmpSatisfaction  \\\n",
      "30         Fully Meets              3.19                3   \n",
      "40         Fully Meets              5.00                5   \n",
      "58         Fully Meets              4.12                5   \n",
      "59         Fully Meets              5.00                3   \n",
      "68         Fully Meets              4.62                5   \n",
      "88         Fully Meets              4.00                4   \n",
      "109        Fully Meets              4.30                5   \n",
      "137  Needs Improvement              2.34                2   \n",
      "171        Fully Meets              4.65                4   \n",
      "192        Fully Meets              4.10                4   \n",
      "246  Needs Improvement              2.60                4   \n",
      "249        Fully Meets              4.20                3   \n",
      "267                PIP              1.81                2   \n",
      "277        Fully Meets              3.93                3   \n",
      "278        Fully Meets              3.69                3   \n",
      "298        Fully Meets              3.42                4   \n",
      "300        Fully Meets              5.00                5   \n",
      "\n",
      "     SpecialProjectsCount  DaysLateLast30  Absences  Years of Tenure  \n",
      "30                      0               0         9                8  \n",
      "40                      0               0         7                8  \n",
      "58                      0               0        15                6  \n",
      "59                      4               0         5                8  \n",
      "68                      0               0         1                4  \n",
      "88                      0               0         7                8  \n",
      "109                     7               0        20                7  \n",
      "137                     0               3         4                1  \n",
      "171                     0               0        15                3  \n",
      "192                     0               0        12               10  \n",
      "246                     0               5         4                6  \n",
      "249                     5               0         2                0  \n",
      "267                     0               3         5                8  \n",
      "277                     0               0         3                6  \n",
      "278                     0               0        18                8  \n",
      "298                     7               0        17                5  \n",
      "300                     0               0        11                3  \n"
     ]
    },
    {
     "data": {
      "text/plain": [
       "17"
      ]
     },
     "execution_count": 227,
     "metadata": {},
     "output_type": "execute_result"
    }
   ],
   "source": [
    "#Question 9 - How many rows in the dataset have at least one missing value\n",
    "dfb_missing = dfb[dfb.isna().any(axis=1)]\n",
    "print(dfb_missing)\n",
    "len(dfb_missing)"
   ]
  },
  {
   "cell_type": "code",
   "execution_count": 228,
   "id": "consistent-trailer",
   "metadata": {},
   "outputs": [
    {
     "data": {
      "text/plain": [
       "5.466237942122187"
      ]
     },
     "execution_count": 228,
     "metadata": {},
     "output_type": "execute_result"
    }
   ],
   "source": [
    "(len(dfb_missing) / len(dfb)) * 100"
   ]
  },
  {
   "cell_type": "code",
   "execution_count": 229,
   "id": "resistant-airplane",
   "metadata": {},
   "outputs": [
    {
     "data": {
      "text/plain": [
       "10.237942122186496"
      ]
     },
     "execution_count": 229,
     "metadata": {},
     "output_type": "execute_result"
    }
   ],
   "source": [
    "dfb2['Absences'].mean()"
   ]
  },
  {
   "cell_type": "markdown",
   "id": "coordinated-divide",
   "metadata": {},
   "source": [
    "# Lab 2"
   ]
  },
  {
   "cell_type": "markdown",
   "id": "associate-immigration",
   "metadata": {},
   "source": [
    "##Question 1 - Replace missing values in 'marital' column with most frequent value. What is the frequency of the value after imputation?"
   ]
  },
  {
   "cell_type": "code",
   "execution_count": 230,
   "id": "little-passenger",
   "metadata": {},
   "outputs": [
    {
     "data": {
      "text/html": [
       "<div>\n",
       "<style scoped>\n",
       "    .dataframe tbody tr th:only-of-type {\n",
       "        vertical-align: middle;\n",
       "    }\n",
       "\n",
       "    .dataframe tbody tr th {\n",
       "        vertical-align: top;\n",
       "    }\n",
       "\n",
       "    .dataframe thead th {\n",
       "        text-align: right;\n",
       "    }\n",
       "</style>\n",
       "<table border=\"1\" class=\"dataframe\">\n",
       "  <thead>\n",
       "    <tr style=\"text-align: right;\">\n",
       "      <th></th>\n",
       "      <th>age</th>\n",
       "      <th>job</th>\n",
       "      <th>marital</th>\n",
       "      <th>education</th>\n",
       "      <th>default</th>\n",
       "      <th>housing</th>\n",
       "      <th>loan</th>\n",
       "      <th>contact</th>\n",
       "      <th>duration</th>\n",
       "      <th>campaign</th>\n",
       "      <th>pdays</th>\n",
       "      <th>previous</th>\n",
       "      <th>poutcome</th>\n",
       "      <th>y</th>\n",
       "    </tr>\n",
       "  </thead>\n",
       "  <tbody>\n",
       "    <tr>\n",
       "      <th>0</th>\n",
       "      <td>36.0</td>\n",
       "      <td>admin.</td>\n",
       "      <td>married</td>\n",
       "      <td>university.degree</td>\n",
       "      <td>no</td>\n",
       "      <td>yes</td>\n",
       "      <td>no</td>\n",
       "      <td>cellular</td>\n",
       "      <td>118.0</td>\n",
       "      <td>1</td>\n",
       "      <td>999.0</td>\n",
       "      <td>0</td>\n",
       "      <td>nonexistent</td>\n",
       "      <td>no</td>\n",
       "    </tr>\n",
       "  </tbody>\n",
       "</table>\n",
       "</div>"
      ],
      "text/plain": [
       "    age     job  marital          education default housing loan   contact  \\\n",
       "0  36.0  admin.  married  university.degree      no     yes   no  cellular   \n",
       "\n",
       "   duration  campaign  pdays  previous     poutcome   y  \n",
       "0     118.0         1  999.0         0  nonexistent  no  "
      ]
     },
     "execution_count": 230,
     "metadata": {},
     "output_type": "execute_result"
    }
   ],
   "source": [
    "df1 = dfa \n",
    "df1.mode()"
   ]
  },
  {
   "cell_type": "code",
   "execution_count": 231,
   "id": "sublime-crest",
   "metadata": {},
   "outputs": [],
   "source": [
    "df1['marital'].replace(np.nan, 'married', inplace=True)"
   ]
  },
  {
   "cell_type": "code",
   "execution_count": 232,
   "id": "about-brooks",
   "metadata": {},
   "outputs": [
    {
     "data": {
      "text/plain": [
       "married     2584\n",
       "single      1099\n",
       "divorced     424\n",
       "unknown       12\n",
       "Name: marital, dtype: int64"
      ]
     },
     "execution_count": 232,
     "metadata": {},
     "output_type": "execute_result"
    }
   ],
   "source": [
    "df1['marital'].value_counts()"
   ]
  },
  {
   "cell_type": "markdown",
   "id": "quarterly-rating",
   "metadata": {},
   "source": [
    "##Question2 - Plot histogram of 'duration' column. What is the distribution?"
   ]
  },
  {
   "cell_type": "code",
   "execution_count": 233,
   "id": "together-armenia",
   "metadata": {},
   "outputs": [
    {
     "data": {
      "application/javascript": [
       "/* Put everything inside the global mpl namespace */\n",
       "/* global mpl */\n",
       "window.mpl = {};\n",
       "\n",
       "mpl.get_websocket_type = function () {\n",
       "    if (typeof WebSocket !== 'undefined') {\n",
       "        return WebSocket;\n",
       "    } else if (typeof MozWebSocket !== 'undefined') {\n",
       "        return MozWebSocket;\n",
       "    } else {\n",
       "        alert(\n",
       "            'Your browser does not have WebSocket support. ' +\n",
       "                'Please try Chrome, Safari or Firefox ≥ 6. ' +\n",
       "                'Firefox 4 and 5 are also supported but you ' +\n",
       "                'have to enable WebSockets in about:config.'\n",
       "        );\n",
       "    }\n",
       "};\n",
       "\n",
       "mpl.figure = function (figure_id, websocket, ondownload, parent_element) {\n",
       "    this.id = figure_id;\n",
       "\n",
       "    this.ws = websocket;\n",
       "\n",
       "    this.supports_binary = this.ws.binaryType !== undefined;\n",
       "\n",
       "    if (!this.supports_binary) {\n",
       "        var warnings = document.getElementById('mpl-warnings');\n",
       "        if (warnings) {\n",
       "            warnings.style.display = 'block';\n",
       "            warnings.textContent =\n",
       "                'This browser does not support binary websocket messages. ' +\n",
       "                'Performance may be slow.';\n",
       "        }\n",
       "    }\n",
       "\n",
       "    this.imageObj = new Image();\n",
       "\n",
       "    this.context = undefined;\n",
       "    this.message = undefined;\n",
       "    this.canvas = undefined;\n",
       "    this.rubberband_canvas = undefined;\n",
       "    this.rubberband_context = undefined;\n",
       "    this.format_dropdown = undefined;\n",
       "\n",
       "    this.image_mode = 'full';\n",
       "\n",
       "    this.root = document.createElement('div');\n",
       "    this.root.setAttribute('style', 'display: inline-block');\n",
       "    this._root_extra_style(this.root);\n",
       "\n",
       "    parent_element.appendChild(this.root);\n",
       "\n",
       "    this._init_header(this);\n",
       "    this._init_canvas(this);\n",
       "    this._init_toolbar(this);\n",
       "\n",
       "    var fig = this;\n",
       "\n",
       "    this.waiting = false;\n",
       "\n",
       "    this.ws.onopen = function () {\n",
       "        fig.send_message('supports_binary', { value: fig.supports_binary });\n",
       "        fig.send_message('send_image_mode', {});\n",
       "        if (fig.ratio !== 1) {\n",
       "            fig.send_message('set_dpi_ratio', { dpi_ratio: fig.ratio });\n",
       "        }\n",
       "        fig.send_message('refresh', {});\n",
       "    };\n",
       "\n",
       "    this.imageObj.onload = function () {\n",
       "        if (fig.image_mode === 'full') {\n",
       "            // Full images could contain transparency (where diff images\n",
       "            // almost always do), so we need to clear the canvas so that\n",
       "            // there is no ghosting.\n",
       "            fig.context.clearRect(0, 0, fig.canvas.width, fig.canvas.height);\n",
       "        }\n",
       "        fig.context.drawImage(fig.imageObj, 0, 0);\n",
       "    };\n",
       "\n",
       "    this.imageObj.onunload = function () {\n",
       "        fig.ws.close();\n",
       "    };\n",
       "\n",
       "    this.ws.onmessage = this._make_on_message_function(this);\n",
       "\n",
       "    this.ondownload = ondownload;\n",
       "};\n",
       "\n",
       "mpl.figure.prototype._init_header = function () {\n",
       "    var titlebar = document.createElement('div');\n",
       "    titlebar.classList =\n",
       "        'ui-dialog-titlebar ui-widget-header ui-corner-all ui-helper-clearfix';\n",
       "    var titletext = document.createElement('div');\n",
       "    titletext.classList = 'ui-dialog-title';\n",
       "    titletext.setAttribute(\n",
       "        'style',\n",
       "        'width: 100%; text-align: center; padding: 3px;'\n",
       "    );\n",
       "    titlebar.appendChild(titletext);\n",
       "    this.root.appendChild(titlebar);\n",
       "    this.header = titletext;\n",
       "};\n",
       "\n",
       "mpl.figure.prototype._canvas_extra_style = function (_canvas_div) {};\n",
       "\n",
       "mpl.figure.prototype._root_extra_style = function (_canvas_div) {};\n",
       "\n",
       "mpl.figure.prototype._init_canvas = function () {\n",
       "    var fig = this;\n",
       "\n",
       "    var canvas_div = (this.canvas_div = document.createElement('div'));\n",
       "    canvas_div.setAttribute(\n",
       "        'style',\n",
       "        'border: 1px solid #ddd;' +\n",
       "            'box-sizing: content-box;' +\n",
       "            'clear: both;' +\n",
       "            'min-height: 1px;' +\n",
       "            'min-width: 1px;' +\n",
       "            'outline: 0;' +\n",
       "            'overflow: hidden;' +\n",
       "            'position: relative;' +\n",
       "            'resize: both;'\n",
       "    );\n",
       "\n",
       "    function on_keyboard_event_closure(name) {\n",
       "        return function (event) {\n",
       "            return fig.key_event(event, name);\n",
       "        };\n",
       "    }\n",
       "\n",
       "    canvas_div.addEventListener(\n",
       "        'keydown',\n",
       "        on_keyboard_event_closure('key_press')\n",
       "    );\n",
       "    canvas_div.addEventListener(\n",
       "        'keyup',\n",
       "        on_keyboard_event_closure('key_release')\n",
       "    );\n",
       "\n",
       "    this._canvas_extra_style(canvas_div);\n",
       "    this.root.appendChild(canvas_div);\n",
       "\n",
       "    var canvas = (this.canvas = document.createElement('canvas'));\n",
       "    canvas.classList.add('mpl-canvas');\n",
       "    canvas.setAttribute('style', 'box-sizing: content-box;');\n",
       "\n",
       "    this.context = canvas.getContext('2d');\n",
       "\n",
       "    var backingStore =\n",
       "        this.context.backingStorePixelRatio ||\n",
       "        this.context.webkitBackingStorePixelRatio ||\n",
       "        this.context.mozBackingStorePixelRatio ||\n",
       "        this.context.msBackingStorePixelRatio ||\n",
       "        this.context.oBackingStorePixelRatio ||\n",
       "        this.context.backingStorePixelRatio ||\n",
       "        1;\n",
       "\n",
       "    this.ratio = (window.devicePixelRatio || 1) / backingStore;\n",
       "\n",
       "    var rubberband_canvas = (this.rubberband_canvas = document.createElement(\n",
       "        'canvas'\n",
       "    ));\n",
       "    rubberband_canvas.setAttribute(\n",
       "        'style',\n",
       "        'box-sizing: content-box; position: absolute; left: 0; top: 0; z-index: 1;'\n",
       "    );\n",
       "\n",
       "    // Apply a ponyfill if ResizeObserver is not implemented by browser.\n",
       "    if (this.ResizeObserver === undefined) {\n",
       "        if (window.ResizeObserver !== undefined) {\n",
       "            this.ResizeObserver = window.ResizeObserver;\n",
       "        } else {\n",
       "            var obs = _JSXTOOLS_RESIZE_OBSERVER({});\n",
       "            this.ResizeObserver = obs.ResizeObserver;\n",
       "        }\n",
       "    }\n",
       "\n",
       "    this.resizeObserverInstance = new this.ResizeObserver(function (entries) {\n",
       "        var nentries = entries.length;\n",
       "        for (var i = 0; i < nentries; i++) {\n",
       "            var entry = entries[i];\n",
       "            var width, height;\n",
       "            if (entry.contentBoxSize) {\n",
       "                if (entry.contentBoxSize instanceof Array) {\n",
       "                    // Chrome 84 implements new version of spec.\n",
       "                    width = entry.contentBoxSize[0].inlineSize;\n",
       "                    height = entry.contentBoxSize[0].blockSize;\n",
       "                } else {\n",
       "                    // Firefox implements old version of spec.\n",
       "                    width = entry.contentBoxSize.inlineSize;\n",
       "                    height = entry.contentBoxSize.blockSize;\n",
       "                }\n",
       "            } else {\n",
       "                // Chrome <84 implements even older version of spec.\n",
       "                width = entry.contentRect.width;\n",
       "                height = entry.contentRect.height;\n",
       "            }\n",
       "\n",
       "            // Keep the size of the canvas and rubber band canvas in sync with\n",
       "            // the canvas container.\n",
       "            if (entry.devicePixelContentBoxSize) {\n",
       "                // Chrome 84 implements new version of spec.\n",
       "                canvas.setAttribute(\n",
       "                    'width',\n",
       "                    entry.devicePixelContentBoxSize[0].inlineSize\n",
       "                );\n",
       "                canvas.setAttribute(\n",
       "                    'height',\n",
       "                    entry.devicePixelContentBoxSize[0].blockSize\n",
       "                );\n",
       "            } else {\n",
       "                canvas.setAttribute('width', width * fig.ratio);\n",
       "                canvas.setAttribute('height', height * fig.ratio);\n",
       "            }\n",
       "            canvas.setAttribute(\n",
       "                'style',\n",
       "                'width: ' + width + 'px; height: ' + height + 'px;'\n",
       "            );\n",
       "\n",
       "            rubberband_canvas.setAttribute('width', width);\n",
       "            rubberband_canvas.setAttribute('height', height);\n",
       "\n",
       "            // And update the size in Python. We ignore the initial 0/0 size\n",
       "            // that occurs as the element is placed into the DOM, which should\n",
       "            // otherwise not happen due to the minimum size styling.\n",
       "            if (fig.ws.readyState == 1 && width != 0 && height != 0) {\n",
       "                fig.request_resize(width, height);\n",
       "            }\n",
       "        }\n",
       "    });\n",
       "    this.resizeObserverInstance.observe(canvas_div);\n",
       "\n",
       "    function on_mouse_event_closure(name) {\n",
       "        return function (event) {\n",
       "            return fig.mouse_event(event, name);\n",
       "        };\n",
       "    }\n",
       "\n",
       "    rubberband_canvas.addEventListener(\n",
       "        'mousedown',\n",
       "        on_mouse_event_closure('button_press')\n",
       "    );\n",
       "    rubberband_canvas.addEventListener(\n",
       "        'mouseup',\n",
       "        on_mouse_event_closure('button_release')\n",
       "    );\n",
       "    rubberband_canvas.addEventListener(\n",
       "        'dblclick',\n",
       "        on_mouse_event_closure('dblclick')\n",
       "    );\n",
       "    // Throttle sequential mouse events to 1 every 20ms.\n",
       "    rubberband_canvas.addEventListener(\n",
       "        'mousemove',\n",
       "        on_mouse_event_closure('motion_notify')\n",
       "    );\n",
       "\n",
       "    rubberband_canvas.addEventListener(\n",
       "        'mouseenter',\n",
       "        on_mouse_event_closure('figure_enter')\n",
       "    );\n",
       "    rubberband_canvas.addEventListener(\n",
       "        'mouseleave',\n",
       "        on_mouse_event_closure('figure_leave')\n",
       "    );\n",
       "\n",
       "    canvas_div.addEventListener('wheel', function (event) {\n",
       "        if (event.deltaY < 0) {\n",
       "            event.step = 1;\n",
       "        } else {\n",
       "            event.step = -1;\n",
       "        }\n",
       "        on_mouse_event_closure('scroll')(event);\n",
       "    });\n",
       "\n",
       "    canvas_div.appendChild(canvas);\n",
       "    canvas_div.appendChild(rubberband_canvas);\n",
       "\n",
       "    this.rubberband_context = rubberband_canvas.getContext('2d');\n",
       "    this.rubberband_context.strokeStyle = '#000000';\n",
       "\n",
       "    this._resize_canvas = function (width, height, forward) {\n",
       "        if (forward) {\n",
       "            canvas_div.style.width = width + 'px';\n",
       "            canvas_div.style.height = height + 'px';\n",
       "        }\n",
       "    };\n",
       "\n",
       "    // Disable right mouse context menu.\n",
       "    this.rubberband_canvas.addEventListener('contextmenu', function (_e) {\n",
       "        event.preventDefault();\n",
       "        return false;\n",
       "    });\n",
       "\n",
       "    function set_focus() {\n",
       "        canvas.focus();\n",
       "        canvas_div.focus();\n",
       "    }\n",
       "\n",
       "    window.setTimeout(set_focus, 100);\n",
       "};\n",
       "\n",
       "mpl.figure.prototype._init_toolbar = function () {\n",
       "    var fig = this;\n",
       "\n",
       "    var toolbar = document.createElement('div');\n",
       "    toolbar.classList = 'mpl-toolbar';\n",
       "    this.root.appendChild(toolbar);\n",
       "\n",
       "    function on_click_closure(name) {\n",
       "        return function (_event) {\n",
       "            return fig.toolbar_button_onclick(name);\n",
       "        };\n",
       "    }\n",
       "\n",
       "    function on_mouseover_closure(tooltip) {\n",
       "        return function (event) {\n",
       "            if (!event.currentTarget.disabled) {\n",
       "                return fig.toolbar_button_onmouseover(tooltip);\n",
       "            }\n",
       "        };\n",
       "    }\n",
       "\n",
       "    fig.buttons = {};\n",
       "    var buttonGroup = document.createElement('div');\n",
       "    buttonGroup.classList = 'mpl-button-group';\n",
       "    for (var toolbar_ind in mpl.toolbar_items) {\n",
       "        var name = mpl.toolbar_items[toolbar_ind][0];\n",
       "        var tooltip = mpl.toolbar_items[toolbar_ind][1];\n",
       "        var image = mpl.toolbar_items[toolbar_ind][2];\n",
       "        var method_name = mpl.toolbar_items[toolbar_ind][3];\n",
       "\n",
       "        if (!name) {\n",
       "            /* Instead of a spacer, we start a new button group. */\n",
       "            if (buttonGroup.hasChildNodes()) {\n",
       "                toolbar.appendChild(buttonGroup);\n",
       "            }\n",
       "            buttonGroup = document.createElement('div');\n",
       "            buttonGroup.classList = 'mpl-button-group';\n",
       "            continue;\n",
       "        }\n",
       "\n",
       "        var button = (fig.buttons[name] = document.createElement('button'));\n",
       "        button.classList = 'mpl-widget';\n",
       "        button.setAttribute('role', 'button');\n",
       "        button.setAttribute('aria-disabled', 'false');\n",
       "        button.addEventListener('click', on_click_closure(method_name));\n",
       "        button.addEventListener('mouseover', on_mouseover_closure(tooltip));\n",
       "\n",
       "        var icon_img = document.createElement('img');\n",
       "        icon_img.src = '_images/' + image + '.png';\n",
       "        icon_img.srcset = '_images/' + image + '_large.png 2x';\n",
       "        icon_img.alt = tooltip;\n",
       "        button.appendChild(icon_img);\n",
       "\n",
       "        buttonGroup.appendChild(button);\n",
       "    }\n",
       "\n",
       "    if (buttonGroup.hasChildNodes()) {\n",
       "        toolbar.appendChild(buttonGroup);\n",
       "    }\n",
       "\n",
       "    var fmt_picker = document.createElement('select');\n",
       "    fmt_picker.classList = 'mpl-widget';\n",
       "    toolbar.appendChild(fmt_picker);\n",
       "    this.format_dropdown = fmt_picker;\n",
       "\n",
       "    for (var ind in mpl.extensions) {\n",
       "        var fmt = mpl.extensions[ind];\n",
       "        var option = document.createElement('option');\n",
       "        option.selected = fmt === mpl.default_extension;\n",
       "        option.innerHTML = fmt;\n",
       "        fmt_picker.appendChild(option);\n",
       "    }\n",
       "\n",
       "    var status_bar = document.createElement('span');\n",
       "    status_bar.classList = 'mpl-message';\n",
       "    toolbar.appendChild(status_bar);\n",
       "    this.message = status_bar;\n",
       "};\n",
       "\n",
       "mpl.figure.prototype.request_resize = function (x_pixels, y_pixels) {\n",
       "    // Request matplotlib to resize the figure. Matplotlib will then trigger a resize in the client,\n",
       "    // which will in turn request a refresh of the image.\n",
       "    this.send_message('resize', { width: x_pixels, height: y_pixels });\n",
       "};\n",
       "\n",
       "mpl.figure.prototype.send_message = function (type, properties) {\n",
       "    properties['type'] = type;\n",
       "    properties['figure_id'] = this.id;\n",
       "    this.ws.send(JSON.stringify(properties));\n",
       "};\n",
       "\n",
       "mpl.figure.prototype.send_draw_message = function () {\n",
       "    if (!this.waiting) {\n",
       "        this.waiting = true;\n",
       "        this.ws.send(JSON.stringify({ type: 'draw', figure_id: this.id }));\n",
       "    }\n",
       "};\n",
       "\n",
       "mpl.figure.prototype.handle_save = function (fig, _msg) {\n",
       "    var format_dropdown = fig.format_dropdown;\n",
       "    var format = format_dropdown.options[format_dropdown.selectedIndex].value;\n",
       "    fig.ondownload(fig, format);\n",
       "};\n",
       "\n",
       "mpl.figure.prototype.handle_resize = function (fig, msg) {\n",
       "    var size = msg['size'];\n",
       "    if (size[0] !== fig.canvas.width || size[1] !== fig.canvas.height) {\n",
       "        fig._resize_canvas(size[0], size[1], msg['forward']);\n",
       "        fig.send_message('refresh', {});\n",
       "    }\n",
       "};\n",
       "\n",
       "mpl.figure.prototype.handle_rubberband = function (fig, msg) {\n",
       "    var x0 = msg['x0'] / fig.ratio;\n",
       "    var y0 = (fig.canvas.height - msg['y0']) / fig.ratio;\n",
       "    var x1 = msg['x1'] / fig.ratio;\n",
       "    var y1 = (fig.canvas.height - msg['y1']) / fig.ratio;\n",
       "    x0 = Math.floor(x0) + 0.5;\n",
       "    y0 = Math.floor(y0) + 0.5;\n",
       "    x1 = Math.floor(x1) + 0.5;\n",
       "    y1 = Math.floor(y1) + 0.5;\n",
       "    var min_x = Math.min(x0, x1);\n",
       "    var min_y = Math.min(y0, y1);\n",
       "    var width = Math.abs(x1 - x0);\n",
       "    var height = Math.abs(y1 - y0);\n",
       "\n",
       "    fig.rubberband_context.clearRect(\n",
       "        0,\n",
       "        0,\n",
       "        fig.canvas.width / fig.ratio,\n",
       "        fig.canvas.height / fig.ratio\n",
       "    );\n",
       "\n",
       "    fig.rubberband_context.strokeRect(min_x, min_y, width, height);\n",
       "};\n",
       "\n",
       "mpl.figure.prototype.handle_figure_label = function (fig, msg) {\n",
       "    // Updates the figure title.\n",
       "    fig.header.textContent = msg['label'];\n",
       "};\n",
       "\n",
       "mpl.figure.prototype.handle_cursor = function (fig, msg) {\n",
       "    var cursor = msg['cursor'];\n",
       "    switch (cursor) {\n",
       "        case 0:\n",
       "            cursor = 'pointer';\n",
       "            break;\n",
       "        case 1:\n",
       "            cursor = 'default';\n",
       "            break;\n",
       "        case 2:\n",
       "            cursor = 'crosshair';\n",
       "            break;\n",
       "        case 3:\n",
       "            cursor = 'move';\n",
       "            break;\n",
       "    }\n",
       "    fig.rubberband_canvas.style.cursor = cursor;\n",
       "};\n",
       "\n",
       "mpl.figure.prototype.handle_message = function (fig, msg) {\n",
       "    fig.message.textContent = msg['message'];\n",
       "};\n",
       "\n",
       "mpl.figure.prototype.handle_draw = function (fig, _msg) {\n",
       "    // Request the server to send over a new figure.\n",
       "    fig.send_draw_message();\n",
       "};\n",
       "\n",
       "mpl.figure.prototype.handle_image_mode = function (fig, msg) {\n",
       "    fig.image_mode = msg['mode'];\n",
       "};\n",
       "\n",
       "mpl.figure.prototype.handle_history_buttons = function (fig, msg) {\n",
       "    for (var key in msg) {\n",
       "        if (!(key in fig.buttons)) {\n",
       "            continue;\n",
       "        }\n",
       "        fig.buttons[key].disabled = !msg[key];\n",
       "        fig.buttons[key].setAttribute('aria-disabled', !msg[key]);\n",
       "    }\n",
       "};\n",
       "\n",
       "mpl.figure.prototype.handle_navigate_mode = function (fig, msg) {\n",
       "    if (msg['mode'] === 'PAN') {\n",
       "        fig.buttons['Pan'].classList.add('active');\n",
       "        fig.buttons['Zoom'].classList.remove('active');\n",
       "    } else if (msg['mode'] === 'ZOOM') {\n",
       "        fig.buttons['Pan'].classList.remove('active');\n",
       "        fig.buttons['Zoom'].classList.add('active');\n",
       "    } else {\n",
       "        fig.buttons['Pan'].classList.remove('active');\n",
       "        fig.buttons['Zoom'].classList.remove('active');\n",
       "    }\n",
       "};\n",
       "\n",
       "mpl.figure.prototype.updated_canvas_event = function () {\n",
       "    // Called whenever the canvas gets updated.\n",
       "    this.send_message('ack', {});\n",
       "};\n",
       "\n",
       "// A function to construct a web socket function for onmessage handling.\n",
       "// Called in the figure constructor.\n",
       "mpl.figure.prototype._make_on_message_function = function (fig) {\n",
       "    return function socket_on_message(evt) {\n",
       "        if (evt.data instanceof Blob) {\n",
       "            var img = evt.data;\n",
       "            if (img.type !== 'image/png') {\n",
       "                /* FIXME: We get \"Resource interpreted as Image but\n",
       "                 * transferred with MIME type text/plain:\" errors on\n",
       "                 * Chrome.  But how to set the MIME type?  It doesn't seem\n",
       "                 * to be part of the websocket stream */\n",
       "                img.type = 'image/png';\n",
       "            }\n",
       "\n",
       "            /* Free the memory for the previous frames */\n",
       "            if (fig.imageObj.src) {\n",
       "                (window.URL || window.webkitURL).revokeObjectURL(\n",
       "                    fig.imageObj.src\n",
       "                );\n",
       "            }\n",
       "\n",
       "            fig.imageObj.src = (window.URL || window.webkitURL).createObjectURL(\n",
       "                img\n",
       "            );\n",
       "            fig.updated_canvas_event();\n",
       "            fig.waiting = false;\n",
       "            return;\n",
       "        } else if (\n",
       "            typeof evt.data === 'string' &&\n",
       "            evt.data.slice(0, 21) === 'data:image/png;base64'\n",
       "        ) {\n",
       "            fig.imageObj.src = evt.data;\n",
       "            fig.updated_canvas_event();\n",
       "            fig.waiting = false;\n",
       "            return;\n",
       "        }\n",
       "\n",
       "        var msg = JSON.parse(evt.data);\n",
       "        var msg_type = msg['type'];\n",
       "\n",
       "        // Call the  \"handle_{type}\" callback, which takes\n",
       "        // the figure and JSON message as its only arguments.\n",
       "        try {\n",
       "            var callback = fig['handle_' + msg_type];\n",
       "        } catch (e) {\n",
       "            console.log(\n",
       "                \"No handler for the '\" + msg_type + \"' message type: \",\n",
       "                msg\n",
       "            );\n",
       "            return;\n",
       "        }\n",
       "\n",
       "        if (callback) {\n",
       "            try {\n",
       "                // console.log(\"Handling '\" + msg_type + \"' message: \", msg);\n",
       "                callback(fig, msg);\n",
       "            } catch (e) {\n",
       "                console.log(\n",
       "                    \"Exception inside the 'handler_\" + msg_type + \"' callback:\",\n",
       "                    e,\n",
       "                    e.stack,\n",
       "                    msg\n",
       "                );\n",
       "            }\n",
       "        }\n",
       "    };\n",
       "};\n",
       "\n",
       "// from http://stackoverflow.com/questions/1114465/getting-mouse-location-in-canvas\n",
       "mpl.findpos = function (e) {\n",
       "    //this section is from http://www.quirksmode.org/js/events_properties.html\n",
       "    var targ;\n",
       "    if (!e) {\n",
       "        e = window.event;\n",
       "    }\n",
       "    if (e.target) {\n",
       "        targ = e.target;\n",
       "    } else if (e.srcElement) {\n",
       "        targ = e.srcElement;\n",
       "    }\n",
       "    if (targ.nodeType === 3) {\n",
       "        // defeat Safari bug\n",
       "        targ = targ.parentNode;\n",
       "    }\n",
       "\n",
       "    // pageX,Y are the mouse positions relative to the document\n",
       "    var boundingRect = targ.getBoundingClientRect();\n",
       "    var x = e.pageX - (boundingRect.left + document.body.scrollLeft);\n",
       "    var y = e.pageY - (boundingRect.top + document.body.scrollTop);\n",
       "\n",
       "    return { x: x, y: y };\n",
       "};\n",
       "\n",
       "/*\n",
       " * return a copy of an object with only non-object keys\n",
       " * we need this to avoid circular references\n",
       " * http://stackoverflow.com/a/24161582/3208463\n",
       " */\n",
       "function simpleKeys(original) {\n",
       "    return Object.keys(original).reduce(function (obj, key) {\n",
       "        if (typeof original[key] !== 'object') {\n",
       "            obj[key] = original[key];\n",
       "        }\n",
       "        return obj;\n",
       "    }, {});\n",
       "}\n",
       "\n",
       "mpl.figure.prototype.mouse_event = function (event, name) {\n",
       "    var canvas_pos = mpl.findpos(event);\n",
       "\n",
       "    if (name === 'button_press') {\n",
       "        this.canvas.focus();\n",
       "        this.canvas_div.focus();\n",
       "    }\n",
       "\n",
       "    var x = canvas_pos.x * this.ratio;\n",
       "    var y = canvas_pos.y * this.ratio;\n",
       "\n",
       "    this.send_message(name, {\n",
       "        x: x,\n",
       "        y: y,\n",
       "        button: event.button,\n",
       "        step: event.step,\n",
       "        guiEvent: simpleKeys(event),\n",
       "    });\n",
       "\n",
       "    /* This prevents the web browser from automatically changing to\n",
       "     * the text insertion cursor when the button is pressed.  We want\n",
       "     * to control all of the cursor setting manually through the\n",
       "     * 'cursor' event from matplotlib */\n",
       "    event.preventDefault();\n",
       "    return false;\n",
       "};\n",
       "\n",
       "mpl.figure.prototype._key_event_extra = function (_event, _name) {\n",
       "    // Handle any extra behaviour associated with a key event\n",
       "};\n",
       "\n",
       "mpl.figure.prototype.key_event = function (event, name) {\n",
       "    // Prevent repeat events\n",
       "    if (name === 'key_press') {\n",
       "        if (event.key === this._key) {\n",
       "            return;\n",
       "        } else {\n",
       "            this._key = event.key;\n",
       "        }\n",
       "    }\n",
       "    if (name === 'key_release') {\n",
       "        this._key = null;\n",
       "    }\n",
       "\n",
       "    var value = '';\n",
       "    if (event.ctrlKey && event.key !== 'Control') {\n",
       "        value += 'ctrl+';\n",
       "    }\n",
       "    else if (event.altKey && event.key !== 'Alt') {\n",
       "        value += 'alt+';\n",
       "    }\n",
       "    else if (event.shiftKey && event.key !== 'Shift') {\n",
       "        value += 'shift+';\n",
       "    }\n",
       "\n",
       "    value += 'k' + event.key;\n",
       "\n",
       "    this._key_event_extra(event, name);\n",
       "\n",
       "    this.send_message(name, { key: value, guiEvent: simpleKeys(event) });\n",
       "    return false;\n",
       "};\n",
       "\n",
       "mpl.figure.prototype.toolbar_button_onclick = function (name) {\n",
       "    if (name === 'download') {\n",
       "        this.handle_save(this, null);\n",
       "    } else {\n",
       "        this.send_message('toolbar_button', { name: name });\n",
       "    }\n",
       "};\n",
       "\n",
       "mpl.figure.prototype.toolbar_button_onmouseover = function (tooltip) {\n",
       "    this.message.textContent = tooltip;\n",
       "};\n",
       "\n",
       "///////////////// REMAINING CONTENT GENERATED BY embed_js.py /////////////////\n",
       "// prettier-ignore\n",
       "var _JSXTOOLS_RESIZE_OBSERVER=function(A){var t,i=new WeakMap,n=new WeakMap,a=new WeakMap,r=new WeakMap,o=new Set;function s(e){if(!(this instanceof s))throw new TypeError(\"Constructor requires 'new' operator\");i.set(this,e)}function h(){throw new TypeError(\"Function is not a constructor\")}function c(e,t,i,n){e=0 in arguments?Number(arguments[0]):0,t=1 in arguments?Number(arguments[1]):0,i=2 in arguments?Number(arguments[2]):0,n=3 in arguments?Number(arguments[3]):0,this.right=(this.x=this.left=e)+(this.width=i),this.bottom=(this.y=this.top=t)+(this.height=n),Object.freeze(this)}function d(){t=requestAnimationFrame(d);var s=new WeakMap,p=new Set;o.forEach((function(t){r.get(t).forEach((function(i){var r=t instanceof window.SVGElement,o=a.get(t),d=r?0:parseFloat(o.paddingTop),f=r?0:parseFloat(o.paddingRight),l=r?0:parseFloat(o.paddingBottom),u=r?0:parseFloat(o.paddingLeft),g=r?0:parseFloat(o.borderTopWidth),m=r?0:parseFloat(o.borderRightWidth),w=r?0:parseFloat(o.borderBottomWidth),b=u+f,F=d+l,v=(r?0:parseFloat(o.borderLeftWidth))+m,W=g+w,y=r?0:t.offsetHeight-W-t.clientHeight,E=r?0:t.offsetWidth-v-t.clientWidth,R=b+v,z=F+W,M=r?t.width:parseFloat(o.width)-R-E,O=r?t.height:parseFloat(o.height)-z-y;if(n.has(t)){var k=n.get(t);if(k[0]===M&&k[1]===O)return}n.set(t,[M,O]);var S=Object.create(h.prototype);S.target=t,S.contentRect=new c(u,d,M,O),s.has(i)||(s.set(i,[]),p.add(i)),s.get(i).push(S)}))})),p.forEach((function(e){i.get(e).call(e,s.get(e),e)}))}return s.prototype.observe=function(i){if(i instanceof window.Element){r.has(i)||(r.set(i,new Set),o.add(i),a.set(i,window.getComputedStyle(i)));var n=r.get(i);n.has(this)||n.add(this),cancelAnimationFrame(t),t=requestAnimationFrame(d)}},s.prototype.unobserve=function(i){if(i instanceof window.Element&&r.has(i)){var n=r.get(i);n.has(this)&&(n.delete(this),n.size||(r.delete(i),o.delete(i))),n.size||r.delete(i),o.size||cancelAnimationFrame(t)}},A.DOMRectReadOnly=c,A.ResizeObserver=s,A.ResizeObserverEntry=h,A}; // eslint-disable-line\n",
       "mpl.toolbar_items = [[\"Home\", \"Reset original view\", \"fa fa-home icon-home\", \"home\"], [\"Back\", \"Back to previous view\", \"fa fa-arrow-left icon-arrow-left\", \"back\"], [\"Forward\", \"Forward to next view\", \"fa fa-arrow-right icon-arrow-right\", \"forward\"], [\"\", \"\", \"\", \"\"], [\"Pan\", \"Left button pans, Right button zooms\\nx/y fixes axis, CTRL fixes aspect\", \"fa fa-arrows icon-move\", \"pan\"], [\"Zoom\", \"Zoom to rectangle\\nx/y fixes axis, CTRL fixes aspect\", \"fa fa-square-o icon-check-empty\", \"zoom\"], [\"\", \"\", \"\", \"\"], [\"Download\", \"Download plot\", \"fa fa-floppy-o icon-save\", \"download\"]];\n",
       "\n",
       "mpl.extensions = [\"eps\", \"jpeg\", \"pgf\", \"pdf\", \"png\", \"ps\", \"raw\", \"svg\", \"tif\"];\n",
       "\n",
       "mpl.default_extension = \"png\";/* global mpl */\n",
       "\n",
       "var comm_websocket_adapter = function (comm) {\n",
       "    // Create a \"websocket\"-like object which calls the given IPython comm\n",
       "    // object with the appropriate methods. Currently this is a non binary\n",
       "    // socket, so there is still some room for performance tuning.\n",
       "    var ws = {};\n",
       "\n",
       "    ws.binaryType = comm.kernel.ws.binaryType;\n",
       "    ws.readyState = comm.kernel.ws.readyState;\n",
       "    function updateReadyState(_event) {\n",
       "        if (comm.kernel.ws) {\n",
       "            ws.readyState = comm.kernel.ws.readyState;\n",
       "        } else {\n",
       "            ws.readyState = 3; // Closed state.\n",
       "        }\n",
       "    }\n",
       "    comm.kernel.ws.addEventListener('open', updateReadyState);\n",
       "    comm.kernel.ws.addEventListener('close', updateReadyState);\n",
       "    comm.kernel.ws.addEventListener('error', updateReadyState);\n",
       "\n",
       "    ws.close = function () {\n",
       "        comm.close();\n",
       "    };\n",
       "    ws.send = function (m) {\n",
       "        //console.log('sending', m);\n",
       "        comm.send(m);\n",
       "    };\n",
       "    // Register the callback with on_msg.\n",
       "    comm.on_msg(function (msg) {\n",
       "        //console.log('receiving', msg['content']['data'], msg);\n",
       "        var data = msg['content']['data'];\n",
       "        if (data['blob'] !== undefined) {\n",
       "            data = {\n",
       "                data: new Blob(msg['buffers'], { type: data['blob'] }),\n",
       "            };\n",
       "        }\n",
       "        // Pass the mpl event to the overridden (by mpl) onmessage function.\n",
       "        ws.onmessage(data);\n",
       "    });\n",
       "    return ws;\n",
       "};\n",
       "\n",
       "mpl.mpl_figure_comm = function (comm, msg) {\n",
       "    // This is the function which gets called when the mpl process\n",
       "    // starts-up an IPython Comm through the \"matplotlib\" channel.\n",
       "\n",
       "    var id = msg.content.data.id;\n",
       "    // Get hold of the div created by the display call when the Comm\n",
       "    // socket was opened in Python.\n",
       "    var element = document.getElementById(id);\n",
       "    var ws_proxy = comm_websocket_adapter(comm);\n",
       "\n",
       "    function ondownload(figure, _format) {\n",
       "        window.open(figure.canvas.toDataURL());\n",
       "    }\n",
       "\n",
       "    var fig = new mpl.figure(id, ws_proxy, ondownload, element);\n",
       "\n",
       "    // Call onopen now - mpl needs it, as it is assuming we've passed it a real\n",
       "    // web socket which is closed, not our websocket->open comm proxy.\n",
       "    ws_proxy.onopen();\n",
       "\n",
       "    fig.parent_element = element;\n",
       "    fig.cell_info = mpl.find_output_cell(\"<div id='\" + id + \"'></div>\");\n",
       "    if (!fig.cell_info) {\n",
       "        console.error('Failed to find cell for figure', id, fig);\n",
       "        return;\n",
       "    }\n",
       "    fig.cell_info[0].output_area.element.on(\n",
       "        'cleared',\n",
       "        { fig: fig },\n",
       "        fig._remove_fig_handler\n",
       "    );\n",
       "};\n",
       "\n",
       "mpl.figure.prototype.handle_close = function (fig, msg) {\n",
       "    var width = fig.canvas.width / fig.ratio;\n",
       "    fig.cell_info[0].output_area.element.off(\n",
       "        'cleared',\n",
       "        fig._remove_fig_handler\n",
       "    );\n",
       "    fig.resizeObserverInstance.unobserve(fig.canvas_div);\n",
       "\n",
       "    // Update the output cell to use the data from the current canvas.\n",
       "    fig.push_to_output();\n",
       "    var dataURL = fig.canvas.toDataURL();\n",
       "    // Re-enable the keyboard manager in IPython - without this line, in FF,\n",
       "    // the notebook keyboard shortcuts fail.\n",
       "    IPython.keyboard_manager.enable();\n",
       "    fig.parent_element.innerHTML =\n",
       "        '<img src=\"' + dataURL + '\" width=\"' + width + '\">';\n",
       "    fig.close_ws(fig, msg);\n",
       "};\n",
       "\n",
       "mpl.figure.prototype.close_ws = function (fig, msg) {\n",
       "    fig.send_message('closing', msg);\n",
       "    // fig.ws.close()\n",
       "};\n",
       "\n",
       "mpl.figure.prototype.push_to_output = function (_remove_interactive) {\n",
       "    // Turn the data on the canvas into data in the output cell.\n",
       "    var width = this.canvas.width / this.ratio;\n",
       "    var dataURL = this.canvas.toDataURL();\n",
       "    this.cell_info[1]['text/html'] =\n",
       "        '<img src=\"' + dataURL + '\" width=\"' + width + '\">';\n",
       "};\n",
       "\n",
       "mpl.figure.prototype.updated_canvas_event = function () {\n",
       "    // Tell IPython that the notebook contents must change.\n",
       "    IPython.notebook.set_dirty(true);\n",
       "    this.send_message('ack', {});\n",
       "    var fig = this;\n",
       "    // Wait a second, then push the new image to the DOM so\n",
       "    // that it is saved nicely (might be nice to debounce this).\n",
       "    setTimeout(function () {\n",
       "        fig.push_to_output();\n",
       "    }, 1000);\n",
       "};\n",
       "\n",
       "mpl.figure.prototype._init_toolbar = function () {\n",
       "    var fig = this;\n",
       "\n",
       "    var toolbar = document.createElement('div');\n",
       "    toolbar.classList = 'btn-toolbar';\n",
       "    this.root.appendChild(toolbar);\n",
       "\n",
       "    function on_click_closure(name) {\n",
       "        return function (_event) {\n",
       "            return fig.toolbar_button_onclick(name);\n",
       "        };\n",
       "    }\n",
       "\n",
       "    function on_mouseover_closure(tooltip) {\n",
       "        return function (event) {\n",
       "            if (!event.currentTarget.disabled) {\n",
       "                return fig.toolbar_button_onmouseover(tooltip);\n",
       "            }\n",
       "        };\n",
       "    }\n",
       "\n",
       "    fig.buttons = {};\n",
       "    var buttonGroup = document.createElement('div');\n",
       "    buttonGroup.classList = 'btn-group';\n",
       "    var button;\n",
       "    for (var toolbar_ind in mpl.toolbar_items) {\n",
       "        var name = mpl.toolbar_items[toolbar_ind][0];\n",
       "        var tooltip = mpl.toolbar_items[toolbar_ind][1];\n",
       "        var image = mpl.toolbar_items[toolbar_ind][2];\n",
       "        var method_name = mpl.toolbar_items[toolbar_ind][3];\n",
       "\n",
       "        if (!name) {\n",
       "            /* Instead of a spacer, we start a new button group. */\n",
       "            if (buttonGroup.hasChildNodes()) {\n",
       "                toolbar.appendChild(buttonGroup);\n",
       "            }\n",
       "            buttonGroup = document.createElement('div');\n",
       "            buttonGroup.classList = 'btn-group';\n",
       "            continue;\n",
       "        }\n",
       "\n",
       "        button = fig.buttons[name] = document.createElement('button');\n",
       "        button.classList = 'btn btn-default';\n",
       "        button.href = '#';\n",
       "        button.title = name;\n",
       "        button.innerHTML = '<i class=\"fa ' + image + ' fa-lg\"></i>';\n",
       "        button.addEventListener('click', on_click_closure(method_name));\n",
       "        button.addEventListener('mouseover', on_mouseover_closure(tooltip));\n",
       "        buttonGroup.appendChild(button);\n",
       "    }\n",
       "\n",
       "    if (buttonGroup.hasChildNodes()) {\n",
       "        toolbar.appendChild(buttonGroup);\n",
       "    }\n",
       "\n",
       "    // Add the status bar.\n",
       "    var status_bar = document.createElement('span');\n",
       "    status_bar.classList = 'mpl-message pull-right';\n",
       "    toolbar.appendChild(status_bar);\n",
       "    this.message = status_bar;\n",
       "\n",
       "    // Add the close button to the window.\n",
       "    var buttongrp = document.createElement('div');\n",
       "    buttongrp.classList = 'btn-group inline pull-right';\n",
       "    button = document.createElement('button');\n",
       "    button.classList = 'btn btn-mini btn-primary';\n",
       "    button.href = '#';\n",
       "    button.title = 'Stop Interaction';\n",
       "    button.innerHTML = '<i class=\"fa fa-power-off icon-remove icon-large\"></i>';\n",
       "    button.addEventListener('click', function (_evt) {\n",
       "        fig.handle_close(fig, {});\n",
       "    });\n",
       "    button.addEventListener(\n",
       "        'mouseover',\n",
       "        on_mouseover_closure('Stop Interaction')\n",
       "    );\n",
       "    buttongrp.appendChild(button);\n",
       "    var titlebar = this.root.querySelector('.ui-dialog-titlebar');\n",
       "    titlebar.insertBefore(buttongrp, titlebar.firstChild);\n",
       "};\n",
       "\n",
       "mpl.figure.prototype._remove_fig_handler = function (event) {\n",
       "    var fig = event.data.fig;\n",
       "    if (event.target !== this) {\n",
       "        // Ignore bubbled events from children.\n",
       "        return;\n",
       "    }\n",
       "    fig.close_ws(fig, {});\n",
       "};\n",
       "\n",
       "mpl.figure.prototype._root_extra_style = function (el) {\n",
       "    el.style.boxSizing = 'content-box'; // override notebook setting of border-box.\n",
       "};\n",
       "\n",
       "mpl.figure.prototype._canvas_extra_style = function (el) {\n",
       "    // this is important to make the div 'focusable\n",
       "    el.setAttribute('tabindex', 0);\n",
       "    // reach out to IPython and tell the keyboard manager to turn it's self\n",
       "    // off when our div gets focus\n",
       "\n",
       "    // location in version 3\n",
       "    if (IPython.notebook.keyboard_manager) {\n",
       "        IPython.notebook.keyboard_manager.register_events(el);\n",
       "    } else {\n",
       "        // location in version 2\n",
       "        IPython.keyboard_manager.register_events(el);\n",
       "    }\n",
       "};\n",
       "\n",
       "mpl.figure.prototype._key_event_extra = function (event, _name) {\n",
       "    var manager = IPython.notebook.keyboard_manager;\n",
       "    if (!manager) {\n",
       "        manager = IPython.keyboard_manager;\n",
       "    }\n",
       "\n",
       "    // Check for shift+enter\n",
       "    if (event.shiftKey && event.which === 13) {\n",
       "        this.canvas_div.blur();\n",
       "        // select the cell after this one\n",
       "        var index = IPython.notebook.find_cell_index(this.cell_info[0]);\n",
       "        IPython.notebook.select(index + 1);\n",
       "    }\n",
       "};\n",
       "\n",
       "mpl.figure.prototype.handle_save = function (fig, _msg) {\n",
       "    fig.ondownload(fig, null);\n",
       "};\n",
       "\n",
       "mpl.find_output_cell = function (html_output) {\n",
       "    // Return the cell and output element which can be found *uniquely* in the notebook.\n",
       "    // Note - this is a bit hacky, but it is done because the \"notebook_saving.Notebook\"\n",
       "    // IPython event is triggered only after the cells have been serialised, which for\n",
       "    // our purposes (turning an active figure into a static one), is too late.\n",
       "    var cells = IPython.notebook.get_cells();\n",
       "    var ncells = cells.length;\n",
       "    for (var i = 0; i < ncells; i++) {\n",
       "        var cell = cells[i];\n",
       "        if (cell.cell_type === 'code') {\n",
       "            for (var j = 0; j < cell.output_area.outputs.length; j++) {\n",
       "                var data = cell.output_area.outputs[j];\n",
       "                if (data.data) {\n",
       "                    // IPython >= 3 moved mimebundle to data attribute of output\n",
       "                    data = data.data;\n",
       "                }\n",
       "                if (data['text/html'] === html_output) {\n",
       "                    return [cell, data, j];\n",
       "                }\n",
       "            }\n",
       "        }\n",
       "    }\n",
       "};\n",
       "\n",
       "// Register the function which deals with the matplotlib target/channel.\n",
       "// The kernel may be null if the page has been refreshed.\n",
       "if (IPython.notebook.kernel !== null) {\n",
       "    IPython.notebook.kernel.comm_manager.register_target(\n",
       "        'matplotlib',\n",
       "        mpl.mpl_figure_comm\n",
       "    );\n",
       "}\n"
      ],
      "text/plain": [
       "<IPython.core.display.Javascript object>"
      ]
     },
     "metadata": {},
     "output_type": "display_data"
    },
    {
     "data": {
      "text/html": [
       "<img src=\"data:image/png;base64,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\" width=\"639.9999861283738\">"
      ],
      "text/plain": [
       "<IPython.core.display.HTML object>"
      ]
     },
     "metadata": {},
     "output_type": "display_data"
    },
    {
     "data": {
      "text/plain": [
       "array([[<AxesSubplot:title={'center':'duration'}>]], dtype=object)"
      ]
     },
     "execution_count": 233,
     "metadata": {},
     "output_type": "execute_result"
    }
   ],
   "source": [
    "df1.hist(column='duration')"
   ]
  },
  {
   "cell_type": "markdown",
   "id": "geographic-oxygen",
   "metadata": {},
   "source": [
    "##Question 3 - Replace the missing values in the column 'duration' with the median of all available values in this column. What is the mean of all values in this column after data imputation? Enter the answer with four digits after the decimal point."
   ]
  },
  {
   "cell_type": "code",
   "execution_count": 234,
   "id": "registered-corps",
   "metadata": {},
   "outputs": [
    {
     "data": {
      "text/plain": [
       "182.0"
      ]
     },
     "execution_count": 234,
     "metadata": {},
     "output_type": "execute_result"
    }
   ],
   "source": [
    "df1['duration'].median()"
   ]
  },
  {
   "cell_type": "code",
   "execution_count": 235,
   "id": "derived-tomorrow",
   "metadata": {},
   "outputs": [],
   "source": [
    "df1['duration'].replace(np.nan, dfa['duration'].median(), inplace=True)"
   ]
  },
  {
   "cell_type": "code",
   "execution_count": 236,
   "id": "multiple-object",
   "metadata": {},
   "outputs": [
    {
     "data": {
      "text/plain": [
       "259.2425345957757"
      ]
     },
     "execution_count": 236,
     "metadata": {},
     "output_type": "execute_result"
    }
   ],
   "source": [
    "df1['duration'].mean()"
   ]
  },
  {
   "cell_type": "markdown",
   "id": "ethical-resolution",
   "metadata": {},
   "source": [
    "##Question 4 - pdays"
   ]
  },
  {
   "cell_type": "code",
   "execution_count": 237,
   "id": "visible-walter",
   "metadata": {},
   "outputs": [
    {
     "data": {
      "text/plain": [
       "999.0    3802\n",
       "3.0        47\n",
       "6.0        45\n",
       "4.0        13\n",
       "2.0         7\n",
       "7.0         7\n",
       "12.0        6\n",
       "13.0        4\n",
       "9.0         4\n",
       "16.0        3\n",
       "10.0        3\n",
       "8.0         3\n",
       "14.0        3\n",
       "1.0         3\n",
       "0.0         2\n",
       "5.0         2\n",
       "15.0        1\n",
       "11.0        1\n",
       "18.0        1\n",
       "22.0        1\n",
       "Name: pdays, dtype: int64"
      ]
     },
     "execution_count": 237,
     "metadata": {},
     "output_type": "execute_result"
    }
   ],
   "source": [
    "df1['pdays'].value_counts()"
   ]
  },
  {
   "cell_type": "code",
   "execution_count": 238,
   "id": "elegant-chemical",
   "metadata": {},
   "outputs": [],
   "source": [
    "df1['pdays'] = np.where(df1['pdays']<999, \"contact\", \"no contact\")"
   ]
  },
  {
   "cell_type": "code",
   "execution_count": 239,
   "id": "defensive-break",
   "metadata": {},
   "outputs": [],
   "source": [
    "#df1['pdays'].replace(\"contact\", 1, inplace=True)"
   ]
  },
  {
   "cell_type": "code",
   "execution_count": 240,
   "id": "corporate-fifty",
   "metadata": {},
   "outputs": [],
   "source": [
    "#df1['pdays'].replace(\"no contact\", 0, inplace=True)"
   ]
  },
  {
   "cell_type": "code",
   "execution_count": 241,
   "id": "statewide-cycle",
   "metadata": {},
   "outputs": [
    {
     "data": {
      "text/plain": [
       "no contact    3963\n",
       "contact        156\n",
       "Name: pdays, dtype: int64"
      ]
     },
     "execution_count": 241,
     "metadata": {},
     "output_type": "execute_result"
    }
   ],
   "source": [
    "df1['pdays'].value_counts()"
   ]
  },
  {
   "cell_type": "code",
   "execution_count": 242,
   "id": "antique-artist",
   "metadata": {},
   "outputs": [],
   "source": [
    "#df1['pdays'].replace(\"999.0\", \"no contact\", inplace=True)"
   ]
  },
  {
   "cell_type": "code",
   "execution_count": 243,
   "id": "sized-brand",
   "metadata": {},
   "outputs": [],
   "source": [
    "#df1['pdays'].value_counts() #double check 4, 5"
   ]
  },
  {
   "cell_type": "markdown",
   "id": "motivated-removal",
   "metadata": {},
   "source": [
    "##Question 5"
   ]
  },
  {
   "cell_type": "code",
   "execution_count": 244,
   "id": "acquired-calculation",
   "metadata": {},
   "outputs": [],
   "source": [
    "#df1['pdays'].replace(\"nan\", \"no contact\", inplace=True)"
   ]
  },
  {
   "cell_type": "code",
   "execution_count": 245,
   "id": "prospective-administration",
   "metadata": {},
   "outputs": [],
   "source": [
    "#df1['pdays'].value_counts()"
   ]
  },
  {
   "cell_type": "markdown",
   "id": "young-system",
   "metadata": {},
   "source": [
    "##Question 6 - Replace missing values in the age column with the mean of available values"
   ]
  },
  {
   "cell_type": "code",
   "execution_count": 246,
   "id": "relevant-collapse",
   "metadata": {},
   "outputs": [],
   "source": [
    "df2 = dfa[dfa.notnull()]\n",
    "meanage = df2['age'].mean()"
   ]
  },
  {
   "cell_type": "code",
   "execution_count": 247,
   "id": "agricultural-christmas",
   "metadata": {},
   "outputs": [
    {
     "data": {
      "text/plain": [
       "count    3904.000000\n",
       "mean       40.149846\n",
       "std        10.526973\n",
       "min        18.000000\n",
       "25%        32.000000\n",
       "50%        38.000000\n",
       "75%        47.000000\n",
       "max        95.000000\n",
       "Name: age, dtype: float64"
      ]
     },
     "execution_count": 247,
     "metadata": {},
     "output_type": "execute_result"
    }
   ],
   "source": [
    "df1['age'].describe()"
   ]
  },
  {
   "cell_type": "code",
   "execution_count": 248,
   "id": "favorite-satisfaction",
   "metadata": {},
   "outputs": [],
   "source": [
    "df1['age'].replace(np.nan, meanage, inplace=True)"
   ]
  },
  {
   "cell_type": "code",
   "execution_count": 249,
   "id": "angry-specific",
   "metadata": {},
   "outputs": [
    {
     "data": {
      "text/plain": [
       "count    4119.000000\n",
       "mean       40.149846\n",
       "std        10.248483\n",
       "min        18.000000\n",
       "25%        32.000000\n",
       "50%        39.000000\n",
       "75%        47.000000\n",
       "max        95.000000\n",
       "Name: age, dtype: float64"
      ]
     },
     "execution_count": 249,
     "metadata": {},
     "output_type": "execute_result"
    }
   ],
   "source": [
    "df1['age'].describe()"
   ]
  },
  {
   "cell_type": "code",
   "execution_count": 250,
   "id": "hearing-admission",
   "metadata": {},
   "outputs": [
    {
     "data": {
      "text/plain": [
       "40.14984631147541"
      ]
     },
     "execution_count": 250,
     "metadata": {},
     "output_type": "execute_result"
    }
   ],
   "source": [
    "df1['age'].mean()"
   ]
  },
  {
   "cell_type": "markdown",
   "id": "royal-japanese",
   "metadata": {},
   "source": [
    "##Question 7 - Job column transformation (apply one-hot vector of 4)"
   ]
  },
  {
   "cell_type": "code",
   "execution_count": 251,
   "id": "brown-preliminary",
   "metadata": {},
   "outputs": [
    {
     "data": {
      "text/plain": [
       "count       4119\n",
       "unique        12\n",
       "top       admin.\n",
       "freq        1098\n",
       "Name: job, dtype: object"
      ]
     },
     "execution_count": 251,
     "metadata": {},
     "output_type": "execute_result"
    }
   ],
   "source": [
    "df1['job'].describe()"
   ]
  },
  {
   "cell_type": "code",
   "execution_count": 252,
   "id": "disturbed-block",
   "metadata": {},
   "outputs": [
    {
     "data": {
      "text/plain": [
       "admin.           1098\n",
       "blue-collar       900\n",
       "technician        672\n",
       "services          375\n",
       "management        278\n",
       "retired           178\n",
       "entrepreneur      147\n",
       "self-employed     120\n",
       "unemployed        116\n",
       "housemaid         111\n",
       "student            89\n",
       "unknown            35\n",
       "Name: job, dtype: int64"
      ]
     },
     "execution_count": 252,
     "metadata": {},
     "output_type": "execute_result"
    }
   ],
   "source": [
    "df1['job'].value_counts()"
   ]
  },
  {
   "cell_type": "code",
   "execution_count": 253,
   "id": "wicked-ordinary",
   "metadata": {},
   "outputs": [
    {
     "data": {
      "text/html": [
       "<div>\n",
       "<style scoped>\n",
       "    .dataframe tbody tr th:only-of-type {\n",
       "        vertical-align: middle;\n",
       "    }\n",
       "\n",
       "    .dataframe tbody tr th {\n",
       "        vertical-align: top;\n",
       "    }\n",
       "\n",
       "    .dataframe thead th {\n",
       "        text-align: right;\n",
       "    }\n",
       "</style>\n",
       "<table border=\"1\" class=\"dataframe\">\n",
       "  <thead>\n",
       "    <tr style=\"text-align: right;\">\n",
       "      <th></th>\n",
       "      <th>job_admin.</th>\n",
       "      <th>job_blue-collar</th>\n",
       "      <th>job_entrepreneur</th>\n",
       "      <th>job_housemaid</th>\n",
       "      <th>job_management</th>\n",
       "      <th>job_retired</th>\n",
       "      <th>job_self-employed</th>\n",
       "      <th>job_services</th>\n",
       "      <th>job_student</th>\n",
       "      <th>job_technician</th>\n",
       "      <th>job_unemployed</th>\n",
       "      <th>job_unknown</th>\n",
       "    </tr>\n",
       "  </thead>\n",
       "  <tbody>\n",
       "    <tr>\n",
       "      <th>0</th>\n",
       "      <td>0</td>\n",
       "      <td>1</td>\n",
       "      <td>0</td>\n",
       "      <td>0</td>\n",
       "      <td>0</td>\n",
       "      <td>0</td>\n",
       "      <td>0</td>\n",
       "      <td>0</td>\n",
       "      <td>0</td>\n",
       "      <td>0</td>\n",
       "      <td>0</td>\n",
       "      <td>0</td>\n",
       "    </tr>\n",
       "    <tr>\n",
       "      <th>1</th>\n",
       "      <td>0</td>\n",
       "      <td>1</td>\n",
       "      <td>0</td>\n",
       "      <td>0</td>\n",
       "      <td>0</td>\n",
       "      <td>0</td>\n",
       "      <td>0</td>\n",
       "      <td>0</td>\n",
       "      <td>0</td>\n",
       "      <td>0</td>\n",
       "      <td>0</td>\n",
       "      <td>0</td>\n",
       "    </tr>\n",
       "    <tr>\n",
       "      <th>2</th>\n",
       "      <td>1</td>\n",
       "      <td>0</td>\n",
       "      <td>0</td>\n",
       "      <td>0</td>\n",
       "      <td>0</td>\n",
       "      <td>0</td>\n",
       "      <td>0</td>\n",
       "      <td>0</td>\n",
       "      <td>0</td>\n",
       "      <td>0</td>\n",
       "      <td>0</td>\n",
       "      <td>0</td>\n",
       "    </tr>\n",
       "    <tr>\n",
       "      <th>3</th>\n",
       "      <td>0</td>\n",
       "      <td>1</td>\n",
       "      <td>0</td>\n",
       "      <td>0</td>\n",
       "      <td>0</td>\n",
       "      <td>0</td>\n",
       "      <td>0</td>\n",
       "      <td>0</td>\n",
       "      <td>0</td>\n",
       "      <td>0</td>\n",
       "      <td>0</td>\n",
       "      <td>0</td>\n",
       "    </tr>\n",
       "    <tr>\n",
       "      <th>4</th>\n",
       "      <td>0</td>\n",
       "      <td>0</td>\n",
       "      <td>0</td>\n",
       "      <td>1</td>\n",
       "      <td>0</td>\n",
       "      <td>0</td>\n",
       "      <td>0</td>\n",
       "      <td>0</td>\n",
       "      <td>0</td>\n",
       "      <td>0</td>\n",
       "      <td>0</td>\n",
       "      <td>0</td>\n",
       "    </tr>\n",
       "    <tr>\n",
       "      <th>...</th>\n",
       "      <td>...</td>\n",
       "      <td>...</td>\n",
       "      <td>...</td>\n",
       "      <td>...</td>\n",
       "      <td>...</td>\n",
       "      <td>...</td>\n",
       "      <td>...</td>\n",
       "      <td>...</td>\n",
       "      <td>...</td>\n",
       "      <td>...</td>\n",
       "      <td>...</td>\n",
       "      <td>...</td>\n",
       "    </tr>\n",
       "    <tr>\n",
       "      <th>4114</th>\n",
       "      <td>0</td>\n",
       "      <td>0</td>\n",
       "      <td>0</td>\n",
       "      <td>0</td>\n",
       "      <td>1</td>\n",
       "      <td>0</td>\n",
       "      <td>0</td>\n",
       "      <td>0</td>\n",
       "      <td>0</td>\n",
       "      <td>0</td>\n",
       "      <td>0</td>\n",
       "      <td>0</td>\n",
       "    </tr>\n",
       "    <tr>\n",
       "      <th>4115</th>\n",
       "      <td>0</td>\n",
       "      <td>0</td>\n",
       "      <td>0</td>\n",
       "      <td>0</td>\n",
       "      <td>0</td>\n",
       "      <td>1</td>\n",
       "      <td>0</td>\n",
       "      <td>0</td>\n",
       "      <td>0</td>\n",
       "      <td>0</td>\n",
       "      <td>0</td>\n",
       "      <td>0</td>\n",
       "    </tr>\n",
       "    <tr>\n",
       "      <th>4116</th>\n",
       "      <td>0</td>\n",
       "      <td>1</td>\n",
       "      <td>0</td>\n",
       "      <td>0</td>\n",
       "      <td>0</td>\n",
       "      <td>0</td>\n",
       "      <td>0</td>\n",
       "      <td>0</td>\n",
       "      <td>0</td>\n",
       "      <td>0</td>\n",
       "      <td>0</td>\n",
       "      <td>0</td>\n",
       "    </tr>\n",
       "    <tr>\n",
       "      <th>4117</th>\n",
       "      <td>0</td>\n",
       "      <td>0</td>\n",
       "      <td>1</td>\n",
       "      <td>0</td>\n",
       "      <td>0</td>\n",
       "      <td>0</td>\n",
       "      <td>0</td>\n",
       "      <td>0</td>\n",
       "      <td>0</td>\n",
       "      <td>0</td>\n",
       "      <td>0</td>\n",
       "      <td>0</td>\n",
       "    </tr>\n",
       "    <tr>\n",
       "      <th>4118</th>\n",
       "      <td>0</td>\n",
       "      <td>0</td>\n",
       "      <td>0</td>\n",
       "      <td>0</td>\n",
       "      <td>0</td>\n",
       "      <td>1</td>\n",
       "      <td>0</td>\n",
       "      <td>0</td>\n",
       "      <td>0</td>\n",
       "      <td>0</td>\n",
       "      <td>0</td>\n",
       "      <td>0</td>\n",
       "    </tr>\n",
       "  </tbody>\n",
       "</table>\n",
       "<p>4119 rows × 12 columns</p>\n",
       "</div>"
      ],
      "text/plain": [
       "      job_admin.  job_blue-collar  job_entrepreneur  job_housemaid  \\\n",
       "0              0                1                 0              0   \n",
       "1              0                1                 0              0   \n",
       "2              1                0                 0              0   \n",
       "3              0                1                 0              0   \n",
       "4              0                0                 0              1   \n",
       "...          ...              ...               ...            ...   \n",
       "4114           0                0                 0              0   \n",
       "4115           0                0                 0              0   \n",
       "4116           0                1                 0              0   \n",
       "4117           0                0                 1              0   \n",
       "4118           0                0                 0              0   \n",
       "\n",
       "      job_management  job_retired  job_self-employed  job_services  \\\n",
       "0                  0            0                  0             0   \n",
       "1                  0            0                  0             0   \n",
       "2                  0            0                  0             0   \n",
       "3                  0            0                  0             0   \n",
       "4                  0            0                  0             0   \n",
       "...              ...          ...                ...           ...   \n",
       "4114               1            0                  0             0   \n",
       "4115               0            1                  0             0   \n",
       "4116               0            0                  0             0   \n",
       "4117               0            0                  0             0   \n",
       "4118               0            1                  0             0   \n",
       "\n",
       "      job_student  job_technician  job_unemployed  job_unknown  \n",
       "0               0               0               0            0  \n",
       "1               0               0               0            0  \n",
       "2               0               0               0            0  \n",
       "3               0               0               0            0  \n",
       "4               0               0               0            0  \n",
       "...           ...             ...             ...          ...  \n",
       "4114            0               0               0            0  \n",
       "4115            0               0               0            0  \n",
       "4116            0               0               0            0  \n",
       "4117            0               0               0            0  \n",
       "4118            0               0               0            0  \n",
       "\n",
       "[4119 rows x 12 columns]"
      ]
     },
     "execution_count": 253,
     "metadata": {},
     "output_type": "execute_result"
    }
   ],
   "source": [
    "jobs = pd.get_dummies(df1['job'], prefix='job', drop_first=False)\n",
    "jobs"
   ]
  },
  {
   "cell_type": "code",
   "execution_count": 254,
   "id": "apparent-administrator",
   "metadata": {},
   "outputs": [],
   "source": [
    "#jobs = jobs.drop(['unknown'], axis=1)\n",
    "#jobs"
   ]
  },
  {
   "cell_type": "code",
   "execution_count": 255,
   "id": "meaning-photographer",
   "metadata": {},
   "outputs": [],
   "source": [
    "df_trans = pd.concat([df1, jobs], axis=1)"
   ]
  },
  {
   "cell_type": "code",
   "execution_count": 256,
   "id": "introductory-internet",
   "metadata": {},
   "outputs": [
    {
     "data": {
      "text/html": [
       "<div>\n",
       "<style scoped>\n",
       "    .dataframe tbody tr th:only-of-type {\n",
       "        vertical-align: middle;\n",
       "    }\n",
       "\n",
       "    .dataframe tbody tr th {\n",
       "        vertical-align: top;\n",
       "    }\n",
       "\n",
       "    .dataframe thead th {\n",
       "        text-align: right;\n",
       "    }\n",
       "</style>\n",
       "<table border=\"1\" class=\"dataframe\">\n",
       "  <thead>\n",
       "    <tr style=\"text-align: right;\">\n",
       "      <th></th>\n",
       "      <th>age</th>\n",
       "      <th>job</th>\n",
       "      <th>marital</th>\n",
       "      <th>education</th>\n",
       "      <th>default</th>\n",
       "      <th>housing</th>\n",
       "      <th>loan</th>\n",
       "      <th>contact</th>\n",
       "      <th>duration</th>\n",
       "      <th>campaign</th>\n",
       "      <th>...</th>\n",
       "      <th>job_entrepreneur</th>\n",
       "      <th>job_housemaid</th>\n",
       "      <th>job_management</th>\n",
       "      <th>job_retired</th>\n",
       "      <th>job_self-employed</th>\n",
       "      <th>job_services</th>\n",
       "      <th>job_student</th>\n",
       "      <th>job_technician</th>\n",
       "      <th>job_unemployed</th>\n",
       "      <th>job_unknown</th>\n",
       "    </tr>\n",
       "  </thead>\n",
       "  <tbody>\n",
       "    <tr>\n",
       "      <th>4114</th>\n",
       "      <td>30.0</td>\n",
       "      <td>management</td>\n",
       "      <td>divorced</td>\n",
       "      <td>high.school</td>\n",
       "      <td>no</td>\n",
       "      <td>yes</td>\n",
       "      <td>no</td>\n",
       "      <td>telephone</td>\n",
       "      <td>19.0</td>\n",
       "      <td>5</td>\n",
       "      <td>...</td>\n",
       "      <td>0</td>\n",
       "      <td>0</td>\n",
       "      <td>1</td>\n",
       "      <td>0</td>\n",
       "      <td>0</td>\n",
       "      <td>0</td>\n",
       "      <td>0</td>\n",
       "      <td>0</td>\n",
       "      <td>0</td>\n",
       "      <td>0</td>\n",
       "    </tr>\n",
       "    <tr>\n",
       "      <th>4115</th>\n",
       "      <td>68.0</td>\n",
       "      <td>retired</td>\n",
       "      <td>married</td>\n",
       "      <td>basic.4y</td>\n",
       "      <td>no</td>\n",
       "      <td>yes</td>\n",
       "      <td>no</td>\n",
       "      <td>cellular</td>\n",
       "      <td>177.0</td>\n",
       "      <td>1</td>\n",
       "      <td>...</td>\n",
       "      <td>0</td>\n",
       "      <td>0</td>\n",
       "      <td>0</td>\n",
       "      <td>1</td>\n",
       "      <td>0</td>\n",
       "      <td>0</td>\n",
       "      <td>0</td>\n",
       "      <td>0</td>\n",
       "      <td>0</td>\n",
       "      <td>0</td>\n",
       "    </tr>\n",
       "    <tr>\n",
       "      <th>4116</th>\n",
       "      <td>30.0</td>\n",
       "      <td>blue-collar</td>\n",
       "      <td>married</td>\n",
       "      <td>basic.9y</td>\n",
       "      <td>no</td>\n",
       "      <td>no</td>\n",
       "      <td>no</td>\n",
       "      <td>cellular</td>\n",
       "      <td>623.0</td>\n",
       "      <td>2</td>\n",
       "      <td>...</td>\n",
       "      <td>0</td>\n",
       "      <td>0</td>\n",
       "      <td>0</td>\n",
       "      <td>0</td>\n",
       "      <td>0</td>\n",
       "      <td>0</td>\n",
       "      <td>0</td>\n",
       "      <td>0</td>\n",
       "      <td>0</td>\n",
       "      <td>0</td>\n",
       "    </tr>\n",
       "    <tr>\n",
       "      <th>4117</th>\n",
       "      <td>45.0</td>\n",
       "      <td>entrepreneur</td>\n",
       "      <td>single</td>\n",
       "      <td>university.degree</td>\n",
       "      <td>no</td>\n",
       "      <td>no</td>\n",
       "      <td>no</td>\n",
       "      <td>cellular</td>\n",
       "      <td>123.0</td>\n",
       "      <td>5</td>\n",
       "      <td>...</td>\n",
       "      <td>1</td>\n",
       "      <td>0</td>\n",
       "      <td>0</td>\n",
       "      <td>0</td>\n",
       "      <td>0</td>\n",
       "      <td>0</td>\n",
       "      <td>0</td>\n",
       "      <td>0</td>\n",
       "      <td>0</td>\n",
       "      <td>0</td>\n",
       "    </tr>\n",
       "    <tr>\n",
       "      <th>4118</th>\n",
       "      <td>57.0</td>\n",
       "      <td>retired</td>\n",
       "      <td>married</td>\n",
       "      <td>basic.9y</td>\n",
       "      <td>no</td>\n",
       "      <td>no</td>\n",
       "      <td>no</td>\n",
       "      <td>cellular</td>\n",
       "      <td>22.0</td>\n",
       "      <td>27</td>\n",
       "      <td>...</td>\n",
       "      <td>0</td>\n",
       "      <td>0</td>\n",
       "      <td>0</td>\n",
       "      <td>1</td>\n",
       "      <td>0</td>\n",
       "      <td>0</td>\n",
       "      <td>0</td>\n",
       "      <td>0</td>\n",
       "      <td>0</td>\n",
       "      <td>0</td>\n",
       "    </tr>\n",
       "  </tbody>\n",
       "</table>\n",
       "<p>5 rows × 26 columns</p>\n",
       "</div>"
      ],
      "text/plain": [
       "       age           job   marital          education default housing loan  \\\n",
       "4114  30.0    management  divorced        high.school      no     yes   no   \n",
       "4115  68.0       retired   married           basic.4y      no     yes   no   \n",
       "4116  30.0   blue-collar   married           basic.9y      no      no   no   \n",
       "4117  45.0  entrepreneur    single  university.degree      no      no   no   \n",
       "4118  57.0       retired   married           basic.9y      no      no   no   \n",
       "\n",
       "        contact  duration  campaign  ... job_entrepreneur  job_housemaid  \\\n",
       "4114  telephone      19.0         5  ...                0              0   \n",
       "4115   cellular     177.0         1  ...                0              0   \n",
       "4116   cellular     623.0         2  ...                0              0   \n",
       "4117   cellular     123.0         5  ...                1              0   \n",
       "4118   cellular      22.0        27  ...                0              0   \n",
       "\n",
       "     job_management job_retired  job_self-employed  job_services  job_student  \\\n",
       "4114              1           0                  0             0            0   \n",
       "4115              0           1                  0             0            0   \n",
       "4116              0           0                  0             0            0   \n",
       "4117              0           0                  0             0            0   \n",
       "4118              0           1                  0             0            0   \n",
       "\n",
       "      job_technician  job_unemployed  job_unknown  \n",
       "4114               0               0            0  \n",
       "4115               0               0            0  \n",
       "4116               0               0            0  \n",
       "4117               0               0            0  \n",
       "4118               0               0            0  \n",
       "\n",
       "[5 rows x 26 columns]"
      ]
     },
     "execution_count": 256,
     "metadata": {},
     "output_type": "execute_result"
    }
   ],
   "source": [
    "df_trans.head()\n",
    "df_trans.tail()"
   ]
  },
  {
   "cell_type": "code",
   "execution_count": 257,
   "id": "wrapped-denver",
   "metadata": {},
   "outputs": [],
   "source": [
    "df_trans = df_trans.drop(['job'], axis=1)"
   ]
  },
  {
   "cell_type": "code",
   "execution_count": 258,
   "id": "particular-massachusetts",
   "metadata": {},
   "outputs": [
    {
     "data": {
      "text/html": [
       "<div>\n",
       "<style scoped>\n",
       "    .dataframe tbody tr th:only-of-type {\n",
       "        vertical-align: middle;\n",
       "    }\n",
       "\n",
       "    .dataframe tbody tr th {\n",
       "        vertical-align: top;\n",
       "    }\n",
       "\n",
       "    .dataframe thead th {\n",
       "        text-align: right;\n",
       "    }\n",
       "</style>\n",
       "<table border=\"1\" class=\"dataframe\">\n",
       "  <thead>\n",
       "    <tr style=\"text-align: right;\">\n",
       "      <th></th>\n",
       "      <th>age</th>\n",
       "      <th>marital</th>\n",
       "      <th>education</th>\n",
       "      <th>default</th>\n",
       "      <th>housing</th>\n",
       "      <th>loan</th>\n",
       "      <th>contact</th>\n",
       "      <th>duration</th>\n",
       "      <th>campaign</th>\n",
       "      <th>pdays</th>\n",
       "      <th>...</th>\n",
       "      <th>job_entrepreneur</th>\n",
       "      <th>job_housemaid</th>\n",
       "      <th>job_management</th>\n",
       "      <th>job_retired</th>\n",
       "      <th>job_self-employed</th>\n",
       "      <th>job_services</th>\n",
       "      <th>job_student</th>\n",
       "      <th>job_technician</th>\n",
       "      <th>job_unemployed</th>\n",
       "      <th>job_unknown</th>\n",
       "    </tr>\n",
       "  </thead>\n",
       "  <tbody>\n",
       "    <tr>\n",
       "      <th>0</th>\n",
       "      <td>40.149846</td>\n",
       "      <td>married</td>\n",
       "      <td>basic.4y</td>\n",
       "      <td>unknown</td>\n",
       "      <td>no</td>\n",
       "      <td>yes</td>\n",
       "      <td>cellular</td>\n",
       "      <td>105.0</td>\n",
       "      <td>1</td>\n",
       "      <td>no contact</td>\n",
       "      <td>...</td>\n",
       "      <td>0</td>\n",
       "      <td>0</td>\n",
       "      <td>0</td>\n",
       "      <td>0</td>\n",
       "      <td>0</td>\n",
       "      <td>0</td>\n",
       "      <td>0</td>\n",
       "      <td>0</td>\n",
       "      <td>0</td>\n",
       "      <td>0</td>\n",
       "    </tr>\n",
       "    <tr>\n",
       "      <th>1</th>\n",
       "      <td>36.000000</td>\n",
       "      <td>married</td>\n",
       "      <td>basic.6y</td>\n",
       "      <td>no</td>\n",
       "      <td>yes</td>\n",
       "      <td>no</td>\n",
       "      <td>cellular</td>\n",
       "      <td>125.0</td>\n",
       "      <td>5</td>\n",
       "      <td>no contact</td>\n",
       "      <td>...</td>\n",
       "      <td>0</td>\n",
       "      <td>0</td>\n",
       "      <td>0</td>\n",
       "      <td>0</td>\n",
       "      <td>0</td>\n",
       "      <td>0</td>\n",
       "      <td>0</td>\n",
       "      <td>0</td>\n",
       "      <td>0</td>\n",
       "      <td>0</td>\n",
       "    </tr>\n",
       "    <tr>\n",
       "      <th>2</th>\n",
       "      <td>40.149846</td>\n",
       "      <td>single</td>\n",
       "      <td>high.school</td>\n",
       "      <td>no</td>\n",
       "      <td>no</td>\n",
       "      <td>yes</td>\n",
       "      <td>telephone</td>\n",
       "      <td>111.0</td>\n",
       "      <td>1</td>\n",
       "      <td>no contact</td>\n",
       "      <td>...</td>\n",
       "      <td>0</td>\n",
       "      <td>0</td>\n",
       "      <td>0</td>\n",
       "      <td>0</td>\n",
       "      <td>0</td>\n",
       "      <td>0</td>\n",
       "      <td>0</td>\n",
       "      <td>0</td>\n",
       "      <td>0</td>\n",
       "      <td>0</td>\n",
       "    </tr>\n",
       "    <tr>\n",
       "      <th>3</th>\n",
       "      <td>39.000000</td>\n",
       "      <td>married</td>\n",
       "      <td>basic.6y</td>\n",
       "      <td>unknown</td>\n",
       "      <td>no</td>\n",
       "      <td>no</td>\n",
       "      <td>cellular</td>\n",
       "      <td>173.0</td>\n",
       "      <td>2</td>\n",
       "      <td>no contact</td>\n",
       "      <td>...</td>\n",
       "      <td>0</td>\n",
       "      <td>0</td>\n",
       "      <td>0</td>\n",
       "      <td>0</td>\n",
       "      <td>0</td>\n",
       "      <td>0</td>\n",
       "      <td>0</td>\n",
       "      <td>0</td>\n",
       "      <td>0</td>\n",
       "      <td>0</td>\n",
       "    </tr>\n",
       "    <tr>\n",
       "      <th>4</th>\n",
       "      <td>41.000000</td>\n",
       "      <td>married</td>\n",
       "      <td>basic.4y</td>\n",
       "      <td>unknown</td>\n",
       "      <td>no</td>\n",
       "      <td>no</td>\n",
       "      <td>cellular</td>\n",
       "      <td>107.0</td>\n",
       "      <td>1</td>\n",
       "      <td>no contact</td>\n",
       "      <td>...</td>\n",
       "      <td>0</td>\n",
       "      <td>1</td>\n",
       "      <td>0</td>\n",
       "      <td>0</td>\n",
       "      <td>0</td>\n",
       "      <td>0</td>\n",
       "      <td>0</td>\n",
       "      <td>0</td>\n",
       "      <td>0</td>\n",
       "      <td>0</td>\n",
       "    </tr>\n",
       "    <tr>\n",
       "      <th>...</th>\n",
       "      <td>...</td>\n",
       "      <td>...</td>\n",
       "      <td>...</td>\n",
       "      <td>...</td>\n",
       "      <td>...</td>\n",
       "      <td>...</td>\n",
       "      <td>...</td>\n",
       "      <td>...</td>\n",
       "      <td>...</td>\n",
       "      <td>...</td>\n",
       "      <td>...</td>\n",
       "      <td>...</td>\n",
       "      <td>...</td>\n",
       "      <td>...</td>\n",
       "      <td>...</td>\n",
       "      <td>...</td>\n",
       "      <td>...</td>\n",
       "      <td>...</td>\n",
       "      <td>...</td>\n",
       "      <td>...</td>\n",
       "      <td>...</td>\n",
       "    </tr>\n",
       "    <tr>\n",
       "      <th>4114</th>\n",
       "      <td>30.000000</td>\n",
       "      <td>divorced</td>\n",
       "      <td>high.school</td>\n",
       "      <td>no</td>\n",
       "      <td>yes</td>\n",
       "      <td>no</td>\n",
       "      <td>telephone</td>\n",
       "      <td>19.0</td>\n",
       "      <td>5</td>\n",
       "      <td>no contact</td>\n",
       "      <td>...</td>\n",
       "      <td>0</td>\n",
       "      <td>0</td>\n",
       "      <td>1</td>\n",
       "      <td>0</td>\n",
       "      <td>0</td>\n",
       "      <td>0</td>\n",
       "      <td>0</td>\n",
       "      <td>0</td>\n",
       "      <td>0</td>\n",
       "      <td>0</td>\n",
       "    </tr>\n",
       "    <tr>\n",
       "      <th>4115</th>\n",
       "      <td>68.000000</td>\n",
       "      <td>married</td>\n",
       "      <td>basic.4y</td>\n",
       "      <td>no</td>\n",
       "      <td>yes</td>\n",
       "      <td>no</td>\n",
       "      <td>cellular</td>\n",
       "      <td>177.0</td>\n",
       "      <td>1</td>\n",
       "      <td>no contact</td>\n",
       "      <td>...</td>\n",
       "      <td>0</td>\n",
       "      <td>0</td>\n",
       "      <td>0</td>\n",
       "      <td>1</td>\n",
       "      <td>0</td>\n",
       "      <td>0</td>\n",
       "      <td>0</td>\n",
       "      <td>0</td>\n",
       "      <td>0</td>\n",
       "      <td>0</td>\n",
       "    </tr>\n",
       "    <tr>\n",
       "      <th>4116</th>\n",
       "      <td>30.000000</td>\n",
       "      <td>married</td>\n",
       "      <td>basic.9y</td>\n",
       "      <td>no</td>\n",
       "      <td>no</td>\n",
       "      <td>no</td>\n",
       "      <td>cellular</td>\n",
       "      <td>623.0</td>\n",
       "      <td>2</td>\n",
       "      <td>no contact</td>\n",
       "      <td>...</td>\n",
       "      <td>0</td>\n",
       "      <td>0</td>\n",
       "      <td>0</td>\n",
       "      <td>0</td>\n",
       "      <td>0</td>\n",
       "      <td>0</td>\n",
       "      <td>0</td>\n",
       "      <td>0</td>\n",
       "      <td>0</td>\n",
       "      <td>0</td>\n",
       "    </tr>\n",
       "    <tr>\n",
       "      <th>4117</th>\n",
       "      <td>45.000000</td>\n",
       "      <td>single</td>\n",
       "      <td>university.degree</td>\n",
       "      <td>no</td>\n",
       "      <td>no</td>\n",
       "      <td>no</td>\n",
       "      <td>cellular</td>\n",
       "      <td>123.0</td>\n",
       "      <td>5</td>\n",
       "      <td>no contact</td>\n",
       "      <td>...</td>\n",
       "      <td>1</td>\n",
       "      <td>0</td>\n",
       "      <td>0</td>\n",
       "      <td>0</td>\n",
       "      <td>0</td>\n",
       "      <td>0</td>\n",
       "      <td>0</td>\n",
       "      <td>0</td>\n",
       "      <td>0</td>\n",
       "      <td>0</td>\n",
       "    </tr>\n",
       "    <tr>\n",
       "      <th>4118</th>\n",
       "      <td>57.000000</td>\n",
       "      <td>married</td>\n",
       "      <td>basic.9y</td>\n",
       "      <td>no</td>\n",
       "      <td>no</td>\n",
       "      <td>no</td>\n",
       "      <td>cellular</td>\n",
       "      <td>22.0</td>\n",
       "      <td>27</td>\n",
       "      <td>no contact</td>\n",
       "      <td>...</td>\n",
       "      <td>0</td>\n",
       "      <td>0</td>\n",
       "      <td>0</td>\n",
       "      <td>1</td>\n",
       "      <td>0</td>\n",
       "      <td>0</td>\n",
       "      <td>0</td>\n",
       "      <td>0</td>\n",
       "      <td>0</td>\n",
       "      <td>0</td>\n",
       "    </tr>\n",
       "  </tbody>\n",
       "</table>\n",
       "<p>4119 rows × 25 columns</p>\n",
       "</div>"
      ],
      "text/plain": [
       "            age   marital          education  default housing loan    contact  \\\n",
       "0     40.149846   married           basic.4y  unknown      no  yes   cellular   \n",
       "1     36.000000   married           basic.6y       no     yes   no   cellular   \n",
       "2     40.149846    single        high.school       no      no  yes  telephone   \n",
       "3     39.000000   married           basic.6y  unknown      no   no   cellular   \n",
       "4     41.000000   married           basic.4y  unknown      no   no   cellular   \n",
       "...         ...       ...                ...      ...     ...  ...        ...   \n",
       "4114  30.000000  divorced        high.school       no     yes   no  telephone   \n",
       "4115  68.000000   married           basic.4y       no     yes   no   cellular   \n",
       "4116  30.000000   married           basic.9y       no      no   no   cellular   \n",
       "4117  45.000000    single  university.degree       no      no   no   cellular   \n",
       "4118  57.000000   married           basic.9y       no      no   no   cellular   \n",
       "\n",
       "      duration  campaign       pdays  ...  job_entrepreneur job_housemaid  \\\n",
       "0        105.0         1  no contact  ...                 0             0   \n",
       "1        125.0         5  no contact  ...                 0             0   \n",
       "2        111.0         1  no contact  ...                 0             0   \n",
       "3        173.0         2  no contact  ...                 0             0   \n",
       "4        107.0         1  no contact  ...                 0             1   \n",
       "...        ...       ...         ...  ...               ...           ...   \n",
       "4114      19.0         5  no contact  ...                 0             0   \n",
       "4115     177.0         1  no contact  ...                 0             0   \n",
       "4116     623.0         2  no contact  ...                 0             0   \n",
       "4117     123.0         5  no contact  ...                 1             0   \n",
       "4118      22.0        27  no contact  ...                 0             0   \n",
       "\n",
       "     job_management  job_retired  job_self-employed  job_services  \\\n",
       "0                 0            0                  0             0   \n",
       "1                 0            0                  0             0   \n",
       "2                 0            0                  0             0   \n",
       "3                 0            0                  0             0   \n",
       "4                 0            0                  0             0   \n",
       "...             ...          ...                ...           ...   \n",
       "4114              1            0                  0             0   \n",
       "4115              0            1                  0             0   \n",
       "4116              0            0                  0             0   \n",
       "4117              0            0                  0             0   \n",
       "4118              0            1                  0             0   \n",
       "\n",
       "      job_student  job_technician  job_unemployed  job_unknown  \n",
       "0               0               0               0            0  \n",
       "1               0               0               0            0  \n",
       "2               0               0               0            0  \n",
       "3               0               0               0            0  \n",
       "4               0               0               0            0  \n",
       "...           ...             ...             ...          ...  \n",
       "4114            0               0               0            0  \n",
       "4115            0               0               0            0  \n",
       "4116            0               0               0            0  \n",
       "4117            0               0               0            0  \n",
       "4118            0               0               0            0  \n",
       "\n",
       "[4119 rows x 25 columns]"
      ]
     },
     "execution_count": 258,
     "metadata": {},
     "output_type": "execute_result"
    }
   ],
   "source": [
    "df_trans"
   ]
  },
  {
   "cell_type": "code",
   "execution_count": 259,
   "id": "dying-turkey",
   "metadata": {},
   "outputs": [],
   "source": [
    "##Question 8 - Marital column transformations"
   ]
  },
  {
   "cell_type": "code",
   "execution_count": 260,
   "id": "informative-statistics",
   "metadata": {},
   "outputs": [
    {
     "data": {
      "text/plain": [
       "married     2584\n",
       "single      1099\n",
       "divorced     424\n",
       "unknown       12\n",
       "Name: marital, dtype: int64"
      ]
     },
     "execution_count": 260,
     "metadata": {},
     "output_type": "execute_result"
    }
   ],
   "source": [
    "df_trans['marital'].value_counts()"
   ]
  },
  {
   "cell_type": "code",
   "execution_count": 261,
   "id": "cleared-immigration",
   "metadata": {},
   "outputs": [
    {
     "data": {
      "text/html": [
       "<div>\n",
       "<style scoped>\n",
       "    .dataframe tbody tr th:only-of-type {\n",
       "        vertical-align: middle;\n",
       "    }\n",
       "\n",
       "    .dataframe tbody tr th {\n",
       "        vertical-align: top;\n",
       "    }\n",
       "\n",
       "    .dataframe thead th {\n",
       "        text-align: right;\n",
       "    }\n",
       "</style>\n",
       "<table border=\"1\" class=\"dataframe\">\n",
       "  <thead>\n",
       "    <tr style=\"text-align: right;\">\n",
       "      <th></th>\n",
       "      <th>marital_divorced</th>\n",
       "      <th>marital_married</th>\n",
       "      <th>marital_single</th>\n",
       "      <th>marital_unknown</th>\n",
       "    </tr>\n",
       "  </thead>\n",
       "  <tbody>\n",
       "    <tr>\n",
       "      <th>0</th>\n",
       "      <td>0</td>\n",
       "      <td>1</td>\n",
       "      <td>0</td>\n",
       "      <td>0</td>\n",
       "    </tr>\n",
       "    <tr>\n",
       "      <th>1</th>\n",
       "      <td>0</td>\n",
       "      <td>1</td>\n",
       "      <td>0</td>\n",
       "      <td>0</td>\n",
       "    </tr>\n",
       "    <tr>\n",
       "      <th>2</th>\n",
       "      <td>0</td>\n",
       "      <td>0</td>\n",
       "      <td>1</td>\n",
       "      <td>0</td>\n",
       "    </tr>\n",
       "    <tr>\n",
       "      <th>3</th>\n",
       "      <td>0</td>\n",
       "      <td>1</td>\n",
       "      <td>0</td>\n",
       "      <td>0</td>\n",
       "    </tr>\n",
       "    <tr>\n",
       "      <th>4</th>\n",
       "      <td>0</td>\n",
       "      <td>1</td>\n",
       "      <td>0</td>\n",
       "      <td>0</td>\n",
       "    </tr>\n",
       "    <tr>\n",
       "      <th>...</th>\n",
       "      <td>...</td>\n",
       "      <td>...</td>\n",
       "      <td>...</td>\n",
       "      <td>...</td>\n",
       "    </tr>\n",
       "    <tr>\n",
       "      <th>4114</th>\n",
       "      <td>1</td>\n",
       "      <td>0</td>\n",
       "      <td>0</td>\n",
       "      <td>0</td>\n",
       "    </tr>\n",
       "    <tr>\n",
       "      <th>4115</th>\n",
       "      <td>0</td>\n",
       "      <td>1</td>\n",
       "      <td>0</td>\n",
       "      <td>0</td>\n",
       "    </tr>\n",
       "    <tr>\n",
       "      <th>4116</th>\n",
       "      <td>0</td>\n",
       "      <td>1</td>\n",
       "      <td>0</td>\n",
       "      <td>0</td>\n",
       "    </tr>\n",
       "    <tr>\n",
       "      <th>4117</th>\n",
       "      <td>0</td>\n",
       "      <td>0</td>\n",
       "      <td>1</td>\n",
       "      <td>0</td>\n",
       "    </tr>\n",
       "    <tr>\n",
       "      <th>4118</th>\n",
       "      <td>0</td>\n",
       "      <td>1</td>\n",
       "      <td>0</td>\n",
       "      <td>0</td>\n",
       "    </tr>\n",
       "  </tbody>\n",
       "</table>\n",
       "<p>4119 rows × 4 columns</p>\n",
       "</div>"
      ],
      "text/plain": [
       "      marital_divorced  marital_married  marital_single  marital_unknown\n",
       "0                    0                1               0                0\n",
       "1                    0                1               0                0\n",
       "2                    0                0               1                0\n",
       "3                    0                1               0                0\n",
       "4                    0                1               0                0\n",
       "...                ...              ...             ...              ...\n",
       "4114                 1                0               0                0\n",
       "4115                 0                1               0                0\n",
       "4116                 0                1               0                0\n",
       "4117                 0                0               1                0\n",
       "4118                 0                1               0                0\n",
       "\n",
       "[4119 rows x 4 columns]"
      ]
     },
     "execution_count": 261,
     "metadata": {},
     "output_type": "execute_result"
    }
   ],
   "source": [
    "status = pd.get_dummies(df_trans['marital'], prefix='marital')\n",
    "status"
   ]
  },
  {
   "cell_type": "code",
   "execution_count": 262,
   "id": "premier-family",
   "metadata": {},
   "outputs": [],
   "source": [
    "#status = status.drop(['unknown'], axis=1)\n",
    "#status"
   ]
  },
  {
   "cell_type": "code",
   "execution_count": 263,
   "id": "israeli-thesis",
   "metadata": {},
   "outputs": [],
   "source": [
    "df_trans = pd.concat([df_trans, status], axis=1)\n"
   ]
  },
  {
   "cell_type": "code",
   "execution_count": 264,
   "id": "subtle-pride",
   "metadata": {},
   "outputs": [],
   "source": [
    "df_trans = df_trans.drop(['marital'], axis=1)"
   ]
  },
  {
   "cell_type": "code",
   "execution_count": 265,
   "id": "lonely-future",
   "metadata": {},
   "outputs": [
    {
     "data": {
      "text/html": [
       "<div>\n",
       "<style scoped>\n",
       "    .dataframe tbody tr th:only-of-type {\n",
       "        vertical-align: middle;\n",
       "    }\n",
       "\n",
       "    .dataframe tbody tr th {\n",
       "        vertical-align: top;\n",
       "    }\n",
       "\n",
       "    .dataframe thead th {\n",
       "        text-align: right;\n",
       "    }\n",
       "</style>\n",
       "<table border=\"1\" class=\"dataframe\">\n",
       "  <thead>\n",
       "    <tr style=\"text-align: right;\">\n",
       "      <th></th>\n",
       "      <th>age</th>\n",
       "      <th>education</th>\n",
       "      <th>default</th>\n",
       "      <th>housing</th>\n",
       "      <th>loan</th>\n",
       "      <th>contact</th>\n",
       "      <th>duration</th>\n",
       "      <th>campaign</th>\n",
       "      <th>pdays</th>\n",
       "      <th>previous</th>\n",
       "      <th>...</th>\n",
       "      <th>job_self-employed</th>\n",
       "      <th>job_services</th>\n",
       "      <th>job_student</th>\n",
       "      <th>job_technician</th>\n",
       "      <th>job_unemployed</th>\n",
       "      <th>job_unknown</th>\n",
       "      <th>marital_divorced</th>\n",
       "      <th>marital_married</th>\n",
       "      <th>marital_single</th>\n",
       "      <th>marital_unknown</th>\n",
       "    </tr>\n",
       "  </thead>\n",
       "  <tbody>\n",
       "    <tr>\n",
       "      <th>4114</th>\n",
       "      <td>30.0</td>\n",
       "      <td>high.school</td>\n",
       "      <td>no</td>\n",
       "      <td>yes</td>\n",
       "      <td>no</td>\n",
       "      <td>telephone</td>\n",
       "      <td>19.0</td>\n",
       "      <td>5</td>\n",
       "      <td>no contact</td>\n",
       "      <td>0</td>\n",
       "      <td>...</td>\n",
       "      <td>0</td>\n",
       "      <td>0</td>\n",
       "      <td>0</td>\n",
       "      <td>0</td>\n",
       "      <td>0</td>\n",
       "      <td>0</td>\n",
       "      <td>1</td>\n",
       "      <td>0</td>\n",
       "      <td>0</td>\n",
       "      <td>0</td>\n",
       "    </tr>\n",
       "    <tr>\n",
       "      <th>4115</th>\n",
       "      <td>68.0</td>\n",
       "      <td>basic.4y</td>\n",
       "      <td>no</td>\n",
       "      <td>yes</td>\n",
       "      <td>no</td>\n",
       "      <td>cellular</td>\n",
       "      <td>177.0</td>\n",
       "      <td>1</td>\n",
       "      <td>no contact</td>\n",
       "      <td>0</td>\n",
       "      <td>...</td>\n",
       "      <td>0</td>\n",
       "      <td>0</td>\n",
       "      <td>0</td>\n",
       "      <td>0</td>\n",
       "      <td>0</td>\n",
       "      <td>0</td>\n",
       "      <td>0</td>\n",
       "      <td>1</td>\n",
       "      <td>0</td>\n",
       "      <td>0</td>\n",
       "    </tr>\n",
       "    <tr>\n",
       "      <th>4116</th>\n",
       "      <td>30.0</td>\n",
       "      <td>basic.9y</td>\n",
       "      <td>no</td>\n",
       "      <td>no</td>\n",
       "      <td>no</td>\n",
       "      <td>cellular</td>\n",
       "      <td>623.0</td>\n",
       "      <td>2</td>\n",
       "      <td>no contact</td>\n",
       "      <td>0</td>\n",
       "      <td>...</td>\n",
       "      <td>0</td>\n",
       "      <td>0</td>\n",
       "      <td>0</td>\n",
       "      <td>0</td>\n",
       "      <td>0</td>\n",
       "      <td>0</td>\n",
       "      <td>0</td>\n",
       "      <td>1</td>\n",
       "      <td>0</td>\n",
       "      <td>0</td>\n",
       "    </tr>\n",
       "    <tr>\n",
       "      <th>4117</th>\n",
       "      <td>45.0</td>\n",
       "      <td>university.degree</td>\n",
       "      <td>no</td>\n",
       "      <td>no</td>\n",
       "      <td>no</td>\n",
       "      <td>cellular</td>\n",
       "      <td>123.0</td>\n",
       "      <td>5</td>\n",
       "      <td>no contact</td>\n",
       "      <td>0</td>\n",
       "      <td>...</td>\n",
       "      <td>0</td>\n",
       "      <td>0</td>\n",
       "      <td>0</td>\n",
       "      <td>0</td>\n",
       "      <td>0</td>\n",
       "      <td>0</td>\n",
       "      <td>0</td>\n",
       "      <td>0</td>\n",
       "      <td>1</td>\n",
       "      <td>0</td>\n",
       "    </tr>\n",
       "    <tr>\n",
       "      <th>4118</th>\n",
       "      <td>57.0</td>\n",
       "      <td>basic.9y</td>\n",
       "      <td>no</td>\n",
       "      <td>no</td>\n",
       "      <td>no</td>\n",
       "      <td>cellular</td>\n",
       "      <td>22.0</td>\n",
       "      <td>27</td>\n",
       "      <td>no contact</td>\n",
       "      <td>0</td>\n",
       "      <td>...</td>\n",
       "      <td>0</td>\n",
       "      <td>0</td>\n",
       "      <td>0</td>\n",
       "      <td>0</td>\n",
       "      <td>0</td>\n",
       "      <td>0</td>\n",
       "      <td>0</td>\n",
       "      <td>1</td>\n",
       "      <td>0</td>\n",
       "      <td>0</td>\n",
       "    </tr>\n",
       "  </tbody>\n",
       "</table>\n",
       "<p>5 rows × 28 columns</p>\n",
       "</div>"
      ],
      "text/plain": [
       "       age          education default housing loan    contact  duration  \\\n",
       "4114  30.0        high.school      no     yes   no  telephone      19.0   \n",
       "4115  68.0           basic.4y      no     yes   no   cellular     177.0   \n",
       "4116  30.0           basic.9y      no      no   no   cellular     623.0   \n",
       "4117  45.0  university.degree      no      no   no   cellular     123.0   \n",
       "4118  57.0           basic.9y      no      no   no   cellular      22.0   \n",
       "\n",
       "      campaign       pdays  previous  ... job_self-employed job_services  \\\n",
       "4114         5  no contact         0  ...                 0            0   \n",
       "4115         1  no contact         0  ...                 0            0   \n",
       "4116         2  no contact         0  ...                 0            0   \n",
       "4117         5  no contact         0  ...                 0            0   \n",
       "4118        27  no contact         0  ...                 0            0   \n",
       "\n",
       "      job_student  job_technician  job_unemployed  job_unknown  \\\n",
       "4114            0               0               0            0   \n",
       "4115            0               0               0            0   \n",
       "4116            0               0               0            0   \n",
       "4117            0               0               0            0   \n",
       "4118            0               0               0            0   \n",
       "\n",
       "      marital_divorced  marital_married  marital_single  marital_unknown  \n",
       "4114                 1                0               0                0  \n",
       "4115                 0                1               0                0  \n",
       "4116                 0                1               0                0  \n",
       "4117                 0                0               1                0  \n",
       "4118                 0                1               0                0  \n",
       "\n",
       "[5 rows x 28 columns]"
      ]
     },
     "execution_count": 265,
     "metadata": {},
     "output_type": "execute_result"
    }
   ],
   "source": [
    "df_trans.head()\n",
    "df_trans.tail()"
   ]
  },
  {
   "cell_type": "markdown",
   "id": "confidential-billy",
   "metadata": {},
   "source": [
    "##Question 9 & 10 - Replace the unknown values in 'education with the highest frequency of the column'"
   ]
  },
  {
   "cell_type": "code",
   "execution_count": 266,
   "id": "adjustable-fifty",
   "metadata": {},
   "outputs": [
    {
     "data": {
      "text/plain": [
       "university.degree      1231\n",
       "high.school             942\n",
       "basic.9y                612\n",
       "professional.course     530\n",
       "basic.4y                418\n",
       "basic.6y                223\n",
       "unknown                 160\n",
       "illiterate                3\n",
       "Name: education, dtype: int64"
      ]
     },
     "execution_count": 266,
     "metadata": {},
     "output_type": "execute_result"
    }
   ],
   "source": [
    "df_trans['education'].value_counts()"
   ]
  },
  {
   "cell_type": "code",
   "execution_count": 267,
   "id": "funny-commissioner",
   "metadata": {},
   "outputs": [],
   "source": [
    "df_trans['education'].replace('unknown', 'university.degree', inplace=True)"
   ]
  },
  {
   "cell_type": "code",
   "execution_count": 268,
   "id": "enabling-spain",
   "metadata": {},
   "outputs": [
    {
     "data": {
      "text/plain": [
       "university.degree      1391\n",
       "high.school             942\n",
       "basic.9y                612\n",
       "professional.course     530\n",
       "basic.4y                418\n",
       "basic.6y                223\n",
       "illiterate                3\n",
       "Name: education, dtype: int64"
      ]
     },
     "execution_count": 268,
     "metadata": {},
     "output_type": "execute_result"
    }
   ],
   "source": [
    "df_trans['education'].value_counts()"
   ]
  },
  {
   "cell_type": "code",
   "execution_count": 269,
   "id": "settled-mustang",
   "metadata": {},
   "outputs": [
    {
     "data": {
      "text/plain": [
       "{'education': {'illiterate': 0,\n",
       "  'basic.4y': 1,\n",
       "  'basic.6y': 2,\n",
       "  'basic.9y': 3,\n",
       "  'high.school': 4,\n",
       "  'professional.course': 5,\n",
       "  'university.degree': 6}}"
      ]
     },
     "execution_count": 269,
     "metadata": {},
     "output_type": "execute_result"
    }
   ],
   "source": [
    "educ_cleanup = {\"education\": {\"illiterate\":0, \"basic.4y\":1, \"basic.6y\":2, \"basic.9y\":3, \"high.school\":4, \"professional.course\":5, \"university.degree\": 6}}\n",
    "educ_cleanup"
   ]
  },
  {
   "cell_type": "code",
   "execution_count": 270,
   "id": "empty-target",
   "metadata": {},
   "outputs": [],
   "source": [
    "df_trans = df_trans.replace(educ_cleanup)"
   ]
  },
  {
   "cell_type": "code",
   "execution_count": 271,
   "id": "meaningful-arnold",
   "metadata": {},
   "outputs": [
    {
     "data": {
      "text/html": [
       "<div>\n",
       "<style scoped>\n",
       "    .dataframe tbody tr th:only-of-type {\n",
       "        vertical-align: middle;\n",
       "    }\n",
       "\n",
       "    .dataframe tbody tr th {\n",
       "        vertical-align: top;\n",
       "    }\n",
       "\n",
       "    .dataframe thead th {\n",
       "        text-align: right;\n",
       "    }\n",
       "</style>\n",
       "<table border=\"1\" class=\"dataframe\">\n",
       "  <thead>\n",
       "    <tr style=\"text-align: right;\">\n",
       "      <th></th>\n",
       "      <th>age</th>\n",
       "      <th>education</th>\n",
       "      <th>default</th>\n",
       "      <th>housing</th>\n",
       "      <th>loan</th>\n",
       "      <th>contact</th>\n",
       "      <th>duration</th>\n",
       "      <th>campaign</th>\n",
       "      <th>pdays</th>\n",
       "      <th>previous</th>\n",
       "      <th>...</th>\n",
       "      <th>job_self-employed</th>\n",
       "      <th>job_services</th>\n",
       "      <th>job_student</th>\n",
       "      <th>job_technician</th>\n",
       "      <th>job_unemployed</th>\n",
       "      <th>job_unknown</th>\n",
       "      <th>marital_divorced</th>\n",
       "      <th>marital_married</th>\n",
       "      <th>marital_single</th>\n",
       "      <th>marital_unknown</th>\n",
       "    </tr>\n",
       "  </thead>\n",
       "  <tbody>\n",
       "    <tr>\n",
       "      <th>0</th>\n",
       "      <td>40.149846</td>\n",
       "      <td>1</td>\n",
       "      <td>unknown</td>\n",
       "      <td>no</td>\n",
       "      <td>yes</td>\n",
       "      <td>cellular</td>\n",
       "      <td>105.0</td>\n",
       "      <td>1</td>\n",
       "      <td>no contact</td>\n",
       "      <td>0</td>\n",
       "      <td>...</td>\n",
       "      <td>0</td>\n",
       "      <td>0</td>\n",
       "      <td>0</td>\n",
       "      <td>0</td>\n",
       "      <td>0</td>\n",
       "      <td>0</td>\n",
       "      <td>0</td>\n",
       "      <td>1</td>\n",
       "      <td>0</td>\n",
       "      <td>0</td>\n",
       "    </tr>\n",
       "    <tr>\n",
       "      <th>1</th>\n",
       "      <td>36.000000</td>\n",
       "      <td>2</td>\n",
       "      <td>no</td>\n",
       "      <td>yes</td>\n",
       "      <td>no</td>\n",
       "      <td>cellular</td>\n",
       "      <td>125.0</td>\n",
       "      <td>5</td>\n",
       "      <td>no contact</td>\n",
       "      <td>0</td>\n",
       "      <td>...</td>\n",
       "      <td>0</td>\n",
       "      <td>0</td>\n",
       "      <td>0</td>\n",
       "      <td>0</td>\n",
       "      <td>0</td>\n",
       "      <td>0</td>\n",
       "      <td>0</td>\n",
       "      <td>1</td>\n",
       "      <td>0</td>\n",
       "      <td>0</td>\n",
       "    </tr>\n",
       "    <tr>\n",
       "      <th>2</th>\n",
       "      <td>40.149846</td>\n",
       "      <td>4</td>\n",
       "      <td>no</td>\n",
       "      <td>no</td>\n",
       "      <td>yes</td>\n",
       "      <td>telephone</td>\n",
       "      <td>111.0</td>\n",
       "      <td>1</td>\n",
       "      <td>no contact</td>\n",
       "      <td>0</td>\n",
       "      <td>...</td>\n",
       "      <td>0</td>\n",
       "      <td>0</td>\n",
       "      <td>0</td>\n",
       "      <td>0</td>\n",
       "      <td>0</td>\n",
       "      <td>0</td>\n",
       "      <td>0</td>\n",
       "      <td>0</td>\n",
       "      <td>1</td>\n",
       "      <td>0</td>\n",
       "    </tr>\n",
       "    <tr>\n",
       "      <th>3</th>\n",
       "      <td>39.000000</td>\n",
       "      <td>2</td>\n",
       "      <td>unknown</td>\n",
       "      <td>no</td>\n",
       "      <td>no</td>\n",
       "      <td>cellular</td>\n",
       "      <td>173.0</td>\n",
       "      <td>2</td>\n",
       "      <td>no contact</td>\n",
       "      <td>0</td>\n",
       "      <td>...</td>\n",
       "      <td>0</td>\n",
       "      <td>0</td>\n",
       "      <td>0</td>\n",
       "      <td>0</td>\n",
       "      <td>0</td>\n",
       "      <td>0</td>\n",
       "      <td>0</td>\n",
       "      <td>1</td>\n",
       "      <td>0</td>\n",
       "      <td>0</td>\n",
       "    </tr>\n",
       "    <tr>\n",
       "      <th>4</th>\n",
       "      <td>41.000000</td>\n",
       "      <td>1</td>\n",
       "      <td>unknown</td>\n",
       "      <td>no</td>\n",
       "      <td>no</td>\n",
       "      <td>cellular</td>\n",
       "      <td>107.0</td>\n",
       "      <td>1</td>\n",
       "      <td>no contact</td>\n",
       "      <td>0</td>\n",
       "      <td>...</td>\n",
       "      <td>0</td>\n",
       "      <td>0</td>\n",
       "      <td>0</td>\n",
       "      <td>0</td>\n",
       "      <td>0</td>\n",
       "      <td>0</td>\n",
       "      <td>0</td>\n",
       "      <td>1</td>\n",
       "      <td>0</td>\n",
       "      <td>0</td>\n",
       "    </tr>\n",
       "  </tbody>\n",
       "</table>\n",
       "<p>5 rows × 28 columns</p>\n",
       "</div>"
      ],
      "text/plain": [
       "         age  education  default housing loan    contact  duration  campaign  \\\n",
       "0  40.149846          1  unknown      no  yes   cellular     105.0         1   \n",
       "1  36.000000          2       no     yes   no   cellular     125.0         5   \n",
       "2  40.149846          4       no      no  yes  telephone     111.0         1   \n",
       "3  39.000000          2  unknown      no   no   cellular     173.0         2   \n",
       "4  41.000000          1  unknown      no   no   cellular     107.0         1   \n",
       "\n",
       "        pdays  previous  ... job_self-employed job_services  job_student  \\\n",
       "0  no contact         0  ...                 0            0            0   \n",
       "1  no contact         0  ...                 0            0            0   \n",
       "2  no contact         0  ...                 0            0            0   \n",
       "3  no contact         0  ...                 0            0            0   \n",
       "4  no contact         0  ...                 0            0            0   \n",
       "\n",
       "   job_technician  job_unemployed  job_unknown  marital_divorced  \\\n",
       "0               0               0            0                 0   \n",
       "1               0               0            0                 0   \n",
       "2               0               0            0                 0   \n",
       "3               0               0            0                 0   \n",
       "4               0               0            0                 0   \n",
       "\n",
       "   marital_married  marital_single  marital_unknown  \n",
       "0                1               0                0  \n",
       "1                1               0                0  \n",
       "2                0               1                0  \n",
       "3                1               0                0  \n",
       "4                1               0                0  \n",
       "\n",
       "[5 rows x 28 columns]"
      ]
     },
     "execution_count": 271,
     "metadata": {},
     "output_type": "execute_result"
    }
   ],
   "source": [
    "df_trans.head()"
   ]
  },
  {
   "cell_type": "markdown",
   "id": "failing-buddy",
   "metadata": {},
   "source": [
    "##Question 11 - default column"
   ]
  },
  {
   "cell_type": "code",
   "execution_count": 272,
   "id": "joined-margin",
   "metadata": {},
   "outputs": [
    {
     "data": {
      "text/plain": [
       "no         3281\n",
       "unknown     838\n",
       "Name: default, dtype: int64"
      ]
     },
     "execution_count": 272,
     "metadata": {},
     "output_type": "execute_result"
    }
   ],
   "source": [
    "df_trans['default'].value_counts()"
   ]
  },
  {
   "cell_type": "code",
   "execution_count": 273,
   "id": "perceived-festival",
   "metadata": {},
   "outputs": [],
   "source": [
    "default_cleanup = {'default': {\"no\": 1, \"yes\":0}}"
   ]
  },
  {
   "cell_type": "code",
   "execution_count": 274,
   "id": "israeli-petite",
   "metadata": {},
   "outputs": [
    {
     "data": {
      "text/html": [
       "<div>\n",
       "<style scoped>\n",
       "    .dataframe tbody tr th:only-of-type {\n",
       "        vertical-align: middle;\n",
       "    }\n",
       "\n",
       "    .dataframe tbody tr th {\n",
       "        vertical-align: top;\n",
       "    }\n",
       "\n",
       "    .dataframe thead th {\n",
       "        text-align: right;\n",
       "    }\n",
       "</style>\n",
       "<table border=\"1\" class=\"dataframe\">\n",
       "  <thead>\n",
       "    <tr style=\"text-align: right;\">\n",
       "      <th></th>\n",
       "      <th>default_no</th>\n",
       "      <th>default_unknown</th>\n",
       "    </tr>\n",
       "  </thead>\n",
       "  <tbody>\n",
       "    <tr>\n",
       "      <th>0</th>\n",
       "      <td>0</td>\n",
       "      <td>1</td>\n",
       "    </tr>\n",
       "    <tr>\n",
       "      <th>1</th>\n",
       "      <td>1</td>\n",
       "      <td>0</td>\n",
       "    </tr>\n",
       "    <tr>\n",
       "      <th>2</th>\n",
       "      <td>1</td>\n",
       "      <td>0</td>\n",
       "    </tr>\n",
       "    <tr>\n",
       "      <th>3</th>\n",
       "      <td>0</td>\n",
       "      <td>1</td>\n",
       "    </tr>\n",
       "    <tr>\n",
       "      <th>4</th>\n",
       "      <td>0</td>\n",
       "      <td>1</td>\n",
       "    </tr>\n",
       "    <tr>\n",
       "      <th>...</th>\n",
       "      <td>...</td>\n",
       "      <td>...</td>\n",
       "    </tr>\n",
       "    <tr>\n",
       "      <th>4114</th>\n",
       "      <td>1</td>\n",
       "      <td>0</td>\n",
       "    </tr>\n",
       "    <tr>\n",
       "      <th>4115</th>\n",
       "      <td>1</td>\n",
       "      <td>0</td>\n",
       "    </tr>\n",
       "    <tr>\n",
       "      <th>4116</th>\n",
       "      <td>1</td>\n",
       "      <td>0</td>\n",
       "    </tr>\n",
       "    <tr>\n",
       "      <th>4117</th>\n",
       "      <td>1</td>\n",
       "      <td>0</td>\n",
       "    </tr>\n",
       "    <tr>\n",
       "      <th>4118</th>\n",
       "      <td>1</td>\n",
       "      <td>0</td>\n",
       "    </tr>\n",
       "  </tbody>\n",
       "</table>\n",
       "<p>4119 rows × 2 columns</p>\n",
       "</div>"
      ],
      "text/plain": [
       "      default_no  default_unknown\n",
       "0              0                1\n",
       "1              1                0\n",
       "2              1                0\n",
       "3              0                1\n",
       "4              0                1\n",
       "...          ...              ...\n",
       "4114           1                0\n",
       "4115           1                0\n",
       "4116           1                0\n",
       "4117           1                0\n",
       "4118           1                0\n",
       "\n",
       "[4119 rows x 2 columns]"
      ]
     },
     "execution_count": 274,
     "metadata": {},
     "output_type": "execute_result"
    }
   ],
   "source": [
    "default_dum = pd.get_dummies(df_trans['default'], prefix='default')\n",
    "default_dum"
   ]
  },
  {
   "cell_type": "code",
   "execution_count": 275,
   "id": "proof-mercury",
   "metadata": {},
   "outputs": [],
   "source": [
    "df_trans = pd.concat([df_trans, default_dum], axis=1)"
   ]
  },
  {
   "cell_type": "code",
   "execution_count": 276,
   "id": "figured-frost",
   "metadata": {},
   "outputs": [
    {
     "data": {
      "text/html": [
       "<div>\n",
       "<style scoped>\n",
       "    .dataframe tbody tr th:only-of-type {\n",
       "        vertical-align: middle;\n",
       "    }\n",
       "\n",
       "    .dataframe tbody tr th {\n",
       "        vertical-align: top;\n",
       "    }\n",
       "\n",
       "    .dataframe thead th {\n",
       "        text-align: right;\n",
       "    }\n",
       "</style>\n",
       "<table border=\"1\" class=\"dataframe\">\n",
       "  <thead>\n",
       "    <tr style=\"text-align: right;\">\n",
       "      <th></th>\n",
       "      <th>age</th>\n",
       "      <th>education</th>\n",
       "      <th>default</th>\n",
       "      <th>housing</th>\n",
       "      <th>loan</th>\n",
       "      <th>contact</th>\n",
       "      <th>duration</th>\n",
       "      <th>campaign</th>\n",
       "      <th>pdays</th>\n",
       "      <th>previous</th>\n",
       "      <th>...</th>\n",
       "      <th>job_student</th>\n",
       "      <th>job_technician</th>\n",
       "      <th>job_unemployed</th>\n",
       "      <th>job_unknown</th>\n",
       "      <th>marital_divorced</th>\n",
       "      <th>marital_married</th>\n",
       "      <th>marital_single</th>\n",
       "      <th>marital_unknown</th>\n",
       "      <th>default_no</th>\n",
       "      <th>default_unknown</th>\n",
       "    </tr>\n",
       "  </thead>\n",
       "  <tbody>\n",
       "    <tr>\n",
       "      <th>0</th>\n",
       "      <td>40.149846</td>\n",
       "      <td>1</td>\n",
       "      <td>unknown</td>\n",
       "      <td>no</td>\n",
       "      <td>yes</td>\n",
       "      <td>cellular</td>\n",
       "      <td>105.0</td>\n",
       "      <td>1</td>\n",
       "      <td>no contact</td>\n",
       "      <td>0</td>\n",
       "      <td>...</td>\n",
       "      <td>0</td>\n",
       "      <td>0</td>\n",
       "      <td>0</td>\n",
       "      <td>0</td>\n",
       "      <td>0</td>\n",
       "      <td>1</td>\n",
       "      <td>0</td>\n",
       "      <td>0</td>\n",
       "      <td>0</td>\n",
       "      <td>1</td>\n",
       "    </tr>\n",
       "    <tr>\n",
       "      <th>1</th>\n",
       "      <td>36.000000</td>\n",
       "      <td>2</td>\n",
       "      <td>no</td>\n",
       "      <td>yes</td>\n",
       "      <td>no</td>\n",
       "      <td>cellular</td>\n",
       "      <td>125.0</td>\n",
       "      <td>5</td>\n",
       "      <td>no contact</td>\n",
       "      <td>0</td>\n",
       "      <td>...</td>\n",
       "      <td>0</td>\n",
       "      <td>0</td>\n",
       "      <td>0</td>\n",
       "      <td>0</td>\n",
       "      <td>0</td>\n",
       "      <td>1</td>\n",
       "      <td>0</td>\n",
       "      <td>0</td>\n",
       "      <td>1</td>\n",
       "      <td>0</td>\n",
       "    </tr>\n",
       "    <tr>\n",
       "      <th>2</th>\n",
       "      <td>40.149846</td>\n",
       "      <td>4</td>\n",
       "      <td>no</td>\n",
       "      <td>no</td>\n",
       "      <td>yes</td>\n",
       "      <td>telephone</td>\n",
       "      <td>111.0</td>\n",
       "      <td>1</td>\n",
       "      <td>no contact</td>\n",
       "      <td>0</td>\n",
       "      <td>...</td>\n",
       "      <td>0</td>\n",
       "      <td>0</td>\n",
       "      <td>0</td>\n",
       "      <td>0</td>\n",
       "      <td>0</td>\n",
       "      <td>0</td>\n",
       "      <td>1</td>\n",
       "      <td>0</td>\n",
       "      <td>1</td>\n",
       "      <td>0</td>\n",
       "    </tr>\n",
       "    <tr>\n",
       "      <th>3</th>\n",
       "      <td>39.000000</td>\n",
       "      <td>2</td>\n",
       "      <td>unknown</td>\n",
       "      <td>no</td>\n",
       "      <td>no</td>\n",
       "      <td>cellular</td>\n",
       "      <td>173.0</td>\n",
       "      <td>2</td>\n",
       "      <td>no contact</td>\n",
       "      <td>0</td>\n",
       "      <td>...</td>\n",
       "      <td>0</td>\n",
       "      <td>0</td>\n",
       "      <td>0</td>\n",
       "      <td>0</td>\n",
       "      <td>0</td>\n",
       "      <td>1</td>\n",
       "      <td>0</td>\n",
       "      <td>0</td>\n",
       "      <td>0</td>\n",
       "      <td>1</td>\n",
       "    </tr>\n",
       "    <tr>\n",
       "      <th>4</th>\n",
       "      <td>41.000000</td>\n",
       "      <td>1</td>\n",
       "      <td>unknown</td>\n",
       "      <td>no</td>\n",
       "      <td>no</td>\n",
       "      <td>cellular</td>\n",
       "      <td>107.0</td>\n",
       "      <td>1</td>\n",
       "      <td>no contact</td>\n",
       "      <td>0</td>\n",
       "      <td>...</td>\n",
       "      <td>0</td>\n",
       "      <td>0</td>\n",
       "      <td>0</td>\n",
       "      <td>0</td>\n",
       "      <td>0</td>\n",
       "      <td>1</td>\n",
       "      <td>0</td>\n",
       "      <td>0</td>\n",
       "      <td>0</td>\n",
       "      <td>1</td>\n",
       "    </tr>\n",
       "    <tr>\n",
       "      <th>...</th>\n",
       "      <td>...</td>\n",
       "      <td>...</td>\n",
       "      <td>...</td>\n",
       "      <td>...</td>\n",
       "      <td>...</td>\n",
       "      <td>...</td>\n",
       "      <td>...</td>\n",
       "      <td>...</td>\n",
       "      <td>...</td>\n",
       "      <td>...</td>\n",
       "      <td>...</td>\n",
       "      <td>...</td>\n",
       "      <td>...</td>\n",
       "      <td>...</td>\n",
       "      <td>...</td>\n",
       "      <td>...</td>\n",
       "      <td>...</td>\n",
       "      <td>...</td>\n",
       "      <td>...</td>\n",
       "      <td>...</td>\n",
       "      <td>...</td>\n",
       "    </tr>\n",
       "    <tr>\n",
       "      <th>4114</th>\n",
       "      <td>30.000000</td>\n",
       "      <td>4</td>\n",
       "      <td>no</td>\n",
       "      <td>yes</td>\n",
       "      <td>no</td>\n",
       "      <td>telephone</td>\n",
       "      <td>19.0</td>\n",
       "      <td>5</td>\n",
       "      <td>no contact</td>\n",
       "      <td>0</td>\n",
       "      <td>...</td>\n",
       "      <td>0</td>\n",
       "      <td>0</td>\n",
       "      <td>0</td>\n",
       "      <td>0</td>\n",
       "      <td>1</td>\n",
       "      <td>0</td>\n",
       "      <td>0</td>\n",
       "      <td>0</td>\n",
       "      <td>1</td>\n",
       "      <td>0</td>\n",
       "    </tr>\n",
       "    <tr>\n",
       "      <th>4115</th>\n",
       "      <td>68.000000</td>\n",
       "      <td>1</td>\n",
       "      <td>no</td>\n",
       "      <td>yes</td>\n",
       "      <td>no</td>\n",
       "      <td>cellular</td>\n",
       "      <td>177.0</td>\n",
       "      <td>1</td>\n",
       "      <td>no contact</td>\n",
       "      <td>0</td>\n",
       "      <td>...</td>\n",
       "      <td>0</td>\n",
       "      <td>0</td>\n",
       "      <td>0</td>\n",
       "      <td>0</td>\n",
       "      <td>0</td>\n",
       "      <td>1</td>\n",
       "      <td>0</td>\n",
       "      <td>0</td>\n",
       "      <td>1</td>\n",
       "      <td>0</td>\n",
       "    </tr>\n",
       "    <tr>\n",
       "      <th>4116</th>\n",
       "      <td>30.000000</td>\n",
       "      <td>3</td>\n",
       "      <td>no</td>\n",
       "      <td>no</td>\n",
       "      <td>no</td>\n",
       "      <td>cellular</td>\n",
       "      <td>623.0</td>\n",
       "      <td>2</td>\n",
       "      <td>no contact</td>\n",
       "      <td>0</td>\n",
       "      <td>...</td>\n",
       "      <td>0</td>\n",
       "      <td>0</td>\n",
       "      <td>0</td>\n",
       "      <td>0</td>\n",
       "      <td>0</td>\n",
       "      <td>1</td>\n",
       "      <td>0</td>\n",
       "      <td>0</td>\n",
       "      <td>1</td>\n",
       "      <td>0</td>\n",
       "    </tr>\n",
       "    <tr>\n",
       "      <th>4117</th>\n",
       "      <td>45.000000</td>\n",
       "      <td>6</td>\n",
       "      <td>no</td>\n",
       "      <td>no</td>\n",
       "      <td>no</td>\n",
       "      <td>cellular</td>\n",
       "      <td>123.0</td>\n",
       "      <td>5</td>\n",
       "      <td>no contact</td>\n",
       "      <td>0</td>\n",
       "      <td>...</td>\n",
       "      <td>0</td>\n",
       "      <td>0</td>\n",
       "      <td>0</td>\n",
       "      <td>0</td>\n",
       "      <td>0</td>\n",
       "      <td>0</td>\n",
       "      <td>1</td>\n",
       "      <td>0</td>\n",
       "      <td>1</td>\n",
       "      <td>0</td>\n",
       "    </tr>\n",
       "    <tr>\n",
       "      <th>4118</th>\n",
       "      <td>57.000000</td>\n",
       "      <td>3</td>\n",
       "      <td>no</td>\n",
       "      <td>no</td>\n",
       "      <td>no</td>\n",
       "      <td>cellular</td>\n",
       "      <td>22.0</td>\n",
       "      <td>27</td>\n",
       "      <td>no contact</td>\n",
       "      <td>0</td>\n",
       "      <td>...</td>\n",
       "      <td>0</td>\n",
       "      <td>0</td>\n",
       "      <td>0</td>\n",
       "      <td>0</td>\n",
       "      <td>0</td>\n",
       "      <td>1</td>\n",
       "      <td>0</td>\n",
       "      <td>0</td>\n",
       "      <td>1</td>\n",
       "      <td>0</td>\n",
       "    </tr>\n",
       "  </tbody>\n",
       "</table>\n",
       "<p>4119 rows × 30 columns</p>\n",
       "</div>"
      ],
      "text/plain": [
       "            age  education  default housing loan    contact  duration  \\\n",
       "0     40.149846          1  unknown      no  yes   cellular     105.0   \n",
       "1     36.000000          2       no     yes   no   cellular     125.0   \n",
       "2     40.149846          4       no      no  yes  telephone     111.0   \n",
       "3     39.000000          2  unknown      no   no   cellular     173.0   \n",
       "4     41.000000          1  unknown      no   no   cellular     107.0   \n",
       "...         ...        ...      ...     ...  ...        ...       ...   \n",
       "4114  30.000000          4       no     yes   no  telephone      19.0   \n",
       "4115  68.000000          1       no     yes   no   cellular     177.0   \n",
       "4116  30.000000          3       no      no   no   cellular     623.0   \n",
       "4117  45.000000          6       no      no   no   cellular     123.0   \n",
       "4118  57.000000          3       no      no   no   cellular      22.0   \n",
       "\n",
       "      campaign       pdays  previous  ... job_student job_technician  \\\n",
       "0            1  no contact         0  ...           0              0   \n",
       "1            5  no contact         0  ...           0              0   \n",
       "2            1  no contact         0  ...           0              0   \n",
       "3            2  no contact         0  ...           0              0   \n",
       "4            1  no contact         0  ...           0              0   \n",
       "...        ...         ...       ...  ...         ...            ...   \n",
       "4114         5  no contact         0  ...           0              0   \n",
       "4115         1  no contact         0  ...           0              0   \n",
       "4116         2  no contact         0  ...           0              0   \n",
       "4117         5  no contact         0  ...           0              0   \n",
       "4118        27  no contact         0  ...           0              0   \n",
       "\n",
       "      job_unemployed  job_unknown  marital_divorced  marital_married  \\\n",
       "0                  0            0                 0                1   \n",
       "1                  0            0                 0                1   \n",
       "2                  0            0                 0                0   \n",
       "3                  0            0                 0                1   \n",
       "4                  0            0                 0                1   \n",
       "...              ...          ...               ...              ...   \n",
       "4114               0            0                 1                0   \n",
       "4115               0            0                 0                1   \n",
       "4116               0            0                 0                1   \n",
       "4117               0            0                 0                0   \n",
       "4118               0            0                 0                1   \n",
       "\n",
       "      marital_single  marital_unknown  default_no  default_unknown  \n",
       "0                  0                0           0                1  \n",
       "1                  0                0           1                0  \n",
       "2                  1                0           1                0  \n",
       "3                  0                0           0                1  \n",
       "4                  0                0           0                1  \n",
       "...              ...              ...         ...              ...  \n",
       "4114               0                0           1                0  \n",
       "4115               0                0           1                0  \n",
       "4116               0                0           1                0  \n",
       "4117               1                0           1                0  \n",
       "4118               0                0           1                0  \n",
       "\n",
       "[4119 rows x 30 columns]"
      ]
     },
     "execution_count": 276,
     "metadata": {},
     "output_type": "execute_result"
    }
   ],
   "source": [
    "df_trans"
   ]
  },
  {
   "cell_type": "code",
   "execution_count": 277,
   "id": "material-solid",
   "metadata": {},
   "outputs": [],
   "source": [
    "df_trans = df_trans.drop(['default'], axis=1)"
   ]
  },
  {
   "cell_type": "markdown",
   "id": "computational-wrestling",
   "metadata": {},
   "source": [
    "##Question 12 - imput unknown values in 'housing' with the value of the highest frequency"
   ]
  },
  {
   "cell_type": "code",
   "execution_count": 278,
   "id": "prime-fellow",
   "metadata": {},
   "outputs": [
    {
     "data": {
      "text/plain": [
       "yes        2140\n",
       "no         1870\n",
       "unknown     109\n",
       "Name: housing, dtype: int64"
      ]
     },
     "execution_count": 278,
     "metadata": {},
     "output_type": "execute_result"
    }
   ],
   "source": [
    "df_trans['housing'].value_counts()"
   ]
  },
  {
   "cell_type": "code",
   "execution_count": 279,
   "id": "technical-investing",
   "metadata": {},
   "outputs": [],
   "source": [
    "df_trans = df_trans.copy()\n",
    "df_trans['housing'].replace('unknown', 'yes', inplace=True)"
   ]
  },
  {
   "cell_type": "code",
   "execution_count": 280,
   "id": "tropical-millennium",
   "metadata": {},
   "outputs": [
    {
     "data": {
      "text/plain": [
       "yes    2249\n",
       "no     1870\n",
       "Name: housing, dtype: int64"
      ]
     },
     "execution_count": 280,
     "metadata": {},
     "output_type": "execute_result"
    }
   ],
   "source": [
    "df_trans['housing'].value_counts()"
   ]
  },
  {
   "cell_type": "markdown",
   "id": "prescribed-sending",
   "metadata": {},
   "source": [
    "##Question 13 - Appropriate data transformation strategy for the column 'housing'. Apply on set"
   ]
  },
  {
   "cell_type": "code",
   "execution_count": 281,
   "id": "former-merit",
   "metadata": {},
   "outputs": [],
   "source": [
    "housing_cleanup = {\"housing\": {\"yes\": 1, \"no\": 0}}"
   ]
  },
  {
   "cell_type": "code",
   "execution_count": 282,
   "id": "editorial-basic",
   "metadata": {},
   "outputs": [],
   "source": [
    "df_trans = df_trans.replace(housing_cleanup)"
   ]
  },
  {
   "cell_type": "code",
   "execution_count": 283,
   "id": "bright-thirty",
   "metadata": {},
   "outputs": [
    {
     "data": {
      "text/html": [
       "<div>\n",
       "<style scoped>\n",
       "    .dataframe tbody tr th:only-of-type {\n",
       "        vertical-align: middle;\n",
       "    }\n",
       "\n",
       "    .dataframe tbody tr th {\n",
       "        vertical-align: top;\n",
       "    }\n",
       "\n",
       "    .dataframe thead th {\n",
       "        text-align: right;\n",
       "    }\n",
       "</style>\n",
       "<table border=\"1\" class=\"dataframe\">\n",
       "  <thead>\n",
       "    <tr style=\"text-align: right;\">\n",
       "      <th></th>\n",
       "      <th>age</th>\n",
       "      <th>education</th>\n",
       "      <th>housing</th>\n",
       "      <th>loan</th>\n",
       "      <th>contact</th>\n",
       "      <th>duration</th>\n",
       "      <th>campaign</th>\n",
       "      <th>pdays</th>\n",
       "      <th>previous</th>\n",
       "      <th>poutcome</th>\n",
       "      <th>...</th>\n",
       "      <th>job_student</th>\n",
       "      <th>job_technician</th>\n",
       "      <th>job_unemployed</th>\n",
       "      <th>job_unknown</th>\n",
       "      <th>marital_divorced</th>\n",
       "      <th>marital_married</th>\n",
       "      <th>marital_single</th>\n",
       "      <th>marital_unknown</th>\n",
       "      <th>default_no</th>\n",
       "      <th>default_unknown</th>\n",
       "    </tr>\n",
       "  </thead>\n",
       "  <tbody>\n",
       "    <tr>\n",
       "      <th>0</th>\n",
       "      <td>40.149846</td>\n",
       "      <td>1</td>\n",
       "      <td>0</td>\n",
       "      <td>yes</td>\n",
       "      <td>cellular</td>\n",
       "      <td>105.0</td>\n",
       "      <td>1</td>\n",
       "      <td>no contact</td>\n",
       "      <td>0</td>\n",
       "      <td>nonexistent</td>\n",
       "      <td>...</td>\n",
       "      <td>0</td>\n",
       "      <td>0</td>\n",
       "      <td>0</td>\n",
       "      <td>0</td>\n",
       "      <td>0</td>\n",
       "      <td>1</td>\n",
       "      <td>0</td>\n",
       "      <td>0</td>\n",
       "      <td>0</td>\n",
       "      <td>1</td>\n",
       "    </tr>\n",
       "    <tr>\n",
       "      <th>1</th>\n",
       "      <td>36.000000</td>\n",
       "      <td>2</td>\n",
       "      <td>1</td>\n",
       "      <td>no</td>\n",
       "      <td>cellular</td>\n",
       "      <td>125.0</td>\n",
       "      <td>5</td>\n",
       "      <td>no contact</td>\n",
       "      <td>0</td>\n",
       "      <td>nonexistent</td>\n",
       "      <td>...</td>\n",
       "      <td>0</td>\n",
       "      <td>0</td>\n",
       "      <td>0</td>\n",
       "      <td>0</td>\n",
       "      <td>0</td>\n",
       "      <td>1</td>\n",
       "      <td>0</td>\n",
       "      <td>0</td>\n",
       "      <td>1</td>\n",
       "      <td>0</td>\n",
       "    </tr>\n",
       "    <tr>\n",
       "      <th>2</th>\n",
       "      <td>40.149846</td>\n",
       "      <td>4</td>\n",
       "      <td>0</td>\n",
       "      <td>yes</td>\n",
       "      <td>telephone</td>\n",
       "      <td>111.0</td>\n",
       "      <td>1</td>\n",
       "      <td>no contact</td>\n",
       "      <td>0</td>\n",
       "      <td>nonexistent</td>\n",
       "      <td>...</td>\n",
       "      <td>0</td>\n",
       "      <td>0</td>\n",
       "      <td>0</td>\n",
       "      <td>0</td>\n",
       "      <td>0</td>\n",
       "      <td>0</td>\n",
       "      <td>1</td>\n",
       "      <td>0</td>\n",
       "      <td>1</td>\n",
       "      <td>0</td>\n",
       "    </tr>\n",
       "    <tr>\n",
       "      <th>3</th>\n",
       "      <td>39.000000</td>\n",
       "      <td>2</td>\n",
       "      <td>0</td>\n",
       "      <td>no</td>\n",
       "      <td>cellular</td>\n",
       "      <td>173.0</td>\n",
       "      <td>2</td>\n",
       "      <td>no contact</td>\n",
       "      <td>0</td>\n",
       "      <td>nonexistent</td>\n",
       "      <td>...</td>\n",
       "      <td>0</td>\n",
       "      <td>0</td>\n",
       "      <td>0</td>\n",
       "      <td>0</td>\n",
       "      <td>0</td>\n",
       "      <td>1</td>\n",
       "      <td>0</td>\n",
       "      <td>0</td>\n",
       "      <td>0</td>\n",
       "      <td>1</td>\n",
       "    </tr>\n",
       "    <tr>\n",
       "      <th>4</th>\n",
       "      <td>41.000000</td>\n",
       "      <td>1</td>\n",
       "      <td>0</td>\n",
       "      <td>no</td>\n",
       "      <td>cellular</td>\n",
       "      <td>107.0</td>\n",
       "      <td>1</td>\n",
       "      <td>no contact</td>\n",
       "      <td>0</td>\n",
       "      <td>nonexistent</td>\n",
       "      <td>...</td>\n",
       "      <td>0</td>\n",
       "      <td>0</td>\n",
       "      <td>0</td>\n",
       "      <td>0</td>\n",
       "      <td>0</td>\n",
       "      <td>1</td>\n",
       "      <td>0</td>\n",
       "      <td>0</td>\n",
       "      <td>0</td>\n",
       "      <td>1</td>\n",
       "    </tr>\n",
       "  </tbody>\n",
       "</table>\n",
       "<p>5 rows × 29 columns</p>\n",
       "</div>"
      ],
      "text/plain": [
       "         age  education  housing loan    contact  duration  campaign  \\\n",
       "0  40.149846          1        0  yes   cellular     105.0         1   \n",
       "1  36.000000          2        1   no   cellular     125.0         5   \n",
       "2  40.149846          4        0  yes  telephone     111.0         1   \n",
       "3  39.000000          2        0   no   cellular     173.0         2   \n",
       "4  41.000000          1        0   no   cellular     107.0         1   \n",
       "\n",
       "        pdays  previous     poutcome  ... job_student  job_technician  \\\n",
       "0  no contact         0  nonexistent  ...           0               0   \n",
       "1  no contact         0  nonexistent  ...           0               0   \n",
       "2  no contact         0  nonexistent  ...           0               0   \n",
       "3  no contact         0  nonexistent  ...           0               0   \n",
       "4  no contact         0  nonexistent  ...           0               0   \n",
       "\n",
       "   job_unemployed  job_unknown  marital_divorced  marital_married  \\\n",
       "0               0            0                 0                1   \n",
       "1               0            0                 0                1   \n",
       "2               0            0                 0                0   \n",
       "3               0            0                 0                1   \n",
       "4               0            0                 0                1   \n",
       "\n",
       "   marital_single  marital_unknown  default_no  default_unknown  \n",
       "0               0                0           0                1  \n",
       "1               0                0           1                0  \n",
       "2               1                0           1                0  \n",
       "3               0                0           0                1  \n",
       "4               0                0           0                1  \n",
       "\n",
       "[5 rows x 29 columns]"
      ]
     },
     "execution_count": 283,
     "metadata": {},
     "output_type": "execute_result"
    }
   ],
   "source": [
    "df_trans.head()"
   ]
  },
  {
   "cell_type": "markdown",
   "id": "sudden-richards",
   "metadata": {},
   "source": [
    "##Question 14 - impute known values in 'loan' with the value of the highest frequency"
   ]
  },
  {
   "cell_type": "code",
   "execution_count": 284,
   "id": "royal-bookmark",
   "metadata": {},
   "outputs": [
    {
     "data": {
      "text/plain": [
       "no         3384\n",
       "yes         626\n",
       "unknown     109\n",
       "Name: loan, dtype: int64"
      ]
     },
     "execution_count": 284,
     "metadata": {},
     "output_type": "execute_result"
    }
   ],
   "source": [
    "df_trans['loan'].value_counts()"
   ]
  },
  {
   "cell_type": "code",
   "execution_count": 285,
   "id": "democratic-rwanda",
   "metadata": {},
   "outputs": [],
   "source": [
    "df_trans = df_trans.copy()\n",
    "df_trans['loan'].replace('unknown', 'no', inplace=True)"
   ]
  },
  {
   "cell_type": "code",
   "execution_count": 286,
   "id": "photographic-bench",
   "metadata": {},
   "outputs": [
    {
     "data": {
      "text/plain": [
       "no     3493\n",
       "yes     626\n",
       "Name: loan, dtype: int64"
      ]
     },
     "execution_count": 286,
     "metadata": {},
     "output_type": "execute_result"
    }
   ],
   "source": [
    "df_trans['loan'].value_counts()"
   ]
  },
  {
   "cell_type": "code",
   "execution_count": 287,
   "id": "satisfied-surveillance",
   "metadata": {},
   "outputs": [],
   "source": [
    "loan_cleanup = {\"loan\": {\"yes\": 0, \"no\":1}}"
   ]
  },
  {
   "cell_type": "code",
   "execution_count": 288,
   "id": "controversial-finance",
   "metadata": {},
   "outputs": [],
   "source": [
    "df_trans = df_trans.replace(loan_cleanup)"
   ]
  },
  {
   "cell_type": "code",
   "execution_count": 289,
   "id": "robust-color",
   "metadata": {},
   "outputs": [
    {
     "data": {
      "text/html": [
       "<div>\n",
       "<style scoped>\n",
       "    .dataframe tbody tr th:only-of-type {\n",
       "        vertical-align: middle;\n",
       "    }\n",
       "\n",
       "    .dataframe tbody tr th {\n",
       "        vertical-align: top;\n",
       "    }\n",
       "\n",
       "    .dataframe thead th {\n",
       "        text-align: right;\n",
       "    }\n",
       "</style>\n",
       "<table border=\"1\" class=\"dataframe\">\n",
       "  <thead>\n",
       "    <tr style=\"text-align: right;\">\n",
       "      <th></th>\n",
       "      <th>age</th>\n",
       "      <th>education</th>\n",
       "      <th>housing</th>\n",
       "      <th>loan</th>\n",
       "      <th>contact</th>\n",
       "      <th>duration</th>\n",
       "      <th>campaign</th>\n",
       "      <th>pdays</th>\n",
       "      <th>previous</th>\n",
       "      <th>poutcome</th>\n",
       "      <th>...</th>\n",
       "      <th>job_student</th>\n",
       "      <th>job_technician</th>\n",
       "      <th>job_unemployed</th>\n",
       "      <th>job_unknown</th>\n",
       "      <th>marital_divorced</th>\n",
       "      <th>marital_married</th>\n",
       "      <th>marital_single</th>\n",
       "      <th>marital_unknown</th>\n",
       "      <th>default_no</th>\n",
       "      <th>default_unknown</th>\n",
       "    </tr>\n",
       "  </thead>\n",
       "  <tbody>\n",
       "    <tr>\n",
       "      <th>0</th>\n",
       "      <td>40.149846</td>\n",
       "      <td>1</td>\n",
       "      <td>0</td>\n",
       "      <td>0</td>\n",
       "      <td>cellular</td>\n",
       "      <td>105.0</td>\n",
       "      <td>1</td>\n",
       "      <td>no contact</td>\n",
       "      <td>0</td>\n",
       "      <td>nonexistent</td>\n",
       "      <td>...</td>\n",
       "      <td>0</td>\n",
       "      <td>0</td>\n",
       "      <td>0</td>\n",
       "      <td>0</td>\n",
       "      <td>0</td>\n",
       "      <td>1</td>\n",
       "      <td>0</td>\n",
       "      <td>0</td>\n",
       "      <td>0</td>\n",
       "      <td>1</td>\n",
       "    </tr>\n",
       "    <tr>\n",
       "      <th>1</th>\n",
       "      <td>36.000000</td>\n",
       "      <td>2</td>\n",
       "      <td>1</td>\n",
       "      <td>1</td>\n",
       "      <td>cellular</td>\n",
       "      <td>125.0</td>\n",
       "      <td>5</td>\n",
       "      <td>no contact</td>\n",
       "      <td>0</td>\n",
       "      <td>nonexistent</td>\n",
       "      <td>...</td>\n",
       "      <td>0</td>\n",
       "      <td>0</td>\n",
       "      <td>0</td>\n",
       "      <td>0</td>\n",
       "      <td>0</td>\n",
       "      <td>1</td>\n",
       "      <td>0</td>\n",
       "      <td>0</td>\n",
       "      <td>1</td>\n",
       "      <td>0</td>\n",
       "    </tr>\n",
       "    <tr>\n",
       "      <th>2</th>\n",
       "      <td>40.149846</td>\n",
       "      <td>4</td>\n",
       "      <td>0</td>\n",
       "      <td>0</td>\n",
       "      <td>telephone</td>\n",
       "      <td>111.0</td>\n",
       "      <td>1</td>\n",
       "      <td>no contact</td>\n",
       "      <td>0</td>\n",
       "      <td>nonexistent</td>\n",
       "      <td>...</td>\n",
       "      <td>0</td>\n",
       "      <td>0</td>\n",
       "      <td>0</td>\n",
       "      <td>0</td>\n",
       "      <td>0</td>\n",
       "      <td>0</td>\n",
       "      <td>1</td>\n",
       "      <td>0</td>\n",
       "      <td>1</td>\n",
       "      <td>0</td>\n",
       "    </tr>\n",
       "    <tr>\n",
       "      <th>3</th>\n",
       "      <td>39.000000</td>\n",
       "      <td>2</td>\n",
       "      <td>0</td>\n",
       "      <td>1</td>\n",
       "      <td>cellular</td>\n",
       "      <td>173.0</td>\n",
       "      <td>2</td>\n",
       "      <td>no contact</td>\n",
       "      <td>0</td>\n",
       "      <td>nonexistent</td>\n",
       "      <td>...</td>\n",
       "      <td>0</td>\n",
       "      <td>0</td>\n",
       "      <td>0</td>\n",
       "      <td>0</td>\n",
       "      <td>0</td>\n",
       "      <td>1</td>\n",
       "      <td>0</td>\n",
       "      <td>0</td>\n",
       "      <td>0</td>\n",
       "      <td>1</td>\n",
       "    </tr>\n",
       "    <tr>\n",
       "      <th>4</th>\n",
       "      <td>41.000000</td>\n",
       "      <td>1</td>\n",
       "      <td>0</td>\n",
       "      <td>1</td>\n",
       "      <td>cellular</td>\n",
       "      <td>107.0</td>\n",
       "      <td>1</td>\n",
       "      <td>no contact</td>\n",
       "      <td>0</td>\n",
       "      <td>nonexistent</td>\n",
       "      <td>...</td>\n",
       "      <td>0</td>\n",
       "      <td>0</td>\n",
       "      <td>0</td>\n",
       "      <td>0</td>\n",
       "      <td>0</td>\n",
       "      <td>1</td>\n",
       "      <td>0</td>\n",
       "      <td>0</td>\n",
       "      <td>0</td>\n",
       "      <td>1</td>\n",
       "    </tr>\n",
       "  </tbody>\n",
       "</table>\n",
       "<p>5 rows × 29 columns</p>\n",
       "</div>"
      ],
      "text/plain": [
       "         age  education  housing  loan    contact  duration  campaign  \\\n",
       "0  40.149846          1        0     0   cellular     105.0         1   \n",
       "1  36.000000          2        1     1   cellular     125.0         5   \n",
       "2  40.149846          4        0     0  telephone     111.0         1   \n",
       "3  39.000000          2        0     1   cellular     173.0         2   \n",
       "4  41.000000          1        0     1   cellular     107.0         1   \n",
       "\n",
       "        pdays  previous     poutcome  ... job_student  job_technician  \\\n",
       "0  no contact         0  nonexistent  ...           0               0   \n",
       "1  no contact         0  nonexistent  ...           0               0   \n",
       "2  no contact         0  nonexistent  ...           0               0   \n",
       "3  no contact         0  nonexistent  ...           0               0   \n",
       "4  no contact         0  nonexistent  ...           0               0   \n",
       "\n",
       "   job_unemployed  job_unknown  marital_divorced  marital_married  \\\n",
       "0               0            0                 0                1   \n",
       "1               0            0                 0                1   \n",
       "2               0            0                 0                0   \n",
       "3               0            0                 0                1   \n",
       "4               0            0                 0                1   \n",
       "\n",
       "   marital_single  marital_unknown  default_no  default_unknown  \n",
       "0               0                0           0                1  \n",
       "1               0                0           1                0  \n",
       "2               1                0           1                0  \n",
       "3               0                0           0                1  \n",
       "4               0                0           0                1  \n",
       "\n",
       "[5 rows x 29 columns]"
      ]
     },
     "execution_count": 289,
     "metadata": {},
     "output_type": "execute_result"
    }
   ],
   "source": [
    "df_trans.head()"
   ]
  },
  {
   "cell_type": "code",
   "execution_count": 290,
   "id": "racial-sense",
   "metadata": {},
   "outputs": [],
   "source": [
    "##Question 15 - appropriate transformation for contact"
   ]
  },
  {
   "cell_type": "code",
   "execution_count": 291,
   "id": "transparent-cause",
   "metadata": {},
   "outputs": [
    {
     "data": {
      "text/plain": [
       "cellular     2585\n",
       "telephone    1534\n",
       "Name: contact, dtype: int64"
      ]
     },
     "execution_count": 291,
     "metadata": {},
     "output_type": "execute_result"
    }
   ],
   "source": [
    "df_trans['contact'].value_counts()"
   ]
  },
  {
   "cell_type": "code",
   "execution_count": 292,
   "id": "royal-leather",
   "metadata": {},
   "outputs": [],
   "source": [
    "contact_cleanup = {\"contact\": {\"cellular\": 1, \"telephone\":0}}"
   ]
  },
  {
   "cell_type": "code",
   "execution_count": 293,
   "id": "severe-aerospace",
   "metadata": {},
   "outputs": [],
   "source": [
    "#contactss = pd.get_dummies(df_trans['contact'], prefix=\"contact\")\n",
    "#contactss"
   ]
  },
  {
   "cell_type": "code",
   "execution_count": 294,
   "id": "external-windsor",
   "metadata": {},
   "outputs": [],
   "source": [
    "df_trans = df_trans.replace(contact_cleanup)"
   ]
  },
  {
   "cell_type": "code",
   "execution_count": 295,
   "id": "continuing-michigan",
   "metadata": {},
   "outputs": [
    {
     "data": {
      "text/html": [
       "<div>\n",
       "<style scoped>\n",
       "    .dataframe tbody tr th:only-of-type {\n",
       "        vertical-align: middle;\n",
       "    }\n",
       "\n",
       "    .dataframe tbody tr th {\n",
       "        vertical-align: top;\n",
       "    }\n",
       "\n",
       "    .dataframe thead th {\n",
       "        text-align: right;\n",
       "    }\n",
       "</style>\n",
       "<table border=\"1\" class=\"dataframe\">\n",
       "  <thead>\n",
       "    <tr style=\"text-align: right;\">\n",
       "      <th></th>\n",
       "      <th>age</th>\n",
       "      <th>education</th>\n",
       "      <th>housing</th>\n",
       "      <th>loan</th>\n",
       "      <th>contact</th>\n",
       "      <th>duration</th>\n",
       "      <th>campaign</th>\n",
       "      <th>pdays</th>\n",
       "      <th>previous</th>\n",
       "      <th>poutcome</th>\n",
       "      <th>...</th>\n",
       "      <th>job_student</th>\n",
       "      <th>job_technician</th>\n",
       "      <th>job_unemployed</th>\n",
       "      <th>job_unknown</th>\n",
       "      <th>marital_divorced</th>\n",
       "      <th>marital_married</th>\n",
       "      <th>marital_single</th>\n",
       "      <th>marital_unknown</th>\n",
       "      <th>default_no</th>\n",
       "      <th>default_unknown</th>\n",
       "    </tr>\n",
       "  </thead>\n",
       "  <tbody>\n",
       "    <tr>\n",
       "      <th>0</th>\n",
       "      <td>40.149846</td>\n",
       "      <td>1</td>\n",
       "      <td>0</td>\n",
       "      <td>0</td>\n",
       "      <td>1</td>\n",
       "      <td>105.0</td>\n",
       "      <td>1</td>\n",
       "      <td>no contact</td>\n",
       "      <td>0</td>\n",
       "      <td>nonexistent</td>\n",
       "      <td>...</td>\n",
       "      <td>0</td>\n",
       "      <td>0</td>\n",
       "      <td>0</td>\n",
       "      <td>0</td>\n",
       "      <td>0</td>\n",
       "      <td>1</td>\n",
       "      <td>0</td>\n",
       "      <td>0</td>\n",
       "      <td>0</td>\n",
       "      <td>1</td>\n",
       "    </tr>\n",
       "    <tr>\n",
       "      <th>1</th>\n",
       "      <td>36.000000</td>\n",
       "      <td>2</td>\n",
       "      <td>1</td>\n",
       "      <td>1</td>\n",
       "      <td>1</td>\n",
       "      <td>125.0</td>\n",
       "      <td>5</td>\n",
       "      <td>no contact</td>\n",
       "      <td>0</td>\n",
       "      <td>nonexistent</td>\n",
       "      <td>...</td>\n",
       "      <td>0</td>\n",
       "      <td>0</td>\n",
       "      <td>0</td>\n",
       "      <td>0</td>\n",
       "      <td>0</td>\n",
       "      <td>1</td>\n",
       "      <td>0</td>\n",
       "      <td>0</td>\n",
       "      <td>1</td>\n",
       "      <td>0</td>\n",
       "    </tr>\n",
       "    <tr>\n",
       "      <th>2</th>\n",
       "      <td>40.149846</td>\n",
       "      <td>4</td>\n",
       "      <td>0</td>\n",
       "      <td>0</td>\n",
       "      <td>0</td>\n",
       "      <td>111.0</td>\n",
       "      <td>1</td>\n",
       "      <td>no contact</td>\n",
       "      <td>0</td>\n",
       "      <td>nonexistent</td>\n",
       "      <td>...</td>\n",
       "      <td>0</td>\n",
       "      <td>0</td>\n",
       "      <td>0</td>\n",
       "      <td>0</td>\n",
       "      <td>0</td>\n",
       "      <td>0</td>\n",
       "      <td>1</td>\n",
       "      <td>0</td>\n",
       "      <td>1</td>\n",
       "      <td>0</td>\n",
       "    </tr>\n",
       "    <tr>\n",
       "      <th>3</th>\n",
       "      <td>39.000000</td>\n",
       "      <td>2</td>\n",
       "      <td>0</td>\n",
       "      <td>1</td>\n",
       "      <td>1</td>\n",
       "      <td>173.0</td>\n",
       "      <td>2</td>\n",
       "      <td>no contact</td>\n",
       "      <td>0</td>\n",
       "      <td>nonexistent</td>\n",
       "      <td>...</td>\n",
       "      <td>0</td>\n",
       "      <td>0</td>\n",
       "      <td>0</td>\n",
       "      <td>0</td>\n",
       "      <td>0</td>\n",
       "      <td>1</td>\n",
       "      <td>0</td>\n",
       "      <td>0</td>\n",
       "      <td>0</td>\n",
       "      <td>1</td>\n",
       "    </tr>\n",
       "    <tr>\n",
       "      <th>4</th>\n",
       "      <td>41.000000</td>\n",
       "      <td>1</td>\n",
       "      <td>0</td>\n",
       "      <td>1</td>\n",
       "      <td>1</td>\n",
       "      <td>107.0</td>\n",
       "      <td>1</td>\n",
       "      <td>no contact</td>\n",
       "      <td>0</td>\n",
       "      <td>nonexistent</td>\n",
       "      <td>...</td>\n",
       "      <td>0</td>\n",
       "      <td>0</td>\n",
       "      <td>0</td>\n",
       "      <td>0</td>\n",
       "      <td>0</td>\n",
       "      <td>1</td>\n",
       "      <td>0</td>\n",
       "      <td>0</td>\n",
       "      <td>0</td>\n",
       "      <td>1</td>\n",
       "    </tr>\n",
       "  </tbody>\n",
       "</table>\n",
       "<p>5 rows × 29 columns</p>\n",
       "</div>"
      ],
      "text/plain": [
       "         age  education  housing  loan  contact  duration  campaign  \\\n",
       "0  40.149846          1        0     0        1     105.0         1   \n",
       "1  36.000000          2        1     1        1     125.0         5   \n",
       "2  40.149846          4        0     0        0     111.0         1   \n",
       "3  39.000000          2        0     1        1     173.0         2   \n",
       "4  41.000000          1        0     1        1     107.0         1   \n",
       "\n",
       "        pdays  previous     poutcome  ... job_student  job_technician  \\\n",
       "0  no contact         0  nonexistent  ...           0               0   \n",
       "1  no contact         0  nonexistent  ...           0               0   \n",
       "2  no contact         0  nonexistent  ...           0               0   \n",
       "3  no contact         0  nonexistent  ...           0               0   \n",
       "4  no contact         0  nonexistent  ...           0               0   \n",
       "\n",
       "   job_unemployed  job_unknown  marital_divorced  marital_married  \\\n",
       "0               0            0                 0                1   \n",
       "1               0            0                 0                1   \n",
       "2               0            0                 0                0   \n",
       "3               0            0                 0                1   \n",
       "4               0            0                 0                1   \n",
       "\n",
       "   marital_single  marital_unknown  default_no  default_unknown  \n",
       "0               0                0           0                1  \n",
       "1               0                0           1                0  \n",
       "2               1                0           1                0  \n",
       "3               0                0           0                1  \n",
       "4               0                0           0                1  \n",
       "\n",
       "[5 rows x 29 columns]"
      ]
     },
     "execution_count": 295,
     "metadata": {},
     "output_type": "execute_result"
    }
   ],
   "source": [
    "df_trans.head()"
   ]
  },
  {
   "cell_type": "code",
   "execution_count": 296,
   "id": "accepted-annual",
   "metadata": {},
   "outputs": [],
   "source": [
    "##Question 16 - same for pdays"
   ]
  },
  {
   "cell_type": "code",
   "execution_count": 297,
   "id": "opponent-taiwan",
   "metadata": {},
   "outputs": [
    {
     "data": {
      "text/plain": [
       "no contact    3963\n",
       "contact        156\n",
       "Name: pdays, dtype: int64"
      ]
     },
     "execution_count": 297,
     "metadata": {},
     "output_type": "execute_result"
    }
   ],
   "source": [
    "df_trans['pdays'].value_counts()"
   ]
  },
  {
   "cell_type": "code",
   "execution_count": 298,
   "id": "understanding-november",
   "metadata": {},
   "outputs": [],
   "source": [
    "pdays_cleanup = {\"pdays\": {\"no contact\": 1, \"contact\": 0}}"
   ]
  },
  {
   "cell_type": "code",
   "execution_count": 299,
   "id": "weekly-northern",
   "metadata": {},
   "outputs": [],
   "source": [
    "df_trans = df_trans.replace(pdays_cleanup)"
   ]
  },
  {
   "cell_type": "code",
   "execution_count": 300,
   "id": "monetary-despite",
   "metadata": {},
   "outputs": [
    {
     "data": {
      "text/plain": [
       "1    3963\n",
       "0     156\n",
       "Name: pdays, dtype: int64"
      ]
     },
     "execution_count": 300,
     "metadata": {},
     "output_type": "execute_result"
    }
   ],
   "source": [
    "df_trans['pdays'].value_counts()"
   ]
  },
  {
   "cell_type": "code",
   "execution_count": 301,
   "id": "indirect-register",
   "metadata": {},
   "outputs": [],
   "source": [
    "#Question 17 - Appropriate transformation for 'poutcome'"
   ]
  },
  {
   "cell_type": "code",
   "execution_count": 302,
   "id": "absolute-values",
   "metadata": {},
   "outputs": [
    {
     "data": {
      "text/plain": [
       "nonexistent    3566\n",
       "failure         404\n",
       "success         149\n",
       "Name: poutcome, dtype: int64"
      ]
     },
     "execution_count": 302,
     "metadata": {},
     "output_type": "execute_result"
    }
   ],
   "source": [
    "df_trans['poutcome'].value_counts()"
   ]
  },
  {
   "cell_type": "code",
   "execution_count": 303,
   "id": "aerial-trunk",
   "metadata": {},
   "outputs": [
    {
     "data": {
      "text/html": [
       "<div>\n",
       "<style scoped>\n",
       "    .dataframe tbody tr th:only-of-type {\n",
       "        vertical-align: middle;\n",
       "    }\n",
       "\n",
       "    .dataframe tbody tr th {\n",
       "        vertical-align: top;\n",
       "    }\n",
       "\n",
       "    .dataframe thead th {\n",
       "        text-align: right;\n",
       "    }\n",
       "</style>\n",
       "<table border=\"1\" class=\"dataframe\">\n",
       "  <thead>\n",
       "    <tr style=\"text-align: right;\">\n",
       "      <th></th>\n",
       "      <th>poutcome_failure</th>\n",
       "      <th>poutcome_nonexistent</th>\n",
       "      <th>poutcome_success</th>\n",
       "    </tr>\n",
       "  </thead>\n",
       "  <tbody>\n",
       "    <tr>\n",
       "      <th>0</th>\n",
       "      <td>0</td>\n",
       "      <td>1</td>\n",
       "      <td>0</td>\n",
       "    </tr>\n",
       "    <tr>\n",
       "      <th>1</th>\n",
       "      <td>0</td>\n",
       "      <td>1</td>\n",
       "      <td>0</td>\n",
       "    </tr>\n",
       "    <tr>\n",
       "      <th>2</th>\n",
       "      <td>0</td>\n",
       "      <td>1</td>\n",
       "      <td>0</td>\n",
       "    </tr>\n",
       "    <tr>\n",
       "      <th>3</th>\n",
       "      <td>0</td>\n",
       "      <td>1</td>\n",
       "      <td>0</td>\n",
       "    </tr>\n",
       "    <tr>\n",
       "      <th>4</th>\n",
       "      <td>0</td>\n",
       "      <td>1</td>\n",
       "      <td>0</td>\n",
       "    </tr>\n",
       "    <tr>\n",
       "      <th>...</th>\n",
       "      <td>...</td>\n",
       "      <td>...</td>\n",
       "      <td>...</td>\n",
       "    </tr>\n",
       "    <tr>\n",
       "      <th>4114</th>\n",
       "      <td>0</td>\n",
       "      <td>1</td>\n",
       "      <td>0</td>\n",
       "    </tr>\n",
       "    <tr>\n",
       "      <th>4115</th>\n",
       "      <td>0</td>\n",
       "      <td>1</td>\n",
       "      <td>0</td>\n",
       "    </tr>\n",
       "    <tr>\n",
       "      <th>4116</th>\n",
       "      <td>0</td>\n",
       "      <td>1</td>\n",
       "      <td>0</td>\n",
       "    </tr>\n",
       "    <tr>\n",
       "      <th>4117</th>\n",
       "      <td>0</td>\n",
       "      <td>1</td>\n",
       "      <td>0</td>\n",
       "    </tr>\n",
       "    <tr>\n",
       "      <th>4118</th>\n",
       "      <td>0</td>\n",
       "      <td>1</td>\n",
       "      <td>0</td>\n",
       "    </tr>\n",
       "  </tbody>\n",
       "</table>\n",
       "<p>4119 rows × 3 columns</p>\n",
       "</div>"
      ],
      "text/plain": [
       "      poutcome_failure  poutcome_nonexistent  poutcome_success\n",
       "0                    0                     1                 0\n",
       "1                    0                     1                 0\n",
       "2                    0                     1                 0\n",
       "3                    0                     1                 0\n",
       "4                    0                     1                 0\n",
       "...                ...                   ...               ...\n",
       "4114                 0                     1                 0\n",
       "4115                 0                     1                 0\n",
       "4116                 0                     1                 0\n",
       "4117                 0                     1                 0\n",
       "4118                 0                     1                 0\n",
       "\n",
       "[4119 rows x 3 columns]"
      ]
     },
     "execution_count": 303,
     "metadata": {},
     "output_type": "execute_result"
    }
   ],
   "source": [
    "poutcome_clean = pd.get_dummies(df_trans['poutcome'], prefix='poutcome')\n",
    "poutcome_clean"
   ]
  },
  {
   "cell_type": "code",
   "execution_count": 304,
   "id": "adequate-report",
   "metadata": {},
   "outputs": [],
   "source": [
    "df_trans = pd.concat([df_trans, poutcome_clean], axis=1)"
   ]
  },
  {
   "cell_type": "code",
   "execution_count": 305,
   "id": "spare-roberts",
   "metadata": {},
   "outputs": [
    {
     "data": {
      "text/html": [
       "<div>\n",
       "<style scoped>\n",
       "    .dataframe tbody tr th:only-of-type {\n",
       "        vertical-align: middle;\n",
       "    }\n",
       "\n",
       "    .dataframe tbody tr th {\n",
       "        vertical-align: top;\n",
       "    }\n",
       "\n",
       "    .dataframe thead th {\n",
       "        text-align: right;\n",
       "    }\n",
       "</style>\n",
       "<table border=\"1\" class=\"dataframe\">\n",
       "  <thead>\n",
       "    <tr style=\"text-align: right;\">\n",
       "      <th></th>\n",
       "      <th>age</th>\n",
       "      <th>education</th>\n",
       "      <th>housing</th>\n",
       "      <th>loan</th>\n",
       "      <th>contact</th>\n",
       "      <th>duration</th>\n",
       "      <th>campaign</th>\n",
       "      <th>pdays</th>\n",
       "      <th>previous</th>\n",
       "      <th>poutcome</th>\n",
       "      <th>...</th>\n",
       "      <th>job_unknown</th>\n",
       "      <th>marital_divorced</th>\n",
       "      <th>marital_married</th>\n",
       "      <th>marital_single</th>\n",
       "      <th>marital_unknown</th>\n",
       "      <th>default_no</th>\n",
       "      <th>default_unknown</th>\n",
       "      <th>poutcome_failure</th>\n",
       "      <th>poutcome_nonexistent</th>\n",
       "      <th>poutcome_success</th>\n",
       "    </tr>\n",
       "  </thead>\n",
       "  <tbody>\n",
       "    <tr>\n",
       "      <th>0</th>\n",
       "      <td>40.149846</td>\n",
       "      <td>1</td>\n",
       "      <td>0</td>\n",
       "      <td>0</td>\n",
       "      <td>1</td>\n",
       "      <td>105.0</td>\n",
       "      <td>1</td>\n",
       "      <td>1</td>\n",
       "      <td>0</td>\n",
       "      <td>nonexistent</td>\n",
       "      <td>...</td>\n",
       "      <td>0</td>\n",
       "      <td>0</td>\n",
       "      <td>1</td>\n",
       "      <td>0</td>\n",
       "      <td>0</td>\n",
       "      <td>0</td>\n",
       "      <td>1</td>\n",
       "      <td>0</td>\n",
       "      <td>1</td>\n",
       "      <td>0</td>\n",
       "    </tr>\n",
       "    <tr>\n",
       "      <th>1</th>\n",
       "      <td>36.000000</td>\n",
       "      <td>2</td>\n",
       "      <td>1</td>\n",
       "      <td>1</td>\n",
       "      <td>1</td>\n",
       "      <td>125.0</td>\n",
       "      <td>5</td>\n",
       "      <td>1</td>\n",
       "      <td>0</td>\n",
       "      <td>nonexistent</td>\n",
       "      <td>...</td>\n",
       "      <td>0</td>\n",
       "      <td>0</td>\n",
       "      <td>1</td>\n",
       "      <td>0</td>\n",
       "      <td>0</td>\n",
       "      <td>1</td>\n",
       "      <td>0</td>\n",
       "      <td>0</td>\n",
       "      <td>1</td>\n",
       "      <td>0</td>\n",
       "    </tr>\n",
       "    <tr>\n",
       "      <th>2</th>\n",
       "      <td>40.149846</td>\n",
       "      <td>4</td>\n",
       "      <td>0</td>\n",
       "      <td>0</td>\n",
       "      <td>0</td>\n",
       "      <td>111.0</td>\n",
       "      <td>1</td>\n",
       "      <td>1</td>\n",
       "      <td>0</td>\n",
       "      <td>nonexistent</td>\n",
       "      <td>...</td>\n",
       "      <td>0</td>\n",
       "      <td>0</td>\n",
       "      <td>0</td>\n",
       "      <td>1</td>\n",
       "      <td>0</td>\n",
       "      <td>1</td>\n",
       "      <td>0</td>\n",
       "      <td>0</td>\n",
       "      <td>1</td>\n",
       "      <td>0</td>\n",
       "    </tr>\n",
       "    <tr>\n",
       "      <th>3</th>\n",
       "      <td>39.000000</td>\n",
       "      <td>2</td>\n",
       "      <td>0</td>\n",
       "      <td>1</td>\n",
       "      <td>1</td>\n",
       "      <td>173.0</td>\n",
       "      <td>2</td>\n",
       "      <td>1</td>\n",
       "      <td>0</td>\n",
       "      <td>nonexistent</td>\n",
       "      <td>...</td>\n",
       "      <td>0</td>\n",
       "      <td>0</td>\n",
       "      <td>1</td>\n",
       "      <td>0</td>\n",
       "      <td>0</td>\n",
       "      <td>0</td>\n",
       "      <td>1</td>\n",
       "      <td>0</td>\n",
       "      <td>1</td>\n",
       "      <td>0</td>\n",
       "    </tr>\n",
       "    <tr>\n",
       "      <th>4</th>\n",
       "      <td>41.000000</td>\n",
       "      <td>1</td>\n",
       "      <td>0</td>\n",
       "      <td>1</td>\n",
       "      <td>1</td>\n",
       "      <td>107.0</td>\n",
       "      <td>1</td>\n",
       "      <td>1</td>\n",
       "      <td>0</td>\n",
       "      <td>nonexistent</td>\n",
       "      <td>...</td>\n",
       "      <td>0</td>\n",
       "      <td>0</td>\n",
       "      <td>1</td>\n",
       "      <td>0</td>\n",
       "      <td>0</td>\n",
       "      <td>0</td>\n",
       "      <td>1</td>\n",
       "      <td>0</td>\n",
       "      <td>1</td>\n",
       "      <td>0</td>\n",
       "    </tr>\n",
       "  </tbody>\n",
       "</table>\n",
       "<p>5 rows × 32 columns</p>\n",
       "</div>"
      ],
      "text/plain": [
       "         age  education  housing  loan  contact  duration  campaign  pdays  \\\n",
       "0  40.149846          1        0     0        1     105.0         1      1   \n",
       "1  36.000000          2        1     1        1     125.0         5      1   \n",
       "2  40.149846          4        0     0        0     111.0         1      1   \n",
       "3  39.000000          2        0     1        1     173.0         2      1   \n",
       "4  41.000000          1        0     1        1     107.0         1      1   \n",
       "\n",
       "   previous     poutcome  ... job_unknown  marital_divorced  marital_married  \\\n",
       "0         0  nonexistent  ...           0                 0                1   \n",
       "1         0  nonexistent  ...           0                 0                1   \n",
       "2         0  nonexistent  ...           0                 0                0   \n",
       "3         0  nonexistent  ...           0                 0                1   \n",
       "4         0  nonexistent  ...           0                 0                1   \n",
       "\n",
       "   marital_single  marital_unknown  default_no  default_unknown  \\\n",
       "0               0                0           0                1   \n",
       "1               0                0           1                0   \n",
       "2               1                0           1                0   \n",
       "3               0                0           0                1   \n",
       "4               0                0           0                1   \n",
       "\n",
       "   poutcome_failure  poutcome_nonexistent  poutcome_success  \n",
       "0                 0                     1                 0  \n",
       "1                 0                     1                 0  \n",
       "2                 0                     1                 0  \n",
       "3                 0                     1                 0  \n",
       "4                 0                     1                 0  \n",
       "\n",
       "[5 rows x 32 columns]"
      ]
     },
     "execution_count": 305,
     "metadata": {},
     "output_type": "execute_result"
    }
   ],
   "source": [
    "df_trans.head()"
   ]
  },
  {
   "cell_type": "code",
   "execution_count": 306,
   "id": "republican-leone",
   "metadata": {},
   "outputs": [],
   "source": [
    "#drop extra poutcome column\n",
    "df_trans = df_trans.drop(['poutcome'], axis=1)"
   ]
  },
  {
   "cell_type": "code",
   "execution_count": 307,
   "id": "bound-nature",
   "metadata": {},
   "outputs": [],
   "source": [
    "df_trans.to_csv('parta.csv', encoding='utf-8', index=False)"
   ]
  },
  {
   "cell_type": "markdown",
   "id": "experienced-shadow",
   "metadata": {},
   "source": [
    "###LAB2 - Part B"
   ]
  },
  {
   "cell_type": "code",
   "execution_count": 308,
   "id": "sunrise-hudson",
   "metadata": {},
   "outputs": [],
   "source": [
    "df6 = dfb2"
   ]
  },
  {
   "cell_type": "code",
   "execution_count": 309,
   "id": "stuck-sunglasses",
   "metadata": {},
   "outputs": [
    {
     "data": {
      "text/html": [
       "<div>\n",
       "<style scoped>\n",
       "    .dataframe tbody tr th:only-of-type {\n",
       "        vertical-align: middle;\n",
       "    }\n",
       "\n",
       "    .dataframe tbody tr th {\n",
       "        vertical-align: top;\n",
       "    }\n",
       "\n",
       "    .dataframe thead th {\n",
       "        text-align: right;\n",
       "    }\n",
       "</style>\n",
       "<table border=\"1\" class=\"dataframe\">\n",
       "  <thead>\n",
       "    <tr style=\"text-align: right;\">\n",
       "      <th></th>\n",
       "      <th>Employee_Name</th>\n",
       "      <th>EmpID</th>\n",
       "      <th>EmpStatusID</th>\n",
       "      <th>Salary</th>\n",
       "      <th>Termd</th>\n",
       "      <th>Gender</th>\n",
       "      <th>MaritalDesc</th>\n",
       "      <th>CitizenDesc</th>\n",
       "      <th>PerformanceScore</th>\n",
       "      <th>EngagementSurvey</th>\n",
       "      <th>EmpSatisfaction</th>\n",
       "      <th>SpecialProjectsCount</th>\n",
       "      <th>DaysLateLast30</th>\n",
       "      <th>Absences</th>\n",
       "      <th>Years of Tenure</th>\n",
       "      <th>Age</th>\n",
       "    </tr>\n",
       "  </thead>\n",
       "  <tbody>\n",
       "    <tr>\n",
       "      <th>0</th>\n",
       "      <td>Adinolfi, Wilson  K</td>\n",
       "      <td>10026</td>\n",
       "      <td>1.0</td>\n",
       "      <td>62506</td>\n",
       "      <td>0</td>\n",
       "      <td>M</td>\n",
       "      <td>Single</td>\n",
       "      <td>US Citizen</td>\n",
       "      <td>Exceeds</td>\n",
       "      <td>4.60</td>\n",
       "      <td>5</td>\n",
       "      <td>0</td>\n",
       "      <td>0</td>\n",
       "      <td>1</td>\n",
       "      <td>11</td>\n",
       "      <td>39</td>\n",
       "    </tr>\n",
       "    <tr>\n",
       "      <th>1</th>\n",
       "      <td>Ait Sidi, Karthikeyan</td>\n",
       "      <td>10084</td>\n",
       "      <td>5.0</td>\n",
       "      <td>104437</td>\n",
       "      <td>1</td>\n",
       "      <td>M</td>\n",
       "      <td>Married</td>\n",
       "      <td>US Citizen</td>\n",
       "      <td>Fully Meets</td>\n",
       "      <td>4.96</td>\n",
       "      <td>3</td>\n",
       "      <td>6</td>\n",
       "      <td>0</td>\n",
       "      <td>17</td>\n",
       "      <td>1</td>\n",
       "      <td>47</td>\n",
       "    </tr>\n",
       "    <tr>\n",
       "      <th>2</th>\n",
       "      <td>Akinkuolie, Sarah</td>\n",
       "      <td>10196</td>\n",
       "      <td>5.0</td>\n",
       "      <td>64955</td>\n",
       "      <td>1</td>\n",
       "      <td>F</td>\n",
       "      <td>Married</td>\n",
       "      <td>US Citizen</td>\n",
       "      <td>Fully Meets</td>\n",
       "      <td>3.02</td>\n",
       "      <td>3</td>\n",
       "      <td>0</td>\n",
       "      <td>0</td>\n",
       "      <td>3</td>\n",
       "      <td>1</td>\n",
       "      <td>34</td>\n",
       "    </tr>\n",
       "    <tr>\n",
       "      <th>3</th>\n",
       "      <td>Alagbe,Trina</td>\n",
       "      <td>10088</td>\n",
       "      <td>1.0</td>\n",
       "      <td>64991</td>\n",
       "      <td>0</td>\n",
       "      <td>F</td>\n",
       "      <td>Married</td>\n",
       "      <td>US Citizen</td>\n",
       "      <td>Fully Meets</td>\n",
       "      <td>4.84</td>\n",
       "      <td>5</td>\n",
       "      <td>0</td>\n",
       "      <td>0</td>\n",
       "      <td>15</td>\n",
       "      <td>14</td>\n",
       "      <td>34</td>\n",
       "    </tr>\n",
       "    <tr>\n",
       "      <th>4</th>\n",
       "      <td>Anderson, Carol</td>\n",
       "      <td>10069</td>\n",
       "      <td>5.0</td>\n",
       "      <td>50825</td>\n",
       "      <td>1</td>\n",
       "      <td>F</td>\n",
       "      <td>Divorced</td>\n",
       "      <td>US Citizen</td>\n",
       "      <td>Fully Meets</td>\n",
       "      <td>5.00</td>\n",
       "      <td>4</td>\n",
       "      <td>0</td>\n",
       "      <td>0</td>\n",
       "      <td>2</td>\n",
       "      <td>5</td>\n",
       "      <td>33</td>\n",
       "    </tr>\n",
       "  </tbody>\n",
       "</table>\n",
       "</div>"
      ],
      "text/plain": [
       "              Employee_Name  EmpID  EmpStatusID  Salary  Termd Gender  \\\n",
       "0       Adinolfi, Wilson  K  10026          1.0   62506      0      M   \n",
       "1  Ait Sidi, Karthikeyan     10084          5.0  104437      1      M   \n",
       "2         Akinkuolie, Sarah  10196          5.0   64955      1      F   \n",
       "3              Alagbe,Trina  10088          1.0   64991      0      F   \n",
       "4          Anderson, Carol   10069          5.0   50825      1      F   \n",
       "\n",
       "  MaritalDesc CitizenDesc PerformanceScore  EngagementSurvey  EmpSatisfaction  \\\n",
       "0      Single  US Citizen          Exceeds              4.60                5   \n",
       "1     Married  US Citizen      Fully Meets              4.96                3   \n",
       "2     Married  US Citizen      Fully Meets              3.02                3   \n",
       "3     Married  US Citizen      Fully Meets              4.84                5   \n",
       "4    Divorced  US Citizen      Fully Meets              5.00                4   \n",
       "\n",
       "   SpecialProjectsCount  DaysLateLast30  Absences  Years of Tenure  Age  \n",
       "0                     0               0         1               11   39  \n",
       "1                     6               0        17                1   47  \n",
       "2                     0               0         3                1   34  \n",
       "3                     0               0        15               14   34  \n",
       "4                     0               0         2                5   33  "
      ]
     },
     "execution_count": 309,
     "metadata": {},
     "output_type": "execute_result"
    }
   ],
   "source": [
    "df6.head()"
   ]
  },
  {
   "cell_type": "code",
   "execution_count": 310,
   "id": "charming-onion",
   "metadata": {},
   "outputs": [
    {
     "data": {
      "text/plain": [
       "Employee_Name           0\n",
       "EmpID                   0\n",
       "EmpStatusID             9\n",
       "Salary                  0\n",
       "Termd                   0\n",
       "Gender                  0\n",
       "MaritalDesc             4\n",
       "CitizenDesc             4\n",
       "PerformanceScore        0\n",
       "EngagementSurvey        0\n",
       "EmpSatisfaction         0\n",
       "SpecialProjectsCount    0\n",
       "DaysLateLast30          0\n",
       "Absences                0\n",
       "Years of Tenure         0\n",
       "Age                     0\n",
       "dtype: int64"
      ]
     },
     "execution_count": 310,
     "metadata": {},
     "output_type": "execute_result"
    }
   ],
   "source": [
    "df6.isnull().sum()"
   ]
  },
  {
   "cell_type": "code",
   "execution_count": 311,
   "id": "appointed-writer",
   "metadata": {},
   "outputs": [
    {
     "data": {
      "text/plain": [
       "1.0    180\n",
       "5.0     85\n",
       "3.0     14\n",
       "4.0     14\n",
       "2.0      9\n",
       "Name: EmpStatusID, dtype: int64"
      ]
     },
     "execution_count": 311,
     "metadata": {},
     "output_type": "execute_result"
    }
   ],
   "source": [
    "df6['EmpStatusID'].value_counts()"
   ]
  },
  {
   "cell_type": "code",
   "execution_count": 312,
   "id": "anonymous-italic",
   "metadata": {},
   "outputs": [],
   "source": [
    "df6['EmpStatusID'].fillna(1.0, inplace=True)"
   ]
  },
  {
   "cell_type": "code",
   "execution_count": 313,
   "id": "greater-accent",
   "metadata": {},
   "outputs": [
    {
     "data": {
      "text/plain": [
       "1.0    189\n",
       "5.0     85\n",
       "3.0     14\n",
       "4.0     14\n",
       "2.0      9\n",
       "Name: EmpStatusID, dtype: int64"
      ]
     },
     "execution_count": 313,
     "metadata": {},
     "output_type": "execute_result"
    }
   ],
   "source": [
    "df6['EmpStatusID'].value_counts()"
   ]
  },
  {
   "cell_type": "code",
   "execution_count": 314,
   "id": "canadian-catalyst",
   "metadata": {},
   "outputs": [
    {
     "data": {
      "text/plain": [
       "Single       135\n",
       "Married      123\n",
       "Divorced      30\n",
       "Separated     12\n",
       "Widowed        7\n",
       "Name: MaritalDesc, dtype: int64"
      ]
     },
     "execution_count": 314,
     "metadata": {},
     "output_type": "execute_result"
    }
   ],
   "source": [
    "df6['MaritalDesc'].value_counts()"
   ]
  },
  {
   "cell_type": "code",
   "execution_count": 315,
   "id": "lined-twins",
   "metadata": {},
   "outputs": [],
   "source": [
    "df6['MaritalDesc'].fillna('Single', inplace=True)"
   ]
  },
  {
   "cell_type": "code",
   "execution_count": 316,
   "id": "agreed-carol",
   "metadata": {},
   "outputs": [
    {
     "data": {
      "text/plain": [
       "Single       139\n",
       "Married      123\n",
       "Divorced      30\n",
       "Separated     12\n",
       "Widowed        7\n",
       "Name: MaritalDesc, dtype: int64"
      ]
     },
     "execution_count": 316,
     "metadata": {},
     "output_type": "execute_result"
    }
   ],
   "source": [
    "df6['MaritalDesc'].value_counts()"
   ]
  },
  {
   "cell_type": "markdown",
   "id": "mediterranean-calvin",
   "metadata": {},
   "source": [
    "##Question 24 - What would be the best feature transformation for the column CitizenDesc? Apply the appropriate transformation to the dataset\n",
    "- Map the values to 0 to 2\n",
    "- Replace it with a one-hot-vector of length 3\n",
    "- Replace it with a one-hot-vector of length 3, then drop off the columns\n",
    "- No feature transformation is needed for this column"
   ]
  },
  {
   "cell_type": "code",
   "execution_count": 317,
   "id": "prescribed-album",
   "metadata": {},
   "outputs": [
    {
     "data": {
      "text/plain": [
       "US Citizen             291\n",
       "Eligible NonCitizen     12\n",
       "Non-Citizen              4\n",
       "Name: CitizenDesc, dtype: int64"
      ]
     },
     "execution_count": 317,
     "metadata": {},
     "output_type": "execute_result"
    }
   ],
   "source": [
    "df6['CitizenDesc'].value_counts()"
   ]
  },
  {
   "cell_type": "code",
   "execution_count": 318,
   "id": "successful-death",
   "metadata": {},
   "outputs": [],
   "source": [
    "df6['CitizenDesc'].fillna('US Citizen', inplace=True)"
   ]
  },
  {
   "cell_type": "code",
   "execution_count": 319,
   "id": "alert-bleeding",
   "metadata": {},
   "outputs": [
    {
     "data": {
      "text/plain": [
       "US Citizen             295\n",
       "Eligible NonCitizen     12\n",
       "Non-Citizen              4\n",
       "Name: CitizenDesc, dtype: int64"
      ]
     },
     "execution_count": 319,
     "metadata": {},
     "output_type": "execute_result"
    }
   ],
   "source": [
    "df6['CitizenDesc'].value_counts()"
   ]
  },
  {
   "cell_type": "markdown",
   "id": "electoral-angel",
   "metadata": {},
   "source": [
    "##Question 21 - no missing values anymore. Goal is predict the salary of each employee based on available data in the dataset. Select columns that do not contribute meaninful information for this task and drop them from th dataset."
   ]
  },
  {
   "cell_type": "code",
   "execution_count": 320,
   "id": "neural-tactics",
   "metadata": {},
   "outputs": [
    {
     "data": {
      "text/plain": [
       "Employee_Name           0\n",
       "EmpID                   0\n",
       "EmpStatusID             0\n",
       "Salary                  0\n",
       "Termd                   0\n",
       "Gender                  0\n",
       "MaritalDesc             0\n",
       "CitizenDesc             0\n",
       "PerformanceScore        0\n",
       "EngagementSurvey        0\n",
       "EmpSatisfaction         0\n",
       "SpecialProjectsCount    0\n",
       "DaysLateLast30          0\n",
       "Absences                0\n",
       "Years of Tenure         0\n",
       "Age                     0\n",
       "dtype: int64"
      ]
     },
     "execution_count": 320,
     "metadata": {},
     "output_type": "execute_result"
    }
   ],
   "source": [
    "df6.isna().sum()"
   ]
  },
  {
   "cell_type": "code",
   "execution_count": 321,
   "id": "permanent-laser",
   "metadata": {},
   "outputs": [],
   "source": [
    "#Columns with little meaning to predict salary - engagementsurvey, empsatisfaction, dayslatelast30, absences, termd"
   ]
  },
  {
   "cell_type": "code",
   "execution_count": 322,
   "id": "everyday-queue",
   "metadata": {},
   "outputs": [
    {
     "data": {
      "text/html": [
       "<div>\n",
       "<style scoped>\n",
       "    .dataframe tbody tr th:only-of-type {\n",
       "        vertical-align: middle;\n",
       "    }\n",
       "\n",
       "    .dataframe tbody tr th {\n",
       "        vertical-align: top;\n",
       "    }\n",
       "\n",
       "    .dataframe thead th {\n",
       "        text-align: right;\n",
       "    }\n",
       "</style>\n",
       "<table border=\"1\" class=\"dataframe\">\n",
       "  <thead>\n",
       "    <tr style=\"text-align: right;\">\n",
       "      <th></th>\n",
       "      <th>Employee_Name</th>\n",
       "      <th>EmpID</th>\n",
       "      <th>EmpStatusID</th>\n",
       "      <th>Salary</th>\n",
       "      <th>Termd</th>\n",
       "      <th>Gender</th>\n",
       "      <th>MaritalDesc</th>\n",
       "      <th>CitizenDesc</th>\n",
       "      <th>PerformanceScore</th>\n",
       "      <th>EngagementSurvey</th>\n",
       "      <th>EmpSatisfaction</th>\n",
       "      <th>SpecialProjectsCount</th>\n",
       "      <th>DaysLateLast30</th>\n",
       "      <th>Absences</th>\n",
       "      <th>Years of Tenure</th>\n",
       "      <th>Age</th>\n",
       "    </tr>\n",
       "  </thead>\n",
       "  <tbody>\n",
       "    <tr>\n",
       "      <th>0</th>\n",
       "      <td>Adinolfi, Wilson  K</td>\n",
       "      <td>10026</td>\n",
       "      <td>1.0</td>\n",
       "      <td>62506</td>\n",
       "      <td>0</td>\n",
       "      <td>M</td>\n",
       "      <td>Single</td>\n",
       "      <td>US Citizen</td>\n",
       "      <td>Exceeds</td>\n",
       "      <td>4.60</td>\n",
       "      <td>5</td>\n",
       "      <td>0</td>\n",
       "      <td>0</td>\n",
       "      <td>1</td>\n",
       "      <td>11</td>\n",
       "      <td>39</td>\n",
       "    </tr>\n",
       "    <tr>\n",
       "      <th>1</th>\n",
       "      <td>Ait Sidi, Karthikeyan</td>\n",
       "      <td>10084</td>\n",
       "      <td>5.0</td>\n",
       "      <td>104437</td>\n",
       "      <td>1</td>\n",
       "      <td>M</td>\n",
       "      <td>Married</td>\n",
       "      <td>US Citizen</td>\n",
       "      <td>Fully Meets</td>\n",
       "      <td>4.96</td>\n",
       "      <td>3</td>\n",
       "      <td>6</td>\n",
       "      <td>0</td>\n",
       "      <td>17</td>\n",
       "      <td>1</td>\n",
       "      <td>47</td>\n",
       "    </tr>\n",
       "    <tr>\n",
       "      <th>2</th>\n",
       "      <td>Akinkuolie, Sarah</td>\n",
       "      <td>10196</td>\n",
       "      <td>5.0</td>\n",
       "      <td>64955</td>\n",
       "      <td>1</td>\n",
       "      <td>F</td>\n",
       "      <td>Married</td>\n",
       "      <td>US Citizen</td>\n",
       "      <td>Fully Meets</td>\n",
       "      <td>3.02</td>\n",
       "      <td>3</td>\n",
       "      <td>0</td>\n",
       "      <td>0</td>\n",
       "      <td>3</td>\n",
       "      <td>1</td>\n",
       "      <td>34</td>\n",
       "    </tr>\n",
       "    <tr>\n",
       "      <th>3</th>\n",
       "      <td>Alagbe,Trina</td>\n",
       "      <td>10088</td>\n",
       "      <td>1.0</td>\n",
       "      <td>64991</td>\n",
       "      <td>0</td>\n",
       "      <td>F</td>\n",
       "      <td>Married</td>\n",
       "      <td>US Citizen</td>\n",
       "      <td>Fully Meets</td>\n",
       "      <td>4.84</td>\n",
       "      <td>5</td>\n",
       "      <td>0</td>\n",
       "      <td>0</td>\n",
       "      <td>15</td>\n",
       "      <td>14</td>\n",
       "      <td>34</td>\n",
       "    </tr>\n",
       "    <tr>\n",
       "      <th>4</th>\n",
       "      <td>Anderson, Carol</td>\n",
       "      <td>10069</td>\n",
       "      <td>5.0</td>\n",
       "      <td>50825</td>\n",
       "      <td>1</td>\n",
       "      <td>F</td>\n",
       "      <td>Divorced</td>\n",
       "      <td>US Citizen</td>\n",
       "      <td>Fully Meets</td>\n",
       "      <td>5.00</td>\n",
       "      <td>4</td>\n",
       "      <td>0</td>\n",
       "      <td>0</td>\n",
       "      <td>2</td>\n",
       "      <td>5</td>\n",
       "      <td>33</td>\n",
       "    </tr>\n",
       "  </tbody>\n",
       "</table>\n",
       "</div>"
      ],
      "text/plain": [
       "              Employee_Name  EmpID  EmpStatusID  Salary  Termd Gender  \\\n",
       "0       Adinolfi, Wilson  K  10026          1.0   62506      0      M   \n",
       "1  Ait Sidi, Karthikeyan     10084          5.0  104437      1      M   \n",
       "2         Akinkuolie, Sarah  10196          5.0   64955      1      F   \n",
       "3              Alagbe,Trina  10088          1.0   64991      0      F   \n",
       "4          Anderson, Carol   10069          5.0   50825      1      F   \n",
       "\n",
       "  MaritalDesc CitizenDesc PerformanceScore  EngagementSurvey  EmpSatisfaction  \\\n",
       "0      Single  US Citizen          Exceeds              4.60                5   \n",
       "1     Married  US Citizen      Fully Meets              4.96                3   \n",
       "2     Married  US Citizen      Fully Meets              3.02                3   \n",
       "3     Married  US Citizen      Fully Meets              4.84                5   \n",
       "4    Divorced  US Citizen      Fully Meets              5.00                4   \n",
       "\n",
       "   SpecialProjectsCount  DaysLateLast30  Absences  Years of Tenure  Age  \n",
       "0                     0               0         1               11   39  \n",
       "1                     6               0        17                1   47  \n",
       "2                     0               0         3                1   34  \n",
       "3                     0               0        15               14   34  \n",
       "4                     0               0         2                5   33  "
      ]
     },
     "execution_count": 322,
     "metadata": {},
     "output_type": "execute_result"
    }
   ],
   "source": [
    "df6.head()"
   ]
  },
  {
   "cell_type": "code",
   "execution_count": 323,
   "id": "printable-preview",
   "metadata": {},
   "outputs": [],
   "source": [
    "df7 = df6.drop(['Employee_Name', 'EmpID'], axis=1)"
   ]
  },
  {
   "cell_type": "code",
   "execution_count": 324,
   "id": "solar-hello",
   "metadata": {},
   "outputs": [
    {
     "data": {
      "text/html": [
       "<div>\n",
       "<style scoped>\n",
       "    .dataframe tbody tr th:only-of-type {\n",
       "        vertical-align: middle;\n",
       "    }\n",
       "\n",
       "    .dataframe tbody tr th {\n",
       "        vertical-align: top;\n",
       "    }\n",
       "\n",
       "    .dataframe thead th {\n",
       "        text-align: right;\n",
       "    }\n",
       "</style>\n",
       "<table border=\"1\" class=\"dataframe\">\n",
       "  <thead>\n",
       "    <tr style=\"text-align: right;\">\n",
       "      <th></th>\n",
       "      <th>EmpStatusID</th>\n",
       "      <th>Salary</th>\n",
       "      <th>Termd</th>\n",
       "      <th>Gender</th>\n",
       "      <th>MaritalDesc</th>\n",
       "      <th>CitizenDesc</th>\n",
       "      <th>PerformanceScore</th>\n",
       "      <th>EngagementSurvey</th>\n",
       "      <th>EmpSatisfaction</th>\n",
       "      <th>SpecialProjectsCount</th>\n",
       "      <th>DaysLateLast30</th>\n",
       "      <th>Absences</th>\n",
       "      <th>Years of Tenure</th>\n",
       "      <th>Age</th>\n",
       "    </tr>\n",
       "  </thead>\n",
       "  <tbody>\n",
       "    <tr>\n",
       "      <th>0</th>\n",
       "      <td>1.0</td>\n",
       "      <td>62506</td>\n",
       "      <td>0</td>\n",
       "      <td>M</td>\n",
       "      <td>Single</td>\n",
       "      <td>US Citizen</td>\n",
       "      <td>Exceeds</td>\n",
       "      <td>4.60</td>\n",
       "      <td>5</td>\n",
       "      <td>0</td>\n",
       "      <td>0</td>\n",
       "      <td>1</td>\n",
       "      <td>11</td>\n",
       "      <td>39</td>\n",
       "    </tr>\n",
       "    <tr>\n",
       "      <th>1</th>\n",
       "      <td>5.0</td>\n",
       "      <td>104437</td>\n",
       "      <td>1</td>\n",
       "      <td>M</td>\n",
       "      <td>Married</td>\n",
       "      <td>US Citizen</td>\n",
       "      <td>Fully Meets</td>\n",
       "      <td>4.96</td>\n",
       "      <td>3</td>\n",
       "      <td>6</td>\n",
       "      <td>0</td>\n",
       "      <td>17</td>\n",
       "      <td>1</td>\n",
       "      <td>47</td>\n",
       "    </tr>\n",
       "    <tr>\n",
       "      <th>2</th>\n",
       "      <td>5.0</td>\n",
       "      <td>64955</td>\n",
       "      <td>1</td>\n",
       "      <td>F</td>\n",
       "      <td>Married</td>\n",
       "      <td>US Citizen</td>\n",
       "      <td>Fully Meets</td>\n",
       "      <td>3.02</td>\n",
       "      <td>3</td>\n",
       "      <td>0</td>\n",
       "      <td>0</td>\n",
       "      <td>3</td>\n",
       "      <td>1</td>\n",
       "      <td>34</td>\n",
       "    </tr>\n",
       "    <tr>\n",
       "      <th>3</th>\n",
       "      <td>1.0</td>\n",
       "      <td>64991</td>\n",
       "      <td>0</td>\n",
       "      <td>F</td>\n",
       "      <td>Married</td>\n",
       "      <td>US Citizen</td>\n",
       "      <td>Fully Meets</td>\n",
       "      <td>4.84</td>\n",
       "      <td>5</td>\n",
       "      <td>0</td>\n",
       "      <td>0</td>\n",
       "      <td>15</td>\n",
       "      <td>14</td>\n",
       "      <td>34</td>\n",
       "    </tr>\n",
       "    <tr>\n",
       "      <th>4</th>\n",
       "      <td>5.0</td>\n",
       "      <td>50825</td>\n",
       "      <td>1</td>\n",
       "      <td>F</td>\n",
       "      <td>Divorced</td>\n",
       "      <td>US Citizen</td>\n",
       "      <td>Fully Meets</td>\n",
       "      <td>5.00</td>\n",
       "      <td>4</td>\n",
       "      <td>0</td>\n",
       "      <td>0</td>\n",
       "      <td>2</td>\n",
       "      <td>5</td>\n",
       "      <td>33</td>\n",
       "    </tr>\n",
       "  </tbody>\n",
       "</table>\n",
       "</div>"
      ],
      "text/plain": [
       "   EmpStatusID  Salary  Termd Gender MaritalDesc CitizenDesc PerformanceScore  \\\n",
       "0          1.0   62506      0      M      Single  US Citizen          Exceeds   \n",
       "1          5.0  104437      1      M     Married  US Citizen      Fully Meets   \n",
       "2          5.0   64955      1      F     Married  US Citizen      Fully Meets   \n",
       "3          1.0   64991      0      F     Married  US Citizen      Fully Meets   \n",
       "4          5.0   50825      1      F    Divorced  US Citizen      Fully Meets   \n",
       "\n",
       "   EngagementSurvey  EmpSatisfaction  SpecialProjectsCount  DaysLateLast30  \\\n",
       "0              4.60                5                     0               0   \n",
       "1              4.96                3                     6               0   \n",
       "2              3.02                3                     0               0   \n",
       "3              4.84                5                     0               0   \n",
       "4              5.00                4                     0               0   \n",
       "\n",
       "   Absences  Years of Tenure  Age  \n",
       "0         1               11   39  \n",
       "1        17                1   47  \n",
       "2         3                1   34  \n",
       "3        15               14   34  \n",
       "4         2                5   33  "
      ]
     },
     "execution_count": 324,
     "metadata": {},
     "output_type": "execute_result"
    }
   ],
   "source": [
    "df7.head()"
   ]
  },
  {
   "cell_type": "markdown",
   "id": "banned-context",
   "metadata": {},
   "source": [
    "##Question 22 - What would be the best feature transoformation for the column EmpStatusID? Apply the proper transformation to your dataset\n",
    "- Map the values to 0 to 4\n",
    "- Replace it with a one-hot vector of length 5\n",
    "- Replace it with a one-hot vector of length 5, then drop off the columns\n",
    "- No feature transformation is needed for this column"
   ]
  },
  {
   "cell_type": "code",
   "execution_count": 325,
   "id": "automatic-infrared",
   "metadata": {},
   "outputs": [
    {
     "data": {
      "text/plain": [
       "1.0    189\n",
       "5.0     85\n",
       "3.0     14\n",
       "4.0     14\n",
       "2.0      9\n",
       "Name: EmpStatusID, dtype: int64"
      ]
     },
     "execution_count": 325,
     "metadata": {},
     "output_type": "execute_result"
    }
   ],
   "source": [
    "df7['EmpStatusID'].value_counts()"
   ]
  },
  {
   "cell_type": "code",
   "execution_count": 326,
   "id": "frequent-henry",
   "metadata": {},
   "outputs": [],
   "source": [
    "empstat_clean = pd.get_dummies(df7['EmpStatusID'], prefix = 'EmpStatus')"
   ]
  },
  {
   "cell_type": "code",
   "execution_count": 327,
   "id": "hidden-county",
   "metadata": {},
   "outputs": [],
   "source": [
    "df7 = pd.concat([df7, empstat_clean], axis=1)"
   ]
  },
  {
   "cell_type": "code",
   "execution_count": 328,
   "id": "leading-feedback",
   "metadata": {},
   "outputs": [],
   "source": [
    "df7 = df7.drop(['EmpStatusID'], axis=1)"
   ]
  },
  {
   "cell_type": "code",
   "execution_count": 329,
   "id": "native-leader",
   "metadata": {},
   "outputs": [
    {
     "data": {
      "text/plain": [
       "Single       139\n",
       "Married      123\n",
       "Divorced      30\n",
       "Separated     12\n",
       "Widowed        7\n",
       "Name: MaritalDesc, dtype: int64"
      ]
     },
     "execution_count": 329,
     "metadata": {},
     "output_type": "execute_result"
    }
   ],
   "source": [
    "df7['MaritalDesc'].value_counts()"
   ]
  },
  {
   "cell_type": "code",
   "execution_count": 330,
   "id": "hungry-adoption",
   "metadata": {},
   "outputs": [
    {
     "data": {
      "text/html": [
       "<div>\n",
       "<style scoped>\n",
       "    .dataframe tbody tr th:only-of-type {\n",
       "        vertical-align: middle;\n",
       "    }\n",
       "\n",
       "    .dataframe tbody tr th {\n",
       "        vertical-align: top;\n",
       "    }\n",
       "\n",
       "    .dataframe thead th {\n",
       "        text-align: right;\n",
       "    }\n",
       "</style>\n",
       "<table border=\"1\" class=\"dataframe\">\n",
       "  <thead>\n",
       "    <tr style=\"text-align: right;\">\n",
       "      <th></th>\n",
       "      <th>maritaldesc_Divorced</th>\n",
       "      <th>maritaldesc_Married</th>\n",
       "      <th>maritaldesc_Separated</th>\n",
       "      <th>maritaldesc_Single</th>\n",
       "      <th>maritaldesc_Widowed</th>\n",
       "    </tr>\n",
       "  </thead>\n",
       "  <tbody>\n",
       "    <tr>\n",
       "      <th>0</th>\n",
       "      <td>0</td>\n",
       "      <td>0</td>\n",
       "      <td>0</td>\n",
       "      <td>1</td>\n",
       "      <td>0</td>\n",
       "    </tr>\n",
       "    <tr>\n",
       "      <th>1</th>\n",
       "      <td>0</td>\n",
       "      <td>1</td>\n",
       "      <td>0</td>\n",
       "      <td>0</td>\n",
       "      <td>0</td>\n",
       "    </tr>\n",
       "    <tr>\n",
       "      <th>2</th>\n",
       "      <td>0</td>\n",
       "      <td>1</td>\n",
       "      <td>0</td>\n",
       "      <td>0</td>\n",
       "      <td>0</td>\n",
       "    </tr>\n",
       "    <tr>\n",
       "      <th>3</th>\n",
       "      <td>0</td>\n",
       "      <td>1</td>\n",
       "      <td>0</td>\n",
       "      <td>0</td>\n",
       "      <td>0</td>\n",
       "    </tr>\n",
       "    <tr>\n",
       "      <th>4</th>\n",
       "      <td>1</td>\n",
       "      <td>0</td>\n",
       "      <td>0</td>\n",
       "      <td>0</td>\n",
       "      <td>0</td>\n",
       "    </tr>\n",
       "    <tr>\n",
       "      <th>...</th>\n",
       "      <td>...</td>\n",
       "      <td>...</td>\n",
       "      <td>...</td>\n",
       "      <td>...</td>\n",
       "      <td>...</td>\n",
       "    </tr>\n",
       "    <tr>\n",
       "      <th>306</th>\n",
       "      <td>0</td>\n",
       "      <td>0</td>\n",
       "      <td>0</td>\n",
       "      <td>1</td>\n",
       "      <td>0</td>\n",
       "    </tr>\n",
       "    <tr>\n",
       "      <th>307</th>\n",
       "      <td>0</td>\n",
       "      <td>0</td>\n",
       "      <td>0</td>\n",
       "      <td>1</td>\n",
       "      <td>0</td>\n",
       "    </tr>\n",
       "    <tr>\n",
       "      <th>308</th>\n",
       "      <td>0</td>\n",
       "      <td>0</td>\n",
       "      <td>0</td>\n",
       "      <td>1</td>\n",
       "      <td>0</td>\n",
       "    </tr>\n",
       "    <tr>\n",
       "      <th>309</th>\n",
       "      <td>0</td>\n",
       "      <td>0</td>\n",
       "      <td>0</td>\n",
       "      <td>1</td>\n",
       "      <td>0</td>\n",
       "    </tr>\n",
       "    <tr>\n",
       "      <th>310</th>\n",
       "      <td>0</td>\n",
       "      <td>0</td>\n",
       "      <td>0</td>\n",
       "      <td>0</td>\n",
       "      <td>1</td>\n",
       "    </tr>\n",
       "  </tbody>\n",
       "</table>\n",
       "<p>311 rows × 5 columns</p>\n",
       "</div>"
      ],
      "text/plain": [
       "     maritaldesc_Divorced  maritaldesc_Married  maritaldesc_Separated  \\\n",
       "0                       0                    0                      0   \n",
       "1                       0                    1                      0   \n",
       "2                       0                    1                      0   \n",
       "3                       0                    1                      0   \n",
       "4                       1                    0                      0   \n",
       "..                    ...                  ...                    ...   \n",
       "306                     0                    0                      0   \n",
       "307                     0                    0                      0   \n",
       "308                     0                    0                      0   \n",
       "309                     0                    0                      0   \n",
       "310                     0                    0                      0   \n",
       "\n",
       "     maritaldesc_Single  maritaldesc_Widowed  \n",
       "0                     1                    0  \n",
       "1                     0                    0  \n",
       "2                     0                    0  \n",
       "3                     0                    0  \n",
       "4                     0                    0  \n",
       "..                  ...                  ...  \n",
       "306                   1                    0  \n",
       "307                   1                    0  \n",
       "308                   1                    0  \n",
       "309                   1                    0  \n",
       "310                   0                    1  \n",
       "\n",
       "[311 rows x 5 columns]"
      ]
     },
     "execution_count": 330,
     "metadata": {},
     "output_type": "execute_result"
    }
   ],
   "source": [
    "mardesc = pd.get_dummies(df7['MaritalDesc'], prefix=\"maritaldesc\")\n",
    "mardesc"
   ]
  },
  {
   "cell_type": "code",
   "execution_count": 331,
   "id": "minus-muscle",
   "metadata": {},
   "outputs": [
    {
     "data": {
      "text/html": [
       "<div>\n",
       "<style scoped>\n",
       "    .dataframe tbody tr th:only-of-type {\n",
       "        vertical-align: middle;\n",
       "    }\n",
       "\n",
       "    .dataframe tbody tr th {\n",
       "        vertical-align: top;\n",
       "    }\n",
       "\n",
       "    .dataframe thead th {\n",
       "        text-align: right;\n",
       "    }\n",
       "</style>\n",
       "<table border=\"1\" class=\"dataframe\">\n",
       "  <thead>\n",
       "    <tr style=\"text-align: right;\">\n",
       "      <th></th>\n",
       "      <th>Salary</th>\n",
       "      <th>Termd</th>\n",
       "      <th>Gender</th>\n",
       "      <th>MaritalDesc</th>\n",
       "      <th>CitizenDesc</th>\n",
       "      <th>PerformanceScore</th>\n",
       "      <th>EngagementSurvey</th>\n",
       "      <th>EmpSatisfaction</th>\n",
       "      <th>SpecialProjectsCount</th>\n",
       "      <th>DaysLateLast30</th>\n",
       "      <th>...</th>\n",
       "      <th>EmpStatus_1.0</th>\n",
       "      <th>EmpStatus_2.0</th>\n",
       "      <th>EmpStatus_3.0</th>\n",
       "      <th>EmpStatus_4.0</th>\n",
       "      <th>EmpStatus_5.0</th>\n",
       "      <th>maritaldesc_Divorced</th>\n",
       "      <th>maritaldesc_Married</th>\n",
       "      <th>maritaldesc_Separated</th>\n",
       "      <th>maritaldesc_Single</th>\n",
       "      <th>maritaldesc_Widowed</th>\n",
       "    </tr>\n",
       "  </thead>\n",
       "  <tbody>\n",
       "    <tr>\n",
       "      <th>0</th>\n",
       "      <td>62506</td>\n",
       "      <td>0</td>\n",
       "      <td>M</td>\n",
       "      <td>Single</td>\n",
       "      <td>US Citizen</td>\n",
       "      <td>Exceeds</td>\n",
       "      <td>4.60</td>\n",
       "      <td>5</td>\n",
       "      <td>0</td>\n",
       "      <td>0</td>\n",
       "      <td>...</td>\n",
       "      <td>1</td>\n",
       "      <td>0</td>\n",
       "      <td>0</td>\n",
       "      <td>0</td>\n",
       "      <td>0</td>\n",
       "      <td>0</td>\n",
       "      <td>0</td>\n",
       "      <td>0</td>\n",
       "      <td>1</td>\n",
       "      <td>0</td>\n",
       "    </tr>\n",
       "    <tr>\n",
       "      <th>1</th>\n",
       "      <td>104437</td>\n",
       "      <td>1</td>\n",
       "      <td>M</td>\n",
       "      <td>Married</td>\n",
       "      <td>US Citizen</td>\n",
       "      <td>Fully Meets</td>\n",
       "      <td>4.96</td>\n",
       "      <td>3</td>\n",
       "      <td>6</td>\n",
       "      <td>0</td>\n",
       "      <td>...</td>\n",
       "      <td>0</td>\n",
       "      <td>0</td>\n",
       "      <td>0</td>\n",
       "      <td>0</td>\n",
       "      <td>1</td>\n",
       "      <td>0</td>\n",
       "      <td>1</td>\n",
       "      <td>0</td>\n",
       "      <td>0</td>\n",
       "      <td>0</td>\n",
       "    </tr>\n",
       "    <tr>\n",
       "      <th>2</th>\n",
       "      <td>64955</td>\n",
       "      <td>1</td>\n",
       "      <td>F</td>\n",
       "      <td>Married</td>\n",
       "      <td>US Citizen</td>\n",
       "      <td>Fully Meets</td>\n",
       "      <td>3.02</td>\n",
       "      <td>3</td>\n",
       "      <td>0</td>\n",
       "      <td>0</td>\n",
       "      <td>...</td>\n",
       "      <td>0</td>\n",
       "      <td>0</td>\n",
       "      <td>0</td>\n",
       "      <td>0</td>\n",
       "      <td>1</td>\n",
       "      <td>0</td>\n",
       "      <td>1</td>\n",
       "      <td>0</td>\n",
       "      <td>0</td>\n",
       "      <td>0</td>\n",
       "    </tr>\n",
       "    <tr>\n",
       "      <th>3</th>\n",
       "      <td>64991</td>\n",
       "      <td>0</td>\n",
       "      <td>F</td>\n",
       "      <td>Married</td>\n",
       "      <td>US Citizen</td>\n",
       "      <td>Fully Meets</td>\n",
       "      <td>4.84</td>\n",
       "      <td>5</td>\n",
       "      <td>0</td>\n",
       "      <td>0</td>\n",
       "      <td>...</td>\n",
       "      <td>1</td>\n",
       "      <td>0</td>\n",
       "      <td>0</td>\n",
       "      <td>0</td>\n",
       "      <td>0</td>\n",
       "      <td>0</td>\n",
       "      <td>1</td>\n",
       "      <td>0</td>\n",
       "      <td>0</td>\n",
       "      <td>0</td>\n",
       "    </tr>\n",
       "    <tr>\n",
       "      <th>4</th>\n",
       "      <td>50825</td>\n",
       "      <td>1</td>\n",
       "      <td>F</td>\n",
       "      <td>Divorced</td>\n",
       "      <td>US Citizen</td>\n",
       "      <td>Fully Meets</td>\n",
       "      <td>5.00</td>\n",
       "      <td>4</td>\n",
       "      <td>0</td>\n",
       "      <td>0</td>\n",
       "      <td>...</td>\n",
       "      <td>0</td>\n",
       "      <td>0</td>\n",
       "      <td>0</td>\n",
       "      <td>0</td>\n",
       "      <td>1</td>\n",
       "      <td>1</td>\n",
       "      <td>0</td>\n",
       "      <td>0</td>\n",
       "      <td>0</td>\n",
       "      <td>0</td>\n",
       "    </tr>\n",
       "    <tr>\n",
       "      <th>...</th>\n",
       "      <td>...</td>\n",
       "      <td>...</td>\n",
       "      <td>...</td>\n",
       "      <td>...</td>\n",
       "      <td>...</td>\n",
       "      <td>...</td>\n",
       "      <td>...</td>\n",
       "      <td>...</td>\n",
       "      <td>...</td>\n",
       "      <td>...</td>\n",
       "      <td>...</td>\n",
       "      <td>...</td>\n",
       "      <td>...</td>\n",
       "      <td>...</td>\n",
       "      <td>...</td>\n",
       "      <td>...</td>\n",
       "      <td>...</td>\n",
       "      <td>...</td>\n",
       "      <td>...</td>\n",
       "      <td>...</td>\n",
       "      <td>...</td>\n",
       "    </tr>\n",
       "    <tr>\n",
       "      <th>306</th>\n",
       "      <td>65893</td>\n",
       "      <td>0</td>\n",
       "      <td>M</td>\n",
       "      <td>Single</td>\n",
       "      <td>US Citizen</td>\n",
       "      <td>Fully Meets</td>\n",
       "      <td>4.07</td>\n",
       "      <td>4</td>\n",
       "      <td>0</td>\n",
       "      <td>0</td>\n",
       "      <td>...</td>\n",
       "      <td>1</td>\n",
       "      <td>0</td>\n",
       "      <td>0</td>\n",
       "      <td>0</td>\n",
       "      <td>0</td>\n",
       "      <td>0</td>\n",
       "      <td>0</td>\n",
       "      <td>0</td>\n",
       "      <td>1</td>\n",
       "      <td>0</td>\n",
       "    </tr>\n",
       "    <tr>\n",
       "      <th>307</th>\n",
       "      <td>48513</td>\n",
       "      <td>1</td>\n",
       "      <td>F</td>\n",
       "      <td>Single</td>\n",
       "      <td>US Citizen</td>\n",
       "      <td>PIP</td>\n",
       "      <td>3.20</td>\n",
       "      <td>2</td>\n",
       "      <td>0</td>\n",
       "      <td>5</td>\n",
       "      <td>...</td>\n",
       "      <td>0</td>\n",
       "      <td>0</td>\n",
       "      <td>0</td>\n",
       "      <td>0</td>\n",
       "      <td>1</td>\n",
       "      <td>0</td>\n",
       "      <td>0</td>\n",
       "      <td>0</td>\n",
       "      <td>1</td>\n",
       "      <td>0</td>\n",
       "    </tr>\n",
       "    <tr>\n",
       "      <th>308</th>\n",
       "      <td>220450</td>\n",
       "      <td>0</td>\n",
       "      <td>F</td>\n",
       "      <td>Single</td>\n",
       "      <td>US Citizen</td>\n",
       "      <td>Exceeds</td>\n",
       "      <td>4.60</td>\n",
       "      <td>5</td>\n",
       "      <td>6</td>\n",
       "      <td>0</td>\n",
       "      <td>...</td>\n",
       "      <td>1</td>\n",
       "      <td>0</td>\n",
       "      <td>0</td>\n",
       "      <td>0</td>\n",
       "      <td>0</td>\n",
       "      <td>0</td>\n",
       "      <td>0</td>\n",
       "      <td>0</td>\n",
       "      <td>1</td>\n",
       "      <td>0</td>\n",
       "    </tr>\n",
       "    <tr>\n",
       "      <th>309</th>\n",
       "      <td>89292</td>\n",
       "      <td>0</td>\n",
       "      <td>F</td>\n",
       "      <td>Single</td>\n",
       "      <td>US Citizen</td>\n",
       "      <td>Fully Meets</td>\n",
       "      <td>5.00</td>\n",
       "      <td>3</td>\n",
       "      <td>5</td>\n",
       "      <td>0</td>\n",
       "      <td>...</td>\n",
       "      <td>1</td>\n",
       "      <td>0</td>\n",
       "      <td>0</td>\n",
       "      <td>0</td>\n",
       "      <td>0</td>\n",
       "      <td>0</td>\n",
       "      <td>0</td>\n",
       "      <td>0</td>\n",
       "      <td>1</td>\n",
       "      <td>0</td>\n",
       "    </tr>\n",
       "    <tr>\n",
       "      <th>310</th>\n",
       "      <td>45046</td>\n",
       "      <td>0</td>\n",
       "      <td>F</td>\n",
       "      <td>Widowed</td>\n",
       "      <td>US Citizen</td>\n",
       "      <td>Fully Meets</td>\n",
       "      <td>4.50</td>\n",
       "      <td>5</td>\n",
       "      <td>0</td>\n",
       "      <td>0</td>\n",
       "      <td>...</td>\n",
       "      <td>1</td>\n",
       "      <td>0</td>\n",
       "      <td>0</td>\n",
       "      <td>0</td>\n",
       "      <td>0</td>\n",
       "      <td>0</td>\n",
       "      <td>0</td>\n",
       "      <td>0</td>\n",
       "      <td>0</td>\n",
       "      <td>1</td>\n",
       "    </tr>\n",
       "  </tbody>\n",
       "</table>\n",
       "<p>311 rows × 23 columns</p>\n",
       "</div>"
      ],
      "text/plain": [
       "     Salary  Termd Gender MaritalDesc CitizenDesc PerformanceScore  \\\n",
       "0     62506      0      M      Single  US Citizen          Exceeds   \n",
       "1    104437      1      M     Married  US Citizen      Fully Meets   \n",
       "2     64955      1      F     Married  US Citizen      Fully Meets   \n",
       "3     64991      0      F     Married  US Citizen      Fully Meets   \n",
       "4     50825      1      F    Divorced  US Citizen      Fully Meets   \n",
       "..      ...    ...    ...         ...         ...              ...   \n",
       "306   65893      0      M      Single  US Citizen      Fully Meets   \n",
       "307   48513      1      F      Single  US Citizen              PIP   \n",
       "308  220450      0      F      Single  US Citizen          Exceeds   \n",
       "309   89292      0      F      Single  US Citizen      Fully Meets   \n",
       "310   45046      0      F     Widowed  US Citizen      Fully Meets   \n",
       "\n",
       "     EngagementSurvey  EmpSatisfaction  SpecialProjectsCount  DaysLateLast30  \\\n",
       "0                4.60                5                     0               0   \n",
       "1                4.96                3                     6               0   \n",
       "2                3.02                3                     0               0   \n",
       "3                4.84                5                     0               0   \n",
       "4                5.00                4                     0               0   \n",
       "..                ...              ...                   ...             ...   \n",
       "306              4.07                4                     0               0   \n",
       "307              3.20                2                     0               5   \n",
       "308              4.60                5                     6               0   \n",
       "309              5.00                3                     5               0   \n",
       "310              4.50                5                     0               0   \n",
       "\n",
       "     ...  EmpStatus_1.0  EmpStatus_2.0  EmpStatus_3.0  EmpStatus_4.0  \\\n",
       "0    ...              1              0              0              0   \n",
       "1    ...              0              0              0              0   \n",
       "2    ...              0              0              0              0   \n",
       "3    ...              1              0              0              0   \n",
       "4    ...              0              0              0              0   \n",
       "..   ...            ...            ...            ...            ...   \n",
       "306  ...              1              0              0              0   \n",
       "307  ...              0              0              0              0   \n",
       "308  ...              1              0              0              0   \n",
       "309  ...              1              0              0              0   \n",
       "310  ...              1              0              0              0   \n",
       "\n",
       "     EmpStatus_5.0  maritaldesc_Divorced  maritaldesc_Married  \\\n",
       "0                0                     0                    0   \n",
       "1                1                     0                    1   \n",
       "2                1                     0                    1   \n",
       "3                0                     0                    1   \n",
       "4                1                     1                    0   \n",
       "..             ...                   ...                  ...   \n",
       "306              0                     0                    0   \n",
       "307              1                     0                    0   \n",
       "308              0                     0                    0   \n",
       "309              0                     0                    0   \n",
       "310              0                     0                    0   \n",
       "\n",
       "     maritaldesc_Separated  maritaldesc_Single  maritaldesc_Widowed  \n",
       "0                        0                   1                    0  \n",
       "1                        0                   0                    0  \n",
       "2                        0                   0                    0  \n",
       "3                        0                   0                    0  \n",
       "4                        0                   0                    0  \n",
       "..                     ...                 ...                  ...  \n",
       "306                      0                   1                    0  \n",
       "307                      0                   1                    0  \n",
       "308                      0                   1                    0  \n",
       "309                      0                   1                    0  \n",
       "310                      0                   0                    1  \n",
       "\n",
       "[311 rows x 23 columns]"
      ]
     },
     "execution_count": 331,
     "metadata": {},
     "output_type": "execute_result"
    }
   ],
   "source": [
    "df8 = pd.concat([df7, mardesc], axis=1)\n",
    "df8"
   ]
  },
  {
   "cell_type": "code",
   "execution_count": 332,
   "id": "surrounded-statistics",
   "metadata": {},
   "outputs": [
    {
     "data": {
      "text/html": [
       "<div>\n",
       "<style scoped>\n",
       "    .dataframe tbody tr th:only-of-type {\n",
       "        vertical-align: middle;\n",
       "    }\n",
       "\n",
       "    .dataframe tbody tr th {\n",
       "        vertical-align: top;\n",
       "    }\n",
       "\n",
       "    .dataframe thead th {\n",
       "        text-align: right;\n",
       "    }\n",
       "</style>\n",
       "<table border=\"1\" class=\"dataframe\">\n",
       "  <thead>\n",
       "    <tr style=\"text-align: right;\">\n",
       "      <th></th>\n",
       "      <th>Salary</th>\n",
       "      <th>Termd</th>\n",
       "      <th>Gender</th>\n",
       "      <th>CitizenDesc</th>\n",
       "      <th>PerformanceScore</th>\n",
       "      <th>EngagementSurvey</th>\n",
       "      <th>EmpSatisfaction</th>\n",
       "      <th>SpecialProjectsCount</th>\n",
       "      <th>DaysLateLast30</th>\n",
       "      <th>Absences</th>\n",
       "      <th>...</th>\n",
       "      <th>EmpStatus_1.0</th>\n",
       "      <th>EmpStatus_2.0</th>\n",
       "      <th>EmpStatus_3.0</th>\n",
       "      <th>EmpStatus_4.0</th>\n",
       "      <th>EmpStatus_5.0</th>\n",
       "      <th>maritaldesc_Divorced</th>\n",
       "      <th>maritaldesc_Married</th>\n",
       "      <th>maritaldesc_Separated</th>\n",
       "      <th>maritaldesc_Single</th>\n",
       "      <th>maritaldesc_Widowed</th>\n",
       "    </tr>\n",
       "  </thead>\n",
       "  <tbody>\n",
       "    <tr>\n",
       "      <th>0</th>\n",
       "      <td>62506</td>\n",
       "      <td>0</td>\n",
       "      <td>M</td>\n",
       "      <td>US Citizen</td>\n",
       "      <td>Exceeds</td>\n",
       "      <td>4.60</td>\n",
       "      <td>5</td>\n",
       "      <td>0</td>\n",
       "      <td>0</td>\n",
       "      <td>1</td>\n",
       "      <td>...</td>\n",
       "      <td>1</td>\n",
       "      <td>0</td>\n",
       "      <td>0</td>\n",
       "      <td>0</td>\n",
       "      <td>0</td>\n",
       "      <td>0</td>\n",
       "      <td>0</td>\n",
       "      <td>0</td>\n",
       "      <td>1</td>\n",
       "      <td>0</td>\n",
       "    </tr>\n",
       "    <tr>\n",
       "      <th>1</th>\n",
       "      <td>104437</td>\n",
       "      <td>1</td>\n",
       "      <td>M</td>\n",
       "      <td>US Citizen</td>\n",
       "      <td>Fully Meets</td>\n",
       "      <td>4.96</td>\n",
       "      <td>3</td>\n",
       "      <td>6</td>\n",
       "      <td>0</td>\n",
       "      <td>17</td>\n",
       "      <td>...</td>\n",
       "      <td>0</td>\n",
       "      <td>0</td>\n",
       "      <td>0</td>\n",
       "      <td>0</td>\n",
       "      <td>1</td>\n",
       "      <td>0</td>\n",
       "      <td>1</td>\n",
       "      <td>0</td>\n",
       "      <td>0</td>\n",
       "      <td>0</td>\n",
       "    </tr>\n",
       "    <tr>\n",
       "      <th>2</th>\n",
       "      <td>64955</td>\n",
       "      <td>1</td>\n",
       "      <td>F</td>\n",
       "      <td>US Citizen</td>\n",
       "      <td>Fully Meets</td>\n",
       "      <td>3.02</td>\n",
       "      <td>3</td>\n",
       "      <td>0</td>\n",
       "      <td>0</td>\n",
       "      <td>3</td>\n",
       "      <td>...</td>\n",
       "      <td>0</td>\n",
       "      <td>0</td>\n",
       "      <td>0</td>\n",
       "      <td>0</td>\n",
       "      <td>1</td>\n",
       "      <td>0</td>\n",
       "      <td>1</td>\n",
       "      <td>0</td>\n",
       "      <td>0</td>\n",
       "      <td>0</td>\n",
       "    </tr>\n",
       "    <tr>\n",
       "      <th>3</th>\n",
       "      <td>64991</td>\n",
       "      <td>0</td>\n",
       "      <td>F</td>\n",
       "      <td>US Citizen</td>\n",
       "      <td>Fully Meets</td>\n",
       "      <td>4.84</td>\n",
       "      <td>5</td>\n",
       "      <td>0</td>\n",
       "      <td>0</td>\n",
       "      <td>15</td>\n",
       "      <td>...</td>\n",
       "      <td>1</td>\n",
       "      <td>0</td>\n",
       "      <td>0</td>\n",
       "      <td>0</td>\n",
       "      <td>0</td>\n",
       "      <td>0</td>\n",
       "      <td>1</td>\n",
       "      <td>0</td>\n",
       "      <td>0</td>\n",
       "      <td>0</td>\n",
       "    </tr>\n",
       "    <tr>\n",
       "      <th>4</th>\n",
       "      <td>50825</td>\n",
       "      <td>1</td>\n",
       "      <td>F</td>\n",
       "      <td>US Citizen</td>\n",
       "      <td>Fully Meets</td>\n",
       "      <td>5.00</td>\n",
       "      <td>4</td>\n",
       "      <td>0</td>\n",
       "      <td>0</td>\n",
       "      <td>2</td>\n",
       "      <td>...</td>\n",
       "      <td>0</td>\n",
       "      <td>0</td>\n",
       "      <td>0</td>\n",
       "      <td>0</td>\n",
       "      <td>1</td>\n",
       "      <td>1</td>\n",
       "      <td>0</td>\n",
       "      <td>0</td>\n",
       "      <td>0</td>\n",
       "      <td>0</td>\n",
       "    </tr>\n",
       "    <tr>\n",
       "      <th>...</th>\n",
       "      <td>...</td>\n",
       "      <td>...</td>\n",
       "      <td>...</td>\n",
       "      <td>...</td>\n",
       "      <td>...</td>\n",
       "      <td>...</td>\n",
       "      <td>...</td>\n",
       "      <td>...</td>\n",
       "      <td>...</td>\n",
       "      <td>...</td>\n",
       "      <td>...</td>\n",
       "      <td>...</td>\n",
       "      <td>...</td>\n",
       "      <td>...</td>\n",
       "      <td>...</td>\n",
       "      <td>...</td>\n",
       "      <td>...</td>\n",
       "      <td>...</td>\n",
       "      <td>...</td>\n",
       "      <td>...</td>\n",
       "      <td>...</td>\n",
       "    </tr>\n",
       "    <tr>\n",
       "      <th>306</th>\n",
       "      <td>65893</td>\n",
       "      <td>0</td>\n",
       "      <td>M</td>\n",
       "      <td>US Citizen</td>\n",
       "      <td>Fully Meets</td>\n",
       "      <td>4.07</td>\n",
       "      <td>4</td>\n",
       "      <td>0</td>\n",
       "      <td>0</td>\n",
       "      <td>13</td>\n",
       "      <td>...</td>\n",
       "      <td>1</td>\n",
       "      <td>0</td>\n",
       "      <td>0</td>\n",
       "      <td>0</td>\n",
       "      <td>0</td>\n",
       "      <td>0</td>\n",
       "      <td>0</td>\n",
       "      <td>0</td>\n",
       "      <td>1</td>\n",
       "      <td>0</td>\n",
       "    </tr>\n",
       "    <tr>\n",
       "      <th>307</th>\n",
       "      <td>48513</td>\n",
       "      <td>1</td>\n",
       "      <td>F</td>\n",
       "      <td>US Citizen</td>\n",
       "      <td>PIP</td>\n",
       "      <td>3.20</td>\n",
       "      <td>2</td>\n",
       "      <td>0</td>\n",
       "      <td>5</td>\n",
       "      <td>4</td>\n",
       "      <td>...</td>\n",
       "      <td>0</td>\n",
       "      <td>0</td>\n",
       "      <td>0</td>\n",
       "      <td>0</td>\n",
       "      <td>1</td>\n",
       "      <td>0</td>\n",
       "      <td>0</td>\n",
       "      <td>0</td>\n",
       "      <td>1</td>\n",
       "      <td>0</td>\n",
       "    </tr>\n",
       "    <tr>\n",
       "      <th>308</th>\n",
       "      <td>220450</td>\n",
       "      <td>0</td>\n",
       "      <td>F</td>\n",
       "      <td>US Citizen</td>\n",
       "      <td>Exceeds</td>\n",
       "      <td>4.60</td>\n",
       "      <td>5</td>\n",
       "      <td>6</td>\n",
       "      <td>0</td>\n",
       "      <td>16</td>\n",
       "      <td>...</td>\n",
       "      <td>1</td>\n",
       "      <td>0</td>\n",
       "      <td>0</td>\n",
       "      <td>0</td>\n",
       "      <td>0</td>\n",
       "      <td>0</td>\n",
       "      <td>0</td>\n",
       "      <td>0</td>\n",
       "      <td>1</td>\n",
       "      <td>0</td>\n",
       "    </tr>\n",
       "    <tr>\n",
       "      <th>309</th>\n",
       "      <td>89292</td>\n",
       "      <td>0</td>\n",
       "      <td>F</td>\n",
       "      <td>US Citizen</td>\n",
       "      <td>Fully Meets</td>\n",
       "      <td>5.00</td>\n",
       "      <td>3</td>\n",
       "      <td>5</td>\n",
       "      <td>0</td>\n",
       "      <td>11</td>\n",
       "      <td>...</td>\n",
       "      <td>1</td>\n",
       "      <td>0</td>\n",
       "      <td>0</td>\n",
       "      <td>0</td>\n",
       "      <td>0</td>\n",
       "      <td>0</td>\n",
       "      <td>0</td>\n",
       "      <td>0</td>\n",
       "      <td>1</td>\n",
       "      <td>0</td>\n",
       "    </tr>\n",
       "    <tr>\n",
       "      <th>310</th>\n",
       "      <td>45046</td>\n",
       "      <td>0</td>\n",
       "      <td>F</td>\n",
       "      <td>US Citizen</td>\n",
       "      <td>Fully Meets</td>\n",
       "      <td>4.50</td>\n",
       "      <td>5</td>\n",
       "      <td>0</td>\n",
       "      <td>0</td>\n",
       "      <td>2</td>\n",
       "      <td>...</td>\n",
       "      <td>1</td>\n",
       "      <td>0</td>\n",
       "      <td>0</td>\n",
       "      <td>0</td>\n",
       "      <td>0</td>\n",
       "      <td>0</td>\n",
       "      <td>0</td>\n",
       "      <td>0</td>\n",
       "      <td>0</td>\n",
       "      <td>1</td>\n",
       "    </tr>\n",
       "  </tbody>\n",
       "</table>\n",
       "<p>311 rows × 22 columns</p>\n",
       "</div>"
      ],
      "text/plain": [
       "     Salary  Termd Gender CitizenDesc PerformanceScore  EngagementSurvey  \\\n",
       "0     62506      0      M  US Citizen          Exceeds              4.60   \n",
       "1    104437      1      M  US Citizen      Fully Meets              4.96   \n",
       "2     64955      1      F  US Citizen      Fully Meets              3.02   \n",
       "3     64991      0      F  US Citizen      Fully Meets              4.84   \n",
       "4     50825      1      F  US Citizen      Fully Meets              5.00   \n",
       "..      ...    ...    ...         ...              ...               ...   \n",
       "306   65893      0      M  US Citizen      Fully Meets              4.07   \n",
       "307   48513      1      F  US Citizen              PIP              3.20   \n",
       "308  220450      0      F  US Citizen          Exceeds              4.60   \n",
       "309   89292      0      F  US Citizen      Fully Meets              5.00   \n",
       "310   45046      0      F  US Citizen      Fully Meets              4.50   \n",
       "\n",
       "     EmpSatisfaction  SpecialProjectsCount  DaysLateLast30  Absences  ...  \\\n",
       "0                  5                     0               0         1  ...   \n",
       "1                  3                     6               0        17  ...   \n",
       "2                  3                     0               0         3  ...   \n",
       "3                  5                     0               0        15  ...   \n",
       "4                  4                     0               0         2  ...   \n",
       "..               ...                   ...             ...       ...  ...   \n",
       "306                4                     0               0        13  ...   \n",
       "307                2                     0               5         4  ...   \n",
       "308                5                     6               0        16  ...   \n",
       "309                3                     5               0        11  ...   \n",
       "310                5                     0               0         2  ...   \n",
       "\n",
       "     EmpStatus_1.0  EmpStatus_2.0  EmpStatus_3.0  EmpStatus_4.0  \\\n",
       "0                1              0              0              0   \n",
       "1                0              0              0              0   \n",
       "2                0              0              0              0   \n",
       "3                1              0              0              0   \n",
       "4                0              0              0              0   \n",
       "..             ...            ...            ...            ...   \n",
       "306              1              0              0              0   \n",
       "307              0              0              0              0   \n",
       "308              1              0              0              0   \n",
       "309              1              0              0              0   \n",
       "310              1              0              0              0   \n",
       "\n",
       "     EmpStatus_5.0  maritaldesc_Divorced  maritaldesc_Married  \\\n",
       "0                0                     0                    0   \n",
       "1                1                     0                    1   \n",
       "2                1                     0                    1   \n",
       "3                0                     0                    1   \n",
       "4                1                     1                    0   \n",
       "..             ...                   ...                  ...   \n",
       "306              0                     0                    0   \n",
       "307              1                     0                    0   \n",
       "308              0                     0                    0   \n",
       "309              0                     0                    0   \n",
       "310              0                     0                    0   \n",
       "\n",
       "     maritaldesc_Separated  maritaldesc_Single  maritaldesc_Widowed  \n",
       "0                        0                   1                    0  \n",
       "1                        0                   0                    0  \n",
       "2                        0                   0                    0  \n",
       "3                        0                   0                    0  \n",
       "4                        0                   0                    0  \n",
       "..                     ...                 ...                  ...  \n",
       "306                      0                   1                    0  \n",
       "307                      0                   1                    0  \n",
       "308                      0                   1                    0  \n",
       "309                      0                   1                    0  \n",
       "310                      0                   0                    1  \n",
       "\n",
       "[311 rows x 22 columns]"
      ]
     },
     "execution_count": 332,
     "metadata": {},
     "output_type": "execute_result"
    }
   ],
   "source": [
    "df8.drop(['MaritalDesc'], axis=1)"
   ]
  },
  {
   "cell_type": "markdown",
   "id": "alive-therapy",
   "metadata": {},
   "source": [
    "##Question 23 - What would be the best feature transformation for the column MaritalDesc? Apply the proper transformation to the dataset\n",
    "- Mapt he values to 0 to 4\n",
    "- Replace it with a one-hot-vector of length 5\n",
    "- Replace it with a one-hot-vector of length 5, then drop off the columns\n",
    "- No feature transformation is needed for this column"
   ]
  },
  {
   "cell_type": "code",
   "execution_count": 333,
   "id": "unlimited-supply",
   "metadata": {},
   "outputs": [
    {
     "data": {
      "text/plain": [
       "US Citizen             295\n",
       "Eligible NonCitizen     12\n",
       "Non-Citizen              4\n",
       "Name: CitizenDesc, dtype: int64"
      ]
     },
     "execution_count": 333,
     "metadata": {},
     "output_type": "execute_result"
    }
   ],
   "source": [
    "df8['CitizenDesc'].value_counts()"
   ]
  },
  {
   "cell_type": "code",
   "execution_count": 334,
   "id": "handled-costume",
   "metadata": {},
   "outputs": [
    {
     "data": {
      "text/html": [
       "<div>\n",
       "<style scoped>\n",
       "    .dataframe tbody tr th:only-of-type {\n",
       "        vertical-align: middle;\n",
       "    }\n",
       "\n",
       "    .dataframe tbody tr th {\n",
       "        vertical-align: top;\n",
       "    }\n",
       "\n",
       "    .dataframe thead th {\n",
       "        text-align: right;\n",
       "    }\n",
       "</style>\n",
       "<table border=\"1\" class=\"dataframe\">\n",
       "  <thead>\n",
       "    <tr style=\"text-align: right;\">\n",
       "      <th></th>\n",
       "      <th>CitizenDesc_Eligible NonCitizen</th>\n",
       "      <th>CitizenDesc_Non-Citizen</th>\n",
       "      <th>CitizenDesc_US Citizen</th>\n",
       "    </tr>\n",
       "  </thead>\n",
       "  <tbody>\n",
       "    <tr>\n",
       "      <th>0</th>\n",
       "      <td>0</td>\n",
       "      <td>0</td>\n",
       "      <td>1</td>\n",
       "    </tr>\n",
       "    <tr>\n",
       "      <th>1</th>\n",
       "      <td>0</td>\n",
       "      <td>0</td>\n",
       "      <td>1</td>\n",
       "    </tr>\n",
       "    <tr>\n",
       "      <th>2</th>\n",
       "      <td>0</td>\n",
       "      <td>0</td>\n",
       "      <td>1</td>\n",
       "    </tr>\n",
       "    <tr>\n",
       "      <th>3</th>\n",
       "      <td>0</td>\n",
       "      <td>0</td>\n",
       "      <td>1</td>\n",
       "    </tr>\n",
       "    <tr>\n",
       "      <th>4</th>\n",
       "      <td>0</td>\n",
       "      <td>0</td>\n",
       "      <td>1</td>\n",
       "    </tr>\n",
       "    <tr>\n",
       "      <th>...</th>\n",
       "      <td>...</td>\n",
       "      <td>...</td>\n",
       "      <td>...</td>\n",
       "    </tr>\n",
       "    <tr>\n",
       "      <th>306</th>\n",
       "      <td>0</td>\n",
       "      <td>0</td>\n",
       "      <td>1</td>\n",
       "    </tr>\n",
       "    <tr>\n",
       "      <th>307</th>\n",
       "      <td>0</td>\n",
       "      <td>0</td>\n",
       "      <td>1</td>\n",
       "    </tr>\n",
       "    <tr>\n",
       "      <th>308</th>\n",
       "      <td>0</td>\n",
       "      <td>0</td>\n",
       "      <td>1</td>\n",
       "    </tr>\n",
       "    <tr>\n",
       "      <th>309</th>\n",
       "      <td>0</td>\n",
       "      <td>0</td>\n",
       "      <td>1</td>\n",
       "    </tr>\n",
       "    <tr>\n",
       "      <th>310</th>\n",
       "      <td>0</td>\n",
       "      <td>0</td>\n",
       "      <td>1</td>\n",
       "    </tr>\n",
       "  </tbody>\n",
       "</table>\n",
       "<p>311 rows × 3 columns</p>\n",
       "</div>"
      ],
      "text/plain": [
       "     CitizenDesc_Eligible NonCitizen  CitizenDesc_Non-Citizen  \\\n",
       "0                                  0                        0   \n",
       "1                                  0                        0   \n",
       "2                                  0                        0   \n",
       "3                                  0                        0   \n",
       "4                                  0                        0   \n",
       "..                               ...                      ...   \n",
       "306                                0                        0   \n",
       "307                                0                        0   \n",
       "308                                0                        0   \n",
       "309                                0                        0   \n",
       "310                                0                        0   \n",
       "\n",
       "     CitizenDesc_US Citizen  \n",
       "0                         1  \n",
       "1                         1  \n",
       "2                         1  \n",
       "3                         1  \n",
       "4                         1  \n",
       "..                      ...  \n",
       "306                       1  \n",
       "307                       1  \n",
       "308                       1  \n",
       "309                       1  \n",
       "310                       1  \n",
       "\n",
       "[311 rows x 3 columns]"
      ]
     },
     "execution_count": 334,
     "metadata": {},
     "output_type": "execute_result"
    }
   ],
   "source": [
    "citz = pd.get_dummies(df8['CitizenDesc'], prefix=\"CitizenDesc\")\n",
    "citz"
   ]
  },
  {
   "cell_type": "code",
   "execution_count": 335,
   "id": "cordless-words",
   "metadata": {},
   "outputs": [
    {
     "data": {
      "text/html": [
       "<div>\n",
       "<style scoped>\n",
       "    .dataframe tbody tr th:only-of-type {\n",
       "        vertical-align: middle;\n",
       "    }\n",
       "\n",
       "    .dataframe tbody tr th {\n",
       "        vertical-align: top;\n",
       "    }\n",
       "\n",
       "    .dataframe thead th {\n",
       "        text-align: right;\n",
       "    }\n",
       "</style>\n",
       "<table border=\"1\" class=\"dataframe\">\n",
       "  <thead>\n",
       "    <tr style=\"text-align: right;\">\n",
       "      <th></th>\n",
       "      <th>Salary</th>\n",
       "      <th>Termd</th>\n",
       "      <th>Gender</th>\n",
       "      <th>MaritalDesc</th>\n",
       "      <th>CitizenDesc</th>\n",
       "      <th>PerformanceScore</th>\n",
       "      <th>EngagementSurvey</th>\n",
       "      <th>EmpSatisfaction</th>\n",
       "      <th>SpecialProjectsCount</th>\n",
       "      <th>DaysLateLast30</th>\n",
       "      <th>...</th>\n",
       "      <th>EmpStatus_4.0</th>\n",
       "      <th>EmpStatus_5.0</th>\n",
       "      <th>maritaldesc_Divorced</th>\n",
       "      <th>maritaldesc_Married</th>\n",
       "      <th>maritaldesc_Separated</th>\n",
       "      <th>maritaldesc_Single</th>\n",
       "      <th>maritaldesc_Widowed</th>\n",
       "      <th>CitizenDesc_Eligible NonCitizen</th>\n",
       "      <th>CitizenDesc_Non-Citizen</th>\n",
       "      <th>CitizenDesc_US Citizen</th>\n",
       "    </tr>\n",
       "  </thead>\n",
       "  <tbody>\n",
       "    <tr>\n",
       "      <th>0</th>\n",
       "      <td>62506</td>\n",
       "      <td>0</td>\n",
       "      <td>M</td>\n",
       "      <td>Single</td>\n",
       "      <td>US Citizen</td>\n",
       "      <td>Exceeds</td>\n",
       "      <td>4.60</td>\n",
       "      <td>5</td>\n",
       "      <td>0</td>\n",
       "      <td>0</td>\n",
       "      <td>...</td>\n",
       "      <td>0</td>\n",
       "      <td>0</td>\n",
       "      <td>0</td>\n",
       "      <td>0</td>\n",
       "      <td>0</td>\n",
       "      <td>1</td>\n",
       "      <td>0</td>\n",
       "      <td>0</td>\n",
       "      <td>0</td>\n",
       "      <td>1</td>\n",
       "    </tr>\n",
       "    <tr>\n",
       "      <th>1</th>\n",
       "      <td>104437</td>\n",
       "      <td>1</td>\n",
       "      <td>M</td>\n",
       "      <td>Married</td>\n",
       "      <td>US Citizen</td>\n",
       "      <td>Fully Meets</td>\n",
       "      <td>4.96</td>\n",
       "      <td>3</td>\n",
       "      <td>6</td>\n",
       "      <td>0</td>\n",
       "      <td>...</td>\n",
       "      <td>0</td>\n",
       "      <td>1</td>\n",
       "      <td>0</td>\n",
       "      <td>1</td>\n",
       "      <td>0</td>\n",
       "      <td>0</td>\n",
       "      <td>0</td>\n",
       "      <td>0</td>\n",
       "      <td>0</td>\n",
       "      <td>1</td>\n",
       "    </tr>\n",
       "    <tr>\n",
       "      <th>2</th>\n",
       "      <td>64955</td>\n",
       "      <td>1</td>\n",
       "      <td>F</td>\n",
       "      <td>Married</td>\n",
       "      <td>US Citizen</td>\n",
       "      <td>Fully Meets</td>\n",
       "      <td>3.02</td>\n",
       "      <td>3</td>\n",
       "      <td>0</td>\n",
       "      <td>0</td>\n",
       "      <td>...</td>\n",
       "      <td>0</td>\n",
       "      <td>1</td>\n",
       "      <td>0</td>\n",
       "      <td>1</td>\n",
       "      <td>0</td>\n",
       "      <td>0</td>\n",
       "      <td>0</td>\n",
       "      <td>0</td>\n",
       "      <td>0</td>\n",
       "      <td>1</td>\n",
       "    </tr>\n",
       "    <tr>\n",
       "      <th>3</th>\n",
       "      <td>64991</td>\n",
       "      <td>0</td>\n",
       "      <td>F</td>\n",
       "      <td>Married</td>\n",
       "      <td>US Citizen</td>\n",
       "      <td>Fully Meets</td>\n",
       "      <td>4.84</td>\n",
       "      <td>5</td>\n",
       "      <td>0</td>\n",
       "      <td>0</td>\n",
       "      <td>...</td>\n",
       "      <td>0</td>\n",
       "      <td>0</td>\n",
       "      <td>0</td>\n",
       "      <td>1</td>\n",
       "      <td>0</td>\n",
       "      <td>0</td>\n",
       "      <td>0</td>\n",
       "      <td>0</td>\n",
       "      <td>0</td>\n",
       "      <td>1</td>\n",
       "    </tr>\n",
       "    <tr>\n",
       "      <th>4</th>\n",
       "      <td>50825</td>\n",
       "      <td>1</td>\n",
       "      <td>F</td>\n",
       "      <td>Divorced</td>\n",
       "      <td>US Citizen</td>\n",
       "      <td>Fully Meets</td>\n",
       "      <td>5.00</td>\n",
       "      <td>4</td>\n",
       "      <td>0</td>\n",
       "      <td>0</td>\n",
       "      <td>...</td>\n",
       "      <td>0</td>\n",
       "      <td>1</td>\n",
       "      <td>1</td>\n",
       "      <td>0</td>\n",
       "      <td>0</td>\n",
       "      <td>0</td>\n",
       "      <td>0</td>\n",
       "      <td>0</td>\n",
       "      <td>0</td>\n",
       "      <td>1</td>\n",
       "    </tr>\n",
       "    <tr>\n",
       "      <th>...</th>\n",
       "      <td>...</td>\n",
       "      <td>...</td>\n",
       "      <td>...</td>\n",
       "      <td>...</td>\n",
       "      <td>...</td>\n",
       "      <td>...</td>\n",
       "      <td>...</td>\n",
       "      <td>...</td>\n",
       "      <td>...</td>\n",
       "      <td>...</td>\n",
       "      <td>...</td>\n",
       "      <td>...</td>\n",
       "      <td>...</td>\n",
       "      <td>...</td>\n",
       "      <td>...</td>\n",
       "      <td>...</td>\n",
       "      <td>...</td>\n",
       "      <td>...</td>\n",
       "      <td>...</td>\n",
       "      <td>...</td>\n",
       "      <td>...</td>\n",
       "    </tr>\n",
       "    <tr>\n",
       "      <th>306</th>\n",
       "      <td>65893</td>\n",
       "      <td>0</td>\n",
       "      <td>M</td>\n",
       "      <td>Single</td>\n",
       "      <td>US Citizen</td>\n",
       "      <td>Fully Meets</td>\n",
       "      <td>4.07</td>\n",
       "      <td>4</td>\n",
       "      <td>0</td>\n",
       "      <td>0</td>\n",
       "      <td>...</td>\n",
       "      <td>0</td>\n",
       "      <td>0</td>\n",
       "      <td>0</td>\n",
       "      <td>0</td>\n",
       "      <td>0</td>\n",
       "      <td>1</td>\n",
       "      <td>0</td>\n",
       "      <td>0</td>\n",
       "      <td>0</td>\n",
       "      <td>1</td>\n",
       "    </tr>\n",
       "    <tr>\n",
       "      <th>307</th>\n",
       "      <td>48513</td>\n",
       "      <td>1</td>\n",
       "      <td>F</td>\n",
       "      <td>Single</td>\n",
       "      <td>US Citizen</td>\n",
       "      <td>PIP</td>\n",
       "      <td>3.20</td>\n",
       "      <td>2</td>\n",
       "      <td>0</td>\n",
       "      <td>5</td>\n",
       "      <td>...</td>\n",
       "      <td>0</td>\n",
       "      <td>1</td>\n",
       "      <td>0</td>\n",
       "      <td>0</td>\n",
       "      <td>0</td>\n",
       "      <td>1</td>\n",
       "      <td>0</td>\n",
       "      <td>0</td>\n",
       "      <td>0</td>\n",
       "      <td>1</td>\n",
       "    </tr>\n",
       "    <tr>\n",
       "      <th>308</th>\n",
       "      <td>220450</td>\n",
       "      <td>0</td>\n",
       "      <td>F</td>\n",
       "      <td>Single</td>\n",
       "      <td>US Citizen</td>\n",
       "      <td>Exceeds</td>\n",
       "      <td>4.60</td>\n",
       "      <td>5</td>\n",
       "      <td>6</td>\n",
       "      <td>0</td>\n",
       "      <td>...</td>\n",
       "      <td>0</td>\n",
       "      <td>0</td>\n",
       "      <td>0</td>\n",
       "      <td>0</td>\n",
       "      <td>0</td>\n",
       "      <td>1</td>\n",
       "      <td>0</td>\n",
       "      <td>0</td>\n",
       "      <td>0</td>\n",
       "      <td>1</td>\n",
       "    </tr>\n",
       "    <tr>\n",
       "      <th>309</th>\n",
       "      <td>89292</td>\n",
       "      <td>0</td>\n",
       "      <td>F</td>\n",
       "      <td>Single</td>\n",
       "      <td>US Citizen</td>\n",
       "      <td>Fully Meets</td>\n",
       "      <td>5.00</td>\n",
       "      <td>3</td>\n",
       "      <td>5</td>\n",
       "      <td>0</td>\n",
       "      <td>...</td>\n",
       "      <td>0</td>\n",
       "      <td>0</td>\n",
       "      <td>0</td>\n",
       "      <td>0</td>\n",
       "      <td>0</td>\n",
       "      <td>1</td>\n",
       "      <td>0</td>\n",
       "      <td>0</td>\n",
       "      <td>0</td>\n",
       "      <td>1</td>\n",
       "    </tr>\n",
       "    <tr>\n",
       "      <th>310</th>\n",
       "      <td>45046</td>\n",
       "      <td>0</td>\n",
       "      <td>F</td>\n",
       "      <td>Widowed</td>\n",
       "      <td>US Citizen</td>\n",
       "      <td>Fully Meets</td>\n",
       "      <td>4.50</td>\n",
       "      <td>5</td>\n",
       "      <td>0</td>\n",
       "      <td>0</td>\n",
       "      <td>...</td>\n",
       "      <td>0</td>\n",
       "      <td>0</td>\n",
       "      <td>0</td>\n",
       "      <td>0</td>\n",
       "      <td>0</td>\n",
       "      <td>0</td>\n",
       "      <td>1</td>\n",
       "      <td>0</td>\n",
       "      <td>0</td>\n",
       "      <td>1</td>\n",
       "    </tr>\n",
       "  </tbody>\n",
       "</table>\n",
       "<p>311 rows × 26 columns</p>\n",
       "</div>"
      ],
      "text/plain": [
       "     Salary  Termd Gender MaritalDesc CitizenDesc PerformanceScore  \\\n",
       "0     62506      0      M      Single  US Citizen          Exceeds   \n",
       "1    104437      1      M     Married  US Citizen      Fully Meets   \n",
       "2     64955      1      F     Married  US Citizen      Fully Meets   \n",
       "3     64991      0      F     Married  US Citizen      Fully Meets   \n",
       "4     50825      1      F    Divorced  US Citizen      Fully Meets   \n",
       "..      ...    ...    ...         ...         ...              ...   \n",
       "306   65893      0      M      Single  US Citizen      Fully Meets   \n",
       "307   48513      1      F      Single  US Citizen              PIP   \n",
       "308  220450      0      F      Single  US Citizen          Exceeds   \n",
       "309   89292      0      F      Single  US Citizen      Fully Meets   \n",
       "310   45046      0      F     Widowed  US Citizen      Fully Meets   \n",
       "\n",
       "     EngagementSurvey  EmpSatisfaction  SpecialProjectsCount  DaysLateLast30  \\\n",
       "0                4.60                5                     0               0   \n",
       "1                4.96                3                     6               0   \n",
       "2                3.02                3                     0               0   \n",
       "3                4.84                5                     0               0   \n",
       "4                5.00                4                     0               0   \n",
       "..                ...              ...                   ...             ...   \n",
       "306              4.07                4                     0               0   \n",
       "307              3.20                2                     0               5   \n",
       "308              4.60                5                     6               0   \n",
       "309              5.00                3                     5               0   \n",
       "310              4.50                5                     0               0   \n",
       "\n",
       "     ...  EmpStatus_4.0  EmpStatus_5.0  maritaldesc_Divorced  \\\n",
       "0    ...              0              0                     0   \n",
       "1    ...              0              1                     0   \n",
       "2    ...              0              1                     0   \n",
       "3    ...              0              0                     0   \n",
       "4    ...              0              1                     1   \n",
       "..   ...            ...            ...                   ...   \n",
       "306  ...              0              0                     0   \n",
       "307  ...              0              1                     0   \n",
       "308  ...              0              0                     0   \n",
       "309  ...              0              0                     0   \n",
       "310  ...              0              0                     0   \n",
       "\n",
       "     maritaldesc_Married  maritaldesc_Separated  maritaldesc_Single  \\\n",
       "0                      0                      0                   1   \n",
       "1                      1                      0                   0   \n",
       "2                      1                      0                   0   \n",
       "3                      1                      0                   0   \n",
       "4                      0                      0                   0   \n",
       "..                   ...                    ...                 ...   \n",
       "306                    0                      0                   1   \n",
       "307                    0                      0                   1   \n",
       "308                    0                      0                   1   \n",
       "309                    0                      0                   1   \n",
       "310                    0                      0                   0   \n",
       "\n",
       "     maritaldesc_Widowed  CitizenDesc_Eligible NonCitizen  \\\n",
       "0                      0                                0   \n",
       "1                      0                                0   \n",
       "2                      0                                0   \n",
       "3                      0                                0   \n",
       "4                      0                                0   \n",
       "..                   ...                              ...   \n",
       "306                    0                                0   \n",
       "307                    0                                0   \n",
       "308                    0                                0   \n",
       "309                    0                                0   \n",
       "310                    1                                0   \n",
       "\n",
       "     CitizenDesc_Non-Citizen  CitizenDesc_US Citizen  \n",
       "0                          0                       1  \n",
       "1                          0                       1  \n",
       "2                          0                       1  \n",
       "3                          0                       1  \n",
       "4                          0                       1  \n",
       "..                       ...                     ...  \n",
       "306                        0                       1  \n",
       "307                        0                       1  \n",
       "308                        0                       1  \n",
       "309                        0                       1  \n",
       "310                        0                       1  \n",
       "\n",
       "[311 rows x 26 columns]"
      ]
     },
     "execution_count": 335,
     "metadata": {},
     "output_type": "execute_result"
    }
   ],
   "source": [
    "df8 = pd.concat([df8, citz], axis=1)\n",
    "df8"
   ]
  },
  {
   "cell_type": "code",
   "execution_count": 336,
   "id": "sitting-demand",
   "metadata": {},
   "outputs": [],
   "source": [
    "#df8.drop(['CitizenDesc'], axis=1)\n",
    "df9 = df8.drop(['MaritalDesc', 'CitizenDesc'], axis=1)"
   ]
  },
  {
   "cell_type": "markdown",
   "id": "packed-clinic",
   "metadata": {},
   "source": [
    "##Question 25 - What would be the best feature transformation for the column PerformanceScore? Apply the proper transformation on the dataset.\n",
    "- Map the values using the dictionary: {\"Exceeds\": 3, \"Fully Meets\": 2, \"Needs Improvement\":1, \"PIP\":0}\n",
    "- Map the values using the dictionary: {\"Fully Meets\": 3, \"Exceeds\":2, \"Needs Improvement\":1, \"PIP\":0}\n",
    "- Replace it with a one-hot-vector of length 4\n",
    "- Replace it with a one-hot-vector of length 4, then drop off the columns\n",
    "- No feature transformation is needed for this column"
   ]
  },
  {
   "cell_type": "code",
   "execution_count": 337,
   "id": "flying-peter",
   "metadata": {},
   "outputs": [
    {
     "data": {
      "text/plain": [
       "Fully Meets          243\n",
       "Exceeds               37\n",
       "Needs Improvement     18\n",
       "PIP                   13\n",
       "Name: PerformanceScore, dtype: int64"
      ]
     },
     "execution_count": 337,
     "metadata": {},
     "output_type": "execute_result"
    }
   ],
   "source": [
    "df9['PerformanceScore'].value_counts()"
   ]
  },
  {
   "cell_type": "code",
   "execution_count": 338,
   "id": "eleven-closure",
   "metadata": {},
   "outputs": [
    {
     "data": {
      "text/plain": [
       "{'PerformanceScore': {'Exceeds': 3,\n",
       "  'Fully Meets': 2,\n",
       "  'Needs Improvement': 1,\n",
       "  'PIP': 0}}"
      ]
     },
     "execution_count": 338,
     "metadata": {},
     "output_type": "execute_result"
    }
   ],
   "source": [
    "perf = {\"PerformanceScore\": {\"Exceeds\": 3, \"Fully Meets\": 2, \"Needs Improvement\": 1, \"PIP\": 0}}\n",
    "perf"
   ]
  },
  {
   "cell_type": "code",
   "execution_count": 339,
   "id": "direct-think",
   "metadata": {},
   "outputs": [
    {
     "data": {
      "text/html": [
       "<div>\n",
       "<style scoped>\n",
       "    .dataframe tbody tr th:only-of-type {\n",
       "        vertical-align: middle;\n",
       "    }\n",
       "\n",
       "    .dataframe tbody tr th {\n",
       "        vertical-align: top;\n",
       "    }\n",
       "\n",
       "    .dataframe thead th {\n",
       "        text-align: right;\n",
       "    }\n",
       "</style>\n",
       "<table border=\"1\" class=\"dataframe\">\n",
       "  <thead>\n",
       "    <tr style=\"text-align: right;\">\n",
       "      <th></th>\n",
       "      <th>Salary</th>\n",
       "      <th>Termd</th>\n",
       "      <th>Gender</th>\n",
       "      <th>PerformanceScore</th>\n",
       "      <th>EngagementSurvey</th>\n",
       "      <th>EmpSatisfaction</th>\n",
       "      <th>SpecialProjectsCount</th>\n",
       "      <th>DaysLateLast30</th>\n",
       "      <th>Absences</th>\n",
       "      <th>Years of Tenure</th>\n",
       "      <th>...</th>\n",
       "      <th>EmpStatus_4.0</th>\n",
       "      <th>EmpStatus_5.0</th>\n",
       "      <th>maritaldesc_Divorced</th>\n",
       "      <th>maritaldesc_Married</th>\n",
       "      <th>maritaldesc_Separated</th>\n",
       "      <th>maritaldesc_Single</th>\n",
       "      <th>maritaldesc_Widowed</th>\n",
       "      <th>CitizenDesc_Eligible NonCitizen</th>\n",
       "      <th>CitizenDesc_Non-Citizen</th>\n",
       "      <th>CitizenDesc_US Citizen</th>\n",
       "    </tr>\n",
       "  </thead>\n",
       "  <tbody>\n",
       "    <tr>\n",
       "      <th>0</th>\n",
       "      <td>62506</td>\n",
       "      <td>0</td>\n",
       "      <td>M</td>\n",
       "      <td>3</td>\n",
       "      <td>4.60</td>\n",
       "      <td>5</td>\n",
       "      <td>0</td>\n",
       "      <td>0</td>\n",
       "      <td>1</td>\n",
       "      <td>11</td>\n",
       "      <td>...</td>\n",
       "      <td>0</td>\n",
       "      <td>0</td>\n",
       "      <td>0</td>\n",
       "      <td>0</td>\n",
       "      <td>0</td>\n",
       "      <td>1</td>\n",
       "      <td>0</td>\n",
       "      <td>0</td>\n",
       "      <td>0</td>\n",
       "      <td>1</td>\n",
       "    </tr>\n",
       "    <tr>\n",
       "      <th>1</th>\n",
       "      <td>104437</td>\n",
       "      <td>1</td>\n",
       "      <td>M</td>\n",
       "      <td>2</td>\n",
       "      <td>4.96</td>\n",
       "      <td>3</td>\n",
       "      <td>6</td>\n",
       "      <td>0</td>\n",
       "      <td>17</td>\n",
       "      <td>1</td>\n",
       "      <td>...</td>\n",
       "      <td>0</td>\n",
       "      <td>1</td>\n",
       "      <td>0</td>\n",
       "      <td>1</td>\n",
       "      <td>0</td>\n",
       "      <td>0</td>\n",
       "      <td>0</td>\n",
       "      <td>0</td>\n",
       "      <td>0</td>\n",
       "      <td>1</td>\n",
       "    </tr>\n",
       "    <tr>\n",
       "      <th>2</th>\n",
       "      <td>64955</td>\n",
       "      <td>1</td>\n",
       "      <td>F</td>\n",
       "      <td>2</td>\n",
       "      <td>3.02</td>\n",
       "      <td>3</td>\n",
       "      <td>0</td>\n",
       "      <td>0</td>\n",
       "      <td>3</td>\n",
       "      <td>1</td>\n",
       "      <td>...</td>\n",
       "      <td>0</td>\n",
       "      <td>1</td>\n",
       "      <td>0</td>\n",
       "      <td>1</td>\n",
       "      <td>0</td>\n",
       "      <td>0</td>\n",
       "      <td>0</td>\n",
       "      <td>0</td>\n",
       "      <td>0</td>\n",
       "      <td>1</td>\n",
       "    </tr>\n",
       "    <tr>\n",
       "      <th>3</th>\n",
       "      <td>64991</td>\n",
       "      <td>0</td>\n",
       "      <td>F</td>\n",
       "      <td>2</td>\n",
       "      <td>4.84</td>\n",
       "      <td>5</td>\n",
       "      <td>0</td>\n",
       "      <td>0</td>\n",
       "      <td>15</td>\n",
       "      <td>14</td>\n",
       "      <td>...</td>\n",
       "      <td>0</td>\n",
       "      <td>0</td>\n",
       "      <td>0</td>\n",
       "      <td>1</td>\n",
       "      <td>0</td>\n",
       "      <td>0</td>\n",
       "      <td>0</td>\n",
       "      <td>0</td>\n",
       "      <td>0</td>\n",
       "      <td>1</td>\n",
       "    </tr>\n",
       "    <tr>\n",
       "      <th>4</th>\n",
       "      <td>50825</td>\n",
       "      <td>1</td>\n",
       "      <td>F</td>\n",
       "      <td>2</td>\n",
       "      <td>5.00</td>\n",
       "      <td>4</td>\n",
       "      <td>0</td>\n",
       "      <td>0</td>\n",
       "      <td>2</td>\n",
       "      <td>5</td>\n",
       "      <td>...</td>\n",
       "      <td>0</td>\n",
       "      <td>1</td>\n",
       "      <td>1</td>\n",
       "      <td>0</td>\n",
       "      <td>0</td>\n",
       "      <td>0</td>\n",
       "      <td>0</td>\n",
       "      <td>0</td>\n",
       "      <td>0</td>\n",
       "      <td>1</td>\n",
       "    </tr>\n",
       "    <tr>\n",
       "      <th>...</th>\n",
       "      <td>...</td>\n",
       "      <td>...</td>\n",
       "      <td>...</td>\n",
       "      <td>...</td>\n",
       "      <td>...</td>\n",
       "      <td>...</td>\n",
       "      <td>...</td>\n",
       "      <td>...</td>\n",
       "      <td>...</td>\n",
       "      <td>...</td>\n",
       "      <td>...</td>\n",
       "      <td>...</td>\n",
       "      <td>...</td>\n",
       "      <td>...</td>\n",
       "      <td>...</td>\n",
       "      <td>...</td>\n",
       "      <td>...</td>\n",
       "      <td>...</td>\n",
       "      <td>...</td>\n",
       "      <td>...</td>\n",
       "      <td>...</td>\n",
       "    </tr>\n",
       "    <tr>\n",
       "      <th>306</th>\n",
       "      <td>65893</td>\n",
       "      <td>0</td>\n",
       "      <td>M</td>\n",
       "      <td>2</td>\n",
       "      <td>4.07</td>\n",
       "      <td>4</td>\n",
       "      <td>0</td>\n",
       "      <td>0</td>\n",
       "      <td>13</td>\n",
       "      <td>8</td>\n",
       "      <td>...</td>\n",
       "      <td>0</td>\n",
       "      <td>0</td>\n",
       "      <td>0</td>\n",
       "      <td>0</td>\n",
       "      <td>0</td>\n",
       "      <td>1</td>\n",
       "      <td>0</td>\n",
       "      <td>0</td>\n",
       "      <td>0</td>\n",
       "      <td>1</td>\n",
       "    </tr>\n",
       "    <tr>\n",
       "      <th>307</th>\n",
       "      <td>48513</td>\n",
       "      <td>1</td>\n",
       "      <td>F</td>\n",
       "      <td>0</td>\n",
       "      <td>3.20</td>\n",
       "      <td>2</td>\n",
       "      <td>0</td>\n",
       "      <td>5</td>\n",
       "      <td>4</td>\n",
       "      <td>7</td>\n",
       "      <td>...</td>\n",
       "      <td>0</td>\n",
       "      <td>1</td>\n",
       "      <td>0</td>\n",
       "      <td>0</td>\n",
       "      <td>0</td>\n",
       "      <td>1</td>\n",
       "      <td>0</td>\n",
       "      <td>0</td>\n",
       "      <td>0</td>\n",
       "      <td>1</td>\n",
       "    </tr>\n",
       "    <tr>\n",
       "      <th>308</th>\n",
       "      <td>220450</td>\n",
       "      <td>0</td>\n",
       "      <td>F</td>\n",
       "      <td>3</td>\n",
       "      <td>4.60</td>\n",
       "      <td>5</td>\n",
       "      <td>6</td>\n",
       "      <td>0</td>\n",
       "      <td>16</td>\n",
       "      <td>12</td>\n",
       "      <td>...</td>\n",
       "      <td>0</td>\n",
       "      <td>0</td>\n",
       "      <td>0</td>\n",
       "      <td>0</td>\n",
       "      <td>0</td>\n",
       "      <td>1</td>\n",
       "      <td>0</td>\n",
       "      <td>0</td>\n",
       "      <td>0</td>\n",
       "      <td>1</td>\n",
       "    </tr>\n",
       "    <tr>\n",
       "      <th>309</th>\n",
       "      <td>89292</td>\n",
       "      <td>0</td>\n",
       "      <td>F</td>\n",
       "      <td>2</td>\n",
       "      <td>5.00</td>\n",
       "      <td>3</td>\n",
       "      <td>5</td>\n",
       "      <td>0</td>\n",
       "      <td>11</td>\n",
       "      <td>7</td>\n",
       "      <td>...</td>\n",
       "      <td>0</td>\n",
       "      <td>0</td>\n",
       "      <td>0</td>\n",
       "      <td>0</td>\n",
       "      <td>0</td>\n",
       "      <td>1</td>\n",
       "      <td>0</td>\n",
       "      <td>0</td>\n",
       "      <td>0</td>\n",
       "      <td>1</td>\n",
       "    </tr>\n",
       "    <tr>\n",
       "      <th>310</th>\n",
       "      <td>45046</td>\n",
       "      <td>0</td>\n",
       "      <td>F</td>\n",
       "      <td>2</td>\n",
       "      <td>4.50</td>\n",
       "      <td>5</td>\n",
       "      <td>0</td>\n",
       "      <td>0</td>\n",
       "      <td>2</td>\n",
       "      <td>8</td>\n",
       "      <td>...</td>\n",
       "      <td>0</td>\n",
       "      <td>0</td>\n",
       "      <td>0</td>\n",
       "      <td>0</td>\n",
       "      <td>0</td>\n",
       "      <td>0</td>\n",
       "      <td>1</td>\n",
       "      <td>0</td>\n",
       "      <td>0</td>\n",
       "      <td>1</td>\n",
       "    </tr>\n",
       "  </tbody>\n",
       "</table>\n",
       "<p>311 rows × 24 columns</p>\n",
       "</div>"
      ],
      "text/plain": [
       "     Salary  Termd Gender  PerformanceScore  EngagementSurvey  \\\n",
       "0     62506      0      M                 3              4.60   \n",
       "1    104437      1      M                 2              4.96   \n",
       "2     64955      1      F                 2              3.02   \n",
       "3     64991      0      F                 2              4.84   \n",
       "4     50825      1      F                 2              5.00   \n",
       "..      ...    ...    ...               ...               ...   \n",
       "306   65893      0      M                 2              4.07   \n",
       "307   48513      1      F                 0              3.20   \n",
       "308  220450      0      F                 3              4.60   \n",
       "309   89292      0      F                 2              5.00   \n",
       "310   45046      0      F                 2              4.50   \n",
       "\n",
       "     EmpSatisfaction  SpecialProjectsCount  DaysLateLast30  Absences  \\\n",
       "0                  5                     0               0         1   \n",
       "1                  3                     6               0        17   \n",
       "2                  3                     0               0         3   \n",
       "3                  5                     0               0        15   \n",
       "4                  4                     0               0         2   \n",
       "..               ...                   ...             ...       ...   \n",
       "306                4                     0               0        13   \n",
       "307                2                     0               5         4   \n",
       "308                5                     6               0        16   \n",
       "309                3                     5               0        11   \n",
       "310                5                     0               0         2   \n",
       "\n",
       "     Years of Tenure  ...  EmpStatus_4.0  EmpStatus_5.0  maritaldesc_Divorced  \\\n",
       "0                 11  ...              0              0                     0   \n",
       "1                  1  ...              0              1                     0   \n",
       "2                  1  ...              0              1                     0   \n",
       "3                 14  ...              0              0                     0   \n",
       "4                  5  ...              0              1                     1   \n",
       "..               ...  ...            ...            ...                   ...   \n",
       "306                8  ...              0              0                     0   \n",
       "307                7  ...              0              1                     0   \n",
       "308               12  ...              0              0                     0   \n",
       "309                7  ...              0              0                     0   \n",
       "310                8  ...              0              0                     0   \n",
       "\n",
       "     maritaldesc_Married  maritaldesc_Separated  maritaldesc_Single  \\\n",
       "0                      0                      0                   1   \n",
       "1                      1                      0                   0   \n",
       "2                      1                      0                   0   \n",
       "3                      1                      0                   0   \n",
       "4                      0                      0                   0   \n",
       "..                   ...                    ...                 ...   \n",
       "306                    0                      0                   1   \n",
       "307                    0                      0                   1   \n",
       "308                    0                      0                   1   \n",
       "309                    0                      0                   1   \n",
       "310                    0                      0                   0   \n",
       "\n",
       "     maritaldesc_Widowed  CitizenDesc_Eligible NonCitizen  \\\n",
       "0                      0                                0   \n",
       "1                      0                                0   \n",
       "2                      0                                0   \n",
       "3                      0                                0   \n",
       "4                      0                                0   \n",
       "..                   ...                              ...   \n",
       "306                    0                                0   \n",
       "307                    0                                0   \n",
       "308                    0                                0   \n",
       "309                    0                                0   \n",
       "310                    1                                0   \n",
       "\n",
       "     CitizenDesc_Non-Citizen  CitizenDesc_US Citizen  \n",
       "0                          0                       1  \n",
       "1                          0                       1  \n",
       "2                          0                       1  \n",
       "3                          0                       1  \n",
       "4                          0                       1  \n",
       "..                       ...                     ...  \n",
       "306                        0                       1  \n",
       "307                        0                       1  \n",
       "308                        0                       1  \n",
       "309                        0                       1  \n",
       "310                        0                       1  \n",
       "\n",
       "[311 rows x 24 columns]"
      ]
     },
     "execution_count": 339,
     "metadata": {},
     "output_type": "execute_result"
    }
   ],
   "source": [
    "df10 = df9.replace(perf)\n",
    "df10"
   ]
  },
  {
   "cell_type": "markdown",
   "id": "labeled-floor",
   "metadata": {},
   "source": [
    "##Question 26 - What would be the best feature transformation for the column Gender? Apply the proper transformation on the dataset\n",
    "- Map the values using the dictionary: {\"F\":1,\"M\":0}\n",
    "- Map the values using the dictionary: {\"M\":1,\"F\":0 }\n",
    "- Replace it with a one-hot vector of length 2\n",
    "- Replace it with a one-hot-vector of length 2, then drop on of the columns\n",
    "- NO feature transformation is needed for this column"
   ]
  },
  {
   "cell_type": "code",
   "execution_count": 340,
   "id": "toxic-writer",
   "metadata": {},
   "outputs": [
    {
     "data": {
      "text/plain": [
       "F    176\n",
       "M    135\n",
       "Name: Gender, dtype: int64"
      ]
     },
     "execution_count": 340,
     "metadata": {},
     "output_type": "execute_result"
    }
   ],
   "source": [
    "df10['Gender'].value_counts()"
   ]
  },
  {
   "cell_type": "code",
   "execution_count": 341,
   "id": "contrary-trial",
   "metadata": {},
   "outputs": [],
   "source": [
    "genders = {\"Gender\": {\"F\":1, \"M\":0}}"
   ]
  },
  {
   "cell_type": "code",
   "execution_count": 342,
   "id": "ruled-milwaukee",
   "metadata": {},
   "outputs": [],
   "source": [
    "df11 = df10.replace(genders)"
   ]
  },
  {
   "cell_type": "code",
   "execution_count": 343,
   "id": "chief-cotton",
   "metadata": {},
   "outputs": [],
   "source": [
    "##don't drop Gender"
   ]
  },
  {
   "cell_type": "code",
   "execution_count": 344,
   "id": "separated-cincinnati",
   "metadata": {},
   "outputs": [],
   "source": [
    "##Question 27 - What is the number of columns in your dataset after applying all the above transformations?"
   ]
  },
  {
   "cell_type": "code",
   "execution_count": 345,
   "id": "painful-interim",
   "metadata": {},
   "outputs": [
    {
     "name": "stdout",
     "output_type": "stream",
     "text": [
      "<class 'pandas.core.frame.DataFrame'>\n",
      "RangeIndex: 311 entries, 0 to 310\n",
      "Data columns (total 24 columns):\n",
      " #   Column                           Non-Null Count  Dtype  \n",
      "---  ------                           --------------  -----  \n",
      " 0   Salary                           311 non-null    int64  \n",
      " 1   Termd                            311 non-null    int64  \n",
      " 2   Gender                           311 non-null    int64  \n",
      " 3   PerformanceScore                 311 non-null    int64  \n",
      " 4   EngagementSurvey                 311 non-null    float64\n",
      " 5   EmpSatisfaction                  311 non-null    int64  \n",
      " 6   SpecialProjectsCount             311 non-null    int64  \n",
      " 7   DaysLateLast30                   311 non-null    int64  \n",
      " 8   Absences                         311 non-null    int64  \n",
      " 9   Years of Tenure                  311 non-null    int64  \n",
      " 10  Age                              311 non-null    int64  \n",
      " 11  EmpStatus_1.0                    311 non-null    uint8  \n",
      " 12  EmpStatus_2.0                    311 non-null    uint8  \n",
      " 13  EmpStatus_3.0                    311 non-null    uint8  \n",
      " 14  EmpStatus_4.0                    311 non-null    uint8  \n",
      " 15  EmpStatus_5.0                    311 non-null    uint8  \n",
      " 16  maritaldesc_Divorced             311 non-null    uint8  \n",
      " 17  maritaldesc_Married              311 non-null    uint8  \n",
      " 18  maritaldesc_Separated            311 non-null    uint8  \n",
      " 19  maritaldesc_Single               311 non-null    uint8  \n",
      " 20  maritaldesc_Widowed              311 non-null    uint8  \n",
      " 21  CitizenDesc_Eligible NonCitizen  311 non-null    uint8  \n",
      " 22  CitizenDesc_Non-Citizen          311 non-null    uint8  \n",
      " 23  CitizenDesc_US Citizen           311 non-null    uint8  \n",
      "dtypes: float64(1), int64(10), uint8(13)\n",
      "memory usage: 30.8 KB\n"
     ]
    }
   ],
   "source": [
    "df11.info()"
   ]
  },
  {
   "cell_type": "code",
   "execution_count": 346,
   "id": "arbitrary-serve",
   "metadata": {},
   "outputs": [],
   "source": [
    "df11 = df11.drop(['CitizenDesc_Eligible NonCitizen', 'CitizenDesc_Non-Citizen', 'CitizenDesc_US Citizen'], axis=1)"
   ]
  },
  {
   "cell_type": "code",
   "execution_count": 347,
   "id": "historic-january",
   "metadata": {},
   "outputs": [],
   "source": [
    "df12 = pd.concat([df11, citz], axis=1)"
   ]
  },
  {
   "cell_type": "code",
   "execution_count": 348,
   "id": "tight-cabin",
   "metadata": {},
   "outputs": [
    {
     "name": "stdout",
     "output_type": "stream",
     "text": [
      "<class 'pandas.core.frame.DataFrame'>\n",
      "RangeIndex: 311 entries, 0 to 310\n",
      "Data columns (total 24 columns):\n",
      " #   Column                           Non-Null Count  Dtype  \n",
      "---  ------                           --------------  -----  \n",
      " 0   Salary                           311 non-null    int64  \n",
      " 1   Termd                            311 non-null    int64  \n",
      " 2   Gender                           311 non-null    int64  \n",
      " 3   PerformanceScore                 311 non-null    int64  \n",
      " 4   EngagementSurvey                 311 non-null    float64\n",
      " 5   EmpSatisfaction                  311 non-null    int64  \n",
      " 6   SpecialProjectsCount             311 non-null    int64  \n",
      " 7   DaysLateLast30                   311 non-null    int64  \n",
      " 8   Absences                         311 non-null    int64  \n",
      " 9   Years of Tenure                  311 non-null    int64  \n",
      " 10  Age                              311 non-null    int64  \n",
      " 11  EmpStatus_1.0                    311 non-null    uint8  \n",
      " 12  EmpStatus_2.0                    311 non-null    uint8  \n",
      " 13  EmpStatus_3.0                    311 non-null    uint8  \n",
      " 14  EmpStatus_4.0                    311 non-null    uint8  \n",
      " 15  EmpStatus_5.0                    311 non-null    uint8  \n",
      " 16  maritaldesc_Divorced             311 non-null    uint8  \n",
      " 17  maritaldesc_Married              311 non-null    uint8  \n",
      " 18  maritaldesc_Separated            311 non-null    uint8  \n",
      " 19  maritaldesc_Single               311 non-null    uint8  \n",
      " 20  maritaldesc_Widowed              311 non-null    uint8  \n",
      " 21  CitizenDesc_Eligible NonCitizen  311 non-null    uint8  \n",
      " 22  CitizenDesc_Non-Citizen          311 non-null    uint8  \n",
      " 23  CitizenDesc_US Citizen           311 non-null    uint8  \n",
      "dtypes: float64(1), int64(10), uint8(13)\n",
      "memory usage: 30.8 KB\n"
     ]
    }
   ],
   "source": [
    "df12.info()"
   ]
  },
  {
   "cell_type": "code",
   "execution_count": 349,
   "id": "cognitive-visit",
   "metadata": {},
   "outputs": [],
   "source": [
    "df_trans.to_csv('parta.csv', encoding='utf-8', index=False)"
   ]
  },
  {
   "cell_type": "markdown",
   "id": "juvenile-series",
   "metadata": {},
   "source": [
    "## Lab 3 - Make model"
   ]
  },
  {
   "cell_type": "code",
   "execution_count": null,
   "id": "sitting-recommendation",
   "metadata": {},
   "outputs": [],
   "source": []
  },
  {
   "cell_type": "code",
   "execution_count": 350,
   "id": "equipped-premiere",
   "metadata": {},
   "outputs": [],
   "source": [
    "#Question 1 - For this lab first, make the target column to be Salary and the rest of the columns as the feature set. This would be our target column for this lab and all the future labs. Then split the dataset into train and test with all default values of the train_test_split method and random_state = 0. \n",
    "#We will use the StandardScaler to scale this dataset. \n",
    "#What is the mean of the target column in the test dataset?\n",
    "#Answer with 4 digits"
   ]
  },
  {
   "cell_type": "code",
   "execution_count": 351,
   "id": "arabic-robert",
   "metadata": {},
   "outputs": [],
   "source": [
    "from sklearn.model_selection import train_test_split\n",
    "from sklearn.preprocessing import StandardScaler\n",
    "\n",
    "X = df12.drop(['Salary'], axis=1)\n",
    "y = df12['Salary']\n",
    "\n",
    "X_train_sal, X_test_sal, y_train, y_test = train_test_split(X, y, random_state = 0)"
   ]
  },
  {
   "cell_type": "code",
   "execution_count": 352,
   "id": "surprised-killing",
   "metadata": {},
   "outputs": [],
   "source": [
    "scaler = StandardScaler()"
   ]
  },
  {
   "cell_type": "code",
   "execution_count": 353,
   "id": "recreational-insight",
   "metadata": {},
   "outputs": [
    {
     "name": "stdout",
     "output_type": "stream",
     "text": [
      "<class 'pandas.core.frame.DataFrame'>\n",
      "RangeIndex: 311 entries, 0 to 310\n",
      "Data columns (total 23 columns):\n",
      " #   Column                           Non-Null Count  Dtype  \n",
      "---  ------                           --------------  -----  \n",
      " 0   Termd                            311 non-null    int64  \n",
      " 1   Gender                           311 non-null    int64  \n",
      " 2   PerformanceScore                 311 non-null    int64  \n",
      " 3   EngagementSurvey                 311 non-null    float64\n",
      " 4   EmpSatisfaction                  311 non-null    int64  \n",
      " 5   SpecialProjectsCount             311 non-null    int64  \n",
      " 6   DaysLateLast30                   311 non-null    int64  \n",
      " 7   Absences                         311 non-null    int64  \n",
      " 8   Years of Tenure                  311 non-null    int64  \n",
      " 9   Age                              311 non-null    int64  \n",
      " 10  EmpStatus_1.0                    311 non-null    uint8  \n",
      " 11  EmpStatus_2.0                    311 non-null    uint8  \n",
      " 12  EmpStatus_3.0                    311 non-null    uint8  \n",
      " 13  EmpStatus_4.0                    311 non-null    uint8  \n",
      " 14  EmpStatus_5.0                    311 non-null    uint8  \n",
      " 15  maritaldesc_Divorced             311 non-null    uint8  \n",
      " 16  maritaldesc_Married              311 non-null    uint8  \n",
      " 17  maritaldesc_Separated            311 non-null    uint8  \n",
      " 18  maritaldesc_Single               311 non-null    uint8  \n",
      " 19  maritaldesc_Widowed              311 non-null    uint8  \n",
      " 20  CitizenDesc_Eligible NonCitizen  311 non-null    uint8  \n",
      " 21  CitizenDesc_Non-Citizen          311 non-null    uint8  \n",
      " 22  CitizenDesc_US Citizen           311 non-null    uint8  \n",
      "dtypes: float64(1), int64(9), uint8(13)\n",
      "memory usage: 28.4 KB\n"
     ]
    }
   ],
   "source": [
    "X.info()"
   ]
  },
  {
   "cell_type": "code",
   "execution_count": 354,
   "id": "heard-album",
   "metadata": {},
   "outputs": [
    {
     "data": {
      "text/plain": [
       "count       311.000000\n",
       "mean      69020.684887\n",
       "std       25156.636930\n",
       "min       45046.000000\n",
       "25%       55501.500000\n",
       "50%       62810.000000\n",
       "75%       72036.000000\n",
       "max      250000.000000\n",
       "Name: Salary, dtype: float64"
      ]
     },
     "execution_count": 354,
     "metadata": {},
     "output_type": "execute_result"
    }
   ],
   "source": [
    "y.describe()"
   ]
  },
  {
   "cell_type": "code",
   "execution_count": 355,
   "id": "local-chosen",
   "metadata": {},
   "outputs": [],
   "source": [
    "X_train = scaler.fit_transform(X_train_sal)\n",
    "X_test = scaler.transform(X_test_sal)"
   ]
  },
  {
   "cell_type": "code",
   "execution_count": 356,
   "id": "large-mills",
   "metadata": {},
   "outputs": [
    {
     "data": {
      "text/plain": [
       "array([[ 1.34433214, -1.15325626,  1.70312768, ..., -0.17599276,\n",
       "        -0.11420805,  0.21176177],\n",
       "       [-0.74386379, -1.15325626,  0.06333946, ..., -0.17599276,\n",
       "        -0.11420805,  0.21176177],\n",
       "       [-0.74386379,  0.86710997,  0.06333946, ..., -0.17599276,\n",
       "        -0.11420805,  0.21176177],\n",
       "       ...,\n",
       "       [-0.74386379,  0.86710997,  0.06333946, ..., -0.17599276,\n",
       "        -0.11420805,  0.21176177],\n",
       "       [-0.74386379,  0.86710997,  0.06333946, ..., -0.17599276,\n",
       "         8.75595036, -4.72228758],\n",
       "       [-0.74386379,  0.86710997,  1.70312768, ..., -0.17599276,\n",
       "        -0.11420805,  0.21176177]])"
      ]
     },
     "execution_count": 356,
     "metadata": {},
     "output_type": "execute_result"
    }
   ],
   "source": [
    "X_train"
   ]
  },
  {
   "cell_type": "code",
   "execution_count": 357,
   "id": "strong-newfoundland",
   "metadata": {},
   "outputs": [],
   "source": [
    "y_train = y_train.to_numpy()"
   ]
  },
  {
   "cell_type": "code",
   "execution_count": 358,
   "id": "detected-swedish",
   "metadata": {},
   "outputs": [],
   "source": [
    "y_test = y_test.to_numpy()"
   ]
  },
  {
   "cell_type": "code",
   "execution_count": 654,
   "id": "emotional-deficit",
   "metadata": {},
   "outputs": [
    {
     "data": {
      "text/plain": [
       "69205.03846153847"
      ]
     },
     "execution_count": 654,
     "metadata": {},
     "output_type": "execute_result"
    }
   ],
   "source": [
    "y_test.mean()"
   ]
  },
  {
   "cell_type": "code",
   "execution_count": 655,
   "id": "crucial-collins",
   "metadata": {},
   "outputs": [],
   "source": [
    "# y_test.describe()"
   ]
  },
  {
   "cell_type": "code",
   "execution_count": 656,
   "id": "bearing-conspiracy",
   "metadata": {},
   "outputs": [],
   "source": [
    "##Question 2 - Train a linear regression model on the train dataset. What is the test score of the model? \n",
    "# Enter your answer with 4 digits after the decimal point"
   ]
  },
  {
   "cell_type": "code",
   "execution_count": 657,
   "id": "atomic-judgment",
   "metadata": {},
   "outputs": [],
   "source": [
    "from sklearn.linear_model import LinearRegression"
   ]
  },
  {
   "cell_type": "code",
   "execution_count": 658,
   "id": "extended-asian",
   "metadata": {},
   "outputs": [
    {
     "name": "stdout",
     "output_type": "stream",
     "text": [
      "0.3073055022104516\n",
      "0.2835660388202169\n"
     ]
    }
   ],
   "source": [
    "lreg = LinearRegression()\n",
    "lreg.fit(X_train, y_train)\n",
    "print(lreg.score(X_train, y_train))\n",
    "print(lreg.score(X_test, y_test))"
   ]
  },
  {
   "cell_type": "code",
   "execution_count": 659,
   "id": "conditional-vegetation",
   "metadata": {},
   "outputs": [
    {
     "name": "stdout",
     "output_type": "stream",
     "text": [
      "21681.12867828796\n",
      "0.3073055022104516\n",
      "18698.40747072402\n",
      "0.2835660388202169\n"
     ]
    }
   ],
   "source": [
    "from sklearn.metrics import mean_squared_error\n",
    "from sklearn.metrics import r2_score\n",
    "\n",
    "#metrics\n",
    "\n",
    "pred_train_lr = lreg.predict(X_train)\n",
    "print(np.sqrt(mean_squared_error(y_train, pred_train_lr)))\n",
    "print(r2_score(y_train, pred_train_lr))\n",
    "\n",
    "pred_test_lr = lreg.predict(X_test)\n",
    "print(np.sqrt(mean_squared_error(y_test, pred_test_lr)))\n",
    "print(r2_score(y_test, pred_test_lr))"
   ]
  },
  {
   "cell_type": "code",
   "execution_count": 660,
   "id": "basic-vision",
   "metadata": {},
   "outputs": [
    {
     "name": "stdout",
     "output_type": "stream",
     "text": [
      "[-1.13278362e+02  7.01299531e+00  1.63885268e+03  1.30263874e+03\n",
      "  1.37582281e+03  1.28590437e+04  2.39190428e+03  2.35479917e+03\n",
      "  1.21101830e+03  5.37840680e+03  1.31387549e+17  4.86065237e+16\n",
      "  5.41016787e+16  5.66149514e+16  1.20823039e+17  2.99682707e+16\n",
      "  5.11549395e+16  1.90555004e+16  5.21856371e+16  1.35935172e+16\n",
      "  2.69780453e+16  1.78168854e+16  3.20302016e+16]\n",
      "68951.8076515121\n"
     ]
    }
   ],
   "source": [
    "print(lreg.coef_)\n",
    "print(lreg.intercept_)"
   ]
  },
  {
   "cell_type": "code",
   "execution_count": 661,
   "id": "graduate-deviation",
   "metadata": {},
   "outputs": [],
   "source": [
    "##Question 3 - What is the train score of the LinearRegression model. \n",
    "# Enter your answer with 4 digits after the decimal point (See above for work )"
   ]
  },
  {
   "cell_type": "code",
   "execution_count": 662,
   "id": "banned-calculation",
   "metadata": {},
   "outputs": [],
   "source": [
    "##Question 4 - Suppposed you are asked to present a linear model with 10 important features. \n",
    "# Which approach will you take to create such a model?\n",
    "# Set random_state = 0"
   ]
  },
  {
   "cell_type": "code",
   "execution_count": 663,
   "id": "prescribed-watson",
   "metadata": {},
   "outputs": [],
   "source": [
    "#using ridge\n",
    "\n",
    "from sklearn.linear_model import Ridge\n",
    "\n",
    "train_score_list = []\n",
    "test_score_list = []\n",
    "\n",
    "for alpha in [10, 100, 1000]:\n",
    "    ridge = Ridge(alpha, random_state=0)\n",
    "    ridge.fit(X_train, y_train)\n",
    "    train_score_list.append(ridge.score(X_train, y_train))\n",
    "    test_score_list.append(ridge.score(X_test, y_test))"
   ]
  },
  {
   "cell_type": "code",
   "execution_count": 664,
   "id": "adaptive-christopher",
   "metadata": {},
   "outputs": [
    {
     "data": {
      "image/png": "[encoded data removed]",
      "text/plain": [
       "<Figure size 1440x360 with 1 Axes>"
      ]
     },
     "metadata": {
      "needs_background": "light"
     },
     "output_type": "display_data"
    }
   ],
   "source": [
    "%matplotlib inline\n",
    "import matplotlib.pyplot as plt\n",
    "\n",
    "x_range = [10, 100, 1000]\n",
    "\n",
    "plt.subplots(figsize=(20,5))\n",
    "plt.plot(x_range, train_score_list, c = 'g', label='Train Score')\n",
    "plt.plot(x_range, test_score_list, c = 'b', label='Test Score')\n",
    "plt.xscale('log')\n",
    "plt.legend(loc=3)\n",
    "plt.xlabel(r'$\\alpha$')\n",
    "plt.grid()"
   ]
  },
  {
   "cell_type": "code",
   "execution_count": 665,
   "id": "directed-silver",
   "metadata": {},
   "outputs": [
    {
     "name": "stdout",
     "output_type": "stream",
     "text": [
      "[0.30669861278158717, 0.27787547606803353, 0.11190515703401716]\n",
      "[0.2851051764164364, 0.2633297469201309, 0.1071716589435755]\n"
     ]
    }
   ],
   "source": [
    "print(train_score_list)\n",
    "print(test_score_list)"
   ]
  },
  {
   "cell_type": "code",
   "execution_count": 666,
   "id": "close-blade",
   "metadata": {},
   "outputs": [
    {
     "data": {
      "text/plain": [
       "100"
      ]
     },
     "execution_count": 666,
     "metadata": {},
     "output_type": "execute_result"
    }
   ],
   "source": [
    "#another way\n",
    "from sklearn.linear_model import RidgeCV\n",
    "regr_cv = RidgeCV(alphas=[10,100,1000])\n",
    "\n",
    "fit_cv = regr_cv.fit(X_train, y_train)\n",
    "fit_cv.alpha_"
   ]
  },
  {
   "cell_type": "code",
   "execution_count": 667,
   "id": "engaged-rebate",
   "metadata": {},
   "outputs": [
    {
     "data": {
      "text/plain": [
       "array([-5.21239467e+02, -3.05146509e+02,  8.54750865e+02,  7.66531645e+02,\n",
       "        9.85538284e+02,  8.62787558e+03,  4.92073928e+02,  1.78225733e+03,\n",
       "        1.02374856e+00,  3.30033846e+03,  6.00801707e+02,  2.80251039e+02,\n",
       "       -6.10800110e+02,  1.05269295e+03, -9.85844605e+02, -8.82965019e+02,\n",
       "        5.84990133e+02, -1.02484792e+03,  3.51519017e+02, -1.67686852e+02,\n",
       "        4.93007206e+02,  4.61415631e+02, -6.71908358e+02])"
      ]
     },
     "execution_count": 667,
     "metadata": {},
     "output_type": "execute_result"
    }
   ],
   "source": [
    "fit_cv.coef_"
   ]
  },
  {
   "cell_type": "code",
   "execution_count": 668,
   "id": "necessary-playlist",
   "metadata": {},
   "outputs": [],
   "source": [
    "##Do with Lasso"
   ]
  },
  {
   "cell_type": "code",
   "execution_count": 669,
   "id": "imperial-assumption",
   "metadata": {},
   "outputs": [],
   "source": [
    "from sklearn.linear_model import Lasso\n",
    "x_range = [10, 100, 1000]\n",
    "train_score_list2 = []\n",
    "test_score_list2 = []\n",
    "\n",
    "for alpha in x_range:\n",
    "    lasso = Lasso(alpha)\n",
    "    lasso.fit(X_train, y_train)\n",
    "    train_score_list2.append(lasso.score(X_train, y_train))\n",
    "    test_score_list2.append(lasso.score(X_test, y_test))"
   ]
  },
  {
   "cell_type": "code",
   "execution_count": 670,
   "id": "computational-perth",
   "metadata": {},
   "outputs": [
    {
     "data": {
      "image/png": "[encoded data removed]",
      "text/plain": [
       "<Figure size 1440x360 with 1 Axes>"
      ]
     },
     "metadata": {
      "needs_background": "light"
     },
     "output_type": "display_data"
    }
   ],
   "source": [
    "%matplotlib inline\n",
    "plt.subplots(figsize = (20,5))\n",
    "plt.plot(x_range, train_score_list2, c='g', label = 'Train Score')\n",
    "plt.plot(x_range, test_score_list2, c='b', label='Test Score')\n",
    "plt.xscale('log')\n",
    "plt.legend(loc=3)\n",
    "plt.xlabel(r'$\\alpha$')\n",
    "plt.grid()"
   ]
  },
  {
   "cell_type": "code",
   "execution_count": 671,
   "id": "suspended-conducting",
   "metadata": {},
   "outputs": [
    {
     "name": "stdout",
     "output_type": "stream",
     "text": [
      "[0.30740490897450523, 0.3070365350637474, 0.2854761956682975]\n",
      "[0.28543032007245506, 0.2896072093342278, 0.2988094307536576]\n"
     ]
    }
   ],
   "source": [
    "print(train_score_list2)\n",
    "print(test_score_list2)"
   ]
  },
  {
   "cell_type": "code",
   "execution_count": 672,
   "id": "useful-graph",
   "metadata": {},
   "outputs": [],
   "source": [
    "#another way\n",
    "from sklearn.linear_model import Lasso, LassoCV"
   ]
  },
  {
   "cell_type": "code",
   "execution_count": 673,
   "id": "invalid-breeding",
   "metadata": {},
   "outputs": [
    {
     "data": {
      "text/plain": [
       "1000"
      ]
     },
     "execution_count": 673,
     "metadata": {},
     "output_type": "execute_result"
    }
   ],
   "source": [
    "lassocv = LassoCV(alphas=[10, 100, 1000])\n",
    "fitlass = lassocv.fit(X_train, y_train)\n",
    "\n",
    "fitlass.alpha_\n"
   ]
  },
  {
   "cell_type": "code",
   "execution_count": 674,
   "id": "heard-disorder",
   "metadata": {},
   "outputs": [
    {
     "data": {
      "text/plain": [
       "array([   -0.        ,    -0.        ,   194.36215648,     0.        ,\n",
       "         333.8573093 , 11917.80965425,     0.        ,  1453.91113806,\n",
       "           0.        ,  3781.72285466,     0.        ,     0.        ,\n",
       "          -0.        ,    19.99088197,  -484.20187992,  -252.98684485,\n",
       "           0.        ,  -471.26183313,     0.        ,    -0.        ,\n",
       "           0.        ,     0.        ,  -320.42759737])"
      ]
     },
     "execution_count": 674,
     "metadata": {},
     "output_type": "execute_result"
    }
   ],
   "source": [
    "fitlass.coef_"
   ]
  },
  {
   "cell_type": "code",
   "execution_count": 675,
   "id": "federal-senior",
   "metadata": {},
   "outputs": [],
   "source": [
    "##Question 7 - PolynomialFeatures to transform the dataset with polynomial features with degree 2. \n",
    "# What is the number of columns in the resulting dataset?"
   ]
  },
  {
   "cell_type": "code",
   "execution_count": 676,
   "id": "tested-mother",
   "metadata": {},
   "outputs": [
    {
     "name": "stdout",
     "output_type": "stream",
     "text": [
      "0.6949484095014946\n",
      "-7.660766024633409e+25\n"
     ]
    }
   ],
   "source": [
    "from pandas import DataFrame\n",
    "from sklearn.preprocessing import MinMaxScaler\n",
    "\n",
    "# np.random.seed(0)\n",
    "from sklearn.preprocessing import PolynomialFeatures\n",
    "\n",
    "# X2 = df12.drop(['Salary'], axis=1)\n",
    "# y2 = df12['Salary']\n",
    "\n",
    "# X2_train_sal, X2_test_sal, y2_train, y2_test = train_test_split(X2, y2, random_state = 0)\n",
    "\n",
    "\n",
    "# X_train2 = scaler.fit_transform(X2_train_sal)\n",
    "# X_test2 = scaler.transform(X2_test_sal)\n",
    "\n",
    "poly = PolynomialFeatures(degree = 2)\n",
    "X_train_poly = poly.fit_transform(X_train)\n",
    "X_test_poly = poly.transform(X_test)\n",
    "\n",
    "# df_poly = DataFrame(X_train_poly)\n",
    "# print(df_poly.describe())\n",
    "# df_poly_test =            DataFrame(X_poly_test)\n",
    "# print(df_poly_test.describe())\n",
    "\n",
    "poly_reg = LinearRegression()\n",
    "poly_reg.fit(X_train_poly, y_train)\n",
    "\n",
    "print(poly_reg.score(X_train_poly, y_train))\n",
    "print(poly_reg.score(X_test_poly, y_test))\n",
    "\n",
    "poly_test_score = poly_reg.score(X_test_poly, y_test)\n",
    "\n",
    "\n"
   ]
  },
  {
   "cell_type": "code",
   "execution_count": 677,
   "id": "living-career",
   "metadata": {},
   "outputs": [
    {
     "name": "stdout",
     "output_type": "stream",
     "text": [
      "0.6949484095014946\n",
      "-7.660766024633409e+25\n"
     ]
    }
   ],
   "source": [
    "from sklearn.model_selection import train_test_split\n",
    "from sklearn.preprocessing import StandardScaler\n",
    "\n",
    "X = df12.drop(['Salary'], axis=1)\n",
    "y = df12['Salary']\n",
    "\n",
    "X_train_org, X_test_org, y_train, y_test = train_test_split(X,y, random_state = 0)\n",
    "\n",
    "scaler = StandardScaler()\n",
    "\n",
    "X_train = scaler.fit_transform(X_train_org)\n",
    "X_test = scaler.transform(X_test_org)\n",
    "\n",
    "poly = PolynomialFeatures(degree = 2)\n",
    "X_train_poly = poly.fit_transform(X_train)\n",
    "X_test_poly = poly.transform(X_test)\n",
    "\n",
    "poly_reg = LinearRegression()\n",
    "poly_reg.fit(X_train_poly, y_train)\n",
    "\n",
    "print(poly_reg.score(X_train_poly, y_train))\n",
    "print(poly_reg.score(X_test_poly, y_test))"
   ]
  },
  {
   "cell_type": "code",
   "execution_count": 678,
   "id": "delayed-scheduling",
   "metadata": {},
   "outputs": [
    {
     "data": {
      "text/plain": [
       "'-76607660246334085944836096.0000000000'"
      ]
     },
     "execution_count": 678,
     "metadata": {},
     "output_type": "execute_result"
    }
   ],
   "source": [
    "'{0:.10f}'.format(poly_test_score)"
   ]
  },
  {
   "cell_type": "code",
   "execution_count": 679,
   "id": "clear-conversation",
   "metadata": {},
   "outputs": [
    {
     "data": {
      "text/plain": [
       "array([[ 1.34433214, -1.15325626,  1.70312768, ..., -0.17599276,\n",
       "        -0.11420805,  0.21176177],\n",
       "       [-0.74386379, -1.15325626,  0.06333946, ..., -0.17599276,\n",
       "        -0.11420805,  0.21176177],\n",
       "       [-0.74386379,  0.86710997,  0.06333946, ..., -0.17599276,\n",
       "        -0.11420805,  0.21176177],\n",
       "       ...,\n",
       "       [-0.74386379,  0.86710997,  0.06333946, ..., -0.17599276,\n",
       "        -0.11420805,  0.21176177],\n",
       "       [-0.74386379,  0.86710997,  0.06333946, ..., -0.17599276,\n",
       "         8.75595036, -4.72228758],\n",
       "       [-0.74386379,  0.86710997,  1.70312768, ..., -0.17599276,\n",
       "        -0.11420805,  0.21176177]])"
      ]
     },
     "execution_count": 679,
     "metadata": {},
     "output_type": "execute_result"
    }
   ],
   "source": [
    "X_train"
   ]
  },
  {
   "cell_type": "code",
   "execution_count": 680,
   "id": "timely-there",
   "metadata": {},
   "outputs": [
    {
     "data": {
      "text/plain": [
       "array([[ 1.34433214, -1.15325626,  1.70312768, ..., -0.17599276,\n",
       "        -0.11420805,  0.21176177],\n",
       "       [ 1.34433214,  0.86710997,  0.06333946, ..., -0.17599276,\n",
       "        -0.11420805,  0.21176177],\n",
       "       [-0.74386379, -1.15325626,  0.06333946, ..., -0.17599276,\n",
       "        -0.11420805,  0.21176177],\n",
       "       ...,\n",
       "       [-0.74386379, -1.15325626,  0.06333946, ..., -0.17599276,\n",
       "        -0.11420805,  0.21176177],\n",
       "       [ 1.34433214,  0.86710997,  0.06333946, ..., -0.17599276,\n",
       "        -0.11420805,  0.21176177],\n",
       "       [-0.74386379,  0.86710997, -1.57644876, ..., -0.17599276,\n",
       "        -0.11420805,  0.21176177]])"
      ]
     },
     "execution_count": 680,
     "metadata": {},
     "output_type": "execute_result"
    }
   ],
   "source": [
    "X_test"
   ]
  },
  {
   "cell_type": "code",
   "execution_count": 681,
   "id": "imperial-cowboy",
   "metadata": {},
   "outputs": [
    {
     "data": {
      "text/plain": [
       "304    70507\n",
       "295    66541\n",
       "133    55425\n",
       "145    63322\n",
       "29     63000\n",
       "       ...  \n",
       "251    50923\n",
       "192    72106\n",
       "117    49256\n",
       "47     64816\n",
       "172    73330\n",
       "Name: Salary, Length: 233, dtype: int64"
      ]
     },
     "execution_count": 681,
     "metadata": {},
     "output_type": "execute_result"
    }
   ],
   "source": [
    "y_train"
   ]
  },
  {
   "cell_type": "code",
   "execution_count": 682,
   "id": "separated-accident",
   "metadata": {},
   "outputs": [
    {
     "data": {
      "text/plain": [
       "212    108987\n",
       "146     61154\n",
       "225     59472\n",
       "129     63478\n",
       "89      57748\n",
       "        ...  \n",
       "233     64971\n",
       "108    114800\n",
       "156     93206\n",
       "124     52177\n",
       "73      61584\n",
       "Name: Salary, Length: 78, dtype: int64"
      ]
     },
     "execution_count": 682,
     "metadata": {},
     "output_type": "execute_result"
    }
   ],
   "source": [
    "y_test"
   ]
  },
  {
   "cell_type": "code",
   "execution_count": 683,
   "id": "billion-weekend",
   "metadata": {},
   "outputs": [
    {
     "name": "stdout",
     "output_type": "stream",
     "text": [
      "3.9.6\n"
     ]
    }
   ],
   "source": [
    "from platform import python_version\n",
    "print(python_version())"
   ]
  },
  {
   "cell_type": "markdown",
   "id": "serial-blair",
   "metadata": {},
   "source": [
    "## Lab 4"
   ]
  },
  {
   "cell_type": "markdown",
   "id": "chemical-aside",
   "metadata": {},
   "source": [
    "### Part a"
   ]
  },
  {
   "cell_type": "code",
   "execution_count": 684,
   "id": "amino-compromise",
   "metadata": {},
   "outputs": [],
   "source": [
    "#Question 1 - Consider 'y' as the target column of Part a data frame. Split this data frame into train and test with a test size of 25% of the whole data. Then use the MinMAxScaler to scale the train and the test. What is the best value of the hyperparameter n_neighbors? Build your model given the following range of values for the model\n",
    "#hyperparameters. n_neighbors= [1, 2, 3, 4, 5], metric = 'manhattan'"
   ]
  },
  {
   "cell_type": "code",
   "execution_count": 120,
   "id": "marine-wages",
   "metadata": {},
   "outputs": [],
   "source": [
    "df_a = df_trans\n",
    "\n",
    "y = df_a['y']\n",
    "X = df_a.drop(['y'], axis=1)"
   ]
  },
  {
   "cell_type": "code",
   "execution_count": 686,
   "id": "atomic-genealogy",
   "metadata": {},
   "outputs": [
    {
     "data": {
      "text/plain": [
       "0    no\n",
       "1    no\n",
       "2    no\n",
       "3    no\n",
       "4    no\n",
       "Name: y, dtype: object"
      ]
     },
     "execution_count": 686,
     "metadata": {},
     "output_type": "execute_result"
    }
   ],
   "source": [
    "y.head()"
   ]
  },
  {
   "cell_type": "code",
   "execution_count": 687,
   "id": "professional-jesus",
   "metadata": {},
   "outputs": [
    {
     "data": {
      "text/html": [
       "<div>\n",
       "<style scoped>\n",
       "    .dataframe tbody tr th:only-of-type {\n",
       "        vertical-align: middle;\n",
       "    }\n",
       "\n",
       "    .dataframe tbody tr th {\n",
       "        vertical-align: top;\n",
       "    }\n",
       "\n",
       "    .dataframe thead th {\n",
       "        text-align: right;\n",
       "    }\n",
       "</style>\n",
       "<table border=\"1\" class=\"dataframe\">\n",
       "  <thead>\n",
       "    <tr style=\"text-align: right;\">\n",
       "      <th></th>\n",
       "      <th>age</th>\n",
       "      <th>education</th>\n",
       "      <th>housing</th>\n",
       "      <th>loan</th>\n",
       "      <th>contact</th>\n",
       "      <th>duration</th>\n",
       "      <th>campaign</th>\n",
       "      <th>pdays</th>\n",
       "      <th>previous</th>\n",
       "      <th>job_admin.</th>\n",
       "      <th>...</th>\n",
       "      <th>job_unknown</th>\n",
       "      <th>marital_divorced</th>\n",
       "      <th>marital_married</th>\n",
       "      <th>marital_single</th>\n",
       "      <th>marital_unknown</th>\n",
       "      <th>default_no</th>\n",
       "      <th>default_unknown</th>\n",
       "      <th>poutcome_failure</th>\n",
       "      <th>poutcome_nonexistent</th>\n",
       "      <th>poutcome_success</th>\n",
       "    </tr>\n",
       "  </thead>\n",
       "  <tbody>\n",
       "    <tr>\n",
       "      <th>0</th>\n",
       "      <td>40.149846</td>\n",
       "      <td>1</td>\n",
       "      <td>0</td>\n",
       "      <td>0</td>\n",
       "      <td>1</td>\n",
       "      <td>105.0</td>\n",
       "      <td>1</td>\n",
       "      <td>1</td>\n",
       "      <td>0</td>\n",
       "      <td>0</td>\n",
       "      <td>...</td>\n",
       "      <td>0</td>\n",
       "      <td>0</td>\n",
       "      <td>1</td>\n",
       "      <td>0</td>\n",
       "      <td>0</td>\n",
       "      <td>0</td>\n",
       "      <td>1</td>\n",
       "      <td>0</td>\n",
       "      <td>1</td>\n",
       "      <td>0</td>\n",
       "    </tr>\n",
       "    <tr>\n",
       "      <th>1</th>\n",
       "      <td>36.000000</td>\n",
       "      <td>2</td>\n",
       "      <td>1</td>\n",
       "      <td>1</td>\n",
       "      <td>1</td>\n",
       "      <td>125.0</td>\n",
       "      <td>5</td>\n",
       "      <td>1</td>\n",
       "      <td>0</td>\n",
       "      <td>0</td>\n",
       "      <td>...</td>\n",
       "      <td>0</td>\n",
       "      <td>0</td>\n",
       "      <td>1</td>\n",
       "      <td>0</td>\n",
       "      <td>0</td>\n",
       "      <td>1</td>\n",
       "      <td>0</td>\n",
       "      <td>0</td>\n",
       "      <td>1</td>\n",
       "      <td>0</td>\n",
       "    </tr>\n",
       "    <tr>\n",
       "      <th>2</th>\n",
       "      <td>40.149846</td>\n",
       "      <td>4</td>\n",
       "      <td>0</td>\n",
       "      <td>0</td>\n",
       "      <td>0</td>\n",
       "      <td>111.0</td>\n",
       "      <td>1</td>\n",
       "      <td>1</td>\n",
       "      <td>0</td>\n",
       "      <td>1</td>\n",
       "      <td>...</td>\n",
       "      <td>0</td>\n",
       "      <td>0</td>\n",
       "      <td>0</td>\n",
       "      <td>1</td>\n",
       "      <td>0</td>\n",
       "      <td>1</td>\n",
       "      <td>0</td>\n",
       "      <td>0</td>\n",
       "      <td>1</td>\n",
       "      <td>0</td>\n",
       "    </tr>\n",
       "    <tr>\n",
       "      <th>3</th>\n",
       "      <td>39.000000</td>\n",
       "      <td>2</td>\n",
       "      <td>0</td>\n",
       "      <td>1</td>\n",
       "      <td>1</td>\n",
       "      <td>173.0</td>\n",
       "      <td>2</td>\n",
       "      <td>1</td>\n",
       "      <td>0</td>\n",
       "      <td>0</td>\n",
       "      <td>...</td>\n",
       "      <td>0</td>\n",
       "      <td>0</td>\n",
       "      <td>1</td>\n",
       "      <td>0</td>\n",
       "      <td>0</td>\n",
       "      <td>0</td>\n",
       "      <td>1</td>\n",
       "      <td>0</td>\n",
       "      <td>1</td>\n",
       "      <td>0</td>\n",
       "    </tr>\n",
       "    <tr>\n",
       "      <th>4</th>\n",
       "      <td>41.000000</td>\n",
       "      <td>1</td>\n",
       "      <td>0</td>\n",
       "      <td>1</td>\n",
       "      <td>1</td>\n",
       "      <td>107.0</td>\n",
       "      <td>1</td>\n",
       "      <td>1</td>\n",
       "      <td>0</td>\n",
       "      <td>0</td>\n",
       "      <td>...</td>\n",
       "      <td>0</td>\n",
       "      <td>0</td>\n",
       "      <td>1</td>\n",
       "      <td>0</td>\n",
       "      <td>0</td>\n",
       "      <td>0</td>\n",
       "      <td>1</td>\n",
       "      <td>0</td>\n",
       "      <td>1</td>\n",
       "      <td>0</td>\n",
       "    </tr>\n",
       "  </tbody>\n",
       "</table>\n",
       "<p>5 rows × 30 columns</p>\n",
       "</div>"
      ],
      "text/plain": [
       "         age  education  housing  loan  contact  duration  campaign  pdays  \\\n",
       "0  40.149846          1        0     0        1     105.0         1      1   \n",
       "1  36.000000          2        1     1        1     125.0         5      1   \n",
       "2  40.149846          4        0     0        0     111.0         1      1   \n",
       "3  39.000000          2        0     1        1     173.0         2      1   \n",
       "4  41.000000          1        0     1        1     107.0         1      1   \n",
       "\n",
       "   previous  job_admin.  ...  job_unknown  marital_divorced  marital_married  \\\n",
       "0         0           0  ...            0                 0                1   \n",
       "1         0           0  ...            0                 0                1   \n",
       "2         0           1  ...            0                 0                0   \n",
       "3         0           0  ...            0                 0                1   \n",
       "4         0           0  ...            0                 0                1   \n",
       "\n",
       "   marital_single  marital_unknown  default_no  default_unknown  \\\n",
       "0               0                0           0                1   \n",
       "1               0                0           1                0   \n",
       "2               1                0           1                0   \n",
       "3               0                0           0                1   \n",
       "4               0                0           0                1   \n",
       "\n",
       "   poutcome_failure  poutcome_nonexistent  poutcome_success  \n",
       "0                 0                     1                 0  \n",
       "1                 0                     1                 0  \n",
       "2                 0                     1                 0  \n",
       "3                 0                     1                 0  \n",
       "4                 0                     1                 0  \n",
       "\n",
       "[5 rows x 30 columns]"
      ]
     },
     "execution_count": 687,
     "metadata": {},
     "output_type": "execute_result"
    }
   ],
   "source": [
    "X.head()"
   ]
  },
  {
   "cell_type": "code",
   "execution_count": 688,
   "id": "anticipated-paintball",
   "metadata": {},
   "outputs": [
    {
     "name": "stdout",
     "output_type": "stream",
     "text": [
      "<class 'pandas.core.frame.DataFrame'>\n",
      "RangeIndex: 4119 entries, 0 to 4118\n",
      "Data columns (total 30 columns):\n",
      " #   Column                Non-Null Count  Dtype  \n",
      "---  ------                --------------  -----  \n",
      " 0   age                   4119 non-null   float64\n",
      " 1   education             4119 non-null   int64  \n",
      " 2   housing               4119 non-null   int64  \n",
      " 3   loan                  4119 non-null   int64  \n",
      " 4   contact               4119 non-null   int64  \n",
      " 5   duration              4119 non-null   float64\n",
      " 6   campaign              4119 non-null   int64  \n",
      " 7   pdays                 4119 non-null   int64  \n",
      " 8   previous              4119 non-null   int64  \n",
      " 9   job_admin.            4119 non-null   uint8  \n",
      " 10  job_blue-collar       4119 non-null   uint8  \n",
      " 11  job_entrepreneur      4119 non-null   uint8  \n",
      " 12  job_housemaid         4119 non-null   uint8  \n",
      " 13  job_management        4119 non-null   uint8  \n",
      " 14  job_retired           4119 non-null   uint8  \n",
      " 15  job_self-employed     4119 non-null   uint8  \n",
      " 16  job_services          4119 non-null   uint8  \n",
      " 17  job_student           4119 non-null   uint8  \n",
      " 18  job_technician        4119 non-null   uint8  \n",
      " 19  job_unemployed        4119 non-null   uint8  \n",
      " 20  job_unknown           4119 non-null   uint8  \n",
      " 21  marital_divorced      4119 non-null   uint8  \n",
      " 22  marital_married       4119 non-null   uint8  \n",
      " 23  marital_single        4119 non-null   uint8  \n",
      " 24  marital_unknown       4119 non-null   uint8  \n",
      " 25  default_no            4119 non-null   uint8  \n",
      " 26  default_unknown       4119 non-null   uint8  \n",
      " 27  poutcome_failure      4119 non-null   uint8  \n",
      " 28  poutcome_nonexistent  4119 non-null   uint8  \n",
      " 29  poutcome_success      4119 non-null   uint8  \n",
      "dtypes: float64(2), int64(7), uint8(21)\n",
      "memory usage: 374.2 KB\n"
     ]
    }
   ],
   "source": [
    "X.info()"
   ]
  },
  {
   "cell_type": "code",
   "execution_count": 121,
   "id": "olympic-vocabulary",
   "metadata": {},
   "outputs": [],
   "source": [
    "from sklearn.model_selection import train_test_split \n",
    "\n",
    "X_train, X_test, y_train, y_test = train_test_split(X, y, test_size = 0.25, random_state = 0)"
   ]
  },
  {
   "cell_type": "code",
   "execution_count": 122,
   "id": "impaired-andorra",
   "metadata": {},
   "outputs": [],
   "source": [
    "from sklearn.preprocessing import MinMaxScaler\n",
    "\n",
    "scaler = MinMaxScaler()\n",
    "X_train = scaler.fit_transform(X_train)\n",
    "X_test = scaler.transform(X_test)"
   ]
  },
  {
   "cell_type": "code",
   "execution_count": 691,
   "id": "rolled-constraint",
   "metadata": {},
   "outputs": [],
   "source": [
    "#Build KNN model\n",
    "from sklearn.neighbors import KNeighborsClassifier\n",
    "\n",
    "knn = KNeighborsClassifier(n_neighbors=1, metric='manhattan')"
   ]
  },
  {
   "cell_type": "code",
   "execution_count": 692,
   "id": "professional-quarter",
   "metadata": {},
   "outputs": [
    {
     "data": {
      "text/plain": [
       "KNeighborsClassifier(metric='manhattan', n_neighbors=1)"
      ]
     },
     "execution_count": 692,
     "metadata": {},
     "output_type": "execute_result"
    }
   ],
   "source": [
    "knn.fit(X_train, y_train)"
   ]
  },
  {
   "cell_type": "code",
   "execution_count": 693,
   "id": "ready-architect",
   "metadata": {},
   "outputs": [
    {
     "name": "stdout",
     "output_type": "stream",
     "text": [
      "1.0\n",
      "0.8485436893203884\n"
     ]
    }
   ],
   "source": [
    "print(knn.score(X_train, y_train))\n",
    "print(knn.score(X_test, y_test))"
   ]
  },
  {
   "cell_type": "code",
   "execution_count": 694,
   "id": "divine-choir",
   "metadata": {},
   "outputs": [],
   "source": [
    "knn2 = KNeighborsClassifier(n_neighbors = 2, metric='manhattan')"
   ]
  },
  {
   "cell_type": "code",
   "execution_count": 695,
   "id": "maritime-alexander",
   "metadata": {},
   "outputs": [
    {
     "name": "stdout",
     "output_type": "stream",
     "text": [
      "0.9177727419876983\n",
      "0.8844660194174757\n"
     ]
    }
   ],
   "source": [
    "knn2.fit(X_train, y_train)\n",
    "print(knn2.score(X_train, y_train))\n",
    "print(knn2.score(X_test, y_test))"
   ]
  },
  {
   "cell_type": "code",
   "execution_count": 696,
   "id": "acting-africa",
   "metadata": {},
   "outputs": [
    {
     "name": "stdout",
     "output_type": "stream",
     "text": [
      "0.9184202007122046\n",
      "0.8776699029126214\n"
     ]
    }
   ],
   "source": [
    "knn3 = KNeighborsClassifier(n_neighbors = 3, metric='manhattan')\n",
    "\n",
    "knn3.fit(X_train, y_train)\n",
    "\n",
    "print(knn3.score(X_train, y_train))\n",
    "print(knn3.score(X_test, y_test))"
   ]
  },
  {
   "cell_type": "code",
   "execution_count": 697,
   "id": "expected-fusion",
   "metadata": {},
   "outputs": [
    {
     "name": "stdout",
     "output_type": "stream",
     "text": [
      "0.9074134023955973\n",
      "0.8893203883495145\n"
     ]
    }
   ],
   "source": [
    "knn4 = KNeighborsClassifier(n_neighbors = 4, metric='manhattan')\n",
    "\n",
    "knn4.fit(X_train, y_train)\n",
    "\n",
    "print(knn4.score(X_train, y_train))\n",
    "print(knn4.score(X_test, y_test)) #ANSWER1 :  4 ; ANSWER2 : Test score: 0.88/0.89"
   ]
  },
  {
   "cell_type": "code",
   "execution_count": 698,
   "id": "lucky-automation",
   "metadata": {},
   "outputs": [
    {
     "name": "stdout",
     "output_type": "stream",
     "text": [
      "0.9061184849465846\n",
      "0.8864077669902912\n"
     ]
    }
   ],
   "source": [
    "knn5 = KNeighborsClassifier(n_neighbors = 5, metric='manhattan')\n",
    "\n",
    "knn5.fit(X_train, y_train)\n",
    "\n",
    "print(knn5.score(X_train, y_train))\n",
    "print(knn5.score(X_test, y_test))"
   ]
  },
  {
   "cell_type": "code",
   "execution_count": 699,
   "id": "electric-ideal",
   "metadata": {},
   "outputs": [],
   "source": [
    "#Question 3 - Find the best hyperparameters of a Logistic Regression machine learning model. \n",
    "            #Which of the following values of C will result in a model with the smallest gap between the train & test\n",
    "            #Accuracy score? \n",
    "            #Use the following parameters to create your model: solver = 'lbfgs', penalty='l2', max_iter = 1000"
   ]
  },
  {
   "cell_type": "code",
   "execution_count": 700,
   "id": "opposite-papua",
   "metadata": {},
   "outputs": [
    {
     "data": {
      "text/plain": [
       "no     3635\n",
       "yes     484\n",
       "Name: y, dtype: int64"
      ]
     },
     "execution_count": 700,
     "metadata": {},
     "output_type": "execute_result"
    }
   ],
   "source": [
    "y.value_counts()"
   ]
  },
  {
   "cell_type": "code",
   "execution_count": 701,
   "id": "impaired-guide",
   "metadata": {},
   "outputs": [],
   "source": [
    "y.replace(\"no\", 1, inplace=True)\n",
    "y.replace(\"yes\", 0, inplace=True)"
   ]
  },
  {
   "cell_type": "code",
   "execution_count": 702,
   "id": "centered-situation",
   "metadata": {},
   "outputs": [
    {
     "data": {
      "text/plain": [
       "0    1\n",
       "1    1\n",
       "2    1\n",
       "3    1\n",
       "4    1\n",
       "Name: y, dtype: int64"
      ]
     },
     "execution_count": 702,
     "metadata": {},
     "output_type": "execute_result"
    }
   ],
   "source": [
    "y.head()"
   ]
  },
  {
   "cell_type": "code",
   "execution_count": 703,
   "id": "enhanced-solomon",
   "metadata": {},
   "outputs": [
    {
     "data": {
      "text/plain": [
       "0.8824957513959699"
      ]
     },
     "execution_count": 703,
     "metadata": {},
     "output_type": "execute_result"
    }
   ],
   "source": [
    "y.sum() / len(y)"
   ]
  },
  {
   "cell_type": "code",
   "execution_count": 704,
   "id": "standing-negative",
   "metadata": {},
   "outputs": [],
   "source": [
    "#LOGISTIC\n",
    "from sklearn.linear_model import LogisticRegression"
   ]
  },
  {
   "cell_type": "code",
   "execution_count": 705,
   "id": "molecular-papua",
   "metadata": {},
   "outputs": [],
   "source": [
    "c_range = [0.01, 0.1, 1, 10, 100]\n",
    "train_score_l2 = []\n",
    "test_score_l2 = []\n",
    "\n",
    "for c in c_range:\n",
    "    log_l2 = LogisticRegression(penalty = 'l2', C = c, solver = 'lbfgs', max_iter = 1000)\n",
    "    log_l2.fit(X_train, y_train)\n",
    "    train_score_l2.append(log_l2.score(X_train, y_train))\n",
    "    test_score_l2.append(log_l2.score(X_test, y_test))"
   ]
  },
  {
   "cell_type": "code",
   "execution_count": 706,
   "id": "united-thinking",
   "metadata": {},
   "outputs": [
    {
     "data": {
      "image/png": "[encoded data removed]",
      "text/plain": [
       "<Figure size 1440x360 with 1 Axes>"
      ]
     },
     "metadata": {
      "needs_background": "light"
     },
     "output_type": "display_data"
    }
   ],
   "source": [
    "import matplotlib.pyplot as plt\n",
    "%matplotlib inline\n",
    "\n",
    "plt.subplots(figsize = (20,5))\n",
    "plt.plot(c_range, train_score_l2, label = 'Train score, penalty = l2')\n",
    "plt.plot(c_range, test_score_l2, label = 'Test score, penalty = l2')\n",
    "plt.legend()\n",
    "plt.xlabel('Regularization parameter: C')\n",
    "plt.ylabel('Accuracy')\n",
    "plt.xscale('log')"
   ]
  },
  {
   "cell_type": "code",
   "execution_count": 707,
   "id": "strategic-explanation",
   "metadata": {},
   "outputs": [
    {
     "name": "stdout",
     "output_type": "stream",
     "text": [
      "0.8805438653285853\n",
      "0.8957591453544836\n",
      "0.8980252508902558\n",
      "0.9032049206863062\n",
      "0.9041761087730658\n"
     ]
    }
   ],
   "source": [
    "print(*train_score_l2, sep = \"\\n\")"
   ]
  },
  {
   "cell_type": "code",
   "execution_count": 708,
   "id": "neural-difficulty",
   "metadata": {},
   "outputs": [
    {
     "name": "stdout",
     "output_type": "stream",
     "text": [
      "0.8883495145631068\n",
      "0.8951456310679612\n",
      "0.8970873786407767\n",
      "0.9077669902912622\n",
      "0.9058252427184466\n"
     ]
    }
   ],
   "source": [
    "print(*test_score_l2, sep = \"\\n\") #SOLUTION : 0.8970 for test score C = 1"
   ]
  },
  {
   "cell_type": "code",
   "execution_count": 709,
   "id": "strange-diploma",
   "metadata": {},
   "outputs": [
    {
     "name": "stdout",
     "output_type": "stream",
     "text": [
      "[-0.007805649234521539, 0.0006135142865224541, 0.0009378722494790548, -0.004562069604955976, -0.0016491339453807985]\n"
     ]
    }
   ],
   "source": [
    "gap = []\n",
    "\n",
    "zip_object = zip(train_score_l2, test_score_l2)\n",
    "\n",
    "for train_i, test_i in zip_object:\n",
    "    gap.append(train_i - test_i)\n",
    "\n",
    "print(gap)"
   ]
  },
  {
   "cell_type": "code",
   "execution_count": 710,
   "id": "polyphonic-landscape",
   "metadata": {},
   "outputs": [],
   "source": [
    "#Question 5 - Train a SVC model on the train dataset with a different range of values for C and gamma. \n",
    "            #WHich tuple of (C, gamma) results in a best fit. \n",
    "            #To answer this question find a pair that results in a smallest gap between the train and test score"
   ]
  },
  {
   "cell_type": "code",
   "execution_count": 711,
   "id": "jewish-romance",
   "metadata": {},
   "outputs": [],
   "source": [
    "%matplotlib inline\n",
    "\n",
    "#from mlxtend.plotting import plot_decision_regions\n",
    "from sklearn.svm import LinearSVC\n"
   ]
  },
  {
   "cell_type": "code",
   "execution_count": 712,
   "id": "sufficient-volleyball",
   "metadata": {},
   "outputs": [
    {
     "data": {
      "text/plain": [
       "LinearSVC()"
      ]
     },
     "execution_count": 712,
     "metadata": {},
     "output_type": "execute_result"
    }
   ],
   "source": [
    "clf = LinearSVC()\n",
    "clf.fit(X_train, y_train)"
   ]
  },
  {
   "cell_type": "code",
   "execution_count": 713,
   "id": "decimal-donna",
   "metadata": {},
   "outputs": [
    {
     "name": "stdout",
     "output_type": "stream",
     "text": [
      "[0.8805438653285853, 0.8805438653285853, 0.8805438653285853, 0.8805438653285853, 0.8805438653285853, 0.8805438653285853, 0.8967303334412431, 0.8805438653285853, 0.8805438653285853, 0.8805438653285853, 0.8980252508902558, 0.8980252508902558, 0.9087083198446099, 0.9248947879572678, 0.9637423114276464, 0.8980252508902558, 0.9002913564260279, 0.9365490449983813, 0.9692457105859501, 0.9925542246681774, 0.8980252508902558, 0.9294269990288119, 0.9621236646163807, 0.983489802525089, 0.9977338944642279]\n",
      "[0.8883495145631068, 0.8883495145631068, 0.8883495145631068, 0.8883495145631068, 0.8883495145631068, 0.8883495145631068, 0.8932038834951457, 0.8883495145631068, 0.8883495145631068, 0.8883495145631068, 0.8932038834951457, 0.8932038834951457, 0.8932038834951457, 0.883495145631068, 0.8883495145631068, 0.8932038834951457, 0.8922330097087379, 0.883495145631068, 0.8796116504854369, 0.8757281553398059, 0.8932038834951457, 0.8932038834951457, 0.8815533980582524, 0.8660194174757282, 0.8689320388349514]\n"
     ]
    }
   ],
   "source": [
    "from sklearn.datasets import make_moons\n",
    "from sklearn.svm import SVC\n",
    "import matplotlib.gridspec as gridspec\n",
    "import itertools\n",
    "\n",
    "train_score_list3 = []\n",
    "test_score_list3 = []\n",
    "\n",
    "c_range = [0.01, 0.1, 1.0, 10.0, 100.0]\n",
    "gamma_range = [0.01, 0.1, 1.0, 10.0, 100.0]\n",
    "\n",
    "for c in c_range:\n",
    "    for g in gamma_range:\n",
    "        svc = SVC(random_state=0, C=c, gamma=g)\n",
    "#         print(c)\n",
    "#         print(g)\n",
    "        svc.fit(X_train, y_train)\n",
    "        train_score_list3.append(svc.score(X_train, y_train))\n",
    "        test_score_list3.append(svc.score(X_test, y_test))\n",
    "\n",
    "print(train_score_list3)\n",
    "print(test_score_list3)"
   ]
  },
  {
   "cell_type": "code",
   "execution_count": 714,
   "id": "cross-carpet",
   "metadata": {},
   "outputs": [
    {
     "name": "stdout",
     "output_type": "stream",
     "text": [
      "[-0.007805649234521539, -0.007805649234521539, -0.007805649234521539, -0.007805649234521539, -0.007805649234521539, -0.007805649234521539, 0.0035264499460974097, -0.007805649234521539, -0.007805649234521539, -0.007805649234521539, 0.004821367395110077, 0.004821367395110077, 0.01550443634946419, 0.04139964232619975, 0.07539279686453959, 0.004821367395110077, 0.00805834671729, 0.053053899367313306, 0.08963406010051322, 0.11682606932837158, 0.004821367395110077, 0.036223115533666195, 0.08057026655812827, 0.1174703850493608, 0.12880185562927648]\n"
     ]
    }
   ],
   "source": [
    "difference = []\n",
    "\n",
    "zip_object2 = zip(train_score_list3, test_score_list3)\n",
    "\n",
    "for train_i, test_i in zip_object2:\n",
    "    difference.append(train_i - test_i)\n",
    "\n",
    "print(difference)"
   ]
  },
  {
   "cell_type": "code",
   "execution_count": 715,
   "id": "agreed-prime",
   "metadata": {},
   "outputs": [
    {
     "name": "stdout",
     "output_type": "stream",
     "text": [
      "0.8980252508902558\n",
      "0.8932038834951457\n",
      "0.004821367395110077\n"
     ]
    }
   ],
   "source": [
    "svcc1gp1 = SVC(random_state=0, C=1, gamma=0.1)\n",
    "svcc1gp1.fit(X_train, y_train)\n",
    "print(svcc1gp1.score(X_train, y_train))\n",
    "print(svcc1gp1.score(X_test, y_test))\n",
    "print(svcc1gp1.score(X_train, y_train) - svcc1gp1.score(X_test, y_test))"
   ]
  },
  {
   "cell_type": "code",
   "execution_count": 716,
   "id": "forward-manor",
   "metadata": {},
   "outputs": [],
   "source": [
    "##Question 6 "
   ]
  },
  {
   "cell_type": "code",
   "execution_count": 717,
   "id": "developmental-price",
   "metadata": {},
   "outputs": [],
   "source": [
    "#min_samples_leaf=50"
   ]
  },
  {
   "cell_type": "code",
   "execution_count": 718,
   "id": "reasonable-prophet",
   "metadata": {},
   "outputs": [
    {
     "name": "stdout",
     "output_type": "stream",
     "text": [
      "Accuracy on training set: 0.905\n",
      "Accuracy on test set: 0.893\n"
     ]
    }
   ],
   "source": [
    "from sklearn.tree import DecisionTreeClassifier\n",
    "\n",
    "dtree = DecisionTreeClassifier(min_samples_leaf=50)\n",
    "dtree.fit(X_train, y_train)\n",
    "print(\"Accuracy on training set: {:.3f}\".format(dtree.score(X_train, y_train)))\n",
    "print(\"Accuracy on test set: {:.3f}\".format(dtree.score(X_test, y_test)))"
   ]
  },
  {
   "cell_type": "code",
   "execution_count": 719,
   "id": "aware-circular",
   "metadata": {},
   "outputs": [],
   "source": [
    "#max_depth=7 --best model for training accuracy"
   ]
  },
  {
   "cell_type": "code",
   "execution_count": 720,
   "id": "second-stocks",
   "metadata": {},
   "outputs": [
    {
     "name": "stdout",
     "output_type": "stream",
     "text": [
      "Accuracy on training set: 0.933\n",
      "Accuracy on test set: 0.893\n"
     ]
    }
   ],
   "source": [
    "dtree = DecisionTreeClassifier(random_state=0, max_depth=7)\n",
    "dtree.fit(X_train, y_train)\n",
    "print(\"Accuracy on training set: {:.3f}\".format(dtree.score(X_train, y_train)))\n",
    "print(\"Accuracy on test set: {:.3f}\".format(dtree.score(X_test, y_test)))"
   ]
  },
  {
   "cell_type": "code",
   "execution_count": 721,
   "id": "ambient-anxiety",
   "metadata": {},
   "outputs": [],
   "source": [
    "#min_samples_split = 150"
   ]
  },
  {
   "cell_type": "code",
   "execution_count": 722,
   "id": "numerical-boulder",
   "metadata": {},
   "outputs": [
    {
     "name": "stdout",
     "output_type": "stream",
     "text": [
      "Accuracy on training set: 0.908\n",
      "Accuracy on test set: 0.892\n"
     ]
    }
   ],
   "source": [
    "dtree = DecisionTreeClassifier(random_state=0, min_samples_split = 150)\n",
    "dtree.fit(X_train, y_train)\n",
    "print(\"Accuracy on training set: {:.3f}\".format(dtree.score(X_train, y_train)))\n",
    "print(\"Accuracy on test set: {:.3f}\".format(dtree.score(X_test, y_test)))"
   ]
  },
  {
   "cell_type": "code",
   "execution_count": 723,
   "id": "sitting-rider",
   "metadata": {},
   "outputs": [],
   "source": [
    "#min_impurity_decrease = 0.005"
   ]
  },
  {
   "cell_type": "code",
   "execution_count": 724,
   "id": "bibliographic-ultimate",
   "metadata": {},
   "outputs": [
    {
     "name": "stdout",
     "output_type": "stream",
     "text": [
      "Accuracy on training set: 0.895\n",
      "Accuracy on test set: 0.895\n"
     ]
    }
   ],
   "source": [
    "dtree = DecisionTreeClassifier(random_state=0, min_impurity_decrease = 0.005)\n",
    "dtree.fit(X_train, y_train)\n",
    "print(\"Accuracy on training set: {:.3f}\".format(dtree.score(X_train, y_train)))\n",
    "print(\"Accuracy on test set: {:.3f}\".format(dtree.score(X_test, y_test)))"
   ]
  },
  {
   "cell_type": "code",
   "execution_count": 725,
   "id": "controversial-ivory",
   "metadata": {},
   "outputs": [],
   "source": [
    "##Question 8 - Train the Decision Tree modewl with max_depth = 2, random+state = 0. \n",
    "##Plot this tree using the GraphViz tool in Python\n",
    "##What is the gini score of the leaf node with the highest number of samples? "
   ]
  },
  {
   "cell_type": "code",
   "execution_count": 726,
   "id": "inclusive-notebook",
   "metadata": {},
   "outputs": [],
   "source": [
    "import os \n",
    "import graphviz\n",
    "os.environ[\"PATH\"] += os.pathsep + 'C:/Program Files (x86)/Graphviz2.38/bin/'"
   ]
  },
  {
   "cell_type": "code",
   "execution_count": 727,
   "id": "historical-bryan",
   "metadata": {},
   "outputs": [
    {
     "data": {
      "image/svg+xml": [
       "<?xml version=\"1.0\" encoding=\"UTF-8\" standalone=\"no\"?>\n",
       "<!DOCTYPE svg PUBLIC \"-//W3C//DTD SVG 1.1//EN\"\n",
       " \"http://www.w3.org/Graphics/SVG/1.1/DTD/svg11.dtd\">\n",
       "<!-- Generated by graphviz version 2.49.1 (20210923.0004)\n",
       " -->\n",
       "<!-- Title: Tree Pages: 1 -->\n",
       "<svg width=\"570pt\" height=\"269pt\"\n",
       " viewBox=\"0.00 0.00 569.50 269.00\" xmlns=\"http://www.w3.org/2000/svg\" xmlns:xlink=\"http://www.w3.org/1999/xlink\">\n",
       "<g id=\"graph0\" class=\"graph\" transform=\"scale(1 1) rotate(0) translate(4 265)\">\n",
       "<title>Tree</title>\n",
       "<polygon fill=\"white\" stroke=\"transparent\" points=\"-4,4 -4,-265 565.5,-265 565.5,4 -4,4\"/>\n",
       "<!-- 0 -->\n",
       "<g id=\"node1\" class=\"node\">\n",
       "<title>0</title>\n",
       "<path fill=\"#e99254\" stroke=\"black\" d=\"M344,-261C344,-261 232,-261 232,-261 226,-261 220,-255 220,-249 220,-249 220,-205 220,-205 220,-199 226,-193 232,-193 232,-193 344,-193 344,-193 350,-193 356,-199 356,-205 356,-205 356,-249 356,-249 356,-255 350,-261 344,-261\"/>\n",
       "<text text-anchor=\"middle\" x=\"288\" y=\"-245.8\" font-family=\"Helvetica,sans-Serif\" font-size=\"14.00\">duration &lt;= 0.107</text>\n",
       "<text text-anchor=\"middle\" x=\"288\" y=\"-230.8\" font-family=\"Helvetica,sans-Serif\" font-size=\"14.00\">gini = 0.21</text>\n",
       "<text text-anchor=\"middle\" x=\"288\" y=\"-215.8\" font-family=\"Helvetica,sans-Serif\" font-size=\"14.00\">samples = 3089</text>\n",
       "<text text-anchor=\"middle\" x=\"288\" y=\"-200.8\" font-family=\"Helvetica,sans-Serif\" font-size=\"14.00\">value = [2720, 369]</text>\n",
       "</g>\n",
       "<!-- 1 -->\n",
       "<g id=\"node2\" class=\"node\">\n",
       "<title>1</title>\n",
       "<path fill=\"#e78b49\" stroke=\"black\" d=\"M280,-157C280,-157 124,-157 124,-157 118,-157 112,-151 112,-145 112,-145 112,-101 112,-101 112,-95 118,-89 124,-89 124,-89 280,-89 280,-89 286,-89 292,-95 292,-101 292,-101 292,-145 292,-145 292,-151 286,-157 280,-157\"/>\n",
       "<text text-anchor=\"middle\" x=\"202\" y=\"-141.8\" font-family=\"Helvetica,sans-Serif\" font-size=\"14.00\">poutcome_success &lt;= 0.5</text>\n",
       "<text text-anchor=\"middle\" x=\"202\" y=\"-126.8\" font-family=\"Helvetica,sans-Serif\" font-size=\"14.00\">gini = 0.139</text>\n",
       "<text text-anchor=\"middle\" x=\"202\" y=\"-111.8\" font-family=\"Helvetica,sans-Serif\" font-size=\"14.00\">samples = 2733</text>\n",
       "<text text-anchor=\"middle\" x=\"202\" y=\"-96.8\" font-family=\"Helvetica,sans-Serif\" font-size=\"14.00\">value = [2528, 205]</text>\n",
       "</g>\n",
       "<!-- 0&#45;&gt;1 -->\n",
       "<g id=\"edge1\" class=\"edge\">\n",
       "<title>0&#45;&gt;1</title>\n",
       "<path fill=\"none\" stroke=\"black\" d=\"M260.08,-192.88C252.57,-183.98 244.36,-174.24 236.53,-164.96\"/>\n",
       "<polygon fill=\"black\" stroke=\"black\" points=\"239.2,-162.69 230.08,-157.3 233.85,-167.2 239.2,-162.69\"/>\n",
       "<text text-anchor=\"middle\" x=\"227.96\" y=\"-178.51\" font-family=\"Helvetica,sans-Serif\" font-size=\"14.00\">True</text>\n",
       "</g>\n",
       "<!-- 4 -->\n",
       "<g id=\"node5\" class=\"node\">\n",
       "<title>4</title>\n",
       "<path fill=\"#fbede2\" stroke=\"black\" d=\"M426,-157C426,-157 322,-157 322,-157 316,-157 310,-151 310,-145 310,-145 310,-101 310,-101 310,-95 316,-89 322,-89 322,-89 426,-89 426,-89 432,-89 438,-95 438,-101 438,-101 438,-145 438,-145 438,-151 432,-157 426,-157\"/>\n",
       "<text text-anchor=\"middle\" x=\"374\" y=\"-141.8\" font-family=\"Helvetica,sans-Serif\" font-size=\"14.00\">duration &lt;= 0.19</text>\n",
       "<text text-anchor=\"middle\" x=\"374\" y=\"-126.8\" font-family=\"Helvetica,sans-Serif\" font-size=\"14.00\">gini = 0.497</text>\n",
       "<text text-anchor=\"middle\" x=\"374\" y=\"-111.8\" font-family=\"Helvetica,sans-Serif\" font-size=\"14.00\">samples = 356</text>\n",
       "<text text-anchor=\"middle\" x=\"374\" y=\"-96.8\" font-family=\"Helvetica,sans-Serif\" font-size=\"14.00\">value = [192, 164]</text>\n",
       "</g>\n",
       "<!-- 0&#45;&gt;4 -->\n",
       "<g id=\"edge4\" class=\"edge\">\n",
       "<title>0&#45;&gt;4</title>\n",
       "<path fill=\"none\" stroke=\"black\" d=\"M315.92,-192.88C323.43,-183.98 331.64,-174.24 339.47,-164.96\"/>\n",
       "<polygon fill=\"black\" stroke=\"black\" points=\"342.15,-167.2 345.92,-157.3 336.8,-162.69 342.15,-167.2\"/>\n",
       "<text text-anchor=\"middle\" x=\"348.04\" y=\"-178.51\" font-family=\"Helvetica,sans-Serif\" font-size=\"14.00\">False</text>\n",
       "</g>\n",
       "<!-- 2 -->\n",
       "<g id=\"node3\" class=\"node\">\n",
       "<title>2</title>\n",
       "<path fill=\"#e68844\" stroke=\"black\" d=\"M124,-53C124,-53 12,-53 12,-53 6,-53 0,-47 0,-41 0,-41 0,-12 0,-12 0,-6 6,0 12,0 12,0 124,0 124,0 130,0 136,-6 136,-12 136,-12 136,-41 136,-41 136,-47 130,-53 124,-53\"/>\n",
       "<text text-anchor=\"middle\" x=\"68\" y=\"-37.8\" font-family=\"Helvetica,sans-Serif\" font-size=\"14.00\">gini = 0.096</text>\n",
       "<text text-anchor=\"middle\" x=\"68\" y=\"-22.8\" font-family=\"Helvetica,sans-Serif\" font-size=\"14.00\">samples = 2633</text>\n",
       "<text text-anchor=\"middle\" x=\"68\" y=\"-7.8\" font-family=\"Helvetica,sans-Serif\" font-size=\"14.00\">value = [2500, 133]</text>\n",
       "</g>\n",
       "<!-- 1&#45;&gt;2 -->\n",
       "<g id=\"edge2\" class=\"edge\">\n",
       "<title>1&#45;&gt;2</title>\n",
       "<path fill=\"none\" stroke=\"black\" d=\"M155.13,-88.95C141.38,-79.25 126.39,-68.68 112.77,-59.07\"/>\n",
       "<polygon fill=\"black\" stroke=\"black\" points=\"114.68,-56.14 104.49,-53.24 110.65,-61.86 114.68,-56.14\"/>\n",
       "</g>\n",
       "<!-- 3 -->\n",
       "<g id=\"node4\" class=\"node\">\n",
       "<title>3</title>\n",
       "<path fill=\"#86c3ef\" stroke=\"black\" d=\"M255.5,-53C255.5,-53 166.5,-53 166.5,-53 160.5,-53 154.5,-47 154.5,-41 154.5,-41 154.5,-12 154.5,-12 154.5,-6 160.5,0 166.5,0 166.5,0 255.5,0 255.5,0 261.5,0 267.5,-6 267.5,-12 267.5,-12 267.5,-41 267.5,-41 267.5,-47 261.5,-53 255.5,-53\"/>\n",
       "<text text-anchor=\"middle\" x=\"211\" y=\"-37.8\" font-family=\"Helvetica,sans-Serif\" font-size=\"14.00\">gini = 0.403</text>\n",
       "<text text-anchor=\"middle\" x=\"211\" y=\"-22.8\" font-family=\"Helvetica,sans-Serif\" font-size=\"14.00\">samples = 100</text>\n",
       "<text text-anchor=\"middle\" x=\"211\" y=\"-7.8\" font-family=\"Helvetica,sans-Serif\" font-size=\"14.00\">value = [28, 72]</text>\n",
       "</g>\n",
       "<!-- 1&#45;&gt;3 -->\n",
       "<g id=\"edge3\" class=\"edge\">\n",
       "<title>1&#45;&gt;3</title>\n",
       "<path fill=\"none\" stroke=\"black\" d=\"M205.15,-88.95C205.94,-80.62 206.8,-71.65 207.6,-63.2\"/>\n",
       "<polygon fill=\"black\" stroke=\"black\" points=\"211.08,-63.52 208.55,-53.24 204.12,-62.86 211.08,-63.52\"/>\n",
       "</g>\n",
       "<!-- 5 -->\n",
       "<g id=\"node6\" class=\"node\">\n",
       "<title>5</title>\n",
       "<path fill=\"#f7d6be\" stroke=\"black\" d=\"M418,-53C418,-53 314,-53 314,-53 308,-53 302,-47 302,-41 302,-41 302,-12 302,-12 302,-6 308,0 314,0 314,0 418,0 418,0 424,0 430,-6 430,-12 430,-12 430,-41 430,-41 430,-47 424,-53 418,-53\"/>\n",
       "<text text-anchor=\"middle\" x=\"366\" y=\"-37.8\" font-family=\"Helvetica,sans-Serif\" font-size=\"14.00\">gini = 0.481</text>\n",
       "<text text-anchor=\"middle\" x=\"366\" y=\"-22.8\" font-family=\"Helvetica,sans-Serif\" font-size=\"14.00\">samples = 256</text>\n",
       "<text text-anchor=\"middle\" x=\"366\" y=\"-7.8\" font-family=\"Helvetica,sans-Serif\" font-size=\"14.00\">value = [153, 103]</text>\n",
       "</g>\n",
       "<!-- 4&#45;&gt;5 -->\n",
       "<g id=\"edge5\" class=\"edge\">\n",
       "<title>4&#45;&gt;5</title>\n",
       "<path fill=\"none\" stroke=\"black\" d=\"M371.2,-88.95C370.5,-80.62 369.74,-71.65 369.02,-63.2\"/>\n",
       "<polygon fill=\"black\" stroke=\"black\" points=\"372.51,-62.91 368.18,-53.24 365.53,-63.5 372.51,-62.91\"/>\n",
       "</g>\n",
       "<!-- 6 -->\n",
       "<g id=\"node7\" class=\"node\">\n",
       "<title>6</title>\n",
       "<path fill=\"#b8dcf6\" stroke=\"black\" d=\"M549.5,-53C549.5,-53 460.5,-53 460.5,-53 454.5,-53 448.5,-47 448.5,-41 448.5,-41 448.5,-12 448.5,-12 448.5,-6 454.5,0 460.5,0 460.5,0 549.5,0 549.5,0 555.5,0 561.5,-6 561.5,-12 561.5,-12 561.5,-41 561.5,-41 561.5,-47 555.5,-53 549.5,-53\"/>\n",
       "<text text-anchor=\"middle\" x=\"505\" y=\"-37.8\" font-family=\"Helvetica,sans-Serif\" font-size=\"14.00\">gini = 0.476</text>\n",
       "<text text-anchor=\"middle\" x=\"505\" y=\"-22.8\" font-family=\"Helvetica,sans-Serif\" font-size=\"14.00\">samples = 100</text>\n",
       "<text text-anchor=\"middle\" x=\"505\" y=\"-7.8\" font-family=\"Helvetica,sans-Serif\" font-size=\"14.00\">value = [39, 61]</text>\n",
       "</g>\n",
       "<!-- 4&#45;&gt;6 -->\n",
       "<g id=\"edge6\" class=\"edge\">\n",
       "<title>4&#45;&gt;6</title>\n",
       "<path fill=\"none\" stroke=\"black\" d=\"M419.82,-88.95C433.13,-79.34 447.64,-68.87 460.86,-59.34\"/>\n",
       "<polygon fill=\"black\" stroke=\"black\" points=\"463.26,-61.93 469.32,-53.24 459.16,-56.25 463.26,-61.93\"/>\n",
       "</g>\n",
       "</g>\n",
       "</svg>\n"
      ],
      "text/plain": [
       "<graphviz.files.Source at 0x122e4a2e0>"
      ]
     },
     "execution_count": 727,
     "metadata": {},
     "output_type": "execute_result"
    }
   ],
   "source": [
    "# Create DOT data\n",
    "from sklearn.tree import export_graphviz\n",
    "\n",
    "tree = DecisionTreeClassifier(random_state=0, max_depth = 2)\n",
    "tree.fit(X_train, y_train)\n",
    "\n",
    "dot_data = export_graphviz(tree, out_file=None, filled=True, rounded=True, feature_names=X.columns) \n",
    "\n",
    "# Draw graph\n",
    "graph = graphviz.Source(dot_data) \n",
    "\n",
    "# Show graph -- Answer: 0.2100\n",
    "graph "
   ]
  },
  {
   "cell_type": "markdown",
   "id": "illegal-talent",
   "metadata": {},
   "source": [
    "## Lab 5"
   ]
  },
  {
   "cell_type": "code",
   "execution_count": 728,
   "id": "suburban-heater",
   "metadata": {},
   "outputs": [],
   "source": [
    "# Question 1 - For this lab, we only consider the 'yes' in the target column as the positive label\n",
    "# The easiest way we can enforce this assumption is to map 'no' tp 0 and 'yes' to 1. \n",
    "# From now on, the target column of X_train and X_test should hold binary values 0 and 1. \n",
    "# Use the GridSearchVS with 5 folds and default scoring to find the best hyperparameters of a SVC model on dataset\n",
    "# Which of the following is the best set of hyperparameters: Set random_state = 0)."
   ]
  },
  {
   "cell_type": "code",
   "execution_count": 123,
   "id": "pharmaceutical-minute",
   "metadata": {},
   "outputs": [],
   "source": [
    "#Transform data\n",
    "y_train.replace('yes', 1, inplace=True)\n",
    "y_train.replace('no', 0, inplace=True)"
   ]
  },
  {
   "cell_type": "code",
   "execution_count": 124,
   "id": "polar-lodging",
   "metadata": {},
   "outputs": [],
   "source": [
    "y_test.replace('yes', 1, inplace=True)\n",
    "y_test.replace('no', 0, inplace=True)"
   ]
  },
  {
   "cell_type": "code",
   "execution_count": 731,
   "id": "daily-worse",
   "metadata": {},
   "outputs": [
    {
     "data": {
      "text/plain": [
       "3987    0\n",
       "3438    0\n",
       "1644    0\n",
       "458     0\n",
       "2644    1\n",
       "Name: y, dtype: int64"
      ]
     },
     "execution_count": 731,
     "metadata": {},
     "output_type": "execute_result"
    }
   ],
   "source": [
    "y_train.head()"
   ]
  },
  {
   "cell_type": "code",
   "execution_count": 732,
   "id": "antique-calculator",
   "metadata": {},
   "outputs": [
    {
     "data": {
      "text/plain": [
       "3754    0\n",
       "45      0\n",
       "2774    1\n",
       "1170    0\n",
       "4042    0\n",
       "Name: y, dtype: int64"
      ]
     },
     "execution_count": 732,
     "metadata": {},
     "output_type": "execute_result"
    }
   ],
   "source": [
    "y_test.head()"
   ]
  },
  {
   "cell_type": "code",
   "execution_count": 733,
   "id": "complete-spectrum",
   "metadata": {},
   "outputs": [
    {
     "name": "stdout",
     "output_type": "stream",
     "text": [
      "Parameter grid:\n",
      "{'C': [0.01, 0.1, 1, 10, 100], 'gamma': [0.01, 0.1, 1, 10, 100]}\n"
     ]
    }
   ],
   "source": [
    "#dictionary object\n",
    "param_grid = {'C': [0.01, 0.1, 1, 10, 100],\n",
    "              'gamma': [0.01, 0.1, 1, 10, 100]}\n",
    "print(\"Parameter grid:\\n{}\".format(param_grid))"
   ]
  },
  {
   "cell_type": "code",
   "execution_count": 734,
   "id": "vocational-choir",
   "metadata": {},
   "outputs": [],
   "source": [
    "from sklearn.model_selection import GridSearchCV\n",
    "from sklearn.svm import SVC\n",
    "\n",
    "#create new supervised model - instance of base model, dictionary object, # folds in the cv\n",
    "grid_search = GridSearchCV(SVC(), param_grid, cv=5, return_train_score=True)"
   ]
  },
  {
   "cell_type": "code",
   "execution_count": 735,
   "id": "abroad-saying",
   "metadata": {},
   "outputs": [
    {
     "data": {
      "text/plain": [
       "GridSearchCV(cv=5, estimator=SVC(),\n",
       "             param_grid={'C': [0.01, 0.1, 1, 10, 100],\n",
       "                         'gamma': [0.01, 0.1, 1, 10, 100]},\n",
       "             return_train_score=True)"
      ]
     },
     "execution_count": 735,
     "metadata": {},
     "output_type": "execute_result"
    }
   ],
   "source": [
    "grid_search.fit(X_train, y_train)"
   ]
  },
  {
   "cell_type": "code",
   "execution_count": 736,
   "id": "completed-investigator",
   "metadata": {},
   "outputs": [
    {
     "name": "stdout",
     "output_type": "stream",
     "text": [
      "Best parameters: {'C': 1, 'gamma': 0.01}\n",
      "Best cross-validation score: 0.8980252081005806\n"
     ]
    }
   ],
   "source": [
    "print(\"Best parameters: {}\".format(grid_search.best_params_))\n",
    "# Question 2 - What is the best score \n",
    "print(\"Best cross-validation score: {}\".format(grid_search.best_score_))"
   ]
  },
  {
   "cell_type": "code",
   "execution_count": 737,
   "id": "democratic-routine",
   "metadata": {},
   "outputs": [],
   "source": [
    "# Question 3 - Now instantiate a SVC model with the best hyperparameters\n",
    "# you have found in the last two questions. Based on the recall and\n",
    "# precision score of the test data frame, which of the following\n",
    "# statements is true?"
   ]
  },
  {
   "cell_type": "code",
   "execution_count": 738,
   "id": "alone-clone",
   "metadata": {},
   "outputs": [
    {
     "data": {
      "text/plain": [
       "0.8932038834951457"
      ]
     },
     "execution_count": 738,
     "metadata": {},
     "output_type": "execute_result"
    }
   ],
   "source": [
    "from sklearn.svm import SVC\n",
    "\n",
    "svc = SVC(random_state=0, C=1, gamma=0.01)\n",
    "svc.fit(X_train, y_train)\n",
    "svc.score(X_test, y_test)"
   ]
  },
  {
   "cell_type": "code",
   "execution_count": 739,
   "id": "responsible-korean",
   "metadata": {},
   "outputs": [],
   "source": [
    "pred_test = svc.predict(X_test)"
   ]
  },
  {
   "cell_type": "code",
   "execution_count": 740,
   "id": "meaning-seeker",
   "metadata": {},
   "outputs": [
    {
     "name": "stdout",
     "output_type": "stream",
     "text": [
      "Recall score: 0.19130434782608696\n",
      "Precision score: 0.5641025641025641\n"
     ]
    }
   ],
   "source": [
    "from sklearn.metrics import recall_score, precision_score, f1_score\n",
    "\n",
    "print(\"Recall score: {}\".format(recall_score(y_test, pred_test)))\n",
    "print(\"Precision score: {}\".format(precision_score(y_test, pred_test)))"
   ]
  },
  {
   "cell_type": "code",
   "execution_count": 741,
   "id": "critical-thesaurus",
   "metadata": {},
   "outputs": [],
   "source": [
    "# Conclusion above that Type 2 error is significantly higher in this model. We should\n",
    "# change the grid search scoring to recall to control this error\n",
    "# better while the model fits on the train data dataset."
   ]
  },
  {
   "cell_type": "code",
   "execution_count": 742,
   "id": "illegal-writer",
   "metadata": {},
   "outputs": [],
   "source": [
    "# Question 4 - Use the GridSearchCV with 5 folds and the scoring function\n",
    "#you choose in the previous question to find the best\n",
    "#hyperparameters of a SVC model on this dataset. Which of the\n",
    "#following is the best set of hyperparameters: (Set random_state = 0."
   ]
  },
  {
   "cell_type": "code",
   "execution_count": 743,
   "id": "existing-stand",
   "metadata": {},
   "outputs": [],
   "source": [
    "param_grid = {'C': [0.01, 0.1, 1, 10, 100], 'gamma':[0.01, .1, 1, 10, 100]}"
   ]
  },
  {
   "cell_type": "code",
   "execution_count": 744,
   "id": "second-fortune",
   "metadata": {},
   "outputs": [],
   "source": [
    "grid_search2 = GridSearchCV(SVC(random_state=0), param_grid, cv=5, return_train_score=True, scoring='recall')"
   ]
  },
  {
   "cell_type": "code",
   "execution_count": 745,
   "id": "proprietary-diagram",
   "metadata": {},
   "outputs": [
    {
     "data": {
      "text/plain": [
       "GridSearchCV(cv=5, estimator=SVC(random_state=0),\n",
       "             param_grid={'C': [0.01, 0.1, 1, 10, 100],\n",
       "                         'gamma': [0.01, 0.1, 1, 10, 100]},\n",
       "             return_train_score=True, scoring='recall')"
      ]
     },
     "execution_count": 745,
     "metadata": {},
     "output_type": "execute_result"
    }
   ],
   "source": [
    "grid_search2.fit(X_train, y_train)"
   ]
  },
  {
   "cell_type": "code",
   "execution_count": 746,
   "id": "stylish-raleigh",
   "metadata": {},
   "outputs": [
    {
     "name": "stdout",
     "output_type": "stream",
     "text": [
      "Best parameters: {'C': 100, 'gamma': 0.1}\n",
      "Best cross-validation score: 0.3115883006293965\n"
     ]
    }
   ],
   "source": [
    "print(\"Best parameters: {}\".format(grid_search2.best_params_))\n",
    "# Question 5 - What is the best score \n",
    "print(\"Best cross-validation score: {}\".format(grid_search2.best_score_))"
   ]
  },
  {
   "cell_type": "code",
   "execution_count": 747,
   "id": "indirect-mainland",
   "metadata": {},
   "outputs": [],
   "source": [
    "# Question 6 - The grid search best_score_ in the previous two questions is\n",
    "# considering which scoring function?\n",
    "# accuracy??? or recall????"
   ]
  },
  {
   "cell_type": "code",
   "execution_count": 748,
   "id": "speaking-theology",
   "metadata": {},
   "outputs": [],
   "source": [
    "# Question 7 - Run logistic model with following hyper paramters: C = 1; penalty = 'l2'; random_state = 0\n",
    "# The model overfits, and you should increase the value of\n",
    "# hyperparameter C to control the model's complexity.\n",
    "# The model underfits, and you should increase the value of\n",
    "# hyperparameter C to control the model's complexity.\n",
    "# The model overfits, and you should decrease the value of\n",
    "# hyperparameter C to control the model's complexity.\n",
    "# The model underfits, and you should decrease the value of\n",
    "# hyperparameter C to control the model's complexity."
   ]
  },
  {
   "cell_type": "code",
   "execution_count": 749,
   "id": "incident-willow",
   "metadata": {},
   "outputs": [],
   "source": [
    "from sklearn.linear_model import LogisticRegression\n",
    "\n",
    "log_reg = LogisticRegression(penalty = 'l2', C = 1, random_state=0)\n",
    "log_reg.fit(X_train, y_train)\n",
    "\n",
    "log_pred = log_reg.predict(X_test)"
   ]
  },
  {
   "cell_type": "code",
   "execution_count": 750,
   "id": "according-april",
   "metadata": {},
   "outputs": [
    {
     "name": "stdout",
     "output_type": "stream",
     "text": [
      "Recall score: 0.21739130434782608\n"
     ]
    }
   ],
   "source": [
    "print(\"Recall score: {}\".format(recall_score(y_test, log_pred)))"
   ]
  },
  {
   "cell_type": "code",
   "execution_count": 751,
   "id": "sporting-pearl",
   "metadata": {},
   "outputs": [],
   "source": [
    "# QUestion 8 - Plot the precision_recall curve of the model in the previous question. \n",
    "# Which value of threshold will give the smallest distance of\n",
    "# precision to 0.5? (Enter the answer with four significant digits after\n",
    "# the decimal point)"
   ]
  },
  {
   "cell_type": "code",
   "execution_count": 752,
   "id": "juvenile-george",
   "metadata": {},
   "outputs": [
    {
     "data": {
      "image/png": "[encoded data removed]",
      "text/plain": [
       "<Figure size 720x360 with 1 Axes>"
      ]
     },
     "metadata": {
      "needs_background": "light"
     },
     "output_type": "display_data"
    }
   ],
   "source": [
    "from sklearn.metrics import precision_recall_curve\n",
    "\n",
    "%matplotlib inline\n",
    "\n",
    "plt.subplots(figsize = (10,5))\n",
    "precision, recall, thresholds = precision_recall_curve(y_train, log_reg.decision_function(X_train))\n",
    "\n",
    "close_zero = np.argmin(np.abs(thresholds))\n",
    "#close_default_rf = np.argmin(np.abs(thresholds_rf - 0.5))\n",
    "# plt.plot(precision_rf[close_default_rf], recall_rf[close_default_rf], '^', c='k',\n",
    "#         markersize=10, label=\"threshold 0.5 rf\", fillstyle=\"none\", mew=2)\n",
    "\n",
    "plt.plot(precision[close_zero], recall[close_zero], 'o', markersize=10,\n",
    "          label=\"threshold zero\", fillstyle=\"none\", c='k', mew=2)\n",
    "\n",
    "plt.plot(precision[2217], recall[2217], 'o', markersize=10,\n",
    "         label=\"best threshold\", fillstyle=\"none\", c='r', mew=2)\n",
    "\n",
    "plt.plot(precision, recall, label=\"precision recall curve\")\n",
    "plt.xlabel(\"Precision\")\n",
    "plt.ylabel(\"Recall\")\n",
    "plt.legend(loc=\"best\")\n",
    "plt.grid()"
   ]
  },
  {
   "cell_type": "code",
   "execution_count": 753,
   "id": "muslim-marks",
   "metadata": {},
   "outputs": [
    {
     "name": "stdout",
     "output_type": "stream",
     "text": [
      "Before the post processing: \n",
      "Precision:  0.6764705882352942\n",
      "Recall:  0.2\n"
     ]
    }
   ],
   "source": [
    "from sklearn.metrics import precision_score, recall_score\n",
    "\n",
    "y_predict = np.where(log_reg.decision_function(X_test) >= 0.5, 1, 0)\n",
    "print('Before the post processing: ')\n",
    "print('Precision: ', precision_score(y_test, y_predict))\n",
    "print('Recall: ', recall_score(y_test, y_predict))"
   ]
  },
  {
   "cell_type": "code",
   "execution_count": 754,
   "id": "about-dayton",
   "metadata": {},
   "outputs": [
    {
     "data": {
      "text/plain": [
       "2217"
      ]
     },
     "execution_count": 754,
     "metadata": {},
     "output_type": "execute_result"
    }
   ],
   "source": [
    "np.argmin(np.abs(precision - 0.5))"
   ]
  },
  {
   "cell_type": "code",
   "execution_count": 755,
   "id": "opened-awareness",
   "metadata": {},
   "outputs": [
    {
     "data": {
      "text/plain": [
       "5.722780789272035"
      ]
     },
     "execution_count": 755,
     "metadata": {},
     "output_type": "execute_result"
    }
   ],
   "source": [
    "thresholds[2682]"
   ]
  },
  {
   "cell_type": "code",
   "execution_count": 756,
   "id": "third-raise",
   "metadata": {},
   "outputs": [
    {
     "data": {
      "text/plain": [
       "-1.57672397002694"
      ]
     },
     "execution_count": 756,
     "metadata": {},
     "output_type": "execute_result"
    }
   ],
   "source": [
    "thresholds[2217]"
   ]
  },
  {
   "cell_type": "code",
   "execution_count": 757,
   "id": "solid-mapping",
   "metadata": {},
   "outputs": [
    {
     "data": {
      "text/plain": [
       "2581"
      ]
     },
     "execution_count": 757,
     "metadata": {},
     "output_type": "execute_result"
    }
   ],
   "source": [
    "np.argmin(np.abs(thresholds - 0.5))"
   ]
  },
  {
   "cell_type": "code",
   "execution_count": 758,
   "id": "critical-chase",
   "metadata": {},
   "outputs": [
    {
     "data": {
      "text/plain": [
       "-1.57672397002694"
      ]
     },
     "execution_count": 758,
     "metadata": {},
     "output_type": "execute_result"
    }
   ],
   "source": [
    "thresholds[2217]"
   ]
  },
  {
   "cell_type": "code",
   "execution_count": 759,
   "id": "objective-commerce",
   "metadata": {},
   "outputs": [
    {
     "data": {
      "text/plain": [
       "0.5081767488527862"
      ]
     },
     "execution_count": 759,
     "metadata": {},
     "output_type": "execute_result"
    }
   ],
   "source": [
    "thresholds[2581]"
   ]
  },
  {
   "cell_type": "code",
   "execution_count": 760,
   "id": "prescribed-survey",
   "metadata": {},
   "outputs": [],
   "source": [
    "# Question 9 - Now change the threshold to the value you have found in the previous question\n",
    "# What is the test recall score considering the new probability threshold? "
   ]
  },
  {
   "cell_type": "code",
   "execution_count": 761,
   "id": "revolutionary-salmon",
   "metadata": {},
   "outputs": [
    {
     "name": "stdout",
     "output_type": "stream",
     "text": [
      "After the post processing: \n",
      "Precision:  0.46853146853146854\n",
      "Recall:  0.5826086956521739\n"
     ]
    }
   ],
   "source": [
    "from sklearn.metrics import precision_score, recall_score\n",
    "\n",
    "y_predict = np.where(log_reg.decision_function(X_test) >= thresholds[2217], 1, 0)\n",
    "print('After the post processing: ')\n",
    "print('Precision: ', precision_score(y_test, y_predict))\n",
    "print('Recall: ', recall_score(y_test, y_predict))"
   ]
  },
  {
   "cell_type": "code",
   "execution_count": 762,
   "id": "freelance-agreement",
   "metadata": {},
   "outputs": [],
   "source": [
    "# Question 10 - Now train a SVC model with the following list of parameters on this dataset: \n",
    "# kernel = 'rbf', C = 0.5, gamma = 0.1. What is the roc_auc score of the test dataset? \n",
    "#Enter your answer with four digits after the decimal point.)"
   ]
  },
  {
   "cell_type": "code",
   "execution_count": 763,
   "id": "false-shelter",
   "metadata": {},
   "outputs": [
    {
     "data": {
      "text/plain": [
       "SVC(C=0.5, gamma=0.1, random_state=0)"
      ]
     },
     "execution_count": 763,
     "metadata": {},
     "output_type": "execute_result"
    }
   ],
   "source": [
    "%matplotlib inline\n",
    "from sklearn.metrics import f1_score\n",
    "\n",
    "svc_k = SVC(kernel = 'rbf', C = 0.5, gamma = 0.1, random_state=0)\n",
    "svc_k.fit(X_train, y_train)"
   ]
  },
  {
   "cell_type": "code",
   "execution_count": 764,
   "id": "fossil-scale",
   "metadata": {},
   "outputs": [
    {
     "data": {
      "text/plain": [
       "0.8420052268947493"
      ]
     },
     "execution_count": 764,
     "metadata": {},
     "output_type": "execute_result"
    }
   ],
   "source": [
    "%matplotlib inline\n",
    "\n",
    "from sklearn.metrics import roc_auc_score\n",
    "\n",
    "roc_auc_score(y_test, svc_k.decision_function(X_test))"
   ]
  },
  {
   "cell_type": "code",
   "execution_count": 765,
   "id": "official-possession",
   "metadata": {},
   "outputs": [],
   "source": [
    "# Question 11 - Use GridSearch model to find best parameters of DecisionTreeClassifier model on dataset\n",
    "# Make sure to use scoring function from Question 6. What is the best hyperparameter for this model?"
   ]
  },
  {
   "cell_type": "code",
   "execution_count": 766,
   "id": "hollow-prerequisite",
   "metadata": {},
   "outputs": [
    {
     "name": "stdout",
     "output_type": "stream",
     "text": [
      "Parameter grid:\n",
      "{'max_depth': [1, 2, 3, 4, 5]}\n",
      "Best parameters: {'max_depth': 4}\n",
      "Best cross-validation score: 0.3872269529803777\n"
     ]
    }
   ],
   "source": [
    "from sklearn.tree import DecisionTreeClassifier\n",
    "from sklearn.model_selection import GridSearchCV\n",
    "\n",
    "#dictionary object\n",
    "param_grid = {'max_depth': [1, 2, 3, 4, 5]}\n",
    "print(\"Parameter grid:\\n{}\".format(param_grid))\n",
    "\n",
    "#gridsearch object\n",
    "gs3 = GridSearchCV(DecisionTreeClassifier(), param_grid, cv=5, return_train_score=True, scoring='recall')\n",
    "\n",
    "gs3.fit(X_train, y_train)\n",
    "\n",
    "print(\"Best parameters: {}\".format(gs3.best_params_))\n",
    "# Question 12 - What is the best score \n",
    "print(\"Best cross-validation score: {}\".format(gs3.best_score_))"
   ]
  },
  {
   "cell_type": "code",
   "execution_count": 767,
   "id": "marine-samuel",
   "metadata": {},
   "outputs": [
    {
     "name": "stdout",
     "output_type": "stream",
     "text": [
      "Test score: 0.9368932038834952\n"
     ]
    }
   ],
   "source": [
    "# Question 13\n",
    "# Now change the default threshold probability to 0.4. \n",
    "# What is the test score of the Decision Tree model with the best hyperparameter \n",
    "# you have found in the last two questions? \n",
    "# Enter the answer with four digits after the decimal point. \n",
    "# Compare your result with the best validation score computed in the last question.\n",
    "\n",
    "threshold = 0.4\n",
    "\n",
    "dtc = DecisionTreeClassifier(max_depth = 4).fit(X_train, y_train)\n",
    "pred_tree = dtc.predict(X_test)\n",
    "prob_tree = dtc.predict_proba(X_test)\n",
    "\n",
    "# y_predict = (prob_tree [:,1] >= 0.4).astype('int')\n",
    "y_predict = np.where(prob_tree[:,1] >= 0.4, 1, 0)\n",
    "\n",
    "print(\"Test score: {}\".format(dtc.score(X_test, y_predict)))"
   ]
  },
  {
   "cell_type": "markdown",
   "id": "distinct-malawi",
   "metadata": {},
   "source": [
    "## Lab 6"
   ]
  },
  {
   "cell_type": "code",
   "execution_count": 768,
   "id": "wrapped-singapore",
   "metadata": {},
   "outputs": [],
   "source": [
    "from sklearn.tree import DecisionTreeClassifier\n",
    "from sklearn.linear_model import LogisticRegression\n",
    "from sklearn.svm import SVC\n",
    "\n",
    "from sklearn.ensemble import VotingClassifier"
   ]
  },
  {
   "cell_type": "code",
   "execution_count": 769,
   "id": "human-entry",
   "metadata": {},
   "outputs": [],
   "source": [
    "log_clf = LogisticRegression(random_state= 0, solver = 'lbfgs', penalty='l2')\n",
    "log_clf.fit(X_train, y_train)\n",
    "\n",
    "dt_clf = DecisionTreeClassifier(max_depth = 1, random_state = 0)\n",
    "dt_clf.fit(X_train, y_train)\n",
    "\n",
    "svm_clf = SVC(random_state= 0, probability=True)\n",
    "svm_clf.fit(X_train, y_train)\n",
    "\n",
    "voting_clf = VotingClassifier(estimators=[('lr', log_clf), ('dt', dt_clf), ('svc', svm_clf)], voting='hard')\n",
    "voting_clf.fit(X_train, y_train)\n",
    "\n",
    "from sklearn.metrics import accuracy_score\n",
    "from sklearn.metrics import recall_score, precision_score, f1_score\n",
    "# for clf in (log_clf, dt_clf, svm_clf, voting_clf):\n",
    "#     clf.fit(X_train, y_train)\n",
    "#     y_pred = clf.predict(X_test)\n",
    "#     print(clf.__class__.__name__, '%.4f'%precision_score(y_test, y_pred))\n"
   ]
  },
  {
   "cell_type": "code",
   "execution_count": 770,
   "id": "sudden-hygiene",
   "metadata": {},
   "outputs": [
    {
     "name": "stdout",
     "output_type": "stream",
     "text": [
      "Hard voting precision score: 0.6111\n"
     ]
    }
   ],
   "source": [
    "y_pred = voting_clf.predict(X_test)\n",
    "print('Hard voting precision score: %.4f'%precision_score(y_test, y_pred))"
   ]
  },
  {
   "cell_type": "code",
   "execution_count": 771,
   "id": "atlantic-constitutional",
   "metadata": {},
   "outputs": [],
   "source": [
    "#Q2"
   ]
  },
  {
   "cell_type": "code",
   "execution_count": 772,
   "id": "excited-newspaper",
   "metadata": {},
   "outputs": [
    {
     "data": {
      "text/plain": [
       "VotingClassifier(estimators=[('lr', LogisticRegression(random_state=0)),\n",
       "                             ('dt',\n",
       "                              DecisionTreeClassifier(max_depth=1,\n",
       "                                                     random_state=0)),\n",
       "                             ('svc', SVC(probability=True, random_state=0))],\n",
       "                 voting='soft')"
      ]
     },
     "execution_count": 772,
     "metadata": {},
     "output_type": "execute_result"
    }
   ],
   "source": [
    "voting_clf_soft = VotingClassifier(estimators=[('lr', log_clf), ('dt', dt_clf), ('svc', svm_clf)], voting='soft')\n",
    "voting_clf_soft.fit(X_train, y_train)"
   ]
  },
  {
   "cell_type": "code",
   "execution_count": 773,
   "id": "unique-archives",
   "metadata": {},
   "outputs": [
    {
     "name": "stdout",
     "output_type": "stream",
     "text": [
      "Soft voting precision score: 0.6207\n"
     ]
    }
   ],
   "source": [
    "y_pred_soft = voting_clf_soft.predict(X_test)\n",
    "print('Soft voting precision score: %.4f'%precision_score(y_test, y_pred_soft))"
   ]
  },
  {
   "cell_type": "code",
   "execution_count": 774,
   "id": "verbal-player",
   "metadata": {},
   "outputs": [],
   "source": [
    "#Q3"
   ]
  },
  {
   "cell_type": "code",
   "execution_count": 775,
   "id": "orange-discrimination",
   "metadata": {},
   "outputs": [
    {
     "data": {
      "text/plain": [
       "GridSearchCV(cv=5,\n",
       "             estimator=BaggingClassifier(base_estimator=LogisticRegression(random_state=0),\n",
       "                                         random_state=0),\n",
       "             n_jobs=-1,\n",
       "             param_grid={'max_features': [0.01, 0.05, 0.1, 0.5, 1],\n",
       "                         'max_samples': [0.01, 0.05, 0.1, 0.5, 1]},\n",
       "             scoring='precision')"
      ]
     },
     "execution_count": 775,
     "metadata": {},
     "output_type": "execute_result"
    }
   ],
   "source": [
    "from sklearn.model_selection import GridSearchCV\n",
    "from sklearn.ensemble import BaggingClassifier\n",
    "\n",
    "param_grid = {'max_samples':[0.01, 0.05, 0.1, 0.5, 1], \n",
    "              'max_features':[0.01, 0.05, 0.1, 0.5, 1]}\n",
    "\n",
    "bag_clf = BaggingClassifier(LogisticRegression(penalty='l2', solver='lbfgs', random_state = 0), random_state=0)\n",
    "bag_grid = GridSearchCV(bag_clf, param_grid = param_grid, cv = 5, n_jobs = -1, scoring='precision')\n",
    "bag_grid.fit(X_train, y_train)"
   ]
  },
  {
   "cell_type": "code",
   "execution_count": 776,
   "id": "corrected-cholesterol",
   "metadata": {},
   "outputs": [
    {
     "data": {
      "text/plain": [
       "{'max_features': 0.5, 'max_samples': 0.5}"
      ]
     },
     "execution_count": 776,
     "metadata": {},
     "output_type": "execute_result"
    }
   ],
   "source": [
    "bag_grid.best_params_"
   ]
  },
  {
   "cell_type": "code",
   "execution_count": 777,
   "id": "numerical-harbor",
   "metadata": {},
   "outputs": [
    {
     "data": {
      "text/plain": [
       "0.7377406234452943"
      ]
     },
     "execution_count": 777,
     "metadata": {},
     "output_type": "execute_result"
    }
   ],
   "source": [
    "bag_grid.best_score_"
   ]
  },
  {
   "cell_type": "code",
   "execution_count": null,
   "id": "suffering-stranger",
   "metadata": {},
   "outputs": [],
   "source": [
    "#Q5"
   ]
  },
  {
   "cell_type": "code",
   "execution_count": 468,
   "id": "respiratory-redhead",
   "metadata": {},
   "outputs": [],
   "source": [
    "bag_clf = BaggingClassifier(DecisionTreeClassifier(max_depth = 3, random_state = 0), \n",
    "                           max_features= 0.5,\n",
    "                           max_samples= 0.5,\n",
    "                           oob_score= True, random_state=0)"
   ]
  },
  {
   "cell_type": "code",
   "execution_count": 470,
   "id": "inclusive-feeding",
   "metadata": {},
   "outputs": [
    {
     "name": "stdout",
     "output_type": "stream",
     "text": [
      "Train score: 0.8987\n",
      "Test score: 0.8971\n",
      "Out-of-bag score: 0.8983\n"
     ]
    }
   ],
   "source": [
    "bag_clf.fit(X_train, y_train)\n",
    "\n",
    "print('Train score: %.4f'%bag_clf.score(X_train, y_train))\n",
    "print('Test score: %.4f'%bag_clf.score(X_test, y_test))\n",
    "print('Out-of-bag score: %.4f'%bag_clf.oob_score_)"
   ]
  },
  {
   "cell_type": "code",
   "execution_count": null,
   "id": "fossil-explorer",
   "metadata": {},
   "outputs": [],
   "source": [
    "#Q7"
   ]
  },
  {
   "cell_type": "code",
   "execution_count": 422,
   "id": "inclusive-indonesian",
   "metadata": {},
   "outputs": [],
   "source": [
    "from sklearn.ensemble import RandomForestClassifier"
   ]
  },
  {
   "cell_type": "code",
   "execution_count": 423,
   "id": "rough-swaziland",
   "metadata": {},
   "outputs": [],
   "source": [
    "param_grid = {'max_depth':[1, 2, 5],  \n",
    "              'max_features':[0.1, 0.5, 1], \n",
    "              'max_samples':[0.1, 0.5, 1],\n",
    "              'bootstrap':[True]}"
   ]
  },
  {
   "cell_type": "code",
   "execution_count": 424,
   "id": "expired-pilot",
   "metadata": {},
   "outputs": [
    {
     "data": {
      "text/plain": [
       "GridSearchCV(cv=5, estimator=RandomForestClassifier(random_state=0),\n",
       "             param_grid={'bootstrap': [True], 'max_depth': [1, 2, 5],\n",
       "                         'max_features': [0.1, 0.5, 1],\n",
       "                         'max_samples': [0.1, 0.5, 1]},\n",
       "             scoring='recall')"
      ]
     },
     "execution_count": 424,
     "metadata": {},
     "output_type": "execute_result"
    }
   ],
   "source": [
    "grid_rf = GridSearchCV(RandomForestClassifier(random_state = 0), param_grid, cv = 5, scoring= 'recall')\n",
    "grid_rf.fit(X_train, y_train)"
   ]
  },
  {
   "cell_type": "code",
   "execution_count": 425,
   "id": "cathedral-carroll",
   "metadata": {},
   "outputs": [
    {
     "data": {
      "text/plain": [
       "{'bootstrap': True, 'max_depth': 5, 'max_features': 0.5, 'max_samples': 0.5}"
      ]
     },
     "execution_count": 425,
     "metadata": {},
     "output_type": "execute_result"
    }
   ],
   "source": [
    "grid_rf.best_params_"
   ]
  },
  {
   "cell_type": "code",
   "execution_count": 426,
   "id": "documented-bonus",
   "metadata": {},
   "outputs": [
    {
     "data": {
      "text/plain": [
       "0.35483154387263977"
      ]
     },
     "execution_count": 426,
     "metadata": {},
     "output_type": "execute_result"
    }
   ],
   "source": [
    "grid_rf.best_score_"
   ]
  },
  {
   "cell_type": "code",
   "execution_count": null,
   "id": "daily-philadelphia",
   "metadata": {},
   "outputs": [],
   "source": [
    "#Q9"
   ]
  },
  {
   "cell_type": "code",
   "execution_count": 329,
   "id": "greenhouse-jackson",
   "metadata": {},
   "outputs": [],
   "source": [
    "from sklearn.ensemble import AdaBoostClassifier"
   ]
  },
  {
   "cell_type": "code",
   "execution_count": 370,
   "id": "studied-signal",
   "metadata": {},
   "outputs": [],
   "source": [
    "param_grid = {'n_estimators':[100, 500, 1000],  \n",
    "              'learning_rate':[0.1, 0.5, 1]\n",
    "             }"
   ]
  },
  {
   "cell_type": "code",
   "execution_count": 391,
   "id": "greenhouse-thomas",
   "metadata": {},
   "outputs": [
    {
     "data": {
      "text/plain": [
       "GridSearchCV(cv=5,\n",
       "             estimator=AdaBoostClassifier(base_estimator=DecisionTreeClassifier(max_depth=1,\n",
       "                                                                                random_state=0)),\n",
       "             param_grid={'learning_rate': [0.1, 0.5, 1],\n",
       "                         'n_estimators': [100, 500, 1000]},\n",
       "             scoring='recall')"
      ]
     },
     "execution_count": 391,
     "metadata": {},
     "output_type": "execute_result"
    }
   ],
   "source": [
    "ada_clf = AdaBoostClassifier(DecisionTreeClassifier(max_depth=1, random_state=0))\n",
    "\n",
    "grid_ada = GridSearchCV(ada_clf, param_grid, cv = 5, scoring= 'recall')\n",
    "grid_ada.fit(X_train, y_train)"
   ]
  },
  {
   "cell_type": "code",
   "execution_count": 376,
   "id": "handled-steal",
   "metadata": {},
   "outputs": [
    {
     "data": {
      "text/plain": [
       "{'learning_rate': 1, 'n_estimators': 500}"
      ]
     },
     "execution_count": 376,
     "metadata": {},
     "output_type": "execute_result"
    }
   ],
   "source": [
    "grid_ada.best_params_"
   ]
  },
  {
   "cell_type": "code",
   "execution_count": 377,
   "id": "married-divide",
   "metadata": {},
   "outputs": [
    {
     "data": {
      "text/plain": [
       "0.4552388004442799"
      ]
     },
     "execution_count": 377,
     "metadata": {},
     "output_type": "execute_result"
    }
   ],
   "source": [
    "grid_ada.best_score_"
   ]
  },
  {
   "cell_type": "code",
   "execution_count": null,
   "id": "massive-synthetic",
   "metadata": {},
   "outputs": [],
   "source": [
    "#Q11"
   ]
  },
  {
   "cell_type": "code",
   "execution_count": 378,
   "id": "asian-fundamentals",
   "metadata": {},
   "outputs": [],
   "source": [
    "from sklearn.metrics import precision_recall_curve"
   ]
  },
  {
   "cell_type": "code",
   "execution_count": 398,
   "id": "greek-framing",
   "metadata": {},
   "outputs": [],
   "source": [
    "ada_model = AdaBoostClassifier(DecisionTreeClassifier(max_depth=1, random_state=0), learning_rate=1, n_estimators=500)"
   ]
  },
  {
   "cell_type": "code",
   "execution_count": null,
   "id": "concerned-balloon",
   "metadata": {},
   "outputs": [],
   "source": []
  },
  {
   "cell_type": "code",
   "execution_count": 399,
   "id": "dirty-comparative",
   "metadata": {},
   "outputs": [
    {
     "data": {
      "text/plain": [
       "AdaBoostClassifier(base_estimator=DecisionTreeClassifier(max_depth=1,\n",
       "                                                         random_state=0),\n",
       "                   learning_rate=1, n_estimators=500)"
      ]
     },
     "execution_count": 399,
     "metadata": {},
     "output_type": "execute_result"
    }
   ],
   "source": [
    "ada_model.fit(X_train, y_train)"
   ]
  },
  {
   "cell_type": "code",
   "execution_count": 431,
   "id": "confused-intake",
   "metadata": {},
   "outputs": [],
   "source": [
    "y_predd = ada_model.predict(X_test)"
   ]
  },
  {
   "cell_type": "code",
   "execution_count": 432,
   "id": "understood-potato",
   "metadata": {},
   "outputs": [
    {
     "data": {
      "text/plain": [
       "0.5512820512820513"
      ]
     },
     "execution_count": 432,
     "metadata": {},
     "output_type": "execute_result"
    }
   ],
   "source": [
    "precision_score(y_test, y_predd)"
   ]
  },
  {
   "cell_type": "code",
   "execution_count": 433,
   "id": "proper-kingdom",
   "metadata": {},
   "outputs": [
    {
     "data": {
      "text/plain": [
       "0.3739130434782609"
      ]
     },
     "execution_count": 433,
     "metadata": {},
     "output_type": "execute_result"
    }
   ],
   "source": [
    "recall_score(y_test, y_predd)"
   ]
  },
  {
   "cell_type": "code",
   "execution_count": 400,
   "id": "becoming-cricket",
   "metadata": {},
   "outputs": [
    {
     "data": {
      "image/png": "[encoded data removed]",
      "text/plain": [
       "<Figure size 720x360 with 1 Axes>"
      ]
     },
     "metadata": {
      "needs_background": "light"
     },
     "output_type": "display_data"
    }
   ],
   "source": [
    "import matplotlib.pyplot as plt\n",
    "%matplotlib inline\n",
    "\n",
    "plt.subplots(figsize = (10,5))\n",
    "precision, recall, thresholds = precision_recall_curve(y_train, ada_model.decision_function(X_train))\n",
    "\n",
    "close_zero = np.argmin(np.abs(thresholds))\n",
    "close_default = np.argmin(np.abs(thresholds - 0.5))\n",
    "\n",
    "plt.plot(precision[close_zero], recall[close_zero], 'o', markersize=10,\n",
    "          label=\"threshold zero\", fillstyle=\"none\", c='k', mew=2)\n",
    "\n",
    "# plt.plot(precision[0], recall[0], 'o', markersize=10,\n",
    "#          label=\"best threshold\", fillstyle=\"none\", c='r', mew=2)\n",
    "\n",
    "plt.plot(precision, recall, label=\"precision recall curve\")\n",
    "plt.xlabel(\"Precision\")\n",
    "plt.ylabel(\"Recall\")\n",
    "plt.legend(loc=\"best\")\n",
    "plt.grid()"
   ]
  },
  {
   "cell_type": "code",
   "execution_count": 440,
   "id": "entertaining-shelf",
   "metadata": {},
   "outputs": [
    {
     "data": {
      "text/plain": [
       "-0.007576957976119576"
      ]
     },
     "execution_count": 440,
     "metadata": {},
     "output_type": "execute_result"
    }
   ],
   "source": [
    "thresholds[0]"
   ]
  },
  {
   "cell_type": "code",
   "execution_count": 451,
   "id": "fossil-annex",
   "metadata": {},
   "outputs": [
    {
     "name": "stdout",
     "output_type": "stream",
     "text": [
      "Before the post processing: \n",
      "Precision:  0.5512820512820513\n",
      "Recall:  0.3739130434782609\n"
     ]
    }
   ],
   "source": [
    "from sklearn.metrics import precision_score, recall_score\n",
    "\n",
    "y_predict = np.where(ada_model.decision_function(X_test) >= 0, 1, 0)\n",
    "print('Before the post processing: ')\n",
    "print('Precision: ', precision_score(y_test, y_predict))\n",
    "print('Recall: ', recall_score(y_test, y_predict))"
   ]
  },
  {
   "cell_type": "code",
   "execution_count": 448,
   "id": "found-concentration",
   "metadata": {},
   "outputs": [
    {
     "name": "stdout",
     "output_type": "stream",
     "text": [
      "-0.007576957976119576\n"
     ]
    }
   ],
   "source": [
    "print(min(thresholds))"
   ]
  },
  {
   "cell_type": "code",
   "execution_count": 449,
   "id": "seeing-expansion",
   "metadata": {},
   "outputs": [
    {
     "name": "stdout",
     "output_type": "stream",
     "text": [
      "0.02444730671748081\n"
     ]
    }
   ],
   "source": [
    "print(max(thresholds))"
   ]
  },
  {
   "cell_type": "code",
   "execution_count": 461,
   "id": "framed-outside",
   "metadata": {},
   "outputs": [
    {
     "name": "stdout",
     "output_type": "stream",
     "text": [
      "Total occurences of \"1\" in array:  78\n",
      "Total occurences of \"0\" in array:  952\n"
     ]
    }
   ],
   "source": [
    "# arr = np.array([2, 3, 4, 5, 3, 4, 5, 3, 5, 4, 7, 8, 3, 6, 2])\n",
    "# Count occurrence of element '3' in numpy array\n",
    "count = y_predict.tolist().count(1)\n",
    "print('Total occurences of \"1\" in array: ', count)\n",
    "count0 = y_predict.tolist().count(0)\n",
    "print('Total occurences of \"0\" in array: ', count0)"
   ]
  },
  {
   "cell_type": "code",
   "execution_count": 446,
   "id": "north-inventory",
   "metadata": {},
   "outputs": [
    {
     "name": "stdout",
     "output_type": "stream",
     "text": [
      "Before the post processing: \n",
      "Precision:  0.6666666666666666\n",
      "Recall:  0.017391304347826087\n"
     ]
    }
   ],
   "source": [
    "from sklearn.metrics import precision_score, recall_score\n",
    "\n",
    "y_predict = np.where(ada_model.decision_function(X_test) >= 0.01, 1, 0)\n",
    "print('Before the post processing: ')\n",
    "print('Precision: ', precision_score(y_test, y_predict))\n",
    "print('Recall: ', recall_score(y_test, y_predict))"
   ]
  },
  {
   "cell_type": "code",
   "execution_count": 442,
   "id": "third-carol",
   "metadata": {},
   "outputs": [
    {
     "name": "stdout",
     "output_type": "stream",
     "text": [
      "Before the post processing: \n",
      "Precision:  0.1694915254237288\n",
      "Recall:  0.9565217391304348\n"
     ]
    }
   ],
   "source": [
    "from sklearn.metrics import precision_score, recall_score\n",
    "\n",
    "y_predict = np.where(ada_model.decision_function(X_test) >= -0.01, 1, 0)\n",
    "print('Before the post processing: ')\n",
    "print('Precision: ', precision_score(y_test, y_predict))\n",
    "print('Recall: ', recall_score(y_test, y_predict))"
   ]
  },
  {
   "cell_type": "code",
   "execution_count": null,
   "id": "earlier-sucking",
   "metadata": {},
   "outputs": [],
   "source": [
    "#Q13"
   ]
  },
  {
   "cell_type": "code",
   "execution_count": 394,
   "id": "indian-original",
   "metadata": {},
   "outputs": [],
   "source": [
    "param_grid = {'learning_rate':[0.1, 0.5, 1],  \n",
    "              'max_depth':[1, 3, 5],\n",
    "              'n_estimators':[100, 500, 1000]\n",
    "             }"
   ]
  },
  {
   "cell_type": "code",
   "execution_count": 395,
   "id": "therapeutic-reconstruction",
   "metadata": {},
   "outputs": [
    {
     "data": {
      "text/plain": [
       "GridSearchCV(cv=5, estimator=GradientBoostingClassifier(random_state=0),\n",
       "             param_grid={'learning_rate': [0.1, 0.5, 1], 'max_depth': [1, 3, 5],\n",
       "                         'n_estimators': [100, 500, 1000]},\n",
       "             scoring='recall')"
      ]
     },
     "execution_count": 395,
     "metadata": {},
     "output_type": "execute_result"
    }
   ],
   "source": [
    "from  sklearn.ensemble import GradientBoostingClassifier\n",
    "\n",
    "gbrt = GridSearchCV(GradientBoostingClassifier(random_state=0), param_grid, cv = 5, scoring= 'recall')\n",
    "gbrt.fit(X_train, y_train)"
   ]
  },
  {
   "cell_type": "code",
   "execution_count": 396,
   "id": "premier-dryer",
   "metadata": {},
   "outputs": [
    {
     "data": {
      "text/plain": [
       "{'learning_rate': 0.5, 'max_depth': 1, 'n_estimators': 100}"
      ]
     },
     "execution_count": 396,
     "metadata": {},
     "output_type": "execute_result"
    }
   ],
   "source": [
    "gbrt.best_params_"
   ]
  },
  {
   "cell_type": "code",
   "execution_count": 397,
   "id": "british-sharp",
   "metadata": {},
   "outputs": [
    {
     "data": {
      "text/plain": [
       "0.4552388004442799"
      ]
     },
     "execution_count": 397,
     "metadata": {},
     "output_type": "execute_result"
    }
   ],
   "source": [
    "gbrt.best_score_"
   ]
  },
  {
   "cell_type": "markdown",
   "id": "assigned-combining",
   "metadata": {},
   "source": [
    "## Lab 7 "
   ]
  },
  {
   "cell_type": "code",
   "execution_count": 139,
   "id": "seasonal-fighter",
   "metadata": {},
   "outputs": [
    {
     "name": "stdout",
     "output_type": "stream",
     "text": [
      "<class 'pandas.core.frame.DataFrame'>\n",
      "RangeIndex: 4119 entries, 0 to 4118\n",
      "Data columns (total 31 columns):\n",
      " #   Column                Non-Null Count  Dtype  \n",
      "---  ------                --------------  -----  \n",
      " 0   age                   4119 non-null   float64\n",
      " 1   education             4119 non-null   int64  \n",
      " 2   housing               4119 non-null   int64  \n",
      " 3   loan                  4119 non-null   int64  \n",
      " 4   contact               4119 non-null   int64  \n",
      " 5   duration              4119 non-null   float64\n",
      " 6   campaign              4119 non-null   int64  \n",
      " 7   pdays                 4119 non-null   int64  \n",
      " 8   previous              4119 non-null   int64  \n",
      " 9   y                     4119 non-null   object \n",
      " 10  job_admin.            4119 non-null   uint8  \n",
      " 11  job_blue-collar       4119 non-null   uint8  \n",
      " 12  job_entrepreneur      4119 non-null   uint8  \n",
      " 13  job_housemaid         4119 non-null   uint8  \n",
      " 14  job_management        4119 non-null   uint8  \n",
      " 15  job_retired           4119 non-null   uint8  \n",
      " 16  job_self-employed     4119 non-null   uint8  \n",
      " 17  job_services          4119 non-null   uint8  \n",
      " 18  job_student           4119 non-null   uint8  \n",
      " 19  job_technician        4119 non-null   uint8  \n",
      " 20  job_unemployed        4119 non-null   uint8  \n",
      " 21  job_unknown           4119 non-null   uint8  \n",
      " 22  marital_divorced      4119 non-null   uint8  \n",
      " 23  marital_married       4119 non-null   uint8  \n",
      " 24  marital_single        4119 non-null   uint8  \n",
      " 25  marital_unknown       4119 non-null   uint8  \n",
      " 26  default_no            4119 non-null   uint8  \n",
      " 27  default_unknown       4119 non-null   uint8  \n",
      " 28  poutcome_failure      4119 non-null   uint8  \n",
      " 29  poutcome_nonexistent  4119 non-null   uint8  \n",
      " 30  poutcome_success      4119 non-null   uint8  \n",
      "dtypes: float64(2), int64(7), object(1), uint8(21)\n",
      "memory usage: 406.4+ KB\n"
     ]
    }
   ],
   "source": [
    "df_trans.info()"
   ]
  },
  {
   "cell_type": "code",
   "execution_count": null,
   "id": "offensive-patrol",
   "metadata": {},
   "outputs": [],
   "source": [
    "# Q1 - PCA to reduce dimensionality to 95% variance. How many features? --> 16"
   ]
  },
  {
   "cell_type": "code",
   "execution_count": 359,
   "id": "dated-porcelain",
   "metadata": {},
   "outputs": [
    {
     "data": {
      "text/plain": [
       "PCA(n_components=0.95)"
      ]
     },
     "execution_count": 359,
     "metadata": {},
     "output_type": "execute_result"
    }
   ],
   "source": [
    "from sklearn.decomposition import PCA\n",
    "\n",
    "pca = PCA(0.95)\n",
    "pca.fit(X_train)"
   ]
  },
  {
   "cell_type": "code",
   "execution_count": 360,
   "id": "incorporated-extra",
   "metadata": {},
   "outputs": [
    {
     "data": {
      "text/plain": [
       "array([0.15665507, 0.1128073 , 0.08747621, 0.0778739 , 0.0595943 ,\n",
       "       0.05526111, 0.0535017 , 0.04824655, 0.04707827, 0.04553939,\n",
       "       0.0430413 , 0.04062426, 0.03651398, 0.03598592, 0.03094182,\n",
       "       0.03052712])"
      ]
     },
     "execution_count": 360,
     "metadata": {},
     "output_type": "execute_result"
    }
   ],
   "source": [
    "pca.explained_variance_ratio_"
   ]
  },
  {
   "cell_type": "code",
   "execution_count": 361,
   "id": "excellent-terminology",
   "metadata": {},
   "outputs": [],
   "source": [
    "X_train_pca = pca.fit_transform(X_train)\n",
    "X_test_pca = pca.fit_transform(X_test)"
   ]
  },
  {
   "cell_type": "code",
   "execution_count": null,
   "id": "applied-feature",
   "metadata": {},
   "outputs": [],
   "source": [
    "# Q2 - Train SVC with kernel = 'rbf', gamma = 0.05, and C = 10 on the multinomial reduced dataset. What is the test score of this model? Enter the answer with four digits after the decimal point. \n",
    "#Set random_state = 0 on all models and functions with this argument"
   ]
  },
  {
   "cell_type": "code",
   "execution_count": 166,
   "id": "immediate-going",
   "metadata": {},
   "outputs": [],
   "source": [
    "from sklearn.svm import LinearSVC, SVC\n",
    "\n",
    "rbf = SVC(random_state=0, C=10, gamma=0.05, kernel='rbf')"
   ]
  },
  {
   "cell_type": "code",
   "execution_count": 173,
   "id": "outstanding-teens",
   "metadata": {},
   "outputs": [
    {
     "data": {
      "text/plain": [
       "SVC(C=10, gamma=0.05, random_state=0)"
      ]
     },
     "execution_count": 173,
     "metadata": {},
     "output_type": "execute_result"
    }
   ],
   "source": [
    "rbf.fit(X_train_pca, y_train)"
   ]
  },
  {
   "cell_type": "code",
   "execution_count": 174,
   "id": "whole-voice",
   "metadata": {},
   "outputs": [
    {
     "data": {
      "text/plain": [
       "0.8932038834951457"
      ]
     },
     "execution_count": 174,
     "metadata": {},
     "output_type": "execute_result"
    }
   ],
   "source": [
    "rbf.score(X_test_pca, y_test)"
   ]
  },
  {
   "cell_type": "code",
   "execution_count": null,
   "id": "governmental-composite",
   "metadata": {},
   "outputs": [],
   "source": [
    "# Q3 - GridSearchCV => Use a GridSearchCV model with 'precision_micro' scoring and cv = 5 to find the best hyperparametrs of a SVC with kernel rbf on the reduced dataset. \n",
    "# Which of the following is the list of best hyperparameters of this model?"
   ]
  },
  {
   "cell_type": "code",
   "execution_count": 176,
   "id": "bored-stone",
   "metadata": {},
   "outputs": [],
   "source": [
    "from sklearn.model_selection import GridSearchCV\n",
    "\n",
    "param_grid = {'C': [0.1, 1, 10], 'gamma': [0.1, 1, 10]}\n",
    "svc_rbf = SVC(random_state=0, kernel='rbf')\n",
    "\n",
    "grid_searchrbf = GridSearchCV(svc_rbf, param_grid, cv=5, n_jobs=-1, scoring='precision_micro')"
   ]
  },
  {
   "cell_type": "code",
   "execution_count": 179,
   "id": "turned-marketplace",
   "metadata": {},
   "outputs": [
    {
     "name": "stdout",
     "output_type": "stream",
     "text": [
      "Best score: 0.8980252081005806\n",
      "Best parameters: {'C': 1, 'gamma': 0.1}\n"
     ]
    }
   ],
   "source": [
    "rbf_results = grid_searchrbf.fit(X_train_pca, y_train)\n",
    "\n",
    "print(\"Best score: {}\".format(rbf_results.best_score_))\n",
    "print(\"Best parameters: {}\".format(rbf_results.best_params_))"
   ]
  },
  {
   "cell_type": "code",
   "execution_count": null,
   "id": "prescription-sunglasses",
   "metadata": {},
   "outputs": [],
   "source": [
    "# Q4 - Reduce to n=2 dimensions using LocallyLinearEmbedded"
   ]
  },
  {
   "cell_type": "code",
   "execution_count": 181,
   "id": "relevant-program",
   "metadata": {},
   "outputs": [],
   "source": [
    "%matplotlib notebook\n",
    "from sklearn.manifold import LocallyLinearEmbedding # LocallyLinearEmbedding only takes whole numbers\n",
    "\n",
    "lle = LocallyLinearEmbedding(n_components=2, n_neighbors=10, random_state=0)\n",
    "X_reduced = lle.fit_transform(X_train) # Reduce dimensionality to 2 features\n",
    "X_test_reduced = lle.fit_transform(X_test)"
   ]
  },
  {
   "cell_type": "code",
   "execution_count": 182,
   "id": "clear-shopper",
   "metadata": {},
   "outputs": [
    {
     "data": {
      "text/plain": [
       "-0.0005040144760693063"
      ]
     },
     "execution_count": 182,
     "metadata": {},
     "output_type": "execute_result"
    }
   ],
   "source": [
    "X_test_reduced[0].mean()"
   ]
  },
  {
   "cell_type": "code",
   "execution_count": 186,
   "id": "above-tuesday",
   "metadata": {},
   "outputs": [],
   "source": [
    "param_grid = {'C': [0.1, 1, 10, 100], 'gamma': [0.1, 1, 10, 100]}\n",
    "\n",
    "gs_cv = GridSearchCV(svc_rbf, param_grid, cv=5)"
   ]
  },
  {
   "cell_type": "code",
   "execution_count": 187,
   "id": "breeding-canada",
   "metadata": {},
   "outputs": [
    {
     "name": "stdout",
     "output_type": "stream",
     "text": [
      "Best score: 0.8805442348140339\n",
      "Best parameters: {'C': 0.1, 'gamma': 0.1}\n"
     ]
    }
   ],
   "source": [
    "lle_results = gs_cv.fit(X_reduced, y_train)\n",
    "\n",
    "print(\"Best score: {}\".format(lle_results.best_score_))\n",
    "print(\"Best parameters: {}\".format(lle_results.best_params_))"
   ]
  }
 ],
 "metadata": {
  "kernelspec": {
   "display_name": "Python 3",
   "language": "python",
   "name": "python3"
  },
  "language_info": {
   "codemirror_mode": {
    "name": "ipython",
    "version": 3
   },
   "file_extension": ".py",
   "mimetype": "text/x-python",
   "name": "python",
   "nbconvert_exporter": "python",
   "pygments_lexer": "ipython3",
   "version": "3.9.6"
  }
 },
 "nbformat": 4,
 "nbformat_minor": 5
}
