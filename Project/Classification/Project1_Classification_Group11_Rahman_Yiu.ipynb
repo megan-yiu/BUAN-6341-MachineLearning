{
 "cells": [
  {
   "cell_type": "markdown",
   "metadata": {},
   "source": [
    "\n",
    "# Project 1\n",
    "\n",
    "### Dataset\n",
    "For two projects in this class, you will pick your datasets. To receive full credit for this part, your datasets should satisfy the following conditions: \n",
    "\n",
    "- At least 15 features (columns)\n",
    "- At least 1000 instances (rows)\n",
    "- At least two categorical/ordinal columns.\n",
    "- Between 5 to 10 percent missing values across the dataset. \n",
    "\n",
    "Remember that you should have two separate datasets one for classification and one for regression tasks. \n",
    "\n",
    "### Project Description:\n",
    "- Read data into Jupyter notebook, use pandas to import data into a data frame\n",
    "- Preprocess data: Explore data, check for missing data and apply data scaling. Justify the type of scaling used.\n",
    "\n",
    "### Regression Task:\n",
    "- Apply **all** the regression models you've learned so far. If your model has a scaling parameter(s) use Grid Search to find the best hyper-parameter. Use plots and graphs to help you get a better glimpse of the results. \n",
    "- Then use cross-validation to find average training and testing score. \n",
    "- Your submission should have at least the following regression models: KNN repressor, linear regression, Ridge, Lasso, polynomial regression, SVM both simple and with kernels (rbf, poly, linear), Decison Tree Regressor. \n",
    "- Finally, find the best regressor for this dataset and train your model on the entire dataset using the best parameters and predict the target values for the test_set.\n",
    "\n",
    "### Classification task:\n",
    "- Decide about a good evaluation strategy beside accuracy and justify your choice.\n",
    "- Apply **all** the classification models you've learned so far. If your model has a scaling parameter(s) use Grid Search to find the best hyper-parameter. Use plots and graphs to help you get a better glimpse of the results.\n",
    "- Your submission should have at least the following classification models: KNN classification, Logistic Regression, Linear Support Vector Machine, Kerenilzed Support Vector Machine (rbf, poly, and linear), Decision Tree Classifier. \n",
    "- Finally, find the best model for the classification dataset and train your model on the entire dataset using the best parameters and predict the target values for the test_set.\n",
    "\n",
    "### Deliverables:\n",
    "- Use markdown to provide inline comments for this project. \n",
    "- Use markdown to create a report for this project. \n",
    "- Your outputs should be clearly executed in the notebook i.e. we should not need to rerun the code to obtain the outputs. \n",
    "- Visualization highly encouraged. \n",
    "- If you are submitting two different files, then please only one group member submit both the files. If you submit two files separately from different accounts, it will be submitted as two different attempts.\n",
    "- If you are submitting two different files, then please follow below naming convention:\n",
    "    - ``Project1_Regression_GroupXX_Lastname1_Lastname2.ipynb``\n",
    "    - ``Project1_Classification_GroupXX_Lastname1_Lastname2.ipynb``\n",
    "  \n",
    "  then zip these two files and the csv files of the two datasets into one file and submit. \n",
    "- If you are submitting a single file, then please follow below naming convention:\n",
    "    - ``Project1_Both_GroupXX_Lastname1_Lastname2.ipynb\n",
    "    then zip these this file and the csv files of the two datasets into one file and submit. \n",
    "\n",
    "### Questions regarding the project:\n",
    "- Post your queries related to project on discussion board on e-learning. There is a high possibility that your classmate has also faced the same problem and knows the solution. This is an effort to encourage collaborative learning and also making all the information available to everyone. We will also answer queries there. "
   ]
  },
  {
   "cell_type": "code",
   "execution_count": 462,
   "metadata": {},
   "outputs": [
    {
     "ename": "ModuleNotFoundError",
     "evalue": "No module named 'mlxtend'",
     "output_type": "error",
     "traceback": [
      "\u001b[0;31m---------------------------------------------------------------------------\u001b[0m",
      "\u001b[0;31mModuleNotFoundError\u001b[0m                       Traceback (most recent call last)",
      "\u001b[0;32m<ipython-input-462-304fbb87b19f>\u001b[0m in \u001b[0;36m<module>\u001b[0;34m\u001b[0m\n\u001b[1;32m     18\u001b[0m \u001b[0;32mfrom\u001b[0m \u001b[0msklearn\u001b[0m\u001b[0;34m.\u001b[0m\u001b[0mmetrics\u001b[0m \u001b[0;32mimport\u001b[0m \u001b[0mconfusion_matrix\u001b[0m\u001b[0;34m\u001b[0m\u001b[0;34m\u001b[0m\u001b[0m\n\u001b[1;32m     19\u001b[0m \u001b[0;32mfrom\u001b[0m \u001b[0msklearn\u001b[0m\u001b[0;34m.\u001b[0m\u001b[0mmetrics\u001b[0m \u001b[0;32mimport\u001b[0m \u001b[0mrecall_score\u001b[0m\u001b[0;34m,\u001b[0m \u001b[0mprecision_score\u001b[0m\u001b[0;34m,\u001b[0m \u001b[0mf1_score\u001b[0m\u001b[0;34m\u001b[0m\u001b[0;34m\u001b[0m\u001b[0m\n\u001b[0;32m---> 20\u001b[0;31m \u001b[0;32mfrom\u001b[0m \u001b[0mmlxtend\u001b[0m\u001b[0;34m.\u001b[0m\u001b[0mplotting\u001b[0m \u001b[0;32mimport\u001b[0m \u001b[0mplot_decision_regions\u001b[0m\u001b[0;34m\u001b[0m\u001b[0;34m\u001b[0m\u001b[0m\n\u001b[0m\u001b[1;32m     21\u001b[0m \u001b[0;34m\u001b[0m\u001b[0m\n\u001b[1;32m     22\u001b[0m \u001b[0;31m# Set the global default size of matplotlib figures\u001b[0m\u001b[0;34m\u001b[0m\u001b[0;34m\u001b[0m\u001b[0;34m\u001b[0m\u001b[0m\n",
      "\u001b[0;31mModuleNotFoundError\u001b[0m: No module named 'mlxtend'"
     ]
    }
   ],
   "source": [
    "import pandas as pd\n",
    "import numpy as np\n",
    "import pylab as plt\n",
    "from pandas.plotting import scatter_matrix\n",
    "from sklearn.model_selection import train_test_split\n",
    "from sklearn.neighbors import KNeighborsClassifier\n",
    "from sklearn.linear_model import LogisticRegression\n",
    "from sklearn.svm import LinearSVC, SVC\n",
    "import matplotlib.gridspec as gridspec\n",
    "import itertools\n",
    "from sklearn.tree import DecisionTreeClassifier\n",
    "import os \n",
    "import graphviz\n",
    "from sklearn.preprocessing import MinMaxScaler\n",
    "from sklearn.model_selection import GridSearchCV\n",
    "import seaborn as sns\n",
    "from sklearn.metrics import classification_report\n",
    "from sklearn.metrics import confusion_matrix\n",
    "from sklearn.metrics import recall_score, precision_score, f1_score\n",
    "from mlxtend.plotting import plot_decision_regions\n",
    "\n",
    "# Set the global default size of matplotlib figures\n",
    "plt.rc('figure', figsize=(10, 5))\n",
    "\n",
    "# Size of matplotlib figures that contain subplots\n",
    "fizsize_with_subplots = (10, 10)\n",
    "\n",
    "# Size of matplotlib histogram bins\n",
    "bin_size = 10"
   ]
  },
  {
   "cell_type": "markdown",
   "metadata": {},
   "source": [
    "## Classification"
   ]
  },
  {
   "cell_type": "markdown",
   "metadata": {},
   "source": [
    "#### Link to the airline passenger satisfaction dataset: \n",
    "https://www.kaggle.com/binaryjoker/airline-passenger-satisfaction"
   ]
  },
  {
   "cell_type": "markdown",
   "metadata": {},
   "source": [
    "## Project Description "
   ]
  },
  {
   "cell_type": "code",
   "execution_count": 174,
   "metadata": {},
   "outputs": [],
   "source": [
    "# Read data \n",
    "# classdf = pd.read_csv(\"classification_dataset.csv\")"
   ]
  },
  {
   "cell_type": "code",
   "execution_count": 9,
   "metadata": {},
   "outputs": [],
   "source": [
    "# # Shuffle and drop data \n",
    "# classdf = classdf.sample(frac=1)"
   ]
  },
  {
   "cell_type": "code",
   "execution_count": 10,
   "metadata": {},
   "outputs": [],
   "source": [
    "# # Keep 1000 records\n",
    "# classdf = classdf[:1000]"
   ]
  },
  {
   "cell_type": "code",
   "execution_count": 11,
   "metadata": {},
   "outputs": [],
   "source": [
    "# # Split data into independent and dependent variables for missing data\n",
    "# X = classdf.drop(['satisfaction', 'id'], axis=1)"
   ]
  },
  {
   "cell_type": "code",
   "execution_count": 12,
   "metadata": {},
   "outputs": [],
   "source": [
    "# y = classdf[['satisfaction', 'id']]"
   ]
  },
  {
   "cell_type": "code",
   "execution_count": 13,
   "metadata": {},
   "outputs": [],
   "source": [
    "# #Create missing values\n",
    "\n",
    "# for col in X.columns:\n",
    "#     X.loc[X.sample(frac=0.003).index, col] = np.nan"
   ]
  },
  {
   "cell_type": "code",
   "execution_count": 14,
   "metadata": {},
   "outputs": [],
   "source": [
    "# df1 = pd.concat([X, y], axis=1)"
   ]
  },
  {
   "cell_type": "code",
   "execution_count": 15,
   "metadata": {},
   "outputs": [
    {
     "data": {
      "text/plain": [
       "0.072"
      ]
     },
     "execution_count": 15,
     "metadata": {},
     "output_type": "execute_result"
    }
   ],
   "source": [
    "# df1.isna().sum().sum() / len(df1)"
   ]
  },
  {
   "cell_type": "code",
   "execution_count": 16,
   "metadata": {},
   "outputs": [],
   "source": [
    "# df1.to_csv('classification.csv')"
   ]
  },
  {
   "cell_type": "markdown",
   "metadata": {},
   "source": [
    "### Read Data\n",
    "Import data from .csv to Dataframe using Pandas"
   ]
  },
  {
   "cell_type": "code",
   "execution_count": 148,
   "metadata": {},
   "outputs": [],
   "source": [
    "df = pd.read_csv(\"classification.csv\")"
   ]
  },
  {
   "cell_type": "markdown",
   "metadata": {},
   "source": [
    "### Explore and Transform Data\n",
    "- EDA through histograms, bar charts, and correlation plots\n",
    "- Check for missing data\n",
    "- Scale data"
   ]
  },
  {
   "cell_type": "markdown",
   "metadata": {},
   "source": [
    "#### Explore Dataset"
   ]
  },
  {
   "cell_type": "markdown",
   "metadata": {},
   "source": [
    "Print out first and last rows of observation:"
   ]
  },
  {
   "cell_type": "code",
   "execution_count": 18,
   "metadata": {},
   "outputs": [
    {
     "data": {
      "text/html": [
       "<div>\n",
       "<style scoped>\n",
       "    .dataframe tbody tr th:only-of-type {\n",
       "        vertical-align: middle;\n",
       "    }\n",
       "\n",
       "    .dataframe tbody tr th {\n",
       "        vertical-align: top;\n",
       "    }\n",
       "\n",
       "    .dataframe thead th {\n",
       "        text-align: right;\n",
       "    }\n",
       "</style>\n",
       "<table border=\"1\" class=\"dataframe\">\n",
       "  <thead>\n",
       "    <tr style=\"text-align: right;\">\n",
       "      <th></th>\n",
       "      <th>Unnamed: 0</th>\n",
       "      <th>Unnamed: 0.1</th>\n",
       "      <th>Gender</th>\n",
       "      <th>Customer Type</th>\n",
       "      <th>Age</th>\n",
       "      <th>Type of Travel</th>\n",
       "      <th>Class</th>\n",
       "      <th>Flight Distance</th>\n",
       "      <th>Inflight wifi service</th>\n",
       "      <th>Departure/Arrival time convenient</th>\n",
       "      <th>...</th>\n",
       "      <th>On-board service</th>\n",
       "      <th>Leg room service</th>\n",
       "      <th>Baggage handling</th>\n",
       "      <th>Checkin service</th>\n",
       "      <th>Inflight service</th>\n",
       "      <th>Cleanliness</th>\n",
       "      <th>Departure Delay in Minutes</th>\n",
       "      <th>Arrival Delay in Minutes</th>\n",
       "      <th>satisfaction</th>\n",
       "      <th>id</th>\n",
       "    </tr>\n",
       "  </thead>\n",
       "  <tbody>\n",
       "    <tr>\n",
       "      <th>0</th>\n",
       "      <td>50578</td>\n",
       "      <td>50578.0</td>\n",
       "      <td>Female</td>\n",
       "      <td>Loyal Customer</td>\n",
       "      <td>26.0</td>\n",
       "      <td>Personal Travel</td>\n",
       "      <td>Eco Plus</td>\n",
       "      <td>617.0</td>\n",
       "      <td>1.0</td>\n",
       "      <td>5.0</td>\n",
       "      <td>...</td>\n",
       "      <td>5.0</td>\n",
       "      <td>2.0</td>\n",
       "      <td>5.0</td>\n",
       "      <td>4.0</td>\n",
       "      <td>4.0</td>\n",
       "      <td>2.0</td>\n",
       "      <td>12.0</td>\n",
       "      <td>20.0</td>\n",
       "      <td>neutral or dissatisfied</td>\n",
       "      <td>13813</td>\n",
       "    </tr>\n",
       "    <tr>\n",
       "      <th>1</th>\n",
       "      <td>29342</td>\n",
       "      <td>29342.0</td>\n",
       "      <td>Female</td>\n",
       "      <td>disloyal Customer</td>\n",
       "      <td>36.0</td>\n",
       "      <td>Business travel</td>\n",
       "      <td>Eco</td>\n",
       "      <td>308.0</td>\n",
       "      <td>2.0</td>\n",
       "      <td>2.0</td>\n",
       "      <td>...</td>\n",
       "      <td>4.0</td>\n",
       "      <td>5.0</td>\n",
       "      <td>4.0</td>\n",
       "      <td>2.0</td>\n",
       "      <td>3.0</td>\n",
       "      <td>3.0</td>\n",
       "      <td>51.0</td>\n",
       "      <td>44.0</td>\n",
       "      <td>neutral or dissatisfied</td>\n",
       "      <td>115549</td>\n",
       "    </tr>\n",
       "    <tr>\n",
       "      <th>2</th>\n",
       "      <td>21772</td>\n",
       "      <td>21772.0</td>\n",
       "      <td>Male</td>\n",
       "      <td>Loyal Customer</td>\n",
       "      <td>28.0</td>\n",
       "      <td>Business travel</td>\n",
       "      <td>Eco Plus</td>\n",
       "      <td>209.0</td>\n",
       "      <td>4.0</td>\n",
       "      <td>1.0</td>\n",
       "      <td>...</td>\n",
       "      <td>3.0</td>\n",
       "      <td>NaN</td>\n",
       "      <td>3.0</td>\n",
       "      <td>1.0</td>\n",
       "      <td>3.0</td>\n",
       "      <td>4.0</td>\n",
       "      <td>0.0</td>\n",
       "      <td>0.0</td>\n",
       "      <td>satisfied</td>\n",
       "      <td>34828</td>\n",
       "    </tr>\n",
       "    <tr>\n",
       "      <th>3</th>\n",
       "      <td>96426</td>\n",
       "      <td>96426.0</td>\n",
       "      <td>Male</td>\n",
       "      <td>disloyal Customer</td>\n",
       "      <td>24.0</td>\n",
       "      <td>Business travel</td>\n",
       "      <td>Business</td>\n",
       "      <td>356.0</td>\n",
       "      <td>5.0</td>\n",
       "      <td>4.0</td>\n",
       "      <td>...</td>\n",
       "      <td>5.0</td>\n",
       "      <td>4.0</td>\n",
       "      <td>4.0</td>\n",
       "      <td>4.0</td>\n",
       "      <td>5.0</td>\n",
       "      <td>1.0</td>\n",
       "      <td>0.0</td>\n",
       "      <td>0.0</td>\n",
       "      <td>satisfied</td>\n",
       "      <td>79041</td>\n",
       "    </tr>\n",
       "    <tr>\n",
       "      <th>4</th>\n",
       "      <td>80523</td>\n",
       "      <td>80523.0</td>\n",
       "      <td>Male</td>\n",
       "      <td>Loyal Customer</td>\n",
       "      <td>26.0</td>\n",
       "      <td>Business travel</td>\n",
       "      <td>Eco</td>\n",
       "      <td>515.0</td>\n",
       "      <td>4.0</td>\n",
       "      <td>1.0</td>\n",
       "      <td>...</td>\n",
       "      <td>1.0</td>\n",
       "      <td>3.0</td>\n",
       "      <td>4.0</td>\n",
       "      <td>4.0</td>\n",
       "      <td>4.0</td>\n",
       "      <td>4.0</td>\n",
       "      <td>22.0</td>\n",
       "      <td>24.0</td>\n",
       "      <td>satisfied</td>\n",
       "      <td>26127</td>\n",
       "    </tr>\n",
       "  </tbody>\n",
       "</table>\n",
       "<p>5 rows × 26 columns</p>\n",
       "</div>"
      ],
      "text/plain": [
       "   Unnamed: 0  Unnamed: 0.1  Gender      Customer Type   Age   Type of Travel  \\\n",
       "0       50578       50578.0  Female     Loyal Customer  26.0  Personal Travel   \n",
       "1       29342       29342.0  Female  disloyal Customer  36.0  Business travel   \n",
       "2       21772       21772.0    Male     Loyal Customer  28.0  Business travel   \n",
       "3       96426       96426.0    Male  disloyal Customer  24.0  Business travel   \n",
       "4       80523       80523.0    Male     Loyal Customer  26.0  Business travel   \n",
       "\n",
       "      Class  Flight Distance  Inflight wifi service  \\\n",
       "0  Eco Plus            617.0                    1.0   \n",
       "1       Eco            308.0                    2.0   \n",
       "2  Eco Plus            209.0                    4.0   \n",
       "3  Business            356.0                    5.0   \n",
       "4       Eco            515.0                    4.0   \n",
       "\n",
       "   Departure/Arrival time convenient  ...  On-board service  Leg room service  \\\n",
       "0                                5.0  ...               5.0               2.0   \n",
       "1                                2.0  ...               4.0               5.0   \n",
       "2                                1.0  ...               3.0               NaN   \n",
       "3                                4.0  ...               5.0               4.0   \n",
       "4                                1.0  ...               1.0               3.0   \n",
       "\n",
       "   Baggage handling  Checkin service  Inflight service  Cleanliness  \\\n",
       "0               5.0              4.0               4.0          2.0   \n",
       "1               4.0              2.0               3.0          3.0   \n",
       "2               3.0              1.0               3.0          4.0   \n",
       "3               4.0              4.0               5.0          1.0   \n",
       "4               4.0              4.0               4.0          4.0   \n",
       "\n",
       "   Departure Delay in Minutes  Arrival Delay in Minutes  \\\n",
       "0                        12.0                      20.0   \n",
       "1                        51.0                      44.0   \n",
       "2                         0.0                       0.0   \n",
       "3                         0.0                       0.0   \n",
       "4                        22.0                      24.0   \n",
       "\n",
       "              satisfaction      id  \n",
       "0  neutral or dissatisfied   13813  \n",
       "1  neutral or dissatisfied  115549  \n",
       "2                satisfied   34828  \n",
       "3                satisfied   79041  \n",
       "4                satisfied   26127  \n",
       "\n",
       "[5 rows x 26 columns]"
      ]
     },
     "execution_count": 18,
     "metadata": {},
     "output_type": "execute_result"
    }
   ],
   "source": [
    "df.head()"
   ]
  },
  {
   "cell_type": "code",
   "execution_count": 19,
   "metadata": {},
   "outputs": [
    {
     "data": {
      "text/html": [
       "<div>\n",
       "<style scoped>\n",
       "    .dataframe tbody tr th:only-of-type {\n",
       "        vertical-align: middle;\n",
       "    }\n",
       "\n",
       "    .dataframe tbody tr th {\n",
       "        vertical-align: top;\n",
       "    }\n",
       "\n",
       "    .dataframe thead th {\n",
       "        text-align: right;\n",
       "    }\n",
       "</style>\n",
       "<table border=\"1\" class=\"dataframe\">\n",
       "  <thead>\n",
       "    <tr style=\"text-align: right;\">\n",
       "      <th></th>\n",
       "      <th>Unnamed: 0</th>\n",
       "      <th>Unnamed: 0.1</th>\n",
       "      <th>Gender</th>\n",
       "      <th>Customer Type</th>\n",
       "      <th>Age</th>\n",
       "      <th>Type of Travel</th>\n",
       "      <th>Class</th>\n",
       "      <th>Flight Distance</th>\n",
       "      <th>Inflight wifi service</th>\n",
       "      <th>Departure/Arrival time convenient</th>\n",
       "      <th>...</th>\n",
       "      <th>On-board service</th>\n",
       "      <th>Leg room service</th>\n",
       "      <th>Baggage handling</th>\n",
       "      <th>Checkin service</th>\n",
       "      <th>Inflight service</th>\n",
       "      <th>Cleanliness</th>\n",
       "      <th>Departure Delay in Minutes</th>\n",
       "      <th>Arrival Delay in Minutes</th>\n",
       "      <th>satisfaction</th>\n",
       "      <th>id</th>\n",
       "    </tr>\n",
       "  </thead>\n",
       "  <tbody>\n",
       "    <tr>\n",
       "      <th>995</th>\n",
       "      <td>16783</td>\n",
       "      <td>16783.0</td>\n",
       "      <td>Male</td>\n",
       "      <td>Loyal Customer</td>\n",
       "      <td>35.0</td>\n",
       "      <td>Personal Travel</td>\n",
       "      <td>Eco</td>\n",
       "      <td>110.0</td>\n",
       "      <td>0.0</td>\n",
       "      <td>5.0</td>\n",
       "      <td>...</td>\n",
       "      <td>2.0</td>\n",
       "      <td>3.0</td>\n",
       "      <td>3.0</td>\n",
       "      <td>2.0</td>\n",
       "      <td>2.0</td>\n",
       "      <td>3.0</td>\n",
       "      <td>77.0</td>\n",
       "      <td>74.0</td>\n",
       "      <td>satisfied</td>\n",
       "      <td>50493</td>\n",
       "    </tr>\n",
       "    <tr>\n",
       "      <th>996</th>\n",
       "      <td>5203</td>\n",
       "      <td>5203.0</td>\n",
       "      <td>Male</td>\n",
       "      <td>Loyal Customer</td>\n",
       "      <td>60.0</td>\n",
       "      <td>Business travel</td>\n",
       "      <td>Business</td>\n",
       "      <td>1542.0</td>\n",
       "      <td>4.0</td>\n",
       "      <td>4.0</td>\n",
       "      <td>...</td>\n",
       "      <td>4.0</td>\n",
       "      <td>4.0</td>\n",
       "      <td>4.0</td>\n",
       "      <td>3.0</td>\n",
       "      <td>4.0</td>\n",
       "      <td>2.0</td>\n",
       "      <td>0.0</td>\n",
       "      <td>0.0</td>\n",
       "      <td>satisfied</td>\n",
       "      <td>29699</td>\n",
       "    </tr>\n",
       "    <tr>\n",
       "      <th>997</th>\n",
       "      <td>86152</td>\n",
       "      <td>86152.0</td>\n",
       "      <td>Male</td>\n",
       "      <td>Loyal Customer</td>\n",
       "      <td>66.0</td>\n",
       "      <td>Personal Travel</td>\n",
       "      <td>Eco</td>\n",
       "      <td>545.0</td>\n",
       "      <td>4.0</td>\n",
       "      <td>2.0</td>\n",
       "      <td>...</td>\n",
       "      <td>2.0</td>\n",
       "      <td>4.0</td>\n",
       "      <td>1.0</td>\n",
       "      <td>1.0</td>\n",
       "      <td>2.0</td>\n",
       "      <td>2.0</td>\n",
       "      <td>0.0</td>\n",
       "      <td>1.0</td>\n",
       "      <td>neutral or dissatisfied</td>\n",
       "      <td>88711</td>\n",
       "    </tr>\n",
       "    <tr>\n",
       "      <th>998</th>\n",
       "      <td>43992</td>\n",
       "      <td>43992.0</td>\n",
       "      <td>Female</td>\n",
       "      <td>Loyal Customer</td>\n",
       "      <td>51.0</td>\n",
       "      <td>Business travel</td>\n",
       "      <td>Business</td>\n",
       "      <td>2506.0</td>\n",
       "      <td>4.0</td>\n",
       "      <td>4.0</td>\n",
       "      <td>...</td>\n",
       "      <td>4.0</td>\n",
       "      <td>4.0</td>\n",
       "      <td>4.0</td>\n",
       "      <td>4.0</td>\n",
       "      <td>4.0</td>\n",
       "      <td>3.0</td>\n",
       "      <td>55.0</td>\n",
       "      <td>56.0</td>\n",
       "      <td>satisfied</td>\n",
       "      <td>109857</td>\n",
       "    </tr>\n",
       "    <tr>\n",
       "      <th>999</th>\n",
       "      <td>19649</td>\n",
       "      <td>19649.0</td>\n",
       "      <td>Male</td>\n",
       "      <td>disloyal Customer</td>\n",
       "      <td>26.0</td>\n",
       "      <td>Business travel</td>\n",
       "      <td>Eco</td>\n",
       "      <td>533.0</td>\n",
       "      <td>1.0</td>\n",
       "      <td>3.0</td>\n",
       "      <td>...</td>\n",
       "      <td>4.0</td>\n",
       "      <td>4.0</td>\n",
       "      <td>4.0</td>\n",
       "      <td>3.0</td>\n",
       "      <td>4.0</td>\n",
       "      <td>4.0</td>\n",
       "      <td>55.0</td>\n",
       "      <td>56.0</td>\n",
       "      <td>neutral or dissatisfied</td>\n",
       "      <td>31272</td>\n",
       "    </tr>\n",
       "  </tbody>\n",
       "</table>\n",
       "<p>5 rows × 26 columns</p>\n",
       "</div>"
      ],
      "text/plain": [
       "     Unnamed: 0  Unnamed: 0.1  Gender      Customer Type   Age  \\\n",
       "995       16783       16783.0    Male     Loyal Customer  35.0   \n",
       "996        5203        5203.0    Male     Loyal Customer  60.0   \n",
       "997       86152       86152.0    Male     Loyal Customer  66.0   \n",
       "998       43992       43992.0  Female     Loyal Customer  51.0   \n",
       "999       19649       19649.0    Male  disloyal Customer  26.0   \n",
       "\n",
       "      Type of Travel     Class  Flight Distance  Inflight wifi service  \\\n",
       "995  Personal Travel       Eco            110.0                    0.0   \n",
       "996  Business travel  Business           1542.0                    4.0   \n",
       "997  Personal Travel       Eco            545.0                    4.0   \n",
       "998  Business travel  Business           2506.0                    4.0   \n",
       "999  Business travel       Eco            533.0                    1.0   \n",
       "\n",
       "     Departure/Arrival time convenient  ...  On-board service  \\\n",
       "995                                5.0  ...               2.0   \n",
       "996                                4.0  ...               4.0   \n",
       "997                                2.0  ...               2.0   \n",
       "998                                4.0  ...               4.0   \n",
       "999                                3.0  ...               4.0   \n",
       "\n",
       "     Leg room service  Baggage handling  Checkin service  Inflight service  \\\n",
       "995               3.0               3.0              2.0               2.0   \n",
       "996               4.0               4.0              3.0               4.0   \n",
       "997               4.0               1.0              1.0               2.0   \n",
       "998               4.0               4.0              4.0               4.0   \n",
       "999               4.0               4.0              3.0               4.0   \n",
       "\n",
       "     Cleanliness  Departure Delay in Minutes  Arrival Delay in Minutes  \\\n",
       "995          3.0                        77.0                      74.0   \n",
       "996          2.0                         0.0                       0.0   \n",
       "997          2.0                         0.0                       1.0   \n",
       "998          3.0                        55.0                      56.0   \n",
       "999          4.0                        55.0                      56.0   \n",
       "\n",
       "                satisfaction      id  \n",
       "995                satisfied   50493  \n",
       "996                satisfied   29699  \n",
       "997  neutral or dissatisfied   88711  \n",
       "998                satisfied  109857  \n",
       "999  neutral or dissatisfied   31272  \n",
       "\n",
       "[5 rows x 26 columns]"
      ]
     },
     "execution_count": 19,
     "metadata": {},
     "output_type": "execute_result"
    }
   ],
   "source": [
    "df.tail()"
   ]
  },
  {
   "cell_type": "markdown",
   "metadata": {},
   "source": [
    "Get info about the dataset variables and observations"
   ]
  },
  {
   "cell_type": "code",
   "execution_count": 20,
   "metadata": {},
   "outputs": [
    {
     "name": "stdout",
     "output_type": "stream",
     "text": [
      "<class 'pandas.core.frame.DataFrame'>\n",
      "RangeIndex: 1000 entries, 0 to 999\n",
      "Data columns (total 26 columns):\n",
      " #   Column                             Non-Null Count  Dtype  \n",
      "---  ------                             --------------  -----  \n",
      " 0   Unnamed: 0                         1000 non-null   int64  \n",
      " 1   Unnamed: 0.1                       997 non-null    float64\n",
      " 2   Gender                             997 non-null    object \n",
      " 3   Customer Type                      997 non-null    object \n",
      " 4   Age                                997 non-null    float64\n",
      " 5   Type of Travel                     997 non-null    object \n",
      " 6   Class                              997 non-null    object \n",
      " 7   Flight Distance                    997 non-null    float64\n",
      " 8   Inflight wifi service              997 non-null    float64\n",
      " 9   Departure/Arrival time convenient  997 non-null    float64\n",
      " 10  Ease of Online booking             997 non-null    float64\n",
      " 11  Gate location                      997 non-null    float64\n",
      " 12  Food and drink                     997 non-null    float64\n",
      " 13  Online boarding                    997 non-null    float64\n",
      " 14  Seat comfort                       997 non-null    float64\n",
      " 15  Inflight entertainment             997 non-null    float64\n",
      " 16  On-board service                   997 non-null    float64\n",
      " 17  Leg room service                   997 non-null    float64\n",
      " 18  Baggage handling                   997 non-null    float64\n",
      " 19  Checkin service                    997 non-null    float64\n",
      " 20  Inflight service                   997 non-null    float64\n",
      " 21  Cleanliness                        997 non-null    float64\n",
      " 22  Departure Delay in Minutes         997 non-null    float64\n",
      " 23  Arrival Delay in Minutes           994 non-null    float64\n",
      " 24  satisfaction                       1000 non-null   object \n",
      " 25  id                                 1000 non-null   int64  \n",
      "dtypes: float64(19), int64(2), object(5)\n",
      "memory usage: 203.2+ KB\n"
     ]
    }
   ],
   "source": [
    "df.info()"
   ]
  },
  {
   "cell_type": "markdown",
   "metadata": {},
   "source": [
    "The dataset consists of 1 identification column (id), 19 categorical variables (Gender, Customer Type, Type of travel, Inflight wifi service, Departure/Arrival time convenient, Ease of Online booking, Gate location, Food and drink, Online boarding, Seat comfort, Inflight entertainment, On-board service, Leg room service, Baggage handling, Checkin service, Inflight service, Cleanliness, satisfaction), and 4 continuous variables (Age, Flight Distance, Departure Delay in Minutes, Arrival Delay in Minutes).\n",
    "\n",
    "The target variable in this dataset is satisfaction. The goal of this project is to create models that will help to predict whether a customer will be satisfied or dissatisfied about their flight with the airline."
   ]
  },
  {
   "cell_type": "markdown",
   "metadata": {},
   "source": [
    "Here we get basic descriptive statistics about continuous variables:"
   ]
  },
  {
   "cell_type": "code",
   "execution_count": 21,
   "metadata": {},
   "outputs": [
    {
     "data": {
      "text/html": [
       "<div>\n",
       "<style scoped>\n",
       "    .dataframe tbody tr th:only-of-type {\n",
       "        vertical-align: middle;\n",
       "    }\n",
       "\n",
       "    .dataframe tbody tr th {\n",
       "        vertical-align: top;\n",
       "    }\n",
       "\n",
       "    .dataframe thead th {\n",
       "        text-align: right;\n",
       "    }\n",
       "</style>\n",
       "<table border=\"1\" class=\"dataframe\">\n",
       "  <thead>\n",
       "    <tr style=\"text-align: right;\">\n",
       "      <th></th>\n",
       "      <th>Unnamed: 0</th>\n",
       "      <th>Unnamed: 0.1</th>\n",
       "      <th>Age</th>\n",
       "      <th>Flight Distance</th>\n",
       "      <th>Inflight wifi service</th>\n",
       "      <th>Departure/Arrival time convenient</th>\n",
       "      <th>Ease of Online booking</th>\n",
       "      <th>Gate location</th>\n",
       "      <th>Food and drink</th>\n",
       "      <th>Online boarding</th>\n",
       "      <th>...</th>\n",
       "      <th>Inflight entertainment</th>\n",
       "      <th>On-board service</th>\n",
       "      <th>Leg room service</th>\n",
       "      <th>Baggage handling</th>\n",
       "      <th>Checkin service</th>\n",
       "      <th>Inflight service</th>\n",
       "      <th>Cleanliness</th>\n",
       "      <th>Departure Delay in Minutes</th>\n",
       "      <th>Arrival Delay in Minutes</th>\n",
       "      <th>id</th>\n",
       "    </tr>\n",
       "  </thead>\n",
       "  <tbody>\n",
       "    <tr>\n",
       "      <th>count</th>\n",
       "      <td>1000.000000</td>\n",
       "      <td>997.000000</td>\n",
       "      <td>997.000000</td>\n",
       "      <td>997.000000</td>\n",
       "      <td>997.000000</td>\n",
       "      <td>997.000000</td>\n",
       "      <td>997.000000</td>\n",
       "      <td>997.000000</td>\n",
       "      <td>997.000000</td>\n",
       "      <td>997.000000</td>\n",
       "      <td>...</td>\n",
       "      <td>997.000000</td>\n",
       "      <td>997.000000</td>\n",
       "      <td>997.000000</td>\n",
       "      <td>997.00000</td>\n",
       "      <td>997.000000</td>\n",
       "      <td>997.000000</td>\n",
       "      <td>997.000000</td>\n",
       "      <td>997.000000</td>\n",
       "      <td>994.000000</td>\n",
       "      <td>1000.000000</td>\n",
       "    </tr>\n",
       "    <tr>\n",
       "      <th>mean</th>\n",
       "      <td>52057.521000</td>\n",
       "      <td>52055.742227</td>\n",
       "      <td>39.754263</td>\n",
       "      <td>1270.513541</td>\n",
       "      <td>2.785356</td>\n",
       "      <td>3.108325</td>\n",
       "      <td>2.792377</td>\n",
       "      <td>2.957874</td>\n",
       "      <td>3.182548</td>\n",
       "      <td>3.291876</td>\n",
       "      <td>...</td>\n",
       "      <td>3.395186</td>\n",
       "      <td>3.415246</td>\n",
       "      <td>3.421264</td>\n",
       "      <td>3.69007</td>\n",
       "      <td>3.289870</td>\n",
       "      <td>3.672016</td>\n",
       "      <td>3.295888</td>\n",
       "      <td>16.254764</td>\n",
       "      <td>16.153924</td>\n",
       "      <td>66107.302000</td>\n",
       "    </tr>\n",
       "    <tr>\n",
       "      <th>std</th>\n",
       "      <td>30421.257445</td>\n",
       "      <td>30437.168016</td>\n",
       "      <td>14.847985</td>\n",
       "      <td>1046.302927</td>\n",
       "      <td>1.335365</td>\n",
       "      <td>1.530907</td>\n",
       "      <td>1.429052</td>\n",
       "      <td>1.294191</td>\n",
       "      <td>1.310590</td>\n",
       "      <td>1.384098</td>\n",
       "      <td>...</td>\n",
       "      <td>1.323368</td>\n",
       "      <td>1.305721</td>\n",
       "      <td>1.292964</td>\n",
       "      <td>1.15784</td>\n",
       "      <td>1.303081</td>\n",
       "      <td>1.168422</td>\n",
       "      <td>1.296316</td>\n",
       "      <td>39.482614</td>\n",
       "      <td>40.064418</td>\n",
       "      <td>37593.030132</td>\n",
       "    </tr>\n",
       "    <tr>\n",
       "      <th>min</th>\n",
       "      <td>37.000000</td>\n",
       "      <td>37.000000</td>\n",
       "      <td>7.000000</td>\n",
       "      <td>67.000000</td>\n",
       "      <td>0.000000</td>\n",
       "      <td>0.000000</td>\n",
       "      <td>0.000000</td>\n",
       "      <td>1.000000</td>\n",
       "      <td>1.000000</td>\n",
       "      <td>0.000000</td>\n",
       "      <td>...</td>\n",
       "      <td>1.000000</td>\n",
       "      <td>1.000000</td>\n",
       "      <td>0.000000</td>\n",
       "      <td>1.00000</td>\n",
       "      <td>1.000000</td>\n",
       "      <td>1.000000</td>\n",
       "      <td>1.000000</td>\n",
       "      <td>0.000000</td>\n",
       "      <td>0.000000</td>\n",
       "      <td>76.000000</td>\n",
       "    </tr>\n",
       "    <tr>\n",
       "      <th>25%</th>\n",
       "      <td>26161.750000</td>\n",
       "      <td>26166.000000</td>\n",
       "      <td>27.000000</td>\n",
       "      <td>442.000000</td>\n",
       "      <td>2.000000</td>\n",
       "      <td>2.000000</td>\n",
       "      <td>2.000000</td>\n",
       "      <td>2.000000</td>\n",
       "      <td>2.000000</td>\n",
       "      <td>2.000000</td>\n",
       "      <td>...</td>\n",
       "      <td>2.000000</td>\n",
       "      <td>2.000000</td>\n",
       "      <td>2.000000</td>\n",
       "      <td>3.00000</td>\n",
       "      <td>2.000000</td>\n",
       "      <td>3.000000</td>\n",
       "      <td>2.000000</td>\n",
       "      <td>0.000000</td>\n",
       "      <td>0.000000</td>\n",
       "      <td>31894.250000</td>\n",
       "    </tr>\n",
       "    <tr>\n",
       "      <th>50%</th>\n",
       "      <td>51379.500000</td>\n",
       "      <td>51379.000000</td>\n",
       "      <td>40.000000</td>\n",
       "      <td>903.000000</td>\n",
       "      <td>3.000000</td>\n",
       "      <td>3.000000</td>\n",
       "      <td>3.000000</td>\n",
       "      <td>3.000000</td>\n",
       "      <td>3.000000</td>\n",
       "      <td>4.000000</td>\n",
       "      <td>...</td>\n",
       "      <td>4.000000</td>\n",
       "      <td>4.000000</td>\n",
       "      <td>4.000000</td>\n",
       "      <td>4.00000</td>\n",
       "      <td>3.000000</td>\n",
       "      <td>4.000000</td>\n",
       "      <td>3.000000</td>\n",
       "      <td>0.000000</td>\n",
       "      <td>0.000000</td>\n",
       "      <td>68546.500000</td>\n",
       "    </tr>\n",
       "    <tr>\n",
       "      <th>75%</th>\n",
       "      <td>80255.000000</td>\n",
       "      <td>80516.000000</td>\n",
       "      <td>52.000000</td>\n",
       "      <td>1921.000000</td>\n",
       "      <td>4.000000</td>\n",
       "      <td>4.000000</td>\n",
       "      <td>4.000000</td>\n",
       "      <td>4.000000</td>\n",
       "      <td>4.000000</td>\n",
       "      <td>4.000000</td>\n",
       "      <td>...</td>\n",
       "      <td>5.000000</td>\n",
       "      <td>4.000000</td>\n",
       "      <td>4.000000</td>\n",
       "      <td>5.00000</td>\n",
       "      <td>4.000000</td>\n",
       "      <td>5.000000</td>\n",
       "      <td>4.000000</td>\n",
       "      <td>16.000000</td>\n",
       "      <td>14.000000</td>\n",
       "      <td>97185.750000</td>\n",
       "    </tr>\n",
       "    <tr>\n",
       "      <th>max</th>\n",
       "      <td>103821.000000</td>\n",
       "      <td>103821.000000</td>\n",
       "      <td>76.000000</td>\n",
       "      <td>4963.000000</td>\n",
       "      <td>5.000000</td>\n",
       "      <td>5.000000</td>\n",
       "      <td>5.000000</td>\n",
       "      <td>5.000000</td>\n",
       "      <td>5.000000</td>\n",
       "      <td>5.000000</td>\n",
       "      <td>...</td>\n",
       "      <td>5.000000</td>\n",
       "      <td>5.000000</td>\n",
       "      <td>5.000000</td>\n",
       "      <td>5.00000</td>\n",
       "      <td>5.000000</td>\n",
       "      <td>5.000000</td>\n",
       "      <td>5.000000</td>\n",
       "      <td>407.000000</td>\n",
       "      <td>409.000000</td>\n",
       "      <td>129717.000000</td>\n",
       "    </tr>\n",
       "  </tbody>\n",
       "</table>\n",
       "<p>8 rows × 21 columns</p>\n",
       "</div>"
      ],
      "text/plain": [
       "          Unnamed: 0   Unnamed: 0.1         Age  Flight Distance  \\\n",
       "count    1000.000000     997.000000  997.000000       997.000000   \n",
       "mean    52057.521000   52055.742227   39.754263      1270.513541   \n",
       "std     30421.257445   30437.168016   14.847985      1046.302927   \n",
       "min        37.000000      37.000000    7.000000        67.000000   \n",
       "25%     26161.750000   26166.000000   27.000000       442.000000   \n",
       "50%     51379.500000   51379.000000   40.000000       903.000000   \n",
       "75%     80255.000000   80516.000000   52.000000      1921.000000   \n",
       "max    103821.000000  103821.000000   76.000000      4963.000000   \n",
       "\n",
       "       Inflight wifi service  Departure/Arrival time convenient  \\\n",
       "count             997.000000                         997.000000   \n",
       "mean                2.785356                           3.108325   \n",
       "std                 1.335365                           1.530907   \n",
       "min                 0.000000                           0.000000   \n",
       "25%                 2.000000                           2.000000   \n",
       "50%                 3.000000                           3.000000   \n",
       "75%                 4.000000                           4.000000   \n",
       "max                 5.000000                           5.000000   \n",
       "\n",
       "       Ease of Online booking  Gate location  Food and drink  Online boarding  \\\n",
       "count              997.000000     997.000000      997.000000       997.000000   \n",
       "mean                 2.792377       2.957874        3.182548         3.291876   \n",
       "std                  1.429052       1.294191        1.310590         1.384098   \n",
       "min                  0.000000       1.000000        1.000000         0.000000   \n",
       "25%                  2.000000       2.000000        2.000000         2.000000   \n",
       "50%                  3.000000       3.000000        3.000000         4.000000   \n",
       "75%                  4.000000       4.000000        4.000000         4.000000   \n",
       "max                  5.000000       5.000000        5.000000         5.000000   \n",
       "\n",
       "       ...  Inflight entertainment  On-board service  Leg room service  \\\n",
       "count  ...              997.000000        997.000000        997.000000   \n",
       "mean   ...                3.395186          3.415246          3.421264   \n",
       "std    ...                1.323368          1.305721          1.292964   \n",
       "min    ...                1.000000          1.000000          0.000000   \n",
       "25%    ...                2.000000          2.000000          2.000000   \n",
       "50%    ...                4.000000          4.000000          4.000000   \n",
       "75%    ...                5.000000          4.000000          4.000000   \n",
       "max    ...                5.000000          5.000000          5.000000   \n",
       "\n",
       "       Baggage handling  Checkin service  Inflight service  Cleanliness  \\\n",
       "count         997.00000       997.000000        997.000000   997.000000   \n",
       "mean            3.69007         3.289870          3.672016     3.295888   \n",
       "std             1.15784         1.303081          1.168422     1.296316   \n",
       "min             1.00000         1.000000          1.000000     1.000000   \n",
       "25%             3.00000         2.000000          3.000000     2.000000   \n",
       "50%             4.00000         3.000000          4.000000     3.000000   \n",
       "75%             5.00000         4.000000          5.000000     4.000000   \n",
       "max             5.00000         5.000000          5.000000     5.000000   \n",
       "\n",
       "       Departure Delay in Minutes  Arrival Delay in Minutes             id  \n",
       "count                  997.000000                994.000000    1000.000000  \n",
       "mean                    16.254764                 16.153924   66107.302000  \n",
       "std                     39.482614                 40.064418   37593.030132  \n",
       "min                      0.000000                  0.000000      76.000000  \n",
       "25%                      0.000000                  0.000000   31894.250000  \n",
       "50%                      0.000000                  0.000000   68546.500000  \n",
       "75%                     16.000000                 14.000000   97185.750000  \n",
       "max                    407.000000                409.000000  129717.000000  \n",
       "\n",
       "[8 rows x 21 columns]"
      ]
     },
     "execution_count": 21,
     "metadata": {},
     "output_type": "execute_result"
    }
   ],
   "source": [
    "df.describe()"
   ]
  },
  {
   "cell_type": "markdown",
   "metadata": {},
   "source": [
    "Before we begin graphing or doing transformations on the data, we will drop unnecessary columns that do not provide any information that could help with classifying the data, such as the id and unnamed columns"
   ]
  },
  {
   "cell_type": "code",
   "execution_count": 149,
   "metadata": {},
   "outputs": [],
   "source": [
    "df = df.drop(['Unnamed: 0', 'Unnamed: 0.1', 'id'], axis=1)"
   ]
  },
  {
   "cell_type": "markdown",
   "metadata": {},
   "source": [
    "We see that id and the unnamed columns are no longer a part of the dataframe"
   ]
  },
  {
   "cell_type": "code",
   "execution_count": 23,
   "metadata": {},
   "outputs": [
    {
     "data": {
      "text/plain": [
       "Index(['Gender', 'Customer Type', 'Age', 'Type of Travel', 'Class',\n",
       "       'Flight Distance', 'Inflight wifi service',\n",
       "       'Departure/Arrival time convenient', 'Ease of Online booking',\n",
       "       'Gate location', 'Food and drink', 'Online boarding', 'Seat comfort',\n",
       "       'Inflight entertainment', 'On-board service', 'Leg room service',\n",
       "       'Baggage handling', 'Checkin service', 'Inflight service',\n",
       "       'Cleanliness', 'Departure Delay in Minutes', 'Arrival Delay in Minutes',\n",
       "       'satisfaction'],\n",
       "      dtype='object')"
      ]
     },
     "execution_count": 23,
     "metadata": {},
     "output_type": "execute_result"
    }
   ],
   "source": [
    "df.columns"
   ]
  },
  {
   "cell_type": "markdown",
   "metadata": {},
   "source": [
    "##### Graphs and Plots\n",
    "Below you can see different counts of categorical variables showing the distribution of the data"
   ]
  },
  {
   "cell_type": "code",
   "execution_count": 24,
   "metadata": {},
   "outputs": [
    {
     "data": {
      "text/plain": [
       "(array([0, 1, 2, 3, 4, 5]),\n",
       " [Text(0, 0, '4.0'),\n",
       "  Text(1, 0, '5.0'),\n",
       "  Text(2, 0, '2.0'),\n",
       "  Text(3, 0, '3.0'),\n",
       "  Text(4, 0, '1.0'),\n",
       "  Text(5, 0, '0.0')])"
      ]
     },
     "execution_count": 24,
     "metadata": {},
     "output_type": "execute_result"
    },
    {
     "data": {
      "image/png": "[encoded data removed]",
      "text/plain": [
       "<Figure size 720x720 with 6 Axes>"
      ]
     },
     "metadata": {
      "needs_background": "light"
     },
     "output_type": "display_data"
    }
   ],
   "source": [
    "# Set up a grid of plots for categorical data and numerical data\n",
    "fig = plt.figure(figsize=fizsize_with_subplots) \n",
    "fig_dims = (3, 2)\n",
    "\n",
    "# Plot Gender counts\n",
    "plt.subplot2grid(fig_dims, (0, 0))\n",
    "df['Gender'].value_counts().plot(kind='bar', \n",
    "                                         title='Gender Counts')\n",
    "plt.xticks(rotation=0)\n",
    "\n",
    "# Plot Customer Type counts\n",
    "plt.subplot2grid(fig_dims, (0, 1))\n",
    "df['Customer Type'].value_counts().plot(kind='bar', \n",
    "                                       title='Customer Type Counts')\n",
    "plt.xticks(rotation=0)\n",
    "\n",
    "# Plot Type of Travel counts\n",
    "plt.subplot2grid(fig_dims, (1, 0))\n",
    "df['Type of Travel'].value_counts().plot(kind='bar', \n",
    "                                    title='Type of Travel Counts')\n",
    "plt.xticks(rotation=0)\n",
    "\n",
    "# Plot Class counts\n",
    "plt.subplot2grid(fig_dims, (1, 1))\n",
    "df['Class'].value_counts().plot(kind='bar', \n",
    "                                         title='Class Counts')\n",
    "plt.xticks(rotation=0)\n",
    "\n",
    "# Plot Satisfaction counts\n",
    "plt.subplot2grid(fig_dims, (2, 0))\n",
    "df['satisfaction'].value_counts().plot(kind='bar', \n",
    "                                         title='Satisfaction Counts')\n",
    "plt.xticks(rotation=0)\n",
    "\n",
    "# Plot Satisfaction counts\n",
    "plt.subplot2grid(fig_dims, (2, 1))\n",
    "df['Departure/Arrival time convenient'].value_counts().plot(kind='bar', \n",
    "                                         title='Departure/Arrival time convenient Counts')\n",
    "plt.xticks(rotation=0)\n"
   ]
  },
  {
   "cell_type": "code",
   "execution_count": 25,
   "metadata": {},
   "outputs": [
    {
     "data": {
      "text/plain": [
       "<AxesSubplot:title={'center':'Gate location'}>"
      ]
     },
     "execution_count": 25,
     "metadata": {},
     "output_type": "execute_result"
    },
    {
     "data": {
      "image/png": "[encoded data removed]",
      "text/plain": [
       "<Figure size 720x720 with 5 Axes>"
      ]
     },
     "metadata": {
      "needs_background": "light"
     },
     "output_type": "display_data"
    }
   ],
   "source": [
    "# Set up a grid of plots for categorical data and numerical data\n",
    "fig = plt.figure(figsize=fizsize_with_subplots) \n",
    "fig_dims = (3, 2)\n",
    "\n",
    "# Plot the Age histogram\n",
    "plt.subplot2grid(fig_dims, (0, 0))\n",
    "df['Age'].hist()\n",
    "plt.title('Age Histogram')\n",
    "\n",
    "# Plot the Flight Distance histogram\n",
    "plt.subplot2grid(fig_dims, (0, 1))\n",
    "df['Flight Distance'].hist()\n",
    "plt.title('Flight Distance Histogram')\n",
    "\n",
    "# Plot the wifi service histogram\n",
    "plt.subplot2grid(fig_dims, (1, 0))\n",
    "df['Inflight wifi service'].value_counts().plot(kind='bar', \n",
    "                                         title='Inflight wifi service Counts')\n",
    "\n",
    "# Plot the Departure/Arrival time convenient histogram\n",
    "plt.subplot2grid(fig_dims, (1, 0))\n",
    "df['Departure/Arrival time convenient'].value_counts().plot(kind='bar', \n",
    "                                         title='Departure/Arrival time convenient Counts')\n",
    "\n",
    "# Plot the Ease of Online booking histogram\n",
    "plt.subplot2grid(fig_dims, (1, 1))\n",
    "df['Ease of Online booking'].value_counts().plot(kind='bar', \n",
    "                                         title='Ease of Online booking Counts')\n",
    "\n",
    "# Plot the Gate location histogram\n",
    "plt.subplot2grid(fig_dims, (2, 0))\n",
    "df['Gate location'].value_counts().plot(kind='bar', \n",
    "                                         title='Gate location')\n"
   ]
  },
  {
   "cell_type": "markdown",
   "metadata": {},
   "source": [
    "##### Correlation plot of all variables"
   ]
  },
  {
   "cell_type": "code",
   "execution_count": 26,
   "metadata": {},
   "outputs": [
    {
     "data": {
      "text/plain": [
       "(array([ 0.5,  1.5,  2.5,  3.5,  4.5,  5.5,  6.5,  7.5,  8.5,  9.5, 10.5,\n",
       "        11.5, 12.5, 13.5, 14.5, 15.5, 16.5, 17.5]),\n",
       " [Text(0.5, 0, 'Age'),\n",
       "  Text(1.5, 0, 'Flight Distance'),\n",
       "  Text(2.5, 0, 'Inflight wifi service'),\n",
       "  Text(3.5, 0, 'Departure/Arrival time convenient'),\n",
       "  Text(4.5, 0, 'Ease of Online booking'),\n",
       "  Text(5.5, 0, 'Gate location'),\n",
       "  Text(6.5, 0, 'Food and drink'),\n",
       "  Text(7.5, 0, 'Online boarding'),\n",
       "  Text(8.5, 0, 'Seat comfort'),\n",
       "  Text(9.5, 0, 'Inflight entertainment'),\n",
       "  Text(10.5, 0, 'On-board service'),\n",
       "  Text(11.5, 0, 'Leg room service'),\n",
       "  Text(12.5, 0, 'Baggage handling'),\n",
       "  Text(13.5, 0, 'Checkin service'),\n",
       "  Text(14.5, 0, 'Inflight service'),\n",
       "  Text(15.5, 0, 'Cleanliness'),\n",
       "  Text(16.5, 0, 'Departure Delay in Minutes'),\n",
       "  Text(17.5, 0, 'Arrival Delay in Minutes')])"
      ]
     },
     "execution_count": 26,
     "metadata": {},
     "output_type": "execute_result"
    },
    {
     "data": {
      "image/png": "[encoded data removed]",
      "text/plain": [
       "<Figure size 864x360 with 2 Axes>"
      ]
     },
     "metadata": {
      "needs_background": "light"
     },
     "output_type": "display_data"
    }
   ],
   "source": [
    "plt.subplots(figsize=(12,5))\n",
    "correlation = df.corr()\n",
    "sns.heatmap(correlation,annot=True,cmap='RdPu')\n",
    "plt.title('Correlation between variables')\n",
    "plt.xticks(rotation=90)"
   ]
  },
  {
   "cell_type": "markdown",
   "metadata": {},
   "source": [
    "According to the above correlation plots, there does not seem to be any major correlation between variables that would cause any issues except for the departure and arrival delays."
   ]
  },
  {
   "cell_type": "markdown",
   "metadata": {},
   "source": [
    "#### Missing Data & Transformations"
   ]
  },
  {
   "cell_type": "code",
   "execution_count": 27,
   "metadata": {},
   "outputs": [
    {
     "data": {
      "text/plain": [
       "Gender                               3\n",
       "Customer Type                        3\n",
       "Age                                  3\n",
       "Type of Travel                       3\n",
       "Class                                3\n",
       "Flight Distance                      3\n",
       "Inflight wifi service                3\n",
       "Departure/Arrival time convenient    3\n",
       "Ease of Online booking               3\n",
       "Gate location                        3\n",
       "Food and drink                       3\n",
       "Online boarding                      3\n",
       "Seat comfort                         3\n",
       "Inflight entertainment               3\n",
       "On-board service                     3\n",
       "Leg room service                     3\n",
       "Baggage handling                     3\n",
       "Checkin service                      3\n",
       "Inflight service                     3\n",
       "Cleanliness                          3\n",
       "Departure Delay in Minutes           3\n",
       "Arrival Delay in Minutes             6\n",
       "satisfaction                         0\n",
       "dtype: int64"
      ]
     },
     "execution_count": 27,
     "metadata": {},
     "output_type": "execute_result"
    }
   ],
   "source": [
    "# Get missing data for each column\n",
    "df.isna().sum()"
   ]
  },
  {
   "cell_type": "code",
   "execution_count": 150,
   "metadata": {},
   "outputs": [
    {
     "name": "stdout",
     "output_type": "stream",
     "text": [
      "Missing data: 6.90%\n"
     ]
    }
   ],
   "source": [
    "# Get percentage of missing values for the dataset\n",
    "print('Missing data: {:.2f}%'.format((df.isna().sum().sum() / len(df)) * 100))"
   ]
  },
  {
   "cell_type": "code",
   "execution_count": 151,
   "metadata": {},
   "outputs": [
    {
     "name": "stdout",
     "output_type": "stream",
     "text": [
      "Female    507\n",
      "Male      490\n",
      "Name: Gender, dtype: int64\n",
      "Loyal Customer       830\n",
      "disloyal Customer    167\n",
      "Name: Customer Type, dtype: int64\n",
      "36.0    34\n",
      "26.0    30\n",
      "39.0    29\n",
      "43.0    29\n",
      "24.0    28\n",
      "        ..\n",
      "64.0     3\n",
      "11.0     2\n",
      "7.0      2\n",
      "76.0     1\n",
      "75.0     1\n",
      "Name: Age, Length: 66, dtype: int64\n",
      "Business travel    683\n",
      "Personal Travel    314\n",
      "Name: Type of Travel, dtype: int64\n",
      "Business    484\n",
      "Eco         430\n",
      "Eco Plus     83\n",
      "Name: Class, dtype: int64\n",
      "337.0     7\n",
      "528.0     6\n",
      "296.0     6\n",
      "2475.0    6\n",
      "109.0     6\n",
      "         ..\n",
      "2614.0    1\n",
      "3103.0    1\n",
      "2752.0    1\n",
      "3375.0    1\n",
      "1542.0    1\n",
      "Name: Flight Distance, Length: 680, dtype: int64\n",
      "2.0    261\n",
      "3.0    224\n",
      "4.0    204\n",
      "1.0    162\n",
      "5.0    121\n",
      "0.0     25\n",
      "Name: Inflight wifi service, dtype: int64\n",
      "4.0    245\n",
      "5.0    231\n",
      "2.0    165\n",
      "3.0    163\n",
      "1.0    145\n",
      "0.0     48\n",
      "Name: Departure/Arrival time convenient, dtype: int64\n",
      "2.0    224\n",
      "3.0    208\n",
      "4.0    199\n",
      "1.0    181\n",
      "5.0    147\n",
      "0.0     38\n",
      "Name: Ease of Online booking, dtype: int64\n",
      "3.0    251\n",
      "4.0    230\n",
      "2.0    208\n",
      "1.0    170\n",
      "5.0    138\n",
      "Name: Gate location, dtype: int64\n",
      "3.0    246\n",
      "2.0    216\n",
      "5.0    214\n",
      "4.0    204\n",
      "1.0    117\n",
      "Name: Food and drink, dtype: int64\n",
      "4.0    307\n",
      "5.0    217\n",
      "3.0    184\n",
      "2.0    151\n",
      "1.0    115\n",
      "0.0     23\n",
      "Name: Online boarding, dtype: int64\n",
      "4.0    287\n",
      "5.0    259\n",
      "3.0    180\n",
      "2.0    147\n",
      "1.0    124\n",
      "Name: Seat comfort, dtype: int64\n",
      "4.0    260\n",
      "5.0    260\n",
      "3.0    198\n",
      "2.0    172\n",
      "1.0    107\n",
      "Name: Inflight entertainment, dtype: int64\n",
      "4.0    296\n",
      "5.0    243\n",
      "3.0    207\n",
      "2.0    134\n",
      "1.0    117\n",
      "Name: On-board service, dtype: int64\n",
      "4.0    293\n",
      "5.0    245\n",
      "3.0    195\n",
      "2.0    169\n",
      "1.0     91\n",
      "0.0      4\n",
      "Name: Leg room service, dtype: int64\n",
      "4.0    369\n",
      "5.0    273\n",
      "3.0    189\n",
      "2.0    105\n",
      "1.0     61\n",
      "Name: Baggage handling, dtype: int64\n",
      "3.0    263\n",
      "4.0    259\n",
      "5.0    213\n",
      "1.0    134\n",
      "2.0    128\n",
      "Name: Checkin service, dtype: int64\n",
      "4.0    363\n",
      "5.0    272\n",
      "3.0    186\n",
      "2.0    115\n",
      "1.0     61\n",
      "Name: Inflight service, dtype: int64\n",
      "3.0    256\n",
      "4.0    252\n",
      "5.0    218\n",
      "2.0    149\n",
      "1.0    122\n",
      "Name: Cleanliness, dtype: int64\n",
      "0.0      555\n",
      "1.0       24\n",
      "5.0       19\n",
      "12.0      16\n",
      "2.0       16\n",
      "        ... \n",
      "74.0       1\n",
      "70.0       1\n",
      "73.0       1\n",
      "118.0      1\n",
      "163.0      1\n",
      "Name: Departure Delay in Minutes, Length: 114, dtype: int64\n",
      "0.0      537\n",
      "4.0       29\n",
      "3.0       24\n",
      "1.0       23\n",
      "2.0       19\n",
      "        ... \n",
      "52.0       1\n",
      "165.0      1\n",
      "88.0       1\n",
      "305.0      1\n",
      "128.0      1\n",
      "Name: Arrival Delay in Minutes, Length: 116, dtype: int64\n",
      "neutral or dissatisfied    540\n",
      "satisfied                  460\n",
      "Name: satisfaction, dtype: int64\n"
     ]
    }
   ],
   "source": [
    "# View value counts for each column\n",
    "for x in df.columns:\n",
    "    print(df[x].value_counts())"
   ]
  },
  {
   "cell_type": "code",
   "execution_count": 30,
   "metadata": {},
   "outputs": [
    {
     "data": {
      "text/plain": [
       "Index(['Gender', 'Customer Type', 'Age', 'Type of Travel', 'Class',\n",
       "       'Flight Distance', 'Inflight wifi service',\n",
       "       'Departure/Arrival time convenient', 'Ease of Online booking',\n",
       "       'Gate location', 'Food and drink', 'Online boarding', 'Seat comfort',\n",
       "       'Inflight entertainment', 'On-board service', 'Leg room service',\n",
       "       'Baggage handling', 'Checkin service', 'Inflight service',\n",
       "       'Cleanliness', 'Departure Delay in Minutes', 'Arrival Delay in Minutes',\n",
       "       'satisfaction'],\n",
       "      dtype='object')"
      ]
     },
     "execution_count": 30,
     "metadata": {},
     "output_type": "execute_result"
    }
   ],
   "source": [
    "df.columns"
   ]
  },
  {
   "cell_type": "markdown",
   "metadata": {},
   "source": [
    "##### Categorical variables\n",
    "For all categorical variables, we replace nulls with the mode of the column.\n",
    "- Transformations done on nominal columns with only two values will include changing the value with the most counts to be 1 and the other value to be 0. \n",
    "- Transformations done on nominal columns with more than two values will be replaced with one-hot-coded vectors with the length of how many classes there are"
   ]
  },
  {
   "cell_type": "markdown",
   "metadata": {},
   "source": [
    "##### Feature: Gender"
   ]
  },
  {
   "cell_type": "code",
   "execution_count": 152,
   "metadata": {},
   "outputs": [
    {
     "data": {
      "text/plain": [
       "Female    507\n",
       "Male      490\n",
       "Name: Gender, dtype: int64"
      ]
     },
     "execution_count": 152,
     "metadata": {},
     "output_type": "execute_result"
    }
   ],
   "source": [
    "df['Gender'].value_counts()"
   ]
  },
  {
   "cell_type": "code",
   "execution_count": 153,
   "metadata": {},
   "outputs": [],
   "source": [
    "# Fill NAs with Female (mode of class)\n",
    "df['Gender'].fillna('Female', inplace=True)"
   ]
  },
  {
   "cell_type": "code",
   "execution_count": 154,
   "metadata": {},
   "outputs": [
    {
     "data": {
      "text/plain": [
       "Female    510\n",
       "Male      490\n",
       "Name: Gender, dtype: int64"
      ]
     },
     "execution_count": 154,
     "metadata": {},
     "output_type": "execute_result"
    }
   ],
   "source": [
    "df['Gender'].value_counts()"
   ]
  },
  {
   "cell_type": "code",
   "execution_count": 155,
   "metadata": {},
   "outputs": [],
   "source": [
    "# Change column to binary - Male = 1, Female = 0\n",
    "df['Gender'] = np.where(df['Gender'] == 'Female', 1, 0)"
   ]
  },
  {
   "cell_type": "code",
   "execution_count": 156,
   "metadata": {},
   "outputs": [
    {
     "data": {
      "text/plain": [
       "1    510\n",
       "0    490\n",
       "Name: Gender, dtype: int64"
      ]
     },
     "execution_count": 156,
     "metadata": {},
     "output_type": "execute_result"
    }
   ],
   "source": [
    "df['Gender'].value_counts()"
   ]
  },
  {
   "cell_type": "markdown",
   "metadata": {},
   "source": [
    "##### Feature: Loyal Customer"
   ]
  },
  {
   "cell_type": "code",
   "execution_count": 157,
   "metadata": {},
   "outputs": [
    {
     "data": {
      "text/plain": [
       "Loyal Customer       830\n",
       "disloyal Customer    167\n",
       "Name: Customer Type, dtype: int64"
      ]
     },
     "execution_count": 157,
     "metadata": {},
     "output_type": "execute_result"
    }
   ],
   "source": [
    "df['Customer Type'].value_counts()"
   ]
  },
  {
   "cell_type": "code",
   "execution_count": 158,
   "metadata": {},
   "outputs": [],
   "source": [
    "# Fill NAs with 'Loyal Customer' (mode)\n",
    "df['Customer Type'].fillna('Loyal Customer', inplace=True)"
   ]
  },
  {
   "cell_type": "code",
   "execution_count": 159,
   "metadata": {},
   "outputs": [
    {
     "data": {
      "text/plain": [
       "Loyal Customer       833\n",
       "disloyal Customer    167\n",
       "Name: Customer Type, dtype: int64"
      ]
     },
     "execution_count": 159,
     "metadata": {},
     "output_type": "execute_result"
    }
   ],
   "source": [
    "df['Customer Type'].value_counts()"
   ]
  },
  {
   "cell_type": "code",
   "execution_count": 160,
   "metadata": {},
   "outputs": [],
   "source": [
    "# Change column to binary Loyal Customer = 1, disloyal Customer = 0\n",
    "df['Customer Type'] = np.where(df['Customer Type'] == 'Loyal Customer', 1, 0)"
   ]
  },
  {
   "cell_type": "code",
   "execution_count": 161,
   "metadata": {},
   "outputs": [
    {
     "data": {
      "text/plain": [
       "1    833\n",
       "0    167\n",
       "Name: Customer Type, dtype: int64"
      ]
     },
     "execution_count": 161,
     "metadata": {},
     "output_type": "execute_result"
    }
   ],
   "source": [
    "df['Customer Type'].value_counts()"
   ]
  },
  {
   "cell_type": "markdown",
   "metadata": {},
   "source": [
    "##### Feature: Type of Travel"
   ]
  },
  {
   "cell_type": "code",
   "execution_count": 162,
   "metadata": {},
   "outputs": [
    {
     "data": {
      "text/plain": [
       "Business travel    683\n",
       "Personal Travel    314\n",
       "Name: Type of Travel, dtype: int64"
      ]
     },
     "execution_count": 162,
     "metadata": {},
     "output_type": "execute_result"
    }
   ],
   "source": [
    "df['Type of Travel'].value_counts()"
   ]
  },
  {
   "cell_type": "code",
   "execution_count": 163,
   "metadata": {},
   "outputs": [],
   "source": [
    "# Fill NAs with mode\n",
    "df['Type of Travel'].fillna('Business travel', inplace=True)"
   ]
  },
  {
   "cell_type": "code",
   "execution_count": 164,
   "metadata": {},
   "outputs": [
    {
     "data": {
      "text/plain": [
       "Business travel    686\n",
       "Personal Travel    314\n",
       "Name: Type of Travel, dtype: int64"
      ]
     },
     "execution_count": 164,
     "metadata": {},
     "output_type": "execute_result"
    }
   ],
   "source": [
    "df['Type of Travel'].value_counts()"
   ]
  },
  {
   "cell_type": "code",
   "execution_count": 165,
   "metadata": {},
   "outputs": [],
   "source": [
    "# Change column to binary Business travel = 1, Personal travel = 0\n",
    "df['Type of Travel'] = np.where(df['Type of Travel'] == 'Business travel', 1, 0)"
   ]
  },
  {
   "cell_type": "code",
   "execution_count": 166,
   "metadata": {},
   "outputs": [
    {
     "data": {
      "text/plain": [
       "1    686\n",
       "0    314\n",
       "Name: Type of Travel, dtype: int64"
      ]
     },
     "execution_count": 166,
     "metadata": {},
     "output_type": "execute_result"
    }
   ],
   "source": [
    "df['Type of Travel'].value_counts()"
   ]
  },
  {
   "cell_type": "code",
   "execution_count": 46,
   "metadata": {},
   "outputs": [
    {
     "data": {
      "text/plain": [
       "0"
      ]
     },
     "execution_count": 46,
     "metadata": {},
     "output_type": "execute_result"
    }
   ],
   "source": [
    "# Check to see if missing values\n",
    "df['Type of Travel'].isna().sum()"
   ]
  },
  {
   "cell_type": "markdown",
   "metadata": {},
   "source": [
    "##### Feature: Class"
   ]
  },
  {
   "cell_type": "code",
   "execution_count": 167,
   "metadata": {},
   "outputs": [
    {
     "data": {
      "text/plain": [
       "0    Business\n",
       "dtype: object"
      ]
     },
     "execution_count": 167,
     "metadata": {},
     "output_type": "execute_result"
    }
   ],
   "source": [
    "df['Class'].mode()"
   ]
  },
  {
   "cell_type": "code",
   "execution_count": 168,
   "metadata": {},
   "outputs": [],
   "source": [
    "# Fill in NAs with mode of class\n",
    "df['Class'].fillna('Business', inplace=True)"
   ]
  },
  {
   "cell_type": "code",
   "execution_count": 169,
   "metadata": {},
   "outputs": [
    {
     "data": {
      "text/plain": [
       "Business    487\n",
       "Eco         430\n",
       "Eco Plus     83\n",
       "Name: Class, dtype: int64"
      ]
     },
     "execution_count": 169,
     "metadata": {},
     "output_type": "execute_result"
    }
   ],
   "source": [
    "df['Class'].value_counts()"
   ]
  },
  {
   "cell_type": "code",
   "execution_count": 170,
   "metadata": {},
   "outputs": [
    {
     "data": {
      "text/plain": [
       "0"
      ]
     },
     "execution_count": 170,
     "metadata": {},
     "output_type": "execute_result"
    }
   ],
   "source": [
    "# Check to see if missing values\n",
    "df['Class'].isna().sum() "
   ]
  },
  {
   "cell_type": "code",
   "execution_count": 171,
   "metadata": {},
   "outputs": [],
   "source": [
    "# get one-hot coded vector for Class\n",
    "classes = pd.get_dummies(df['Class'], prefix=\"Class\", drop_first = False)"
   ]
  },
  {
   "cell_type": "code",
   "execution_count": 172,
   "metadata": {},
   "outputs": [],
   "source": [
    "# merge dummy variables into main dataframe\n",
    "df2 = pd.concat([df, classes], axis=1)"
   ]
  },
  {
   "cell_type": "code",
   "execution_count": 173,
   "metadata": {},
   "outputs": [],
   "source": [
    "# drop original column 'Class'\n",
    "df2 = df2.drop('Class', axis=1)"
   ]
  },
  {
   "cell_type": "markdown",
   "metadata": {},
   "source": [
    "No further transformations are needed for this column"
   ]
  },
  {
   "cell_type": "markdown",
   "metadata": {},
   "source": [
    "##### Feature: Inflight wifi service"
   ]
  },
  {
   "cell_type": "code",
   "execution_count": 175,
   "metadata": {},
   "outputs": [
    {
     "data": {
      "text/plain": [
       "0    2.0\n",
       "dtype: float64"
      ]
     },
     "execution_count": 175,
     "metadata": {},
     "output_type": "execute_result"
    }
   ],
   "source": [
    "# Fill NAs with mode\n",
    "df2['Inflight wifi service'].mode()"
   ]
  },
  {
   "cell_type": "code",
   "execution_count": 176,
   "metadata": {},
   "outputs": [],
   "source": [
    "df2['Inflight wifi service'].fillna(2.0, inplace=True)"
   ]
  },
  {
   "cell_type": "code",
   "execution_count": 177,
   "metadata": {},
   "outputs": [
    {
     "data": {
      "text/plain": [
       "2.0    264\n",
       "3.0    224\n",
       "4.0    204\n",
       "1.0    162\n",
       "5.0    121\n",
       "0.0     25\n",
       "Name: Inflight wifi service, dtype: int64"
      ]
     },
     "execution_count": 177,
     "metadata": {},
     "output_type": "execute_result"
    }
   ],
   "source": [
    "df2['Inflight wifi service'].value_counts()"
   ]
  },
  {
   "cell_type": "code",
   "execution_count": 178,
   "metadata": {},
   "outputs": [
    {
     "data": {
      "text/plain": [
       "0"
      ]
     },
     "execution_count": 178,
     "metadata": {},
     "output_type": "execute_result"
    }
   ],
   "source": [
    "# Check for nulls\n",
    "df2['Inflight wifi service'].isna().sum()"
   ]
  },
  {
   "cell_type": "markdown",
   "metadata": {},
   "source": [
    "No further transformations are needed for this column"
   ]
  },
  {
   "cell_type": "markdown",
   "metadata": {},
   "source": [
    "##### Feature: Departure/Arrival time convenient"
   ]
  },
  {
   "cell_type": "code",
   "execution_count": 179,
   "metadata": {},
   "outputs": [
    {
     "data": {
      "text/plain": [
       "0    4.0\n",
       "dtype: float64"
      ]
     },
     "execution_count": 179,
     "metadata": {},
     "output_type": "execute_result"
    }
   ],
   "source": [
    "# Replace NAs with mode (4.0)\n",
    "df2['Departure/Arrival time convenient'].mode()"
   ]
  },
  {
   "cell_type": "code",
   "execution_count": 180,
   "metadata": {},
   "outputs": [],
   "source": [
    "# Replace NAs with mode (4.0)\n",
    "df2['Departure/Arrival time convenient'].fillna(4.0, inplace=True)"
   ]
  },
  {
   "cell_type": "code",
   "execution_count": 181,
   "metadata": {},
   "outputs": [
    {
     "data": {
      "text/plain": [
       "4.0    248\n",
       "5.0    231\n",
       "2.0    165\n",
       "3.0    163\n",
       "1.0    145\n",
       "0.0     48\n",
       "Name: Departure/Arrival time convenient, dtype: int64"
      ]
     },
     "execution_count": 181,
     "metadata": {},
     "output_type": "execute_result"
    }
   ],
   "source": [
    "df2['Departure/Arrival time convenient'].value_counts()"
   ]
  },
  {
   "cell_type": "code",
   "execution_count": 182,
   "metadata": {},
   "outputs": [
    {
     "data": {
      "text/plain": [
       "0"
      ]
     },
     "execution_count": 182,
     "metadata": {},
     "output_type": "execute_result"
    }
   ],
   "source": [
    "# Check for nulls\n",
    "df2['Departure/Arrival time convenient'].isna().sum()"
   ]
  },
  {
   "cell_type": "markdown",
   "metadata": {},
   "source": [
    "No further transformations are needed for this column"
   ]
  },
  {
   "cell_type": "markdown",
   "metadata": {},
   "source": [
    "##### Feature: Ease of Online booking"
   ]
  },
  {
   "cell_type": "code",
   "execution_count": 183,
   "metadata": {},
   "outputs": [
    {
     "data": {
      "text/plain": [
       "2.0    224\n",
       "3.0    208\n",
       "4.0    199\n",
       "1.0    181\n",
       "5.0    147\n",
       "0.0     38\n",
       "Name: Ease of Online booking, dtype: int64"
      ]
     },
     "execution_count": 183,
     "metadata": {},
     "output_type": "execute_result"
    }
   ],
   "source": [
    "# Replace NAs with mode\n",
    "df2['Ease of Online booking'].value_counts()"
   ]
  },
  {
   "cell_type": "code",
   "execution_count": 185,
   "metadata": {},
   "outputs": [],
   "source": [
    "df2['Ease of Online booking'].fillna(2.0, inplace=True)"
   ]
  },
  {
   "cell_type": "code",
   "execution_count": 186,
   "metadata": {},
   "outputs": [
    {
     "data": {
      "text/plain": [
       "2.0    227\n",
       "3.0    208\n",
       "4.0    199\n",
       "1.0    181\n",
       "5.0    147\n",
       "0.0     38\n",
       "Name: Ease of Online booking, dtype: int64"
      ]
     },
     "execution_count": 186,
     "metadata": {},
     "output_type": "execute_result"
    }
   ],
   "source": [
    "df2['Ease of Online booking'].value_counts()"
   ]
  },
  {
   "cell_type": "code",
   "execution_count": 187,
   "metadata": {},
   "outputs": [
    {
     "data": {
      "text/plain": [
       "0"
      ]
     },
     "execution_count": 187,
     "metadata": {},
     "output_type": "execute_result"
    }
   ],
   "source": [
    "# Check for nulls\n",
    "df2['Ease of Online booking'].isna().sum()"
   ]
  },
  {
   "cell_type": "markdown",
   "metadata": {},
   "source": [
    "No further transformations are needed for this column"
   ]
  },
  {
   "cell_type": "markdown",
   "metadata": {},
   "source": [
    "##### Feature: Gate Location"
   ]
  },
  {
   "cell_type": "code",
   "execution_count": 188,
   "metadata": {},
   "outputs": [
    {
     "data": {
      "text/plain": [
       "3.0    251\n",
       "4.0    230\n",
       "2.0    208\n",
       "1.0    170\n",
       "5.0    138\n",
       "Name: Gate location, dtype: int64"
      ]
     },
     "execution_count": 188,
     "metadata": {},
     "output_type": "execute_result"
    }
   ],
   "source": [
    "# Replace NAs with Mode\n",
    "df2['Gate location'].value_counts()"
   ]
  },
  {
   "cell_type": "code",
   "execution_count": 189,
   "metadata": {},
   "outputs": [],
   "source": [
    "df2['Gate location'].fillna(3.0, inplace=True)"
   ]
  },
  {
   "cell_type": "code",
   "execution_count": 190,
   "metadata": {},
   "outputs": [
    {
     "data": {
      "text/plain": [
       "3.0    254\n",
       "4.0    230\n",
       "2.0    208\n",
       "1.0    170\n",
       "5.0    138\n",
       "Name: Gate location, dtype: int64"
      ]
     },
     "execution_count": 190,
     "metadata": {},
     "output_type": "execute_result"
    }
   ],
   "source": [
    "df2['Gate location'].value_counts()"
   ]
  },
  {
   "cell_type": "code",
   "execution_count": 191,
   "metadata": {},
   "outputs": [
    {
     "data": {
      "text/plain": [
       "0"
      ]
     },
     "execution_count": 191,
     "metadata": {},
     "output_type": "execute_result"
    }
   ],
   "source": [
    "# Check for missing values\n",
    "df2['Gate location'].isna().sum()"
   ]
  },
  {
   "cell_type": "markdown",
   "metadata": {},
   "source": [
    "No further transformations are needed for this column"
   ]
  },
  {
   "cell_type": "markdown",
   "metadata": {},
   "source": [
    "##### Feature: Food and Drink"
   ]
  },
  {
   "cell_type": "code",
   "execution_count": 192,
   "metadata": {},
   "outputs": [
    {
     "data": {
      "text/plain": [
       "3.0    246\n",
       "2.0    216\n",
       "5.0    214\n",
       "4.0    204\n",
       "1.0    117\n",
       "Name: Food and drink, dtype: int64"
      ]
     },
     "execution_count": 192,
     "metadata": {},
     "output_type": "execute_result"
    }
   ],
   "source": [
    "# Replace NAs with mode\n",
    "df2['Food and drink'].value_counts()"
   ]
  },
  {
   "cell_type": "code",
   "execution_count": 193,
   "metadata": {},
   "outputs": [],
   "source": [
    "df2['Food and drink'].fillna(3.0, inplace=True)"
   ]
  },
  {
   "cell_type": "code",
   "execution_count": 194,
   "metadata": {},
   "outputs": [
    {
     "data": {
      "text/plain": [
       "3.0    249\n",
       "2.0    216\n",
       "5.0    214\n",
       "4.0    204\n",
       "1.0    117\n",
       "Name: Food and drink, dtype: int64"
      ]
     },
     "execution_count": 194,
     "metadata": {},
     "output_type": "execute_result"
    }
   ],
   "source": [
    "df2['Food and drink'].value_counts()"
   ]
  },
  {
   "cell_type": "code",
   "execution_count": 195,
   "metadata": {},
   "outputs": [
    {
     "data": {
      "text/plain": [
       "0"
      ]
     },
     "execution_count": 195,
     "metadata": {},
     "output_type": "execute_result"
    }
   ],
   "source": [
    "# Check for missing values\n",
    "df2['Food and drink'].isna().sum()"
   ]
  },
  {
   "cell_type": "markdown",
   "metadata": {},
   "source": [
    "No further transformations are needed for this column"
   ]
  },
  {
   "cell_type": "code",
   "execution_count": 196,
   "metadata": {},
   "outputs": [
    {
     "data": {
      "text/plain": [
       "4.0    307\n",
       "5.0    217\n",
       "3.0    184\n",
       "2.0    151\n",
       "1.0    115\n",
       "0.0     23\n",
       "Name: Online boarding, dtype: int64"
      ]
     },
     "execution_count": 196,
     "metadata": {},
     "output_type": "execute_result"
    }
   ],
   "source": [
    "# Replace NAs with null \n",
    "df2['Online boarding'].value_counts()"
   ]
  },
  {
   "cell_type": "code",
   "execution_count": 197,
   "metadata": {},
   "outputs": [],
   "source": [
    "df2['Online boarding'].fillna(4.0, inplace=True)"
   ]
  },
  {
   "cell_type": "code",
   "execution_count": 198,
   "metadata": {},
   "outputs": [
    {
     "data": {
      "text/plain": [
       "4.0    310\n",
       "5.0    217\n",
       "3.0    184\n",
       "2.0    151\n",
       "1.0    115\n",
       "0.0     23\n",
       "Name: Online boarding, dtype: int64"
      ]
     },
     "execution_count": 198,
     "metadata": {},
     "output_type": "execute_result"
    }
   ],
   "source": [
    "df2['Online boarding'].value_counts()"
   ]
  },
  {
   "cell_type": "code",
   "execution_count": 199,
   "metadata": {},
   "outputs": [
    {
     "data": {
      "text/plain": [
       "0"
      ]
     },
     "execution_count": 199,
     "metadata": {},
     "output_type": "execute_result"
    }
   ],
   "source": [
    "# Check for nulls\n",
    "df2['Online boarding'].isna().sum()"
   ]
  },
  {
   "cell_type": "markdown",
   "metadata": {},
   "source": [
    "No further transformations are needed for this column"
   ]
  },
  {
   "cell_type": "markdown",
   "metadata": {},
   "source": [
    "##### Feature: Seat comfort"
   ]
  },
  {
   "cell_type": "code",
   "execution_count": 200,
   "metadata": {},
   "outputs": [
    {
     "data": {
      "text/plain": [
       "4.0    287\n",
       "5.0    259\n",
       "3.0    180\n",
       "2.0    147\n",
       "1.0    124\n",
       "Name: Seat comfort, dtype: int64"
      ]
     },
     "execution_count": 200,
     "metadata": {},
     "output_type": "execute_result"
    }
   ],
   "source": [
    "# Replace nulls with mode\n",
    "df2['Seat comfort'].value_counts()"
   ]
  },
  {
   "cell_type": "code",
   "execution_count": 201,
   "metadata": {},
   "outputs": [],
   "source": [
    "df2['Seat comfort'].fillna(4.0, inplace=True)"
   ]
  },
  {
   "cell_type": "code",
   "execution_count": 202,
   "metadata": {},
   "outputs": [
    {
     "data": {
      "text/plain": [
       "4.0    290\n",
       "5.0    259\n",
       "3.0    180\n",
       "2.0    147\n",
       "1.0    124\n",
       "Name: Seat comfort, dtype: int64"
      ]
     },
     "execution_count": 202,
     "metadata": {},
     "output_type": "execute_result"
    }
   ],
   "source": [
    "df2['Seat comfort'].value_counts()"
   ]
  },
  {
   "cell_type": "code",
   "execution_count": 203,
   "metadata": {},
   "outputs": [
    {
     "data": {
      "text/plain": [
       "0"
      ]
     },
     "execution_count": 203,
     "metadata": {},
     "output_type": "execute_result"
    }
   ],
   "source": [
    "# Check missing values\n",
    "df2['Seat comfort'].isna().sum()"
   ]
  },
  {
   "cell_type": "markdown",
   "metadata": {},
   "source": [
    "No further transformations are needed for this column"
   ]
  },
  {
   "cell_type": "markdown",
   "metadata": {},
   "source": [
    "##### Feature: Inflight entertainment"
   ]
  },
  {
   "cell_type": "code",
   "execution_count": 204,
   "metadata": {},
   "outputs": [
    {
     "data": {
      "text/plain": [
       "4.0    260\n",
       "5.0    260\n",
       "3.0    198\n",
       "2.0    172\n",
       "1.0    107\n",
       "Name: Inflight entertainment, dtype: int64"
      ]
     },
     "execution_count": 204,
     "metadata": {},
     "output_type": "execute_result"
    }
   ],
   "source": [
    "# Replace NAs with mode\n",
    "df2['Inflight entertainment'].value_counts()"
   ]
  },
  {
   "cell_type": "code",
   "execution_count": 205,
   "metadata": {},
   "outputs": [],
   "source": [
    "df2['Inflight entertainment'].fillna(4.0, inplace=True)"
   ]
  },
  {
   "cell_type": "code",
   "execution_count": 206,
   "metadata": {},
   "outputs": [
    {
     "data": {
      "text/plain": [
       "4.0    263\n",
       "5.0    260\n",
       "3.0    198\n",
       "2.0    172\n",
       "1.0    107\n",
       "Name: Inflight entertainment, dtype: int64"
      ]
     },
     "execution_count": 206,
     "metadata": {},
     "output_type": "execute_result"
    }
   ],
   "source": [
    "df2['Inflight entertainment'].value_counts()"
   ]
  },
  {
   "cell_type": "code",
   "execution_count": 207,
   "metadata": {},
   "outputs": [
    {
     "data": {
      "text/plain": [
       "0"
      ]
     },
     "execution_count": 207,
     "metadata": {},
     "output_type": "execute_result"
    }
   ],
   "source": [
    "# Check for nulls\n",
    "df2['Inflight entertainment'].isna().sum()"
   ]
  },
  {
   "cell_type": "markdown",
   "metadata": {},
   "source": [
    "No further transformations are needed for this column"
   ]
  },
  {
   "cell_type": "markdown",
   "metadata": {},
   "source": [
    "##### Feature: On-board Service"
   ]
  },
  {
   "cell_type": "code",
   "execution_count": 208,
   "metadata": {},
   "outputs": [
    {
     "data": {
      "text/plain": [
       "4.0    296\n",
       "5.0    243\n",
       "3.0    207\n",
       "2.0    134\n",
       "1.0    117\n",
       "Name: On-board service, dtype: int64"
      ]
     },
     "execution_count": 208,
     "metadata": {},
     "output_type": "execute_result"
    }
   ],
   "source": [
    "# Replace null values with mode\n",
    "df2['On-board service'].value_counts()"
   ]
  },
  {
   "cell_type": "code",
   "execution_count": 209,
   "metadata": {},
   "outputs": [],
   "source": [
    "df2['On-board service'].fillna(4.0, inplace=True)"
   ]
  },
  {
   "cell_type": "code",
   "execution_count": 210,
   "metadata": {},
   "outputs": [
    {
     "data": {
      "text/plain": [
       "4.0    299\n",
       "5.0    243\n",
       "3.0    207\n",
       "2.0    134\n",
       "1.0    117\n",
       "Name: On-board service, dtype: int64"
      ]
     },
     "execution_count": 210,
     "metadata": {},
     "output_type": "execute_result"
    }
   ],
   "source": [
    "df2['On-board service'].value_counts()"
   ]
  },
  {
   "cell_type": "code",
   "execution_count": 211,
   "metadata": {},
   "outputs": [
    {
     "data": {
      "text/plain": [
       "0"
      ]
     },
     "execution_count": 211,
     "metadata": {},
     "output_type": "execute_result"
    }
   ],
   "source": [
    "# Check missing\n",
    "df2['On-board service'].isna().sum()"
   ]
  },
  {
   "cell_type": "markdown",
   "metadata": {},
   "source": [
    "No further transformations are needed for this column"
   ]
  },
  {
   "cell_type": "markdown",
   "metadata": {},
   "source": [
    "#### Feature: Leg Room Service"
   ]
  },
  {
   "cell_type": "code",
   "execution_count": 212,
   "metadata": {},
   "outputs": [
    {
     "data": {
      "text/plain": [
       "4.0    293\n",
       "5.0    245\n",
       "3.0    195\n",
       "2.0    169\n",
       "1.0     91\n",
       "0.0      4\n",
       "Name: Leg room service, dtype: int64"
      ]
     },
     "execution_count": 212,
     "metadata": {},
     "output_type": "execute_result"
    }
   ],
   "source": [
    "# Replace NAs with mode\n",
    "df2['Leg room service'].value_counts()"
   ]
  },
  {
   "cell_type": "code",
   "execution_count": 213,
   "metadata": {},
   "outputs": [],
   "source": [
    "df2['Leg room service'].fillna(4.0, inplace=True)"
   ]
  },
  {
   "cell_type": "code",
   "execution_count": 214,
   "metadata": {},
   "outputs": [
    {
     "data": {
      "text/plain": [
       "4.0    296\n",
       "5.0    245\n",
       "3.0    195\n",
       "2.0    169\n",
       "1.0     91\n",
       "0.0      4\n",
       "Name: Leg room service, dtype: int64"
      ]
     },
     "execution_count": 214,
     "metadata": {},
     "output_type": "execute_result"
    }
   ],
   "source": [
    "df2['Leg room service'].value_counts()"
   ]
  },
  {
   "cell_type": "code",
   "execution_count": 93,
   "metadata": {},
   "outputs": [
    {
     "data": {
      "text/plain": [
       "0"
      ]
     },
     "execution_count": 93,
     "metadata": {},
     "output_type": "execute_result"
    }
   ],
   "source": [
    "# Check missing\n",
    "df2['Leg room service'].isna().sum()"
   ]
  },
  {
   "cell_type": "markdown",
   "metadata": {},
   "source": [
    "No further transformations are needed for this column"
   ]
  },
  {
   "cell_type": "markdown",
   "metadata": {},
   "source": [
    "##### Feature: Baggage handling"
   ]
  },
  {
   "cell_type": "code",
   "execution_count": 215,
   "metadata": {},
   "outputs": [
    {
     "data": {
      "text/plain": [
       "4.0    369\n",
       "5.0    273\n",
       "3.0    189\n",
       "2.0    105\n",
       "1.0     61\n",
       "Name: Baggage handling, dtype: int64"
      ]
     },
     "execution_count": 215,
     "metadata": {},
     "output_type": "execute_result"
    }
   ],
   "source": [
    "# Replace null values with mode\n",
    "df2['Baggage handling'].value_counts()"
   ]
  },
  {
   "cell_type": "code",
   "execution_count": 216,
   "metadata": {},
   "outputs": [],
   "source": [
    "df2['Baggage handling'].fillna(4.0, inplace=True)"
   ]
  },
  {
   "cell_type": "code",
   "execution_count": 217,
   "metadata": {},
   "outputs": [
    {
     "data": {
      "text/plain": [
       "4.0    372\n",
       "5.0    273\n",
       "3.0    189\n",
       "2.0    105\n",
       "1.0     61\n",
       "Name: Baggage handling, dtype: int64"
      ]
     },
     "execution_count": 217,
     "metadata": {},
     "output_type": "execute_result"
    }
   ],
   "source": [
    "df2['Baggage handling'].value_counts()"
   ]
  },
  {
   "cell_type": "code",
   "execution_count": 97,
   "metadata": {},
   "outputs": [
    {
     "data": {
      "text/plain": [
       "0"
      ]
     },
     "execution_count": 97,
     "metadata": {},
     "output_type": "execute_result"
    }
   ],
   "source": [
    "# Check for nulls\n",
    "df2['Baggage handling'].isna().sum()"
   ]
  },
  {
   "cell_type": "markdown",
   "metadata": {},
   "source": [
    "No further transformations are needed for this column"
   ]
  },
  {
   "cell_type": "markdown",
   "metadata": {},
   "source": [
    "#### Feature: Checkin Service"
   ]
  },
  {
   "cell_type": "code",
   "execution_count": 218,
   "metadata": {},
   "outputs": [
    {
     "data": {
      "text/plain": [
       "3.0    263\n",
       "4.0    259\n",
       "5.0    213\n",
       "1.0    134\n",
       "2.0    128\n",
       "Name: Checkin service, dtype: int64"
      ]
     },
     "execution_count": 218,
     "metadata": {},
     "output_type": "execute_result"
    }
   ],
   "source": [
    "# Replace nulls with mode\n",
    "df2['Checkin service'].value_counts()"
   ]
  },
  {
   "cell_type": "code",
   "execution_count": 219,
   "metadata": {},
   "outputs": [],
   "source": [
    "df2['Checkin service'].fillna(3.0, inplace=True)"
   ]
  },
  {
   "cell_type": "code",
   "execution_count": 220,
   "metadata": {},
   "outputs": [
    {
     "data": {
      "text/plain": [
       "3.0    266\n",
       "4.0    259\n",
       "5.0    213\n",
       "1.0    134\n",
       "2.0    128\n",
       "Name: Checkin service, dtype: int64"
      ]
     },
     "execution_count": 220,
     "metadata": {},
     "output_type": "execute_result"
    }
   ],
   "source": [
    "df2['Checkin service'].value_counts()"
   ]
  },
  {
   "cell_type": "code",
   "execution_count": 101,
   "metadata": {},
   "outputs": [
    {
     "data": {
      "text/plain": [
       "0"
      ]
     },
     "execution_count": 101,
     "metadata": {},
     "output_type": "execute_result"
    }
   ],
   "source": [
    "# Check missing\n",
    "df2['Checkin service'].isna().sum()"
   ]
  },
  {
   "cell_type": "markdown",
   "metadata": {},
   "source": [
    "No further transformations are needed for this column"
   ]
  },
  {
   "cell_type": "markdown",
   "metadata": {},
   "source": [
    "##### Feature: Inflight service"
   ]
  },
  {
   "cell_type": "code",
   "execution_count": 221,
   "metadata": {},
   "outputs": [
    {
     "data": {
      "text/plain": [
       "4.0    363\n",
       "5.0    272\n",
       "3.0    186\n",
       "2.0    115\n",
       "1.0     61\n",
       "Name: Inflight service, dtype: int64"
      ]
     },
     "execution_count": 221,
     "metadata": {},
     "output_type": "execute_result"
    }
   ],
   "source": [
    "# Replace nulls with mode\n",
    "df2['Inflight service'].value_counts()"
   ]
  },
  {
   "cell_type": "code",
   "execution_count": 222,
   "metadata": {},
   "outputs": [],
   "source": [
    "df2['Inflight service'].fillna(4.0, inplace=True)"
   ]
  },
  {
   "cell_type": "code",
   "execution_count": 223,
   "metadata": {},
   "outputs": [
    {
     "data": {
      "text/plain": [
       "4.0    366\n",
       "5.0    272\n",
       "3.0    186\n",
       "2.0    115\n",
       "1.0     61\n",
       "Name: Inflight service, dtype: int64"
      ]
     },
     "execution_count": 223,
     "metadata": {},
     "output_type": "execute_result"
    }
   ],
   "source": [
    "df2['Inflight service'].value_counts()"
   ]
  },
  {
   "cell_type": "code",
   "execution_count": 104,
   "metadata": {},
   "outputs": [
    {
     "data": {
      "text/plain": [
       "0"
      ]
     },
     "execution_count": 104,
     "metadata": {},
     "output_type": "execute_result"
    }
   ],
   "source": [
    "# Check missing\n",
    "df2['Inflight service'].isna().sum()"
   ]
  },
  {
   "cell_type": "markdown",
   "metadata": {},
   "source": [
    "No further transformations are needed for this column"
   ]
  },
  {
   "cell_type": "markdown",
   "metadata": {},
   "source": [
    "#### Feature: Cleanliness"
   ]
  },
  {
   "cell_type": "code",
   "execution_count": 224,
   "metadata": {},
   "outputs": [
    {
     "data": {
      "text/plain": [
       "3.0    256\n",
       "4.0    252\n",
       "5.0    218\n",
       "2.0    149\n",
       "1.0    122\n",
       "Name: Cleanliness, dtype: int64"
      ]
     },
     "execution_count": 224,
     "metadata": {},
     "output_type": "execute_result"
    }
   ],
   "source": [
    "# Replace nulls with mode\n",
    "df2['Cleanliness'].value_counts()"
   ]
  },
  {
   "cell_type": "code",
   "execution_count": 225,
   "metadata": {},
   "outputs": [],
   "source": [
    "df2['Cleanliness'].fillna(3.0, inplace=True)"
   ]
  },
  {
   "cell_type": "code",
   "execution_count": 226,
   "metadata": {},
   "outputs": [
    {
     "data": {
      "text/plain": [
       "3.0    259\n",
       "4.0    252\n",
       "5.0    218\n",
       "2.0    149\n",
       "1.0    122\n",
       "Name: Cleanliness, dtype: int64"
      ]
     },
     "execution_count": 226,
     "metadata": {},
     "output_type": "execute_result"
    }
   ],
   "source": [
    "df2['Cleanliness'].value_counts()"
   ]
  },
  {
   "cell_type": "code",
   "execution_count": 227,
   "metadata": {},
   "outputs": [
    {
     "data": {
      "text/plain": [
       "0"
      ]
     },
     "execution_count": 227,
     "metadata": {},
     "output_type": "execute_result"
    }
   ],
   "source": [
    "# Check missing\n",
    "df2['Cleanliness'].isna().sum()"
   ]
  },
  {
   "cell_type": "markdown",
   "metadata": {},
   "source": [
    "No further transformations are needed for this column"
   ]
  },
  {
   "cell_type": "markdown",
   "metadata": {},
   "source": [
    "#### Continuous Variables"
   ]
  },
  {
   "cell_type": "markdown",
   "metadata": {},
   "source": [
    "#### Feature: Flight Distance"
   ]
  },
  {
   "cell_type": "code",
   "execution_count": 228,
   "metadata": {},
   "outputs": [
    {
     "data": {
      "text/plain": [
       "count     997.000000\n",
       "mean     1270.513541\n",
       "std      1046.302927\n",
       "min        67.000000\n",
       "25%       442.000000\n",
       "50%       903.000000\n",
       "75%      1921.000000\n",
       "max      4963.000000\n",
       "Name: Flight Distance, dtype: float64"
      ]
     },
     "execution_count": 228,
     "metadata": {},
     "output_type": "execute_result"
    }
   ],
   "source": [
    "# Replace Flight distance missing values with the mean of the column\n",
    "df2['Flight Distance'].describe()"
   ]
  },
  {
   "cell_type": "code",
   "execution_count": 229,
   "metadata": {},
   "outputs": [],
   "source": [
    "dist_mean = df2['Flight Distance'].mean()"
   ]
  },
  {
   "cell_type": "code",
   "execution_count": 230,
   "metadata": {},
   "outputs": [],
   "source": [
    "df2['Flight Distance'].fillna(dist_mean, inplace=True)"
   ]
  },
  {
   "cell_type": "code",
   "execution_count": 231,
   "metadata": {},
   "outputs": [
    {
     "data": {
      "text/plain": [
       "0"
      ]
     },
     "execution_count": 231,
     "metadata": {},
     "output_type": "execute_result"
    }
   ],
   "source": [
    "# Check missing\n",
    "df2['Flight Distance'].isna().sum()"
   ]
  },
  {
   "cell_type": "code",
   "execution_count": 232,
   "metadata": {},
   "outputs": [
    {
     "data": {
      "text/plain": [
       "count    1000.000000\n",
       "mean     1270.513541\n",
       "std      1044.730720\n",
       "min        67.000000\n",
       "25%       444.250000\n",
       "50%       907.000000\n",
       "75%      1921.000000\n",
       "max      4963.000000\n",
       "Name: Flight Distance, dtype: float64"
      ]
     },
     "execution_count": 232,
     "metadata": {},
     "output_type": "execute_result"
    }
   ],
   "source": [
    "df2['Flight Distance'].describe()"
   ]
  },
  {
   "cell_type": "markdown",
   "metadata": {},
   "source": [
    "Replaciing the missing values with the mean did not change the mean of the column.\n",
    "\n",
    "No further transformations are needed for this column"
   ]
  },
  {
   "cell_type": "markdown",
   "metadata": {},
   "source": [
    "#### Feature: Age"
   ]
  },
  {
   "cell_type": "code",
   "execution_count": 233,
   "metadata": {},
   "outputs": [
    {
     "data": {
      "text/plain": [
       "count    997.000000\n",
       "mean      39.754263\n",
       "std       14.847985\n",
       "min        7.000000\n",
       "25%       27.000000\n",
       "50%       40.000000\n",
       "75%       52.000000\n",
       "max       76.000000\n",
       "Name: Age, dtype: float64"
      ]
     },
     "execution_count": 233,
     "metadata": {},
     "output_type": "execute_result"
    }
   ],
   "source": [
    "# Replace Age nulls with mean of the column\n",
    "df2['Age'].describe()"
   ]
  },
  {
   "cell_type": "code",
   "execution_count": 234,
   "metadata": {},
   "outputs": [],
   "source": [
    "age_mean = df2['Age'].mean()"
   ]
  },
  {
   "cell_type": "code",
   "execution_count": 235,
   "metadata": {},
   "outputs": [],
   "source": [
    "df2['Age'].fillna(age_mean, inplace=True)"
   ]
  },
  {
   "cell_type": "code",
   "execution_count": 236,
   "metadata": {},
   "outputs": [
    {
     "data": {
      "text/plain": [
       "0"
      ]
     },
     "execution_count": 236,
     "metadata": {},
     "output_type": "execute_result"
    }
   ],
   "source": [
    "# Check missing\n",
    "df2['Age'].isna().sum()"
   ]
  },
  {
   "cell_type": "code",
   "execution_count": 237,
   "metadata": {},
   "outputs": [
    {
     "data": {
      "text/plain": [
       "count    1000.000000\n",
       "mean       39.754263\n",
       "std        14.825674\n",
       "min         7.000000\n",
       "25%        27.000000\n",
       "50%        40.000000\n",
       "75%        52.000000\n",
       "max        76.000000\n",
       "Name: Age, dtype: float64"
      ]
     },
     "execution_count": 237,
     "metadata": {},
     "output_type": "execute_result"
    }
   ],
   "source": [
    "df2['Age'].describe()"
   ]
  },
  {
   "cell_type": "markdown",
   "metadata": {},
   "source": [
    "No further transformations are needed for this column"
   ]
  },
  {
   "cell_type": "markdown",
   "metadata": {},
   "source": [
    "#### Feature: Departure Delay in Minutes"
   ]
  },
  {
   "cell_type": "code",
   "execution_count": 238,
   "metadata": {},
   "outputs": [
    {
     "data": {
      "text/plain": [
       "count    997.000000\n",
       "mean      16.254764\n",
       "std       39.482614\n",
       "min        0.000000\n",
       "25%        0.000000\n",
       "50%        0.000000\n",
       "75%       16.000000\n",
       "max      407.000000\n",
       "Name: Departure Delay in Minutes, dtype: float64"
      ]
     },
     "execution_count": 238,
     "metadata": {},
     "output_type": "execute_result"
    }
   ],
   "source": [
    "# Replace Departure Delay in Minutes null values with the mean of the column\n",
    "df2['Departure Delay in Minutes'].describe()"
   ]
  },
  {
   "cell_type": "code",
   "execution_count": 239,
   "metadata": {},
   "outputs": [],
   "source": [
    "departdelay_mean = df2['Departure Delay in Minutes'].mean()"
   ]
  },
  {
   "cell_type": "code",
   "execution_count": 240,
   "metadata": {},
   "outputs": [],
   "source": [
    "df2['Departure Delay in Minutes'].fillna(departdelay_mean, inplace=True)"
   ]
  },
  {
   "cell_type": "code",
   "execution_count": 241,
   "metadata": {},
   "outputs": [
    {
     "data": {
      "text/plain": [
       "0"
      ]
     },
     "execution_count": 241,
     "metadata": {},
     "output_type": "execute_result"
    }
   ],
   "source": [
    "# Check nulls\n",
    "df2['Departure Delay in Minutes'].isna().sum()"
   ]
  },
  {
   "cell_type": "code",
   "execution_count": 242,
   "metadata": {},
   "outputs": [
    {
     "data": {
      "text/plain": [
       "count    1000.000000\n",
       "mean       16.254764\n",
       "std        39.423286\n",
       "min         0.000000\n",
       "25%         0.000000\n",
       "50%         0.000000\n",
       "75%        16.000000\n",
       "max       407.000000\n",
       "Name: Departure Delay in Minutes, dtype: float64"
      ]
     },
     "execution_count": 242,
     "metadata": {},
     "output_type": "execute_result"
    }
   ],
   "source": [
    "df2['Departure Delay in Minutes'].describe()"
   ]
  },
  {
   "cell_type": "markdown",
   "metadata": {},
   "source": [
    "Replacing the nulls with the mean of the column does not change the mean of the column."
   ]
  },
  {
   "cell_type": "markdown",
   "metadata": {},
   "source": [
    "#### Feature: Arrival Delay in Minutes"
   ]
  },
  {
   "cell_type": "code",
   "execution_count": 243,
   "metadata": {},
   "outputs": [
    {
     "data": {
      "text/plain": [
       "count    994.000000\n",
       "mean      16.153924\n",
       "std       40.064418\n",
       "min        0.000000\n",
       "25%        0.000000\n",
       "50%        0.000000\n",
       "75%       14.000000\n",
       "max      409.000000\n",
       "Name: Arrival Delay in Minutes, dtype: float64"
      ]
     },
     "execution_count": 243,
     "metadata": {},
     "output_type": "execute_result"
    }
   ],
   "source": [
    "# Replace Arrival Delay in Minutes null values with the mean of the column\n",
    "df2['Arrival Delay in Minutes'].describe()"
   ]
  },
  {
   "cell_type": "code",
   "execution_count": 244,
   "metadata": {},
   "outputs": [],
   "source": [
    "arrivedelay_mean = df2['Arrival Delay in Minutes'].mean()"
   ]
  },
  {
   "cell_type": "code",
   "execution_count": 245,
   "metadata": {},
   "outputs": [],
   "source": [
    "df2['Arrival Delay in Minutes'].fillna(arrivedelay_mean, inplace=True)"
   ]
  },
  {
   "cell_type": "code",
   "execution_count": 246,
   "metadata": {},
   "outputs": [
    {
     "data": {
      "text/plain": [
       "count    1000.000000\n",
       "mean       16.153924\n",
       "std        39.943923\n",
       "min         0.000000\n",
       "25%         0.000000\n",
       "50%         0.000000\n",
       "75%        15.000000\n",
       "max       409.000000\n",
       "Name: Arrival Delay in Minutes, dtype: float64"
      ]
     },
     "execution_count": 246,
     "metadata": {},
     "output_type": "execute_result"
    }
   ],
   "source": [
    "df2['Arrival Delay in Minutes'].describe()"
   ]
  },
  {
   "cell_type": "markdown",
   "metadata": {},
   "source": [
    "##### Feature: Satisfaction\n",
    "We will not recode the satisfaction column"
   ]
  },
  {
   "cell_type": "code",
   "execution_count": 247,
   "metadata": {},
   "outputs": [
    {
     "data": {
      "text/plain": [
       "neutral or dissatisfied    540\n",
       "satisfied                  460\n",
       "Name: satisfaction, dtype: int64"
      ]
     },
     "execution_count": 247,
     "metadata": {},
     "output_type": "execute_result"
    }
   ],
   "source": [
    "df2['satisfaction'].value_counts()"
   ]
  },
  {
   "cell_type": "code",
   "execution_count": 248,
   "metadata": {},
   "outputs": [],
   "source": [
    "df2['satisfaction'] = np.where(df2['satisfaction'] == 'neutral or dissatisfied', 1, 0)"
   ]
  },
  {
   "cell_type": "markdown",
   "metadata": {},
   "source": [
    "Similar to Departure Delay in Minutes, replacing the null values in the Arrival Delay column keeps the mean the same as before replacing the missing values. "
   ]
  },
  {
   "cell_type": "markdown",
   "metadata": {},
   "source": [
    "Now, we check if there are any missing values in the dataset that might have been missed."
   ]
  },
  {
   "cell_type": "code",
   "execution_count": 132,
   "metadata": {
    "scrolled": true
   },
   "outputs": [
    {
     "data": {
      "text/plain": [
       "Gender                               0\n",
       "Customer Type                        0\n",
       "Age                                  0\n",
       "Type of Travel                       0\n",
       "Flight Distance                      0\n",
       "Inflight wifi service                0\n",
       "Departure/Arrival time convenient    0\n",
       "Ease of Online booking               0\n",
       "Gate location                        0\n",
       "Food and drink                       0\n",
       "Online boarding                      0\n",
       "Seat comfort                         0\n",
       "Inflight entertainment               0\n",
       "On-board service                     0\n",
       "Leg room service                     0\n",
       "Baggage handling                     0\n",
       "Checkin service                      0\n",
       "Inflight service                     0\n",
       "Cleanliness                          0\n",
       "Departure Delay in Minutes           0\n",
       "Arrival Delay in Minutes             0\n",
       "satisfaction                         0\n",
       "Class_Business                       0\n",
       "Class_Eco                            0\n",
       "Class_Eco Plus                       0\n",
       "dtype: int64"
      ]
     },
     "execution_count": 132,
     "metadata": {},
     "output_type": "execute_result"
    }
   ],
   "source": [
    "df2.isna().sum()"
   ]
  },
  {
   "cell_type": "markdown",
   "metadata": {},
   "source": [
    "Here we will drop the unnamed columns and id column because they do not provide information that will help to classify satisfaction"
   ]
  },
  {
   "cell_type": "code",
   "execution_count": 133,
   "metadata": {},
   "outputs": [
    {
     "name": "stdout",
     "output_type": "stream",
     "text": [
      "Gender\n",
      "Customer Type\n",
      "Age\n",
      "Type of Travel\n",
      "Flight Distance\n",
      "Inflight wifi service\n",
      "Departure/Arrival time convenient\n",
      "Ease of Online booking\n",
      "Gate location\n",
      "Food and drink\n",
      "Online boarding\n",
      "Seat comfort\n",
      "Inflight entertainment\n",
      "On-board service\n",
      "Leg room service\n",
      "Baggage handling\n",
      "Checkin service\n",
      "Inflight service\n",
      "Cleanliness\n",
      "Departure Delay in Minutes\n",
      "Arrival Delay in Minutes\n",
      "satisfaction\n",
      "Class_Business\n",
      "Class_Eco\n",
      "Class_Eco Plus\n"
     ]
    }
   ],
   "source": [
    "for x in df2.columns:\n",
    "    print(x)"
   ]
  },
  {
   "cell_type": "markdown",
   "metadata": {},
   "source": [
    "## Modeling\n",
    "In this part, we begin to model the data using different methods: \n",
    "* KNN classification\n",
    "* Logistic Regression\n",
    "* Linear Support Vector Machine\n",
    "* Kernelized Support Vectore Machine\n",
    "* Decision Tree Classifier\n",
    "\n",
    "We first run the model with its default parameters and plot results where possible. Based on the results, we will then do pre-processing and post-processing where possible to improve the results of the model. "
   ]
  },
  {
   "cell_type": "markdown",
   "metadata": {},
   "source": [
    "Before any modeling is done, we will separate the independent variables from the dependent variables and also split the dataset into training and test datasets."
   ]
  },
  {
   "cell_type": "code",
   "execution_count": 250,
   "metadata": {},
   "outputs": [],
   "source": [
    "# Separate X and y variables\n",
    "X = df2.drop(['satisfaction'], axis=1)\n",
    "y = df2['satisfaction']"
   ]
  },
  {
   "cell_type": "code",
   "execution_count": 251,
   "metadata": {},
   "outputs": [],
   "source": [
    "# Split into train and test datasets using random_state to get the same results each time the code is run\n",
    "X_train_orig, X_test_orig, y_train, y_test = train_test_split(X, y, random_state = 0)"
   ]
  },
  {
   "cell_type": "markdown",
   "metadata": {},
   "source": [
    "We also need to choose how we are going to scale the data because different columns have different ranges.\n",
    "We do not want any skewness or imbalance. We chose to use the minmaxscaler in order to apply minimal scaling because most of the variables are scores in the 0-5 range."
   ]
  },
  {
   "cell_type": "code",
   "execution_count": 252,
   "metadata": {},
   "outputs": [],
   "source": [
    "scaler = MinMaxScaler()\n",
    "X_train = scaler.fit_transform(X_train_orig)\n",
    "X_test = scaler.transform(X_test_orig)"
   ]
  },
  {
   "cell_type": "markdown",
   "metadata": {},
   "source": [
    "### KNN Classification"
   ]
  },
  {
   "cell_type": "markdown",
   "metadata": {},
   "source": [
    "We first instantiate the KNN model"
   ]
  },
  {
   "cell_type": "code",
   "execution_count": 253,
   "metadata": {},
   "outputs": [],
   "source": [
    "knn = KNeighborsClassifier()"
   ]
  },
  {
   "cell_type": "markdown",
   "metadata": {},
   "source": [
    "We used GridSearchCV from to run the KNN model with different k numbers 1-20 to see the best parameters that will give the best validation accuracy score. We use cv=3 because the dataset is quite large and n_jobs to run parallel jobs"
   ]
  },
  {
   "cell_type": "code",
   "execution_count": 254,
   "metadata": {},
   "outputs": [],
   "source": [
    "k_range = list(range(1,30))\n",
    "param_grid = dict(n_neighbors=k_range)\n",
    "\n",
    "gs_knn = GridSearchCV(knn, param_grid, cv=5, return_train_score=True, n_jobs=-1)"
   ]
  },
  {
   "cell_type": "code",
   "execution_count": 255,
   "metadata": {},
   "outputs": [
    {
     "name": "stdout",
     "output_type": "stream",
     "text": [
      "Best score: 0.86\n",
      "Best parameters: {'n_neighbors': 9}\n"
     ]
    }
   ],
   "source": [
    "# Fit data with model and print best score and parameters\n",
    "gs_knn.fit(X_train, y_train)\n",
    "print(\"Best score: {}\".format(gs_knn.best_score_))\n",
    "print(\"Best parameters: {}\".format(gs_knn.best_params_))"
   ]
  },
  {
   "cell_type": "markdown",
   "metadata": {},
   "source": [
    "The best hyperparamters for K-nearest neighbors that maximizes the precision score is when n_neighbors = 9."
   ]
  },
  {
   "cell_type": "code",
   "execution_count": 256,
   "metadata": {},
   "outputs": [],
   "source": [
    "train_score_array = []\n",
    "test_score_array = []\n",
    "\n",
    "for k in range(1,30):\n",
    "    knn = KNeighborsClassifier(k)\n",
    "    knn.fit(X_train, y_train)\n",
    "    train_score_array.append(knn.score(X_train, y_train))\n",
    "    test_score_array.append(knn.score(X_test, y_test))"
   ]
  },
  {
   "cell_type": "code",
   "execution_count": 257,
   "metadata": {},
   "outputs": [
    {
     "data": {
      "text/plain": [
       "<matplotlib.legend.Legend at 0x12acf99d0>"
      ]
     },
     "execution_count": 257,
     "metadata": {},
     "output_type": "execute_result"
    },
    {
     "data": {
      "image/png": "[encoded data removed]",
      "text/plain": [
       "<Figure size 2160x360 with 1 Axes>"
      ]
     },
     "metadata": {
      "needs_background": "light"
     },
     "output_type": "display_data"
    }
   ],
   "source": [
    "x_axis = range(1,30)\n",
    "%matplotlib inline\n",
    "\n",
    "plt.subplots(figsize = (30,5))\n",
    "plt.plot(x_axis, train_score_array, label = 'Train Score', c = 'g')\n",
    "plt.plot(x_axis, test_score_array, label = 'Test Score', c='b')\n",
    "plt.xlabel('n_neighbors')\n",
    "plt.ylabel('Accuracy')\n",
    "plt.xticks(x_axis, np.arange(29)+1)\n",
    "plt.grid()\n",
    "plt.legend()"
   ]
  },
  {
   "cell_type": "markdown",
   "metadata": {},
   "source": [
    "At 9 nearest neighbors, the gap between the precision score of training and test scores is minimalized while also maximizing the test precision scores. The graph above looks at the accuracy of the model. Because of the tradeoffs of optimizing based on the precision score, accuracy does drop but the percentage of accuracte predictions for dissatisfied customers is maximized."
   ]
  },
  {
   "cell_type": "markdown",
   "metadata": {},
   "source": [
    "We now look at the recall and precision scores after training the model with the best hyperparameters to see how the model performs with these metrics."
   ]
  },
  {
   "cell_type": "code",
   "execution_count": 488,
   "metadata": {},
   "outputs": [],
   "source": [
    "knn = KNeighborsClassifier(9)\n",
    "knn_fit = knn.fit(X_train, y_train)\n",
    "knn_pred = knn_fit.predict(X_test)"
   ]
  },
  {
   "cell_type": "code",
   "execution_count": 489,
   "metadata": {},
   "outputs": [
    {
     "ename": "ModuleNotFoundError",
     "evalue": "No module named 'mlxtend'",
     "output_type": "error",
     "traceback": [
      "\u001b[0;31m---------------------------------------------------------------------------\u001b[0m",
      "\u001b[0;31mModuleNotFoundError\u001b[0m                       Traceback (most recent call last)",
      "\u001b[0;32m<ipython-input-489-756382655d25>\u001b[0m in \u001b[0;36m<module>\u001b[0;34m\u001b[0m\n\u001b[1;32m      1\u001b[0m \u001b[0mget_ipython\u001b[0m\u001b[0;34m(\u001b[0m\u001b[0;34m)\u001b[0m\u001b[0;34m.\u001b[0m\u001b[0mrun_line_magic\u001b[0m\u001b[0;34m(\u001b[0m\u001b[0;34m'matplotlib'\u001b[0m\u001b[0;34m,\u001b[0m \u001b[0;34m'inline'\u001b[0m\u001b[0;34m)\u001b[0m\u001b[0;34m\u001b[0m\u001b[0;34m\u001b[0m\u001b[0m\n\u001b[1;32m      2\u001b[0m \u001b[0;34m\u001b[0m\u001b[0m\n\u001b[0;32m----> 3\u001b[0;31m \u001b[0;32mfrom\u001b[0m \u001b[0mmlxtend\u001b[0m\u001b[0;34m.\u001b[0m\u001b[0mplotting\u001b[0m \u001b[0;32mimport\u001b[0m \u001b[0mplot_decision_regions\u001b[0m\u001b[0;34m\u001b[0m\u001b[0;34m\u001b[0m\u001b[0m\n\u001b[0m\u001b[1;32m      4\u001b[0m \u001b[0;34m\u001b[0m\u001b[0m\n\u001b[1;32m      5\u001b[0m \u001b[0mX_b\u001b[0m \u001b[0;34m=\u001b[0m \u001b[0mX_train\u001b[0m\u001b[0;34m[\u001b[0m\u001b[0;34m:\u001b[0m\u001b[0;36m100\u001b[0m\u001b[0;34m,\u001b[0m\u001b[0;34m[\u001b[0m\u001b[0;36m5\u001b[0m\u001b[0;34m,\u001b[0m\u001b[0;36m7\u001b[0m\u001b[0;34m]\u001b[0m\u001b[0;34m]\u001b[0m\u001b[0;34m\u001b[0m\u001b[0;34m\u001b[0m\u001b[0m\n",
      "\u001b[0;31mModuleNotFoundError\u001b[0m: No module named 'mlxtend'"
     ]
    }
   ],
   "source": [
    "%matplotlib inline\n",
    "\n",
    "from mlxtend.plotting import plot_decision_regions\n",
    "\n",
    "X_b = X_train[:,[5,7]]\n",
    "y_b = y_train[:]\n",
    "y_b = y_b.to_numpy()\n",
    "\n",
    "knn_b = knn.fit(X_b, y_b)\n",
    "\n",
    "fig = plt.figure(figsize=(10, 10))\n",
    "plt.xlim(0, 1)\n",
    "plt.ylim(0,0.8)\n",
    "\n",
    "plot_decision_regions(X_b, y_b, clf = knn_b, zoom_factor = 5)\n",
    "plt.xlabel('Online Boarding')\n",
    "plt.ylabel('Inflight Wifi')"
   ]
  },
  {
   "cell_type": "code",
   "execution_count": 269,
   "metadata": {},
   "outputs": [
    {
     "data": {
      "text/plain": [
       "array([[ 90,  33],\n",
       "       [  9, 118]])"
      ]
     },
     "execution_count": 269,
     "metadata": {},
     "output_type": "execute_result"
    }
   ],
   "source": [
    "confusion_matrix(y_test, knn_pred)"
   ]
  },
  {
   "cell_type": "code",
   "execution_count": 270,
   "metadata": {},
   "outputs": [
    {
     "name": "stdout",
     "output_type": "stream",
     "text": [
      "Recall score logistic regression: 0.9291338582677166\n",
      "Precision score logistic regression: 0.7814569536423841\n"
     ]
    }
   ],
   "source": [
    "print(\"Recall score logistic regression: {}\".format(recall_score(y_test, knn_pred)))\n",
    "print(\"Precision score logistic regression: {}\".format(precision_score(y_test, knn_pred)))"
   ]
  },
  {
   "cell_type": "markdown",
   "metadata": {},
   "source": [
    "Recall and Precision score are not bad. Recall score shows that model correctly predicts 93% of true positives. Precision score reveals the model accuractly predicted 78% of the positive observations (neutral or dissatisfied). We want to maximize accurately predicting the positive observations when the customer is neutral or dissatisfied in order to better cater and service those individuals so that the airline can maximize customer satisfaction.\n",
    "\n",
    "We then changed our scoring function to precision to optimize the precision of the models."
   ]
  },
  {
   "cell_type": "code",
   "execution_count": 274,
   "metadata": {},
   "outputs": [
    {
     "name": "stdout",
     "output_type": "stream",
     "text": [
      "Best score: 0.8679105354223218\n",
      "Best parameters: {'n_neighbors': 2}\n"
     ]
    }
   ],
   "source": [
    "k_range = list(range(1,30))\n",
    "param_grid = dict(n_neighbors=k_range)\n",
    "\n",
    "gs_knn = GridSearchCV(knn, param_grid, cv=5, return_train_score=True, scoring='precision', n_jobs=-1)\n",
    "\n",
    "# Fit data with model and print best score and parameters\n",
    "gs_knn.fit(X_train, y_train)\n",
    "print(\"Best score: {}\".format(gs_knn.best_score_))\n",
    "print(\"Best parameters: {}\".format(gs_knn.best_params_))"
   ]
  },
  {
   "cell_type": "markdown",
   "metadata": {},
   "source": [
    "Our Grid Search reveals that 2 nearest neighbors optimizes the precision score of 87%.\n",
    "\n",
    "We now train our model based on this factor and look at the decision score."
   ]
  },
  {
   "cell_type": "code",
   "execution_count": 279,
   "metadata": {},
   "outputs": [],
   "source": [
    "knn2 = KNeighborsClassifier(2)\n",
    "knn2_fit = knn2.fit(X_train, y_train)\n",
    "knn2_pred = knn2_fit.predict(X_test)"
   ]
  },
  {
   "cell_type": "code",
   "execution_count": 280,
   "metadata": {},
   "outputs": [
    {
     "data": {
      "text/plain": [
       "array([[110,  13],\n",
       "       [ 21, 106]])"
      ]
     },
     "execution_count": 280,
     "metadata": {},
     "output_type": "execute_result"
    }
   ],
   "source": [
    "confusion_matrix(y_test, knn2_pred)"
   ]
  },
  {
   "cell_type": "code",
   "execution_count": 281,
   "metadata": {},
   "outputs": [
    {
     "name": "stdout",
     "output_type": "stream",
     "text": [
      "Recall score logistic regression: 0.8346456692913385\n",
      "Precision score logistic regression: 0.8907563025210085\n"
     ]
    }
   ],
   "source": [
    "print(\"Recall score logistic regression: {}\".format(recall_score(y_test, knn2_pred)))\n",
    "print(\"Precision score logistic regression: {}\".format(precision_score(y_test, knn2_pred)))"
   ]
  },
  {
   "cell_type": "markdown",
   "metadata": {},
   "source": [
    "Now the precision score is 89%. There is some tradeoff with the recall score, but both are pretty good. "
   ]
  },
  {
   "cell_type": "code",
   "execution_count": 516,
   "metadata": {},
   "outputs": [
    {
     "name": "stdout",
     "output_type": "stream",
     "text": [
      "                      precision    recall  f1-score   support\n",
      "\n",
      "           satisfied       0.84      0.89      0.87       123\n",
      "neutral/dissatisfied       0.89      0.83      0.86       127\n",
      "\n",
      "            accuracy                           0.86       250\n",
      "           macro avg       0.87      0.86      0.86       250\n",
      "        weighted avg       0.87      0.86      0.86       250\n",
      "\n"
     ]
    }
   ],
   "source": [
    "print(classification_report(y_test, knn2_pred , target_names=[\"satisfied\", \"neutral/dissatisfied\"]))"
   ]
  },
  {
   "cell_type": "markdown",
   "metadata": {},
   "source": [
    "### Logistic Regression\n",
    "\n",
    "Now we move onto logistic regression. For the logistic regression model, we will use the penalty of l2 and use a scoring of precision for the grid search model. "
   ]
  },
  {
   "cell_type": "code",
   "execution_count": 494,
   "metadata": {},
   "outputs": [],
   "source": [
    "# Using GridSearchCV to find best hyperparameters - using 3 folds because dataset is large\n",
    "lr = LogisticRegression(random_state=0)\n",
    "solvers = ['lbfgs', 'liblinear']\n",
    "penalty = ['l2']\n",
    "c_vals = [0.001, 0.01, 0.1, 1, 10, 100, 1000]\n",
    "\n",
    "param_gridlr = dict(solver=solvers, penalty=penalty, C=c_vals)\n",
    "\n",
    "grid_searchlr = GridSearchCV(lr, param_gridlr, cv=5, scoring='precision', n_jobs=-1)"
   ]
  },
  {
   "cell_type": "code",
   "execution_count": 495,
   "metadata": {},
   "outputs": [
    {
     "name": "stdout",
     "output_type": "stream",
     "text": [
      "Best score: 0.8635404825059998\n",
      "Best parameters: {'C': 1, 'penalty': 'l2', 'solver': 'liblinear'}\n"
     ]
    }
   ],
   "source": [
    "grid_searchlr.fit(X_train, y_train)\n",
    "\n",
    "# Print results\n",
    "print(\"Best score: {}\".format(grid_searchlr.best_score_))\n",
    "print(\"Best parameters: {}\".format(grid_searchlr.best_params_))"
   ]
  },
  {
   "cell_type": "markdown",
   "metadata": {},
   "source": [
    "We also plot the different iterations of the model to see how the accuracy of the model compares for each. "
   ]
  },
  {
   "cell_type": "code",
   "execution_count": 497,
   "metadata": {},
   "outputs": [],
   "source": [
    "from sklearn.linear_model import LogisticRegression\n",
    "\n",
    "c_range = [0.001, 0.01, 0.1, 1, 10, 100, 1000]\n",
    "train_score_l2 = []\n",
    "test_score_l2 = []\n",
    "\n",
    "for c in c_range:\n",
    "    log_l2 = LogisticRegression(penalty = 'l2', C = c, solver = 'liblinear', max_iter = 1000)\n",
    "    log_l2.fit(X_train, y_train)\n",
    "    train_score_l2.append(log_l2.score(X_train, y_train))\n",
    "    test_score_l2.append(log_l2.score(X_test, y_test))"
   ]
  },
  {
   "cell_type": "code",
   "execution_count": 499,
   "metadata": {},
   "outputs": [
    {
     "data": {
      "image/png": "[encoded data removed]",
      "text/plain": [
       "<Figure size 1440x360 with 1 Axes>"
      ]
     },
     "metadata": {
      "needs_background": "light"
     },
     "output_type": "display_data"
    }
   ],
   "source": [
    "import matplotlib.pyplot as plt\n",
    "%matplotlib inline\n",
    "\n",
    "plt.subplots(figsize = (20,5))\n",
    "plt.plot(c_range, train_score_l2, label = 'Train score, penalty = l2')\n",
    "plt.plot(c_range, test_score_l2, label = 'Test score, penalty = l2')\n",
    "plt.legend()\n",
    "plt.xlabel('Regularization parameter: C')\n",
    "plt.ylabel('Accuracy')\n",
    "plt.xscale('log')"
   ]
  },
  {
   "cell_type": "markdown",
   "metadata": {},
   "source": [
    "The best parameters are C=1, penaly=l2, and solver=liblinear. This gives the best precision score of 86%\n",
    "\n",
    "Next, we train our model with the best hyperparameters and take a look at the confusion matrix to see how many true positives and negatives as well as false positive and negative result from the model's prediction compared to actual data in the test dataset."
   ]
  },
  {
   "cell_type": "code",
   "execution_count": 543,
   "metadata": {},
   "outputs": [],
   "source": [
    "logreg = LogisticRegression(random_state=0, C=1, penalty='l2', solver='liblinear')\n",
    "logreg_fit = logreg.fit(X_train, y_train)\n",
    "pred_logreg = logreg_fit.predict(X_test)"
   ]
  },
  {
   "cell_type": "markdown",
   "metadata": {},
   "source": [
    "We'll look at the confusion matrix of the predictions as well as the classification reports showing the precision and recall scores."
   ]
  },
  {
   "cell_type": "code",
   "execution_count": 365,
   "metadata": {},
   "outputs": [
    {
     "name": "stdout",
     "output_type": "stream",
     "text": [
      "\n",
      "LogisticRegression:\n",
      "[[105  18]\n",
      " [ 14 113]]\n"
     ]
    }
   ],
   "source": [
    "from sklearn.metrics import confusion_matrix\n",
    "\n",
    "print(\"\\nLogisticRegression:\")\n",
    "print(confusion_matrix(y_test, pred_logreg))"
   ]
  },
  {
   "cell_type": "code",
   "execution_count": 544,
   "metadata": {},
   "outputs": [
    {
     "name": "stdout",
     "output_type": "stream",
     "text": [
      "                      precision    recall  f1-score   support\n",
      "\n",
      "           satisfied       0.88      0.85      0.87       123\n",
      "neutral/dissatisfied       0.86      0.89      0.88       127\n",
      "\n",
      "            accuracy                           0.87       250\n",
      "           macro avg       0.87      0.87      0.87       250\n",
      "        weighted avg       0.87      0.87      0.87       250\n",
      "\n"
     ]
    }
   ],
   "source": [
    "print(classification_report(y_test, logreg.predict(X_test) , target_names=[\"satisfied\", \"neutral/dissatisfied\"]))"
   ]
  },
  {
   "cell_type": "markdown",
   "metadata": {},
   "source": [
    "Here we can see that there are 105 out of 123 correct predictions for neutral or dissatisfied customers and 113 out of 127 correct predictions for when customers are satisfied."
   ]
  },
  {
   "cell_type": "code",
   "execution_count": 366,
   "metadata": {},
   "outputs": [
    {
     "name": "stdout",
     "output_type": "stream",
     "text": [
      "Recall score logistic regression: 0.889763779527559\n",
      "Precision score logistic regression: 0.8625954198473282\n"
     ]
    }
   ],
   "source": [
    "print(\"Recall score logistic regression: {}\".format(recall_score(y_test, pred_logreg)))\n",
    "print(\"Precision score logistic regression: {}\".format(precision_score(y_test, pred_logreg)))"
   ]
  },
  {
   "cell_type": "markdown",
   "metadata": {},
   "source": [
    "We look at the scores of the data before any preprocessing."
   ]
  },
  {
   "cell_type": "code",
   "execution_count": 367,
   "metadata": {},
   "outputs": [
    {
     "name": "stdout",
     "output_type": "stream",
     "text": [
      "Before the post processing: \n",
      "Precision:  0.8947368421052632\n",
      "Recall:  0.8031496062992126\n"
     ]
    }
   ],
   "source": [
    "from sklearn.metrics import precision_score, recall_score\n",
    "\n",
    "y_predict = np.where(grid_searchlr.decision_function(X_test) >= 0.5, 1, 0)\n",
    "print('Before the post processing: ')\n",
    "print('Precision: ', precision_score(y_test, y_predict))\n",
    "print('Recall: ', recall_score(y_test, y_predict))"
   ]
  },
  {
   "cell_type": "markdown",
   "metadata": {},
   "source": [
    "Now we look at the precision recall curve and do post-processing based on the threshold values closest to 0.90."
   ]
  },
  {
   "cell_type": "code",
   "execution_count": 400,
   "metadata": {},
   "outputs": [],
   "source": [
    "# Look up optimal threshold for precision nearest to 0.90\n",
    "precision, recall, thresholds = precision_recall_curve(y_train, grid_searchlr.decision_function(X_train))"
   ]
  },
  {
   "cell_type": "code",
   "execution_count": 419,
   "metadata": {},
   "outputs": [
    {
     "data": {
      "text/plain": [
       "305"
      ]
     },
     "execution_count": 419,
     "metadata": {},
     "output_type": "execute_result"
    }
   ],
   "source": [
    "np.argmin(np.abs(precision - 0.91))"
   ]
  },
  {
   "cell_type": "code",
   "execution_count": 414,
   "metadata": {},
   "outputs": [
    {
     "data": {
      "image/png": "[encoded data removed]",
      "text/plain": [
       "<Figure size 720x360 with 1 Axes>"
      ]
     },
     "metadata": {
      "needs_background": "light"
     },
     "output_type": "display_data"
    }
   ],
   "source": [
    "from sklearn.metrics import precision_recall_curve\n",
    "\n",
    "%matplotlib inline\n",
    "\n",
    "plt.subplots(figsize = (10,5))\n",
    "\n",
    "close_zero = np.argmin(np.abs(thresholds))\n",
    "\n",
    "plt.plot(precision[close_zero], recall[close_zero], 'o', markersize=10,\n",
    "          label=\"threshold zero\", fillstyle=\"none\", c='k', mew=2)\n",
    "\n",
    "plt.plot(precision[305], recall[305], 'o', markersize=10,\n",
    "         label=\"best threshold\", fillstyle=\"none\", c='r', mew=2)\n",
    "\n",
    "plt.plot(precision, recall, label=\"precision recall curve\")\n",
    "plt.xlabel(\"Precision\")\n",
    "plt.ylabel(\"Recall\")\n",
    "plt.legend(loc=\"best\")\n",
    "plt.grid()"
   ]
  },
  {
   "cell_type": "code",
   "execution_count": 500,
   "metadata": {},
   "outputs": [
    {
     "data": {
      "text/plain": [
       "1.1304649893901244"
      ]
     },
     "execution_count": 500,
     "metadata": {},
     "output_type": "execute_result"
    }
   ],
   "source": [
    "# Look at the new threshold\n",
    "thresholds[305]"
   ]
  },
  {
   "cell_type": "markdown",
   "metadata": {},
   "source": [
    "Now we work on post-processing the data with the new threshold."
   ]
  },
  {
   "cell_type": "code",
   "execution_count": 542,
   "metadata": {},
   "outputs": [
    {
     "name": "stdout",
     "output_type": "stream",
     "text": [
      "After the post processing: \n",
      "Precision:  0.9318181818181818\n",
      "Recall:  0.6456692913385826\n"
     ]
    }
   ],
   "source": [
    "from sklearn.metrics import precision_score, recall_score\n",
    "\n",
    "y_predict = np.where(grid_searchlr.decision_function(X_test) >= thresholds[305], 1, 0)\n",
    "print('After the post processing: ')\n",
    "print('Precision: ', precision_score(y_test, y_predict))\n",
    "print('Recall: ', recall_score(y_test, y_predict))"
   ]
  },
  {
   "cell_type": "markdown",
   "metadata": {},
   "source": [
    "New results for the classification reports:"
   ]
  },
  {
   "cell_type": "code",
   "execution_count": 524,
   "metadata": {},
   "outputs": [
    {
     "name": "stdout",
     "output_type": "stream",
     "text": [
      "                      precision    recall  f1-score   support\n",
      "\n",
      "           satisfied       0.72      0.95      0.82       123\n",
      "neutral/dissatisfied       0.93      0.65      0.76       127\n",
      "\n",
      "            accuracy                           0.80       250\n",
      "           macro avg       0.83      0.80      0.79       250\n",
      "        weighted avg       0.83      0.80      0.79       250\n",
      "\n"
     ]
    }
   ],
   "source": [
    "print(classification_report(y_test, y_predict , target_names=[\"satisfied\", \"neutral/dissatisfied\"]))"
   ]
  },
  {
   "cell_type": "code",
   "execution_count": 530,
   "metadata": {},
   "outputs": [
    {
     "data": {
      "text/plain": [
       "array([[117,   6],\n",
       "       [ 45,  82]])"
      ]
     },
     "execution_count": 530,
     "metadata": {},
     "output_type": "execute_result"
    }
   ],
   "source": [
    "# Check overall accuracy\n",
    "confusion_matrix(y_test, y_predict)"
   ]
  },
  {
   "cell_type": "code",
   "execution_count": 532,
   "metadata": {},
   "outputs": [
    {
     "name": "stdout",
     "output_type": "stream",
     "text": [
      "Score:  0.796\n"
     ]
    }
   ],
   "source": [
    "print('Score: ', (117 + 82) / (117 + 6 + 45 + 82))"
   ]
  },
  {
   "cell_type": "markdown",
   "metadata": {},
   "source": [
    "This shows improved precision for the positive case (predicting whether a customer is likely to be neutral/dissatisfied about the airline's service). The new test score on the data is 79.6%"
   ]
  },
  {
   "cell_type": "markdown",
   "metadata": {},
   "source": [
    "### SVM Linear SVC model"
   ]
  },
  {
   "cell_type": "markdown",
   "metadata": {},
   "source": [
    "Next, we looked at Support Vector Machine Models. We instantiated the model and plotted the decision regions"
   ]
  },
  {
   "cell_type": "code",
   "execution_count": 335,
   "metadata": {},
   "outputs": [],
   "source": [
    "clf = LinearSVC(random_state=0)"
   ]
  },
  {
   "cell_type": "markdown",
   "metadata": {},
   "source": [
    "Then we ran GridSearchCV to find the best optimal parameters."
   ]
  },
  {
   "cell_type": "code",
   "execution_count": 336,
   "metadata": {},
   "outputs": [],
   "source": [
    "param_gridclf = {'C': [0.01, 0.1, 1, 10, 100, 1000, 10000]}\n",
    "\n",
    "grid_searchclf = GridSearchCV(clf, param_gridclf, cv=5, n_jobs=-1)"
   ]
  },
  {
   "cell_type": "code",
   "execution_count": 337,
   "metadata": {},
   "outputs": [
    {
     "name": "stdout",
     "output_type": "stream",
     "text": [
      "Best score: 0.8600000000000001\n",
      "Best parameters: {'C': 0.1}\n"
     ]
    }
   ],
   "source": [
    "# Fit model and print results\n",
    "clf_results = grid_searchclf.fit(X_train, y_train)\n",
    "\n",
    "print(\"Best score: {}\".format(clf_results.best_score_))\n",
    "print(\"Best parameters: {}\".format(clf_results.best_params_))"
   ]
  },
  {
   "cell_type": "markdown",
   "metadata": {},
   "source": [
    "We also look at the classification report for this model's predictions."
   ]
  },
  {
   "cell_type": "code",
   "execution_count": 523,
   "metadata": {},
   "outputs": [
    {
     "name": "stdout",
     "output_type": "stream",
     "text": [
      "                      precision    recall  f1-score   support\n",
      "\n",
      "           satisfied       0.88      0.85      0.86       123\n",
      "neutral/dissatisfied       0.86      0.89      0.87       127\n",
      "\n",
      "            accuracy                           0.87       250\n",
      "           macro avg       0.87      0.87      0.87       250\n",
      "        weighted avg       0.87      0.87      0.87       250\n",
      "\n"
     ]
    }
   ],
   "source": [
    "print(classification_report(y_test, clf_results.predict(X_test) , target_names=[\"satisfied\", \"neutral/dissatisfied\"]))"
   ]
  },
  {
   "cell_type": "markdown",
   "metadata": {},
   "source": [
    "Optimal hyperparameters are 0.1 which gives a precision score of 86%. "
   ]
  },
  {
   "cell_type": "code",
   "execution_count": null,
   "metadata": {},
   "outputs": [],
   "source": [
    "X_b =  X_train[:,[5,7]]\n",
    "y_b = y_train[:]\n",
    "y_b = y_b.to_numpy()\n",
    "\n",
    "LSVC = SVC(random_state=0, C=0.1)\n",
    "LSVC.fit(X_b, y_b)\n",
    "\n",
    "plt.subplots(figsize = (10,10))\n",
    "\n",
    "plot_decision_regions(X_b, y_b, clf = LSVC)"
   ]
  },
  {
   "cell_type": "markdown",
   "metadata": {},
   "source": [
    "### Kernelized Support Vector Machine \n",
    "* rbf\n",
    "* poly\n",
    "* linear"
   ]
  },
  {
   "cell_type": "markdown",
   "metadata": {},
   "source": [
    "We will first instantiate a baseline svc model"
   ]
  },
  {
   "cell_type": "code",
   "execution_count": 439,
   "metadata": {},
   "outputs": [],
   "source": [
    "svc = SVC(random_state=0)"
   ]
  },
  {
   "cell_type": "markdown",
   "metadata": {},
   "source": [
    "#### rbf\n",
    "We ran the kernelized svm model with GridSearchCV to find the best optimal parameters using cv=5 and n_jobs=-1."
   ]
  },
  {
   "cell_type": "code",
   "execution_count": 501,
   "metadata": {},
   "outputs": [],
   "source": [
    "param_gridrbf = {'C': [0.1, 1, 10, 100, 1000],\n",
    "                'gamma': [1, 0.1, 0.01, 0.001],\n",
    "                'kernel': ['rbf']}\n",
    "\n",
    "param_gridrbf = GridSearchCV(svc, param_gridrbf, cv=5, n_jobs=-1, scoring='precision')"
   ]
  },
  {
   "cell_type": "code",
   "execution_count": 502,
   "metadata": {},
   "outputs": [
    {
     "name": "stdout",
     "output_type": "stream",
     "text": [
      "Best score: 0.8929956411998783\n",
      "Best parameters: {'C': 1000, 'gamma': 0.1, 'kernel': 'rbf'}\n"
     ]
    }
   ],
   "source": [
    "# Fit grid model and print best results\n",
    "rbf_results = param_gridrbf.fit(X_train, y_train)\n",
    "print(\"Best score: {}\".format(rbf_results.best_score_))\n",
    "print(\"Best parameters: {}\".format(rbf_results.best_params_))"
   ]
  },
  {
   "cell_type": "markdown",
   "metadata": {},
   "source": [
    "We also look at the classification report for this model's predictions."
   ]
  },
  {
   "cell_type": "code",
   "execution_count": 520,
   "metadata": {},
   "outputs": [
    {
     "name": "stdout",
     "output_type": "stream",
     "text": [
      "                      precision    recall  f1-score   support\n",
      "\n",
      "           satisfied       0.93      0.87      0.90       123\n",
      "neutral/dissatisfied       0.88      0.94      0.91       127\n",
      "\n",
      "            accuracy                           0.90       250\n",
      "           macro avg       0.91      0.90      0.90       250\n",
      "        weighted avg       0.91      0.90      0.90       250\n",
      "\n"
     ]
    }
   ],
   "source": [
    "print(classification_report(y_test, rbf_results.predict(X_test) , target_names=[\"satisfied\", \"neutral/dissatisfied\"]))"
   ]
  },
  {
   "cell_type": "markdown",
   "metadata": {},
   "source": [
    "Optimal parameters of C=10 and gamma=0.1 give a precision score of 89.30%"
   ]
  },
  {
   "cell_type": "markdown",
   "metadata": {},
   "source": [
    "We will plot the decision regions for this model. "
   ]
  },
  {
   "cell_type": "code",
   "execution_count": 491,
   "metadata": {},
   "outputs": [
    {
     "ename": "NameError",
     "evalue": "name 'plot_decision_regions' is not defined",
     "output_type": "error",
     "traceback": [
      "\u001b[0;31m---------------------------------------------------------------------------\u001b[0m",
      "\u001b[0;31mNameError\u001b[0m                                 Traceback (most recent call last)",
      "\u001b[0;32m<ipython-input-491-277cb0271a1e>\u001b[0m in \u001b[0;36m<module>\u001b[0;34m\u001b[0m\n\u001b[1;32m      8\u001b[0m \u001b[0mplt\u001b[0m\u001b[0;34m.\u001b[0m\u001b[0msubplots\u001b[0m\u001b[0;34m(\u001b[0m\u001b[0mfigsize\u001b[0m \u001b[0;34m=\u001b[0m \u001b[0;34m(\u001b[0m\u001b[0;36m10\u001b[0m\u001b[0;34m,\u001b[0m\u001b[0;36m10\u001b[0m\u001b[0;34m)\u001b[0m\u001b[0;34m)\u001b[0m\u001b[0;34m\u001b[0m\u001b[0;34m\u001b[0m\u001b[0m\n\u001b[1;32m      9\u001b[0m \u001b[0;34m\u001b[0m\u001b[0m\n\u001b[0;32m---> 10\u001b[0;31m \u001b[0mplot_decision_regions\u001b[0m\u001b[0;34m(\u001b[0m\u001b[0mX_b\u001b[0m\u001b[0;34m,\u001b[0m \u001b[0my_b\u001b[0m\u001b[0;34m,\u001b[0m \u001b[0mclf\u001b[0m \u001b[0;34m=\u001b[0m \u001b[0mrbf\u001b[0m\u001b[0;34m)\u001b[0m\u001b[0;34m\u001b[0m\u001b[0;34m\u001b[0m\u001b[0m\n\u001b[0m",
      "\u001b[0;31mNameError\u001b[0m: name 'plot_decision_regions' is not defined"
     ]
    },
    {
     "data": {
      "image/png": "[encoded data removed]",
      "text/plain": [
       "<Figure size 720x720 with 1 Axes>"
      ]
     },
     "metadata": {
      "needs_background": "light"
     },
     "output_type": "display_data"
    }
   ],
   "source": [
    "X_b =  X_train[:,[5,7]]\n",
    "y_b = y_train[:]\n",
    "y_b = y_b.to_numpy()\n",
    "\n",
    "rbf = SVC(random_state=0, C=10, gamma=0.1, kernel='rbf')\n",
    "rbf.fit(X_b, y_b)\n",
    "\n",
    "plt.subplots(figsize = (10,10))\n",
    "\n",
    "plot_decision_regions(X_b, y_b, clf = rbf)"
   ]
  },
  {
   "cell_type": "markdown",
   "metadata": {},
   "source": [
    "#### poly\n",
    "Next we ran the kernelized svm model with poly as the kernel using GridSearchCV to find the best parameters."
   ]
  },
  {
   "cell_type": "code",
   "execution_count": 503,
   "metadata": {},
   "outputs": [],
   "source": [
    "param_gridpoly = {'C': [0.1, 1, 10, 100, 1000],\n",
    "                 'degree': [1, 2, 3, 4, 5, 6, 7, 8, 9, 10],\n",
    "                 'kernel': ['poly']}\n",
    "\n",
    "param_gridpoly = GridSearchCV(svc, param_gridpoly, cv=5, n_jobs=-1, scoring='precision')"
   ]
  },
  {
   "cell_type": "code",
   "execution_count": 504,
   "metadata": {},
   "outputs": [
    {
     "name": "stdout",
     "output_type": "stream",
     "text": [
      "Best score: 0.8900149233482567\n",
      "Best parameters: {'C': 10, 'degree': 2, 'kernel': 'poly'}\n"
     ]
    }
   ],
   "source": [
    "# Fit model and print best results\n",
    "poly_results = param_gridpoly.fit(X_train, y_train)\n",
    "print(\"Best score: {}\".format(poly_results.best_score_))\n",
    "print(\"Best parameters: {}\".format(poly_results.best_params_))"
   ]
  },
  {
   "cell_type": "code",
   "execution_count": 521,
   "metadata": {},
   "outputs": [
    {
     "name": "stdout",
     "output_type": "stream",
     "text": [
      "                      precision    recall  f1-score   support\n",
      "\n",
      "           satisfied       0.91      0.87      0.89       123\n",
      "neutral/dissatisfied       0.88      0.91      0.90       127\n",
      "\n",
      "            accuracy                           0.89       250\n",
      "           macro avg       0.89      0.89      0.89       250\n",
      "        weighted avg       0.89      0.89      0.89       250\n",
      "\n"
     ]
    }
   ],
   "source": [
    "print(classification_report(y_test, poly_results.predict(X_test) , target_names = ['satisfied', 'neutral/dissatisfied']))"
   ]
  },
  {
   "cell_type": "markdown",
   "metadata": {},
   "source": [
    "Optimal parameters of C=10 and degree=2 give a precision score of 89%"
   ]
  },
  {
   "cell_type": "markdown",
   "metadata": {},
   "source": [
    "We will plot the decision regions for this model. "
   ]
  },
  {
   "cell_type": "code",
   "execution_count": 490,
   "metadata": {},
   "outputs": [
    {
     "ename": "NameError",
     "evalue": "name 'plot_decision_regions' is not defined",
     "output_type": "error",
     "traceback": [
      "\u001b[0;31m---------------------------------------------------------------------------\u001b[0m",
      "\u001b[0;31mNameError\u001b[0m                                 Traceback (most recent call last)",
      "\u001b[0;32m<ipython-input-490-d808c9ded2d7>\u001b[0m in \u001b[0;36m<module>\u001b[0;34m\u001b[0m\n\u001b[1;32m      8\u001b[0m \u001b[0mplt\u001b[0m\u001b[0;34m.\u001b[0m\u001b[0msubplots\u001b[0m\u001b[0;34m(\u001b[0m\u001b[0mfigsize\u001b[0m \u001b[0;34m=\u001b[0m \u001b[0;34m(\u001b[0m\u001b[0;36m10\u001b[0m\u001b[0;34m,\u001b[0m\u001b[0;36m10\u001b[0m\u001b[0;34m)\u001b[0m\u001b[0;34m)\u001b[0m\u001b[0;34m\u001b[0m\u001b[0;34m\u001b[0m\u001b[0m\n\u001b[1;32m      9\u001b[0m \u001b[0;34m\u001b[0m\u001b[0m\n\u001b[0;32m---> 10\u001b[0;31m \u001b[0mplot_decision_regions\u001b[0m\u001b[0;34m(\u001b[0m\u001b[0mX_b\u001b[0m\u001b[0;34m,\u001b[0m \u001b[0my_b\u001b[0m\u001b[0;34m,\u001b[0m \u001b[0mclf\u001b[0m \u001b[0;34m=\u001b[0m \u001b[0mpoly\u001b[0m\u001b[0;34m)\u001b[0m\u001b[0;34m\u001b[0m\u001b[0;34m\u001b[0m\u001b[0m\n\u001b[0m",
      "\u001b[0;31mNameError\u001b[0m: name 'plot_decision_regions' is not defined"
     ]
    },
    {
     "data": {
      "image/png": "[encoded data removed]",
      "text/plain": [
       "<Figure size 720x720 with 1 Axes>"
      ]
     },
     "metadata": {
      "needs_background": "light"
     },
     "output_type": "display_data"
    }
   ],
   "source": [
    "X_b =  X_train[:,[5,7]]\n",
    "y_b = y_train[:]\n",
    "y_b = y_b.to_numpy()\n",
    "\n",
    "poly = SVC(random_state=0, C=10, degree=2, kernel='poly')\n",
    "poly.fit(X_b, y_b)\n",
    "\n",
    "plt.subplots(figsize = (10,10))\n",
    "\n",
    "plot_decision_regions(X_b, y_b, clf = poly)"
   ]
  },
  {
   "cell_type": "markdown",
   "metadata": {},
   "source": [
    "#### linear\n",
    "For the final kernelized svm, we ran the svm with the linear kernel using GridSearchCV to find the best hyperparameters using cv=3 and n_jobs=-1"
   ]
  },
  {
   "cell_type": "code",
   "execution_count": 479,
   "metadata": {},
   "outputs": [],
   "source": [
    "param_gridlinear = {'C': [0.01, 0.1, 1, 10, 100, 1000, 10000],\n",
    "                   'kernel': ['linear']}\n",
    "\n",
    "grid_searchl = GridSearchCV(svc, param_gridlinear, cv=5, n_jobs=-1, scoring='precision')\n"
   ]
  },
  {
   "cell_type": "code",
   "execution_count": 480,
   "metadata": {},
   "outputs": [
    {
     "name": "stdout",
     "output_type": "stream",
     "text": [
      "Best score: 0.8550065090360736\n",
      "Best parameters: {'C': 0.1, 'kernel': 'linear'}\n"
     ]
    }
   ],
   "source": [
    "# Fit model and print best results\n",
    "l_results = grid_searchl.fit(X_train, y_train)\n",
    "print(\"Best score: {}\".format(l_results.best_score_))\n",
    "print(\"Best parameters: {}\".format(l_results.best_params_))"
   ]
  },
  {
   "cell_type": "code",
   "execution_count": 522,
   "metadata": {},
   "outputs": [
    {
     "name": "stdout",
     "output_type": "stream",
     "text": [
      "                      precision    recall  f1-score   support\n",
      "\n",
      "           satisfied       0.91      0.82      0.86       123\n",
      "neutral/dissatisfied       0.84      0.92      0.88       127\n",
      "\n",
      "            accuracy                           0.87       250\n",
      "           macro avg       0.88      0.87      0.87       250\n",
      "        weighted avg       0.88      0.87      0.87       250\n",
      "\n"
     ]
    }
   ],
   "source": [
    "print(classification_report(y_test, l_results.predict(X_test) , target_names=[\"satisfied\", \"neutral/dissatisfied\"]))"
   ]
  },
  {
   "cell_type": "markdown",
   "metadata": {},
   "source": [
    "The best parameters for the linear kernelized svm is C=0.1. Now we plot the decision region for the top two variables. "
   ]
  },
  {
   "cell_type": "code",
   "execution_count": 492,
   "metadata": {},
   "outputs": [
    {
     "ename": "NameError",
     "evalue": "name 'plot_decision_regions' is not defined",
     "output_type": "error",
     "traceback": [
      "\u001b[0;31m---------------------------------------------------------------------------\u001b[0m",
      "\u001b[0;31mNameError\u001b[0m                                 Traceback (most recent call last)",
      "\u001b[0;32m<ipython-input-492-178fdbbf0b93>\u001b[0m in \u001b[0;36m<module>\u001b[0;34m\u001b[0m\n\u001b[1;32m      8\u001b[0m \u001b[0mplt\u001b[0m\u001b[0;34m.\u001b[0m\u001b[0msubplots\u001b[0m\u001b[0;34m(\u001b[0m\u001b[0mfigsize\u001b[0m \u001b[0;34m=\u001b[0m \u001b[0;34m(\u001b[0m\u001b[0;36m10\u001b[0m\u001b[0;34m,\u001b[0m\u001b[0;36m10\u001b[0m\u001b[0;34m)\u001b[0m\u001b[0;34m)\u001b[0m\u001b[0;34m\u001b[0m\u001b[0;34m\u001b[0m\u001b[0m\n\u001b[1;32m      9\u001b[0m \u001b[0;34m\u001b[0m\u001b[0m\n\u001b[0;32m---> 10\u001b[0;31m \u001b[0mplot_decision_regions\u001b[0m\u001b[0;34m(\u001b[0m\u001b[0mX_b\u001b[0m\u001b[0;34m,\u001b[0m \u001b[0my_b\u001b[0m\u001b[0;34m,\u001b[0m \u001b[0mclf\u001b[0m \u001b[0;34m=\u001b[0m \u001b[0mlinear\u001b[0m\u001b[0;34m)\u001b[0m\u001b[0;34m\u001b[0m\u001b[0;34m\u001b[0m\u001b[0m\n\u001b[0m",
      "\u001b[0;31mNameError\u001b[0m: name 'plot_decision_regions' is not defined"
     ]
    },
    {
     "data": {
      "image/png": "[encoded data removed]",
      "text/plain": [
       "<Figure size 720x720 with 1 Axes>"
      ]
     },
     "metadata": {
      "needs_background": "light"
     },
     "output_type": "display_data"
    }
   ],
   "source": [
    "X_b =  X_train[:,[5,7]]\n",
    "y_b = y_train[:]\n",
    "y_b = y_b.to_numpy()\n",
    "\n",
    "linear = SVC(random_state=0, C=0.1, kernel='linear')\n",
    "linear.fit(X_b, y_b)\n",
    "\n",
    "plt.subplots(figsize = (10,10))\n",
    "\n",
    "plot_decision_regions(X_b, y_b, clf = linear)"
   ]
  },
  {
   "cell_type": "markdown",
   "metadata": {},
   "source": [
    "### Decision Tree\n",
    "Our last look at models is the decision tree. We use the grid search method to check for the optimal max_depth between 1-20. "
   ]
  },
  {
   "cell_type": "code",
   "execution_count": 431,
   "metadata": {},
   "outputs": [
    {
     "name": "stdout",
     "output_type": "stream",
     "text": [
      "Best parameters: {'max_depth': 3}\n",
      "Best cross-validation score: 0.8738881906623842\n"
     ]
    }
   ],
   "source": [
    "param_griddt = {'max_depth': [1, 2, 3, 4, 5, 6, 7, 8, 9, 10, 11, 12, 13, 14, 15, 16, 17, 18, 19, 20]}\n",
    "\n",
    "#gridsearch object\n",
    "gs_dt = GridSearchCV(DecisionTreeClassifier(), param_griddt, cv=5, return_train_score=True, scoring='precision')\n",
    "\n",
    "gs_dt.fit(X_train, y_train)\n",
    "\n",
    "print(\"Best parameters: {}\".format(gs_dt.best_params_))\n",
    "# Question 12 - What is the best score \n",
    "print(\"Best cross-validation score: {}\".format(gs_dt.best_score_))"
   ]
  },
  {
   "cell_type": "markdown",
   "metadata": {},
   "source": [
    "The best model uses a max_depth of 3 for a precision score of 0.873888\n",
    "\n",
    "Next, we visualize the results by training and predicting using the optimal max_depth of 3."
   ]
  },
  {
   "cell_type": "code",
   "execution_count": 433,
   "metadata": {},
   "outputs": [
    {
     "data": {
      "image/svg+xml": [
       "<?xml version=\"1.0\" encoding=\"UTF-8\" standalone=\"no\"?>\n",
       "<!DOCTYPE svg PUBLIC \"-//W3C//DTD SVG 1.1//EN\"\n",
       " \"http://www.w3.org/Graphics/SVG/1.1/DTD/svg11.dtd\">\n",
       "<!-- Generated by graphviz version 2.49.1 (20210923.0004)\n",
       " -->\n",
       "<!-- Title: Tree Pages: 1 -->\n",
       "<svg width=\"788pt\" height=\"373pt\"\n",
       " viewBox=\"0.00 0.00 787.50 373.00\" xmlns=\"http://www.w3.org/2000/svg\" xmlns:xlink=\"http://www.w3.org/1999/xlink\">\n",
       "<g id=\"graph0\" class=\"graph\" transform=\"scale(1 1) rotate(0) translate(4 369)\">\n",
       "<title>Tree</title>\n",
       "<polygon fill=\"white\" stroke=\"transparent\" points=\"-4,4 -4,-369 783.5,-369 783.5,4 -4,4\"/>\n",
       "<!-- 0 -->\n",
       "<g id=\"node1\" class=\"node\">\n",
       "<title>0</title>\n",
       "<path fill=\"#dbedfa\" stroke=\"black\" d=\"M374,-365C374,-365 239,-365 239,-365 233,-365 227,-359 227,-353 227,-353 227,-309 227,-309 227,-303 233,-297 239,-297 239,-297 374,-297 374,-297 380,-297 386,-303 386,-309 386,-309 386,-353 386,-353 386,-359 380,-365 374,-365\"/>\n",
       "<text text-anchor=\"middle\" x=\"306.5\" y=\"-349.8\" font-family=\"Helvetica,sans-Serif\" font-size=\"14.00\">Online boarding &lt;= 0.7</text>\n",
       "<text text-anchor=\"middle\" x=\"306.5\" y=\"-334.8\" font-family=\"Helvetica,sans-Serif\" font-size=\"14.00\">gini = 0.495</text>\n",
       "<text text-anchor=\"middle\" x=\"306.5\" y=\"-319.8\" font-family=\"Helvetica,sans-Serif\" font-size=\"14.00\">samples = 750</text>\n",
       "<text text-anchor=\"middle\" x=\"306.5\" y=\"-304.8\" font-family=\"Helvetica,sans-Serif\" font-size=\"14.00\">value = [337, 413]</text>\n",
       "</g>\n",
       "<!-- 1 -->\n",
       "<g id=\"node2\" class=\"node\">\n",
       "<title>1</title>\n",
       "<path fill=\"#5baee9\" stroke=\"black\" d=\"M285.5,-261C285.5,-261 135.5,-261 135.5,-261 129.5,-261 123.5,-255 123.5,-249 123.5,-249 123.5,-205 123.5,-205 123.5,-199 129.5,-193 135.5,-193 135.5,-193 285.5,-193 285.5,-193 291.5,-193 297.5,-199 297.5,-205 297.5,-205 297.5,-249 297.5,-249 297.5,-255 291.5,-261 285.5,-261\"/>\n",
       "<text text-anchor=\"middle\" x=\"210.5\" y=\"-245.8\" font-family=\"Helvetica,sans-Serif\" font-size=\"14.00\">Inflight wifi service &lt;= 0.1</text>\n",
       "<text text-anchor=\"middle\" x=\"210.5\" y=\"-230.8\" font-family=\"Helvetica,sans-Serif\" font-size=\"14.00\">gini = 0.251</text>\n",
       "<text text-anchor=\"middle\" x=\"210.5\" y=\"-215.8\" font-family=\"Helvetica,sans-Serif\" font-size=\"14.00\">samples = 361</text>\n",
       "<text text-anchor=\"middle\" x=\"210.5\" y=\"-200.8\" font-family=\"Helvetica,sans-Serif\" font-size=\"14.00\">value = [53, 308]</text>\n",
       "</g>\n",
       "<!-- 0&#45;&gt;1 -->\n",
       "<g id=\"edge1\" class=\"edge\">\n",
       "<title>0&#45;&gt;1</title>\n",
       "<path fill=\"none\" stroke=\"black\" d=\"M275.33,-296.88C266.86,-287.89 257.6,-278.04 248.79,-268.68\"/>\n",
       "<polygon fill=\"black\" stroke=\"black\" points=\"251.24,-266.18 241.84,-261.3 246.15,-270.98 251.24,-266.18\"/>\n",
       "<text text-anchor=\"middle\" x=\"241.08\" y=\"-282.59\" font-family=\"Helvetica,sans-Serif\" font-size=\"14.00\">True</text>\n",
       "</g>\n",
       "<!-- 6 -->\n",
       "<g id=\"node7\" class=\"node\">\n",
       "<title>6</title>\n",
       "<path fill=\"#efb082\" stroke=\"black\" d=\"M464.5,-261C464.5,-261 340.5,-261 340.5,-261 334.5,-261 328.5,-255 328.5,-249 328.5,-249 328.5,-205 328.5,-205 328.5,-199 334.5,-193 340.5,-193 340.5,-193 464.5,-193 464.5,-193 470.5,-193 476.5,-199 476.5,-205 476.5,-205 476.5,-249 476.5,-249 476.5,-255 470.5,-261 464.5,-261\"/>\n",
       "<text text-anchor=\"middle\" x=\"402.5\" y=\"-245.8\" font-family=\"Helvetica,sans-Serif\" font-size=\"14.00\">Type of Travel &lt;= 0.5</text>\n",
       "<text text-anchor=\"middle\" x=\"402.5\" y=\"-230.8\" font-family=\"Helvetica,sans-Serif\" font-size=\"14.00\">gini = 0.394</text>\n",
       "<text text-anchor=\"middle\" x=\"402.5\" y=\"-215.8\" font-family=\"Helvetica,sans-Serif\" font-size=\"14.00\">samples = 389</text>\n",
       "<text text-anchor=\"middle\" x=\"402.5\" y=\"-200.8\" font-family=\"Helvetica,sans-Serif\" font-size=\"14.00\">value = [284, 105]</text>\n",
       "</g>\n",
       "<!-- 0&#45;&gt;6 -->\n",
       "<g id=\"edge6\" class=\"edge\">\n",
       "<title>0&#45;&gt;6</title>\n",
       "<path fill=\"none\" stroke=\"black\" d=\"M337.67,-296.88C346.14,-287.89 355.4,-278.04 364.21,-268.68\"/>\n",
       "<polygon fill=\"black\" stroke=\"black\" points=\"366.85,-270.98 371.16,-261.3 361.76,-266.18 366.85,-270.98\"/>\n",
       "<text text-anchor=\"middle\" x=\"371.92\" y=\"-282.59\" font-family=\"Helvetica,sans-Serif\" font-size=\"14.00\">False</text>\n",
       "</g>\n",
       "<!-- 2 -->\n",
       "<g id=\"node3\" class=\"node\">\n",
       "<title>2</title>\n",
       "<path fill=\"#e58139\" stroke=\"black\" d=\"M93,-149.5C93,-149.5 12,-149.5 12,-149.5 6,-149.5 0,-143.5 0,-137.5 0,-137.5 0,-108.5 0,-108.5 0,-102.5 6,-96.5 12,-96.5 12,-96.5 93,-96.5 93,-96.5 99,-96.5 105,-102.5 105,-108.5 105,-108.5 105,-137.5 105,-137.5 105,-143.5 99,-149.5 93,-149.5\"/>\n",
       "<text text-anchor=\"middle\" x=\"52.5\" y=\"-134.3\" font-family=\"Helvetica,sans-Serif\" font-size=\"14.00\">gini = 0.0</text>\n",
       "<text text-anchor=\"middle\" x=\"52.5\" y=\"-119.3\" font-family=\"Helvetica,sans-Serif\" font-size=\"14.00\">samples = 12</text>\n",
       "<text text-anchor=\"middle\" x=\"52.5\" y=\"-104.3\" font-family=\"Helvetica,sans-Serif\" font-size=\"14.00\">value = [12, 0]</text>\n",
       "</g>\n",
       "<!-- 1&#45;&gt;2 -->\n",
       "<g id=\"edge2\" class=\"edge\">\n",
       "<title>1&#45;&gt;2</title>\n",
       "<path fill=\"none\" stroke=\"black\" d=\"M159.2,-192.88C140.38,-180.73 119.15,-167.03 100.61,-155.06\"/>\n",
       "<polygon fill=\"black\" stroke=\"black\" points=\"102.33,-152 92.03,-149.52 98.53,-157.88 102.33,-152\"/>\n",
       "</g>\n",
       "<!-- 3 -->\n",
       "<g id=\"node4\" class=\"node\">\n",
       "<title>3</title>\n",
       "<path fill=\"#53aae8\" stroke=\"black\" d=\"M285.5,-157C285.5,-157 135.5,-157 135.5,-157 129.5,-157 123.5,-151 123.5,-145 123.5,-145 123.5,-101 123.5,-101 123.5,-95 129.5,-89 135.5,-89 135.5,-89 285.5,-89 285.5,-89 291.5,-89 297.5,-95 297.5,-101 297.5,-101 297.5,-145 297.5,-145 297.5,-151 291.5,-157 285.5,-157\"/>\n",
       "<text text-anchor=\"middle\" x=\"210.5\" y=\"-141.8\" font-family=\"Helvetica,sans-Serif\" font-size=\"14.00\">Inflight wifi service &lt;= 0.7</text>\n",
       "<text text-anchor=\"middle\" x=\"210.5\" y=\"-126.8\" font-family=\"Helvetica,sans-Serif\" font-size=\"14.00\">gini = 0.207</text>\n",
       "<text text-anchor=\"middle\" x=\"210.5\" y=\"-111.8\" font-family=\"Helvetica,sans-Serif\" font-size=\"14.00\">samples = 349</text>\n",
       "<text text-anchor=\"middle\" x=\"210.5\" y=\"-96.8\" font-family=\"Helvetica,sans-Serif\" font-size=\"14.00\">value = [41, 308]</text>\n",
       "</g>\n",
       "<!-- 1&#45;&gt;3 -->\n",
       "<g id=\"edge3\" class=\"edge\">\n",
       "<title>1&#45;&gt;3</title>\n",
       "<path fill=\"none\" stroke=\"black\" d=\"M210.5,-192.88C210.5,-184.78 210.5,-175.98 210.5,-167.47\"/>\n",
       "<polygon fill=\"black\" stroke=\"black\" points=\"214,-167.3 210.5,-157.3 207,-167.3 214,-167.3\"/>\n",
       "</g>\n",
       "<!-- 4 -->\n",
       "<g id=\"node5\" class=\"node\">\n",
       "<title>4</title>\n",
       "<path fill=\"#48a4e7\" stroke=\"black\" d=\"M127.5,-53C127.5,-53 31.5,-53 31.5,-53 25.5,-53 19.5,-47 19.5,-41 19.5,-41 19.5,-12 19.5,-12 19.5,-6 25.5,0 31.5,0 31.5,0 127.5,0 127.5,0 133.5,0 139.5,-6 139.5,-12 139.5,-12 139.5,-41 139.5,-41 139.5,-47 133.5,-53 127.5,-53\"/>\n",
       "<text text-anchor=\"middle\" x=\"79.5\" y=\"-37.8\" font-family=\"Helvetica,sans-Serif\" font-size=\"14.00\">gini = 0.128</text>\n",
       "<text text-anchor=\"middle\" x=\"79.5\" y=\"-22.8\" font-family=\"Helvetica,sans-Serif\" font-size=\"14.00\">samples = 321</text>\n",
       "<text text-anchor=\"middle\" x=\"79.5\" y=\"-7.8\" font-family=\"Helvetica,sans-Serif\" font-size=\"14.00\">value = [22, 299]</text>\n",
       "</g>\n",
       "<!-- 3&#45;&gt;4 -->\n",
       "<g id=\"edge4\" class=\"edge\">\n",
       "<title>3&#45;&gt;4</title>\n",
       "<path fill=\"none\" stroke=\"black\" d=\"M164.68,-88.95C151.37,-79.34 136.86,-68.87 123.64,-59.34\"/>\n",
       "<polygon fill=\"black\" stroke=\"black\" points=\"125.34,-56.25 115.18,-53.24 121.24,-61.93 125.34,-56.25\"/>\n",
       "</g>\n",
       "<!-- 5 -->\n",
       "<g id=\"node6\" class=\"node\">\n",
       "<title>5</title>\n",
       "<path fill=\"#f1bd97\" stroke=\"black\" d=\"M251,-53C251,-53 170,-53 170,-53 164,-53 158,-47 158,-41 158,-41 158,-12 158,-12 158,-6 164,0 170,0 170,0 251,0 251,0 257,0 263,-6 263,-12 263,-12 263,-41 263,-41 263,-47 257,-53 251,-53\"/>\n",
       "<text text-anchor=\"middle\" x=\"210.5\" y=\"-37.8\" font-family=\"Helvetica,sans-Serif\" font-size=\"14.00\">gini = 0.436</text>\n",
       "<text text-anchor=\"middle\" x=\"210.5\" y=\"-22.8\" font-family=\"Helvetica,sans-Serif\" font-size=\"14.00\">samples = 28</text>\n",
       "<text text-anchor=\"middle\" x=\"210.5\" y=\"-7.8\" font-family=\"Helvetica,sans-Serif\" font-size=\"14.00\">value = [19, 9]</text>\n",
       "</g>\n",
       "<!-- 3&#45;&gt;5 -->\n",
       "<g id=\"edge5\" class=\"edge\">\n",
       "<title>3&#45;&gt;5</title>\n",
       "<path fill=\"none\" stroke=\"black\" d=\"M210.5,-88.95C210.5,-80.72 210.5,-71.85 210.5,-63.48\"/>\n",
       "<polygon fill=\"black\" stroke=\"black\" points=\"214,-63.24 210.5,-53.24 207,-63.24 214,-63.24\"/>\n",
       "</g>\n",
       "<!-- 7 -->\n",
       "<g id=\"node8\" class=\"node\">\n",
       "<title>7</title>\n",
       "<path fill=\"#82c1ef\" stroke=\"black\" d=\"M477.5,-157C477.5,-157 327.5,-157 327.5,-157 321.5,-157 315.5,-151 315.5,-145 315.5,-145 315.5,-101 315.5,-101 315.5,-95 321.5,-89 327.5,-89 327.5,-89 477.5,-89 477.5,-89 483.5,-89 489.5,-95 489.5,-101 489.5,-101 489.5,-145 489.5,-145 489.5,-151 483.5,-157 477.5,-157\"/>\n",
       "<text text-anchor=\"middle\" x=\"402.5\" y=\"-141.8\" font-family=\"Helvetica,sans-Serif\" font-size=\"14.00\">Inflight wifi service &lt;= 0.9</text>\n",
       "<text text-anchor=\"middle\" x=\"402.5\" y=\"-126.8\" font-family=\"Helvetica,sans-Serif\" font-size=\"14.00\">gini = 0.394</text>\n",
       "<text text-anchor=\"middle\" x=\"402.5\" y=\"-111.8\" font-family=\"Helvetica,sans-Serif\" font-size=\"14.00\">samples = 74</text>\n",
       "<text text-anchor=\"middle\" x=\"402.5\" y=\"-96.8\" font-family=\"Helvetica,sans-Serif\" font-size=\"14.00\">value = [20, 54]</text>\n",
       "</g>\n",
       "<!-- 6&#45;&gt;7 -->\n",
       "<g id=\"edge7\" class=\"edge\">\n",
       "<title>6&#45;&gt;7</title>\n",
       "<path fill=\"none\" stroke=\"black\" d=\"M402.5,-192.88C402.5,-184.78 402.5,-175.98 402.5,-167.47\"/>\n",
       "<polygon fill=\"black\" stroke=\"black\" points=\"406,-167.3 402.5,-157.3 399,-167.3 406,-167.3\"/>\n",
       "</g>\n",
       "<!-- 10 -->\n",
       "<g id=\"node11\" class=\"node\">\n",
       "<title>10</title>\n",
       "<path fill=\"#ea995f\" stroke=\"black\" d=\"M651,-157C651,-157 520,-157 520,-157 514,-157 508,-151 508,-145 508,-145 508,-101 508,-101 508,-95 514,-89 520,-89 520,-89 651,-89 651,-89 657,-89 663,-95 663,-101 663,-101 663,-145 663,-145 663,-151 657,-157 651,-157\"/>\n",
       "<text text-anchor=\"middle\" x=\"585.5\" y=\"-141.8\" font-family=\"Helvetica,sans-Serif\" font-size=\"14.00\">Seat comfort &lt;= 0.625</text>\n",
       "<text text-anchor=\"middle\" x=\"585.5\" y=\"-126.8\" font-family=\"Helvetica,sans-Serif\" font-size=\"14.00\">gini = 0.271</text>\n",
       "<text text-anchor=\"middle\" x=\"585.5\" y=\"-111.8\" font-family=\"Helvetica,sans-Serif\" font-size=\"14.00\">samples = 315</text>\n",
       "<text text-anchor=\"middle\" x=\"585.5\" y=\"-96.8\" font-family=\"Helvetica,sans-Serif\" font-size=\"14.00\">value = [264, 51]</text>\n",
       "</g>\n",
       "<!-- 6&#45;&gt;10 -->\n",
       "<g id=\"edge10\" class=\"edge\">\n",
       "<title>6&#45;&gt;10</title>\n",
       "<path fill=\"none\" stroke=\"black\" d=\"M461.91,-192.88C479.58,-183.04 499.08,-172.17 517.26,-162.03\"/>\n",
       "<polygon fill=\"black\" stroke=\"black\" points=\"519.04,-165.05 526.07,-157.12 515.63,-158.94 519.04,-165.05\"/>\n",
       "</g>\n",
       "<!-- 8 -->\n",
       "<g id=\"node9\" class=\"node\">\n",
       "<title>8</title>\n",
       "<path fill=\"#5aade9\" stroke=\"black\" d=\"M375,-53C375,-53 294,-53 294,-53 288,-53 282,-47 282,-41 282,-41 282,-12 282,-12 282,-6 288,0 294,0 294,0 375,0 375,0 381,0 387,-6 387,-12 387,-12 387,-41 387,-41 387,-47 381,-53 375,-53\"/>\n",
       "<text text-anchor=\"middle\" x=\"334.5\" y=\"-37.8\" font-family=\"Helvetica,sans-Serif\" font-size=\"14.00\">gini = 0.245</text>\n",
       "<text text-anchor=\"middle\" x=\"334.5\" y=\"-22.8\" font-family=\"Helvetica,sans-Serif\" font-size=\"14.00\">samples = 63</text>\n",
       "<text text-anchor=\"middle\" x=\"334.5\" y=\"-7.8\" font-family=\"Helvetica,sans-Serif\" font-size=\"14.00\">value = [9, 54]</text>\n",
       "</g>\n",
       "<!-- 7&#45;&gt;8 -->\n",
       "<g id=\"edge8\" class=\"edge\">\n",
       "<title>7&#45;&gt;8</title>\n",
       "<path fill=\"none\" stroke=\"black\" d=\"M378.72,-88.95C372.33,-80.07 365.42,-70.46 358.99,-61.54\"/>\n",
       "<polygon fill=\"black\" stroke=\"black\" points=\"361.7,-59.31 353.02,-53.24 356.02,-63.4 361.7,-59.31\"/>\n",
       "</g>\n",
       "<!-- 9 -->\n",
       "<g id=\"node10\" class=\"node\">\n",
       "<title>9</title>\n",
       "<path fill=\"#e58139\" stroke=\"black\" d=\"M497.5,-53C497.5,-53 417.5,-53 417.5,-53 411.5,-53 405.5,-47 405.5,-41 405.5,-41 405.5,-12 405.5,-12 405.5,-6 411.5,0 417.5,0 417.5,0 497.5,0 497.5,0 503.5,0 509.5,-6 509.5,-12 509.5,-12 509.5,-41 509.5,-41 509.5,-47 503.5,-53 497.5,-53\"/>\n",
       "<text text-anchor=\"middle\" x=\"457.5\" y=\"-37.8\" font-family=\"Helvetica,sans-Serif\" font-size=\"14.00\">gini = 0.0</text>\n",
       "<text text-anchor=\"middle\" x=\"457.5\" y=\"-22.8\" font-family=\"Helvetica,sans-Serif\" font-size=\"14.00\">samples = 11</text>\n",
       "<text text-anchor=\"middle\" x=\"457.5\" y=\"-7.8\" font-family=\"Helvetica,sans-Serif\" font-size=\"14.00\">value = [11, 0]</text>\n",
       "</g>\n",
       "<!-- 7&#45;&gt;9 -->\n",
       "<g id=\"edge9\" class=\"edge\">\n",
       "<title>7&#45;&gt;9</title>\n",
       "<path fill=\"none\" stroke=\"black\" d=\"M421.74,-88.95C426.79,-80.26 432.26,-70.86 437.37,-62.09\"/>\n",
       "<polygon fill=\"black\" stroke=\"black\" points=\"440.52,-63.64 442.52,-53.24 434.47,-60.12 440.52,-63.64\"/>\n",
       "</g>\n",
       "<!-- 11 -->\n",
       "<g id=\"node12\" class=\"node\">\n",
       "<title>11</title>\n",
       "<path fill=\"#e3f1fb\" stroke=\"black\" d=\"M629,-53C629,-53 540,-53 540,-53 534,-53 528,-47 528,-41 528,-41 528,-12 528,-12 528,-6 534,0 540,0 540,0 629,0 629,0 635,0 641,-6 641,-12 641,-12 641,-41 641,-41 641,-47 635,-53 629,-53\"/>\n",
       "<text text-anchor=\"middle\" x=\"584.5\" y=\"-37.8\" font-family=\"Helvetica,sans-Serif\" font-size=\"14.00\">gini = 0.497</text>\n",
       "<text text-anchor=\"middle\" x=\"584.5\" y=\"-22.8\" font-family=\"Helvetica,sans-Serif\" font-size=\"14.00\">samples = 52</text>\n",
       "<text text-anchor=\"middle\" x=\"584.5\" y=\"-7.8\" font-family=\"Helvetica,sans-Serif\" font-size=\"14.00\">value = [24, 28]</text>\n",
       "</g>\n",
       "<!-- 10&#45;&gt;11 -->\n",
       "<g id=\"edge11\" class=\"edge\">\n",
       "<title>10&#45;&gt;11</title>\n",
       "<path fill=\"none\" stroke=\"black\" d=\"M585.15,-88.95C585.06,-80.72 584.97,-71.85 584.88,-63.48\"/>\n",
       "<polygon fill=\"black\" stroke=\"black\" points=\"588.38,-63.2 584.77,-53.24 581.38,-63.27 588.38,-63.2\"/>\n",
       "</g>\n",
       "<!-- 12 -->\n",
       "<g id=\"node13\" class=\"node\">\n",
       "<title>12</title>\n",
       "<path fill=\"#e78d4c\" stroke=\"black\" d=\"M767.5,-53C767.5,-53 671.5,-53 671.5,-53 665.5,-53 659.5,-47 659.5,-41 659.5,-41 659.5,-12 659.5,-12 659.5,-6 665.5,0 671.5,0 671.5,0 767.5,0 767.5,0 773.5,0 779.5,-6 779.5,-12 779.5,-12 779.5,-41 779.5,-41 779.5,-47 773.5,-53 767.5,-53\"/>\n",
       "<text text-anchor=\"middle\" x=\"719.5\" y=\"-37.8\" font-family=\"Helvetica,sans-Serif\" font-size=\"14.00\">gini = 0.16</text>\n",
       "<text text-anchor=\"middle\" x=\"719.5\" y=\"-22.8\" font-family=\"Helvetica,sans-Serif\" font-size=\"14.00\">samples = 263</text>\n",
       "<text text-anchor=\"middle\" x=\"719.5\" y=\"-7.8\" font-family=\"Helvetica,sans-Serif\" font-size=\"14.00\">value = [240, 23]</text>\n",
       "</g>\n",
       "<!-- 10&#45;&gt;12 -->\n",
       "<g id=\"edge12\" class=\"edge\">\n",
       "<title>10&#45;&gt;12</title>\n",
       "<path fill=\"none\" stroke=\"black\" d=\"M632.37,-88.95C646.12,-79.25 661.11,-68.68 674.73,-59.07\"/>\n",
       "<polygon fill=\"black\" stroke=\"black\" points=\"676.85,-61.86 683.01,-53.24 672.82,-56.14 676.85,-61.86\"/>\n",
       "</g>\n",
       "</g>\n",
       "</svg>\n"
      ],
      "text/plain": [
       "<graphviz.files.Source at 0x12b08bd60>"
      ]
     },
     "execution_count": 433,
     "metadata": {},
     "output_type": "execute_result"
    }
   ],
   "source": [
    "import os \n",
    "import graphviz\n",
    "\n",
    "os.environ[\"PATH\"] += os.pathsep + 'C:/Program Files (x86)/Graphviz2.38/bin/'\n",
    "\n",
    "# Create DOT data\n",
    "from sklearn.tree import export_graphviz\n",
    "\n",
    "tree = DecisionTreeClassifier(max_depth=3)\n",
    "tree.fit(X_train, y_train)\n",
    "\n",
    "dot_data = export_graphviz(tree, out_file=None, filled=True, rounded=True, feature_names=X.columns) \n",
    "\n",
    "# Draw graph\n",
    "graph = graphviz.Source(dot_data) \n",
    "\n",
    "# Show graph\n",
    "graph "
   ]
  },
  {
   "cell_type": "markdown",
   "metadata": {},
   "source": [
    "Visualizing the decision tree uses 3 layers with Online boarding, inflight wifi service, Type of Travel, and Seat comfort. "
   ]
  },
  {
   "cell_type": "code",
   "execution_count": 443,
   "metadata": {},
   "outputs": [
    {
     "data": {
      "text/plain": [
       "0.864"
      ]
     },
     "execution_count": 443,
     "metadata": {},
     "output_type": "execute_result"
    }
   ],
   "source": [
    "tree.score(X_test, y_test)"
   ]
  },
  {
   "cell_type": "markdown",
   "metadata": {},
   "source": [
    "The test score for the best decision tree is 86.4%.\n",
    "\n",
    "We will take a look at the classification report now."
   ]
  },
  {
   "cell_type": "code",
   "execution_count": 525,
   "metadata": {},
   "outputs": [
    {
     "name": "stdout",
     "output_type": "stream",
     "text": [
      "                      precision    recall  f1-score   support\n",
      "\n",
      "           satisfied       0.92      0.80      0.85       123\n",
      "neutral/dissatisfied       0.83      0.93      0.87       127\n",
      "\n",
      "            accuracy                           0.86       250\n",
      "           macro avg       0.87      0.86      0.86       250\n",
      "        weighted avg       0.87      0.86      0.86       250\n",
      "\n"
     ]
    }
   ],
   "source": [
    "print(classification_report(y_test, tree.predict(X_test) , target_names=[\"satisfied\", \"neutral/dissatisfied\"]))"
   ]
  },
  {
   "cell_type": "markdown",
   "metadata": {},
   "source": [
    "We took a look at the most important variables in the model to look at the decision regions. "
   ]
  },
  {
   "cell_type": "code",
   "execution_count": 452,
   "metadata": {},
   "outputs": [
    {
     "data": {
      "image/png": "[encoded data removed]",
      "text/plain": [
       "<Figure size 648x504 with 1 Axes>"
      ]
     },
     "metadata": {
      "needs_background": "light"
     },
     "output_type": "display_data"
    }
   ],
   "source": [
    "%matplotlib inline\n",
    "\n",
    "def plot_feature_importances(model):\n",
    "    fig, ax = plt.subplots(figsize=(9, 7))\n",
    "    n_features = X.shape[1]\n",
    "    plt.barh(range(n_features), model.feature_importances_, align='center')\n",
    "    plt.yticks(np.arange(n_features), X.columns)\n",
    "    plt.xlabel(\"Feature importance\")\n",
    "    plt.ylabel(\"Feature\")\n",
    "    plt.ylim(-1, n_features)\n",
    "\n",
    "plot_feature_importances(tree)"
   ]
  },
  {
   "cell_type": "markdown",
   "metadata": {},
   "source": [
    "The most important two features were online boarding and inflight wifi service"
   ]
  },
  {
   "cell_type": "code",
   "execution_count": 493,
   "metadata": {},
   "outputs": [
    {
     "name": "stderr",
     "output_type": "stream",
     "text": [
      "/Library/Frameworks/Python.framework/Versions/3.9/lib/python3.9/site-packages/sklearn/utils/validation.py:70: FutureWarning: Pass criterion=3 as keyword args. From version 1.0 (renaming of 0.25) passing these as positional arguments will result in an error\n",
      "  warnings.warn(f\"Pass {args_msg} as keyword args. From version \"\n"
     ]
    },
    {
     "ename": "KeyError",
     "evalue": "3",
     "output_type": "error",
     "traceback": [
      "\u001b[0;31m---------------------------------------------------------------------------\u001b[0m",
      "\u001b[0;31mKeyError\u001b[0m                                  Traceback (most recent call last)",
      "\u001b[0;32m<ipython-input-493-dd62ec38a3c8>\u001b[0m in \u001b[0;36m<module>\u001b[0;34m\u001b[0m\n\u001b[1;32m      5\u001b[0m \u001b[0mplt\u001b[0m\u001b[0;34m.\u001b[0m\u001b[0msubplots\u001b[0m\u001b[0;34m(\u001b[0m\u001b[0mfigsize\u001b[0m \u001b[0;34m=\u001b[0m \u001b[0;34m(\u001b[0m\u001b[0;36m10\u001b[0m\u001b[0;34m,\u001b[0m\u001b[0;36m10\u001b[0m\u001b[0;34m)\u001b[0m\u001b[0;34m)\u001b[0m\u001b[0;34m\u001b[0m\u001b[0;34m\u001b[0m\u001b[0m\n\u001b[1;32m      6\u001b[0m \u001b[0mdtree\u001b[0m \u001b[0;34m=\u001b[0m \u001b[0mDecisionTreeClassifier\u001b[0m\u001b[0;34m(\u001b[0m\u001b[0;36m3\u001b[0m\u001b[0;34m)\u001b[0m\u001b[0;34m\u001b[0m\u001b[0;34m\u001b[0m\u001b[0m\n\u001b[0;32m----> 7\u001b[0;31m \u001b[0mdtree\u001b[0m\u001b[0;34m.\u001b[0m\u001b[0mfit\u001b[0m\u001b[0;34m(\u001b[0m\u001b[0mX_b\u001b[0m\u001b[0;34m,\u001b[0m \u001b[0my_b\u001b[0m\u001b[0;34m)\u001b[0m\u001b[0;34m\u001b[0m\u001b[0;34m\u001b[0m\u001b[0m\n\u001b[0m\u001b[1;32m      8\u001b[0m \u001b[0;34m\u001b[0m\u001b[0m\n\u001b[1;32m      9\u001b[0m \u001b[0mplot_decision_regions\u001b[0m\u001b[0;34m(\u001b[0m\u001b[0mX_b\u001b[0m\u001b[0;34m,\u001b[0m \u001b[0my_b\u001b[0m\u001b[0;34m,\u001b[0m \u001b[0mclf\u001b[0m \u001b[0;34m=\u001b[0m \u001b[0mdtree\u001b[0m\u001b[0;34m)\u001b[0m\u001b[0;34m\u001b[0m\u001b[0;34m\u001b[0m\u001b[0m\n",
      "\u001b[0;32m/Library/Frameworks/Python.framework/Versions/3.9/lib/python3.9/site-packages/sklearn/tree/_classes.py\u001b[0m in \u001b[0;36mfit\u001b[0;34m(self, X, y, sample_weight, check_input, X_idx_sorted)\u001b[0m\n\u001b[1;32m    901\u001b[0m         \"\"\"\n\u001b[1;32m    902\u001b[0m \u001b[0;34m\u001b[0m\u001b[0m\n\u001b[0;32m--> 903\u001b[0;31m         super().fit(\n\u001b[0m\u001b[1;32m    904\u001b[0m             \u001b[0mX\u001b[0m\u001b[0;34m,\u001b[0m \u001b[0my\u001b[0m\u001b[0;34m,\u001b[0m\u001b[0;34m\u001b[0m\u001b[0;34m\u001b[0m\u001b[0m\n\u001b[1;32m    905\u001b[0m             \u001b[0msample_weight\u001b[0m\u001b[0;34m=\u001b[0m\u001b[0msample_weight\u001b[0m\u001b[0;34m,\u001b[0m\u001b[0;34m\u001b[0m\u001b[0;34m\u001b[0m\u001b[0m\n",
      "\u001b[0;32m/Library/Frameworks/Python.framework/Versions/3.9/lib/python3.9/site-packages/sklearn/tree/_classes.py\u001b[0m in \u001b[0;36mfit\u001b[0;34m(self, X, y, sample_weight, check_input, X_idx_sorted)\u001b[0m\n\u001b[1;32m    346\u001b[0m         \u001b[0;32mif\u001b[0m \u001b[0;32mnot\u001b[0m \u001b[0misinstance\u001b[0m\u001b[0;34m(\u001b[0m\u001b[0mcriterion\u001b[0m\u001b[0;34m,\u001b[0m \u001b[0mCriterion\u001b[0m\u001b[0;34m)\u001b[0m\u001b[0;34m:\u001b[0m\u001b[0;34m\u001b[0m\u001b[0;34m\u001b[0m\u001b[0m\n\u001b[1;32m    347\u001b[0m             \u001b[0;32mif\u001b[0m \u001b[0mis_classification\u001b[0m\u001b[0;34m:\u001b[0m\u001b[0;34m\u001b[0m\u001b[0;34m\u001b[0m\u001b[0m\n\u001b[0;32m--> 348\u001b[0;31m                 criterion = CRITERIA_CLF[self.criterion](self.n_outputs_,\n\u001b[0m\u001b[1;32m    349\u001b[0m                                                          self.n_classes_)\n\u001b[1;32m    350\u001b[0m             \u001b[0;32melse\u001b[0m\u001b[0;34m:\u001b[0m\u001b[0;34m\u001b[0m\u001b[0;34m\u001b[0m\u001b[0m\n",
      "\u001b[0;31mKeyError\u001b[0m: 3"
     ]
    },
    {
     "data": {
      "image/png": "[encoded data removed]",
      "text/plain": [
       "<Figure size 720x720 with 1 Axes>"
      ]
     },
     "metadata": {
      "needs_background": "light"
     },
     "output_type": "display_data"
    }
   ],
   "source": [
    "X_b =  X_train[:,[5,7]]\n",
    "y_b = y_train[:]\n",
    "y_b = y_b.to_numpy()\n",
    "\n",
    "plt.subplots(figsize = (10,10))\n",
    "dtree = DecisionTreeClassifier(3)\n",
    "dtree.fit(X_b, y_b)\n",
    "\n",
    "plot_decision_regions(X_b, y_b, clf = dtree)"
   ]
  },
  {
   "cell_type": "markdown",
   "metadata": {},
   "source": [
    "## Final Model: KNN 2\n",
    "In conclusion, the best model for this dataset that best predicted whether a customer would be dissatisfied or neutral about their experience with the airline is the K Nearest Neighbors Classification model with 2 nearest neighbors. It offered the best precision score without post-processing and keeping the recall and accuracy score high. "
   ]
  },
  {
   "cell_type": "code",
   "execution_count": 539,
   "metadata": {},
   "outputs": [
    {
     "name": "stdout",
     "output_type": "stream",
     "text": [
      "2 Nearest Neighbors Test Score:  0.864\n"
     ]
    }
   ],
   "source": [
    "# Train model\n",
    "knn_2 = KNeighborsClassifier(2).fit(X_train, y_train)\n",
    "knn_2_predict = knn_2.predict(X_test)\n",
    "\n",
    "print(\"2 Nearest Neighbors Test Score: \", knn_2.score(X_test, y_test))"
   ]
  },
  {
   "cell_type": "code",
   "execution_count": 541,
   "metadata": {},
   "outputs": [
    {
     "name": "stdout",
     "output_type": "stream",
     "text": [
      "                      precision    recall  f1-score   support\n",
      "\n",
      "           satisfied       0.84      0.89      0.87       123\n",
      "neutral/dissatisfied       0.89      0.83      0.86       127\n",
      "\n",
      "            accuracy                           0.86       250\n",
      "           macro avg       0.87      0.86      0.86       250\n",
      "        weighted avg       0.87      0.86      0.86       250\n",
      "\n"
     ]
    }
   ],
   "source": [
    "print(classification_report(y_test, knn_2_predict, target_names=[\"satisfied\", \"neutral/dissatisfied\"]))"
   ]
  }
 ],
 "metadata": {
  "kernelspec": {
   "display_name": "Python 3",
   "language": "python",
   "name": "python3"
  },
  "language_info": {
   "codemirror_mode": {
    "name": "ipython",
    "version": 3
   },
   "file_extension": ".py",
   "mimetype": "text/x-python",
   "name": "python",
   "nbconvert_exporter": "python",
   "pygments_lexer": "ipython3",
   "version": "3.9.6"
  }
 },
 "nbformat": 4,
 "nbformat_minor": 2
}
