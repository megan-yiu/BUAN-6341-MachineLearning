{
 "cells": [
  {
   "cell_type": "markdown",
   "id": "66a3febf",
   "metadata": {},
   "source": [
    "# Project 1\n",
    "\n",
    "### Dataset\n",
    "For two projects in this class, you will pick your datasets. To receive full credit for this part, your datasets should satisfy the following conditions: \n",
    "\n",
    "- At least 15 features (columns)\n",
    "- At least 1000 instances (rows)\n",
    "- At least two categorical/ordinal columns.\n",
    "- Between 5 to 10 percent missing values across the dataset. \n",
    "\n",
    "Remember that you should have two separate datasets one for classification and one for regression tasks. \n",
    "\n",
    "### Project Description:\n",
    "- Read data into Jupyter notebook, use pandas to import data into a data frame\n",
    "- Preprocess data: Explore data, check for missing data and apply data scaling. Justify the type of scaling used.\n",
    "\n",
    "### Regression Task:\n",
    "- Apply **all** the regression models you've learned so far. If your model has a scaling parameter(s) use Grid Search to find the best hyper-parameter. Use plots and graphs to help you get a better glimpse of the results. \n",
    "- Then use cross-validation to find average training and testing score. \n",
    "- Your submission should have at least the following regression models: KNN repressor, linear regression, Ridge, Lasso, polynomial regression, SVM both simple and with kernels (rbf, poly, linear), Decison Tree Regressor. \n",
    "- Finally, find the best regressor for this dataset and train your model on the entire dataset using the best parameters and predict the target values for the test_set.\n",
    "\n",
    "### Classification task:\n",
    "- Decide about a good evaluation strategy beside accuracy and justify your choice.\n",
    "- Apply **all** the classification models you've learned so far. If your model has a scaling parameter(s) use Grid Search to find the best hyper-parameter. Use plots and graphs to help you get a better glimpse of the results.\n",
    "- Your submission should have at least the following classification models: KNN classification, Logistic Regression, Linear Support Vector Machine, Kerenilzed Support Vector Machine (rbf, poly, and linear), Decision Tree Classifier. \n",
    "- Finally, find the best model for the classification dataset and train your model on the entire dataset using the best parameters and predict the target values for the test_set.\n",
    "\n",
    "### Deliverables:\n",
    "- Use markdown to provide inline comments for this project. \n",
    "- Use markdown to create a report for this project. \n",
    "- Your outputs should be clearly executed in the notebook i.e. we should not need to rerun the code to obtain the outputs. \n",
    "- Visualization highly encouraged. \n",
    "- If you are submitting two different files, then please only one group member submit both the files. If you submit two files separately from different accounts, it will be submitted as two different attempts.\n",
    "- If you are submitting two different files, then please follow below naming convention:\n",
    "    - ``Project1_Regression_GroupXX_Lastname1_Lastname2.ipynb``\n",
    "    - ``Project1_Classification_GroupXX_Lastname1_Lastname2.ipynb``\n",
    "  \n",
    "  then zip these two files and the csv files of the two datasets into one file and submit. \n",
    "- If you are submitting a single file, then please follow below naming convention:\n",
    "    - ``Project1_Both_GroupXX_Lastname1_Lastname2.ipynb\n",
    "    then zip these this file and the csv files of the two datasets into one file and submit. \n",
    "\n",
    "### Questions regarding the project:\n",
    "- Post your queries related to project on discussion board on e-learning. There is a high possibility that your classmate has also faced the same problem and knows the solution. This is an effort to encourage collaborative learning and also making all the information available to everyone. We will also answer queries there. "
   ]
  },
  {
   "cell_type": "markdown",
   "id": "8185d4a0",
   "metadata": {},
   "source": [
    "# Data Source"
   ]
  },
  {
   "cell_type": "markdown",
   "id": "0947be92",
   "metadata": {},
   "source": [
    "https://www.kaggle.com/arashnic/marketing-seris-customer-lifetime-value?select=squark_automotive_CLV_production_data.csv"
   ]
  },
  {
   "cell_type": "markdown",
   "id": "d6b2c7ef",
   "metadata": {},
   "source": [
    "Since this data had no null values, I decided to randomly implement null values in the data set"
   ]
  },
  {
   "cell_type": "markdown",
   "id": "77812bbd",
   "metadata": {},
   "source": [
    "# Importing Packages and calling in the Dataset"
   ]
  },
  {
   "cell_type": "code",
   "execution_count": 1,
   "id": "35db7d2d",
   "metadata": {},
   "outputs": [],
   "source": [
    "import numpy as np\n",
    "import pandas as pd\n",
    "import sklearn\n",
    "import matplotlib.pyplot as plt\n",
    "import seaborn as sns"
   ]
  },
  {
   "cell_type": "code",
   "execution_count": 2,
   "id": "0b4d3694",
   "metadata": {},
   "outputs": [],
   "source": [
    "df = pd.read_csv('insurance null.csv')"
   ]
  },
  {
   "cell_type": "markdown",
   "id": "35b9a940",
   "metadata": {},
   "source": [
    "# Data Exploration and Cleaning"
   ]
  },
  {
   "cell_type": "code",
   "execution_count": 3,
   "id": "57a93c07",
   "metadata": {},
   "outputs": [
    {
     "data": {
      "text/plain": [
       "['Customer',\n",
       " 'State',\n",
       " 'Response',\n",
       " 'Coverage',\n",
       " 'Education',\n",
       " 'Effective To Date',\n",
       " 'Gender',\n",
       " 'Location Code',\n",
       " 'Marital Status',\n",
       " 'Monthly Premium Auto',\n",
       " 'Months Since Last Claim',\n",
       " 'Months Since Policy Inception',\n",
       " 'Number of Open Complaints',\n",
       " 'Number of Policies',\n",
       " 'Policy Type',\n",
       " 'Policy',\n",
       " 'Renew Offer Type',\n",
       " 'Sales Channel',\n",
       " 'Total Claim Amount',\n",
       " 'Vehicle Class',\n",
       " 'Vehicle Size',\n",
       " 'EmploymentStatus',\n",
       " 'Income']"
      ]
     },
     "execution_count": 3,
     "metadata": {},
     "output_type": "execute_result"
    }
   ],
   "source": [
    "list(df)"
   ]
  },
  {
   "cell_type": "code",
   "execution_count": 4,
   "id": "8e52f1cc",
   "metadata": {},
   "outputs": [
    {
     "name": "stdout",
     "output_type": "stream",
     "text": [
      "<class 'pandas.core.frame.DataFrame'>\n",
      "RangeIndex: 1035 entries, 0 to 1034\n",
      "Data columns (total 23 columns):\n",
      " #   Column                         Non-Null Count  Dtype  \n",
      "---  ------                         --------------  -----  \n",
      " 0   Customer                       1032 non-null   object \n",
      " 1   State                          1030 non-null   object \n",
      " 2   Response                       1033 non-null   object \n",
      " 3   Coverage                       1028 non-null   object \n",
      " 4   Education                      1028 non-null   object \n",
      " 5   Effective To Date              1031 non-null   object \n",
      " 6   Gender                         1031 non-null   object \n",
      " 7   Location Code                  1028 non-null   object \n",
      " 8   Marital Status                 1035 non-null   object \n",
      " 9   Monthly Premium Auto           1031 non-null   float64\n",
      " 10  Months Since Last Claim        1030 non-null   float64\n",
      " 11  Months Since Policy Inception  1033 non-null   float64\n",
      " 12  Number of Open Complaints      1032 non-null   float64\n",
      " 13  Number of Policies             1033 non-null   float64\n",
      " 14  Policy Type                    1031 non-null   object \n",
      " 15  Policy                         1025 non-null   object \n",
      " 16  Renew Offer Type               1031 non-null   object \n",
      " 17  Sales Channel                  1034 non-null   object \n",
      " 18  Total Claim Amount             1033 non-null   float64\n",
      " 19  Vehicle Class                  1029 non-null   object \n",
      " 20  Vehicle Size                   1031 non-null   object \n",
      " 21  EmploymentStatus               1035 non-null   object \n",
      " 22  Income                         1035 non-null   int64  \n",
      "dtypes: float64(6), int64(1), object(16)\n",
      "memory usage: 186.1+ KB\n"
     ]
    }
   ],
   "source": [
    "df.info()"
   ]
  },
  {
   "cell_type": "code",
   "execution_count": 5,
   "id": "f8109c6e",
   "metadata": {},
   "outputs": [
    {
     "data": {
      "text/plain": [
       "(1035, 23)"
      ]
     },
     "execution_count": 5,
     "metadata": {},
     "output_type": "execute_result"
    }
   ],
   "source": [
    "df.shape"
   ]
  },
  {
   "cell_type": "markdown",
   "id": "fb92acad",
   "metadata": {},
   "source": [
    "Our dataset has 1035 rows and 23 columns preprocessing"
   ]
  },
  {
   "cell_type": "code",
   "execution_count": 6,
   "id": "4b318c70",
   "metadata": {},
   "outputs": [
    {
     "name": "stdout",
     "output_type": "stream",
     "text": [
      "We have a 8.31% of missing values in our dataset\n"
     ]
    }
   ],
   "source": [
    "print(f'We have a {(df.isnull().sum().sum() * 100 / len(df)):.2f}% of missing values in our dataset') "
   ]
  },
  {
   "cell_type": "markdown",
   "id": "82012182",
   "metadata": {},
   "source": [
    "As we can see that we have some missing values in our data set that we will need to clean before we start our modeling"
   ]
  },
  {
   "cell_type": "code",
   "execution_count": 7,
   "id": "8e47cd34",
   "metadata": {},
   "outputs": [
    {
     "data": {
      "text/html": [
       "<div>\n",
       "<style scoped>\n",
       "    .dataframe tbody tr th:only-of-type {\n",
       "        vertical-align: middle;\n",
       "    }\n",
       "\n",
       "    .dataframe tbody tr th {\n",
       "        vertical-align: top;\n",
       "    }\n",
       "\n",
       "    .dataframe thead th {\n",
       "        text-align: right;\n",
       "    }\n",
       "</style>\n",
       "<table border=\"1\" class=\"dataframe\">\n",
       "  <thead>\n",
       "    <tr style=\"text-align: right;\">\n",
       "      <th></th>\n",
       "      <th>Customer</th>\n",
       "      <th>State</th>\n",
       "      <th>Response</th>\n",
       "      <th>Coverage</th>\n",
       "      <th>Education</th>\n",
       "      <th>Effective To Date</th>\n",
       "      <th>Gender</th>\n",
       "      <th>Location Code</th>\n",
       "      <th>Marital Status</th>\n",
       "      <th>Monthly Premium Auto</th>\n",
       "      <th>...</th>\n",
       "      <th>Number of Policies</th>\n",
       "      <th>Policy Type</th>\n",
       "      <th>Policy</th>\n",
       "      <th>Renew Offer Type</th>\n",
       "      <th>Sales Channel</th>\n",
       "      <th>Total Claim Amount</th>\n",
       "      <th>Vehicle Class</th>\n",
       "      <th>Vehicle Size</th>\n",
       "      <th>EmploymentStatus</th>\n",
       "      <th>Income</th>\n",
       "    </tr>\n",
       "  </thead>\n",
       "  <tbody>\n",
       "    <tr>\n",
       "      <th>0</th>\n",
       "      <td>FH77504</td>\n",
       "      <td>California</td>\n",
       "      <td>Yes</td>\n",
       "      <td>Premium</td>\n",
       "      <td>Bachelor</td>\n",
       "      <td>1/24/2011</td>\n",
       "      <td>F</td>\n",
       "      <td>Suburban</td>\n",
       "      <td>Single</td>\n",
       "      <td>283.0</td>\n",
       "      <td>...</td>\n",
       "      <td>1.0</td>\n",
       "      <td>Personal Auto</td>\n",
       "      <td>Personal L3</td>\n",
       "      <td>Offer2</td>\n",
       "      <td>Agent</td>\n",
       "      <td>1358.400000</td>\n",
       "      <td>Luxury Car</td>\n",
       "      <td>Medsize</td>\n",
       "      <td>Employed</td>\n",
       "      <td>51643</td>\n",
       "    </tr>\n",
       "    <tr>\n",
       "      <th>1</th>\n",
       "      <td>XK87182</td>\n",
       "      <td>Oregon</td>\n",
       "      <td>No</td>\n",
       "      <td>Premium</td>\n",
       "      <td>College</td>\n",
       "      <td>1/25/2011</td>\n",
       "      <td>F</td>\n",
       "      <td>Urban</td>\n",
       "      <td>Married</td>\n",
       "      <td>113.0</td>\n",
       "      <td>...</td>\n",
       "      <td>1.0</td>\n",
       "      <td>Personal Auto</td>\n",
       "      <td>Personal L3</td>\n",
       "      <td>Offer1</td>\n",
       "      <td>Agent</td>\n",
       "      <td>476.385575</td>\n",
       "      <td>Four-Door Car</td>\n",
       "      <td>Medsize</td>\n",
       "      <td>Employed</td>\n",
       "      <td>46402</td>\n",
       "    </tr>\n",
       "    <tr>\n",
       "      <th>2</th>\n",
       "      <td>HB17438</td>\n",
       "      <td>Washington</td>\n",
       "      <td>No</td>\n",
       "      <td>Extended</td>\n",
       "      <td>Bachelor</td>\n",
       "      <td>2/21/2011</td>\n",
       "      <td>M</td>\n",
       "      <td>Urban</td>\n",
       "      <td>Married</td>\n",
       "      <td>132.0</td>\n",
       "      <td>...</td>\n",
       "      <td>3.0</td>\n",
       "      <td>Personal Auto</td>\n",
       "      <td>Personal L1</td>\n",
       "      <td>Offer4</td>\n",
       "      <td>Web</td>\n",
       "      <td>617.288574</td>\n",
       "      <td>SUV</td>\n",
       "      <td>Medsize</td>\n",
       "      <td>Employed</td>\n",
       "      <td>92044</td>\n",
       "    </tr>\n",
       "    <tr>\n",
       "      <th>3</th>\n",
       "      <td>DH18269</td>\n",
       "      <td>Arizona</td>\n",
       "      <td>No</td>\n",
       "      <td>Extended</td>\n",
       "      <td>College</td>\n",
       "      <td>1/13/2011</td>\n",
       "      <td>M</td>\n",
       "      <td>Suburban</td>\n",
       "      <td>Divorced</td>\n",
       "      <td>96.0</td>\n",
       "      <td>...</td>\n",
       "      <td>2.0</td>\n",
       "      <td>Personal Auto</td>\n",
       "      <td>Personal L3</td>\n",
       "      <td>Offer1</td>\n",
       "      <td>Branch</td>\n",
       "      <td>611.476898</td>\n",
       "      <td>Two-Door Car</td>\n",
       "      <td>Medsize</td>\n",
       "      <td>Medical Leave</td>\n",
       "      <td>16040</td>\n",
       "    </tr>\n",
       "    <tr>\n",
       "      <th>4</th>\n",
       "      <td>DP19820</td>\n",
       "      <td>Oregon</td>\n",
       "      <td>No</td>\n",
       "      <td>Extended</td>\n",
       "      <td>College</td>\n",
       "      <td>1/15/2011</td>\n",
       "      <td>M</td>\n",
       "      <td>Suburban</td>\n",
       "      <td>Single</td>\n",
       "      <td>135.0</td>\n",
       "      <td>...</td>\n",
       "      <td>2.0</td>\n",
       "      <td>Personal Auto</td>\n",
       "      <td>Personal L2</td>\n",
       "      <td>Offer2</td>\n",
       "      <td>Branch</td>\n",
       "      <td>980.528170</td>\n",
       "      <td>SUV</td>\n",
       "      <td>Small</td>\n",
       "      <td>Unemployed</td>\n",
       "      <td>0</td>\n",
       "    </tr>\n",
       "  </tbody>\n",
       "</table>\n",
       "<p>5 rows × 23 columns</p>\n",
       "</div>"
      ],
      "text/plain": [
       "  Customer       State Response  Coverage Education Effective To Date Gender  \\\n",
       "0  FH77504  California      Yes   Premium  Bachelor         1/24/2011      F   \n",
       "1  XK87182      Oregon       No   Premium   College         1/25/2011      F   \n",
       "2  HB17438  Washington       No  Extended  Bachelor         2/21/2011      M   \n",
       "3  DH18269     Arizona       No  Extended   College         1/13/2011      M   \n",
       "4  DP19820      Oregon       No  Extended   College         1/15/2011      M   \n",
       "\n",
       "  Location Code Marital Status  Monthly Premium Auto  ...  Number of Policies  \\\n",
       "0      Suburban         Single                 283.0  ...                 1.0   \n",
       "1         Urban        Married                 113.0  ...                 1.0   \n",
       "2         Urban        Married                 132.0  ...                 3.0   \n",
       "3      Suburban       Divorced                  96.0  ...                 2.0   \n",
       "4      Suburban         Single                 135.0  ...                 2.0   \n",
       "\n",
       "     Policy Type       Policy  Renew Offer Type Sales Channel  \\\n",
       "0  Personal Auto  Personal L3            Offer2         Agent   \n",
       "1  Personal Auto  Personal L3            Offer1         Agent   \n",
       "2  Personal Auto  Personal L1            Offer4           Web   \n",
       "3  Personal Auto  Personal L3            Offer1        Branch   \n",
       "4  Personal Auto  Personal L2            Offer2        Branch   \n",
       "\n",
       "  Total Claim Amount  Vehicle Class Vehicle Size  EmploymentStatus Income  \n",
       "0        1358.400000     Luxury Car      Medsize          Employed  51643  \n",
       "1         476.385575  Four-Door Car      Medsize          Employed  46402  \n",
       "2         617.288574            SUV      Medsize          Employed  92044  \n",
       "3         611.476898   Two-Door Car      Medsize     Medical Leave  16040  \n",
       "4         980.528170            SUV        Small        Unemployed      0  \n",
       "\n",
       "[5 rows x 23 columns]"
      ]
     },
     "execution_count": 7,
     "metadata": {},
     "output_type": "execute_result"
    }
   ],
   "source": [
    "df.head()"
   ]
  },
  {
   "cell_type": "code",
   "execution_count": 8,
   "id": "a89923f0",
   "metadata": {},
   "outputs": [],
   "source": [
    "df.drop(['Customer', 'State', 'Effective To Date', 'Income', 'Renew Offer Type', 'Policy' , 'Sales Channel'\n",
    "        ], axis = 1, inplace = True)"
   ]
  },
  {
   "cell_type": "markdown",
   "id": "857435e0",
   "metadata": {},
   "source": [
    "I dropped the following columns listed above. I decided to drop Customer since it was an identification and will not be needed when running our models. Effective to Date was dropped since it was a date. Income and State seemed redundent when predicting total claim amount. Employment status also indicates us salary. Policy Type has a subset that is much more descriptive and provides more insight so we can keep that instead of Policy Type. Sales channel is the way the policy was bought, not important for our task"
   ]
  },
  {
   "cell_type": "code",
   "execution_count": 9,
   "id": "e289398a",
   "metadata": {},
   "outputs": [
    {
     "data": {
      "text/plain": [
       "Response                         2\n",
       "Coverage                         7\n",
       "Education                        7\n",
       "Gender                           4\n",
       "Location Code                    7\n",
       "Marital Status                   0\n",
       "Monthly Premium Auto             4\n",
       "Months Since Last Claim          5\n",
       "Months Since Policy Inception    2\n",
       "Number of Open Complaints        3\n",
       "Number of Policies               2\n",
       "Policy Type                      4\n",
       "Total Claim Amount               2\n",
       "Vehicle Class                    6\n",
       "Vehicle Size                     4\n",
       "EmploymentStatus                 0\n",
       "dtype: int64"
      ]
     },
     "execution_count": 9,
     "metadata": {},
     "output_type": "execute_result"
    }
   ],
   "source": [
    "df.isnull().sum()"
   ]
  },
  {
   "cell_type": "code",
   "execution_count": 10,
   "id": "3a49d3f4",
   "metadata": {},
   "outputs": [
    {
     "data": {
      "text/plain": [
       "No     900\n",
       "Yes    135\n",
       "Name: Response, dtype: int64"
      ]
     },
     "execution_count": 10,
     "metadata": {},
     "output_type": "execute_result"
    }
   ],
   "source": [
    "df['Response'].fillna(df['Response'].mode()[0], inplace = True)\n",
    "df['Response'].value_counts()"
   ]
  },
  {
   "cell_type": "code",
   "execution_count": 11,
   "id": "421ac1da",
   "metadata": {},
   "outputs": [
    {
     "data": {
      "text/plain": [
       "Basic       639\n",
       "Extended    300\n",
       "Premium      96\n",
       "Name: Coverage, dtype: int64"
      ]
     },
     "execution_count": 11,
     "metadata": {},
     "output_type": "execute_result"
    }
   ],
   "source": [
    "df['Coverage'].fillna(df['Coverage'].mode()[0], inplace = True)\n",
    "df['Coverage'].value_counts()"
   ]
  },
  {
   "cell_type": "code",
   "execution_count": 12,
   "id": "9134ca21",
   "metadata": {},
   "outputs": [
    {
     "data": {
      "text/plain": [
       "Bachelor                323\n",
       "College                 311\n",
       "High School or Below    280\n",
       "Master                   92\n",
       "Doctor                   29\n",
       "Name: Education, dtype: int64"
      ]
     },
     "execution_count": 12,
     "metadata": {},
     "output_type": "execute_result"
    }
   ],
   "source": [
    "df['Education'].fillna(df['Education'].mode()[0], inplace = True)\n",
    "df['Education'].value_counts()"
   ]
  },
  {
   "cell_type": "code",
   "execution_count": 13,
   "id": "dcd01609",
   "metadata": {},
   "outputs": [
    {
     "data": {
      "text/plain": [
       "M    544\n",
       "F    491\n",
       "Name: Gender, dtype: int64"
      ]
     },
     "execution_count": 13,
     "metadata": {},
     "output_type": "execute_result"
    }
   ],
   "source": [
    "df['Gender'].fillna(df['Gender'].mode()[0], inplace = True)\n",
    "df['Gender'].value_counts()"
   ]
  },
  {
   "cell_type": "code",
   "execution_count": 14,
   "id": "1f62a1ee",
   "metadata": {},
   "outputs": [
    {
     "data": {
      "text/plain": [
       "Suburban    681\n",
       "Urban       179\n",
       "Rural       175\n",
       "Name: Location Code, dtype: int64"
      ]
     },
     "execution_count": 14,
     "metadata": {},
     "output_type": "execute_result"
    }
   ],
   "source": [
    "df['Location Code'].fillna(df['Location Code'].mode()[0], inplace = True)\n",
    "df['Location Code'].value_counts()"
   ]
  },
  {
   "cell_type": "code",
   "execution_count": 15,
   "id": "549c9cf2",
   "metadata": {},
   "outputs": [],
   "source": [
    "df['Monthly Premium Auto'].fillna(df['Monthly Premium Auto'].mean(), inplace = True)"
   ]
  },
  {
   "cell_type": "code",
   "execution_count": 16,
   "id": "af373c24",
   "metadata": {},
   "outputs": [],
   "source": [
    "df['Months Since Last Claim'].fillna(df['Months Since Last Claim'].mean(), inplace = True)"
   ]
  },
  {
   "cell_type": "code",
   "execution_count": 17,
   "id": "b4184087",
   "metadata": {},
   "outputs": [],
   "source": [
    "df['Months Since Policy Inception'].fillna(df['Months Since Policy Inception'].mean(), inplace = True)"
   ]
  },
  {
   "cell_type": "code",
   "execution_count": 18,
   "id": "848bf7bd",
   "metadata": {},
   "outputs": [],
   "source": [
    "df['Number of Open Complaints'].fillna(df['Number of Open Complaints'].mean(), inplace = True)"
   ]
  },
  {
   "cell_type": "code",
   "execution_count": 19,
   "id": "898d02f6",
   "metadata": {},
   "outputs": [],
   "source": [
    "df['Number of Policies'].fillna(df['Number of Policies'].mean(), inplace = True)"
   ]
  },
  {
   "cell_type": "code",
   "execution_count": 20,
   "id": "8cbda869",
   "metadata": {},
   "outputs": [
    {
     "data": {
      "text/plain": [
       "Personal Auto     738\n",
       "Corporate Auto    283\n",
       "Special Auto       14\n",
       "Name: Policy Type, dtype: int64"
      ]
     },
     "execution_count": 20,
     "metadata": {},
     "output_type": "execute_result"
    }
   ],
   "source": [
    "df['Policy Type'].fillna(df['Policy Type'].mode()[0], inplace = True)\n",
    "df['Policy Type'].value_counts()"
   ]
  },
  {
   "cell_type": "code",
   "execution_count": 21,
   "id": "80ac3667",
   "metadata": {},
   "outputs": [],
   "source": [
    "df['Total Claim Amount'].fillna(df['Total Claim Amount'].mean(), inplace = True)"
   ]
  },
  {
   "cell_type": "code",
   "execution_count": 22,
   "id": "7df48231",
   "metadata": {},
   "outputs": [
    {
     "data": {
      "text/plain": [
       "Four-Door Car    513\n",
       "SUV              230\n",
       "Two-Door Car     209\n",
       "Sports Car        48\n",
       "Luxury Car        18\n",
       "Luxury SUV        17\n",
       "Name: Vehicle Class, dtype: int64"
      ]
     },
     "execution_count": 22,
     "metadata": {},
     "output_type": "execute_result"
    }
   ],
   "source": [
    "df['Vehicle Class'].fillna(df['Vehicle Class'].mode()[0], inplace = True)\n",
    "df['Vehicle Class'].value_counts()"
   ]
  },
  {
   "cell_type": "code",
   "execution_count": 23,
   "id": "43706524",
   "metadata": {},
   "outputs": [
    {
     "data": {
      "text/plain": [
       "Medsize    755\n",
       "Small      178\n",
       "Large      102\n",
       "Name: Vehicle Size, dtype: int64"
      ]
     },
     "execution_count": 23,
     "metadata": {},
     "output_type": "execute_result"
    }
   ],
   "source": [
    "df['Vehicle Size'].fillna(df['Vehicle Size'].mode()[0], inplace = True)\n",
    "df['Vehicle Size'].value_counts()"
   ]
  },
  {
   "cell_type": "code",
   "execution_count": 24,
   "id": "1e4e9777",
   "metadata": {},
   "outputs": [
    {
     "data": {
      "text/plain": [
       "Response                         0\n",
       "Coverage                         0\n",
       "Education                        0\n",
       "Gender                           0\n",
       "Location Code                    0\n",
       "Marital Status                   0\n",
       "Monthly Premium Auto             0\n",
       "Months Since Last Claim          0\n",
       "Months Since Policy Inception    0\n",
       "Number of Open Complaints        0\n",
       "Number of Policies               0\n",
       "Policy Type                      0\n",
       "Total Claim Amount               0\n",
       "Vehicle Class                    0\n",
       "Vehicle Size                     0\n",
       "EmploymentStatus                 0\n",
       "dtype: int64"
      ]
     },
     "execution_count": 24,
     "metadata": {},
     "output_type": "execute_result"
    }
   ],
   "source": [
    "df.isnull().sum()"
   ]
  },
  {
   "cell_type": "markdown",
   "id": "3deda8b3",
   "metadata": {},
   "source": [
    "Time to mask our variables or create dummy variables from our data set"
   ]
  },
  {
   "cell_type": "code",
   "execution_count": 25,
   "id": "a9f90858",
   "metadata": {},
   "outputs": [],
   "source": [
    "df['Response'] = df['Response'].map({'No':1, 'Yes': 0}).astype(int)"
   ]
  },
  {
   "cell_type": "code",
   "execution_count": 26,
   "id": "cac8c733",
   "metadata": {},
   "outputs": [],
   "source": [
    "df['Coverage'] = df['Coverage'].map({'Basic':0, 'Extended': 1, 'Premium':2}).astype(int)"
   ]
  },
  {
   "cell_type": "code",
   "execution_count": 27,
   "id": "afa07331",
   "metadata": {},
   "outputs": [],
   "source": [
    "df['Education'] = df['Education'].map({'Doctor':4, 'Master':3, 'Bachelor':2, 'College':1, 'High School or Below':0}).astype(int)"
   ]
  },
  {
   "cell_type": "code",
   "execution_count": 28,
   "id": "fc20f999",
   "metadata": {},
   "outputs": [],
   "source": [
    "df['Gender'] = df['Gender'].map({'M':1, 'F': 0}).astype(int)"
   ]
  },
  {
   "cell_type": "code",
   "execution_count": 29,
   "id": "f276314c",
   "metadata": {},
   "outputs": [
    {
     "data": {
      "image/png": "[encoded data removed]",
      "text/plain": [
       "<Figure size 1080x360 with 1 Axes>"
      ]
     },
     "metadata": {
      "needs_background": "light"
     },
     "output_type": "display_data"
    }
   ],
   "source": [
    "fig = plt.figure(figsize = (15, 5))\n",
    "plt.bar(df['Policy Type'], df['Monthly Premium Auto'], color ='pink',\n",
    "        width = 0.4)\n",
    "plt.xlabel(\"Policy\")\n",
    "plt.ylabel(\"Price\")\n",
    "plt.title(\"Policy Price\")\n",
    "plt.show()"
   ]
  },
  {
   "cell_type": "markdown",
   "id": "f2bbfcf0",
   "metadata": {},
   "source": [
    "Since we have a clear ranking system with our policy types, we can map it such as"
   ]
  },
  {
   "cell_type": "code",
   "execution_count": 30,
   "id": "a8f8000c",
   "metadata": {},
   "outputs": [],
   "source": [
    "df['Policy Type'] = df['Policy Type'].map({'Personal Auto':2, 'Corporate Auto':1, 'Special Auto':0}).astype(int)"
   ]
  },
  {
   "cell_type": "markdown",
   "id": "0987c493",
   "metadata": {},
   "source": [
    "There is a clear ranking system with our vehicle class when looking at the monthly price so we should map these values"
   ]
  },
  {
   "cell_type": "code",
   "execution_count": 31,
   "id": "e76e50c9",
   "metadata": {},
   "outputs": [],
   "source": [
    "df2 = df.groupby('Vehicle Class').agg({'Monthly Premium Auto':['mean']})"
   ]
  },
  {
   "cell_type": "code",
   "execution_count": 32,
   "id": "7458cf0d",
   "metadata": {},
   "outputs": [
    {
     "data": {
      "text/plain": [
       "<Figure size 1080x360 with 0 Axes>"
      ]
     },
     "metadata": {},
     "output_type": "display_data"
    },
    {
     "data": {
      "image/png": "[encoded data removed]",
      "text/plain": [
       "<Figure size 432x288 with 1 Axes>"
      ]
     },
     "metadata": {
      "needs_background": "light"
     },
     "output_type": "display_data"
    }
   ],
   "source": [
    "fig = plt.figure(figsize = (15, 5))\n",
    "df2.plot(kind='bar', color = 'r')\n",
    "plt.tight_layout()\n",
    "plt.show()\n",
    "plt.clf()\n",
    "plt.close()"
   ]
  },
  {
   "cell_type": "code",
   "execution_count": 33,
   "id": "ddbba77c",
   "metadata": {},
   "outputs": [],
   "source": [
    "df['Vehicle Class'] = df['Vehicle Class'].map({'Luxury Car':5, 'Luxury SUV': 4, 'SUV':3, 'Sports Car':2, 'Two-Door Car':1, 'Four-Door Car':0}).astype(int)"
   ]
  },
  {
   "cell_type": "code",
   "execution_count": 34,
   "id": "55d64d44",
   "metadata": {},
   "outputs": [
    {
     "data": {
      "text/html": [
       "<div>\n",
       "<style scoped>\n",
       "    .dataframe tbody tr th:only-of-type {\n",
       "        vertical-align: middle;\n",
       "    }\n",
       "\n",
       "    .dataframe tbody tr th {\n",
       "        vertical-align: top;\n",
       "    }\n",
       "\n",
       "    .dataframe thead tr th {\n",
       "        text-align: left;\n",
       "    }\n",
       "\n",
       "    .dataframe thead tr:last-of-type th {\n",
       "        text-align: right;\n",
       "    }\n",
       "</style>\n",
       "<table border=\"1\" class=\"dataframe\">\n",
       "  <thead>\n",
       "    <tr>\n",
       "      <th></th>\n",
       "      <th>Monthly Premium Auto</th>\n",
       "    </tr>\n",
       "    <tr>\n",
       "      <th></th>\n",
       "      <th>mean</th>\n",
       "    </tr>\n",
       "    <tr>\n",
       "      <th>EmploymentStatus</th>\n",
       "      <th></th>\n",
       "    </tr>\n",
       "  </thead>\n",
       "  <tbody>\n",
       "    <tr>\n",
       "      <th>Disabled</th>\n",
       "      <td>96.375000</td>\n",
       "    </tr>\n",
       "    <tr>\n",
       "      <th>Employed</th>\n",
       "      <td>92.674737</td>\n",
       "    </tr>\n",
       "    <tr>\n",
       "      <th>Medical Leave</th>\n",
       "      <td>87.535714</td>\n",
       "    </tr>\n",
       "    <tr>\n",
       "      <th>Retired</th>\n",
       "      <td>89.444444</td>\n",
       "    </tr>\n",
       "    <tr>\n",
       "      <th>Unemployed</th>\n",
       "      <td>98.148551</td>\n",
       "    </tr>\n",
       "  </tbody>\n",
       "</table>\n",
       "</div>"
      ],
      "text/plain": [
       "                 Monthly Premium Auto\n",
       "                                 mean\n",
       "EmploymentStatus                     \n",
       "Disabled                    96.375000\n",
       "Employed                    92.674737\n",
       "Medical Leave               87.535714\n",
       "Retired                     89.444444\n",
       "Unemployed                  98.148551"
      ]
     },
     "execution_count": 34,
     "metadata": {},
     "output_type": "execute_result"
    }
   ],
   "source": [
    "df.groupby('EmploymentStatus').agg({'Monthly Premium Auto':['mean']})"
   ]
  },
  {
   "cell_type": "markdown",
   "id": "d90797eb",
   "metadata": {},
   "source": [
    "Nothing really here to tell us a trend if employment status has a ranking system, we should dummy variable these"
   ]
  },
  {
   "cell_type": "code",
   "execution_count": 35,
   "id": "46a24488",
   "metadata": {},
   "outputs": [],
   "source": [
    "cols = pd.get_dummies(df['EmploymentStatus'], prefix= 'EmploymentStatus')\n",
    "df[cols.columns] = cols\n",
    "df.drop('EmploymentStatus', axis = 1, inplace = True)"
   ]
  },
  {
   "cell_type": "code",
   "execution_count": 36,
   "id": "9ecbecb3",
   "metadata": {},
   "outputs": [],
   "source": [
    "cols = pd.get_dummies(df['Location Code'], prefix= 'Location Code')\n",
    "df[cols.columns] = cols\n",
    "df.drop('Location Code', axis = 1, inplace = True)"
   ]
  },
  {
   "cell_type": "code",
   "execution_count": 37,
   "id": "f554e9af",
   "metadata": {},
   "outputs": [],
   "source": [
    "cols = pd.get_dummies(df['Vehicle Size'], prefix= 'Vehicle Size')\n",
    "df[cols.columns] = cols\n",
    "df.drop('Vehicle Size', axis = 1, inplace = True)"
   ]
  },
  {
   "cell_type": "code",
   "execution_count": 38,
   "id": "e93f7f03",
   "metadata": {},
   "outputs": [],
   "source": [
    "cols = pd.get_dummies(df['Marital Status'], prefix= 'Marital Status')\n",
    "df[cols.columns] = cols\n",
    "df.drop('Marital Status', axis = 1, inplace = True)"
   ]
  },
  {
   "cell_type": "code",
   "execution_count": 39,
   "id": "bd4cd968",
   "metadata": {},
   "outputs": [
    {
     "data": {
      "text/html": [
       "<div>\n",
       "<style scoped>\n",
       "    .dataframe tbody tr th:only-of-type {\n",
       "        vertical-align: middle;\n",
       "    }\n",
       "\n",
       "    .dataframe tbody tr th {\n",
       "        vertical-align: top;\n",
       "    }\n",
       "\n",
       "    .dataframe thead th {\n",
       "        text-align: right;\n",
       "    }\n",
       "</style>\n",
       "<table border=\"1\" class=\"dataframe\">\n",
       "  <thead>\n",
       "    <tr style=\"text-align: right;\">\n",
       "      <th></th>\n",
       "      <th>Response</th>\n",
       "      <th>Coverage</th>\n",
       "      <th>Education</th>\n",
       "      <th>Gender</th>\n",
       "      <th>Monthly Premium Auto</th>\n",
       "      <th>Months Since Last Claim</th>\n",
       "      <th>Months Since Policy Inception</th>\n",
       "      <th>Number of Open Complaints</th>\n",
       "      <th>Number of Policies</th>\n",
       "      <th>Policy Type</th>\n",
       "      <th>...</th>\n",
       "      <th>EmploymentStatus_Unemployed</th>\n",
       "      <th>Location Code_Rural</th>\n",
       "      <th>Location Code_Suburban</th>\n",
       "      <th>Location Code_Urban</th>\n",
       "      <th>Vehicle Size_Large</th>\n",
       "      <th>Vehicle Size_Medsize</th>\n",
       "      <th>Vehicle Size_Small</th>\n",
       "      <th>Marital Status_Divorced</th>\n",
       "      <th>Marital Status_Married</th>\n",
       "      <th>Marital Status_Single</th>\n",
       "    </tr>\n",
       "  </thead>\n",
       "  <tbody>\n",
       "    <tr>\n",
       "      <th>0</th>\n",
       "      <td>0</td>\n",
       "      <td>2</td>\n",
       "      <td>2</td>\n",
       "      <td>0</td>\n",
       "      <td>283.0</td>\n",
       "      <td>16.0</td>\n",
       "      <td>43.0</td>\n",
       "      <td>0.000000</td>\n",
       "      <td>1.0</td>\n",
       "      <td>2</td>\n",
       "      <td>...</td>\n",
       "      <td>0</td>\n",
       "      <td>0</td>\n",
       "      <td>1</td>\n",
       "      <td>0</td>\n",
       "      <td>0</td>\n",
       "      <td>1</td>\n",
       "      <td>0</td>\n",
       "      <td>0</td>\n",
       "      <td>0</td>\n",
       "      <td>1</td>\n",
       "    </tr>\n",
       "    <tr>\n",
       "      <th>1</th>\n",
       "      <td>1</td>\n",
       "      <td>2</td>\n",
       "      <td>1</td>\n",
       "      <td>0</td>\n",
       "      <td>113.0</td>\n",
       "      <td>7.0</td>\n",
       "      <td>2.0</td>\n",
       "      <td>0.000000</td>\n",
       "      <td>1.0</td>\n",
       "      <td>2</td>\n",
       "      <td>...</td>\n",
       "      <td>0</td>\n",
       "      <td>0</td>\n",
       "      <td>0</td>\n",
       "      <td>1</td>\n",
       "      <td>0</td>\n",
       "      <td>1</td>\n",
       "      <td>0</td>\n",
       "      <td>0</td>\n",
       "      <td>1</td>\n",
       "      <td>0</td>\n",
       "    </tr>\n",
       "    <tr>\n",
       "      <th>2</th>\n",
       "      <td>1</td>\n",
       "      <td>1</td>\n",
       "      <td>2</td>\n",
       "      <td>1</td>\n",
       "      <td>132.0</td>\n",
       "      <td>7.0</td>\n",
       "      <td>77.0</td>\n",
       "      <td>0.000000</td>\n",
       "      <td>3.0</td>\n",
       "      <td>2</td>\n",
       "      <td>...</td>\n",
       "      <td>0</td>\n",
       "      <td>0</td>\n",
       "      <td>0</td>\n",
       "      <td>1</td>\n",
       "      <td>0</td>\n",
       "      <td>1</td>\n",
       "      <td>0</td>\n",
       "      <td>0</td>\n",
       "      <td>1</td>\n",
       "      <td>0</td>\n",
       "    </tr>\n",
       "    <tr>\n",
       "      <th>3</th>\n",
       "      <td>1</td>\n",
       "      <td>1</td>\n",
       "      <td>1</td>\n",
       "      <td>1</td>\n",
       "      <td>96.0</td>\n",
       "      <td>29.0</td>\n",
       "      <td>93.0</td>\n",
       "      <td>0.000000</td>\n",
       "      <td>2.0</td>\n",
       "      <td>2</td>\n",
       "      <td>...</td>\n",
       "      <td>0</td>\n",
       "      <td>0</td>\n",
       "      <td>1</td>\n",
       "      <td>0</td>\n",
       "      <td>0</td>\n",
       "      <td>1</td>\n",
       "      <td>0</td>\n",
       "      <td>1</td>\n",
       "      <td>0</td>\n",
       "      <td>0</td>\n",
       "    </tr>\n",
       "    <tr>\n",
       "      <th>4</th>\n",
       "      <td>1</td>\n",
       "      <td>1</td>\n",
       "      <td>1</td>\n",
       "      <td>1</td>\n",
       "      <td>135.0</td>\n",
       "      <td>12.0</td>\n",
       "      <td>84.0</td>\n",
       "      <td>0.343992</td>\n",
       "      <td>2.0</td>\n",
       "      <td>2</td>\n",
       "      <td>...</td>\n",
       "      <td>1</td>\n",
       "      <td>0</td>\n",
       "      <td>1</td>\n",
       "      <td>0</td>\n",
       "      <td>0</td>\n",
       "      <td>0</td>\n",
       "      <td>1</td>\n",
       "      <td>0</td>\n",
       "      <td>0</td>\n",
       "      <td>1</td>\n",
       "    </tr>\n",
       "    <tr>\n",
       "      <th>...</th>\n",
       "      <td>...</td>\n",
       "      <td>...</td>\n",
       "      <td>...</td>\n",
       "      <td>...</td>\n",
       "      <td>...</td>\n",
       "      <td>...</td>\n",
       "      <td>...</td>\n",
       "      <td>...</td>\n",
       "      <td>...</td>\n",
       "      <td>...</td>\n",
       "      <td>...</td>\n",
       "      <td>...</td>\n",
       "      <td>...</td>\n",
       "      <td>...</td>\n",
       "      <td>...</td>\n",
       "      <td>...</td>\n",
       "      <td>...</td>\n",
       "      <td>...</td>\n",
       "      <td>...</td>\n",
       "      <td>...</td>\n",
       "      <td>...</td>\n",
       "    </tr>\n",
       "    <tr>\n",
       "      <th>1030</th>\n",
       "      <td>1</td>\n",
       "      <td>0</td>\n",
       "      <td>2</td>\n",
       "      <td>1</td>\n",
       "      <td>73.0</td>\n",
       "      <td>18.0</td>\n",
       "      <td>89.0</td>\n",
       "      <td>0.000000</td>\n",
       "      <td>2.0</td>\n",
       "      <td>2</td>\n",
       "      <td>...</td>\n",
       "      <td>0</td>\n",
       "      <td>0</td>\n",
       "      <td>0</td>\n",
       "      <td>1</td>\n",
       "      <td>0</td>\n",
       "      <td>1</td>\n",
       "      <td>0</td>\n",
       "      <td>0</td>\n",
       "      <td>1</td>\n",
       "      <td>0</td>\n",
       "    </tr>\n",
       "    <tr>\n",
       "      <th>1031</th>\n",
       "      <td>0</td>\n",
       "      <td>1</td>\n",
       "      <td>1</td>\n",
       "      <td>0</td>\n",
       "      <td>79.0</td>\n",
       "      <td>14.0</td>\n",
       "      <td>28.0</td>\n",
       "      <td>0.000000</td>\n",
       "      <td>1.0</td>\n",
       "      <td>1</td>\n",
       "      <td>...</td>\n",
       "      <td>0</td>\n",
       "      <td>0</td>\n",
       "      <td>1</td>\n",
       "      <td>0</td>\n",
       "      <td>0</td>\n",
       "      <td>1</td>\n",
       "      <td>0</td>\n",
       "      <td>1</td>\n",
       "      <td>0</td>\n",
       "      <td>0</td>\n",
       "    </tr>\n",
       "    <tr>\n",
       "      <th>1032</th>\n",
       "      <td>1</td>\n",
       "      <td>1</td>\n",
       "      <td>2</td>\n",
       "      <td>1</td>\n",
       "      <td>85.0</td>\n",
       "      <td>9.0</td>\n",
       "      <td>37.0</td>\n",
       "      <td>3.000000</td>\n",
       "      <td>2.0</td>\n",
       "      <td>1</td>\n",
       "      <td>...</td>\n",
       "      <td>1</td>\n",
       "      <td>0</td>\n",
       "      <td>1</td>\n",
       "      <td>0</td>\n",
       "      <td>0</td>\n",
       "      <td>1</td>\n",
       "      <td>0</td>\n",
       "      <td>0</td>\n",
       "      <td>0</td>\n",
       "      <td>1</td>\n",
       "    </tr>\n",
       "    <tr>\n",
       "      <th>1033</th>\n",
       "      <td>1</td>\n",
       "      <td>1</td>\n",
       "      <td>1</td>\n",
       "      <td>1</td>\n",
       "      <td>96.0</td>\n",
       "      <td>34.0</td>\n",
       "      <td>3.0</td>\n",
       "      <td>0.000000</td>\n",
       "      <td>3.0</td>\n",
       "      <td>2</td>\n",
       "      <td>...</td>\n",
       "      <td>0</td>\n",
       "      <td>0</td>\n",
       "      <td>1</td>\n",
       "      <td>0</td>\n",
       "      <td>1</td>\n",
       "      <td>0</td>\n",
       "      <td>0</td>\n",
       "      <td>0</td>\n",
       "      <td>1</td>\n",
       "      <td>0</td>\n",
       "    </tr>\n",
       "    <tr>\n",
       "      <th>1034</th>\n",
       "      <td>1</td>\n",
       "      <td>1</td>\n",
       "      <td>1</td>\n",
       "      <td>1</td>\n",
       "      <td>77.0</td>\n",
       "      <td>3.0</td>\n",
       "      <td>90.0</td>\n",
       "      <td>0.000000</td>\n",
       "      <td>1.0</td>\n",
       "      <td>1</td>\n",
       "      <td>...</td>\n",
       "      <td>1</td>\n",
       "      <td>0</td>\n",
       "      <td>1</td>\n",
       "      <td>0</td>\n",
       "      <td>0</td>\n",
       "      <td>1</td>\n",
       "      <td>0</td>\n",
       "      <td>0</td>\n",
       "      <td>0</td>\n",
       "      <td>1</td>\n",
       "    </tr>\n",
       "  </tbody>\n",
       "</table>\n",
       "<p>1035 rows × 26 columns</p>\n",
       "</div>"
      ],
      "text/plain": [
       "      Response  Coverage  Education  Gender  Monthly Premium Auto  \\\n",
       "0            0         2          2       0                 283.0   \n",
       "1            1         2          1       0                 113.0   \n",
       "2            1         1          2       1                 132.0   \n",
       "3            1         1          1       1                  96.0   \n",
       "4            1         1          1       1                 135.0   \n",
       "...        ...       ...        ...     ...                   ...   \n",
       "1030         1         0          2       1                  73.0   \n",
       "1031         0         1          1       0                  79.0   \n",
       "1032         1         1          2       1                  85.0   \n",
       "1033         1         1          1       1                  96.0   \n",
       "1034         1         1          1       1                  77.0   \n",
       "\n",
       "      Months Since Last Claim  Months Since Policy Inception  \\\n",
       "0                        16.0                           43.0   \n",
       "1                         7.0                            2.0   \n",
       "2                         7.0                           77.0   \n",
       "3                        29.0                           93.0   \n",
       "4                        12.0                           84.0   \n",
       "...                       ...                            ...   \n",
       "1030                     18.0                           89.0   \n",
       "1031                     14.0                           28.0   \n",
       "1032                      9.0                           37.0   \n",
       "1033                     34.0                            3.0   \n",
       "1034                      3.0                           90.0   \n",
       "\n",
       "      Number of Open Complaints  Number of Policies  Policy Type  ...  \\\n",
       "0                      0.000000                 1.0            2  ...   \n",
       "1                      0.000000                 1.0            2  ...   \n",
       "2                      0.000000                 3.0            2  ...   \n",
       "3                      0.000000                 2.0            2  ...   \n",
       "4                      0.343992                 2.0            2  ...   \n",
       "...                         ...                 ...          ...  ...   \n",
       "1030                   0.000000                 2.0            2  ...   \n",
       "1031                   0.000000                 1.0            1  ...   \n",
       "1032                   3.000000                 2.0            1  ...   \n",
       "1033                   0.000000                 3.0            2  ...   \n",
       "1034                   0.000000                 1.0            1  ...   \n",
       "\n",
       "      EmploymentStatus_Unemployed  Location Code_Rural  \\\n",
       "0                               0                    0   \n",
       "1                               0                    0   \n",
       "2                               0                    0   \n",
       "3                               0                    0   \n",
       "4                               1                    0   \n",
       "...                           ...                  ...   \n",
       "1030                            0                    0   \n",
       "1031                            0                    0   \n",
       "1032                            1                    0   \n",
       "1033                            0                    0   \n",
       "1034                            1                    0   \n",
       "\n",
       "      Location Code_Suburban  Location Code_Urban  Vehicle Size_Large  \\\n",
       "0                          1                    0                   0   \n",
       "1                          0                    1                   0   \n",
       "2                          0                    1                   0   \n",
       "3                          1                    0                   0   \n",
       "4                          1                    0                   0   \n",
       "...                      ...                  ...                 ...   \n",
       "1030                       0                    1                   0   \n",
       "1031                       1                    0                   0   \n",
       "1032                       1                    0                   0   \n",
       "1033                       1                    0                   1   \n",
       "1034                       1                    0                   0   \n",
       "\n",
       "      Vehicle Size_Medsize  Vehicle Size_Small  Marital Status_Divorced  \\\n",
       "0                        1                   0                        0   \n",
       "1                        1                   0                        0   \n",
       "2                        1                   0                        0   \n",
       "3                        1                   0                        1   \n",
       "4                        0                   1                        0   \n",
       "...                    ...                 ...                      ...   \n",
       "1030                     1                   0                        0   \n",
       "1031                     1                   0                        1   \n",
       "1032                     1                   0                        0   \n",
       "1033                     0                   0                        0   \n",
       "1034                     1                   0                        0   \n",
       "\n",
       "      Marital Status_Married  Marital Status_Single  \n",
       "0                          0                      1  \n",
       "1                          1                      0  \n",
       "2                          1                      0  \n",
       "3                          0                      0  \n",
       "4                          0                      1  \n",
       "...                      ...                    ...  \n",
       "1030                       1                      0  \n",
       "1031                       0                      0  \n",
       "1032                       0                      1  \n",
       "1033                       1                      0  \n",
       "1034                       0                      1  \n",
       "\n",
       "[1035 rows x 26 columns]"
      ]
     },
     "execution_count": 39,
     "metadata": {},
     "output_type": "execute_result"
    }
   ],
   "source": [
    "df"
   ]
  },
  {
   "cell_type": "code",
   "execution_count": 40,
   "id": "4444313e",
   "metadata": {},
   "outputs": [
    {
     "name": "stdout",
     "output_type": "stream",
     "text": [
      "<class 'pandas.core.frame.DataFrame'>\n",
      "RangeIndex: 1035 entries, 0 to 1034\n",
      "Data columns (total 26 columns):\n",
      " #   Column                          Non-Null Count  Dtype  \n",
      "---  ------                          --------------  -----  \n",
      " 0   Response                        1035 non-null   int32  \n",
      " 1   Coverage                        1035 non-null   int32  \n",
      " 2   Education                       1035 non-null   int32  \n",
      " 3   Gender                          1035 non-null   int32  \n",
      " 4   Monthly Premium Auto            1035 non-null   float64\n",
      " 5   Months Since Last Claim         1035 non-null   float64\n",
      " 6   Months Since Policy Inception   1035 non-null   float64\n",
      " 7   Number of Open Complaints       1035 non-null   float64\n",
      " 8   Number of Policies              1035 non-null   float64\n",
      " 9   Policy Type                     1035 non-null   int32  \n",
      " 10  Total Claim Amount              1035 non-null   float64\n",
      " 11  Vehicle Class                   1035 non-null   int32  \n",
      " 12  EmploymentStatus_Disabled       1035 non-null   uint8  \n",
      " 13  EmploymentStatus_Employed       1035 non-null   uint8  \n",
      " 14  EmploymentStatus_Medical Leave  1035 non-null   uint8  \n",
      " 15  EmploymentStatus_Retired        1035 non-null   uint8  \n",
      " 16  EmploymentStatus_Unemployed     1035 non-null   uint8  \n",
      " 17  Location Code_Rural             1035 non-null   uint8  \n",
      " 18  Location Code_Suburban          1035 non-null   uint8  \n",
      " 19  Location Code_Urban             1035 non-null   uint8  \n",
      " 20  Vehicle Size_Large              1035 non-null   uint8  \n",
      " 21  Vehicle Size_Medsize            1035 non-null   uint8  \n",
      " 22  Vehicle Size_Small              1035 non-null   uint8  \n",
      " 23  Marital Status_Divorced         1035 non-null   uint8  \n",
      " 24  Marital Status_Married          1035 non-null   uint8  \n",
      " 25  Marital Status_Single           1035 non-null   uint8  \n",
      "dtypes: float64(6), int32(6), uint8(14)\n",
      "memory usage: 87.0 KB\n"
     ]
    }
   ],
   "source": [
    "df.info()"
   ]
  },
  {
   "cell_type": "code",
   "execution_count": 41,
   "id": "2dfc56e0",
   "metadata": {},
   "outputs": [
    {
     "data": {
      "text/plain": [
       "(1035, 26)"
      ]
     },
     "execution_count": 41,
     "metadata": {},
     "output_type": "execute_result"
    }
   ],
   "source": [
    "df.shape"
   ]
  },
  {
   "cell_type": "markdown",
   "id": "faf995a1",
   "metadata": {},
   "source": [
    "# Split Data"
   ]
  },
  {
   "cell_type": "code",
   "execution_count": 42,
   "id": "365dd3db",
   "metadata": {},
   "outputs": [],
   "source": [
    "from sklearn.model_selection import train_test_split\n",
    "from sklearn.preprocessing import StandardScaler\n",
    "\n",
    "X = df.drop('Monthly Premium Auto', axis = 1)\n",
    "y = df['Monthly Premium Auto']\n",
    "\n",
    "X_train_orig, X_test_orig, y_train, y_test = train_test_split(X, y, random_state = 0)\n",
    "\n",
    "\n",
    "scaler = StandardScaler()\n",
    "X_train = scaler.fit_transform(X_train_orig)\n",
    "X_test = scaler.transform(X_test_orig)"
   ]
  },
  {
   "cell_type": "code",
   "execution_count": 43,
   "id": "cc34a456",
   "metadata": {},
   "outputs": [
    {
     "data": {
      "text/plain": [
       "['Response',\n",
       " 'Coverage',\n",
       " 'Education',\n",
       " 'Gender',\n",
       " 'Months Since Last Claim',\n",
       " 'Months Since Policy Inception',\n",
       " 'Number of Open Complaints',\n",
       " 'Number of Policies',\n",
       " 'Policy Type',\n",
       " 'Total Claim Amount',\n",
       " 'Vehicle Class',\n",
       " 'EmploymentStatus_Disabled',\n",
       " 'EmploymentStatus_Employed',\n",
       " 'EmploymentStatus_Medical Leave',\n",
       " 'EmploymentStatus_Retired',\n",
       " 'EmploymentStatus_Unemployed',\n",
       " 'Location Code_Rural',\n",
       " 'Location Code_Suburban',\n",
       " 'Location Code_Urban',\n",
       " 'Vehicle Size_Large',\n",
       " 'Vehicle Size_Medsize',\n",
       " 'Vehicle Size_Small',\n",
       " 'Marital Status_Divorced',\n",
       " 'Marital Status_Married',\n",
       " 'Marital Status_Single']"
      ]
     },
     "execution_count": 43,
     "metadata": {},
     "output_type": "execute_result"
    }
   ],
   "source": [
    "list(X)"
   ]
  },
  {
   "cell_type": "code",
   "execution_count": 44,
   "id": "da9b7017",
   "metadata": {},
   "outputs": [
    {
     "data": {
      "text/plain": [
       "(776, 25)"
      ]
     },
     "execution_count": 44,
     "metadata": {},
     "output_type": "execute_result"
    }
   ],
   "source": [
    "X_train.shape"
   ]
  },
  {
   "cell_type": "code",
   "execution_count": 45,
   "id": "50e0fc57",
   "metadata": {},
   "outputs": [
    {
     "data": {
      "text/plain": [
       "(259, 25)"
      ]
     },
     "execution_count": 45,
     "metadata": {},
     "output_type": "execute_result"
    }
   ],
   "source": [
    "X_test.shape"
   ]
  },
  {
   "cell_type": "markdown",
   "id": "44366406",
   "metadata": {},
   "source": [
    "# Linear Regression"
   ]
  },
  {
   "cell_type": "code",
   "execution_count": 46,
   "id": "4c4df624",
   "metadata": {},
   "outputs": [
    {
     "name": "stdout",
     "output_type": "stream",
     "text": [
      "0.8649142425254764\n",
      "0.8207494626718786\n"
     ]
    }
   ],
   "source": [
    "from sklearn.linear_model import LinearRegression\n",
    "\n",
    "lreg = LinearRegression()\n",
    "lreg.fit(X_train, y_train)\n",
    "print(lreg.score(X_train, y_train))\n",
    "print(lreg.score(X_test, y_test))"
   ]
  },
  {
   "cell_type": "code",
   "execution_count": 47,
   "id": "957e0e9b",
   "metadata": {},
   "outputs": [],
   "source": [
    "y_pred = lreg.predict(X_test)"
   ]
  },
  {
   "cell_type": "code",
   "execution_count": 48,
   "id": "340d657d",
   "metadata": {},
   "outputs": [
    {
     "data": {
      "text/plain": [
       "Text(0.5, 0, 'Total Claim Amount')"
      ]
     },
     "execution_count": 48,
     "metadata": {},
     "output_type": "execute_result"
    },
    {
     "data": {
      "image/png": "[encoded data removed]",
      "text/plain": [
       "<Figure size 1440x360 with 1 Axes>"
      ]
     },
     "metadata": {
      "needs_background": "light"
     },
     "output_type": "display_data"
    }
   ],
   "source": [
    "%matplotlib inline\n",
    "import matplotlib.pyplot as plt\n",
    "\n",
    "X_train_rm = X_train[:,9].reshape(-1,1)\n",
    "lreg.fit(X_train_rm, y_train)\n",
    "y_predict = lreg.predict(X_train_rm)\n",
    "\n",
    "plt.subplots(figsize = (20,5))\n",
    "plt.plot(X_train_rm, y_predict, c = 'r')\n",
    "plt.scatter(X_train_rm,y_train)\n",
    "plt.xlabel('Total Claim Amount')"
   ]
  },
  {
   "cell_type": "code",
   "execution_count": 49,
   "id": "993e6cc6",
   "metadata": {},
   "outputs": [],
   "source": [
    "from sklearn.model_selection import GridSearchCV\n",
    "from sklearn.neighbors import KNeighborsRegressor"
   ]
  },
  {
   "cell_type": "markdown",
   "id": "34a0682b",
   "metadata": {},
   "source": [
    "# KNN"
   ]
  },
  {
   "cell_type": "code",
   "execution_count": 50,
   "id": "fabe6ec8",
   "metadata": {},
   "outputs": [],
   "source": [
    "param_gridknn = {'n_neighbors':[1,2,3,4,5,6,7,8,9,10,11,12,13,14,15,16,17]}"
   ]
  },
  {
   "cell_type": "code",
   "execution_count": 51,
   "id": "a7b240eb",
   "metadata": {},
   "outputs": [],
   "source": [
    "grid_searchknn = GridSearchCV(KNeighborsRegressor(), param_gridknn, cv=5, return_train_score=True)"
   ]
  },
  {
   "cell_type": "code",
   "execution_count": 52,
   "id": "94acbc32",
   "metadata": {},
   "outputs": [
    {
     "data": {
      "text/plain": [
       "GridSearchCV(cv=5, estimator=KNeighborsRegressor(),\n",
       "             param_grid={'n_neighbors': [1, 2, 3, 4, 5, 6, 7, 8, 9, 10, 11, 12,\n",
       "                                         13, 14, 15, 16, 17]},\n",
       "             return_train_score=True)"
      ]
     },
     "execution_count": 52,
     "metadata": {},
     "output_type": "execute_result"
    }
   ],
   "source": [
    "grid_searchknn.fit(X_train, y_train)"
   ]
  },
  {
   "cell_type": "code",
   "execution_count": 53,
   "id": "80f51b15",
   "metadata": {},
   "outputs": [
    {
     "name": "stdout",
     "output_type": "stream",
     "text": [
      "Best parameters: {'n_neighbors': 5}\n",
      "Best cross-validation score: 0.5284\n"
     ]
    }
   ],
   "source": [
    "print(\"Best parameters: {}\".format(grid_searchknn.best_params_))\n",
    "print(\"Best cross-validation score: {:.4f}\".format(grid_searchknn.best_score_))"
   ]
  },
  {
   "cell_type": "code",
   "execution_count": 54,
   "id": "db1b91ad",
   "metadata": {},
   "outputs": [
    {
     "name": "stdout",
     "output_type": "stream",
     "text": [
      "0.7026014223217159\n",
      "0.5335265315299768\n"
     ]
    }
   ],
   "source": [
    "knn_reg = KNeighborsRegressor(5)\n",
    "knn_reg.fit(X_train, y_train)\n",
    "print(knn_reg.score(X_train, y_train))\n",
    "print(knn_reg.score(X_test, y_test))"
   ]
  },
  {
   "cell_type": "code",
   "execution_count": 107,
   "id": "8521020f",
   "metadata": {},
   "outputs": [
    {
     "data": {
      "text/plain": [
       "Text(0.5, 0, 'Total Claim Amount')"
      ]
     },
     "execution_count": 107,
     "metadata": {},
     "output_type": "execute_result"
    },
    {
     "data": {
      "image/png": "[encoded data removed]",
      "text/plain": [
       "<Figure size 1440x720 with 1 Axes>"
      ]
     },
     "metadata": {
      "needs_background": "light"
     },
     "output_type": "display_data"
    }
   ],
   "source": [
    "X_b = X_train[:100,9].reshape(-1,1)\n",
    "y_b = y_train[:100]\n",
    "\n",
    "knn_reg = KNeighborsRegressor(5)\n",
    "knn_reg.fit(X_b, y_b)\n",
    "\n",
    "X_new=np.linspace(X_b.min(), X_b.max(), 50).reshape(50, 1)\n",
    "y_predict = knn_reg.predict(X_new)\n",
    "\n",
    "plt.subplots(figsize = (20,10))\n",
    "plt.plot(X_new, y_predict, c = 'r')\n",
    "plt.scatter(X_b, y_b)\n",
    "plt.xlabel('Total Claim Amount')"
   ]
  },
  {
   "cell_type": "markdown",
   "id": "ef6d5621",
   "metadata": {},
   "source": [
    "# Lasso"
   ]
  },
  {
   "cell_type": "code",
   "execution_count": 56,
   "id": "c8023473",
   "metadata": {},
   "outputs": [],
   "source": [
    "from sklearn.linear_model import Lasso\n"
   ]
  },
  {
   "cell_type": "code",
   "execution_count": 57,
   "id": "7f3a7e2a",
   "metadata": {},
   "outputs": [],
   "source": [
    "param_gridlass = {'alpha':[.001, .01, .1, 1, 10, 100, 1000]}"
   ]
  },
  {
   "cell_type": "code",
   "execution_count": 58,
   "id": "0477802d",
   "metadata": {},
   "outputs": [],
   "source": [
    "grid_searchlass = GridSearchCV(Lasso(random_state = 0), param_gridlass, cv=5, return_train_score=True)"
   ]
  },
  {
   "cell_type": "code",
   "execution_count": 59,
   "id": "8fd55943",
   "metadata": {},
   "outputs": [
    {
     "name": "stderr",
     "output_type": "stream",
     "text": [
      "C:\\Users\\Mohammed Rahman\\Documents\\utda\\lib\\site-packages\\sklearn\\linear_model\\_coordinate_descent.py:645: ConvergenceWarning: Objective did not converge. You might want to increase the number of iterations, check the scale of the features or consider increasing regularisation. Duality gap: 1.966e+03, tolerance: 7.440e+01\n",
      "  model = cd_fast.enet_coordinate_descent(\n",
      "C:\\Users\\Mohammed Rahman\\Documents\\utda\\lib\\site-packages\\sklearn\\linear_model\\_coordinate_descent.py:645: ConvergenceWarning: Objective did not converge. You might want to increase the number of iterations, check the scale of the features or consider increasing regularisation. Duality gap: 2.021e+03, tolerance: 7.426e+01\n",
      "  model = cd_fast.enet_coordinate_descent(\n",
      "C:\\Users\\Mohammed Rahman\\Documents\\utda\\lib\\site-packages\\sklearn\\linear_model\\_coordinate_descent.py:645: ConvergenceWarning: Objective did not converge. You might want to increase the number of iterations, check the scale of the features or consider increasing regularisation. Duality gap: 1.943e+03, tolerance: 7.677e+01\n",
      "  model = cd_fast.enet_coordinate_descent(\n",
      "C:\\Users\\Mohammed Rahman\\Documents\\utda\\lib\\site-packages\\sklearn\\linear_model\\_coordinate_descent.py:645: ConvergenceWarning: Objective did not converge. You might want to increase the number of iterations, check the scale of the features or consider increasing regularisation. Duality gap: 1.821e+03, tolerance: 7.734e+01\n",
      "  model = cd_fast.enet_coordinate_descent(\n",
      "C:\\Users\\Mohammed Rahman\\Documents\\utda\\lib\\site-packages\\sklearn\\linear_model\\_coordinate_descent.py:645: ConvergenceWarning: Objective did not converge. You might want to increase the number of iterations, check the scale of the features or consider increasing regularisation. Duality gap: 2.345e+03, tolerance: 8.395e+01\n",
      "  model = cd_fast.enet_coordinate_descent(\n"
     ]
    },
    {
     "data": {
      "text/plain": [
       "GridSearchCV(cv=5, estimator=Lasso(random_state=0),\n",
       "             param_grid={'alpha': [0.001, 0.01, 0.1, 1, 10, 100, 1000]},\n",
       "             return_train_score=True)"
      ]
     },
     "execution_count": 59,
     "metadata": {},
     "output_type": "execute_result"
    }
   ],
   "source": [
    "grid_searchlass.fit(X_train, y_train)"
   ]
  },
  {
   "cell_type": "code",
   "execution_count": 60,
   "id": "98d4ed5d",
   "metadata": {},
   "outputs": [
    {
     "name": "stdout",
     "output_type": "stream",
     "text": [
      "Best parameters: {'alpha': 0.1}\n",
      "Best cross-validation score: 0.8554\n"
     ]
    }
   ],
   "source": [
    "print(\"Best parameters: {}\".format(grid_searchlass.best_params_))\n",
    "print(\"Best cross-validation score: {:.4f}\".format(grid_searchlass.best_score_))"
   ]
  },
  {
   "cell_type": "code",
   "execution_count": 61,
   "id": "cd795169",
   "metadata": {},
   "outputs": [
    {
     "name": "stdout",
     "output_type": "stream",
     "text": [
      "0.8650184410767081\n",
      "0.8224201615619651\n"
     ]
    }
   ],
   "source": [
    "lasso = Lasso(0.1)\n",
    "lasso.fit(X_train,y_train)\n",
    "print(lasso.score(X_train,y_train))\n",
    "print(lasso.score(X_test, y_test))"
   ]
  },
  {
   "cell_type": "code",
   "execution_count": 62,
   "id": "5b16e18e",
   "metadata": {},
   "outputs": [],
   "source": [
    "from sklearn.linear_model import Lasso\n",
    "x_range = [0.01, 0.1, 1, 10, 100]\n",
    "train_score_list = []\n",
    "test_score_list = []\n",
    "\n",
    "for alpha in x_range: \n",
    "    lasso = Lasso(alpha)\n",
    "    lasso.fit(X_train,y_train)\n",
    "    train_score_list.append(lasso.score(X_train,y_train))\n",
    "    test_score_list.append(lasso.score(X_test, y_test))"
   ]
  },
  {
   "cell_type": "code",
   "execution_count": 63,
   "id": "a7a28b8f",
   "metadata": {},
   "outputs": [
    {
     "data": {
      "image/png": "[encoded data removed]",
      "text/plain": [
       "<Figure size 1440x360 with 1 Axes>"
      ]
     },
     "metadata": {
      "needs_background": "light"
     },
     "output_type": "display_data"
    }
   ],
   "source": [
    "%matplotlib inline\n",
    "plt.subplots(figsize = (20,5))\n",
    "plt.plot(x_range, train_score_list, c = 'g', label = 'Train Score')\n",
    "plt.plot(x_range, test_score_list, c = 'b', label = 'Test Score')\n",
    "plt.xscale('log')\n",
    "plt.legend(loc = 3)\n",
    "plt.xlabel(r'$\\alpha$')\n",
    "plt.grid()"
   ]
  },
  {
   "cell_type": "code",
   "execution_count": 64,
   "id": "b4ea951a",
   "metadata": {},
   "outputs": [
    {
     "name": "stderr",
     "output_type": "stream",
     "text": [
      "C:\\Users\\Mohammed Rahman\\Documents\\utda\\lib\\site-packages\\sklearn\\linear_model\\_coordinate_descent.py:645: ConvergenceWarning: Objective did not converge. You might want to increase the number of iterations, check the scale of the features or consider increasing regularisation. Duality gap: 2.538e+03, tolerance: 9.669e+01\n",
      "  model = cd_fast.enet_coordinate_descent(\n"
     ]
    },
    {
     "data": {
      "image/png": "[encoded data removed]",
      "text/plain": [
       "<Figure size 1080x360 with 1 Axes>"
      ]
     },
     "metadata": {
      "needs_background": "light"
     },
     "output_type": "display_data"
    }
   ],
   "source": [
    "# %matplotlib inline\n",
    "\n",
    "\n",
    "x_range = [0.001, 0.01, 0.1, 1, 10, 100]\n",
    "coeff = []\n",
    "\n",
    "for alpha in x_range: \n",
    "    lasso = Lasso(alpha)\n",
    "    lasso.fit(X_train,y_train)\n",
    "    coeff.append(lasso.coef_ )\n",
    "    \n",
    "coeff = np.array(coeff)\n",
    "\n",
    "plt.subplots(figsize = (15,5))\n",
    "for i in range(0,13):\n",
    "    plt.plot(x_range, coeff[:,i], label = X.columns[i])\n",
    "\n",
    "plt.axhline(y=0, xmin=0.001, xmax=9999, linewidth=1, c ='gray')\n",
    "plt.xlabel(r'$\\alpha$')\n",
    "plt.xscale('log')\n",
    "plt.legend(loc='upper center', bbox_to_anchor=(0.5, 1.5),\n",
    "          ncol=3, fancybox=True, shadow=True)\n",
    "plt.show()"
   ]
  },
  {
   "cell_type": "markdown",
   "id": "4e29b06d",
   "metadata": {},
   "source": [
    "# Ridge"
   ]
  },
  {
   "cell_type": "code",
   "execution_count": 100,
   "id": "784a1cc1",
   "metadata": {},
   "outputs": [],
   "source": [
    "from sklearn.linear_model import Ridge\n",
    "\n",
    "train_score_list = []\n",
    "test_score_list = []\n",
    "\n",
    "for alpha in [.001, .01, .1, 1, 10, 100, 1000]: \n",
    "    ridge = Ridge(alpha)\n",
    "    ridge.fit(X_train,  y_train)\n",
    "    train_score_list.append(ridge.score(X_train, y_train))\n",
    "    test_score_list.append(ridge.score(X_test, y_test))"
   ]
  },
  {
   "cell_type": "code",
   "execution_count": 101,
   "id": "2a7e86e6",
   "metadata": {},
   "outputs": [
    {
     "data": {
      "image/png": "[encoded data removed]",
      "text/plain": [
       "<Figure size 1440x360 with 1 Axes>"
      ]
     },
     "metadata": {
      "needs_background": "light"
     },
     "output_type": "display_data"
    }
   ],
   "source": [
    "%matplotlib inline\n",
    "import matplotlib.pyplot as plt\n",
    "\n",
    "x_range = [.001, .01, .1, 1, 10, 100, 1000]\n",
    "\n",
    "plt.subplots(figsize = (20,5))\n",
    "plt.plot(x_range, train_score_list, c = 'g', label = 'Train Score')\n",
    "plt.plot(x_range, test_score_list, c = 'b', label = 'Test Score')\n",
    "plt.xscale('log')\n",
    "plt.legend(loc = 3)\n",
    "plt.xlabel(r'$\\alpha$')\n",
    "plt.grid()"
   ]
  },
  {
   "cell_type": "code",
   "execution_count": 102,
   "id": "df4016d5",
   "metadata": {},
   "outputs": [],
   "source": [
    "param_gridrid = {'alpha':[.001, .01, .1, 1, 10, 100, 1000]}"
   ]
  },
  {
   "cell_type": "code",
   "execution_count": 103,
   "id": "3574f63c",
   "metadata": {},
   "outputs": [],
   "source": [
    "grid_searchrid = GridSearchCV(Ridge(random_state = 0), param_gridrid, cv=5, return_train_score=True)"
   ]
  },
  {
   "cell_type": "code",
   "execution_count": 104,
   "id": "1636862d",
   "metadata": {},
   "outputs": [
    {
     "data": {
      "text/plain": [
       "GridSearchCV(cv=5, estimator=Ridge(random_state=0),\n",
       "             param_grid={'alpha': [0.001, 0.01, 0.1, 1, 10, 100, 1000]},\n",
       "             return_train_score=True)"
      ]
     },
     "execution_count": 104,
     "metadata": {},
     "output_type": "execute_result"
    }
   ],
   "source": [
    "grid_searchrid.fit(X_train, y_train)"
   ]
  },
  {
   "cell_type": "code",
   "execution_count": 105,
   "id": "a2cebfde",
   "metadata": {},
   "outputs": [
    {
     "name": "stdout",
     "output_type": "stream",
     "text": [
      "Best parameters: {'alpha': 10}\n",
      "Best cross-validation score: 0.8544\n"
     ]
    }
   ],
   "source": [
    "print(\"Best parameters: {}\".format(grid_searchrid.best_params_))\n",
    "print(\"Best cross-validation score: {:.4f}\".format(grid_searchrid.best_score_))"
   ]
  },
  {
   "cell_type": "code",
   "execution_count": 70,
   "id": "fc0e555e",
   "metadata": {},
   "outputs": [
    {
     "name": "stdout",
     "output_type": "stream",
     "text": [
      "0.8650645503040223\n",
      "0.8214291822775358\n"
     ]
    }
   ],
   "source": [
    "ridge = Ridge(10)\n",
    "ridge.fit(X_train,  y_train)\n",
    "print(ridge.score(X_train, y_train))\n",
    "print(ridge.score(X_test, y_test))"
   ]
  },
  {
   "cell_type": "code",
   "execution_count": 71,
   "id": "6ebe0d1f",
   "metadata": {},
   "outputs": [
    {
     "data": {
      "image/png": "[encoded data removed]",
      "text/plain": [
       "<Figure size 1080x360 with 1 Axes>"
      ]
     },
     "metadata": {
      "needs_background": "light"
     },
     "output_type": "display_data"
    }
   ],
   "source": [
    "x_range = [0.001, 0.01, 0.1, 1, 10, 100]\n",
    "coeff = []\n",
    "\n",
    "for alpha in x_range: \n",
    "    ridge = Ridge(alpha)\n",
    "    ridge.fit(X_train,y_train)\n",
    "    coeff.append(ridge.coef_ )\n",
    "    \n",
    "coeff = np.array(coeff)\n",
    "\n",
    "plt.subplots(figsize = (15,5))\n",
    "for i in range(0,13):\n",
    "    plt.plot(x_range, coeff[:,i], label = X.columns[i])\n",
    "\n",
    "plt.axhline(y=0, xmin=0.001, xmax=9999, linewidth=1, c ='gray')\n",
    "plt.xlabel(r'$\\alpha$')\n",
    "plt.xscale('log')\n",
    "plt.legend(loc='upper center', bbox_to_anchor=(0.5, 1.5),\n",
    "          ncol=3, fancybox=True, shadow=True)\n",
    "plt.show()"
   ]
  },
  {
   "cell_type": "markdown",
   "id": "7ac71592",
   "metadata": {},
   "source": [
    "# SVR"
   ]
  },
  {
   "cell_type": "code",
   "execution_count": 72,
   "id": "df1579f0",
   "metadata": {},
   "outputs": [],
   "source": [
    "from sklearn.svm import SVR"
   ]
  },
  {
   "cell_type": "code",
   "execution_count": 73,
   "id": "32ba9312",
   "metadata": {},
   "outputs": [],
   "source": [
    "param_gridsvr = {'C':[0.01, 0.1, 1, 10, 100],'epsilon': [0.01, 0.1, 1, 10, 100],\n",
    "              'gamma': [0.01, 0.1, 1, 10, 100]}"
   ]
  },
  {
   "cell_type": "code",
   "execution_count": 74,
   "id": "efa8448c",
   "metadata": {},
   "outputs": [],
   "source": [
    "grid_searchsvr = GridSearchCV(SVR(kernel='rbf'), param_gridsvr, cv=5, return_train_score=True)"
   ]
  },
  {
   "cell_type": "code",
   "execution_count": 75,
   "id": "9ac22ed0",
   "metadata": {},
   "outputs": [
    {
     "data": {
      "text/plain": [
       "GridSearchCV(cv=5, estimator=SVR(),\n",
       "             param_grid={'C': [0.01, 0.1, 1, 10, 100],\n",
       "                         'epsilon': [0.01, 0.1, 1, 10, 100],\n",
       "                         'gamma': [0.01, 0.1, 1, 10, 100]},\n",
       "             return_train_score=True)"
      ]
     },
     "execution_count": 75,
     "metadata": {},
     "output_type": "execute_result"
    }
   ],
   "source": [
    "grid_searchsvr.fit(X_train, y_train)"
   ]
  },
  {
   "cell_type": "code",
   "execution_count": 76,
   "id": "742bdc05",
   "metadata": {},
   "outputs": [
    {
     "name": "stdout",
     "output_type": "stream",
     "text": [
      "Best parameters: {'C': 100, 'epsilon': 10, 'gamma': 0.01}\n",
      "Best cross-validation score: 0.8648\n"
     ]
    }
   ],
   "source": [
    "print(\"Best parameters: {}\".format(grid_searchsvr.best_params_))\n",
    "print(\"Best cross-validation score: {:.4f}\".format(grid_searchsvr.best_score_))"
   ]
  },
  {
   "cell_type": "code",
   "execution_count": 77,
   "id": "5351f67d",
   "metadata": {},
   "outputs": [
    {
     "name": "stdout",
     "output_type": "stream",
     "text": [
      "train:  0.9014805914399209\n",
      "test:  0.8280051465894889\n"
     ]
    }
   ],
   "source": [
    "regressork = SVR(kernel='rbf', C = 100, epsilon = 10, gamma = 0.01)\n",
    "regressork.fit(X_train,y_train)\n",
    "print('train: ', regressork.score(X_train, y_train))\n",
    "print('test: ', regressork.score(X_test, y_test))"
   ]
  },
  {
   "cell_type": "code",
   "execution_count": 78,
   "id": "055a5014",
   "metadata": {},
   "outputs": [
    {
     "data": {
      "text/plain": [
       "Text(0.5, 0, 'Total Claim Amount')"
      ]
     },
     "execution_count": 78,
     "metadata": {},
     "output_type": "execute_result"
    },
    {
     "data": {
      "image/png": "[encoded data removed]",
      "text/plain": [
       "<Figure size 1440x720 with 1 Axes>"
      ]
     },
     "metadata": {
      "needs_background": "light"
     },
     "output_type": "display_data"
    }
   ],
   "source": [
    "X_b = X_train[:50,9].reshape(-1,1)\n",
    "y_b = y_train[:50]\n",
    "\n",
    "regressork = SVR(kernel='rbf', C = 100, epsilon = 10, gamma = 0.01)\n",
    "regressork.fit(X_b, y_b)\n",
    "\n",
    "X_new=np.linspace(X_b.min(), X_b.max(), 50).reshape(50, 1)\n",
    "y_predict = regressork.predict(X_new)\n",
    "\n",
    "plt.subplots(figsize = (20,10))\n",
    "plt.plot(X_new, y_predict, c = 'r')\n",
    "plt.scatter(X_b, y_b)\n",
    "plt.xlabel('Total Claim Amount')"
   ]
  },
  {
   "cell_type": "code",
   "execution_count": 79,
   "id": "475faab7",
   "metadata": {},
   "outputs": [],
   "source": [
    "grid_searchsvrl = GridSearchCV(SVR(kernel='linear'), param_gridsvr, cv=5, return_train_score=True)"
   ]
  },
  {
   "cell_type": "code",
   "execution_count": 80,
   "id": "8177cc0f",
   "metadata": {},
   "outputs": [
    {
     "data": {
      "text/plain": [
       "GridSearchCV(cv=5, estimator=SVR(kernel='linear'),\n",
       "             param_grid={'C': [0.01, 0.1, 1, 10, 100],\n",
       "                         'epsilon': [0.01, 0.1, 1, 10, 100],\n",
       "                         'gamma': [0.01, 0.1, 1, 10, 100]},\n",
       "             return_train_score=True)"
      ]
     },
     "execution_count": 80,
     "metadata": {},
     "output_type": "execute_result"
    }
   ],
   "source": [
    "grid_searchsvrl.fit(X_train, y_train)"
   ]
  },
  {
   "cell_type": "code",
   "execution_count": 81,
   "id": "87f5e4b0",
   "metadata": {},
   "outputs": [
    {
     "name": "stdout",
     "output_type": "stream",
     "text": [
      "Best parameters: {'C': 10, 'epsilon': 10, 'gamma': 0.01}\n",
      "Best cross-validation score: 0.8533\n"
     ]
    }
   ],
   "source": [
    "print(\"Best parameters: {}\".format(grid_searchsvrl.best_params_))\n",
    "print(\"Best cross-validation score: {:.4f}\".format(grid_searchsvrl.best_score_))"
   ]
  },
  {
   "cell_type": "code",
   "execution_count": 82,
   "id": "2e1a8a17",
   "metadata": {},
   "outputs": [
    {
     "name": "stdout",
     "output_type": "stream",
     "text": [
      "train:  0.8584936457256727\n",
      "test:  0.8232357121471714\n"
     ]
    }
   ],
   "source": [
    "regressorl = SVR(kernel='linear', C = 10, epsilon = 10, gamma = 0.01)\n",
    "regressorl.fit(X_train,y_train)\n",
    "print('train: ', regressorl.score(X_train, y_train))\n",
    "print('test: ', regressorl.score(X_test, y_test))"
   ]
  },
  {
   "cell_type": "code",
   "execution_count": 83,
   "id": "544d80ea",
   "metadata": {},
   "outputs": [
    {
     "data": {
      "text/plain": [
       "Text(0.5, 0, 'Total Claim Amount')"
      ]
     },
     "execution_count": 83,
     "metadata": {},
     "output_type": "execute_result"
    },
    {
     "data": {
      "image/png": "[encoded data removed]",
      "text/plain": [
       "<Figure size 1440x720 with 1 Axes>"
      ]
     },
     "metadata": {
      "needs_background": "light"
     },
     "output_type": "display_data"
    }
   ],
   "source": [
    "X_b = X_train[:50,9].reshape(-1,1)\n",
    "y_b = y_train[:50]\n",
    "\n",
    "regressorl.fit(X_b, y_b)\n",
    "\n",
    "X_new=np.linspace(X_b.min(), X_b.max(), 50).reshape(50, 1)\n",
    "y_predict = regressorl.predict(X_new)\n",
    "\n",
    "plt.subplots(figsize = (20,10))\n",
    "plt.plot(X_new, y_predict, c = 'r')\n",
    "plt.scatter(X_b, y_b)\n",
    "plt.xlabel('Total Claim Amount')"
   ]
  },
  {
   "cell_type": "code",
   "execution_count": 84,
   "id": "8ae3ac29",
   "metadata": {},
   "outputs": [],
   "source": [
    "grid_searchsvrp = GridSearchCV(SVR(kernel='poly'), param_gridsvr, cv=5, return_train_score=True)"
   ]
  },
  {
   "cell_type": "code",
   "execution_count": 85,
   "id": "005172a8",
   "metadata": {},
   "outputs": [
    {
     "data": {
      "text/plain": [
       "GridSearchCV(cv=5, estimator=SVR(kernel='poly'),\n",
       "             param_grid={'C': [0.01, 0.1, 1, 10, 100],\n",
       "                         'epsilon': [0.01, 0.1, 1, 10, 100],\n",
       "                         'gamma': [0.01, 0.1, 1, 10, 100]},\n",
       "             return_train_score=True)"
      ]
     },
     "execution_count": 85,
     "metadata": {},
     "output_type": "execute_result"
    }
   ],
   "source": [
    "grid_searchsvrp.fit(X_train, y_train)"
   ]
  },
  {
   "cell_type": "code",
   "execution_count": 86,
   "id": "e462a97e",
   "metadata": {},
   "outputs": [
    {
     "name": "stdout",
     "output_type": "stream",
     "text": [
      "Best parameters: {'C': 10, 'epsilon': 10, 'gamma': 0.1}\n",
      "Best cross-validation score: 0.8064\n"
     ]
    }
   ],
   "source": [
    "print(\"Best parameters: {}\".format(grid_searchsvrp.best_params_))\n",
    "print(\"Best cross-validation score: {:.4f}\".format(grid_searchsvrp.best_score_))"
   ]
  },
  {
   "cell_type": "code",
   "execution_count": 87,
   "id": "01490987",
   "metadata": {},
   "outputs": [
    {
     "name": "stdout",
     "output_type": "stream",
     "text": [
      "train:  0.947114766736788\n",
      "test:  0.7965776676543337\n"
     ]
    }
   ],
   "source": [
    "regressorp = SVR(kernel='poly', C = 10, epsilon = 10, gamma = 0.1)\n",
    "regressorp.fit(X_train,y_train)\n",
    "print('train: ', regressorp.score(X_train, y_train))\n",
    "print('test: ', regressorp.score(X_test, y_test))"
   ]
  },
  {
   "cell_type": "code",
   "execution_count": 88,
   "id": "be90aac3",
   "metadata": {},
   "outputs": [
    {
     "data": {
      "text/plain": [
       "Text(0.5, 0, 'Total Claim Amount')"
      ]
     },
     "execution_count": 88,
     "metadata": {},
     "output_type": "execute_result"
    },
    {
     "data": {
      "image/png": "[encoded data removed]",
      "text/plain": [
       "<Figure size 1440x720 with 1 Axes>"
      ]
     },
     "metadata": {
      "needs_background": "light"
     },
     "output_type": "display_data"
    }
   ],
   "source": [
    "X_b = X_train[:50,9].reshape(-1,1)\n",
    "y_b = y_train[:50]\n",
    "\n",
    "regressorp.fit(X_b, y_b)\n",
    "\n",
    "X_new=np.linspace(X_b.min(), X_b.max(), 50).reshape(50, 1)\n",
    "y_predict = regressorp.predict(X_new)\n",
    "\n",
    "plt.subplots(figsize = (20,10))\n",
    "plt.plot(X_new, y_predict, c = 'r')\n",
    "plt.scatter(X_b, y_b)\n",
    "plt.xlabel('Total Claim Amount')"
   ]
  },
  {
   "cell_type": "markdown",
   "id": "31ad044b",
   "metadata": {},
   "source": [
    "# Decision Tree Regressor"
   ]
  },
  {
   "cell_type": "code",
   "execution_count": 89,
   "id": "0e1848f2",
   "metadata": {},
   "outputs": [],
   "source": [
    "from sklearn.tree import DecisionTreeRegressor"
   ]
  },
  {
   "cell_type": "code",
   "execution_count": 90,
   "id": "205eb315",
   "metadata": {},
   "outputs": [],
   "source": [
    "param_griddtr = {'max_depth':[2,5,10,25,50],'max_leaf_nodes': [2,5,10,25,50]}"
   ]
  },
  {
   "cell_type": "code",
   "execution_count": 91,
   "id": "2914b4ed",
   "metadata": {},
   "outputs": [],
   "source": [
    "grid_searchdtr = GridSearchCV(DecisionTreeRegressor(random_state = 0), param_griddtr, cv=5, return_train_score=True)"
   ]
  },
  {
   "cell_type": "code",
   "execution_count": 92,
   "id": "26eb52d3",
   "metadata": {},
   "outputs": [
    {
     "data": {
      "text/plain": [
       "GridSearchCV(cv=5, estimator=DecisionTreeRegressor(random_state=0),\n",
       "             param_grid={'max_depth': [2, 5, 10, 25, 50],\n",
       "                         'max_leaf_nodes': [2, 5, 10, 25, 50]},\n",
       "             return_train_score=True)"
      ]
     },
     "execution_count": 92,
     "metadata": {},
     "output_type": "execute_result"
    }
   ],
   "source": [
    "grid_searchdtr.fit(X_train, y_train)"
   ]
  },
  {
   "cell_type": "code",
   "execution_count": 93,
   "id": "6777cfc7",
   "metadata": {},
   "outputs": [
    {
     "name": "stdout",
     "output_type": "stream",
     "text": [
      "Best parameters: {'max_depth': 5, 'max_leaf_nodes': 10}\n",
      "Best cross-validation score: 0.9561\n"
     ]
    }
   ],
   "source": [
    "print(\"Best parameters: {}\".format(grid_searchdtr.best_params_))\n",
    "print(\"Best cross-validation score: {:.4f}\".format(grid_searchdtr.best_score_))"
   ]
  },
  {
   "cell_type": "code",
   "execution_count": 94,
   "id": "662efa8e",
   "metadata": {},
   "outputs": [
    {
     "name": "stdout",
     "output_type": "stream",
     "text": [
      "train:  0.967188068930121\n",
      "test:  0.9442882698036694\n"
     ]
    }
   ],
   "source": [
    "regressor = DecisionTreeRegressor(max_depth = 5 , random_state=0, max_leaf_nodes = 10)\n",
    "regressor.fit(X_train,y_train)\n",
    "print('train: ', regressor.score(X_train, y_train))\n",
    "print('test: ', regressor.score(X_test, y_test))"
   ]
  },
  {
   "cell_type": "code",
   "execution_count": 95,
   "id": "3652e6c4",
   "metadata": {},
   "outputs": [
    {
     "data": {
      "text/plain": [
       "Text(0.5, 0, 'Total Claim Amount')"
      ]
     },
     "execution_count": 95,
     "metadata": {},
     "output_type": "execute_result"
    },
    {
     "data": {
      "image/png": "[encoded data removed]",
      "text/plain": [
       "<Figure size 1440x360 with 1 Axes>"
      ]
     },
     "metadata": {
      "needs_background": "light"
     },
     "output_type": "display_data"
    }
   ],
   "source": [
    "\n",
    "\n",
    "X_b = X_train[:50,9].reshape(-1,1)\n",
    "y_b = y_train[:50]\n",
    "\n",
    "clf = DecisionTreeRegressor()\n",
    "clf.fit(X_b, y_b)\n",
    "\n",
    "X_new=np.linspace(X_b.min(), X_b.max(), 50).reshape(50, 1)\n",
    "y_predict = clf.predict(X_new)\n",
    "\n",
    "plt.subplots(figsize = (20,5))\n",
    "plt.plot(X_new, y_predict, c = 'royalblue')\n",
    "plt.scatter(X_b, y_b)\n",
    "plt.xlabel('Total Claim Amount')"
   ]
  },
  {
   "cell_type": "markdown",
   "id": "e91ab921",
   "metadata": {},
   "source": [
    "# Polynomial"
   ]
  },
  {
   "cell_type": "code",
   "execution_count": 96,
   "id": "e05e62e5",
   "metadata": {},
   "outputs": [],
   "source": [
    "from  sklearn.preprocessing  import PolynomialFeatures"
   ]
  },
  {
   "cell_type": "code",
   "execution_count": 210,
   "id": "fc29104f",
   "metadata": {},
   "outputs": [
    {
     "name": "stdout",
     "output_type": "stream",
     "text": [
      "[0.8651449746133686, 0.9549341248700001, 1.0, 1.0, 1.0]\n",
      "[0.8211230462077029, 0.8317312318783026, -0.18453291687100215, 0.6122642049155969, 0.42887757564439555]\n"
     ]
    }
   ],
   "source": [
    "ptrain_score_array = []\n",
    "ptest_score_array = []\n",
    "for k in range(1,6):\n",
    "    poly = PolynomialFeatures(degree = k)\n",
    "    X_train_poly = poly.fit_transform(X_train)\n",
    "    X_test_poly = poly.transform(X_test)\n",
    "    poly_reg = LinearRegression()\n",
    "    poly_reg.fit(X_train_poly, y_train)\n",
    "    ptrain_score_array.append(poly_reg.score(X_train_poly, y_train))\n",
    "    ptest_score_array.append(poly_reg.score(X_test_poly, y_test))\n",
    "\n",
    "print(ptrain_score_array)\n",
    "print(ptest_score_array)"
   ]
  },
  {
   "cell_type": "code",
   "execution_count": 215,
   "id": "c4c7e84a",
   "metadata": {},
   "outputs": [
    {
     "data": {
      "image/png": "[encoded data removed]",
      "text/plain": [
       "<Figure size 1440x720 with 1 Axes>"
      ]
     },
     "metadata": {
      "needs_background": "light"
     },
     "output_type": "display_data"
    }
   ],
   "source": [
    "X_b = X_train[:50,9].reshape(-1,1)\n",
    "y_b = y_train[:50]\n",
    "poly = PolynomialFeatures(degree = 1)\n",
    "X_train_poly = poly.fit_transform(X_b)\n",
    "poly_reg = LinearRegression()\n",
    "poly_reg.fit(X_train_poly, y_b)\n",
    "plt.subplots(figsize = (20,10))\n",
    "X_new=np.linspace(X_b.min(), X_b.max(), 50).reshape(50, 1)\n",
    "plt.scatter(X_b, y_b)\n",
    "plt.plot(X_new , poly_reg.predict(poly.transform(X_new)), c = 'g', label = 'Polynomial regression')\n",
    "plt.show()"
   ]
  },
  {
   "cell_type": "markdown",
   "id": "95ce9f09",
   "metadata": {},
   "source": []
  },
  {
   "cell_type": "code",
   "execution_count": null,
   "id": "1904bc2a",
   "metadata": {},
   "outputs": [],
   "source": []
  }
 ],
 "metadata": {
  "kernelspec": {
   "display_name": "Python 3",
   "language": "python",
   "name": "python3"
  },
  "language_info": {
   "codemirror_mode": {
    "name": "ipython",
    "version": 3
   },
   "file_extension": ".py",
   "mimetype": "text/x-python",
   "name": "python",
   "nbconvert_exporter": "python",
   "pygments_lexer": "ipython3",
   "version": "3.9.6"
  }
 },
 "nbformat": 4,
 "nbformat_minor": 5
}
